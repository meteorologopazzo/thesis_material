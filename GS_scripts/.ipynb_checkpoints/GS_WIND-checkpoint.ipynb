{
 "cells": [
  {
   "cell_type": "code",
   "execution_count": null,
   "id": "87d6a2ed",
   "metadata": {},
   "outputs": [],
   "source": [
    "# I would like to study the climatology of wind speed and directions\n",
    "# drawing histograms or hodographs\n",
    "\n",
    "# Further, this could be linked to convective precipitation"
   ]
  },
  {
   "cell_type": "code",
   "execution_count": null,
   "id": "a236a772",
   "metadata": {},
   "outputs": [],
   "source": [
    "%load_ext autoreload\n",
    "%autoreload 2"
   ]
  },
  {
   "cell_type": "code",
   "execution_count": 1,
   "id": "f2cdc020",
   "metadata": {},
   "outputs": [],
   "source": [
    "from windrose import WindroseAxes\n",
    "import numpy as np\n",
    "import pandas as pd\n",
    "import glob\n",
    "import xarray as xr\n",
    "import matplotlib.pyplot as plt\n",
    "from scipy import stats\n",
    "\n",
    "import sys; sys.path.insert(1, '/home/alessandro/thesis_material')\n",
    "import os\n",
    "\n",
    "import geometry as gm\n",
    "#import conversion as cnv\n",
    "#from func_statistics import compute_pdf_nbin, slopes_r_p, slope_time, slope_maps\n",
    "#from coare_functions import *\n",
    "from meteo import wind_dir_speed\n",
    "import lcl\n",
    "import cartopy.crs as ccrs\n",
    "crs = ccrs.PlateCarree()\n",
    "#from plotmap import plot_background\n",
    "from plotdistr import fb_distribution_npoint, perc_distribution, scatterplot_fit, hist2d\n",
    "import warnings; warnings.filterwarnings(\"ignore\")"
   ]
  },
  {
   "cell_type": "code",
   "execution_count": 2,
   "id": "e6197b4b",
   "metadata": {},
   "outputs": [],
   "source": [
    "# find data\n",
    "path = '/saturn/simu_GS/output/'\n",
    "wrf_files = path + 'GS700_WRF_3h_surf.nc'\n",
    "#fname_list = sorted(glob.glob(wrf_files + '*'))"
   ]
  },
  {
   "cell_type": "code",
   "execution_count": null,
   "id": "24ceb1ce",
   "metadata": {},
   "outputs": [],
   "source": [
    "# open data - HOURLY\n",
    "ds_tot = xr.open_dataset(wrf_files)    #mfdataset(fname_list, concat_dim='Time', combine='nested')\n",
    "ds_hourly = ds_tot.sel(time_counter=slice('2005-12-01T00:30:00.000000000', '2006-03-01T00:30:00.000000000'))\n",
    "del ds_tot"
   ]
  },
  {
   "cell_type": "code",
   "execution_count": 8,
   "id": "1f2abec6",
   "metadata": {},
   "outputs": [],
   "source": [
    "# open data - DAILY\n",
    "wrf_files = path+'GS700_WRF_daily_3D.nc'\n",
    "ds_tot = xr.open_dataset(wrf_files)\n",
    "ds_daily = ds_tot.sel(time_counter=slice('2005-12-01T00:30:00.000000000', '2006-03-01T00:30:00.000000000'))\n",
    "del ds_tot"
   ]
  },
  {
   "cell_type": "code",
   "execution_count": 4,
   "id": "b16a3099",
   "metadata": {},
   "outputs": [],
   "source": [
    "# import mask\n",
    "if os.path.exists('/home/alessandro/thesis_material/GS_scripts/sea_mask_nobnd_GS.npy'):\n",
    "    sea_mask_nobnd = np.load('/home/alessandro/thesis_material/GS_scripts/sea_mask_nobnd_GS.npy')"
   ]
  },
  {
   "cell_type": "code",
   "execution_count": 9,
   "id": "686ef8f2",
   "metadata": {},
   "outputs": [],
   "source": [
    "U, V = ds_daily['U'], ds_daily['V']\n",
    "level = 0"
   ]
  },
  {
   "cell_type": "code",
   "execution_count": null,
   "id": "3036d913",
   "metadata": {},
   "outputs": [],
   "source": []
  },
  {
   "cell_type": "code",
   "execution_count": 10,
   "id": "2126da60",
   "metadata": {},
   "outputs": [],
   "source": [
    "wind_dir, wind_speed, wind_dir_flat_nan, wind_speed_flat_nan = wind_dir_speed(sea_mask_nobnd, U, V, level, interp=True)"
   ]
  },
  {
   "cell_type": "code",
   "execution_count": 13,
   "id": "840e6bc3",
   "metadata": {
    "scrolled": true
   },
   "outputs": [],
   "source": [
    "ax = WindroseAxes.from_ax()\n",
    "ax.bar(wind_dir_flat_nan, wind_speed_flat_nan, normed=True, opening=0.8, edgecolor='white', bins=10, nsector=15)  # bins=  , nsector=\n",
    "ax.set_legend(loc=0)\n",
    "ax.set_title('DJF frequency (%) climatology of wind direction and intensity [m/s]')\n",
    "\n",
    "plt.savefig('/venus/tesi_ale/img_GS/DJF_windrose.png')\n",
    "plt.close()"
   ]
  },
  {
   "cell_type": "code",
   "execution_count": null,
   "id": "43cf069b",
   "metadata": {},
   "outputs": [],
   "source": []
  },
  {
   "cell_type": "code",
   "execution_count": null,
   "id": "563dbe4a",
   "metadata": {},
   "outputs": [],
   "source": []
  },
  {
   "cell_type": "code",
   "execution_count": null,
   "id": "c553bbd6",
   "metadata": {},
   "outputs": [],
   "source": []
  },
  {
   "cell_type": "code",
   "execution_count": null,
   "id": "67ac06b5",
   "metadata": {},
   "outputs": [],
   "source": [
    "# understand how vertical levels work\n",
    "geop = (ds_daily['PHB'] + ds_daily['PH'])/9.81\n",
    "pres = (ds_daily['P'] + ds_daily['PB'])/100."
   ]
  },
  {
   "cell_type": "code",
   "execution_count": null,
   "id": "f265521b",
   "metadata": {},
   "outputs": [],
   "source": [
    "geop = (geop[0:-1, :,:] + geop[1:,:,:])*0.5"
   ]
  },
  {
   "cell_type": "code",
   "execution_count": null,
   "id": "900f4238",
   "metadata": {},
   "outputs": [],
   "source": [
    "sigma = pres[10,:,350,500]/pres[10,0,350,500]\n",
    "plt.plot(sigma, ds_daily.PB.values[:,350, 500]/100, '*')"
   ]
  },
  {
   "cell_type": "code",
   "execution_count": null,
   "id": "f3b5b362",
   "metadata": {},
   "outputs": [],
   "source": [
    "sigma[sigma>0.8]"
   ]
  }
 ],
 "metadata": {
  "kernelspec": {
   "display_name": "Python 3 (ipykernel)",
   "language": "python",
   "name": "python3"
  },
  "language_info": {
   "codemirror_mode": {
    "name": "ipython",
    "version": 3
   },
   "file_extension": ".py",
   "mimetype": "text/x-python",
   "name": "python",
   "nbconvert_exporter": "python",
   "pygments_lexer": "ipython3",
   "version": "3.7.11"
  }
 },
 "nbformat": 4,
 "nbformat_minor": 5
}
