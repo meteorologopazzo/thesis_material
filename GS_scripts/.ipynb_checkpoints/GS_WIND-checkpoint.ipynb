{
 "cells": [
  {
   "cell_type": "code",
   "execution_count": null,
   "id": "87d6a2ed",
   "metadata": {},
   "outputs": [],
   "source": [
    "# I would like to study the climatology of wind speed and directions\n",
    "# drawing histograms or hodographs\n",
    "\n",
    "# Further, this could be linked to convective precipitation"
   ]
  },
  {
   "cell_type": "code",
   "execution_count": null,
   "id": "a236a772",
   "metadata": {},
   "outputs": [],
   "source": [
    "%load_ext autoreload\n",
    "%autoreload 2"
   ]
  },
  {
   "cell_type": "code",
   "execution_count": null,
   "id": "f2cdc020",
   "metadata": {},
   "outputs": [],
   "source": [
    "import numpy as np\n",
    "import pandas as pd\n",
    "import glob\n",
    "import xarray as xr\n",
    "import matplotlib.pyplot as plt\n",
    "from scipy import stats\n",
    "\n",
    "import sys; sys.path.insert(1, '/home/alessandro/scripts')\n",
    "import os\n",
    "\n",
    "import geometry as gm\n",
    "#import conversion as cnv\n",
    "#from func_statistics import compute_pdf_nbin, slopes_r_p, slope_time, slope_maps\n",
    "#from coare_functions import *\n",
    "import meteo\n",
    "import lcl\n",
    "import cartopy.crs as ccrs\n",
    "crs = ccrs.PlateCarree()\n",
    "#from plotmap import plot_background\n",
    "from plotdistr import fb_distribution_npoint, perc_distribution, scatterplot_fit, hist2d\n",
    "import warnings; warnings.filterwarnings(\"ignore\")"
   ]
  },
  {
   "cell_type": "code",
   "execution_count": null,
   "id": "e6197b4b",
   "metadata": {},
   "outputs": [],
   "source": [
    "# find data\n",
    "path = '/mercury/Fabien/GS'\n",
    "wrf_files = path + '/GS700_WRF_3h_surf.nc'\n",
    "#fname_list = sorted(glob.glob(wrf_files + '*'))"
   ]
  },
  {
   "cell_type": "code",
   "execution_count": null,
   "id": "24ceb1ce",
   "metadata": {},
   "outputs": [],
   "source": [
    "# open data - HOURLY\n",
    "ds_tot = xr.open_dataset(wrf_files)    #mfdataset(fname_list, concat_dim='Time', combine='nested')\n",
    "ds_hourly = ds_tot.sel(time_counter=slice('2005-12-01T00:30:00.000000000', '2006-03-01T00:30:00.000000000'))\n",
    "del ds_tot"
   ]
  },
  {
   "cell_type": "code",
   "execution_count": null,
   "id": "1f2abec6",
   "metadata": {},
   "outputs": [],
   "source": [
    "# open data - DAILY\n",
    "wrf_files = path+'/GS700_WRF_daily_3D.nc'\n",
    "ds_tot = xr.open_dataset(wrf_files)\n",
    "ds_daily = ds_tot.sel(time_counter=slice('2005-12-01T00:30:00.000000000', '2006-03-01T00:30:00.000000000'))\n",
    "del ds_tot"
   ]
  }
 ],
 "metadata": {
  "kernelspec": {
   "display_name": "Python 3 (ipykernel)",
   "language": "python",
   "name": "python3"
  },
  "language_info": {
   "codemirror_mode": {
    "name": "ipython",
    "version": 3
   },
   "file_extension": ".py",
   "mimetype": "text/x-python",
   "name": "python",
   "nbconvert_exporter": "python",
   "pygments_lexer": "ipython3",
   "version": "3.7.11"
  }
 },
 "nbformat": 4,
 "nbformat_minor": 5
}
