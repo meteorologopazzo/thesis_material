{
 "cells": [
  {
   "cell_type": "code",
   "execution_count": 1,
   "id": "690a1a54",
   "metadata": {},
   "outputs": [],
   "source": [
    "import numpy as np\n",
    "import pandas as pd\n",
    "import glob\n",
    "import xarray as xr\n",
    "import matplotlib.pyplot as plt\n",
    "from scipy import stats\n",
    "\n",
    "import sys; sys.path.insert(1, '/home/alessandro/thesis_material')\n",
    "import os\n",
    "\n",
    "import geometry as gm\n",
    "#import conversion as cnv\n",
    "#from func_statistics import compute_pdf_nbin, slopes_r_p, slope_time, slope_maps\n",
    "#from coare_functions import *\n",
    "import meteo\n",
    "import lcl\n",
    "import metpy.calc as mpcalc\n",
    "from metpy.units import units\n",
    "\n",
    "import cartopy.crs as ccrs\n",
    "crs = ccrs.PlateCarree()\n",
    "#from plotmap import plot_background\n",
    "\n",
    "from plotdistr import * #fb_distribution_npoint, perc_distribution, scatterplot_fit, hist2d\n",
    "from pdist_fb_distrib_fast import *\n",
    "\n",
    "import warnings; warnings.filterwarnings(\"ignore\")"
   ]
  },
  {
   "cell_type": "code",
   "execution_count": 2,
   "id": "9a8c6fde",
   "metadata": {},
   "outputs": [],
   "source": [
    "%load_ext autoreload\n",
    "%autoreload 2"
   ]
  },
  {
   "cell_type": "code",
   "execution_count": 3,
   "id": "5bfeb84f",
   "metadata": {},
   "outputs": [],
   "source": [
    "# find data\n",
    "path = '/saturn/simu_GS/output/'\n",
    "# GS700_WRF_3h_surf.nc*  GS700_WRF_daily_3D.nc*\n",
    "\n",
    "\n",
    "# files_ls = ['QCLOUD', 'U', 'V', 'W', 'OLR', 'PH', 'PHB', 'QVAPOR', 'PB', 'P', 'T']\n",
    "# files_ls = [name + '.nc' for name in files_ls]\n",
    "# wrf_files = [path+name for name in files_ls]\n",
    "#fname_list = sorted(glob.glob(wrf_files + '*'))"
   ]
  },
  {
   "cell_type": "code",
   "execution_count": 4,
   "id": "dd3ee95d",
   "metadata": {},
   "outputs": [],
   "source": [
    "# import sea_mask\n",
    "if os.path.exists('/home/alessandro/thesis_material/EURECA_scripts/sea_mask_nobnd_EU.npy'):\n",
    "    sea_mask = np.load('/home/alessandro/thesis_material/EURECA_scripts/sea_mask_nobnd_EU.npy')"
   ]
  },
  {
   "cell_type": "code",
   "execution_count": 7,
   "id": "f97b36df",
   "metadata": {},
   "outputs": [],
   "source": [
    "wrf_hourly = path + 'Caraibes_WRF_3h_surf.nc'\n",
    "ds_hourly = xr.open_dataset(wrf_hourly)\n",
    "ds_hourly = ds_hourly.sel(time_counter=slice('2020-02-01T01:30:00.000000000', '2020-03-01T01:30:00.000000000'))\n"
   ]
  },
  {
   "cell_type": "code",
   "execution_count": 6,
   "id": "48820aae",
   "metadata": {},
   "outputs": [],
   "source": [
    "# daily varaibles\n",
    "# select sst, q2, U, PBLH\n",
    "sst_day = ds_hourly['SST'].sel(time_counter=slice('2020-02-01T01:30:00.000000000', '2020-03-01T01:30:00.000000000'))\n",
    "sst_day = sst_day.groupby('time_counter.day').mean()            \n",
    "sst_day = sst_day.where(sea_mask, drop=False).values;                \n",
    "\n",
    "'''q2_day = ds_hourly['Q2'].sel(time_counter=slice('2020-02-01T01:30:00.000000000', '2020-03-01T01:30:00.000000000'))\n",
    "q2_day = q2_day.groupby('time_counter.day').mean()\n",
    "q2_day = q2_day.where(sea_mask, drop=False).values; '''                 \n",
    "\n",
    "PBLH_day = ds_hourly['PBLH'].sel(time_counter=slice('2020-02-01T01:30:00.000000000', '2020-03-01T01:30:00.000000000'))\n",
    "PBLH_day = PBLH_day.groupby('time_counter.day').mean()\n",
    "PBLH_day = PBLH_day.where(sea_mask, drop=False).values;             \n",
    "\n",
    "T2_day = ds_hourly['T2'].sel(time_counter=slice('2020-02-01T01:30:00.000000000', '2020-03-01T01:30:00.000000000'))\n",
    "T2_day = T2_day.groupby('time_counter.day').mean()\n",
    "T2_day = T2_day.where(sea_mask, drop=False).values;"
   ]
  },
  {
   "cell_type": "code",
   "execution_count": null,
   "id": "9317be74",
   "metadata": {},
   "outputs": [],
   "source": [
    "#buoyancy = sst_day - T2_day"
   ]
  },
  {
   "cell_type": "code",
   "execution_count": 5,
   "id": "03fad753",
   "metadata": {},
   "outputs": [],
   "source": [
    "# retrieving pressure field\n",
    "\n",
    "pres_base = xr.open_dataset(wrf_files[files_ls.index('PB.nc')])\n",
    "pres_base = pres_base['PB']\n",
    "pres_base = pres_base[0,:,:]\n",
    "\n",
    "pres = xr.open_dataset(wrf_files[files_ls.index('P.nc')]);  pres = pres['P']\n",
    "pres = pres.sel(time_counter=slice('2020-02-01T01:30:00.000000000', '2020-03-01T01:30:00.000000000'))\n",
    "pres = (pres+pres_base)/100.\n",
    "#pres = pres.groupby('time_counter.day').mean()\n",
    "\n",
    "\n",
    "pres = pres.where(sea_mask, drop=False)\n",
    "\n",
    "\n",
    "del pres_base"
   ]
  },
  {
   "cell_type": "code",
   "execution_count": 11,
   "id": "3176af3d",
   "metadata": {},
   "outputs": [],
   "source": [
    "# retrieving pressure at surface level\n",
    "pres_sfc = pres[:,0,:,:]\n",
    "pres_sfc = pres_sfc.where(sea_mask, drop=False)\n",
    "pres_sfc = pres_sfc.groupby('time_counter.day').mean()"
   ]
  },
  {
   "cell_type": "code",
   "execution_count": 8,
   "id": "c15191f1",
   "metadata": {},
   "outputs": [],
   "source": [
    "# def lon lat time\n",
    "lonlon = ds_hourly['nav_lon'].values;  lon = lonlon[0,:]\n",
    "latlat = ds_hourly['nav_lat'].values;  lat = latlat[:,0]\n",
    "time = ds_hourly['time_counter'].values.astype('<M8[s]')"
   ]
  },
  {
   "cell_type": "markdown",
   "id": "e32f0c0f",
   "metadata": {},
   "source": [
    "COMPUTE LCL WITH lcl.py"
   ]
  },
  {
   "cell_type": "code",
   "execution_count": 34,
   "id": "c800dc87",
   "metadata": {},
   "outputs": [],
   "source": [
    "# compute surface saturation specific humidity\n",
    "rh_day_sea = meteo.rhcalc(T2_day-273.15, pres_sfc, q2_day)/100.        # in meteo.py, they multiplied by 100\n",
    "\n",
    "# compute lcl with loops\n",
    "LCL_day_sea = np.zeros_like(rh_day_sea)\n",
    "\n",
    "# vectorize lcl function!\n",
    "vectorized_lcl = np.vectorize(lcl.lcl)\n",
    "LCL_day_sea = vectorized_lcl(pres_sfc*100, T2_day, rh_day_sea)\n"
   ]
  },
  {
   "cell_type": "code",
   "execution_count": 35,
   "id": "240fd1ba",
   "metadata": {},
   "outputs": [],
   "source": [
    "# compute anomalies daily data\n",
    "s = 100\n",
    "\n",
    "# analyze average behaviours as well\n",
    "'''sst_day_ave = np.zeros(sst_day_sea.shape)\n",
    "PBLH_day_ave = np.zeros(PBLH_day_sea.shape)\n",
    "LCL_day_ave = np.zeros(LCL_day_sea.shape)'''\n",
    "#buoya_ave = np.zeros(buoyancy.shape)\n",
    "\n",
    "# initialize anomalies\n",
    "dsst_day = np.zeros(sst_day.shape)\n",
    "dPBLH_day = np.zeros(PBLH_day.shape)\n",
    "dLCL_day = np.zeros(LCL_day_sea.shape)\n",
    "#dbuoya_day = np.zeros(buoyancy.shape)"
   ]
  },
  {
   "cell_type": "code",
   "execution_count": 36,
   "id": "a58ef5a1",
   "metadata": {},
   "outputs": [
    {
     "name": "stdout",
     "output_type": "stream",
     "text": [
      "0\n",
      "10\n",
      "20\n"
     ]
    },
    {
     "data": {
      "text/plain": [
       "'buoya_ave[np.isinf(buoya_ave)] = np.nan         # WHY DOESNT IT WORK ALRWEADY IN THE FILTER?\\ndbuoya_day[np.isinf(dbuoya_day)] = np.nan'"
      ]
     },
     "execution_count": 36,
     "metadata": {},
     "output_type": "execute_result"
    }
   ],
   "source": [
    "# actual computation of smoothed fields\n",
    "\n",
    "for t in range(0,sst_day.shape[0]):\n",
    "    if t % 10 == 0:\n",
    "        print(t)\n",
    "    # upscale using gaussian filter\n",
    "    sst_day_ave = gm.nan_gaussian_filter(sst_day[t],s)          \n",
    "    dsst_day[t] = sst_day[t] - sst_day_ave\n",
    "    \n",
    "    PBLH_day_ave = gm.nan_gaussian_filter(PBLH_day[t],s)        \n",
    "    dPBLH_day[t] = PBLH_day[t] - PBLH_day_ave\n",
    "    \n",
    "    LCL_day_ave = gm.nan_gaussian_filter(LCL_day_sea[t],s)          \n",
    "    dLCL_day[t] = LCL_day_sea[t] - LCL_day_ave\n",
    "    \n",
    "    '''buoya_ave[t] = gm.nan_gaussian_filter(buoyancy[t],s)\n",
    "    dbuoya_day[t] = buoyancy[t] - buoya_ave[t]'''\n",
    "\n",
    "'''buoya_ave[np.isinf(buoya_ave)] = np.nan         # WHY DOESNT IT WORK ALRWEADY IN THE FILTER?\n",
    "dbuoya_day[np.isinf(dbuoya_day)] = np.nan'''"
   ]
  },
  {
   "cell_type": "code",
   "execution_count": null,
   "id": "764daa00",
   "metadata": {},
   "outputs": [],
   "source": [
    "'''buoya_ave[np.isinf(buoya_ave)] = np.nan\n",
    "np.any( np.isinf(buoya_ave) )\n",
    "\n",
    "# 2 3 4 15 and 16 have inf values\n",
    "plt.contourf(np.isinf(buoya_ave)[3] )\n",
    "plt.colorbar()'''"
   ]
  },
  {
   "cell_type": "code",
   "execution_count": null,
   "id": "82f67b58",
   "metadata": {},
   "outputs": [],
   "source": [
    "# CHECKING BEHAVIOURA WITH BUOYANCY\n",
    "\n",
    "#  !!!!!!!!! BUOYA_AVE HAS -INF VALUES!!!!!!!"
   ]
  },
  {
   "cell_type": "code",
   "execution_count": 24,
   "id": "ffc305c2",
   "metadata": {},
   "outputs": [],
   "source": [
    "# DISTRIBUTION PBLH_ave / LCL_ave vs SST_ave bin - DAILY\n",
    "perc_step = 5\n",
    "nbins = int(100/perc_step) # Number of bins"
   ]
  },
  {
   "cell_type": "code",
   "execution_count": 37,
   "id": "26fb56c2",
   "metadata": {},
   "outputs": [],
   "source": [
    "# PERC DISTRIBUTION\n",
    "x = dsst_day.copy()\n",
    "x = np.array(x)\n",
    "control = x.reshape(-1)\n",
    "\n",
    "##### Perc distribution: PBLH\n",
    "# returns:   pdist_control , pdist_var  ,  std deviation  ,   std error \n",
    "\n",
    "y = dPBLH_day[:,:,:].copy()\n",
    "y = np.array(y)\n",
    "variable = y.reshape(-1)\n",
    "pdist_dsst, pdist_dPBLH_dsst, pstd_dPBLH_dsst, pstd_err_dPBLH_dsst = perc_distribution(control, variable, nbins, perc_step)\n",
    "# pdist_control , pdist_var  ,  std deviation  ,   std error \n",
    "\n",
    "\n",
    "##### Perc distribution: LCL\n",
    "y = dLCL_day[:,:,:].copy()\n",
    "y = np.array(y)\n",
    "variable = y.reshape(-1)\n",
    "pdist_dsst, pdist_dLCL_dsst, pstd_dLCL_dsst, pstd_err_dLCL_dsst = perc_distribution(control, variable, nbins, perc_step)"
   ]
  },
  {
   "cell_type": "code",
   "execution_count": 38,
   "id": "1836d614",
   "metadata": {},
   "outputs": [],
   "source": [
    "# FIXED BIN DISTRIBUTION\n",
    "x = dsst_day.copy()\n",
    "x = np.array(x)\n",
    "control = x.reshape(-1)\n",
    "\n",
    "##### Fixed bin distribution: PBLH\n",
    "# returns:   dist_control , dist_var  ,  std dev of mean  , num of points per bin\n",
    "\n",
    "y = dPBLH_day[:,:,:].copy()\n",
    "y = np.array(y)\n",
    "variable = y.reshape(-1)\n",
    "dist_dsst, dist_dPBLH_dsst, std_dPBLH_dsst, npoints_PBLH = fb_distribution_npoint(control, variable, nbins, perc_step)\n",
    "\n",
    "##### Fixed bin distribution: LCL\n",
    "y = dLCL_day[:,:,:].copy()\n",
    "y = np.array(y)\n",
    "variable = y.reshape(-1)\n",
    "dist_dsst, dist_dLCL_dsst, std_dLCL_dsst, npoints_LCL = fb_distribution_npoint(control, variable, nbins, perc_step)"
   ]
  },
  {
   "cell_type": "code",
   "execution_count": 39,
   "id": "c4622b22",
   "metadata": {},
   "outputs": [
    {
     "data": {
      "text/plain": [
       "False"
      ]
     },
     "execution_count": 39,
     "metadata": {},
     "output_type": "execute_result"
    }
   ],
   "source": [
    "np.all(np.isnan(LCL_day_sea))"
   ]
  },
  {
   "cell_type": "code",
   "execution_count": 47,
   "id": "76bc52ce",
   "metadata": {},
   "outputs": [
    {
     "data": {
      "image/png": "[encoded data removed]",
      "text/plain": [
       "<Figure size 640x480 with 2 Axes>"
      ]
     },
     "metadata": {},
     "output_type": "display_data"
    }
   ],
   "source": [
    "###### Figure\n",
    "'''fig = plt.figure(figsize=(6., 6.), constrained_layout=True)\n",
    "spec = fig.add_gridspec(4, 4)\n",
    "ax1 = fig.add_subplot(spec[1:, :3]) # 2d distributions.'''\n",
    "\n",
    "fig, ax = plt.subplots(1,2)\n",
    "\n",
    "# PERCENTILES\n",
    "ax[0].plot(pdist_dsst, pdist_dPBLH_dsst, '.-',color='b', label='PBLH')\n",
    "ax[0].plot(pdist_dsst, pdist_dLCL_dsst, '.-',color='firebrick', label='LCL')\n",
    "ax[0].legend()\n",
    "\n",
    "ax[0].set_ylabel('height anoms [m]', fontsize=12); ax[0].set_xlabel('SST-SAT [˚C]', fontsize=12); \n",
    "ax[0].grid(); ax[0].set_title('PDist')\n",
    "\n",
    "\n",
    "# FIXED BINS\n",
    "ax[1].plot(dist_dsst, dist_dPBLH_dsst, '.-',color='b', label='PBLH')\n",
    "ax[1].plot(dist_dsst, dist_dLCL_dsst, '.-',color='firebrick', label='LCL')\n",
    "ax[1].legend()\n",
    "\n",
    "#ax[1].set_ylabel('height [m]', fontsize=12); \n",
    "ax[1].set_xlabel('SST anoms [˚C]', fontsize=12); \n",
    "ax[1].grid(); ax[1].set_title('Bins')\n",
    "\n",
    "\n",
    "fig.suptitle('High-passed PBLH and LCL vs SST - GS')\n",
    "\n",
    "plt.subplots_adjust(wspace=0.4, \n",
    "                    hspace=0.3)\n",
    "\n",
    "\n",
    "#plt.savefig('/venus/tesi_ale/img_EU/PBLH-LCL/dPBLH_dLCL_vs_dSST.png')\n"
   ]
  },
  {
   "cell_type": "code",
   "execution_count": null,
   "id": "8a93079b",
   "metadata": {},
   "outputs": [],
   "source": []
  },
  {
   "cell_type": "code",
   "execution_count": null,
   "id": "c8072bad",
   "metadata": {},
   "outputs": [],
   "source": []
  },
  {
   "cell_type": "code",
   "execution_count": null,
   "id": "f7c0c33f",
   "metadata": {},
   "outputs": [],
   "source": []
  },
  {
   "cell_type": "code",
   "execution_count": null,
   "id": "3d0f1998",
   "metadata": {},
   "outputs": [],
   "source": [
    "# CHECKING BEHAVIOURS OF AVERAGE FIELDS"
   ]
  },
  {
   "cell_type": "code",
   "execution_count": null,
   "id": "31287802",
   "metadata": {},
   "outputs": [],
   "source": [
    "# DISTRIBUTION PBLH_ave / LCL_ave vs SST_ave bin - DAILY\n",
    "perc_step = 5\n",
    "nbins = int(100/perc_step) # Number of bins"
   ]
  },
  {
   "cell_type": "code",
   "execution_count": null,
   "id": "1a92793a",
   "metadata": {},
   "outputs": [],
   "source": [
    "# PERC DISTRIBUTION\n",
    "x = sst_day_ave.copy()\n",
    "control = x.reshape(-1)\n",
    "\n",
    "##### Perc distribution: PBLH\n",
    "# returns:   pdist_control , pdist_var  ,  std deviation  ,   std error \n",
    "\n",
    "y = PBLH_day_ave[:,:,:].copy()\n",
    "variable = y.reshape(-1)\n",
    "pdist_sst_ave, pdist_PBLH_sst_ave, pstd_PBLH_sst_ave, pstd_err_PBLH_sst_ave = perc_distribution(control, variable, nbins, perc_step)\n",
    "# pdist_control , pdist_var  ,  std deviation  ,   std error \n",
    "\n",
    "\n",
    "##### Perc distribution: LCL\n",
    "y = LCL_day_ave[:,:,:].copy()\n",
    "variable = y.reshape(-1)\n",
    "pdist_sst_ave, pdist_LCL_sst_ave, pstd_LCL_sst_ave, pstd_err_LCL_sst_ave = perc_distribution(control, variable, nbins, perc_step)"
   ]
  },
  {
   "cell_type": "code",
   "execution_count": null,
   "id": "e09a1e29",
   "metadata": {},
   "outputs": [],
   "source": [
    "# FIXED BIN DISTRIBUTION\n",
    "x = sst_day_ave.copy()\n",
    "control = x.reshape(-1)\n",
    "\n",
    "##### Fixed bin distribution: PBLH\n",
    "# returns:   dist_control , dist_var  ,  std dev of mean  , num of points per bin\n",
    "\n",
    "y = PBLH_day_ave[:,:,:].copy()\n",
    "variable = y.reshape(-1)\n",
    "dist_sst_ave, dist_PBLH_sst_ave, std_PBLH_sst_ave, npoints_PBLH = fb_distribution_npoint(control, variable, nbins, perc_step)\n",
    "\n",
    "##### Fixed bin distribution: LCL\n",
    "y = LCL_day_ave[:,:,:].copy()\n",
    "variable = y.reshape(-1)\n",
    "dist_sst_ave, dist_LCL_sst_ave, std_LCL_sst_ave, npoints_LCL = fb_distribution_npoint(control, variable, nbins, perc_step)"
   ]
  },
  {
   "cell_type": "code",
   "execution_count": null,
   "id": "e59852b5",
   "metadata": {},
   "outputs": [],
   "source": [
    "dist_PBLH_sst_ave"
   ]
  },
  {
   "cell_type": "code",
   "execution_count": null,
   "id": "d447fbce",
   "metadata": {},
   "outputs": [],
   "source": [
    "###### Figure\n",
    "'''fig = plt.figure(figsize=(6., 6.), constrained_layout=True)\n",
    "spec = fig.add_gridspec(4, 4)\n",
    "ax1 = fig.add_subplot(spec[1:, :3]) # 2d distributions.'''\n",
    "\n",
    "fig, ax = plt.subplots(1,2)\n",
    "\n",
    "# PERCENTILES\n",
    "ax[0].plot(pdist_sst_ave-273.15, pdist_PBLH_sst_ave, '.-',color='b', label='PBLH')\n",
    "ax[0].plot(pdist_sst_ave-273.15, pdist_LCL_sst_ave, '.-',color='firebrick', label='LCL')\n",
    "ax[0].legend()\n",
    "\n",
    "ax[0].set_ylabel('height [m]', fontsize=12); ax[0].set_xlabel('SST [˚C]', fontsize=12); \n",
    "ax[0].grid(); ax[0].set_title('PDist, average fields')\n",
    "\n",
    "\n",
    "# FIXED BINS\n",
    "ax[1].plot(dist_sst_ave-273.15, dist_PBLH_sst_ave, '.-',color='b', label='PBLH')\n",
    "ax[1].plot(dist_sst_ave-273.15, dist_LCL_sst_ave, '.-',color='firebrick', label='LCL')\n",
    "ax[1].legend()\n",
    "\n",
    "#ax[1].set_ylabel('height [m]', fontsize=12); \n",
    "ax[1].set_xlabel('SST [˚C]', fontsize=12); \n",
    "ax[1].grid(); ax[1].set_title('Fixed bins, average fields')\n",
    "\n",
    "\n",
    "plt.subplots_adjust(wspace=0.4, \n",
    "                    hspace=0.3)\n",
    "\n",
    "\n",
    "#plt.savefig('/home/alessandro/prove/primi_plot/pbl_mask/average_PBL_LCL')\n"
   ]
  },
  {
   "cell_type": "code",
   "execution_count": null,
   "id": "a75f0785",
   "metadata": {},
   "outputs": [],
   "source": []
  },
  {
   "cell_type": "code",
   "execution_count": null,
   "id": "499d1992",
   "metadata": {},
   "outputs": [],
   "source": []
  },
  {
   "cell_type": "code",
   "execution_count": null,
   "id": "86b3a8f5",
   "metadata": {},
   "outputs": [],
   "source": []
  },
  {
   "cell_type": "code",
   "execution_count": null,
   "id": "073cd2b4",
   "metadata": {},
   "outputs": [],
   "source": []
  },
  {
   "cell_type": "code",
   "execution_count": null,
   "id": "b1a60cef",
   "metadata": {},
   "outputs": [],
   "source": []
  },
  {
   "cell_type": "code",
   "execution_count": null,
   "id": "65235109",
   "metadata": {},
   "outputs": [],
   "source": [
    "# # DISTRIBUTION PBLH/LCL vs SST bin - DAILY\n",
    "# DONE ABOVE"
   ]
  },
  {
   "cell_type": "code",
   "execution_count": null,
   "id": "f110b41b",
   "metadata": {},
   "outputs": [],
   "source": [
    "# DISTRIBUTION PBLH/LCL vs SST bin - DAILY\n",
    "perc_step = 5\n",
    "nbins = int(100/perc_step) # Number of bins"
   ]
  },
  {
   "cell_type": "code",
   "execution_count": null,
   "id": "e77c18af",
   "metadata": {},
   "outputs": [],
   "source": [
    "# PERC DISTRIBUTION\n",
    "x = sst_day.copy()\n",
    "control = x.reshape(-1)\n",
    "\n",
    "##### Perc distribution: PBLH\n",
    "y = PBLH_day[:,:,:].copy()\n",
    "variable = y.reshape(-1)\n",
    "pdist_sst, pdist_PBLH, pstd_PBLH, pstd_err_PBLH = perc_distribution(control, variable, nbins, perc_step)\n",
    "\n",
    "##### Perc distribution: LCL\n",
    "y = LCL_day[:,:,:].copy()\n",
    "variable = y.reshape(-1)\n",
    "pdist_sst, pdist_LCL, pstd_LCL, pstd_err_LCL = perc_distribution(control, variable, nbins, perc_step)"
   ]
  },
  {
   "cell_type": "code",
   "execution_count": null,
   "id": "11c7836d",
   "metadata": {},
   "outputs": [],
   "source": [
    "# FIXED BIN DISTRIBUTION\n",
    "x = sst_day.copy()\n",
    "control = x.reshape(-1)\n",
    "##### Fixed bin distribution: PBLH\n",
    "y = PBLH_day[:,:,:].copy()\n",
    "variable = y.reshape(-1)\n",
    "dist_sst, dist_PBLH, std_err_PBLH, npoint_PBLH = fb_distribution_npoint(control, variable, nbins, perc_step)\n",
    "##### Fixed bin distribution: LCL\n",
    "y = LCL_day[:,:,:].copy()\n",
    "variable = y.reshape(-1)\n",
    "dist_sst, dist_LCL, std_err_LCL, npoint_LCL = fb_distribution_npoint(control, variable, nbins, perc_step)"
   ]
  },
  {
   "cell_type": "code",
   "execution_count": null,
   "id": "dfce59ad",
   "metadata": {},
   "outputs": [],
   "source": [
    "###### Figure\n",
    "'''fig = plt.figure(figsize=(6., 6.), constrained_layout=True)\n",
    "spec = fig.add_gridspec(4, 4)\n",
    "ax1 = fig.add_subplot(spec[1:, :3]) # 2d distributions.'''\n",
    "\n",
    "fig, ax = plt.subplots(2,2)    # (ax1, ax2, ax3, ax4)\n",
    "#fig.tight_layout(pad=3.0)\n",
    "\n",
    "ax[0,0].plot(pdist_sst-273.15, pdist_PBLH, '.',color='b', label='PBLH')\n",
    "ax[0,0].plot(pdist_sst-273.15, pdist_LCL, '.',color='firebrick', label='LCL')\n",
    "ax[0,0].legend()\n",
    "ax[0,0].set_title('PDist daily, perc_step=5')\n",
    "ax[0,0].set_ylabel('height [m]', fontsize=12); #ax[0,0].set_xlabel('SST [˚C]', fontsize=12); \n",
    "ax[0,0].grid()\n",
    "\n",
    "\n",
    "ax[1,0].plot(pdist_sst-273.15, pdist_PBLH-pdist_LCL, '.-', color='r', mfc='none')\n",
    "ax[1,0].set_title('PDist, PBLH-LCL')\n",
    "ax[1,0].set_ylabel('height difference [m]', fontsize=12); \n",
    "ax[1,0].set_xlabel('SST [˚C]', fontsize=12); \n",
    "ax[1,0].grid()\n",
    "\n",
    "\n",
    "\n",
    "ax[0,1].plot(dist_sst-273.15, dist_PBLH, '.', color='b', label='PBLH')\n",
    "ax[0,1].plot(dist_sst-273.15, dist_LCL, '.', color='firebrick', label='LCL')\n",
    "ax[0,1].legend()    #([dist_PBLH,dist_LCL], ['PBLH','LCL'])\n",
    "ax[0,1].set_title(f'Fixed bins daily, {nbins} bins')\n",
    "#ax[0,1].set_ylabel('height [m]', fontsize=12)\n",
    "#ax[0,1].set_xlabel('SST [˚C]', fontsize=12); \n",
    "ax[0,1].grid()\n",
    "\n",
    "\n",
    "ax[1,1].plot(dist_sst-273.15, dist_PBLH-dist_LCL, '.-', color='g', mfc='none')\n",
    "ax[1,1].set_title('Fixed bins, PBLH-LCL')\n",
    "#ax[1,1].set_ylabel('height difference [m]', fontsize=12)\n",
    "ax[1,1].set_xlabel('SST [˚C]', fontsize=12); \n",
    "ax[1,1].grid()\n",
    "\n",
    "\n",
    "plt.subplots_adjust(wspace=0.4, \n",
    "                    hspace=0.35)\n",
    "\n",
    "#plt.savefig('/home/alessandro/prove/primi_plot/PBLH_LCL/PBLH_LCL_good/small_dom/small_PBLH_LCL_vs_SST')\n",
    "\n",
    "#ax1.set_ylabel('height [m]', fontsize=12); ax1.set_xlabel('SST [˚C]', fontsize=12); ax1.grid()\n",
    "#plt.xlim([ pdist_sst[0]-273.15 - (pdist_sst[1]-pdist_sst[0]),pdist_sst[-1]-273.15 + (pdist_sst[1]-pdist_sst[0]) ])"
   ]
  },
  {
   "cell_type": "code",
   "execution_count": null,
   "id": "8cf5c5be",
   "metadata": {},
   "outputs": [],
   "source": [
    "# PERC DISTRIBUTION\n",
    "path_bindist = '/home/matteo/Eureca/COARE35/Results/acquistapace_bindist/perc_dist/daily/'\n",
    "# np.savetxt(path_bindist + 'pdist_sst_day.txt', pdist_sst)\n",
    "np.savetxt(path_bindist + 'pdist_PBLH_sst_day.txt', pdist_PBLH)\n",
    "np.savetxt(path_bindist + 'pdist_LCL_sst_day.txt', pdist_LCL)\n",
    "np.savetxt(path_bindist + 'pstd_PBLH_sst_day.txt', pstd_PBLH)\n",
    "np.savetxt(path_bindist + 'pstd_LCL_sst_day.txt', pstd_LCL)"
   ]
  },
  {
   "cell_type": "code",
   "execution_count": null,
   "id": "c7471cd8",
   "metadata": {},
   "outputs": [],
   "source": [
    "# FB DISTRIBUTION (no point threshold)\n",
    "path_bindist = '/home/matteo/Eureca/COARE35/Results/acquistapace_bindist/fb_dist/daily/fullfield/'\n",
    "np.savetxt(path_bindist + 'dist_sst_day.txt', dist_sst)\n",
    "np.savetxt(path_bindist + 'dist_PBLH_sst_day.txt', dist_PBLH)\n",
    "np.savetxt(path_bindist + 'dist_LCL_sst_day.txt', dist_LCL)\n",
    "np.savetxt(path_bindist + 'std_err_PBLH_sst_day.txt', std_err_PBLH)\n",
    "np.savetxt(path_bindist + 'std_err_LCL_sst_day.txt', std_err_LCL)\n",
    "np.savetxt(path_bindist + 'npoint_PBLH_sst_day.txt', npoint_PBLH)\n",
    "np.savetxt(path_bindist + 'npoint_LCL_sst_day.txt', npoint_LCL)"
   ]
  },
  {
   "cell_type": "code",
   "execution_count": null,
   "id": "f0917b4f",
   "metadata": {},
   "outputs": [],
   "source": []
  },
  {
   "cell_type": "code",
   "execution_count": null,
   "id": "e1f47da8",
   "metadata": {},
   "outputs": [],
   "source": []
  },
  {
   "cell_type": "code",
   "execution_count": null,
   "id": "be511d3f",
   "metadata": {},
   "outputs": [],
   "source": []
  },
  {
   "cell_type": "code",
   "execution_count": null,
   "id": "435347c3",
   "metadata": {},
   "outputs": [],
   "source": []
  },
  {
   "cell_type": "code",
   "execution_count": null,
   "id": "bcd170f2",
   "metadata": {},
   "outputs": [],
   "source": [
    "# DISTRIBUTION PBLH/LCL vs dSST bin - DAILY\n",
    "perc_step = 5\n",
    "nbins = int(100/perc_step) # Number of bins"
   ]
  },
  {
   "cell_type": "code",
   "execution_count": 42,
   "id": "627d7e43",
   "metadata": {},
   "outputs": [],
   "source": [
    "# PERC DISTRIBUTION\n",
    "x = dsst_day.copy()\n",
    "control = x.reshape(-1)\n",
    "\n",
    "##### Perc distribution: PBLH\n",
    "y = PBLH_day[:,:,:].copy()\n",
    "variable = y.reshape(-1)\n",
    "pdist_dsst, pdist_PBLH_dsst, pstd_PBLH_dsst, pstd_err_PBLH_dsst = perc_distribution(control, variable, nbins, perc_step)\n",
    "\n",
    "##### Perc distribution: LCL\n",
    "y = LCL_day_sea[:,:,:].copy()\n",
    "variable = y.reshape(-1)\n",
    "pdist_dsst, pdist_LCL_dsst, pstd_LCL_dsst, pstd_err_LCL_dsst = perc_distribution(control, variable, nbins, perc_step)"
   ]
  },
  {
   "cell_type": "code",
   "execution_count": 43,
   "id": "ea1606ff",
   "metadata": {},
   "outputs": [],
   "source": [
    "# FIXED BIN DISTRIBUTION\n",
    "x = dsst_day.copy()\n",
    "control = x.reshape(-1)\n",
    "\n",
    "##### Fixed bin distribution: PBLH\n",
    "y = PBLH_day[:,:,:].copy()\n",
    "variable = y.reshape(-1)\n",
    "dist_dsst, dist_PBLH_dsst, std_err_PBLH_dsst, npoint_PBLH_dsst = fb_distribution_npoint(control, variable, nbins, perc_step)\n",
    "\n",
    "##### Fixed bin distribution: LCL\n",
    "y = LCL_day_sea[:,:,:].copy()\n",
    "variable = y.reshape(-1)\n",
    "dist_dsst, dist_LCL_dsst, std_err_LCL_dsst, npoint_LCL_dsst = fb_distribution_npoint(control, variable, nbins, perc_step)"
   ]
  },
  {
   "cell_type": "code",
   "execution_count": 46,
   "id": "18b61fe6",
   "metadata": {},
   "outputs": [
    {
     "data": {
      "text/plain": [
       "\"ax1.set_ylabel('height [m]', fontsize=12); ax1.set_xlabel('SST anomalies [˚C]', fontsize=12); ax1.grid()\\nplt.xlim([ pdist_dsst[0] - (pdist_dsst[1]-pdist_dsst[0]),pdist_dsst[-1] + (pdist_dsst[1]-pdist_dsst[0]) ])\""
      ]
     },
     "execution_count": 46,
     "metadata": {},
     "output_type": "execute_result"
    },
    {
     "data": {
      "image/png": "[encoded data removed]",
      "text/plain": [
       "<Figure size 640x480 with 4 Axes>"
      ]
     },
     "metadata": {},
     "output_type": "display_data"
    }
   ],
   "source": [
    "###### Figure\n",
    "'''fig = plt.figure(figsize=(6., 6.), constrained_layout=True)\n",
    "spec = fig.add_gridspec(4, 4)\n",
    "ax1 = fig.add_subplot(spec[1:, :3]) # 2d distributions.'''\n",
    "\n",
    "fig, ax = plt.subplots(2,2)\n",
    "\n",
    "ax[0,0].plot(pdist_dsst, pdist_PBLH_dsst, '.',color='b', label='PBLH')\n",
    "ax[0,0].plot(pdist_dsst, pdist_LCL_dsst, '.',color='firebrick', label='LCL')\n",
    "ax[0,0].legend(loc=0)\n",
    "ax[0,0].set_title(f'PDist, PBLH and LCL vs dSST') #perc_step={perc_step}')\n",
    "ax[0,0].set_ylabel('height [m]', fontsize=12); #ax[0,0].set_xlabel('SST anomalies [˚C]', fontsize=12); \n",
    "ax[0,0].grid()\n",
    "\n",
    "ax[1,0].plot(pdist_dsst, pdist_PBLH_dsst-pdist_LCL_dsst, '.-', color='g', mfc='none')\n",
    "ax[1,0].set_title('PDist, PBLH - LCL vs dSST')\n",
    "ax[1,0].set_ylabel('height difference [m]', fontsize=12); ax[1,0].set_xlabel('SST anomalies [˚C]', fontsize=12); ax[1,0].grid()\n",
    "\n",
    "ax[0,1].plot(dist_dsst, dist_PBLH_dsst, '.', color='b', label='PBLH')\n",
    "ax[0,1].plot(dist_dsst, dist_LCL_dsst, '.', color='firebrick', label='LCL')\n",
    "ax[0,1].legend()\n",
    "ax[0,1].set_title(f'Fixed bins, PBLH and LCL vs dSST')\n",
    "#ax[0,1].set_ylabel('height [m]', fontsize=12)\n",
    "#ax[0,1].set_xlabel('SST anomalies [˚C]', fontsize=12); \n",
    "ax[0,1].grid()\n",
    "\n",
    "ax[1,1].plot(dist_dsst, dist_PBLH_dsst-dist_LCL_dsst, '.-', color='r', mfc='none')\n",
    "ax[1,1].set_title('Fixed bins, PBLH - LCL vs dSST')\n",
    "#ax[1,1].set_ylabel('height difference [m]', fontsize=12)\n",
    "ax[1,1].set_xlabel('SST anomalies [˚C]', fontsize=12); ax[1,1].grid()\n",
    "\n",
    "\n",
    "plt.subplots_adjust(wspace=0.4, \n",
    "                    hspace=0.35)\n",
    "\n",
    "#plt.savefig('/venus/tesi_ale/img_EU/PBLH-LCL/PBL_LCL_vs_dSST')\n",
    "\n",
    "'''ax1.set_ylabel('height [m]', fontsize=12); ax1.set_xlabel('SST anomalies [˚C]', fontsize=12); ax1.grid()\n",
    "plt.xlim([ pdist_dsst[0] - (pdist_dsst[1]-pdist_dsst[0]),pdist_dsst[-1] + (pdist_dsst[1]-pdist_dsst[0]) ])'''"
   ]
  },
  {
   "cell_type": "code",
   "execution_count": null,
   "id": "d32ce7cf",
   "metadata": {},
   "outputs": [],
   "source": [
    "# PERC DISTRIBUTION\n",
    "path_bindist = '/home/matteo/Eureca/COARE35/Results/acquistapace_bindist/perc_dist/daily/'\n",
    "# np.savetxt(path_bindist + 'pdist_dsst_day.txt', pdist_dsst)\n",
    "np.savetxt(path_bindist + 'pdist_PBLH_dsst_day.txt', pdist_PBLH_dsst)\n",
    "np.savetxt(path_bindist + 'pdist_LCL_dsst_day.txt', pdist_LCL_dsst)\n",
    "np.savetxt(path_bindist + 'pstd_PBLH_dsst_day.txt', pstd_PBLH_dsst)\n",
    "np.savetxt(path_bindist + 'pstd_LCL_dsst_day.txt', pstd_LCL_dsst)"
   ]
  },
  {
   "cell_type": "code",
   "execution_count": null,
   "id": "34ca42df",
   "metadata": {},
   "outputs": [],
   "source": [
    "# FB DISTRIBUTION (no point threshold)\n",
    "path_bindist = '/home/matteo/Eureca/COARE35/Results/acquistapace_bindist/fb_dist/daily/fullfield/'\n",
    "np.savetxt(path_bindist + 'dist_dsst_day.txt', dist_dsst)\n",
    "np.savetxt(path_bindist + 'dist_PBLH_dsst_day.txt', dist_PBLH_dsst)\n",
    "np.savetxt(path_bindist + 'dist_LCL_dsst_day.txt', dist_LCL_dsst)\n",
    "np.savetxt(path_bindist + 'std_err_PBLH_dsst_day.txt', std_err_PBLH_dsst)\n",
    "np.savetxt(path_bindist + 'std_err_LCL_dsst_day.txt', std_err_LCL_dsst)\n",
    "np.savetxt(path_bindist + 'npoint_PBLH_dsst_day.txt', npoint_PBLH_dsst)\n",
    "np.savetxt(path_bindist + 'npoint_LCL_dsst_day.txt', npoint_LCL_dsst)"
   ]
  },
  {
   "cell_type": "code",
   "execution_count": null,
   "id": "503a054a",
   "metadata": {},
   "outputs": [],
   "source": []
  },
  {
   "cell_type": "code",
   "execution_count": null,
   "id": "382b1605",
   "metadata": {},
   "outputs": [],
   "source": []
  },
  {
   "cell_type": "code",
   "execution_count": null,
   "id": "8bc4f166",
   "metadata": {},
   "outputs": [],
   "source": []
  },
  {
   "cell_type": "code",
   "execution_count": null,
   "id": "924d9227",
   "metadata": {},
   "outputs": [],
   "source": []
  },
  {
   "cell_type": "code",
   "execution_count": null,
   "id": "00ae8246",
   "metadata": {},
   "outputs": [],
   "source": [
    "# DISTRIBUTION dPBLH/dLCL vs dSST bin - DAILY\n",
    "perc_step = 5\n",
    "nbins = int(100/perc_step) # Number of bins"
   ]
  },
  {
   "cell_type": "code",
   "execution_count": null,
   "id": "dbf69f51",
   "metadata": {},
   "outputs": [],
   "source": [
    "# PERC DISTRIBUTION\n",
    "x = dsst_day.copy()\n",
    "control = x.reshape(-1)\n",
    "\n",
    "##### Perc distribution: PBLH\n",
    "y = dPBLH_day[:,:,:].copy()\n",
    "variable = y.reshape(-1)\n",
    "pdist_dsst, pdist_dPBLH_dsst, pstd_dPBLH_dsst, pstd_err_dPBLH_dsst = perc_distribution(control, variable, nbins, perc_step)\n",
    "\n",
    "##### Perc distribution: LCL\n",
    "y = dLCL_day[:,:,:].copy()\n",
    "variable = y.reshape(-1)\n",
    "pdist_dsst, pdist_dLCL_dsst, pstd_dLCL_dsst, pstd_err_dLCL_dsst = perc_distribution(control, variable, nbins, perc_step)"
   ]
  },
  {
   "cell_type": "code",
   "execution_count": null,
   "id": "f74226e7",
   "metadata": {},
   "outputs": [],
   "source": [
    "# FIXED BIN DISTRIBUTION\n",
    "x = dsst_day.copy()\n",
    "control = x.reshape(-1)\n",
    "\n",
    "##### Fixed bin distribution: PBLH\n",
    "y = dPBLH_day[:,:,:].copy()\n",
    "variable = y.reshape(-1)\n",
    "dist_dsst, dist_dPBLH_dsst, std_err_dPBLH_dsst, npoint_dPBLH_dsst = fb_distribution_npoint(control, variable, nbins, perc_step)\n",
    "\n",
    "##### Fixed bin distribution: LCL\n",
    "y = dLCL_day[:,:,:].copy()\n",
    "variable = y.reshape(-1)\n",
    "dist_dsst, dist_dLCL_dsst, std_err_dLCL_dsst, npoint_dLCL_dsst = fb_distribution_npoint(control, variable, nbins, perc_step)"
   ]
  },
  {
   "cell_type": "code",
   "execution_count": null,
   "id": "8ea93ccf",
   "metadata": {},
   "outputs": [],
   "source": [
    "###### Figure\n",
    "'''fig = plt.figure(figsize=(6., 6.), constrained_layout=True)\n",
    "spec = fig.add_gridspec(4, 4)\n",
    "ax1 = fig.add_subplot(spec[1:, :3]) # 2d distributions.'''\n",
    "\n",
    "fig, ax = plt.subplots(1,2)\n",
    "\n",
    "\n",
    "ax[0].plot(pdist_dsst, pdist_dPBLH_dsst, '.-',color='b', label='PBLH')\n",
    "ax[0].plot(pdist_dsst, pdist_dLCL_dsst, '.-',color='firebrick', label='LCL')\n",
    "ax[0].legend()\n",
    "\n",
    "ax[0].set_ylabel('height anomalies [m]', fontsize=12); ax[0].set_xlabel('SST anomalies [˚C]', fontsize=12); \n",
    "ax[0].grid(); ax[0].set_title('PDist, dPBLH and dLCL vs dSST')\n",
    "plt.xlim([ dist_dsst[0] - (dist_dsst[1]-dist_dsst[0]),dist_dsst[-1] + (dist_dsst[1]-dist_dsst[0]) ])\n",
    "\n",
    "\n",
    "\n",
    "\n",
    "ax[1].plot(dist_dsst, dist_dPBLH_dsst, '.-',color='b', label='PBLH')\n",
    "ax[1].plot(dist_dsst, dist_dLCL_dsst, '.-',color='firebrick', label='LCL')\n",
    "ax[1].legend()\n",
    "\n",
    "#ax[1].set_ylabel('height anoms[m]', fontsize=12); \n",
    "ax[1].set_xlabel('SST anomalies [˚C]', fontsize=12); \n",
    "ax[1].grid(); ax[1].set_title('Bins, dPBLH and dLCL vs dSST')\n",
    "plt.xlim([ dist_dsst[0] - (dist_dsst[1]-dist_dsst[0]),dist_dsst[-1] + (dist_dsst[1]-dist_dsst[0]) ])\n",
    "\n",
    "\n",
    "plt.subplots_adjust(wspace=0.45, \n",
    "                    hspace=0.3)\n",
    "\n",
    "\n",
    "#plt.savefig('/home/alessandro/prove/primi_plot/pbl_mask/dPBL_dLCL_vs_dSST')"
   ]
  },
  {
   "cell_type": "code",
   "execution_count": null,
   "id": "5d293f22",
   "metadata": {},
   "outputs": [],
   "source": [
    "# PERC DISTRIBUTION\n",
    "path_bindist = '/home/matteo/Eureca/COARE35/Results/acquistapace_bindist/perc_dist/daily/'\n",
    "# np.savetxt(path_bindist + 'pdist_dsst_day.txt', pdist_dsst)\n",
    "np.savetxt(path_bindist + 'pdist_dPBLH_dsst_day.txt', pdist_dPBLH_dsst)\n",
    "np.savetxt(path_bindist + 'pdist_dLCL_dsst_day.txt', pdist_dLCL_dsst)\n",
    "np.savetxt(path_bindist + 'pstd_dPBLH_dsst_day.txt', pstd_dPBLH_dsst)\n",
    "np.savetxt(path_bindist + 'pstd_dLCL_dsst_day.txt', pstd_dLCL_dsst)"
   ]
  },
  {
   "cell_type": "code",
   "execution_count": null,
   "id": "cb93d175",
   "metadata": {},
   "outputs": [],
   "source": [
    "# FB DISTRIBUTION (no point threshold)\n",
    "path_bindist = '/home/matteo/Eureca/COARE35/Results/acquistapace_bindist/fb_dist/daily/fullfield/'\n",
    "np.savetxt(path_bindist + 'dist_dsst_day.txt', dist_dsst)\n",
    "np.savetxt(path_bindist + 'dist_dPBLH_dsst_day.txt', dist_dPBLH_dsst)\n",
    "np.savetxt(path_bindist + 'dist_dLCL_dsst_day.txt', dist_dLCL_dsst)\n",
    "np.savetxt(path_bindist + 'std_err_dPBLH_dsst_day.txt', std_err_dPBLH_dsst)\n",
    "np.savetxt(path_bindist + 'std_err_dLCL_dsst_day.txt', std_err_dLCL_dsst)\n",
    "np.savetxt(path_bindist + 'npoint_dPBLH_dsst_day.txt', npoint_dPBLH_dsst)\n",
    "np.savetxt(path_bindist + 'npoint_dLCL_dsst_day.txt', npoint_dLCL_dsst)"
   ]
  },
  {
   "cell_type": "code",
   "execution_count": null,
   "id": "ed4bfa50",
   "metadata": {},
   "outputs": [],
   "source": []
  },
  {
   "cell_type": "code",
   "execution_count": null,
   "id": "e34aa968",
   "metadata": {},
   "outputs": [],
   "source": []
  },
  {
   "cell_type": "code",
   "execution_count": null,
   "id": "0d69edfb",
   "metadata": {},
   "outputs": [],
   "source": [
    "# CCL - tentativo"
   ]
  },
  {
   "cell_type": "code",
   "execution_count": 11,
   "id": "910d9cb1",
   "metadata": {},
   "outputs": [],
   "source": [
    "# reading temperature\n",
    "pot_temp = xr.open_dataset(wrf_files[files_ls.index('T.nc')])\n",
    "pot_temp = pot_temp['T']\n",
    "pot_temp = pot_temp.sel(time_counter=slice('2020-02-01T01:30:00.000000000', '2020-03-01T01:30:00.000000000'))\n",
    "pot_temp = pot_temp.where(sea_mask, drop=False)\n",
    "\n",
    "\n",
    "T0 = 300. \n",
    "\n",
    "pot_temp_full = pot_temp+T0"
   ]
  },
  {
   "cell_type": "code",
   "execution_count": null,
   "id": "5344c64e",
   "metadata": {},
   "outputs": [],
   "source": [
    "# actual temperature\n",
    "###### I DID NOT APPLY DAILY MEAN TO PRES!   ######\n",
    "temperature = pot_temp * ( pres / 1000. )**0.286"
   ]
  },
  {
   "cell_type": "code",
   "execution_count": null,
   "id": "50ac99be",
   "metadata": {},
   "outputs": [],
   "source": []
  },
  {
   "cell_type": "code",
   "execution_count": 6,
   "id": "1cecf942",
   "metadata": {},
   "outputs": [],
   "source": [
    "# reading QVAPOR\n",
    "QVAPOR_day = xr.open_dataset(wrf_files[files_ls.index('QVAPOR.nc')])\n",
    "QVAPOR_day = QVAPOR_day['QVAPOR']"
   ]
  },
  {
   "cell_type": "code",
   "execution_count": 7,
   "id": "07228691",
   "metadata": {},
   "outputs": [],
   "source": [
    "QVAPOR_day = QVAPOR_day.sel(time_counter=slice('2020-02-01T01:30:00.000000000', '2020-03-01T01:30:00.000000000'))"
   ]
  },
  {
   "cell_type": "code",
   "execution_count": 8,
   "id": "d9bbab38",
   "metadata": {},
   "outputs": [],
   "source": [
    "#####  CONTINUA A CRASHARE IL KERNEL A QUESTO PASSAGGIO  ######\n",
    "# 11 Gb di dati qui\n",
    "QVAPOR_day = QVAPOR_day.where(sea_mask, drop=False)"
   ]
  },
  {
   "cell_type": "code",
   "execution_count": null,
   "id": "5fefbae9",
   "metadata": {},
   "outputs": [],
   "source": [
    "# compute daily averages!\n",
    "QVAPOR_day = QVAPOR_day.groupby('time_counter.day').mean()"
   ]
  },
  {
   "cell_type": "code",
   "execution_count": null,
   "id": "c9c6267f",
   "metadata": {},
   "outputs": [],
   "source": []
  },
  {
   "cell_type": "code",
   "execution_count": null,
   "id": "d3f2ac44",
   "metadata": {},
   "outputs": [],
   "source": []
  },
  {
   "cell_type": "code",
   "execution_count": null,
   "id": "30e0c8e8",
   "metadata": {},
   "outputs": [],
   "source": [
    "# compute daily averages!\n",
    "pres_day = pres.groupby('time_counter.day').mean()\n",
    "temperature_day = temperature.groupby('time_counter.day').mean()\n"
   ]
  },
  {
   "cell_type": "code",
   "execution_count": null,
   "id": "f2202b94",
   "metadata": {},
   "outputs": [],
   "source": [
    "t = np.arange(time)\n",
    "i, j = np.arange(lon), np.arange(lat)     # CHECK LON LAT\n",
    "\n",
    "\n",
    "# computation through ccl() in lcl.py\n",
    "ccl_pres, ccl_temp, T_conv = np.zeros_like(PBLH), np.zeros_like(PBLH), np.zeros_like(PBLH)\n",
    "ccl_pres[t,i,j], ccl_temp[t,i,j], T_conv[t,i,j] = lcl.ccl(pres_day[t,0:,i,j], temperature_day[t,0:,i,j], QVAPOR_day[t,0:,i,j]*1000.)   # better way to vectorize?"
   ]
  },
  {
   "cell_type": "code",
   "execution_count": null,
   "id": "187b5412",
   "metadata": {},
   "outputs": [],
   "source": []
  },
  {
   "cell_type": "code",
   "execution_count": null,
   "id": "f14bdea7",
   "metadata": {},
   "outputs": [],
   "source": []
  },
  {
   "cell_type": "code",
   "execution_count": null,
   "id": "590bc227",
   "metadata": {},
   "outputs": [],
   "source": []
  },
  {
   "cell_type": "code",
   "execution_count": null,
   "id": "7cbee5bb",
   "metadata": {},
   "outputs": [],
   "source": []
  },
  {
   "cell_type": "code",
   "execution_count": null,
   "id": "bb92dd79",
   "metadata": {},
   "outputs": [],
   "source": []
  },
  {
   "cell_type": "code",
   "execution_count": null,
   "id": "cb816da6",
   "metadata": {},
   "outputs": [],
   "source": []
  },
  {
   "cell_type": "code",
   "execution_count": null,
   "id": "a9d27cc7",
   "metadata": {},
   "outputs": [],
   "source": []
  },
  {
   "cell_type": "code",
   "execution_count": null,
   "id": "8cba11cf",
   "metadata": {},
   "outputs": [],
   "source": []
  },
  {
   "cell_type": "code",
   "execution_count": null,
   "id": "280398fc",
   "metadata": {},
   "outputs": [],
   "source": []
  },
  {
   "cell_type": "code",
   "execution_count": null,
   "id": "9354932a",
   "metadata": {},
   "outputs": [],
   "source": []
  },
  {
   "cell_type": "code",
   "execution_count": null,
   "id": "61438c35",
   "metadata": {},
   "outputs": [],
   "source": [
    "# HOURLY DATA"
   ]
  },
  {
   "cell_type": "code",
   "execution_count": null,
   "id": "d04ea62d",
   "metadata": {},
   "outputs": [],
   "source": [
    "# hourly varaibles\n",
    "# select sst, q2, U, PBLH\n",
    "sst = ds['SST'].values*seamask\n",
    "PBLH = ds['PBLH'].values*seamask"
   ]
  },
  {
   "cell_type": "code",
   "execution_count": null,
   "id": "4cd5d35d",
   "metadata": {},
   "outputs": [],
   "source": [
    "# read HOURLY LCL\n",
    "LCL_file = '/media/fabien/DAGOBAH1/WRF_EUREC4A/CNT/FEB/LCL.nc'\n",
    "ds_lcl = xr.open_dataset(LCL_file)"
   ]
  },
  {
   "cell_type": "code",
   "execution_count": null,
   "id": "1eae5295",
   "metadata": {},
   "outputs": [],
   "source": [
    "LCL = ds_lcl['LCL'].values*seamask"
   ]
  },
  {
   "cell_type": "code",
   "execution_count": null,
   "id": "632d36d5",
   "metadata": {},
   "outputs": [],
   "source": [
    "# compute anomalies hourly data\n",
    "s = 50\n",
    "dsst = np.zeros(sst.shape)\n",
    "dPBLH = np.zeros(PBLH.shape); dLCL = np.zeros(LCL.shape)\n",
    "for t in range(0,sst.shape[0]):\n",
    "    if t % 100 == 0:\n",
    "        print(t)\n",
    "    # upscale using gaussian filter\n",
    "    sst_ave = gm.nan_gaussian_filter(sst[t],s)*seamask\n",
    "    dsst[t] = sst[t] - sst_ave\n",
    "    PBLH_ave = gm.nan_gaussian_filter(PBLH[t],s)*seamask\n",
    "    dPBLH[t] = PBLH[t] - PBLH_ave\n",
    "    LCL_ave = gm.nan_gaussian_filter(LCL[t],s)*seamask\n",
    "    dLCL[t] = LCL[t] - LCL_ave"
   ]
  },
  {
   "cell_type": "code",
   "execution_count": null,
   "id": "16d2a917",
   "metadata": {},
   "outputs": [],
   "source": [
    "# DISTRIBUTION dPBLH/dLCL vs dSST bin - HOURLY\n",
    "thrsld_n = 100\n",
    "perc_step = 5\n",
    "nbins = int(100/perc_step) # Number of bins\n",
    "x = dsst.copy()\n",
    "control = x.reshape(-1)\n",
    "##### Perc distribution: dPBLH\n",
    "y = dPBLH[:,:,:].copy()\n",
    "variable = y.reshape(-1)\n",
    "pdist_dsst, pdist_dPBLH, pstd_err_dPBLH = perc_distribution(control, variable, nbins, perc_step)\n",
    "##### Fixed bin distribution: dPBLH\n",
    "dist_dsst, dist_dPBLH, std_err_dPBLH, npoint_dPBLH = fb_distribution_mod(control, variable, nbins, thrsld_n, perc_step)\n",
    "##### Perc distribution: dLCL\n",
    "y = dLCL[:,:,:].copy()\n",
    "variable = y.reshape(-1)\n",
    "pdist_dsst, pdist_dLCL, pstd_err_dLCL = perc_distribution(control, variable, nbins, perc_step)\n",
    "##### Fixed bin distribution: dLCL\n",
    "dist_dsst, dist_dLCL, std_err_dLCL, npoint_dLCL = fb_distribution_mod(control, variable, nbins, thrsld_n, perc_step)"
   ]
  },
  {
   "cell_type": "code",
   "execution_count": null,
   "id": "2e316a9b",
   "metadata": {},
   "outputs": [],
   "source": [
    "###### Figure\n",
    "fig = plt.figure(figsize=(6., 6.), constrained_layout=True)\n",
    "spec = fig.add_gridspec(4, 4)\n",
    "ax1 = fig.add_subplot(spec[1:, :3]) # 2d distributions.\n",
    "\n",
    "# ax1.errorbar(dist_dsst, dist_dPBLH, std_err_dPBLH, fmt='o', color='b', mfc='none')\n",
    "# ax1.errorbar(pdist_dsst, pdist_dPBLH, pstd_err_dPBLH, fmt='.',color='b')\n",
    "# ax1.errorbar(dist_dsst, dist_dLCL, std_err_dLCL, fmt='o', color='firebrick', mfc='none')\n",
    "# ax1.errorbar(pdist_dsst, pdist_dLCL, pstd_err_dLCL, fmt='.',color='firebrick')\n",
    "\n",
    "ax1.plot(dist_dsst, dist_dPBLH, 'o', color='b', mfc='none')\n",
    "ax1.plot(pdist_dsst, pdist_dPBLH, '.',color='b')\n",
    "ax1.plot(dist_dsst, dist_dLCL, 'o', color='firebrick', mfc='none')\n",
    "ax1.plot(pdist_dsst, pdist_dLCL, '.',color='firebrick')\n",
    "\n",
    "ax1.plot(dist_dsst, dist_dPBLH-dist_dLCL, '.-', color='g', mfc='none')\n",
    "\n",
    "ax1.set_ylabel('height [m]', fontsize=12); ax1.set_xlabel('SST anomalies [˚C]', fontsize=12); ax1.grid()\n",
    "plt.xlim([ dist_dsst[0] - + (dist_dsst[1]-dist_dsst[0]),dist_dsst[-1] + (dist_dsst[1]-dist_dsst[0]) ])"
   ]
  },
  {
   "cell_type": "code",
   "execution_count": null,
   "id": "e3b41528",
   "metadata": {},
   "outputs": [],
   "source": [
    "path_bindist = '/home/matteo/Eureca/COARE35/Results/acquistapace_bindist/'\n",
    "# PERC DISTRIBUTION\n",
    "np.savetxt(path_bindist + 'pdist_dsst.txt', pdist_dsst)\n",
    "np.savetxt(path_bindist + 'pdist_dPBLH.txt', pdist_dPBLH)\n",
    "np.savetxt(path_bindist + 'pdist_dLCL.txt', pdist_dLCL)\n",
    "np.savetxt(path_bindist + 'pstd_err_dPBLH.txt', pstd_err_dPBLH)\n",
    "np.savetxt(path_bindist + 'pstd_err_dLCL.txt', pstd_err_dLCL)\n",
    "# FB DISTRIBUTION (no point threshold)\n",
    "np.savetxt(path_bindist + 'dist_dsst.txt', dist_dsst)\n",
    "np.savetxt(path_bindist + 'dist_dPBLH.txt', dist_dPBLH)\n",
    "np.savetxt(path_bindist + 'dist_dLCL.txt', dist_dLCL)\n",
    "np.savetxt(path_bindist + 'std_err_dPBLH.txt', std_err_dPBLH)\n",
    "np.savetxt(path_bindist + 'std_err_dLCL.txt', std_err_dLCL)\n",
    "np.savetxt(path_bindist + 'npoint_dPBLH.txt', npoint_dPBLH)\n",
    "np.savetxt(path_bindist + 'npoint_dLCL.txt', npoint_dLCL)"
   ]
  },
  {
   "cell_type": "code",
   "execution_count": null,
   "id": "01bf10e4",
   "metadata": {},
   "outputs": [],
   "source": [
    "# corr length\n",
    "L = 80\n",
    "nskip = int(L/3)\n",
    "nt = int(3)\n",
    "nbin = 50"
   ]
  },
  {
   "cell_type": "code",
   "execution_count": null,
   "id": "948b0fff",
   "metadata": {},
   "outputs": [],
   "source": [
    "# linear regression PBLH vs SST\n",
    "x = dsst[::nt,::nskip,::nskip].copy()\n",
    "# y = dPBLH[::nt,::nskip,::nskip].copy()\n",
    "y = (dPBLH - dLCL)[::nt,::nskip,::nskip].copy()\n",
    "linreg_res, corr_coeff, p_value = slopes_r_p(x,y)\n",
    "\n",
    "fig = plt.figure(figsize=(12,5))\n",
    "plt.subplot(1,2,1)\n",
    "# scatterplot lin regression \n",
    "title = \"PBLH' vs SST' - sigma \"\n",
    "xlabel = 'SST anomalies [°C]'; ylabel = \"PBLH anomalies [m]\"\n",
    "fig1 = scatterplot_fit(x, y, linreg_res, s, title, xlabel, ylabel, fig)\n",
    "# histogram 2d \n",
    "plt.subplot(1,2,2)\n",
    "fig2 = hist2d(x, y, s, nbin, title, xlabel, ylabel, fig)"
   ]
  },
  {
   "cell_type": "code",
   "execution_count": null,
   "id": "3e2e4ae1",
   "metadata": {},
   "outputs": [],
   "source": []
  },
  {
   "cell_type": "code",
   "execution_count": null,
   "id": "28606eb8",
   "metadata": {},
   "outputs": [],
   "source": [
    "# PLOT DATA"
   ]
  },
  {
   "cell_type": "code",
   "execution_count": null,
   "id": "02218f8b",
   "metadata": {},
   "outputs": [],
   "source": [
    "##############\n",
    "# BOXPLOT\n",
    "##############"
   ]
  },
  {
   "cell_type": "code",
   "execution_count": null,
   "id": "54a80b31",
   "metadata": {},
   "outputs": [],
   "source": [
    "# BOXPLOT\n",
    "def box_plot(data, labels, edge_color, fill_color, ax):\n",
    "    medianprops = dict(linestyle='-', linewidth=1, color=edge_color)\n",
    "    meanpointprops = dict(marker='D', markeredgecolor='black',\n",
    "                      markerfacecolor=edge_color, markersize=4)\n",
    "    flierprops = dict(marker='o', markeredgecolor=edge_color, markersize=6,\n",
    "                  linestyle='none')\n",
    "    \n",
    "    bp = ax.boxplot(data, labels=labels, medianprops=medianprops, flierprops=flierprops, \\\n",
    "                    meanprops=meanpointprops, showmeans=True, patch_artist=True)\n",
    "    \n",
    "    for element in ['boxes', 'whiskers', 'fliers', 'means', 'medians', 'caps']:\n",
    "        plt.setp(bp[element], color=edge_color)\n",
    "    for patch in bp['boxes']:\n",
    "        patch.set(facecolor=fill_color)       \n",
    "        \n",
    "    return bp\n",
    "\n",
    "def box_plot_pos(data, offset, labels, edge_color, fill_color, ax):\n",
    "    medianprops = dict(linestyle='-', linewidth=1, color=edge_color)\n",
    "    meanpointprops = dict(marker='D', markeredgecolor='black',\n",
    "                      markerfacecolor=edge_color, markersize=4)\n",
    "    flierprops = dict(marker='o', markeredgecolor=edge_color, markersize=6,\n",
    "                  linestyle='none')\n",
    "    \n",
    "    pos = np.arange(len(labels))+offset\n",
    "    \n",
    "    bp = ax.boxplot(data, positions= pos, labels=labels, medianprops=medianprops, flierprops=flierprops, \\\n",
    "                    meanprops=meanpointprops, showmeans=True, patch_artist=True)\n",
    "    \n",
    "    for element in ['boxes', 'whiskers', 'fliers', 'means', 'medians', 'caps']:\n",
    "        plt.setp(bp[element], color=edge_color)\n",
    "    for patch in bp['boxes']:\n",
    "        patch.set(facecolor=fill_color)       \n",
    "        \n",
    "    return bp"
   ]
  },
  {
   "cell_type": "code",
   "execution_count": null,
   "id": "f4a8d0d6",
   "metadata": {},
   "outputs": [],
   "source": [
    "# build sst perc classes\n",
    "perc = np.arange(10,100,10)\n",
    "sst_day_perc = np.zeros(len(perc))\n",
    "dsst_day_perc = np.zeros(len(perc))\n",
    "\n",
    "for i in range(0,len(perc)):\n",
    "    sst_day_perc[i] = np.nanpercentile(sst_day,perc[i])\n",
    "    dsst_day_perc[i] = np.nanpercentile(dsst_day,perc[i])"
   ]
  },
  {
   "cell_type": "code",
   "execution_count": null,
   "id": "261e1064",
   "metadata": {},
   "outputs": [],
   "source": [
    "bin_PBLH_sst = []; bin_LCL_sst = []\n",
    "bin_PBLH_dsst = []; bin_LCL_dsst = []\n",
    "bin_dPBLH_dsst = []; bin_dLCL_dsst = []\n",
    "labels = []; dlabels = []\n",
    "for i in range(0,len(perc)):\n",
    "    if i == 0:\n",
    "        pblh_sst = PBLH_day[sst_day < sst_day_perc[i]]; lcl_sst = LCL_day[sst_day < sst_day_perc[i]]\n",
    "        pblh_dsst = PBLH_day[dsst_day < dsst_day_perc[i]]; lcl_dsst = LCL_day[dsst_day < dsst_day_perc[i]]\n",
    "        dpblh_dsst = dPBLH_day[dsst_day < dsst_day_perc[i]]; dlcl_dsst = dLCL_day[dsst_day < dsst_day_perc[i]]\n",
    "    else:\n",
    "        pblh_sst = PBLH_day[(sst_day >= sst_day_perc[i-1]) & (sst_day < sst_day_perc[i])]\n",
    "        pblh_dsst = PBLH_day[(dsst_day >= dsst_day_perc[i-1]) & (dsst_day < dsst_day_perc[i])]\n",
    "        dpblh_dsst = dPBLH_day[(dsst_day >= dsst_day_perc[i-1]) & (dsst_day < dsst_day_perc[i])]\n",
    "        lcl_sst = LCL_day[(sst_day >= sst_day_perc[i-1]) & (sst_day < sst_day_perc[i])]\n",
    "        lcl_dsst = LCL_day[(dsst_day >= dsst_day_perc[i-1]) & (dsst_day < dsst_day_perc[i])]\n",
    "        dlcl_dsst = dLCL_day[(dsst_day >= dsst_day_perc[i-1]) & (dsst_day < dsst_day_perc[i])]\n",
    "    # create lists\n",
    "    bin_PBLH_sst.append(pblh_sst); bin_LCL_sst.append(lcl_sst)\n",
    "    bin_PBLH_dsst.append(pblh_dsst); bin_LCL_dsst.append(lcl_dsst)\n",
    "    bin_dPBLH_dsst.append(dpblh_dsst); bin_dLCL_dsst.append(dlcl_dsst)\n",
    "    labels.append(str(np.round(sst_day_perc[i]-273.15,2)))\n",
    "    dlabels.append(str(np.round(dsst_day_perc[i],2)))\n",
    "# adding last class, when data > 90perc sst\n",
    "pblh_sst = PBLH_day[sst_day >= sst_day_perc[-1]]; lcl_sst = LCL_day[sst_day >= sst_day_perc[-1]]\n",
    "pblh_dsst = PBLH_day[dsst_day >= dsst_day_perc[-1]]; lcl_dsst = LCL_day[dsst_day >= dsst_day_perc[-1]]\n",
    "dpblh_dsst = dPBLH_day[dsst_day >= dsst_day_perc[-1]]; dlcl_dsst = dLCL_day[dsst_day >= dsst_day_perc[-1]]\n",
    "bin_PBLH_sst.append(pblh_sst); bin_LCL_sst.append(lcl_sst)\n",
    "bin_PBLH_dsst.append(pblh_dsst); bin_LCL_dsst.append(lcl_dsst)\n",
    "bin_dPBLH_dsst.append(dpblh_dsst); bin_dLCL_dsst.append(dlcl_dsst)\n",
    "labels.append(' '); dlabels.append(' ')       "
   ]
  },
  {
   "cell_type": "code",
   "execution_count": null,
   "id": "bac0c294",
   "metadata": {},
   "outputs": [],
   "source": [
    "# BOXPLOT SOVRAPPOSTO\n",
    "fig, (ax1, ax2, ax3) = plt.subplots(3, figsize=(10, 12))\n",
    "\n",
    "bp1 = box_plot(bin_PBLH_sst, labels, 'blue', 'white', ax1)\n",
    "bp2 = box_plot(bin_LCL_sst, labels, 'firebrick', 'white', ax1)\n",
    "ax1.legend([bp1[\"boxes\"][0], bp2[\"boxes\"][0]], ['PBLH', 'LCL'])\n",
    "ax1.set_xlabel('SST [˚C]', fontsize=12); ax1.set_ylabel('height [m]', fontsize=12)\n",
    "\n",
    "bp1 = box_plot(bin_PBLH_dsst, dlabels, 'blue', 'white', ax2)\n",
    "bp2 = box_plot(bin_LCL_dsst, dlabels, 'firebrick', 'white', ax2)\n",
    "ax2.legend([bp1[\"boxes\"][0], bp2[\"boxes\"][0]], ['PBLH', 'LCL'])\n",
    "ax2.set_xlabel('SST anom [˚C]', fontsize=12); ax2.set_ylabel('height [m]', fontsize=12)\n",
    "\n",
    "bp1 = box_plot(bin_dPBLH_dsst, dlabels, 'blue', 'white', ax3)\n",
    "bp2 = box_plot(bin_dLCL_dsst, dlabels, 'firebrick', 'white', ax3)\n",
    "ax3.legend([bp1[\"boxes\"][0], bp2[\"boxes\"][0]], ['PBLH', 'LCL'])\n",
    "ax3.set_xlabel('SST anom [˚C]', fontsize=12); ax3.set_ylabel('height anom [m]', fontsize=12)"
   ]
  },
  {
   "cell_type": "code",
   "execution_count": null,
   "id": "f29974a9",
   "metadata": {},
   "outputs": [],
   "source": [
    "# BOXPLOT AFFIANCATO\n",
    "fig, (ax1, ax2, ax3) = plt.subplots(3, figsize=(10, 12))\n",
    "\n",
    "offs = 0.25\n",
    "\n",
    "bp1 = box_plot_pos(bin_PBLH_sst, 0, labels, 'blue', 'white', ax1)\n",
    "bp2 = box_plot_pos(bin_LCL_sst, offs, labels, 'firebrick', 'white', ax1)\n",
    "ax1.legend([bp1[\"boxes\"][0], bp2[\"boxes\"][0]], ['PBLH', 'LCL'])\n",
    "ax1.set_xlabel('SST [˚C]', fontsize=12); ax1.set_ylabel('height [m]', fontsize=12)\n",
    "ax1.set_xticks(np.arange(len(labels)))\n",
    "\n",
    "bp1 = box_plot_pos(bin_PBLH_dsst, 0, dlabels, 'blue', 'white', ax2)\n",
    "bp2 = box_plot_pos(bin_LCL_dsst, offs, dlabels, 'firebrick', 'white', ax2)\n",
    "ax2.legend([bp1[\"boxes\"][0], bp2[\"boxes\"][0]], ['PBLH', 'LCL'])\n",
    "ax2.set_xlabel('SST anom [˚C]', fontsize=12); ax2.set_ylabel('height [m]', fontsize=12)\n",
    "ax2.set_xticks(np.arange(len(labels)))\n",
    "\n",
    "bp1 = box_plot_pos(bin_dPBLH_dsst, 0, dlabels, 'blue', 'white', ax3)\n",
    "bp2 = box_plot_pos(bin_dLCL_dsst, offs, dlabels, 'firebrick', 'white', ax3)\n",
    "ax3.legend([bp1[\"boxes\"][0], bp2[\"boxes\"][0]], ['PBLH', 'LCL'])\n",
    "ax3.set_xlabel('SST anom [˚C]', fontsize=12); ax3.set_ylabel('height anom [m]', fontsize=12)\n",
    "ax3.set_xticks(np.arange(len(labels)))"
   ]
  },
  {
   "cell_type": "code",
   "execution_count": null,
   "id": "cd80b86d",
   "metadata": {},
   "outputs": [],
   "source": []
  },
  {
   "cell_type": "code",
   "execution_count": null,
   "id": "f4402fa4",
   "metadata": {},
   "outputs": [],
   "source": []
  },
  {
   "cell_type": "code",
   "execution_count": null,
   "id": "e2044239",
   "metadata": {},
   "outputs": [],
   "source": [
    "# HOURLY"
   ]
  },
  {
   "cell_type": "code",
   "execution_count": null,
   "id": "a06b0620",
   "metadata": {},
   "outputs": [],
   "source": [
    "bin_dPBLH = [dPBLH[dsst < -1.5], \\\n",
    "            dPBLH[(dsst >= -1.5) & (dsst < -1)], \\\n",
    "            dPBLH[(dsst >= -1) & (dsst < -0.5)], \\\n",
    "            dPBLH[(dsst >= -0.5) & (dsst < 0)], \\\n",
    "            dPBLH[(dsst >= 0) & (dsst < 0.5)], \\\n",
    "            dPBLH[(dsst >= 0.5) & (dsst < 1)], \\\n",
    "            dPBLH[dsst >= 1]]\n",
    "bin_dLCL = [dLCL[dsst < -1.5], \\\n",
    "            dLCL[(dsst >= -1.5) & (dsst < -1)], \\\n",
    "            dLCL[(dsst >= -1) & (dsst < -0.5)], \\\n",
    "            dLCL[(dsst >= -0.5) & (dsst < 0)], \\\n",
    "            dLCL[(dsst >= 0) & (dsst < 0.5)], \\\n",
    "            dLCL[(dsst >= 0.5) & (dsst < 1)], \\\n",
    "            dLCL[dsst >= 1]]\n",
    "\n",
    "dlabels = ['-1.5', '-1', '-0.5', '0', '0.5', '1', '1+']"
   ]
  },
  {
   "cell_type": "code",
   "execution_count": null,
   "id": "1e0d8b11",
   "metadata": {},
   "outputs": [],
   "source": [
    "fig, ax = plt.subplots()\n",
    "bp1 = box_plot_pos(bin_dPBLH, 0, dlabels, 'blue', 'white')\n",
    "bp2 = box_plot_pos(bin_dLCL, 0.2, dlabels, 'firebrick', 'white')\n",
    "ax.legend([bp1[\"boxes\"][0], bp2[\"boxes\"][0]], ['dPBLH', 'dLCL'])\n",
    "ax.set_xticks(np.arange(len(labels)))\n",
    "ax.set_xlabel('SST [˚C]', fontsize=12); ax.set_ylabel('height [m]', fontsize=12)"
   ]
  },
  {
   "cell_type": "code",
   "execution_count": null,
   "id": "56ae0328",
   "metadata": {},
   "outputs": [],
   "source": [
    "# READ DATA"
   ]
  },
  {
   "cell_type": "code",
   "execution_count": null,
   "id": "3843ca29",
   "metadata": {},
   "outputs": [],
   "source": [
    "# DAILY\n",
    "# PERC DISTRIBUTION\n",
    "path_bindist = '/home/matteo/Eureca/COARE35/Results/acquistapace_bindist/perc_dist/daily/'\n",
    "pdist_sst = np.loadtxt(path_bindist + 'pdist_sst.txt')\n",
    "pdist_PBLH = np.loadtxt(path_bindist + 'pdist_PBLH.txt')\n",
    "pdist_LCL = np.loadtxt(path_bindist + 'pdist_LCL.txt')\n",
    "pstd_err_PBLH = np.loadtxt(path_bindist + 'pstd_PBLH.txt')\n",
    "pstd_err_LCL = np.loadtxt(path_bindist + 'pstd_LCL.txt')\n",
    "# FB DISTRIBUTION (no point threshold)\n",
    "path_bindist = '/home/matteo/Eureca/COARE35/Results/acquistapace_bindist/fb_dist/daily/'\n",
    "dist_sst = np.loadtxt(path_bindist + 'dist_sst.txt')\n",
    "dist_PBLH = np.loadtxt(path_bindist + 'dist_PBLH.txt')\n",
    "dist_LCL = np.loadtxt(path_bindist + 'dist_LCL.txt')\n",
    "std_err_PBLH = np.loadtxt(path_bindist + 'std_err_PBLH.txt')\n",
    "std_err_LCL = np.loadtxt(path_bindist + 'std_err_LCL.txt')\n",
    "npoint_PBLH = np.loadtxt(path_bindist + 'npoint_PBLH.txt')\n",
    "npoint_LCL = np.loadtxt(path_bindist + 'npoint_LCL.txt')"
   ]
  },
  {
   "cell_type": "code",
   "execution_count": null,
   "id": "0df37bc5",
   "metadata": {},
   "outputs": [],
   "source": [
    "# HOURLY\n",
    "# PERC DISTRIBUTION\n",
    "pdist_dsst = np.loadtxt(path_bindist + 'pdist_dsst.txt')\n",
    "pdist_dPBLH = np.loadtxt(path_bindist + 'pdist_dPBLH.txt')\n",
    "pdist_dLCL = np.loadtxt(path_bindist + 'pdist_dLCL.txt')\n",
    "pstd_err_dPBLH = np.loadtxt(path_bindist + 'pstd_err_dPBLH.txt')\n",
    "pstd_err_dLCL = np.loadtxt(path_bindist + 'pstd_err_dLCL.txt')\n",
    "# FB DISTRIBUTION (no point threshold)\n",
    "dist_dsst = np.loadtxt(path_bindist + 'dist_dsst.txt')\n",
    "dist_dPBLH = np.loadtxt(path_bindist + 'dist_dPBLH.txt')\n",
    "dist_dLCL = np.loadtxt(path_bindist + 'dist_dLCL.txt')\n",
    "std_err_dPBLH = np.loadtxt(path_bindist + 'std_err_dPBLH.txt')\n",
    "std_err_dLCL = np.loadtxt(path_bindist + 'std_err_dLCL.txt')\n",
    "npoint_dPBLH = np.loadtxt(path_bindist + 'npoint_dPBLH.txt')\n",
    "npoint_dLCL = np.loadtxt(path_bindist + 'npoint_dLCL.txt')"
   ]
  },
  {
   "cell_type": "code",
   "execution_count": null,
   "id": "f45e36a4",
   "metadata": {},
   "outputs": [],
   "source": []
  },
  {
   "cell_type": "code",
   "execution_count": null,
   "id": "bd3a1a88",
   "metadata": {},
   "outputs": [],
   "source": []
  },
  {
   "cell_type": "code",
   "execution_count": null,
   "id": "551e5113",
   "metadata": {},
   "outputs": [],
   "source": []
  },
  {
   "cell_type": "code",
   "execution_count": null,
   "id": "3ef08515",
   "metadata": {},
   "outputs": [],
   "source": []
  },
  {
   "cell_type": "code",
   "execution_count": null,
   "id": "b5c4f8af",
   "metadata": {},
   "outputs": [],
   "source": [
    "# OLD STUFF"
   ]
  },
  {
   "cell_type": "code",
   "execution_count": null,
   "id": "c3dde240",
   "metadata": {},
   "outputs": [],
   "source": [
    "# grid and geographical coordinates of seemingly good points; \n",
    "# format: [j,i] i.e. [lat, lon]\n",
    "# sure there is a better way to do it\n",
    "\n",
    "# small rectangle\n",
    "small_gpoints = [[350,410],[350,265],[65,265],[65,410]]; small_gpoints=np.array(small_gpoints)\n",
    "small_coords = np.zeros_like(small_gpoints)\n",
    "\n",
    "for i in range(len(small_gpoints[:,0])):\n",
    "    small_coords[i,0], small_coords[i,1] = ds_tot.nav_lat.sel(y=small_gpoints[i,0],x=small_gpoints[i,1]), ds_tot.nav_lon.sel(y=small_gpoints[i,0],x=small_gpoints[i,1])\n",
    "\n",
    "small_coords=np.array(small_coords)\n",
    "\n",
    "\n",
    "# large rectangle\n",
    "large_gpoints = [[410,410],[65,410],[65,800],[410,800]]; large_gpoints=np.array(large_gpoints)\n",
    "large_coords = np.zeros_like(large_gpoints)\n",
    "\n",
    "for i in range(len(large_gpoints[:,0])):\n",
    "    large_coords[i,0], large_coords[i,1] = ds_tot.nav_lat.sel(y=large_gpoints[i,0],x=large_gpoints[i,1]),\\\n",
    "                                           ds_tot.nav_lon.sel(y=large_gpoints[i,0],x=large_gpoints[i,1])\n",
    "    \n",
    "large_coords=np.array(large_coords)\n",
    "\n",
    "\n",
    "# optional expansion\n",
    "add_gpoints = [[410,800],[65,800],[65,900],[410,900]]; add_gpoints=np.array(add_gpoints)\n",
    "add_coords = np.zeros_like(add_gpoints)\n",
    "\n",
    "for i in range(len(small_gpoints[:,0])):\n",
    "    add_coords[i,0], add_coords[i,1] = ds_tot.nav_lat.sel(y=add_gpoints[i,0],x=add_gpoints[i,1]), \\\n",
    "                                       ds_tot.nav_lon.sel(y=add_gpoints[i,0],x=add_gpoints[i,1])\n",
    "\n",
    "add_coords=np.array(add_coords)"
   ]
  },
  {
   "cell_type": "code",
   "execution_count": null,
   "id": "b981016e",
   "metadata": {},
   "outputs": [],
   "source": [
    "minlon = min(small_coords[:,1]) ; maxlon = max(small_coords[:,1])      \n",
    "minlat = min(small_coords[:,0]) ; maxlat = max(small_coords[:,0])     "
   ]
  },
  {
   "cell_type": "code",
   "execution_count": null,
   "id": "9069937b",
   "metadata": {},
   "outputs": [],
   "source": [
    "# domain selection new\n",
    "'''mask_lon = (ds_tot.nav_lon_grid_M >= min(large_coords[:,1])) & (ds_tot.nav_lon_grid_M <= max(large_coords[:,1]))\n",
    "mask_lat = (ds_tot.nav_lat_grid_M >= min(large_coords[:,0])) & (ds_tot.nav_lat_grid_M <= max(large_coords[:,0]))'''\n",
    "\n",
    "\n",
    "\n",
    "# select domain - large box\n",
    "mask_lon = (ds_month.nav_lon >= minlon) & (ds_month.nav_lon <= maxlon)\n",
    "mask_lat = (ds_month.nav_lat >= minlat) & (ds_month.nav_lat <= maxlat)\n",
    "ds_domain = ds_month.where(mask_lon & mask_lat, drop=True)"
   ]
  }
 ],
 "metadata": {
  "kernelspec": {
   "display_name": "Python 3 (ipykernel)",
   "language": "python",
   "name": "python3"
  },
  "language_info": {
   "codemirror_mode": {
    "name": "ipython",
    "version": 3
   },
   "file_extension": ".py",
   "mimetype": "text/x-python",
   "name": "python",
   "nbconvert_exporter": "python",
   "pygments_lexer": "ipython3",
   "version": "3.7.11"
  }
 },
 "nbformat": 4,
 "nbformat_minor": 5
}
