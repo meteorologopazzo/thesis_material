{
 "cells": [
  {
   "cell_type": "code",
   "execution_count": 69,
   "id": "690a1a54",
   "metadata": {},
   "outputs": [],
   "source": [
    "import numpy as np\n",
    "import pandas as pd\n",
    "import glob\n",
    "import xarray as xr\n",
    "import matplotlib.pyplot as plt\n",
    "from scipy import stats\n",
    "\n",
    "import sys; sys.path.insert(1, '/home/alessandro/scripts')\n",
    "import os\n",
    "\n",
    "import geometry as gm\n",
    "#import conversion as cnv\n",
    "#from func_statistics import compute_pdf_nbin, slopes_r_p, slope_time, slope_maps\n",
    "#from coare_functions import *\n",
    "import meteo\n",
    "import lcl\n",
    "import cartopy.crs as ccrs\n",
    "crs = ccrs.PlateCarree()\n",
    "#from plotmap import plot_background\n",
    "from plotdistr import fb_distribution_npoint, perc_distribution, scatterplot_fit, hist2d\n",
    "import warnings; warnings.filterwarnings(\"ignore\")"
   ]
  },
  {
   "cell_type": "code",
   "execution_count": 2,
   "id": "9a8c6fde",
   "metadata": {},
   "outputs": [],
   "source": [
    "%load_ext autoreload\n",
    "%autoreload 2"
   ]
  },
  {
   "cell_type": "code",
   "execution_count": 2,
   "id": "5a6241e1",
   "metadata": {},
   "outputs": [],
   "source": [
    "# find data\n",
    "path = '/mercury/Fabien/GS'\n",
    "wrf_files = path + '/GS700_WRF_3h_surf.nc'\n",
    "#fname_list = sorted(glob.glob(wrf_files + '*'))"
   ]
  },
  {
   "cell_type": "code",
   "execution_count": 3,
   "id": "d7c76778",
   "metadata": {},
   "outputs": [],
   "source": [
    "# open data\n",
    "ds_tot = xr.open_dataset(wrf_files)    #mfdataset(fname_list, concat_dim='Time', combine='nested')"
   ]
  },
  {
   "cell_type": "code",
   "execution_count": null,
   "id": "03f4921b",
   "metadata": {},
   "outputs": [],
   "source": [
    "# check no duplicates in data set time\n",
    "a = ds_tot['time_counter'] \n",
    "b = ds_tot['time_counter'].drop_duplicates('time_counter')\n",
    "a==b\n",
    "del a,b"
   ]
  },
  {
   "cell_type": "code",
   "execution_count": 4,
   "id": "a8bd817c",
   "metadata": {},
   "outputs": [],
   "source": [
    "# select February (same as EURECA)\n",
    "# also with : ds_tot.where(ds_tot.time_counter>0 & ds_tot.time_counter<720)\n",
    "\n",
    "ds_hourly = ds_tot.sel(time_counter=slice('2006-02-01T00:30:00.000000000', '2006-03-01T00:30:00.000000000'))\n",
    "del ds_tot"
   ]
  },
  {
   "cell_type": "code",
   "execution_count": 5,
   "id": "0df25956",
   "metadata": {},
   "outputs": [
    {
     "data": {
      "text/plain": [
       "\"if os.path.exists('/home/alessandro/prove/sea_mask_nobnd.npy'):\\n    sea_mask_nobnd = np.load('/home/alessandro/prove/sea_mask_nobnd.npy')\""
      ]
     },
     "execution_count": 5,
     "metadata": {},
     "output_type": "execute_result"
    }
   ],
   "source": [
    "# select the right region\n",
    "\n",
    "# import sea_mask\n",
    "if os.path.exists('/home/alessandro/tesi_ale/prove/sea_mask.npy'):\n",
    "    sea_mask = np.load('/home/alessandro/tesi_ale/prove/sea_mask.npy')\n",
    "\n",
    "    # sea mask with no boundaries -->  NOT WORKING BECAUSE OF SHAPES\n",
    "'''if os.path.exists('/home/alessandro/prove/sea_mask_nobnd.npy'):\n",
    "    sea_mask_nobnd = np.load('/home/alessandro/prove/sea_mask_nobnd.npy')'''\n"
   ]
  },
  {
   "cell_type": "markdown",
   "id": "5626d258",
   "metadata": {},
   "source": [
    " RETRIEVE PRESSURE FROM FILE OF DAILY OUTPUTS"
   ]
  },
  {
   "cell_type": "code",
   "execution_count": 6,
   "id": "cbca36b3",
   "metadata": {},
   "outputs": [],
   "source": [
    "# I dont have p in this file, \n",
    "# I'll have to import it from the daily simulation\n",
    "\n",
    "wrf_daily = path + '/GS700_WRF_daily_3D.nc'\n",
    "ds_daily = xr.open_dataset(wrf_daily)\n",
    "ds_daily = ds_daily.sel(time_counter=slice('2006-02-01T00:30:00.000000000', '2006-03-01T00:30:00.000000000'))\n",
    "\n",
    "# change order of dimensions in ds_daily\n",
    "\n",
    "#ds_daily_sea = ds_daily.where(sea_mask, drop=False)\n",
    "\n",
    "# select pressure and geopotential\n",
    "#     lev_M: 49y_grid_M: 483x_grid_M: 975time_counter: 28\n",
    "pres = ds_daily['PB'] + ds_daily['P'];         pres = pres.transpose('time_counter', 'lev_M', 'y_grid_M', 'x_grid_M') \n",
    "geop = ds_daily['PHB'] + ds_daily['PH'];       geop = geop.transpose('time_counter', 'lev_W', 'y_grid_M', 'x_grid_M')\n",
    "\n",
    "\n",
    "pres_sea = pres.where(sea_mask, drop=False);   pres_seasfc = pres_sea[:,0,:,:]\n",
    "geop_sea = geop.where(sea_mask, drop=False)"
   ]
  },
  {
   "cell_type": "code",
   "execution_count": 7,
   "id": "c15191f1",
   "metadata": {},
   "outputs": [],
   "source": [
    "# def lon lat time\n",
    "lon = ds_hourly['nav_lon'][0].values\n",
    "lat = ds_hourly['nav_lat'][0].values\n",
    "time = ds_hourly['time_counter'].values.astype('<M8[s]')"
   ]
  },
  {
   "cell_type": "code",
   "execution_count": 8,
   "id": "5681c1b8",
   "metadata": {},
   "outputs": [],
   "source": [
    "# daily variables\n",
    "# select sst, q2, PBLH, T2 \n",
    "sst_day_sea = ds_hourly['SST'].groupby('time_counter.day').mean();    sst_day_sea = sst_day_sea.where(sea_mask, drop=False)\n",
    "q2_day_sea = ds_hourly['Q2'].groupby('time_counter.day').mean();      q2_day_sea = q2_day_sea.where(sea_mask, drop=False)\n",
    "PBLH_day_sea = ds_hourly['PBLH'].groupby('time_counter.day').mean();  PBLH_day_sea.where(sea_mask, drop=False)\n",
    "T2_day_sea = ds_hourly['T2'].groupby('time_counter.day').mean();      T2_day_sea = T2_day_sea.where(sea_mask, drop=False)\n"
   ]
  },
  {
   "cell_type": "code",
   "execution_count": 9,
   "id": "22161085",
   "metadata": {},
   "outputs": [],
   "source": [
    "# cut out model edges -> RUN ONLY ONCE BITTE\n",
    "sst_day_sea = sst_day_sea[:, 25:-25, 25:-25]\n",
    "q2_day_sea = q2_day_sea[:, 25:-25, 25:-25]\n",
    "PBLH_day_sea = PBLH_day_sea[:, 25:-25, 25:-25]\n",
    "T2_day_sea = T2_day_sea[:, 25:-25, 25:-25]\n",
    "\n",
    "pres_sea = pres_sea[:,:, 25:-25, 25:-25]\n",
    "pres_seasfc = pres_seasfc[:, 25:-25, 25:-25]\n",
    "geop_sea = geop_sea[:,:, 25:-25, 25:-25]\n",
    "\n",
    "\n",
    "# SST-T2 = BUOYANCY\n",
    "buoyancy = sst_day_sea - T2_day_sea"
   ]
  },
  {
   "cell_type": "markdown",
   "id": "83cf7833",
   "metadata": {},
   "source": [
    "I SHOULD CUT A LITTLE BIT OF THE MODEL BOUNDARIES HERE"
   ]
  },
  {
   "cell_type": "markdown",
   "id": "e32f0c0f",
   "metadata": {},
   "source": [
    "COMPUTE LCL WITH lcl.py"
   ]
  },
  {
   "cell_type": "code",
   "execution_count": 11,
   "id": "c800dc87",
   "metadata": {},
   "outputs": [
    {
     "data": {
      "text/plain": [
       "'for t in range(len(rh[:,0,0])):     # 0,LCL_day.shape[0]\\n    for j in range(len(rh[0,:,0])):\\n        for i in range(len(rh[0,0,:])):\\n            LCL_day[t,j,i] = lcl.lcl(pres_seasfc[t,j,i], T2_day_sea[t,j,i], rh_day_sea[t,j,i])'"
      ]
     },
     "execution_count": 11,
     "metadata": {},
     "output_type": "execute_result"
    }
   ],
   "source": [
    "# compute surface saturation specific humidity\n",
    "rh_day_sea = meteo.rhcalc(T2_day_sea-273.15, pres_seasfc/100., q2_day_sea)/100.        # in meteo.py, they multiplied by 100\n",
    "\n",
    "# compute lcl with loops\n",
    "LCL_day_sea = np.zeros_like(rh_day_sea)\n",
    "\n",
    "# vectorize lcl function!\n",
    "vectorized_lcl = np.vectorize(lcl.lcl)\n",
    "LCL_day_sea = vectorized_lcl(pres_seasfc, T2_day_sea, rh_day_sea)\n",
    "\n",
    "\n",
    "\n",
    "'''for t in range(len(rh[:,0,0])):     # 0,LCL_day.shape[0]\n",
    "    for j in range(len(rh[0,:,0])):\n",
    "        for i in range(len(rh[0,0,:])):\n",
    "            LCL_day[t,j,i] = lcl.lcl(pres_seasfc[t,j,i], T2_day_sea[t,j,i], rh_day_sea[t,j,i])'''\n",
    "\n"
   ]
  },
  {
   "cell_type": "code",
   "execution_count": 70,
   "id": "240fd1ba",
   "metadata": {},
   "outputs": [],
   "source": [
    "# compute anomalies daily data\n",
    "s = 100\n",
    "\n",
    "# analyze average behaviours as well\n",
    "sst_day_ave = np.zeros(sst_day_sea.shape)\n",
    "PBLH_day_ave = np.zeros(PBLH_day_sea.shape)\n",
    "LCL_day_ave = np.zeros(LCL_day_sea.shape)\n",
    "buoya_ave = np.zeros(buoyancy.shape)\n",
    "\n",
    "# initialize anomalies\n",
    "dsst_day = np.zeros(sst_day_sea.shape)\n",
    "dPBLH_day = np.zeros(PBLH_day_sea.shape)\n",
    "dLCL_day = np.zeros(LCL_day_sea.shape)\n",
    "dbuoya_day = np.zeros(buoyancy.shape)"
   ]
  },
  {
   "cell_type": "code",
   "execution_count": 71,
   "id": "a58ef5a1",
   "metadata": {},
   "outputs": [
    {
     "name": "stdout",
     "output_type": "stream",
     "text": [
      "0\n",
      "10\n",
      "20\n"
     ]
    }
   ],
   "source": [
    "# actual computation of smoothed fields\n",
    "\n",
    "for t in range(0,sst_day_sea.shape[0]):\n",
    "    if t % 10 == 0:\n",
    "        print(t)\n",
    "    # upscale using gaussian filter\n",
    "    sst_day_ave[t] = gm.nan_gaussian_filter(sst_day_sea[t],s)          \n",
    "    dsst_day[t] = sst_day_sea[t] - sst_day_ave[t]\n",
    "    \n",
    "    PBLH_day_ave[t] = gm.nan_gaussian_filter(PBLH_day_sea[t],s)        \n",
    "    dPBLH_day[t] = PBLH_day_sea[t] - PBLH_day_ave[t]\n",
    "    \n",
    "    LCL_day_ave[t] = gm.nan_gaussian_filter(LCL_day_sea[t],s)          \n",
    "    dLCL_day[t] = LCL_day_sea[t] - LCL_day_ave[t]\n",
    "    \n",
    "    buoya_ave[t] = gm.nan_gaussian_filter(buoyancy[t],s)\n",
    "    dbuoya_day[t] = buoyancy[t] - buoya_ave[t]\n",
    "\n",
    "buoya_ave[np.isinf(buoya_ave)] = np.nan         # WHY DOESNT IT WORK ALRWEADY IN THE FILTER?\n",
    "dbuoya_day[np.isinf(dbuoya_day)] = np.nan"
   ]
  },
  {
   "cell_type": "code",
   "execution_count": 74,
   "id": "764daa00",
   "metadata": {},
   "outputs": [
    {
     "data": {
      "text/plain": [
       "False"
      ]
     },
     "execution_count": 74,
     "metadata": {},
     "output_type": "execute_result"
    }
   ],
   "source": [
    "buoya_ave[np.isinf(buoya_ave)] = np.nan\n",
    "np.any( np.isinf(buoya_ave) )\n",
    "\n",
    "# 2 3 4 15 and 16 have inf values\n",
    "plt.contourf(np.isinf(buoya_ave)[3] )\n",
    "plt.colorbar()"
   ]
  },
  {
   "cell_type": "code",
   "execution_count": null,
   "id": "82f67b58",
   "metadata": {},
   "outputs": [],
   "source": [
    "# CHECKING BEHAVIOURA WITH BUOYANCY\n",
    "\n",
    "#  !!!!!!!!! BUOYA_AVE HAS -INF VALUES!!!!!!!"
   ]
  },
  {
   "cell_type": "code",
   "execution_count": 76,
   "id": "ffc305c2",
   "metadata": {},
   "outputs": [],
   "source": [
    "# DISTRIBUTION PBLH_ave / LCL_ave vs SST_ave bin - DAILY\n",
    "perc_step = 5\n",
    "nbins = int(100/perc_step) # Number of bins"
   ]
  },
  {
   "cell_type": "code",
   "execution_count": 81,
   "id": "26fb56c2",
   "metadata": {},
   "outputs": [],
   "source": [
    "# PERC DISTRIBUTION\n",
    "x = dbuoya_day.copy()\n",
    "x = np.array(x)\n",
    "control = x.reshape(-1)\n",
    "\n",
    "##### Perc distribution: PBLH\n",
    "# returns:   pdist_control , pdist_var  ,  std deviation  ,   std error \n",
    "\n",
    "y = dPBLH_day[:,:,:].copy()\n",
    "y = np.array(y)\n",
    "variable = y.reshape(-1)\n",
    "pdist_dbuoya, pdist_dPBLH_dbuoya, pstd_dPBLH_dbuoya, pstd_err_dPBLH_dbuoya = perc_distribution(control, variable, nbins, perc_step)\n",
    "# pdist_control , pdist_var  ,  std deviation  ,   std error \n",
    "\n",
    "\n",
    "##### Perc distribution: LCL\n",
    "y = dLCL_day[:,:,:].copy()\n",
    "y = np.array(y)\n",
    "variable = y.reshape(-1)\n",
    "pdist_dbuoya, pdist_dLCL_dbuoya, pstd_dLCL_dbuoya, pstd_err_dLCL_dbuoya = perc_distribution(control, variable, nbins, perc_step)"
   ]
  },
  {
   "cell_type": "code",
   "execution_count": 82,
   "id": "1836d614",
   "metadata": {},
   "outputs": [],
   "source": [
    "# FIXED BIN DISTRIBUTION\n",
    "x = dbuoya_day.copy()\n",
    "x = np.array(x)\n",
    "control = x.reshape(-1)\n",
    "\n",
    "##### Fixed bin distribution: PBLH\n",
    "# returns:   dist_control , dist_var  ,  std dev of mean  , num of points per bin\n",
    "\n",
    "y = dPBLH_day[:,:,:].copy()\n",
    "y = np.array(y)\n",
    "variable = y.reshape(-1)\n",
    "dist_dbuoya, dist_dPBLH_dbuoya, std_dPBLH_dbuoya, npoints_PBLH = fb_distribution_npoint(control, variable, nbins, perc_step)\n",
    "\n",
    "##### Fixed bin distribution: LCL\n",
    "y = dLCL_day[:,:,:].copy()\n",
    "y = np.array(y)\n",
    "variable = y.reshape(-1)\n",
    "dist_dbuoya, dist_dLCL_dbuoya, std_dLCL_dbuoya, npoints_LCL = fb_distribution_npoint(control, variable, nbins, perc_step)"
   ]
  },
  {
   "cell_type": "code",
   "execution_count": 85,
   "id": "76bc52ce",
   "metadata": {},
   "outputs": [
    {
     "data": {
      "image/png": "[encoded data removed]",
      "text/plain": [
       "<Figure size 640x480 with 2 Axes>"
      ]
     },
     "metadata": {},
     "output_type": "display_data"
    }
   ],
   "source": [
    "###### Figure\n",
    "'''fig = plt.figure(figsize=(6., 6.), constrained_layout=True)\n",
    "spec = fig.add_gridspec(4, 4)\n",
    "ax1 = fig.add_subplot(spec[1:, :3]) # 2d distributions.'''\n",
    "\n",
    "fig, ax = plt.subplots(1,2)\n",
    "\n",
    "# PERCENTILES\n",
    "ax[0].plot(pdist_dbuoya, pdist_dPBLH_dbuoya, '.-',color='b', label='PBLH')\n",
    "ax[0].plot(pdist_dbuoya, pdist_dLCL_dbuoya, '.-',color='firebrick', label='LCL')\n",
    "ax[0].legend()\n",
    "\n",
    "ax[0].set_ylabel('height anoms [m]', fontsize=12); ax[0].set_xlabel('SST-SAT [˚C]', fontsize=12); \n",
    "ax[0].grid(); ax[0].set_title('PDist')\n",
    "\n",
    "\n",
    "# FIXED BINS\n",
    "ax[1].plot(dist_dbuoya, dist_dPBLH_dbuoya, '.-',color='b', label='PBLH')\n",
    "ax[1].plot(dist_dbuoya, dist_dLCL_dbuoya, '.-',color='firebrick', label='LCL')\n",
    "ax[1].legend()\n",
    "\n",
    "#ax[1].set_ylabel('height [m]', fontsize=12); \n",
    "ax[1].set_xlabel('SST-SAT anoms [˚C]', fontsize=12); \n",
    "ax[1].grid(); ax[1].set_title('Bins')\n",
    "\n",
    "\n",
    "fig.suptitle('High-passed PBLH and LCL vs buoyancy - GS')\n",
    "\n",
    "plt.subplots_adjust(wspace=0.4, \n",
    "                    hspace=0.3)\n",
    "\n",
    "\n",
    "#plt.savefig('/home/alessandro/tesi_ale/prove/plot/pbl_mask_GS/dPBLH_dLCL_vs_dbuoy.png')\n"
   ]
  },
  {
   "cell_type": "code",
   "execution_count": null,
   "id": "8a93079b",
   "metadata": {},
   "outputs": [],
   "source": []
  },
  {
   "cell_type": "code",
   "execution_count": null,
   "id": "c8072bad",
   "metadata": {},
   "outputs": [],
   "source": []
  },
  {
   "cell_type": "code",
   "execution_count": null,
   "id": "f7c0c33f",
   "metadata": {},
   "outputs": [],
   "source": []
  },
  {
   "cell_type": "code",
   "execution_count": null,
   "id": "3d0f1998",
   "metadata": {},
   "outputs": [],
   "source": [
    "# CHECKING BEHAVIOURS OF AVERAGE FIELDS"
   ]
  },
  {
   "cell_type": "code",
   "execution_count": 12,
   "id": "31287802",
   "metadata": {},
   "outputs": [],
   "source": [
    "# DISTRIBUTION PBLH_ave / LCL_ave vs SST_ave bin - DAILY\n",
    "perc_step = 5\n",
    "nbins = int(100/perc_step) # Number of bins"
   ]
  },
  {
   "cell_type": "code",
   "execution_count": 13,
   "id": "1a92793a",
   "metadata": {},
   "outputs": [],
   "source": [
    "# PERC DISTRIBUTION\n",
    "x = sst_day_ave.copy()\n",
    "control = x.reshape(-1)\n",
    "\n",
    "##### Perc distribution: PBLH\n",
    "# returns:   pdist_control , pdist_var  ,  std deviation  ,   std error \n",
    "\n",
    "y = PBLH_day_ave[:,:,:].copy()\n",
    "variable = y.reshape(-1)\n",
    "pdist_sst_ave, pdist_PBLH_sst_ave, pstd_PBLH_sst_ave, pstd_err_PBLH_sst_ave = perc_distribution(control, variable, nbins, perc_step)\n",
    "# pdist_control , pdist_var  ,  std deviation  ,   std error \n",
    "\n",
    "\n",
    "##### Perc distribution: LCL\n",
    "y = LCL_day_ave[:,:,:].copy()\n",
    "variable = y.reshape(-1)\n",
    "pdist_sst_ave, pdist_LCL_sst_ave, pstd_LCL_sst_ave, pstd_err_LCL_sst_ave = perc_distribution(control, variable, nbins, perc_step)"
   ]
  },
  {
   "cell_type": "code",
   "execution_count": 14,
   "id": "e09a1e29",
   "metadata": {},
   "outputs": [],
   "source": [
    "# FIXED BIN DISTRIBUTION\n",
    "x = sst_day_ave.copy()\n",
    "control = x.reshape(-1)\n",
    "\n",
    "##### Fixed bin distribution: PBLH\n",
    "# returns:   dist_control , dist_var  ,  std dev of mean  , num of points per bin\n",
    "\n",
    "y = PBLH_day_ave[:,:,:].copy()\n",
    "variable = y.reshape(-1)\n",
    "dist_sst_ave, dist_PBLH_sst_ave, std_PBLH_sst_ave, npoints_PBLH = fb_distribution_npoint(control, variable, nbins, perc_step)\n",
    "\n",
    "##### Fixed bin distribution: LCL\n",
    "y = LCL_day_ave[:,:,:].copy()\n",
    "variable = y.reshape(-1)\n",
    "dist_sst_ave, dist_LCL_sst_ave, std_LCL_sst_ave, npoints_LCL = fb_distribution_npoint(control, variable, nbins, perc_step)"
   ]
  },
  {
   "cell_type": "code",
   "execution_count": 37,
   "id": "e59852b5",
   "metadata": {},
   "outputs": [
    {
     "data": {
      "text/plain": [
       "array([1017.72611311,  967.01606569,  880.29014779,  786.01043014,\n",
       "        709.39713539,  732.44516501,  744.42034093,  781.63063362,\n",
       "        827.22394126,  861.58315344,  907.88378627,  926.99679466,\n",
       "        925.74591977,  896.73374176,  949.12387395, 1018.40152282,\n",
       "        881.72773518, 1031.1236285 , 1022.5884162 , 1005.80871216])"
      ]
     },
     "execution_count": 37,
     "metadata": {},
     "output_type": "execute_result"
    }
   ],
   "source": [
    "dist_PBLH_sst_ave"
   ]
  },
  {
   "cell_type": "code",
   "execution_count": 37,
   "id": "d447fbce",
   "metadata": {},
   "outputs": [
    {
     "data": {
      "image/png": "[encoded data removed]",
      "text/plain": [
       "<Figure size 640x480 with 2 Axes>"
      ]
     },
     "metadata": {},
     "output_type": "display_data"
    }
   ],
   "source": [
    "###### Figure\n",
    "'''fig = plt.figure(figsize=(6., 6.), constrained_layout=True)\n",
    "spec = fig.add_gridspec(4, 4)\n",
    "ax1 = fig.add_subplot(spec[1:, :3]) # 2d distributions.'''\n",
    "\n",
    "fig, ax = plt.subplots(1,2)\n",
    "\n",
    "# PERCENTILES\n",
    "ax[0].plot(pdist_sst_ave-273.15, pdist_PBLH_sst_ave, '.-',color='b', label='PBLH')\n",
    "ax[0].plot(pdist_sst_ave-273.15, pdist_LCL_sst_ave, '.-',color='firebrick', label='LCL')\n",
    "ax[0].legend()\n",
    "\n",
    "ax[0].set_ylabel('height [m]', fontsize=12); ax[0].set_xlabel('SST [˚C]', fontsize=12); \n",
    "ax[0].grid(); ax[0].set_title('PDist, average fields')\n",
    "\n",
    "\n",
    "# FIXED BINS\n",
    "ax[1].plot(dist_sst_ave-273.15, dist_PBLH_sst_ave, '.-',color='b', label='PBLH')\n",
    "ax[1].plot(dist_sst_ave-273.15, dist_LCL_sst_ave, '.-',color='firebrick', label='LCL')\n",
    "ax[1].legend()\n",
    "\n",
    "#ax[1].set_ylabel('height [m]', fontsize=12); \n",
    "ax[1].set_xlabel('SST [˚C]', fontsize=12); \n",
    "ax[1].grid(); ax[1].set_title('Fixed bins, average fields')\n",
    "\n",
    "\n",
    "plt.subplots_adjust(wspace=0.4, \n",
    "                    hspace=0.3)\n",
    "\n",
    "\n",
    "#plt.savefig('/home/alessandro/prove/primi_plot/pbl_mask/average_PBL_LCL')\n"
   ]
  },
  {
   "cell_type": "code",
   "execution_count": null,
   "id": "a75f0785",
   "metadata": {},
   "outputs": [],
   "source": []
  },
  {
   "cell_type": "code",
   "execution_count": null,
   "id": "499d1992",
   "metadata": {},
   "outputs": [],
   "source": []
  },
  {
   "cell_type": "code",
   "execution_count": null,
   "id": "86b3a8f5",
   "metadata": {},
   "outputs": [],
   "source": []
  },
  {
   "cell_type": "code",
   "execution_count": null,
   "id": "073cd2b4",
   "metadata": {},
   "outputs": [],
   "source": []
  },
  {
   "cell_type": "code",
   "execution_count": null,
   "id": "b1a60cef",
   "metadata": {},
   "outputs": [],
   "source": []
  },
  {
   "cell_type": "code",
   "execution_count": null,
   "id": "65235109",
   "metadata": {},
   "outputs": [],
   "source": [
    "# # DISTRIBUTION PBLH/LCL vs SST bin - DAILY\n",
    "# DONE ABOVE"
   ]
  },
  {
   "cell_type": "code",
   "execution_count": 17,
   "id": "f110b41b",
   "metadata": {},
   "outputs": [],
   "source": [
    "# DISTRIBUTION PBLH/LCL vs SST bin - DAILY\n",
    "perc_step = 5\n",
    "nbins = int(100/perc_step) # Number of bins"
   ]
  },
  {
   "cell_type": "code",
   "execution_count": 18,
   "id": "e77c18af",
   "metadata": {
    "collapsed": true
   },
   "outputs": [
    {
     "ename": "NameError",
     "evalue": "name 'sst_day' is not defined",
     "output_type": "error",
     "traceback": [
      "\u001b[0;31m---------------------------------------------------------------------------\u001b[0m",
      "\u001b[0;31mNameError\u001b[0m                                 Traceback (most recent call last)",
      "\u001b[0;32m/tmp/ipykernel_10517/837227217.py\u001b[0m in \u001b[0;36m<module>\u001b[0;34m\u001b[0m\n\u001b[1;32m      1\u001b[0m \u001b[0;31m# PERC DISTRIBUTION\u001b[0m\u001b[0;34m\u001b[0m\u001b[0;34m\u001b[0m\u001b[0;34m\u001b[0m\u001b[0m\n\u001b[0;32m----> 2\u001b[0;31m \u001b[0mx\u001b[0m \u001b[0;34m=\u001b[0m \u001b[0msst_day\u001b[0m\u001b[0;34m.\u001b[0m\u001b[0mcopy\u001b[0m\u001b[0;34m(\u001b[0m\u001b[0;34m)\u001b[0m\u001b[0;34m\u001b[0m\u001b[0;34m\u001b[0m\u001b[0m\n\u001b[0m\u001b[1;32m      3\u001b[0m \u001b[0mcontrol\u001b[0m \u001b[0;34m=\u001b[0m \u001b[0mx\u001b[0m\u001b[0;34m.\u001b[0m\u001b[0mreshape\u001b[0m\u001b[0;34m(\u001b[0m\u001b[0;34m-\u001b[0m\u001b[0;36m1\u001b[0m\u001b[0;34m)\u001b[0m\u001b[0;34m\u001b[0m\u001b[0;34m\u001b[0m\u001b[0m\n\u001b[1;32m      4\u001b[0m \u001b[0;34m\u001b[0m\u001b[0m\n\u001b[1;32m      5\u001b[0m \u001b[0;31m##### Perc distribution: PBLH\u001b[0m\u001b[0;34m\u001b[0m\u001b[0;34m\u001b[0m\u001b[0;34m\u001b[0m\u001b[0m\n",
      "\u001b[0;31mNameError\u001b[0m: name 'sst_day' is not defined"
     ]
    }
   ],
   "source": [
    "# PERC DISTRIBUTION\n",
    "x = sst_day.copy()\n",
    "control = x.reshape(-1)\n",
    "\n",
    "##### Perc distribution: PBLH\n",
    "y = PBLH_day[:,:,:].copy()\n",
    "variable = y.reshape(-1)\n",
    "pdist_sst, pdist_PBLH, pstd_PBLH, pstd_err_PBLH = perc_distribution(control, variable, nbins, perc_step)\n",
    "\n",
    "##### Perc distribution: LCL\n",
    "y = LCL_day[:,:,:].copy()\n",
    "variable = y.reshape(-1)\n",
    "pdist_sst, pdist_LCL, pstd_LCL, pstd_err_LCL = perc_distribution(control, variable, nbins, perc_step)"
   ]
  },
  {
   "cell_type": "code",
   "execution_count": null,
   "id": "11c7836d",
   "metadata": {},
   "outputs": [],
   "source": [
    "# FIXED BIN DISTRIBUTION\n",
    "x = sst_day.copy()\n",
    "control = x.reshape(-1)\n",
    "##### Fixed bin distribution: PBLH\n",
    "y = PBLH_day[:,:,:].copy()\n",
    "variable = y.reshape(-1)\n",
    "dist_sst, dist_PBLH, std_err_PBLH, npoint_PBLH = fb_distribution_npoint(control, variable, nbins, perc_step)\n",
    "##### Fixed bin distribution: LCL\n",
    "y = LCL_day[:,:,:].copy()\n",
    "variable = y.reshape(-1)\n",
    "dist_sst, dist_LCL, std_err_LCL, npoint_LCL = fb_distribution_npoint(control, variable, nbins, perc_step)"
   ]
  },
  {
   "cell_type": "code",
   "execution_count": null,
   "id": "dfce59ad",
   "metadata": {},
   "outputs": [],
   "source": [
    "###### Figure\n",
    "'''fig = plt.figure(figsize=(6., 6.), constrained_layout=True)\n",
    "spec = fig.add_gridspec(4, 4)\n",
    "ax1 = fig.add_subplot(spec[1:, :3]) # 2d distributions.'''\n",
    "\n",
    "fig, ax = plt.subplots(2,2)    # (ax1, ax2, ax3, ax4)\n",
    "#fig.tight_layout(pad=3.0)\n",
    "\n",
    "ax[0,0].plot(pdist_sst-273.15, pdist_PBLH, '.',color='b', label='PBLH')\n",
    "ax[0,0].plot(pdist_sst-273.15, pdist_LCL, '.',color='firebrick', label='LCL')\n",
    "ax[0,0].legend()\n",
    "ax[0,0].set_title('PDist daily, perc_step=5')\n",
    "ax[0,0].set_ylabel('height [m]', fontsize=12); #ax[0,0].set_xlabel('SST [˚C]', fontsize=12); \n",
    "ax[0,0].grid()\n",
    "\n",
    "\n",
    "ax[1,0].plot(pdist_sst-273.15, pdist_PBLH-pdist_LCL, '.-', color='r', mfc='none')\n",
    "ax[1,0].set_title('PDist, PBLH-LCL')\n",
    "ax[1,0].set_ylabel('height difference [m]', fontsize=12); \n",
    "ax[1,0].set_xlabel('SST [˚C]', fontsize=12); \n",
    "ax[1,0].grid()\n",
    "\n",
    "\n",
    "\n",
    "ax[0,1].plot(dist_sst-273.15, dist_PBLH, '.', color='b', label='PBLH')\n",
    "ax[0,1].plot(dist_sst-273.15, dist_LCL, '.', color='firebrick', label='LCL')\n",
    "ax[0,1].legend()    #([dist_PBLH,dist_LCL], ['PBLH','LCL'])\n",
    "ax[0,1].set_title(f'Fixed bins daily, {nbins} bins')\n",
    "#ax[0,1].set_ylabel('height [m]', fontsize=12)\n",
    "#ax[0,1].set_xlabel('SST [˚C]', fontsize=12); \n",
    "ax[0,1].grid()\n",
    "\n",
    "\n",
    "ax[1,1].plot(dist_sst-273.15, dist_PBLH-dist_LCL, '.-', color='g', mfc='none')\n",
    "ax[1,1].set_title('Fixed bins, PBLH-LCL')\n",
    "#ax[1,1].set_ylabel('height difference [m]', fontsize=12)\n",
    "ax[1,1].set_xlabel('SST [˚C]', fontsize=12); \n",
    "ax[1,1].grid()\n",
    "\n",
    "\n",
    "plt.subplots_adjust(wspace=0.4, \n",
    "                    hspace=0.35)\n",
    "\n",
    "#plt.savefig('/home/alessandro/prove/primi_plot/PBLH_LCL/PBLH_LCL_good/small_dom/small_PBLH_LCL_vs_SST')\n",
    "\n",
    "#ax1.set_ylabel('height [m]', fontsize=12); ax1.set_xlabel('SST [˚C]', fontsize=12); ax1.grid()\n",
    "#plt.xlim([ pdist_sst[0]-273.15 - (pdist_sst[1]-pdist_sst[0]),pdist_sst[-1]-273.15 + (pdist_sst[1]-pdist_sst[0]) ])"
   ]
  },
  {
   "cell_type": "code",
   "execution_count": null,
   "id": "8cf5c5be",
   "metadata": {},
   "outputs": [],
   "source": [
    "# PERC DISTRIBUTION\n",
    "path_bindist = '/home/matteo/Eureca/COARE35/Results/acquistapace_bindist/perc_dist/daily/'\n",
    "# np.savetxt(path_bindist + 'pdist_sst_day.txt', pdist_sst)\n",
    "np.savetxt(path_bindist + 'pdist_PBLH_sst_day.txt', pdist_PBLH)\n",
    "np.savetxt(path_bindist + 'pdist_LCL_sst_day.txt', pdist_LCL)\n",
    "np.savetxt(path_bindist + 'pstd_PBLH_sst_day.txt', pstd_PBLH)\n",
    "np.savetxt(path_bindist + 'pstd_LCL_sst_day.txt', pstd_LCL)"
   ]
  },
  {
   "cell_type": "code",
   "execution_count": null,
   "id": "c7471cd8",
   "metadata": {},
   "outputs": [],
   "source": [
    "# FB DISTRIBUTION (no point threshold)\n",
    "path_bindist = '/home/matteo/Eureca/COARE35/Results/acquistapace_bindist/fb_dist/daily/fullfield/'\n",
    "np.savetxt(path_bindist + 'dist_sst_day.txt', dist_sst)\n",
    "np.savetxt(path_bindist + 'dist_PBLH_sst_day.txt', dist_PBLH)\n",
    "np.savetxt(path_bindist + 'dist_LCL_sst_day.txt', dist_LCL)\n",
    "np.savetxt(path_bindist + 'std_err_PBLH_sst_day.txt', std_err_PBLH)\n",
    "np.savetxt(path_bindist + 'std_err_LCL_sst_day.txt', std_err_LCL)\n",
    "np.savetxt(path_bindist + 'npoint_PBLH_sst_day.txt', npoint_PBLH)\n",
    "np.savetxt(path_bindist + 'npoint_LCL_sst_day.txt', npoint_LCL)"
   ]
  },
  {
   "cell_type": "code",
   "execution_count": null,
   "id": "f0917b4f",
   "metadata": {},
   "outputs": [],
   "source": []
  },
  {
   "cell_type": "code",
   "execution_count": null,
   "id": "e1f47da8",
   "metadata": {},
   "outputs": [],
   "source": []
  },
  {
   "cell_type": "code",
   "execution_count": null,
   "id": "be511d3f",
   "metadata": {},
   "outputs": [],
   "source": []
  },
  {
   "cell_type": "code",
   "execution_count": null,
   "id": "435347c3",
   "metadata": {},
   "outputs": [],
   "source": []
  },
  {
   "cell_type": "code",
   "execution_count": 24,
   "id": "bcd170f2",
   "metadata": {},
   "outputs": [],
   "source": [
    "# DISTRIBUTION PBLH/LCL vs dSST bin - DAILY\n",
    "perc_step = 5\n",
    "nbins = int(100/perc_step) # Number of bins"
   ]
  },
  {
   "cell_type": "code",
   "execution_count": 25,
   "id": "627d7e43",
   "metadata": {},
   "outputs": [],
   "source": [
    "# PERC DISTRIBUTION\n",
    "x = dsst_day.copy()\n",
    "control = x.reshape(-1)\n",
    "\n",
    "##### Perc distribution: PBLH\n",
    "y = PBLH_day_sea[:,:,:].copy()\n",
    "variable = y.values.reshape(-1)\n",
    "pdist_dsst, pdist_PBLH_dsst, pstd_PBLH_dsst, pstd_err_PBLH_dsst = perc_distribution(control, variable, nbins, perc_step)\n",
    "\n",
    "##### Perc distribution: LCL\n",
    "y = LCL_day_sea[:,:,:].copy()\n",
    "variable = y.reshape(-1)\n",
    "pdist_dsst, pdist_LCL_dsst, pstd_LCL_dsst, pstd_err_LCL_dsst = perc_distribution(control, variable, nbins, perc_step)"
   ]
  },
  {
   "cell_type": "code",
   "execution_count": 26,
   "id": "ea1606ff",
   "metadata": {},
   "outputs": [],
   "source": [
    "# FIXED BIN DISTRIBUTION\n",
    "x = dsst_day.copy()\n",
    "control = x.reshape(-1)\n",
    "\n",
    "##### Fixed bin distribution: PBLH\n",
    "y = PBLH_day_sea[:,:,:].copy()\n",
    "variable = y.values.reshape(-1)\n",
    "dist_dsst, dist_PBLH_dsst, std_err_PBLH_dsst, npoint_PBLH_dsst = fb_distribution_npoint(control, variable, nbins, perc_step)\n",
    "\n",
    "##### Fixed bin distribution: LCL\n",
    "y = LCL_day_sea[:,:,:].copy()\n",
    "variable = y.reshape(-1)\n",
    "dist_dsst, dist_LCL_dsst, std_err_LCL_dsst, npoint_LCL_dsst = fb_distribution_npoint(control, variable, nbins, perc_step)"
   ]
  },
  {
   "cell_type": "code",
   "execution_count": 38,
   "id": "18b61fe6",
   "metadata": {},
   "outputs": [
    {
     "data": {
      "text/plain": [
       "\"ax1.set_ylabel('height [m]', fontsize=12); ax1.set_xlabel('SST anomalies [˚C]', fontsize=12); ax1.grid()\\nplt.xlim([ pdist_dsst[0] - (pdist_dsst[1]-pdist_dsst[0]),pdist_dsst[-1] + (pdist_dsst[1]-pdist_dsst[0]) ])\""
      ]
     },
     "execution_count": 38,
     "metadata": {},
     "output_type": "execute_result"
    },
    {
     "data": {
      "image/png": "[encoded data removed]",
      "text/plain": [
       "<Figure size 640x480 with 4 Axes>"
      ]
     },
     "metadata": {},
     "output_type": "display_data"
    }
   ],
   "source": [
    "###### Figure\n",
    "'''fig = plt.figure(figsize=(6., 6.), constrained_layout=True)\n",
    "spec = fig.add_gridspec(4, 4)\n",
    "ax1 = fig.add_subplot(spec[1:, :3]) # 2d distributions.'''\n",
    "\n",
    "fig, ax = plt.subplots(2,2)\n",
    "\n",
    "ax[0,0].plot(pdist_dsst, pdist_PBLH_dsst, '.',color='b', label='PBLH')\n",
    "ax[0,0].plot(pdist_dsst, pdist_LCL_dsst, '.',color='firebrick', label='LCL')\n",
    "ax[0,0].legend()\n",
    "ax[0,0].set_title(f'PDist, PBLH and LCL vs dSST') #perc_step={perc_step}')\n",
    "ax[0,0].set_ylabel('height [m]', fontsize=12); #ax[0,0].set_xlabel('SST anomalies [˚C]', fontsize=12); \n",
    "ax[0,0].grid()\n",
    "\n",
    "ax[1,0].plot(pdist_dsst, pdist_PBLH_dsst-pdist_LCL_dsst, '.-', color='g', mfc='none')\n",
    "ax[1,0].set_title('PDist, PBLH - LCL vs dSST')\n",
    "ax[1,0].set_ylabel('height difference [m]', fontsize=12); ax[1,0].set_xlabel('SST anomalies [˚C]', fontsize=12); ax[1,0].grid()\n",
    "\n",
    "ax[0,1].plot(dist_dsst, dist_PBLH_dsst, '.', color='b', label='PBLH')\n",
    "ax[0,1].plot(dist_dsst, dist_LCL_dsst, '.', color='firebrick', label='LCL')\n",
    "ax[0,1].legend()\n",
    "ax[0,1].set_title(f'Fixed bins, PBLH and LCL vs dSST')\n",
    "#ax[0,1].set_ylabel('height [m]', fontsize=12)\n",
    "#ax[0,1].set_xlabel('SST anomalies [˚C]', fontsize=12); \n",
    "ax[0,1].grid()\n",
    "\n",
    "ax[1,1].plot(dist_dsst, dist_PBLH_dsst-dist_LCL_dsst, '.-', color='r', mfc='none')\n",
    "ax[1,1].set_title('Fixed bins, PBLH - LCL vs dSST')\n",
    "#ax[1,1].set_ylabel('height difference [m]', fontsize=12)\n",
    "ax[1,1].set_xlabel('SST anomalies [˚C]', fontsize=12); ax[1,1].grid()\n",
    "\n",
    "\n",
    "plt.subplots_adjust(wspace=0.4, \n",
    "                    hspace=0.35)\n",
    "\n",
    "#plt.savefig('/home/alessandro/prove/primi_plot/pbl_mask/PBL_LCL_vs_dSST')\n",
    "\n",
    "'''ax1.set_ylabel('height [m]', fontsize=12); ax1.set_xlabel('SST anomalies [˚C]', fontsize=12); ax1.grid()\n",
    "plt.xlim([ pdist_dsst[0] - (pdist_dsst[1]-pdist_dsst[0]),pdist_dsst[-1] + (pdist_dsst[1]-pdist_dsst[0]) ])'''"
   ]
  },
  {
   "cell_type": "code",
   "execution_count": null,
   "id": "d32ce7cf",
   "metadata": {},
   "outputs": [],
   "source": [
    "# PERC DISTRIBUTION\n",
    "path_bindist = '/home/matteo/Eureca/COARE35/Results/acquistapace_bindist/perc_dist/daily/'\n",
    "# np.savetxt(path_bindist + 'pdist_dsst_day.txt', pdist_dsst)\n",
    "np.savetxt(path_bindist + 'pdist_PBLH_dsst_day.txt', pdist_PBLH_dsst)\n",
    "np.savetxt(path_bindist + 'pdist_LCL_dsst_day.txt', pdist_LCL_dsst)\n",
    "np.savetxt(path_bindist + 'pstd_PBLH_dsst_day.txt', pstd_PBLH_dsst)\n",
    "np.savetxt(path_bindist + 'pstd_LCL_dsst_day.txt', pstd_LCL_dsst)"
   ]
  },
  {
   "cell_type": "code",
   "execution_count": null,
   "id": "34ca42df",
   "metadata": {},
   "outputs": [],
   "source": [
    "# FB DISTRIBUTION (no point threshold)\n",
    "path_bindist = '/home/matteo/Eureca/COARE35/Results/acquistapace_bindist/fb_dist/daily/fullfield/'\n",
    "np.savetxt(path_bindist + 'dist_dsst_day.txt', dist_dsst)\n",
    "np.savetxt(path_bindist + 'dist_PBLH_dsst_day.txt', dist_PBLH_dsst)\n",
    "np.savetxt(path_bindist + 'dist_LCL_dsst_day.txt', dist_LCL_dsst)\n",
    "np.savetxt(path_bindist + 'std_err_PBLH_dsst_day.txt', std_err_PBLH_dsst)\n",
    "np.savetxt(path_bindist + 'std_err_LCL_dsst_day.txt', std_err_LCL_dsst)\n",
    "np.savetxt(path_bindist + 'npoint_PBLH_dsst_day.txt', npoint_PBLH_dsst)\n",
    "np.savetxt(path_bindist + 'npoint_LCL_dsst_day.txt', npoint_LCL_dsst)"
   ]
  },
  {
   "cell_type": "code",
   "execution_count": null,
   "id": "503a054a",
   "metadata": {},
   "outputs": [],
   "source": []
  },
  {
   "cell_type": "code",
   "execution_count": null,
   "id": "382b1605",
   "metadata": {},
   "outputs": [],
   "source": []
  },
  {
   "cell_type": "code",
   "execution_count": null,
   "id": "8bc4f166",
   "metadata": {},
   "outputs": [],
   "source": []
  },
  {
   "cell_type": "code",
   "execution_count": null,
   "id": "924d9227",
   "metadata": {},
   "outputs": [],
   "source": []
  },
  {
   "cell_type": "code",
   "execution_count": 30,
   "id": "00ae8246",
   "metadata": {},
   "outputs": [],
   "source": [
    "# DISTRIBUTION dPBLH/dLCL vs dSST bin - DAILY\n",
    "perc_step = 5\n",
    "nbins = int(100/perc_step) # Number of bins"
   ]
  },
  {
   "cell_type": "code",
   "execution_count": 31,
   "id": "dbf69f51",
   "metadata": {},
   "outputs": [],
   "source": [
    "# PERC DISTRIBUTION\n",
    "x = dsst_day.copy()\n",
    "control = x.reshape(-1)\n",
    "\n",
    "##### Perc distribution: PBLH\n",
    "y = dPBLH_day[:,:,:].copy()\n",
    "variable = y.reshape(-1)\n",
    "pdist_dsst, pdist_dPBLH_dsst, pstd_dPBLH_dsst, pstd_err_dPBLH_dsst = perc_distribution(control, variable, nbins, perc_step)\n",
    "\n",
    "##### Perc distribution: LCL\n",
    "y = dLCL_day[:,:,:].copy()\n",
    "variable = y.reshape(-1)\n",
    "pdist_dsst, pdist_dLCL_dsst, pstd_dLCL_dsst, pstd_err_dLCL_dsst = perc_distribution(control, variable, nbins, perc_step)"
   ]
  },
  {
   "cell_type": "code",
   "execution_count": 32,
   "id": "f74226e7",
   "metadata": {},
   "outputs": [],
   "source": [
    "# FIXED BIN DISTRIBUTION\n",
    "x = dsst_day.copy()\n",
    "control = x.reshape(-1)\n",
    "\n",
    "##### Fixed bin distribution: PBLH\n",
    "y = dPBLH_day[:,:,:].copy()\n",
    "variable = y.reshape(-1)\n",
    "dist_dsst, dist_dPBLH_dsst, std_err_dPBLH_dsst, npoint_dPBLH_dsst = fb_distribution_npoint(control, variable, nbins, perc_step)\n",
    "\n",
    "##### Fixed bin distribution: LCL\n",
    "y = dLCL_day[:,:,:].copy()\n",
    "variable = y.reshape(-1)\n",
    "dist_dsst, dist_dLCL_dsst, std_err_dLCL_dsst, npoint_dLCL_dsst = fb_distribution_npoint(control, variable, nbins, perc_step)"
   ]
  },
  {
   "cell_type": "code",
   "execution_count": 39,
   "id": "8ea93ccf",
   "metadata": {},
   "outputs": [
    {
     "data": {
      "image/png": "[encoded data removed]",
      "text/plain": [
       "<Figure size 640x480 with 2 Axes>"
      ]
     },
     "metadata": {},
     "output_type": "display_data"
    }
   ],
   "source": [
    "###### Figure\n",
    "'''fig = plt.figure(figsize=(6., 6.), constrained_layout=True)\n",
    "spec = fig.add_gridspec(4, 4)\n",
    "ax1 = fig.add_subplot(spec[1:, :3]) # 2d distributions.'''\n",
    "\n",
    "fig, ax = plt.subplots(1,2)\n",
    "\n",
    "\n",
    "ax[0].plot(pdist_dsst, pdist_dPBLH_dsst, '.-',color='b', label='PBLH')\n",
    "ax[0].plot(pdist_dsst, pdist_dLCL_dsst, '.-',color='firebrick', label='LCL')\n",
    "ax[0].legend()\n",
    "\n",
    "ax[0].set_ylabel('height anomalies [m]', fontsize=12); ax[0].set_xlabel('SST anomalies [˚C]', fontsize=12); \n",
    "ax[0].grid(); ax[0].set_title('PDist, dPBLH and dLCL vs dSST')\n",
    "plt.xlim([ dist_dsst[0] - (dist_dsst[1]-dist_dsst[0]),dist_dsst[-1] + (dist_dsst[1]-dist_dsst[0]) ])\n",
    "\n",
    "\n",
    "\n",
    "\n",
    "ax[1].plot(dist_dsst, dist_dPBLH_dsst, '.-',color='b', label='PBLH')\n",
    "ax[1].plot(dist_dsst, dist_dLCL_dsst, '.-',color='firebrick', label='LCL')\n",
    "ax[1].legend()\n",
    "\n",
    "#ax[1].set_ylabel('height anoms[m]', fontsize=12); \n",
    "ax[1].set_xlabel('SST anomalies [˚C]', fontsize=12); \n",
    "ax[1].grid(); ax[1].set_title('Bins, dPBLH and dLCL vs dSST')\n",
    "plt.xlim([ dist_dsst[0] - (dist_dsst[1]-dist_dsst[0]),dist_dsst[-1] + (dist_dsst[1]-dist_dsst[0]) ])\n",
    "\n",
    "\n",
    "plt.subplots_adjust(wspace=0.45, \n",
    "                    hspace=0.3)\n",
    "\n",
    "\n",
    "#plt.savefig('/home/alessandro/prove/primi_plot/pbl_mask/dPBL_dLCL_vs_dSST')"
   ]
  },
  {
   "cell_type": "code",
   "execution_count": null,
   "id": "5d293f22",
   "metadata": {},
   "outputs": [],
   "source": [
    "# PERC DISTRIBUTION\n",
    "path_bindist = '/home/matteo/Eureca/COARE35/Results/acquistapace_bindist/perc_dist/daily/'\n",
    "# np.savetxt(path_bindist + 'pdist_dsst_day.txt', pdist_dsst)\n",
    "np.savetxt(path_bindist + 'pdist_dPBLH_dsst_day.txt', pdist_dPBLH_dsst)\n",
    "np.savetxt(path_bindist + 'pdist_dLCL_dsst_day.txt', pdist_dLCL_dsst)\n",
    "np.savetxt(path_bindist + 'pstd_dPBLH_dsst_day.txt', pstd_dPBLH_dsst)\n",
    "np.savetxt(path_bindist + 'pstd_dLCL_dsst_day.txt', pstd_dLCL_dsst)"
   ]
  },
  {
   "cell_type": "code",
   "execution_count": null,
   "id": "cb93d175",
   "metadata": {},
   "outputs": [],
   "source": [
    "# FB DISTRIBUTION (no point threshold)\n",
    "path_bindist = '/home/matteo/Eureca/COARE35/Results/acquistapace_bindist/fb_dist/daily/fullfield/'\n",
    "np.savetxt(path_bindist + 'dist_dsst_day.txt', dist_dsst)\n",
    "np.savetxt(path_bindist + 'dist_dPBLH_dsst_day.txt', dist_dPBLH_dsst)\n",
    "np.savetxt(path_bindist + 'dist_dLCL_dsst_day.txt', dist_dLCL_dsst)\n",
    "np.savetxt(path_bindist + 'std_err_dPBLH_dsst_day.txt', std_err_dPBLH_dsst)\n",
    "np.savetxt(path_bindist + 'std_err_dLCL_dsst_day.txt', std_err_dLCL_dsst)\n",
    "np.savetxt(path_bindist + 'npoint_dPBLH_dsst_day.txt', npoint_dPBLH_dsst)\n",
    "np.savetxt(path_bindist + 'npoint_dLCL_dsst_day.txt', npoint_dLCL_dsst)"
   ]
  },
  {
   "cell_type": "code",
   "execution_count": null,
   "id": "ed4bfa50",
   "metadata": {},
   "outputs": [],
   "source": []
  },
  {
   "cell_type": "code",
   "execution_count": null,
   "id": "e34aa968",
   "metadata": {},
   "outputs": [],
   "source": []
  },
  {
   "cell_type": "code",
   "execution_count": null,
   "id": "9354932a",
   "metadata": {},
   "outputs": [],
   "source": []
  },
  {
   "cell_type": "code",
   "execution_count": null,
   "id": "61438c35",
   "metadata": {},
   "outputs": [],
   "source": [
    "# HOURLY DATA"
   ]
  },
  {
   "cell_type": "code",
   "execution_count": null,
   "id": "d04ea62d",
   "metadata": {},
   "outputs": [],
   "source": [
    "# hourly varaibles\n",
    "# select sst, q2, U, PBLH\n",
    "sst = ds['SST'].values*seamask\n",
    "PBLH = ds['PBLH'].values*seamask"
   ]
  },
  {
   "cell_type": "code",
   "execution_count": null,
   "id": "4cd5d35d",
   "metadata": {},
   "outputs": [],
   "source": [
    "# read HOURLY LCL\n",
    "LCL_file = '/media/fabien/DAGOBAH1/WRF_EUREC4A/CNT/FEB/LCL.nc'\n",
    "ds_lcl = xr.open_dataset(LCL_file)"
   ]
  },
  {
   "cell_type": "code",
   "execution_count": null,
   "id": "1eae5295",
   "metadata": {},
   "outputs": [],
   "source": [
    "LCL = ds_lcl['LCL'].values*seamask"
   ]
  },
  {
   "cell_type": "code",
   "execution_count": null,
   "id": "632d36d5",
   "metadata": {},
   "outputs": [],
   "source": [
    "# compute anomalies hourly data\n",
    "s = 50\n",
    "dsst = np.zeros(sst.shape)\n",
    "dPBLH = np.zeros(PBLH.shape); dLCL = np.zeros(LCL.shape)\n",
    "for t in range(0,sst.shape[0]):\n",
    "    if t % 100 == 0:\n",
    "        print(t)\n",
    "    # upscale using gaussian filter\n",
    "    sst_ave = gm.nan_gaussian_filter(sst[t],s)*seamask\n",
    "    dsst[t] = sst[t] - sst_ave\n",
    "    PBLH_ave = gm.nan_gaussian_filter(PBLH[t],s)*seamask\n",
    "    dPBLH[t] = PBLH[t] - PBLH_ave\n",
    "    LCL_ave = gm.nan_gaussian_filter(LCL[t],s)*seamask\n",
    "    dLCL[t] = LCL[t] - LCL_ave"
   ]
  },
  {
   "cell_type": "code",
   "execution_count": null,
   "id": "16d2a917",
   "metadata": {},
   "outputs": [],
   "source": [
    "# DISTRIBUTION dPBLH/dLCL vs dSST bin - HOURLY\n",
    "thrsld_n = 100\n",
    "perc_step = 5\n",
    "nbins = int(100/perc_step) # Number of bins\n",
    "x = dsst.copy()\n",
    "control = x.reshape(-1)\n",
    "##### Perc distribution: dPBLH\n",
    "y = dPBLH[:,:,:].copy()\n",
    "variable = y.reshape(-1)\n",
    "pdist_dsst, pdist_dPBLH, pstd_err_dPBLH = perc_distribution(control, variable, nbins, perc_step)\n",
    "##### Fixed bin distribution: dPBLH\n",
    "dist_dsst, dist_dPBLH, std_err_dPBLH, npoint_dPBLH = fb_distribution_mod(control, variable, nbins, thrsld_n, perc_step)\n",
    "##### Perc distribution: dLCL\n",
    "y = dLCL[:,:,:].copy()\n",
    "variable = y.reshape(-1)\n",
    "pdist_dsst, pdist_dLCL, pstd_err_dLCL = perc_distribution(control, variable, nbins, perc_step)\n",
    "##### Fixed bin distribution: dLCL\n",
    "dist_dsst, dist_dLCL, std_err_dLCL, npoint_dLCL = fb_distribution_mod(control, variable, nbins, thrsld_n, perc_step)"
   ]
  },
  {
   "cell_type": "code",
   "execution_count": null,
   "id": "2e316a9b",
   "metadata": {},
   "outputs": [],
   "source": [
    "###### Figure\n",
    "fig = plt.figure(figsize=(6., 6.), constrained_layout=True)\n",
    "spec = fig.add_gridspec(4, 4)\n",
    "ax1 = fig.add_subplot(spec[1:, :3]) # 2d distributions.\n",
    "\n",
    "# ax1.errorbar(dist_dsst, dist_dPBLH, std_err_dPBLH, fmt='o', color='b', mfc='none')\n",
    "# ax1.errorbar(pdist_dsst, pdist_dPBLH, pstd_err_dPBLH, fmt='.',color='b')\n",
    "# ax1.errorbar(dist_dsst, dist_dLCL, std_err_dLCL, fmt='o', color='firebrick', mfc='none')\n",
    "# ax1.errorbar(pdist_dsst, pdist_dLCL, pstd_err_dLCL, fmt='.',color='firebrick')\n",
    "\n",
    "ax1.plot(dist_dsst, dist_dPBLH, 'o', color='b', mfc='none')\n",
    "ax1.plot(pdist_dsst, pdist_dPBLH, '.',color='b')\n",
    "ax1.plot(dist_dsst, dist_dLCL, 'o', color='firebrick', mfc='none')\n",
    "ax1.plot(pdist_dsst, pdist_dLCL, '.',color='firebrick')\n",
    "\n",
    "ax1.plot(dist_dsst, dist_dPBLH-dist_dLCL, '.-', color='g', mfc='none')\n",
    "\n",
    "ax1.set_ylabel('height [m]', fontsize=12); ax1.set_xlabel('SST anomalies [˚C]', fontsize=12); ax1.grid()\n",
    "plt.xlim([ dist_dsst[0] - + (dist_dsst[1]-dist_dsst[0]),dist_dsst[-1] + (dist_dsst[1]-dist_dsst[0]) ])"
   ]
  },
  {
   "cell_type": "code",
   "execution_count": null,
   "id": "e3b41528",
   "metadata": {},
   "outputs": [],
   "source": [
    "path_bindist = '/home/matteo/Eureca/COARE35/Results/acquistapace_bindist/'\n",
    "# PERC DISTRIBUTION\n",
    "np.savetxt(path_bindist + 'pdist_dsst.txt', pdist_dsst)\n",
    "np.savetxt(path_bindist + 'pdist_dPBLH.txt', pdist_dPBLH)\n",
    "np.savetxt(path_bindist + 'pdist_dLCL.txt', pdist_dLCL)\n",
    "np.savetxt(path_bindist + 'pstd_err_dPBLH.txt', pstd_err_dPBLH)\n",
    "np.savetxt(path_bindist + 'pstd_err_dLCL.txt', pstd_err_dLCL)\n",
    "# FB DISTRIBUTION (no point threshold)\n",
    "np.savetxt(path_bindist + 'dist_dsst.txt', dist_dsst)\n",
    "np.savetxt(path_bindist + 'dist_dPBLH.txt', dist_dPBLH)\n",
    "np.savetxt(path_bindist + 'dist_dLCL.txt', dist_dLCL)\n",
    "np.savetxt(path_bindist + 'std_err_dPBLH.txt', std_err_dPBLH)\n",
    "np.savetxt(path_bindist + 'std_err_dLCL.txt', std_err_dLCL)\n",
    "np.savetxt(path_bindist + 'npoint_dPBLH.txt', npoint_dPBLH)\n",
    "np.savetxt(path_bindist + 'npoint_dLCL.txt', npoint_dLCL)"
   ]
  },
  {
   "cell_type": "code",
   "execution_count": null,
   "id": "01bf10e4",
   "metadata": {},
   "outputs": [],
   "source": [
    "# corr length\n",
    "L = 80\n",
    "nskip = int(L/3)\n",
    "nt = int(3)\n",
    "nbin = 50"
   ]
  },
  {
   "cell_type": "code",
   "execution_count": null,
   "id": "948b0fff",
   "metadata": {},
   "outputs": [],
   "source": [
    "# linear regression PBLH vs SST\n",
    "x = dsst[::nt,::nskip,::nskip].copy()\n",
    "# y = dPBLH[::nt,::nskip,::nskip].copy()\n",
    "y = (dPBLH - dLCL)[::nt,::nskip,::nskip].copy()\n",
    "linreg_res, corr_coeff, p_value = slopes_r_p(x,y)\n",
    "\n",
    "fig = plt.figure(figsize=(12,5))\n",
    "plt.subplot(1,2,1)\n",
    "# scatterplot lin regression \n",
    "title = \"PBLH' vs SST' - sigma \"\n",
    "xlabel = 'SST anomalies [°C]'; ylabel = \"PBLH anomalies [m]\"\n",
    "fig1 = scatterplot_fit(x, y, linreg_res, s, title, xlabel, ylabel, fig)\n",
    "# histogram 2d \n",
    "plt.subplot(1,2,2)\n",
    "fig2 = hist2d(x, y, s, nbin, title, xlabel, ylabel, fig)"
   ]
  },
  {
   "cell_type": "code",
   "execution_count": null,
   "id": "3e2e4ae1",
   "metadata": {},
   "outputs": [],
   "source": []
  },
  {
   "cell_type": "code",
   "execution_count": null,
   "id": "28606eb8",
   "metadata": {},
   "outputs": [],
   "source": [
    "# PLOT DATA"
   ]
  },
  {
   "cell_type": "code",
   "execution_count": null,
   "id": "02218f8b",
   "metadata": {},
   "outputs": [],
   "source": [
    "##############\n",
    "# BOXPLOT\n",
    "##############"
   ]
  },
  {
   "cell_type": "code",
   "execution_count": null,
   "id": "54a80b31",
   "metadata": {},
   "outputs": [],
   "source": [
    "# BOXPLOT\n",
    "def box_plot(data, labels, edge_color, fill_color, ax):\n",
    "    medianprops = dict(linestyle='-', linewidth=1, color=edge_color)\n",
    "    meanpointprops = dict(marker='D', markeredgecolor='black',\n",
    "                      markerfacecolor=edge_color, markersize=4)\n",
    "    flierprops = dict(marker='o', markeredgecolor=edge_color, markersize=6,\n",
    "                  linestyle='none')\n",
    "    \n",
    "    bp = ax.boxplot(data, labels=labels, medianprops=medianprops, flierprops=flierprops, \\\n",
    "                    meanprops=meanpointprops, showmeans=True, patch_artist=True)\n",
    "    \n",
    "    for element in ['boxes', 'whiskers', 'fliers', 'means', 'medians', 'caps']:\n",
    "        plt.setp(bp[element], color=edge_color)\n",
    "    for patch in bp['boxes']:\n",
    "        patch.set(facecolor=fill_color)       \n",
    "        \n",
    "    return bp\n",
    "\n",
    "def box_plot_pos(data, offset, labels, edge_color, fill_color, ax):\n",
    "    medianprops = dict(linestyle='-', linewidth=1, color=edge_color)\n",
    "    meanpointprops = dict(marker='D', markeredgecolor='black',\n",
    "                      markerfacecolor=edge_color, markersize=4)\n",
    "    flierprops = dict(marker='o', markeredgecolor=edge_color, markersize=6,\n",
    "                  linestyle='none')\n",
    "    \n",
    "    pos = np.arange(len(labels))+offset\n",
    "    \n",
    "    bp = ax.boxplot(data, positions= pos, labels=labels, medianprops=medianprops, flierprops=flierprops, \\\n",
    "                    meanprops=meanpointprops, showmeans=True, patch_artist=True)\n",
    "    \n",
    "    for element in ['boxes', 'whiskers', 'fliers', 'means', 'medians', 'caps']:\n",
    "        plt.setp(bp[element], color=edge_color)\n",
    "    for patch in bp['boxes']:\n",
    "        patch.set(facecolor=fill_color)       \n",
    "        \n",
    "    return bp"
   ]
  },
  {
   "cell_type": "code",
   "execution_count": null,
   "id": "f4a8d0d6",
   "metadata": {},
   "outputs": [],
   "source": [
    "# build sst perc classes\n",
    "perc = np.arange(10,100,10)\n",
    "sst_day_perc = np.zeros(len(perc))\n",
    "dsst_day_perc = np.zeros(len(perc))\n",
    "\n",
    "for i in range(0,len(perc)):\n",
    "    sst_day_perc[i] = np.nanpercentile(sst_day,perc[i])\n",
    "    dsst_day_perc[i] = np.nanpercentile(dsst_day,perc[i])"
   ]
  },
  {
   "cell_type": "code",
   "execution_count": null,
   "id": "261e1064",
   "metadata": {},
   "outputs": [],
   "source": [
    "bin_PBLH_sst = []; bin_LCL_sst = []\n",
    "bin_PBLH_dsst = []; bin_LCL_dsst = []\n",
    "bin_dPBLH_dsst = []; bin_dLCL_dsst = []\n",
    "labels = []; dlabels = []\n",
    "for i in range(0,len(perc)):\n",
    "    if i == 0:\n",
    "        pblh_sst = PBLH_day[sst_day < sst_day_perc[i]]; lcl_sst = LCL_day[sst_day < sst_day_perc[i]]\n",
    "        pblh_dsst = PBLH_day[dsst_day < dsst_day_perc[i]]; lcl_dsst = LCL_day[dsst_day < dsst_day_perc[i]]\n",
    "        dpblh_dsst = dPBLH_day[dsst_day < dsst_day_perc[i]]; dlcl_dsst = dLCL_day[dsst_day < dsst_day_perc[i]]\n",
    "    else:\n",
    "        pblh_sst = PBLH_day[(sst_day >= sst_day_perc[i-1]) & (sst_day < sst_day_perc[i])]\n",
    "        pblh_dsst = PBLH_day[(dsst_day >= dsst_day_perc[i-1]) & (dsst_day < dsst_day_perc[i])]\n",
    "        dpblh_dsst = dPBLH_day[(dsst_day >= dsst_day_perc[i-1]) & (dsst_day < dsst_day_perc[i])]\n",
    "        lcl_sst = LCL_day[(sst_day >= sst_day_perc[i-1]) & (sst_day < sst_day_perc[i])]\n",
    "        lcl_dsst = LCL_day[(dsst_day >= dsst_day_perc[i-1]) & (dsst_day < dsst_day_perc[i])]\n",
    "        dlcl_dsst = dLCL_day[(dsst_day >= dsst_day_perc[i-1]) & (dsst_day < dsst_day_perc[i])]\n",
    "    # create lists\n",
    "    bin_PBLH_sst.append(pblh_sst); bin_LCL_sst.append(lcl_sst)\n",
    "    bin_PBLH_dsst.append(pblh_dsst); bin_LCL_dsst.append(lcl_dsst)\n",
    "    bin_dPBLH_dsst.append(dpblh_dsst); bin_dLCL_dsst.append(dlcl_dsst)\n",
    "    labels.append(str(np.round(sst_day_perc[i]-273.15,2)))\n",
    "    dlabels.append(str(np.round(dsst_day_perc[i],2)))\n",
    "# adding last class, when data > 90perc sst\n",
    "pblh_sst = PBLH_day[sst_day >= sst_day_perc[-1]]; lcl_sst = LCL_day[sst_day >= sst_day_perc[-1]]\n",
    "pblh_dsst = PBLH_day[dsst_day >= dsst_day_perc[-1]]; lcl_dsst = LCL_day[dsst_day >= dsst_day_perc[-1]]\n",
    "dpblh_dsst = dPBLH_day[dsst_day >= dsst_day_perc[-1]]; dlcl_dsst = dLCL_day[dsst_day >= dsst_day_perc[-1]]\n",
    "bin_PBLH_sst.append(pblh_sst); bin_LCL_sst.append(lcl_sst)\n",
    "bin_PBLH_dsst.append(pblh_dsst); bin_LCL_dsst.append(lcl_dsst)\n",
    "bin_dPBLH_dsst.append(dpblh_dsst); bin_dLCL_dsst.append(dlcl_dsst)\n",
    "labels.append(' '); dlabels.append(' ')       "
   ]
  },
  {
   "cell_type": "code",
   "execution_count": null,
   "id": "bac0c294",
   "metadata": {},
   "outputs": [],
   "source": [
    "# BOXPLOT SOVRAPPOSTO\n",
    "fig, (ax1, ax2, ax3) = plt.subplots(3, figsize=(10, 12))\n",
    "\n",
    "bp1 = box_plot(bin_PBLH_sst, labels, 'blue', 'white', ax1)\n",
    "bp2 = box_plot(bin_LCL_sst, labels, 'firebrick', 'white', ax1)\n",
    "ax1.legend([bp1[\"boxes\"][0], bp2[\"boxes\"][0]], ['PBLH', 'LCL'])\n",
    "ax1.set_xlabel('SST [˚C]', fontsize=12); ax1.set_ylabel('height [m]', fontsize=12)\n",
    "\n",
    "bp1 = box_plot(bin_PBLH_dsst, dlabels, 'blue', 'white', ax2)\n",
    "bp2 = box_plot(bin_LCL_dsst, dlabels, 'firebrick', 'white', ax2)\n",
    "ax2.legend([bp1[\"boxes\"][0], bp2[\"boxes\"][0]], ['PBLH', 'LCL'])\n",
    "ax2.set_xlabel('SST anom [˚C]', fontsize=12); ax2.set_ylabel('height [m]', fontsize=12)\n",
    "\n",
    "bp1 = box_plot(bin_dPBLH_dsst, dlabels, 'blue', 'white', ax3)\n",
    "bp2 = box_plot(bin_dLCL_dsst, dlabels, 'firebrick', 'white', ax3)\n",
    "ax3.legend([bp1[\"boxes\"][0], bp2[\"boxes\"][0]], ['PBLH', 'LCL'])\n",
    "ax3.set_xlabel('SST anom [˚C]', fontsize=12); ax3.set_ylabel('height anom [m]', fontsize=12)"
   ]
  },
  {
   "cell_type": "code",
   "execution_count": null,
   "id": "f29974a9",
   "metadata": {},
   "outputs": [],
   "source": [
    "# BOXPLOT AFFIANCATO\n",
    "fig, (ax1, ax2, ax3) = plt.subplots(3, figsize=(10, 12))\n",
    "\n",
    "offs = 0.25\n",
    "\n",
    "bp1 = box_plot_pos(bin_PBLH_sst, 0, labels, 'blue', 'white', ax1)\n",
    "bp2 = box_plot_pos(bin_LCL_sst, offs, labels, 'firebrick', 'white', ax1)\n",
    "ax1.legend([bp1[\"boxes\"][0], bp2[\"boxes\"][0]], ['PBLH', 'LCL'])\n",
    "ax1.set_xlabel('SST [˚C]', fontsize=12); ax1.set_ylabel('height [m]', fontsize=12)\n",
    "ax1.set_xticks(np.arange(len(labels)))\n",
    "\n",
    "bp1 = box_plot_pos(bin_PBLH_dsst, 0, dlabels, 'blue', 'white', ax2)\n",
    "bp2 = box_plot_pos(bin_LCL_dsst, offs, dlabels, 'firebrick', 'white', ax2)\n",
    "ax2.legend([bp1[\"boxes\"][0], bp2[\"boxes\"][0]], ['PBLH', 'LCL'])\n",
    "ax2.set_xlabel('SST anom [˚C]', fontsize=12); ax2.set_ylabel('height [m]', fontsize=12)\n",
    "ax2.set_xticks(np.arange(len(labels)))\n",
    "\n",
    "bp1 = box_plot_pos(bin_dPBLH_dsst, 0, dlabels, 'blue', 'white', ax3)\n",
    "bp2 = box_plot_pos(bin_dLCL_dsst, offs, dlabels, 'firebrick', 'white', ax3)\n",
    "ax3.legend([bp1[\"boxes\"][0], bp2[\"boxes\"][0]], ['PBLH', 'LCL'])\n",
    "ax3.set_xlabel('SST anom [˚C]', fontsize=12); ax3.set_ylabel('height anom [m]', fontsize=12)\n",
    "ax3.set_xticks(np.arange(len(labels)))"
   ]
  },
  {
   "cell_type": "code",
   "execution_count": null,
   "id": "cd80b86d",
   "metadata": {},
   "outputs": [],
   "source": []
  },
  {
   "cell_type": "code",
   "execution_count": null,
   "id": "f4402fa4",
   "metadata": {},
   "outputs": [],
   "source": []
  },
  {
   "cell_type": "code",
   "execution_count": null,
   "id": "e2044239",
   "metadata": {},
   "outputs": [],
   "source": [
    "# HOURLY"
   ]
  },
  {
   "cell_type": "code",
   "execution_count": null,
   "id": "a06b0620",
   "metadata": {},
   "outputs": [],
   "source": [
    "bin_dPBLH = [dPBLH[dsst < -1.5], \\\n",
    "            dPBLH[(dsst >= -1.5) & (dsst < -1)], \\\n",
    "            dPBLH[(dsst >= -1) & (dsst < -0.5)], \\\n",
    "            dPBLH[(dsst >= -0.5) & (dsst < 0)], \\\n",
    "            dPBLH[(dsst >= 0) & (dsst < 0.5)], \\\n",
    "            dPBLH[(dsst >= 0.5) & (dsst < 1)], \\\n",
    "            dPBLH[dsst >= 1]]\n",
    "bin_dLCL = [dLCL[dsst < -1.5], \\\n",
    "            dLCL[(dsst >= -1.5) & (dsst < -1)], \\\n",
    "            dLCL[(dsst >= -1) & (dsst < -0.5)], \\\n",
    "            dLCL[(dsst >= -0.5) & (dsst < 0)], \\\n",
    "            dLCL[(dsst >= 0) & (dsst < 0.5)], \\\n",
    "            dLCL[(dsst >= 0.5) & (dsst < 1)], \\\n",
    "            dLCL[dsst >= 1]]\n",
    "\n",
    "dlabels = ['-1.5', '-1', '-0.5', '0', '0.5', '1', '1+']"
   ]
  },
  {
   "cell_type": "code",
   "execution_count": null,
   "id": "1e0d8b11",
   "metadata": {},
   "outputs": [],
   "source": [
    "fig, ax = plt.subplots()\n",
    "bp1 = box_plot_pos(bin_dPBLH, 0, dlabels, 'blue', 'white')\n",
    "bp2 = box_plot_pos(bin_dLCL, 0.2, dlabels, 'firebrick', 'white')\n",
    "ax.legend([bp1[\"boxes\"][0], bp2[\"boxes\"][0]], ['dPBLH', 'dLCL'])\n",
    "ax.set_xticks(np.arange(len(labels)))\n",
    "ax.set_xlabel('SST [˚C]', fontsize=12); ax.set_ylabel('height [m]', fontsize=12)"
   ]
  },
  {
   "cell_type": "code",
   "execution_count": null,
   "id": "56ae0328",
   "metadata": {},
   "outputs": [],
   "source": [
    "# READ DATA"
   ]
  },
  {
   "cell_type": "code",
   "execution_count": null,
   "id": "3843ca29",
   "metadata": {},
   "outputs": [],
   "source": [
    "# DAILY\n",
    "# PERC DISTRIBUTION\n",
    "path_bindist = '/home/matteo/Eureca/COARE35/Results/acquistapace_bindist/perc_dist/daily/'\n",
    "pdist_sst = np.loadtxt(path_bindist + 'pdist_sst.txt')\n",
    "pdist_PBLH = np.loadtxt(path_bindist + 'pdist_PBLH.txt')\n",
    "pdist_LCL = np.loadtxt(path_bindist + 'pdist_LCL.txt')\n",
    "pstd_err_PBLH = np.loadtxt(path_bindist + 'pstd_PBLH.txt')\n",
    "pstd_err_LCL = np.loadtxt(path_bindist + 'pstd_LCL.txt')\n",
    "# FB DISTRIBUTION (no point threshold)\n",
    "path_bindist = '/home/matteo/Eureca/COARE35/Results/acquistapace_bindist/fb_dist/daily/'\n",
    "dist_sst = np.loadtxt(path_bindist + 'dist_sst.txt')\n",
    "dist_PBLH = np.loadtxt(path_bindist + 'dist_PBLH.txt')\n",
    "dist_LCL = np.loadtxt(path_bindist + 'dist_LCL.txt')\n",
    "std_err_PBLH = np.loadtxt(path_bindist + 'std_err_PBLH.txt')\n",
    "std_err_LCL = np.loadtxt(path_bindist + 'std_err_LCL.txt')\n",
    "npoint_PBLH = np.loadtxt(path_bindist + 'npoint_PBLH.txt')\n",
    "npoint_LCL = np.loadtxt(path_bindist + 'npoint_LCL.txt')"
   ]
  },
  {
   "cell_type": "code",
   "execution_count": null,
   "id": "0df37bc5",
   "metadata": {},
   "outputs": [],
   "source": [
    "# HOURLY\n",
    "# PERC DISTRIBUTION\n",
    "pdist_dsst = np.loadtxt(path_bindist + 'pdist_dsst.txt')\n",
    "pdist_dPBLH = np.loadtxt(path_bindist + 'pdist_dPBLH.txt')\n",
    "pdist_dLCL = np.loadtxt(path_bindist + 'pdist_dLCL.txt')\n",
    "pstd_err_dPBLH = np.loadtxt(path_bindist + 'pstd_err_dPBLH.txt')\n",
    "pstd_err_dLCL = np.loadtxt(path_bindist + 'pstd_err_dLCL.txt')\n",
    "# FB DISTRIBUTION (no point threshold)\n",
    "dist_dsst = np.loadtxt(path_bindist + 'dist_dsst.txt')\n",
    "dist_dPBLH = np.loadtxt(path_bindist + 'dist_dPBLH.txt')\n",
    "dist_dLCL = np.loadtxt(path_bindist + 'dist_dLCL.txt')\n",
    "std_err_dPBLH = np.loadtxt(path_bindist + 'std_err_dPBLH.txt')\n",
    "std_err_dLCL = np.loadtxt(path_bindist + 'std_err_dLCL.txt')\n",
    "npoint_dPBLH = np.loadtxt(path_bindist + 'npoint_dPBLH.txt')\n",
    "npoint_dLCL = np.loadtxt(path_bindist + 'npoint_dLCL.txt')"
   ]
  },
  {
   "cell_type": "code",
   "execution_count": null,
   "id": "f45e36a4",
   "metadata": {},
   "outputs": [],
   "source": []
  },
  {
   "cell_type": "code",
   "execution_count": null,
   "id": "bd3a1a88",
   "metadata": {},
   "outputs": [],
   "source": []
  },
  {
   "cell_type": "code",
   "execution_count": null,
   "id": "551e5113",
   "metadata": {},
   "outputs": [],
   "source": []
  },
  {
   "cell_type": "code",
   "execution_count": null,
   "id": "3ef08515",
   "metadata": {},
   "outputs": [],
   "source": []
  },
  {
   "cell_type": "code",
   "execution_count": null,
   "id": "b5c4f8af",
   "metadata": {},
   "outputs": [],
   "source": [
    "# OLD STUFF"
   ]
  },
  {
   "cell_type": "code",
   "execution_count": null,
   "id": "c3dde240",
   "metadata": {},
   "outputs": [],
   "source": [
    "# grid and geographical coordinates of seemingly good points; \n",
    "# format: [j,i] i.e. [lat, lon]\n",
    "# sure there is a better way to do it\n",
    "\n",
    "# small rectangle\n",
    "small_gpoints = [[350,410],[350,265],[65,265],[65,410]]; small_gpoints=np.array(small_gpoints)\n",
    "small_coords = np.zeros_like(small_gpoints)\n",
    "\n",
    "for i in range(len(small_gpoints[:,0])):\n",
    "    small_coords[i,0], small_coords[i,1] = ds_tot.nav_lat.sel(y=small_gpoints[i,0],x=small_gpoints[i,1]), ds_tot.nav_lon.sel(y=small_gpoints[i,0],x=small_gpoints[i,1])\n",
    "\n",
    "small_coords=np.array(small_coords)\n",
    "\n",
    "\n",
    "# large rectangle\n",
    "large_gpoints = [[410,410],[65,410],[65,800],[410,800]]; large_gpoints=np.array(large_gpoints)\n",
    "large_coords = np.zeros_like(large_gpoints)\n",
    "\n",
    "for i in range(len(large_gpoints[:,0])):\n",
    "    large_coords[i,0], large_coords[i,1] = ds_tot.nav_lat.sel(y=large_gpoints[i,0],x=large_gpoints[i,1]),\\\n",
    "                                           ds_tot.nav_lon.sel(y=large_gpoints[i,0],x=large_gpoints[i,1])\n",
    "    \n",
    "large_coords=np.array(large_coords)\n",
    "\n",
    "\n",
    "# optional expansion\n",
    "add_gpoints = [[410,800],[65,800],[65,900],[410,900]]; add_gpoints=np.array(add_gpoints)\n",
    "add_coords = np.zeros_like(add_gpoints)\n",
    "\n",
    "for i in range(len(small_gpoints[:,0])):\n",
    "    add_coords[i,0], add_coords[i,1] = ds_tot.nav_lat.sel(y=add_gpoints[i,0],x=add_gpoints[i,1]), \\\n",
    "                                       ds_tot.nav_lon.sel(y=add_gpoints[i,0],x=add_gpoints[i,1])\n",
    "\n",
    "add_coords=np.array(add_coords)"
   ]
  },
  {
   "cell_type": "code",
   "execution_count": null,
   "id": "b981016e",
   "metadata": {},
   "outputs": [],
   "source": [
    "minlon = min(small_coords[:,1]) ; maxlon = max(small_coords[:,1])      \n",
    "minlat = min(small_coords[:,0]) ; maxlat = max(small_coords[:,0])     "
   ]
  },
  {
   "cell_type": "code",
   "execution_count": null,
   "id": "9069937b",
   "metadata": {},
   "outputs": [],
   "source": [
    "# domain selection new\n",
    "'''mask_lon = (ds_tot.nav_lon_grid_M >= min(large_coords[:,1])) & (ds_tot.nav_lon_grid_M <= max(large_coords[:,1]))\n",
    "mask_lat = (ds_tot.nav_lat_grid_M >= min(large_coords[:,0])) & (ds_tot.nav_lat_grid_M <= max(large_coords[:,0]))'''\n",
    "\n",
    "\n",
    "\n",
    "# select domain - large box\n",
    "mask_lon = (ds_month.nav_lon >= minlon) & (ds_month.nav_lon <= maxlon)\n",
    "mask_lat = (ds_month.nav_lat >= minlat) & (ds_month.nav_lat <= maxlat)\n",
    "ds_domain = ds_month.where(mask_lon & mask_lat, drop=True)"
   ]
  }
 ],
 "metadata": {
  "kernelspec": {
   "display_name": "Python 3 (ipykernel)",
   "language": "python",
   "name": "python3"
  },
  "language_info": {
   "codemirror_mode": {
    "name": "ipython",
    "version": 3
   },
   "file_extension": ".py",
   "mimetype": "text/x-python",
   "name": "python",
   "nbconvert_exporter": "python",
   "pygments_lexer": "ipython3",
   "version": "3.7.11"
  }
 },
 "nbformat": 4,
 "nbformat_minor": 5
}
