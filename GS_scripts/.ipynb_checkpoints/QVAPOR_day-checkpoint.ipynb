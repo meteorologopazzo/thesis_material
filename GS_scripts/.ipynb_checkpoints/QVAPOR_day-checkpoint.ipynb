{
 "cells": [
  {
   "cell_type": "code",
   "execution_count": 1,
   "metadata": {},
   "outputs": [],
   "source": [
    "%load_ext autoreload\n",
    "%autoreload 2"
   ]
  },
  {
   "cell_type": "code",
   "execution_count": 2,
   "metadata": {},
   "outputs": [],
   "source": [
    "import numpy as np\n",
    "import pandas as pd\n",
    "import glob\n",
    "import xarray as xr\n",
    "import matplotlib.pyplot as plt\n",
    "from scipy import stats\n",
    "\n",
    "import sys; sys.path.insert(1, '/home/alessandro/scripts')\n",
    "import os\n",
    "\n",
    "import geometry as gm\n",
    "#import conversion as cnv\n",
    "#from func_statistics import compute_pdf_nbin, slopes_r_p, slope_time, slope_maps\n",
    "#from coare_functions import *\n",
    "import meteo\n",
    "import lcl\n",
    "import cartopy.crs as ccrs\n",
    "crs = ccrs.PlateCarree()\n",
    "#from plotmap import plot_background\n",
    "from plotdistr import fb_distribution_npoint, perc_distribution, scatterplot_fit, hist2d\n",
    "import warnings; warnings.filterwarnings(\"ignore\")"
   ]
  },
  {
   "cell_type": "code",
   "execution_count": 3,
   "metadata": {},
   "outputs": [],
   "source": [
    "# find data\n",
    "path = '/mercury/Fabien/GS'\n",
    "wrf_files = path + '/GS700_WRF_daily_3D.nc'\n",
    "#fname_list = sorted(glob.glob(wrf_files + '*'))"
   ]
  },
  {
   "cell_type": "code",
   "execution_count": 4,
   "metadata": {},
   "outputs": [],
   "source": [
    "# open data\n",
    "ds_tot = xr.open_dataset(wrf_files)        #mfdataset(fname_list, concat_dim='Time', combine='nested')\n",
    "ds_daily = ds_tot.sel(time_counter=slice('2006-02-01T00:30:00.000000000', '2006-03-01T00:30:00.000000000'))\n",
    "\n",
    "del ds_tot"
   ]
  },
  {
   "cell_type": "code",
   "execution_count": null,
   "metadata": {},
   "outputs": [],
   "source": [
    "ds_daily"
   ]
  },
  {
   "cell_type": "code",
   "execution_count": 25,
   "metadata": {},
   "outputs": [],
   "source": [
    "# import sea_mask\n",
    "if os.path.exists('/home/alessandro/thesis_material/GS_scripts/sea_mask.npy'):\n",
    "    sea_mask = np.load('/home/alessandro/thesis_material/GS_scripts/sea_mask.npy')"
   ]
  },
  {
   "cell_type": "code",
   "execution_count": 26,
   "metadata": {},
   "outputs": [],
   "source": [
    "if os.path.exists('/home/alessandro/thesis_material/GS_scripts/sea_mask_nobnd.npy'):\n",
    "    sea_mask_nobnd = np.load('/home/alessandro/thesis_material/GS_scripts/sea_mask_nobnd.npy')"
   ]
  },
  {
   "cell_type": "markdown",
   "metadata": {},
   "source": [
    "SAVE QVAPOR"
   ]
  },
  {
   "cell_type": "code",
   "execution_count": 28,
   "metadata": {},
   "outputs": [],
   "source": [
    "QVAPOR_day = ds_daily['QVAPOR']\n",
    "QVAPOR_day = QVAPOR_day.transpose('time_counter', 'lev_M', 'y_grid_M', 'x_grid_M')"
   ]
  },
  {
   "cell_type": "code",
   "execution_count": 29,
   "metadata": {},
   "outputs": [],
   "source": [
    "# select domain\n",
    "\n",
    "QVAPOR_day = QVAPOR_day.where(sea_mask_nobnd, drop=False)\n",
    "#QVAPOR_day = QVAPOR_day[:,:,25:-25, 25:-25]"
   ]
  },
  {
   "cell_type": "code",
   "execution_count": 30,
   "metadata": {},
   "outputs": [],
   "source": [
    "# def lon lat time\n",
    "lon_M = ds_daily['nav_lon_grid_M'][0].values\n",
    "lat_M = ds_daily['nav_lat_grid_M'][0].values\n",
    "time = ds_daily['time_counter'].values.astype('<M8[s]')"
   ]
  },
  {
   "cell_type": "markdown",
   "metadata": {},
   "source": [
    "GEOPOTENTIAL AND PRESSURE"
   ]
  },
  {
   "cell_type": "code",
   "execution_count": 37,
   "metadata": {},
   "outputs": [],
   "source": [
    "# select data - PRESSURE\n",
    "base_pres = ds_daily['PB']/100.\n",
    "pres = (ds_daily['P']+ds_daily['PB'])/100.         \n",
    "pres = pres.where(sea_mask_nobnd, drop=False)\n",
    "pres = pres.transpose('time_counter', 'lev_M', 'y_grid_M', 'x_grid_M')"
   ]
  },
  {
   "cell_type": "code",
   "execution_count": 38,
   "metadata": {},
   "outputs": [],
   "source": [
    "# select domain for base pressure\n",
    "base_pres = base_pres.where(sea_mask_nobnd, drop=False)\n",
    "#mean_base_pres = np.nanmean(base_pres, axis=)"
   ]
  },
  {
   "cell_type": "code",
   "execution_count": null,
   "metadata": {},
   "outputs": [],
   "source": []
  },
  {
   "cell_type": "code",
   "execution_count": null,
   "metadata": {},
   "outputs": [],
   "source": [
    "pres = np.nanmean(pres, axis=(1,2))\n",
    "pres.shape"
   ]
  },
  {
   "cell_type": "code",
   "execution_count": 36,
   "metadata": {},
   "outputs": [],
   "source": [
    "base_gph = ds_daily['PHB']/9.81  ;    base_gph = base_gph.where(sea_mask_nobnd, drop=False)\n",
    "GPH = (ds_daily['PH']+ds_daily['PHB'])/9.81\n",
    "GPH = GPH.where(sea_mask_nobnd, drop=False)\n",
    "GPH = GPH.transpose('time_counter', 'lev_W', 'y_grid_M', 'x_grid_M')\n",
    "#GPH = np.nanmean(GPH, axis=(1,2))"
   ]
  },
  {
   "cell_type": "code",
   "execution_count": null,
   "metadata": {},
   "outputs": [],
   "source": []
  },
  {
   "cell_type": "code",
   "execution_count": null,
   "metadata": {},
   "outputs": [],
   "source": []
  },
  {
   "cell_type": "code",
   "execution_count": null,
   "metadata": {},
   "outputs": [],
   "source": []
  },
  {
   "cell_type": "code",
   "execution_count": 40,
   "metadata": {},
   "outputs": [],
   "source": [
    "# select data - hourly dataset\n",
    "wrf_hourly = path + '/GS700_WRF_3h_surf.nc'\n",
    "ds_hourly = xr.open_dataset(wrf_hourly)\n",
    "ds_hourly = ds_hourly.sel(time_counter=slice('2006-02-01T00:30:00.000000000', '2006-03-01T00:30:00.000000000'))\n"
   ]
  },
  {
   "cell_type": "code",
   "execution_count": 41,
   "metadata": {},
   "outputs": [],
   "source": [
    "# daily varaibles\n",
    "# select sst, q2, U, PBLH\n",
    "\n",
    "sst_day = ds_hourly['SST'].groupby('time_counter.day').mean()            \n",
    "sst_day = sst_day.where(sea_mask_nobnd, drop=False)        \n",
    "\n",
    "q2_day = ds_hourly['Q2'].groupby('time_counter.day').mean()\n",
    "q2_day = q2_day.where(sea_mask_nobnd, drop=False)             \n",
    "\n",
    "PBLH_day = ds_hourly['PBLH'].groupby('time_counter.day').mean()\n",
    "PBLH_day = PBLH_day.where(sea_mask_nobnd, drop=False)         \n",
    "\n",
    "#QVAPOR_day = QVAPOR_day.values"
   ]
  },
  {
   "cell_type": "code",
   "execution_count": 45,
   "metadata": {},
   "outputs": [
    {
     "name": "stdout",
     "output_type": "stream",
     "text": [
      "0\n",
      "10\n",
      "20\n"
     ]
    }
   ],
   "source": [
    "# compute anomalies daily data\n",
    "s = 100\n",
    "\n",
    "sst_ave = np.zeros(sst_day.shape)\n",
    "q2_ave = np.zeros(q2_day.shape)\n",
    "PBLH_ave = np.zeros(PBLH_day.shape)\n",
    "QVAPOR_ave = np.zeros(QVAPOR_day.shape)\n",
    "\n",
    "dsst_day = np.zeros(sst_day.shape)\n",
    "dq2_day = np.zeros(q2_day.shape)\n",
    "dPBLH_day = np.zeros(PBLH_day.shape)\n",
    "dQVAPOR_day = np.zeros(QVAPOR_day.shape)\n",
    "\n",
    "for t in range(0,sst_day.shape[0]):\n",
    "    if t % 10 == 0:\n",
    "        print(t)\n",
    "    # upscale using gaussian filter\n",
    "    sst_ave[t] = gm.nan_gaussian_filter(sst_day[t],s)                             \n",
    "    dsst_day[t] = sst_day[t] - sst_ave[t]\n",
    "    \n",
    "    q2_ave[t] = gm.nan_gaussian_filter(q2_day[t],s)\n",
    "    dq2_day[t] = q2_day[t] - q2_ave[t]\n",
    "    \n",
    "    PBLH_ave[t] = gm.nan_gaussian_filter(PBLH_day[t],s)\n",
    "    dPBLH_day[t] = PBLH_day[t] - PBLH_ave[t]\n",
    "    \n",
    "    for h in range(0,QVAPOR_day.shape[1]):\n",
    "        QVAPOR_ave[t,h] = gm.nan_gaussian_filter(QVAPOR_day[t,h],s)                            \n",
    "        dQVAPOR_day[t,h] = QVAPOR_day[t,h] - QVAPOR_ave[t,h]"
   ]
  },
  {
   "cell_type": "code",
   "execution_count": null,
   "metadata": {},
   "outputs": [],
   "source": [
    "# # hourly varaibles\n",
    "# # select sst, q2, U, PBLH\n",
    "# sst = ds['SST'].values*seamask"
   ]
  },
  {
   "cell_type": "code",
   "execution_count": null,
   "metadata": {},
   "outputs": [],
   "source": [
    "# # compute anomalies hourly data\n",
    "# s = 50\n",
    "# dsst = np.zeros(sst.shape)\n",
    "# for t in range(0,sst.shape[0]):\n",
    "#     if t % 50 == 0:\n",
    "#         print(t)\n",
    "#     # upscale using gaussian filter\n",
    "#     sst_ave = gm.nan_gaussian_filter(sst[t],s)*seamask\n",
    "#     dsst[t] = sst[t] - sst_ave"
   ]
  },
  {
   "cell_type": "code",
   "execution_count": null,
   "metadata": {},
   "outputs": [],
   "source": [
    "# read QVAPOR DAY from QVAPOR dataset\n",
    "'''path_dir = '/media/fabien/DAGOBAH/WRF_EUREC4A/CNT/FEB/01_var_33levels/'\n",
    "ds_tmp = xr.open_dataset(path_dir + 'QVAPOR_d02_2020-02')\n",
    "maskl_lon = (ds_tmp.XLONG >= minlon) & (ds_tmp.XLONG <= maxlon)\n",
    "maskl_lat = (ds_tmp.XLAT >= minlat) & (ds_tmp.XLAT <= maxlat)\n",
    "ds_tmp = ds_tmp.where(maskl_lon & maskl_lat, drop=True)\n",
    "QVAPOR_day = ds_tmp['QVAPOR'].groupby('XTIME.day').mean().values*seamask\n",
    "del ds_tmp'''"
   ]
  },
  {
   "cell_type": "code",
   "execution_count": null,
   "metadata": {},
   "outputs": [],
   "source": [
    "# read QVAPOR DAY from hourly wrfout\n",
    "# QVAPOR_day = ds['QVAPOR'][:,:50].groupby('XTIME.day').mean().values*seamask\n",
    "'''QVAPOR_day = ds['QVAPOR'].groupby('XTIME.day').mean().values*seamask'''"
   ]
  },
  {
   "cell_type": "code",
   "execution_count": 47,
   "metadata": {},
   "outputs": [
    {
     "name": "stdout",
     "output_type": "stream",
     "text": [
      "0\n",
      "10\n",
      "20\n",
      "30\n",
      "40\n"
     ]
    }
   ],
   "source": [
    "# # DISTRIBUTION QVAPOR vs SST bin - DAILY\n",
    "perc_step = 5\n",
    "nbins = int(100/perc_step) # Number of bins.\n",
    "pdist_qvapor_sst_day = np.zeros((QVAPOR_day.shape[1],nbins))\n",
    "pstd_qvapor_sst_day = np.zeros((QVAPOR_day.shape[1],nbins))\n",
    "x = sst_day.values.copy()\n",
    "control = x.reshape(-1)\n",
    "for h in range(0,QVAPOR_day.shape[1]):\n",
    "    if h % 10 == 0:\n",
    "        print(h)    \n",
    "    y = QVAPOR_day[:,h,:,:].values.copy()\n",
    "    variable = y.reshape(-1)\n",
    "    ##### Perc bin distribution\n",
    "    pdist_sst_day, pdist_qvapor_sst_day[h], pstd_qvapor_sst_day[h], pstderr = perc_distribution(control, variable, nbins, perc_step)"
   ]
  },
  {
   "cell_type": "code",
   "execution_count": 48,
   "metadata": {},
   "outputs": [
    {
     "ename": "ValueError",
     "evalue": "x and y arguments to pcolormesh cannot have non-finite values or be of type numpy.ma.core.MaskedArray with masked values",
     "output_type": "error",
     "traceback": [
      "\u001b[0;31m---------------------------------------------------------------------------\u001b[0m",
      "\u001b[0;31mValueError\u001b[0m                                Traceback (most recent call last)",
      "\u001b[0;32m/tmp/ipykernel_238693/3135240914.py\u001b[0m in \u001b[0;36m<module>\u001b[0;34m\u001b[0m\n\u001b[1;32m      1\u001b[0m \u001b[0;31m# # figure QVAPOR vs SST bin - DAILY\u001b[0m\u001b[0;34m\u001b[0m\u001b[0;34m\u001b[0m\u001b[0;34m\u001b[0m\u001b[0m\n\u001b[1;32m      2\u001b[0m \u001b[0mfig\u001b[0m \u001b[0;34m=\u001b[0m \u001b[0mplt\u001b[0m\u001b[0;34m.\u001b[0m\u001b[0mfigure\u001b[0m\u001b[0;34m(\u001b[0m\u001b[0mfigsize\u001b[0m\u001b[0;34m=\u001b[0m\u001b[0;34m(\u001b[0m\u001b[0;36m10\u001b[0m\u001b[0;34m,\u001b[0m \u001b[0;36m5\u001b[0m\u001b[0;34m)\u001b[0m\u001b[0;34m)\u001b[0m\u001b[0;34m\u001b[0m\u001b[0;34m\u001b[0m\u001b[0m\n\u001b[0;32m----> 3\u001b[0;31m \u001b[0mplt\u001b[0m\u001b[0;34m.\u001b[0m\u001b[0mpcolormesh\u001b[0m\u001b[0;34m(\u001b[0m\u001b[0mpdist_sst_day\u001b[0m\u001b[0;34m-\u001b[0m\u001b[0;36m273.15\u001b[0m\u001b[0;34m,\u001b[0m \u001b[0mbase_pres\u001b[0m\u001b[0;34m,\u001b[0m \u001b[0mpdist_qvapor_sst_day\u001b[0m\u001b[0;34m*\u001b[0m\u001b[0;36m1000.\u001b[0m\u001b[0;34m,\u001b[0m \u001b[0mcmap\u001b[0m\u001b[0;34m=\u001b[0m\u001b[0;34m'jet'\u001b[0m\u001b[0;34m)\u001b[0m\u001b[0;34m\u001b[0m\u001b[0;34m\u001b[0m\u001b[0m\n\u001b[0m\u001b[1;32m      4\u001b[0m \u001b[0mplt\u001b[0m\u001b[0;34m.\u001b[0m\u001b[0mgca\u001b[0m\u001b[0;34m(\u001b[0m\u001b[0;34m)\u001b[0m\u001b[0;34m.\u001b[0m\u001b[0minvert_yaxis\u001b[0m\u001b[0;34m(\u001b[0m\u001b[0;34m)\u001b[0m\u001b[0;34m\u001b[0m\u001b[0;34m\u001b[0m\u001b[0m\n\u001b[1;32m      5\u001b[0m \u001b[0mplt\u001b[0m\u001b[0;34m.\u001b[0m\u001b[0mxlabel\u001b[0m\u001b[0;34m(\u001b[0m\u001b[0;34m'SST [˚C]'\u001b[0m\u001b[0;34m)\u001b[0m\u001b[0;34m;\u001b[0m \u001b[0mplt\u001b[0m\u001b[0;34m.\u001b[0m\u001b[0mylabel\u001b[0m\u001b[0;34m(\u001b[0m\u001b[0;34m'P [hPa]'\u001b[0m\u001b[0;34m)\u001b[0m\u001b[0;34m\u001b[0m\u001b[0;34m\u001b[0m\u001b[0m\n",
      "\u001b[0;32m~/miniconda3/envs/spec_tesi/lib/python3.7/site-packages/matplotlib/pyplot.py\u001b[0m in \u001b[0;36mpcolormesh\u001b[0;34m(alpha, norm, cmap, vmin, vmax, shading, antialiased, data, *args, **kwargs)\u001b[0m\n\u001b[1;32m   2981\u001b[0m         \u001b[0;34m*\u001b[0m\u001b[0margs\u001b[0m\u001b[0;34m,\u001b[0m \u001b[0malpha\u001b[0m\u001b[0;34m=\u001b[0m\u001b[0malpha\u001b[0m\u001b[0;34m,\u001b[0m \u001b[0mnorm\u001b[0m\u001b[0;34m=\u001b[0m\u001b[0mnorm\u001b[0m\u001b[0;34m,\u001b[0m \u001b[0mcmap\u001b[0m\u001b[0;34m=\u001b[0m\u001b[0mcmap\u001b[0m\u001b[0;34m,\u001b[0m \u001b[0mvmin\u001b[0m\u001b[0;34m=\u001b[0m\u001b[0mvmin\u001b[0m\u001b[0;34m,\u001b[0m\u001b[0;34m\u001b[0m\u001b[0;34m\u001b[0m\u001b[0m\n\u001b[1;32m   2982\u001b[0m         \u001b[0mvmax\u001b[0m\u001b[0;34m=\u001b[0m\u001b[0mvmax\u001b[0m\u001b[0;34m,\u001b[0m \u001b[0mshading\u001b[0m\u001b[0;34m=\u001b[0m\u001b[0mshading\u001b[0m\u001b[0;34m,\u001b[0m \u001b[0mantialiased\u001b[0m\u001b[0;34m=\u001b[0m\u001b[0mantialiased\u001b[0m\u001b[0;34m,\u001b[0m\u001b[0;34m\u001b[0m\u001b[0;34m\u001b[0m\u001b[0m\n\u001b[0;32m-> 2983\u001b[0;31m         **({\"data\": data} if data is not None else {}), **kwargs)\n\u001b[0m\u001b[1;32m   2984\u001b[0m     \u001b[0msci\u001b[0m\u001b[0;34m(\u001b[0m\u001b[0m__ret\u001b[0m\u001b[0;34m)\u001b[0m\u001b[0;34m\u001b[0m\u001b[0;34m\u001b[0m\u001b[0m\n\u001b[1;32m   2985\u001b[0m     \u001b[0;32mreturn\u001b[0m \u001b[0m__ret\u001b[0m\u001b[0;34m\u001b[0m\u001b[0;34m\u001b[0m\u001b[0m\n",
      "\u001b[0;32m~/miniconda3/envs/spec_tesi/lib/python3.7/site-packages/matplotlib/__init__.py\u001b[0m in \u001b[0;36minner\u001b[0;34m(ax, data, *args, **kwargs)\u001b[0m\n\u001b[1;32m   1359\u001b[0m     \u001b[0;32mdef\u001b[0m \u001b[0minner\u001b[0m\u001b[0;34m(\u001b[0m\u001b[0max\u001b[0m\u001b[0;34m,\u001b[0m \u001b[0;34m*\u001b[0m\u001b[0margs\u001b[0m\u001b[0;34m,\u001b[0m \u001b[0mdata\u001b[0m\u001b[0;34m=\u001b[0m\u001b[0;32mNone\u001b[0m\u001b[0;34m,\u001b[0m \u001b[0;34m**\u001b[0m\u001b[0mkwargs\u001b[0m\u001b[0;34m)\u001b[0m\u001b[0;34m:\u001b[0m\u001b[0;34m\u001b[0m\u001b[0;34m\u001b[0m\u001b[0m\n\u001b[1;32m   1360\u001b[0m         \u001b[0;32mif\u001b[0m \u001b[0mdata\u001b[0m \u001b[0;32mis\u001b[0m \u001b[0;32mNone\u001b[0m\u001b[0;34m:\u001b[0m\u001b[0;34m\u001b[0m\u001b[0;34m\u001b[0m\u001b[0m\n\u001b[0;32m-> 1361\u001b[0;31m             \u001b[0;32mreturn\u001b[0m \u001b[0mfunc\u001b[0m\u001b[0;34m(\u001b[0m\u001b[0max\u001b[0m\u001b[0;34m,\u001b[0m \u001b[0;34m*\u001b[0m\u001b[0mmap\u001b[0m\u001b[0;34m(\u001b[0m\u001b[0msanitize_sequence\u001b[0m\u001b[0;34m,\u001b[0m \u001b[0margs\u001b[0m\u001b[0;34m)\u001b[0m\u001b[0;34m,\u001b[0m \u001b[0;34m**\u001b[0m\u001b[0mkwargs\u001b[0m\u001b[0;34m)\u001b[0m\u001b[0;34m\u001b[0m\u001b[0;34m\u001b[0m\u001b[0m\n\u001b[0m\u001b[1;32m   1362\u001b[0m \u001b[0;34m\u001b[0m\u001b[0m\n\u001b[1;32m   1363\u001b[0m         \u001b[0mbound\u001b[0m \u001b[0;34m=\u001b[0m \u001b[0mnew_sig\u001b[0m\u001b[0;34m.\u001b[0m\u001b[0mbind\u001b[0m\u001b[0;34m(\u001b[0m\u001b[0max\u001b[0m\u001b[0;34m,\u001b[0m \u001b[0;34m*\u001b[0m\u001b[0margs\u001b[0m\u001b[0;34m,\u001b[0m \u001b[0;34m**\u001b[0m\u001b[0mkwargs\u001b[0m\u001b[0;34m)\u001b[0m\u001b[0;34m\u001b[0m\u001b[0;34m\u001b[0m\u001b[0m\n",
      "\u001b[0;32m~/miniconda3/envs/spec_tesi/lib/python3.7/site-packages/matplotlib/axes/_axes.py\u001b[0m in \u001b[0;36mpcolormesh\u001b[0;34m(self, alpha, norm, cmap, vmin, vmax, shading, antialiased, *args, **kwargs)\u001b[0m\n\u001b[1;32m   6182\u001b[0m \u001b[0;34m\u001b[0m\u001b[0m\n\u001b[1;32m   6183\u001b[0m         X, Y, C, shading = self._pcolorargs('pcolormesh', *args,\n\u001b[0;32m-> 6184\u001b[0;31m                                             shading=shading, kwargs=kwargs)\n\u001b[0m\u001b[1;32m   6185\u001b[0m         \u001b[0mNy\u001b[0m\u001b[0;34m,\u001b[0m \u001b[0mNx\u001b[0m \u001b[0;34m=\u001b[0m \u001b[0mX\u001b[0m\u001b[0;34m.\u001b[0m\u001b[0mshape\u001b[0m\u001b[0;34m\u001b[0m\u001b[0;34m\u001b[0m\u001b[0m\n\u001b[1;32m   6186\u001b[0m         \u001b[0mX\u001b[0m \u001b[0;34m=\u001b[0m \u001b[0mX\u001b[0m\u001b[0;34m.\u001b[0m\u001b[0mravel\u001b[0m\u001b[0;34m(\u001b[0m\u001b[0;34m)\u001b[0m\u001b[0;34m\u001b[0m\u001b[0;34m\u001b[0m\u001b[0m\n",
      "\u001b[0;32m~/miniconda3/envs/spec_tesi/lib/python3.7/site-packages/matplotlib/axes/_axes.py\u001b[0m in \u001b[0;36m_pcolorargs\u001b[0;34m(self, funcname, shading, *args, **kwargs)\u001b[0m\n\u001b[1;32m   5660\u001b[0m                 \u001b[0;32mif\u001b[0m \u001b[0mnp\u001b[0m\u001b[0;34m.\u001b[0m\u001b[0mma\u001b[0m\u001b[0;34m.\u001b[0m\u001b[0mis_masked\u001b[0m\u001b[0;34m(\u001b[0m\u001b[0mX\u001b[0m\u001b[0;34m)\u001b[0m \u001b[0;32mor\u001b[0m \u001b[0mnp\u001b[0m\u001b[0;34m.\u001b[0m\u001b[0mma\u001b[0m\u001b[0;34m.\u001b[0m\u001b[0mis_masked\u001b[0m\u001b[0;34m(\u001b[0m\u001b[0mY\u001b[0m\u001b[0;34m)\u001b[0m\u001b[0;34m:\u001b[0m\u001b[0;34m\u001b[0m\u001b[0;34m\u001b[0m\u001b[0m\n\u001b[1;32m   5661\u001b[0m                     raise ValueError(\n\u001b[0;32m-> 5662\u001b[0;31m                         \u001b[0;34m'x and y arguments to pcolormesh cannot have '\u001b[0m\u001b[0;34m\u001b[0m\u001b[0;34m\u001b[0m\u001b[0m\n\u001b[0m\u001b[1;32m   5663\u001b[0m                         \u001b[0;34m'non-finite values or be of type '\u001b[0m\u001b[0;34m\u001b[0m\u001b[0;34m\u001b[0m\u001b[0m\n\u001b[1;32m   5664\u001b[0m                         'numpy.ma.core.MaskedArray with masked values')\n",
      "\u001b[0;31mValueError\u001b[0m: x and y arguments to pcolormesh cannot have non-finite values or be of type numpy.ma.core.MaskedArray with masked values"
     ]
    },
    {
     "data": {
      "image/png": "[encoded data removed]",
      "text/plain": [
       "<Figure size 1000x500 with 1 Axes>"
      ]
     },
     "metadata": {},
     "output_type": "display_data"
    }
   ],
   "source": [
    "# # figure QVAPOR vs SST bin - DAILY\n",
    "fig = plt.figure(figsize=(10, 5))\n",
    "plt.pcolormesh(pdist_sst_day-273.15, base_pres, pdist_qvapor_sst_day*1000., cmap='jet')\n",
    "plt.gca().invert_yaxis()\n",
    "plt.xlabel('SST [˚C]'); plt.ylabel('P [hPa]')\n",
    "cbar = plt.colorbar();  cbar.set_label('QVAPOR [g kg-1]')"
   ]
  },
  {
   "cell_type": "code",
   "execution_count": null,
   "metadata": {},
   "outputs": [],
   "source": [
    "GP = (ds_daily['P']+ds_daily['PB'])/100.         #*seamask/100."
   ]
  },
  {
   "cell_type": "code",
   "execution_count": null,
   "metadata": {},
   "outputs": [],
   "source": [
    "GP = np.nanmean(GP, axis=(1,2,3))"
   ]
  },
  {
   "cell_type": "code",
   "execution_count": null,
   "metadata": {},
   "outputs": [],
   "source": [
    "pdist_qvapor_sst_day.shape"
   ]
  },
  {
   "cell_type": "code",
   "execution_count": null,
   "metadata": {},
   "outputs": [],
   "source": [
    "# path_bindist = '/home/matteo/Eureca/COARE35/Results/acquistapace_bindist/perc_dist/daily/'\n",
    "# np.savetxt(path_bindist + 'pdist_QVAPOR_sst_day.txt', pdist_qvapor_sst_day)\n",
    "# np.savetxt(path_bindist + 'pstd_QVAPOR_sst_day.txt', pstd_qvapor_sst_day)"
   ]
  },
  {
   "cell_type": "code",
   "execution_count": null,
   "metadata": {},
   "outputs": [],
   "source": [
    "L = 30\n",
    "nskip = int(L/3)\n",
    "nt = int(1)\n",
    "# from top pbl upwards\n",
    "Ltop = 150\n",
    "nskiptop = int(Ltop/3)\n",
    "nttop = int(1)\n",
    "# ref mean\n",
    "popmean = 0."
   ]
  },
  {
   "cell_type": "code",
   "execution_count": null,
   "metadata": {},
   "outputs": [],
   "source": [
    "# PERC DISTRIBUTION dQVAPOR vs dSST bin - DAILY + PVALUE SUBSAMPLED height dependent\n",
    "perc_step = 5\n",
    "nbins = int(100/perc_step) # Number of bins.\n",
    "pdist_dQVAPOR_day = np.zeros((dQVAPOR_day.shape[1],nbins))\n",
    "pstd_dQVAPOR_day = np.zeros((dQVAPOR_day.shape[1],nbins))\n",
    "pstderr_dQVAPOR_day = np.zeros((dQVAPOR_day.shape[1],nbins))\n",
    "pvalue_dQVAPOR_day = np.zeros((dQVAPOR_day.shape[1],nbins))\n",
    "for h in range(0,dQVAPOR_day.shape[1]):\n",
    "    if h % 10 == 0:\n",
    "        print(h)    \n",
    "    x = dsst_day.copy(); control = x.reshape(-1)\n",
    "    y = dQVAPOR_day[:,h].copy(); variable = y.reshape(-1)\n",
    "    ##### Perc bin distribution: pvalue\n",
    "    pdist_dsst_day, pdist_dQVAPOR_day[h], pstd_dQVAPOR_day[h], pstderr_dQVAPOR_day[h], pv = perc_distribution_pvalue(control, variable, nbins, perc_step, popmean)\n",
    "    ##### Perc bin distribution: pvalue subsampled on Lcorr\n",
    "    if h <= 27:\n",
    "        x = dsst_day[::nt,::nskip,::nskip].copy(); control = x.reshape(-1)\n",
    "        y = dQVAPOR_day[::nt,h,::nskip,::nskip].copy(); variable = y.reshape(-1)\n",
    "    else:\n",
    "        x = dsst_day[::nttop,::nskiptop,::nskiptop].copy(); control = x.reshape(-1)\n",
    "        y = dQVAPOR_day[::nttop,h,::nskiptop,::nskiptop].copy(); variable = y.reshape(-1)\n",
    "    pdist_control, pdist, pstd, pstderr, pvalue_dQVAPOR_day[h] = perc_distribution_pvalue(control, variable, nbins, perc_step, popmean)"
   ]
  },
  {
   "cell_type": "code",
   "execution_count": null,
   "metadata": {},
   "outputs": [],
   "source": [
    "# path_bindist = '/home/matteo/Eureca/COARE35/Results/acquistapace_bindist/perc_dist/daily/anomalies/'\n",
    "# np.savetxt(path_bindist + 'pdist_dQVAPOR_dsst_day.txt', pdist_dQVAPOR_day)\n",
    "# np.savetxt(path_bindist + 'pstd_dQVAPOR_dsst_day.txt', pstd_dQVAPOR_day)\n",
    "# np.savetxt(path_bindist + 'pstderr_dQVAPOR_dsst_day.txt', pstderr_dQVAPOR_day)\n",
    "path_bindist = '/home/matteo/Eureca/COARE35/Results/acquistapace_bindist/perc_dist/daily/anomalies/subsampled_pvalue_Lcorr/'\n",
    "np.savetxt(path_bindist + 'pvalue_dQVAPOR_dsst_day_Lcorr30km-150km.txt', pvalue_dQVAPOR_day)"
   ]
  },
  {
   "cell_type": "code",
   "execution_count": null,
   "metadata": {},
   "outputs": [],
   "source": [
    "# popmean = 0.\n",
    "# scra = dQVAPOR_day[::nt,0,::nskip,::nskip].copy()\n",
    "# dof = (scra.shape[0]*scra.shape[1]*scra.shape[2])-1"
   ]
  },
  {
   "cell_type": "code",
   "execution_count": null,
   "metadata": {},
   "outputs": [],
   "source": [
    "# # DISTRIBUTION dQVAPOR vs dSST bin - DAILY\n",
    "# popmean = 0.\n",
    "# perc_step = 5\n",
    "# nbins = int(100/perc_step) # Number of bins.\n",
    "# pdist_dqvapor_dsst_day = np.zeros((dQVAPOR_day.shape[1],nbins))\n",
    "# pstd_dqvapor_dsst_day = np.zeros((dQVAPOR_day.shape[1],nbins))\n",
    "# pstderr_dqvapor_dsst_day = np.zeros((dQVAPOR_day.shape[1],nbins))\n",
    "# pvalue_dqvapor_dsst_day = np.zeros((dQVAPOR_day.shape[1],nbins))\n",
    "# x = dsst_day.copy()\n",
    "# control = x.reshape(-1)\n",
    "# for h in range(0,dQVAPOR_day.shape[1]):\n",
    "#     if h % 10 == 0:\n",
    "#         print(h)    \n",
    "#     y = dQVAPOR_day[:,h].copy()*1000.\n",
    "#     variable = y.reshape(-1)\n",
    "#     ##### Perc bin distribution: \n",
    "# #     pdist_dsst_day, pdist_dqvapor_dsst_day[h], pstd_dqvapor_dsst_day[h], pstderr_dqvapor_dsst_day[h], pvalue_dqvapor_dsst_day[h] = perc_distribution_pvalue(control, variable, nbins, perc_step, popmean)\n",
    "#     ##### Perc bin distribution: pvalue on dof based on correlation time and length\n",
    "#     pdist_dsst_day, pdist_dqvapor_dsst_day[h], pstd_dqvapor_dsst_day[h], pstderr_dqvapor_dsst_day[h], pvalue_dqvapor_dsst_day[h] = perc_distribution_pvalue_dof(control, variable, nbins, perc_step, popmean, dof)"
   ]
  },
  {
   "cell_type": "code",
   "execution_count": null,
   "metadata": {},
   "outputs": [],
   "source": [
    "# figure dQVAPOR vs dSST bin - DAILY\n",
    "fig = plt.figure(figsize=(10, 5))\n",
    "plt.pcolormesh(pdist_dsst_day, GP, pdist_dqvapor_dsst_day, vmin=-0.1, vmax=0.1, cmap='seismic')\n",
    "plt.gca().invert_yaxis()\n",
    "plt.xlabel('SST anomalies [˚C]'); plt.ylabel('P [hPa]')\n",
    "cbar = plt.colorbar();  cbar.set_label('QVAPOR anomalies [g kg-1]')"
   ]
  },
  {
   "cell_type": "code",
   "execution_count": null,
   "metadata": {},
   "outputs": [],
   "source": [
    "# path_bindist = '/home/matteo/Eureca/COARE35/Results/acquistapace_bindist/perc_dist/daily/anomalies/pvalue_Lcorr/'\n",
    "# np.savetxt(path_bindist + 'pdist_dQVAPOR_dsst_day_Lcorr30km.txt', pdist_dqvapor_dsst_day)\n",
    "# np.savetxt(path_bindist + 'pstd_dQVAPOR_dsst_day_Lcorr30km.txt', pstd_dqvapor_dsst_day)\n",
    "# np.savetxt(path_bindist + 'pstderr_dQVAPOR_dsst_day_Lcorr30km.txt', pstderr_dqvapor_dsst_day)\n",
    "# np.savetxt(path_bindist + 'pvalue_dQVAPOR_dsst_day_Lcorr30km.txt', pvalue_dqvapor_dsst_day)"
   ]
  },
  {
   "cell_type": "code",
   "execution_count": null,
   "metadata": {},
   "outputs": [],
   "source": [
    "# figure dQVAPOR vs dSST bin - DAILY\n",
    "fig = plt.figure(figsize=(10, 5))\n",
    "plt.pcolormesh(pdist_dsst_day, GP, pdist_dqvapor_dsst_day, vmin=-0.1, vmax=0.1, cmap='seismic')\n",
    "plt.gca().invert_yaxis()\n",
    "plt.xlabel('SST anomalies [˚C]'); plt.ylabel('P [hPa]')\n",
    "cbar = plt.colorbar();  cbar.set_label('QVAPOR anomalies [g kg-1]')"
   ]
  },
  {
   "cell_type": "code",
   "execution_count": null,
   "metadata": {},
   "outputs": [],
   "source": [
    "# # figure dQVAPOR vs dSST bin - DAILY\n",
    "# fig = plt.figure(figsize=(10, 5))\n",
    "# plt.pcolormesh(pdist_dsst_day, GP[:33], pdist_dqvapor_dsst_day/pstd_dqvapor_dsst_day*100, vmin=-30, vmax=30, cmap='seismic')\n",
    "# plt.gca().invert_yaxis()\n",
    "# plt.xlabel('SST  anomalies[˚C]'); plt.ylabel('P [hPa]')\n",
    "# cbar = plt.colorbar();  cbar.set_label('QVAPOR anomalies/ std QVAPOR anomalies [%]')\n",
    "# # aggiungi PBLH o per bin SST o come linea"
   ]
  },
  {
   "cell_type": "code",
   "execution_count": null,
   "metadata": {},
   "outputs": [],
   "source": [
    "# path_bindist = '/home/matteo/Eureca/COARE35/Results/acquistapace_bindist/perc_dist/daily/anomalies/'\n",
    "# np.savetxt(path_bindist + 'pdist_dQVAPOR_dsst_day.txt', pdist_dqvapor_dsst_day)\n",
    "# np.savetxt(path_bindist + 'pstd_dQVAPOR_dsst_day.txt', pstd_dqvapor_dsst_day)\n",
    "# np.savetxt(path_bindist + 'pstderr_dQVAPOR_dsst_day.txt', pstderr_dqvapor_dsst_day)\n",
    "# np.savetxt(path_bindist + 'pvalue_dQVAPOR_dsst_day.txt', pvalue_dqvapor_dsst_day)"
   ]
  },
  {
   "cell_type": "code",
   "execution_count": null,
   "metadata": {},
   "outputs": [],
   "source": [
    "del QVAPOR_day, dQVAPOR_day"
   ]
  },
  {
   "cell_type": "code",
   "execution_count": null,
   "metadata": {},
   "outputs": [],
   "source": []
  },
  {
   "cell_type": "code",
   "execution_count": null,
   "metadata": {},
   "outputs": [],
   "source": [
    "L = 30\n",
    "nskip = int(L/3)\n",
    "nt = int(1)\n",
    "# from top pbl upwards\n",
    "Ltop = 150\n",
    "nskiptop = int(Ltop/3)\n",
    "nttop = int(1)\n",
    "# ref mean\n",
    "popmean = 0."
   ]
  },
  {
   "cell_type": "code",
   "execution_count": null,
   "metadata": {},
   "outputs": [],
   "source": [
    "# FB DISTRIBUTION dQVAPOR vs dSST bin - DAILY + PVALUE subsampled\n",
    "perc_step = 5\n",
    "nbins = int(100/perc_step) # Number of bins.\n",
    "dist_dQVAPOR_day = np.zeros((dQVAPOR_day.shape[1],nbins))\n",
    "npoint_dQVAPOR_day = np.zeros((dQVAPOR_day.shape[1],nbins))\n",
    "stderr_dQVAPOR_day = np.zeros((dQVAPOR_day.shape[1],nbins))\n",
    "pvalue_dQVAPOR_day = np.zeros((dQVAPOR_day.shape[1],nbins))\n",
    "for h in range(0,dQVAPOR_day.shape[1]):\n",
    "    if h % 10 == 0:\n",
    "        print(h)   \n",
    "    x = dsst_day.copy(); control = x.reshape(-1)\n",
    "    y = dQVAPOR_day[:,h].copy(); variable = y.reshape(-1)\n",
    "    ##### Fixed bin distribution: \n",
    "    dist_dsst_day, dist_dQVAPOR_day[h], stderr_dQVAPOR_day[h], npoint_dQVAPOR_day[h], pv = fb_distribution_npoint_pvalue(control, variable, nbins, perc_step, popmean)\n",
    "    ##### Fixed bin distribution: pvalue on subsampled field\n",
    "    if h <= 27:\n",
    "        x = dsst_day[::nt,::nskip,::nskip].copy(); control = x.reshape(-1)\n",
    "        y = dQVAPOR_day[::nt,h,::nskip,::nskip].copy(); variable = y.reshape(-1)\n",
    "    else:\n",
    "        x = dsst_day[::nttop,::nskiptop,::nskiptop].copy(); control = x.reshape(-1)\n",
    "        y = dQVAPOR_day[::nttop,h,::nskiptop,::nskiptop].copy(); variable = y.reshape(-1)\n",
    "    dist_control, dist, stderr, npoint, pvalue_dQVAPOR_day[h] = fb_distribution_npoint_pvalue(control, variable, nbins, perc_step, popmean)"
   ]
  },
  {
   "cell_type": "code",
   "execution_count": null,
   "metadata": {},
   "outputs": [],
   "source": [
    "path_bindist = '/home/matteo/Eureca/COARE35/Results/acquistapace_bindist/fb_dist/daily/anomalies/'\n",
    "np.savetxt(path_bindist + 'dist_dsst_day.txt', dist_dsst_day)\n",
    "np.savetxt(path_bindist + 'dist_dQVAPOR_dsst_day.txt', dist_dQVAPOR_day)\n",
    "np.savetxt(path_bindist + 'npoint_dQVAPOR_dsst_day.txt', npoint_dQVAPOR_day)\n",
    "np.savetxt(path_bindist + 'stderr_dQVAPOR_dsst_day.txt', stderr_dQVAPOR_day)\n",
    "path_bindist = '/home/matteo/Eureca/COARE35/Results/acquistapace_bindist/fb_dist/daily/anomalies/subsampled_pvalue_Lcorr/'\n",
    "np.savetxt(path_bindist + 'pvalue_dQVAPOR_dsst_day_Lcorr30km-150km.txt', pvalue_dQVAPOR_day)"
   ]
  },
  {
   "cell_type": "code",
   "execution_count": null,
   "metadata": {},
   "outputs": [],
   "source": []
  },
  {
   "cell_type": "code",
   "execution_count": null,
   "metadata": {},
   "outputs": [],
   "source": [
    "# HOURLY tutto da rifare!!!!"
   ]
  },
  {
   "cell_type": "code",
   "execution_count": null,
   "metadata": {},
   "outputs": [],
   "source": [
    "# HOURLY "
   ]
  },
  {
   "cell_type": "code",
   "execution_count": null,
   "metadata": {},
   "outputs": [],
   "source": [
    "# read QVAPOR anomalies\n",
    "path_dir = '/media/fabien/DAGOBAH1/WRF_EUREC4A/CNT/FEB/01_var_33levels/anomalies/'\n",
    "qv_files = path_dir + 'QVAPOR_anomalies_150km_d02_2020-02-'\n",
    "qv_list = sorted(glob.glob(qv_files + '*'))\n",
    "ds_tmp = xr.open_mfdataset(qv_list, concat_dim='XTIME', combine='nested')"
   ]
  },
  {
   "cell_type": "code",
   "execution_count": null,
   "metadata": {},
   "outputs": [],
   "source": [
    "maskl_lon = (ds_tmp.XLONG >= minlon) & (ds_tmp.XLONG <= maxlon)\n",
    "maskl_lat = (ds_tmp.XLAT >= minlat) & (ds_tmp.XLAT <= maxlat)\n",
    "ds_q = ds_tmp.where(maskl_lon & maskl_lat, drop=True)"
   ]
  },
  {
   "cell_type": "code",
   "execution_count": null,
   "metadata": {},
   "outputs": [],
   "source": [
    "dQVAPOR = ds_q['QVAPOR'].values*seamask"
   ]
  },
  {
   "cell_type": "code",
   "execution_count": null,
   "metadata": {},
   "outputs": [],
   "source": [
    "# DISTRIBUTION dQVAPOR vs dSST bin - HOURLY\n",
    "str_control = 'SST'; str_variable = \"QVAPOR\"\n",
    "perc_step = 5\n",
    "nbins = int(100/perc_step) # Number of bins.\n",
    "theshold_n = 100\n",
    "dist_dqvapor_dsst = np.zeros((dQVAPOR.shape[1],nbins))\n",
    "npoint_dqvapor_dsst = np.zeros((dQVAPOR.shape[1],nbins))\n",
    "x = dsst.copy()\n",
    "control = dsst.reshape(-1)\n",
    "for h in range(0,dQVAPOR.shape[1]):\n",
    "    y = dQVAPOR[:,h,:,:].copy()\n",
    "    variable = y.reshape(-1)\n",
    "    ##### Fixed bin distribution: fb\n",
    "    dist_dsst, dist_dqvapor_dsst[h], std_err, npoint_dqvapor_dsst[h] = fb_distribution_mod(control, variable, nbins, theshold_n, perc_step)"
   ]
  },
  {
   "cell_type": "code",
   "execution_count": null,
   "metadata": {},
   "outputs": [],
   "source": [
    "# figure dQVAPOR vs dSST bin - HOURLY\n",
    "fig = plt.figure(figsize=(10, 5))\n",
    "plt.pcolormesh(dist_dsst, GP[:33], dist_dqvapor_dsst*1000., vmin=-0.6, vmax=0.6, cmap='seismic')\n",
    "plt.gca().invert_yaxis()\n",
    "plt.xlabel('SST anomalies [˚C]'); plt.ylabel('P [hPa]')\n",
    "cbar = plt.colorbar();  cbar.set_label('QVAPOR anomalies [g kg-1]')"
   ]
  },
  {
   "cell_type": "code",
   "execution_count": null,
   "metadata": {},
   "outputs": [],
   "source": [
    "path_bindist = '/home/matteo/Eureca/COARE35/Results/acquistapace_bindist/'\n",
    "np.savetxt(path_bindist + 'dist_dsst.txt', dist_dsst)\n",
    "np.savetxt(path_bindist + 'dist_dQVAPOR_dsst.txt', dist_dqvapor_dsst)\n",
    "np.savetxt(path_bindist + 'npoint_dQVAPOR_dsst.txt', npoint_dqvapor_dsst)"
   ]
  },
  {
   "cell_type": "code",
   "execution_count": null,
   "metadata": {},
   "outputs": [],
   "source": [
    "# DISTRIBUTION dQVAPOR vs SST bin - HOURLY\n",
    "str_control = 'SST'; str_variable = \"QVAPOR\"\n",
    "perc_step = 5\n",
    "nbins = int(100/perc_step) # Number of bins.\n",
    "theshold_n = 100\n",
    "dist_dqvapor_sst = np.zeros((dQVAPOR.shape[1],nbins))\n",
    "npoint_dqvapor_sst = np.zeros((dQVAPOR.shape[1],nbins))\n",
    "x = sst.copy()\n",
    "control = x.reshape(-1)\n",
    "for h in range(0,dQVAPOR.shape[1]):\n",
    "    y = dQVAPOR[:,h,:,:].copy()\n",
    "    variable = y.reshape(-1)\n",
    "    ##### Fixed bin distribution: fb\n",
    "    dist_sst, dist_dqvapor_sst[h], std_err, npoint_dqvapor_sst[h] = fb_distribution_mod(control, variable, nbins, theshold_n, perc_step)"
   ]
  },
  {
   "cell_type": "code",
   "execution_count": null,
   "metadata": {},
   "outputs": [],
   "source": [
    "# figure dQVAPOR vs SST bin - HOURLY\n",
    "fig = plt.figure(figsize=(10, 5))\n",
    "plt.pcolormesh(dist_sst-273.15, GP[:33], dist_dqvapor_sst*1000., vmin=-0.6, vmax=0.6, cmap='seismic')\n",
    "plt.gca().invert_yaxis()\n",
    "plt.xlabel('SST [˚C]'); plt.ylabel('P [hPa]')\n",
    "cbar = plt.colorbar();  cbar.set_label('QVAPOR anomalies [g kg-1]')"
   ]
  },
  {
   "cell_type": "code",
   "execution_count": null,
   "metadata": {},
   "outputs": [],
   "source": [
    "path_bindist = '/home/matteo/Eureca/COARE35/Results/acquistapace_bindist/'\n",
    "np.savetxt(path_bindist + 'dist_sst.txt', dist_sst)\n",
    "np.savetxt(path_bindist + 'dist_dQVAPOR_sst.txt', dist_dqvapor_sst)\n",
    "np.savetxt(path_bindist + 'npoint_dQVAPOR_sst.txt', npoint_dqvapor_sst)"
   ]
  },
  {
   "cell_type": "code",
   "execution_count": null,
   "metadata": {},
   "outputs": [],
   "source": []
  },
  {
   "cell_type": "code",
   "execution_count": null,
   "metadata": {},
   "outputs": [],
   "source": []
  }
 ],
 "metadata": {
  "interpreter": {
   "hash": "6c158dc727e3f7af5cb4f82910b7b5790878aa8c7ec1ebd135cc0211776867c6"
  },
  "kernelspec": {
   "display_name": "Python 3 (ipykernel)",
   "language": "python",
   "name": "python3"
  },
  "language_info": {
   "codemirror_mode": {
    "name": "ipython",
    "version": 3
   },
   "file_extension": ".py",
   "mimetype": "text/x-python",
   "name": "python",
   "nbconvert_exporter": "python",
   "pygments_lexer": "ipython3",
   "version": "3.7.11"
  }
 },
 "nbformat": 4,
 "nbformat_minor": 2
}
