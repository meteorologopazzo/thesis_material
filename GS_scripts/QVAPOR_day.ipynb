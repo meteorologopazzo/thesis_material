{
 "cells": [
  {
   "cell_type": "code",
   "execution_count": null,
   "metadata": {},
   "outputs": [],
   "source": [
    "%load_ext autoreload\n",
    "%autoreload 2"
   ]
  },
  {
   "cell_type": "code",
   "execution_count": 1,
   "metadata": {},
   "outputs": [],
   "source": [
    "import numpy as np\n",
    "import pandas as pd\n",
    "import glob\n",
    "import xarray as xr\n",
    "import matplotlib.pyplot as plt\n",
    "from scipy import stats\n",
    "\n",
    "import sys; sys.path.insert(1, '/home/alessandro/scripts')\n",
    "import os\n",
    "\n",
    "import geometry as gm\n",
    "#import conversion as cnv\n",
    "#from func_statistics import compute_pdf_nbin, slopes_r_p, slope_time, slope_maps\n",
    "#from coare_functions import *\n",
    "import meteo\n",
    "import lcl\n",
    "import cartopy.crs as ccrs\n",
    "crs = ccrs.PlateCarree()\n",
    "#from plotmap import plot_background\n",
    "from plotdistr import fb_distribution_npoint, perc_distribution, scatterplot_fit, hist2d\n",
    "import warnings; warnings.filterwarnings(\"ignore\")"
   ]
  },
  {
   "cell_type": "code",
   "execution_count": 2,
   "metadata": {},
   "outputs": [],
   "source": [
    "# find data\n",
    "path = '/data/Fabien/GS'\n",
    "wrf_files = path + '/GS700_WRF_daily_3D.nc'\n",
    "#fname_list = sorted(glob.glob(wrf_files + '*'))"
   ]
  },
  {
   "cell_type": "code",
   "execution_count": 3,
   "metadata": {},
   "outputs": [],
   "source": [
    "# open data\n",
    "ds_tot = xr.open_dataset(wrf_files)        #mfdataset(fname_list, concat_dim='Time', combine='nested')\n",
    "ds_daily = ds_tot.sel(time_counter=slice('2006-02-01T00:30:00.000000000', '2006-03-01T00:30:00.000000000'))\n",
    "\n",
    "del ds_tot"
   ]
  },
  {
   "cell_type": "code",
   "execution_count": null,
   "metadata": {},
   "outputs": [],
   "source": [
    "ds_daily"
   ]
  },
  {
   "cell_type": "code",
   "execution_count": 4,
   "metadata": {},
   "outputs": [],
   "source": [
    "# import sea_mask\n",
    "if os.path.exists('/home/alessandro/prove/sea_mask.npy'):\n",
    "    sea_mask = np.load('/home/alessandro/prove/sea_mask.npy')"
   ]
  },
  {
   "cell_type": "code",
   "execution_count": null,
   "metadata": {},
   "outputs": [],
   "source": [
    "#  .transpose('time_counter', 'lev_M', 'y_grid_M', 'x_grid_M')"
   ]
  },
  {
   "cell_type": "markdown",
   "metadata": {},
   "source": [
    "SAVE QVAPOR"
   ]
  },
  {
   "cell_type": "code",
   "execution_count": 5,
   "metadata": {},
   "outputs": [],
   "source": [
    "QVAPOR_day = ds_daily['QVAPOR']\n",
    "QVAPOR_day = QVAPOR_day.transpose('time_counter', 'lev_M', 'y_grid_M', 'x_grid_M')"
   ]
  },
  {
   "cell_type": "code",
   "execution_count": 6,
   "metadata": {},
   "outputs": [],
   "source": [
    "# select domain\n",
    "\n",
    "QVAPOR_day = QVAPOR_day.where(sea_mask, drop=False)\n",
    "QVAPOR_day = QVAPOR_day[:,:,25:-25, 25:-25]"
   ]
  },
  {
   "cell_type": "code",
   "execution_count": null,
   "metadata": {},
   "outputs": [],
   "source": [
    "# def lon lat time\n",
    "lon_M = ds_daily['nav_lon_grid_M'][0].values\n",
    "lat_M = ds_daily['nav_lat_grid_M'][0].values\n",
    "time = ds_daily['time_counter'].values.astype('<M8[s]')"
   ]
  },
  {
   "cell_type": "markdown",
   "metadata": {},
   "source": [
    "GEOPOTENTIAL AND PRESSURE"
   ]
  },
  {
   "cell_type": "markdown",
   "metadata": {},
   "source": [
    "WHY ARE WE SELECTING ONLY [10] ? "
   ]
  },
  {
   "cell_type": "code",
   "execution_count": null,
   "metadata": {},
   "outputs": [],
   "source": [
    "pres = (ds_daily['P']+ds_daily['PB'])/100.         #*seamask/100.\n",
    "pres = pres.where(sea_mask, drop=False)\n",
    "pres = pres.transpose('time_counter', 'lev_M', 'y_grid_M', 'x_grid_M')"
   ]
  },
  {
   "cell_type": "code",
   "execution_count": null,
   "metadata": {},
   "outputs": [],
   "source": [
    "pres = np.nanmean(pres, axis=(1,2))\n",
    "pres.shape"
   ]
  },
  {
   "cell_type": "code",
   "execution_count": null,
   "metadata": {},
   "outputs": [],
   "source": [
    "GPH = (ds_daily['PH']+ds_daily['PHB'])/9.81           #*seamask/9.81\n",
    "GPH = GPH.where(sea_mask, drop=False)\n",
    "GPH = GPH.transpose('time_counter', 'lev_W', 'y_grid_M', 'x_grid_M')\n",
    "#GPH = np.nanmean(GPH, axis=(1,2))"
   ]
  },
  {
   "cell_type": "markdown",
   "metadata": {},
   "source": [
    "OPENING HOURLY DATASETS"
   ]
  },
  {
   "cell_type": "code",
   "execution_count": null,
   "metadata": {},
   "outputs": [],
   "source": [
    "wrf_hourly = path + '/GS700_WRF_3h_surf.nc'\n",
    "ds_hourly = xr.open_dataset(wrf_hourly)\n",
    "ds_hourly = ds_hourly.sel(time_counter=slice('2006-02-01T00:30:00.000000000', '2006-03-01T00:30:00.000000000'))\n"
   ]
  },
  {
   "cell_type": "code",
   "execution_count": null,
   "metadata": {},
   "outputs": [],
   "source": [
    "# daily varaibles\n",
    "# select sst, q2, U, PBLH\n",
    "\n",
    "sst_day = ds_hourly['SST'].groupby('time_counter.day').mean()            \n",
    "sst_day = sst_day.where(sea_mask, drop=False).values;           sst_day = sst_day[:, 25:-25, 25:-25]\n",
    "\n",
    "q2_day = ds_hourly['Q2'].groupby('time_counter.day').mean()\n",
    "q2_day = q2_day.where(sea_mask, drop=False).values;             q2_day = q2_day[:, 25:-25, 25:-25]\n",
    "\n",
    "PBLH_day = ds_hourly['PBLH'].groupby('time_counter.day').mean()\n",
    "PBLH_day = PBLH_day.where(sea_mask, drop=False).values;         PBLH_day = PBLH_day[:, 25:-25, 25:-25]\n",
    "\n",
    "QVAPOR_day = QVAPOR_day.values"
   ]
  },
  {
   "cell_type": "code",
   "execution_count": null,
   "metadata": {},
   "outputs": [],
   "source": [
    "# compute anomalies daily data\n",
    "s = 50\n",
    "\n",
    "sst_ave = np.zeros(sst_day.shape)\n",
    "q2_ave = np.zeros(q2_day.shape)\n",
    "PBLH_ave = np.zeros(PBLH_day.shape)\n",
    "QVAPOR_ave = np.zeros(QVAPOR_day.shape)\n",
    "\n",
    "\n",
    "dsst_day = np.zeros(sst_day.shape)\n",
    "dq2_day = np.zeros(q2_day.shape)\n",
    "dPBLH_day = np.zeros(PBLH_day.shape)\n",
    "dQVAPOR_day = np.zeros(QVAPOR_day.shape)\n",
    "\n",
    "for t in range(0,sst_day.shape[0]):\n",
    "    if t % 10 == 0:\n",
    "        print(t)\n",
    "    # upscale using gaussian filter\n",
    "    sst_ave[t] = gm.nan_gaussian_filter(sst_day[t],s)                             \n",
    "    dsst_day[t] = sst_day[t] - sst_ave[t]\n",
    "    \n",
    "    q2_ave[t] = gm.nan_gaussian_filter(q2_day[t],s)\n",
    "    dq2_day[t] = q2_day[t] - q2_ave[t]\n",
    "    \n",
    "    PBLH_ave[t] = gm.nan_gaussian_filter(PBLH_day[t],s)\n",
    "    dPBLH_day[t] = PBLH_day[t] - PBLH_ave[t]\n",
    "    \n",
    "    for h in range(0,QVAPOR_day.shape[1]):\n",
    "        q_ave[t] = gm.nan_gaussian_filter(QVAPOR_day[t,h],s)                               #*seamask\n",
    "        dQVAPOR_day[t,h] = QVAPOR_day[t,h] - q_ave[t]"
   ]
  },
  {
   "cell_type": "code",
   "execution_count": null,
   "metadata": {},
   "outputs": [],
   "source": [
    "# # hourly varaibles\n",
    "# # select sst, q2, U, PBLH\n",
    "# sst = ds['SST'].values*seamask"
   ]
  },
  {
   "cell_type": "code",
   "execution_count": null,
   "metadata": {},
   "outputs": [],
   "source": [
    "# # compute anomalies hourly data\n",
    "# s = 50\n",
    "# dsst = np.zeros(sst.shape)\n",
    "# for t in range(0,sst.shape[0]):\n",
    "#     if t % 50 == 0:\n",
    "#         print(t)\n",
    "#     # upscale using gaussian filter\n",
    "#     sst_ave = gm.nan_gaussian_filter(sst[t],s)*seamask\n",
    "#     dsst[t] = sst[t] - sst_ave"
   ]
  },
  {
   "cell_type": "code",
   "execution_count": null,
   "metadata": {},
   "outputs": [],
   "source": [
    "# read QVAPOR DAY from QVAPOR dataset\n",
    "'''path_dir = '/media/fabien/DAGOBAH/WRF_EUREC4A/CNT/FEB/01_var_33levels/'\n",
    "ds_tmp = xr.open_dataset(path_dir + 'QVAPOR_d02_2020-02')\n",
    "maskl_lon = (ds_tmp.XLONG >= minlon) & (ds_tmp.XLONG <= maxlon)\n",
    "maskl_lat = (ds_tmp.XLAT >= minlat) & (ds_tmp.XLAT <= maxlat)\n",
    "ds_tmp = ds_tmp.where(maskl_lon & maskl_lat, drop=True)\n",
    "QVAPOR_day = ds_tmp['QVAPOR'].groupby('XTIME.day').mean().values*seamask\n",
    "del ds_tmp'''"
   ]
  },
  {
   "cell_type": "code",
   "execution_count": null,
   "metadata": {},
   "outputs": [],
   "source": [
    "# read QVAPOR DAY from hourly wrfout\n",
    "# QVAPOR_day = ds['QVAPOR'][:,:50].groupby('XTIME.day').mean().values*seamask\n",
    "'''QVAPOR_day = ds['QVAPOR'].groupby('XTIME.day').mean().values*seamask'''"
   ]
  },
  {
   "cell_type": "code",
   "execution_count": null,
   "metadata": {},
   "outputs": [],
   "source": [
    "# # DISTRIBUTION QVAPOR vs SST bin - DAILY\n",
    "perc_step = 5\n",
    "nbins = int(100/perc_step) # Number of bins.\n",
    "pdist_qvapor_sst_day = np.zeros((QVAPOR_day.shape[1],nbins))\n",
    "pstd_qvapor_sst_day = np.zeros((QVAPOR_day.shape[1],nbins))\n",
    "x = sst_day.copy()\n",
    "control = x.reshape(-1)\n",
    "for h in range(0,QVAPOR_day.shape[1]):\n",
    "    if h % 10 == 0:\n",
    "        print(h)    \n",
    "    y = QVAPOR_day[:,h,:,:].copy()\n",
    "    variable = y.reshape(-1)\n",
    "    ##### Perc bin distribution\n",
    "    pdist_sst_day, pdist_qvapor_sst_day[h], pstd_qvapor_sst_day[h], pstderr = perc_distribution(control, variable, nbins, perc_step)"
   ]
  },
  {
   "cell_type": "code",
   "execution_count": null,
   "metadata": {},
   "outputs": [],
   "source": [
    "GP = (ds_daily['P']+ds_daily['PB'])/100.         #*seamask/100."
   ]
  },
  {
   "cell_type": "code",
   "execution_count": null,
   "metadata": {},
   "outputs": [],
   "source": [
    "GP = np.nanmean(GP, axis=(1,2,3))"
   ]
  },
  {
   "cell_type": "code",
   "execution_count": null,
   "metadata": {},
   "outputs": [],
   "source": [
    "pdist_qvapor_sst_day.shape"
   ]
  },
  {
   "cell_type": "code",
   "execution_count": null,
   "metadata": {},
   "outputs": [],
   "source": [
    "# # figure QVAPOR vs SST bin - DAILY\n",
    "fig = plt.figure(figsize=(10, 5))\n",
    "plt.pcolormesh(pdist_sst_day-273.15, GP, pdist_qvapor_sst_day*1000., cmap='jet')\n",
    "plt.gca().invert_yaxis()\n",
    "plt.xlabel('SST [˚C]'); plt.ylabel('P [hPa]')\n",
    "cbar = plt.colorbar();  cbar.set_label('QVAPOR [g kg-1]')"
   ]
  },
  {
   "cell_type": "code",
   "execution_count": null,
   "metadata": {},
   "outputs": [],
   "source": [
    "# path_bindist = '/home/matteo/Eureca/COARE35/Results/acquistapace_bindist/perc_dist/daily/'\n",
    "# np.savetxt(path_bindist + 'pdist_QVAPOR_sst_day.txt', pdist_qvapor_sst_day)\n",
    "# np.savetxt(path_bindist + 'pstd_QVAPOR_sst_day.txt', pstd_qvapor_sst_day)"
   ]
  },
  {
   "cell_type": "code",
   "execution_count": null,
   "metadata": {},
   "outputs": [],
   "source": [
    "L = 30\n",
    "nskip = int(L/3)\n",
    "nt = int(1)\n",
    "# from top pbl upwards\n",
    "Ltop = 150\n",
    "nskiptop = int(Ltop/3)\n",
    "nttop = int(1)\n",
    "# ref mean\n",
    "popmean = 0."
   ]
  },
  {
   "cell_type": "code",
   "execution_count": null,
   "metadata": {},
   "outputs": [],
   "source": [
    "# PERC DISTRIBUTION dQVAPOR vs dSST bin - DAILY + PVALUE SUBSAMPLED height dependent\n",
    "perc_step = 5\n",
    "nbins = int(100/perc_step) # Number of bins.\n",
    "pdist_dQVAPOR_day = np.zeros((dQVAPOR_day.shape[1],nbins))\n",
    "pstd_dQVAPOR_day = np.zeros((dQVAPOR_day.shape[1],nbins))\n",
    "pstderr_dQVAPOR_day = np.zeros((dQVAPOR_day.shape[1],nbins))\n",
    "pvalue_dQVAPOR_day = np.zeros((dQVAPOR_day.shape[1],nbins))\n",
    "for h in range(0,dQVAPOR_day.shape[1]):\n",
    "    if h % 10 == 0:\n",
    "        print(h)    \n",
    "    x = dsst_day.copy(); control = x.reshape(-1)\n",
    "    y = dQVAPOR_day[:,h].copy(); variable = y.reshape(-1)\n",
    "    ##### Perc bin distribution: pvalue\n",
    "    pdist_dsst_day, pdist_dQVAPOR_day[h], pstd_dQVAPOR_day[h], pstderr_dQVAPOR_day[h], pv = perc_distribution_pvalue(control, variable, nbins, perc_step, popmean)\n",
    "    ##### Perc bin distribution: pvalue subsampled on Lcorr\n",
    "    if h <= 27:\n",
    "        x = dsst_day[::nt,::nskip,::nskip].copy(); control = x.reshape(-1)\n",
    "        y = dQVAPOR_day[::nt,h,::nskip,::nskip].copy(); variable = y.reshape(-1)\n",
    "    else:\n",
    "        x = dsst_day[::nttop,::nskiptop,::nskiptop].copy(); control = x.reshape(-1)\n",
    "        y = dQVAPOR_day[::nttop,h,::nskiptop,::nskiptop].copy(); variable = y.reshape(-1)\n",
    "    pdist_control, pdist, pstd, pstderr, pvalue_dQVAPOR_day[h] = perc_distribution_pvalue(control, variable, nbins, perc_step, popmean)"
   ]
  },
  {
   "cell_type": "code",
   "execution_count": null,
   "metadata": {},
   "outputs": [],
   "source": [
    "# path_bindist = '/home/matteo/Eureca/COARE35/Results/acquistapace_bindist/perc_dist/daily/anomalies/'\n",
    "# np.savetxt(path_bindist + 'pdist_dQVAPOR_dsst_day.txt', pdist_dQVAPOR_day)\n",
    "# np.savetxt(path_bindist + 'pstd_dQVAPOR_dsst_day.txt', pstd_dQVAPOR_day)\n",
    "# np.savetxt(path_bindist + 'pstderr_dQVAPOR_dsst_day.txt', pstderr_dQVAPOR_day)\n",
    "path_bindist = '/home/matteo/Eureca/COARE35/Results/acquistapace_bindist/perc_dist/daily/anomalies/subsampled_pvalue_Lcorr/'\n",
    "np.savetxt(path_bindist + 'pvalue_dQVAPOR_dsst_day_Lcorr30km-150km.txt', pvalue_dQVAPOR_day)"
   ]
  },
  {
   "cell_type": "code",
   "execution_count": null,
   "metadata": {},
   "outputs": [],
   "source": [
    "# popmean = 0.\n",
    "# scra = dQVAPOR_day[::nt,0,::nskip,::nskip].copy()\n",
    "# dof = (scra.shape[0]*scra.shape[1]*scra.shape[2])-1"
   ]
  },
  {
   "cell_type": "code",
   "execution_count": null,
   "metadata": {},
   "outputs": [],
   "source": [
    "# # DISTRIBUTION dQVAPOR vs dSST bin - DAILY\n",
    "# popmean = 0.\n",
    "# perc_step = 5\n",
    "# nbins = int(100/perc_step) # Number of bins.\n",
    "# pdist_dqvapor_dsst_day = np.zeros((dQVAPOR_day.shape[1],nbins))\n",
    "# pstd_dqvapor_dsst_day = np.zeros((dQVAPOR_day.shape[1],nbins))\n",
    "# pstderr_dqvapor_dsst_day = np.zeros((dQVAPOR_day.shape[1],nbins))\n",
    "# pvalue_dqvapor_dsst_day = np.zeros((dQVAPOR_day.shape[1],nbins))\n",
    "# x = dsst_day.copy()\n",
    "# control = x.reshape(-1)\n",
    "# for h in range(0,dQVAPOR_day.shape[1]):\n",
    "#     if h % 10 == 0:\n",
    "#         print(h)    \n",
    "#     y = dQVAPOR_day[:,h].copy()*1000.\n",
    "#     variable = y.reshape(-1)\n",
    "#     ##### Perc bin distribution: \n",
    "# #     pdist_dsst_day, pdist_dqvapor_dsst_day[h], pstd_dqvapor_dsst_day[h], pstderr_dqvapor_dsst_day[h], pvalue_dqvapor_dsst_day[h] = perc_distribution_pvalue(control, variable, nbins, perc_step, popmean)\n",
    "#     ##### Perc bin distribution: pvalue on dof based on correlation time and length\n",
    "#     pdist_dsst_day, pdist_dqvapor_dsst_day[h], pstd_dqvapor_dsst_day[h], pstderr_dqvapor_dsst_day[h], pvalue_dqvapor_dsst_day[h] = perc_distribution_pvalue_dof(control, variable, nbins, perc_step, popmean, dof)"
   ]
  },
  {
   "cell_type": "code",
   "execution_count": null,
   "metadata": {},
   "outputs": [],
   "source": [
    "# figure dQVAPOR vs dSST bin - DAILY\n",
    "fig = plt.figure(figsize=(10, 5))\n",
    "plt.pcolormesh(pdist_dsst_day, GP, pdist_dqvapor_dsst_day, vmin=-0.1, vmax=0.1, cmap='seismic')\n",
    "plt.gca().invert_yaxis()\n",
    "plt.xlabel('SST anomalies [˚C]'); plt.ylabel('P [hPa]')\n",
    "cbar = plt.colorbar();  cbar.set_label('QVAPOR anomalies [g kg-1]')"
   ]
  },
  {
   "cell_type": "code",
   "execution_count": null,
   "metadata": {},
   "outputs": [],
   "source": [
    "# path_bindist = '/home/matteo/Eureca/COARE35/Results/acquistapace_bindist/perc_dist/daily/anomalies/pvalue_Lcorr/'\n",
    "# np.savetxt(path_bindist + 'pdist_dQVAPOR_dsst_day_Lcorr30km.txt', pdist_dqvapor_dsst_day)\n",
    "# np.savetxt(path_bindist + 'pstd_dQVAPOR_dsst_day_Lcorr30km.txt', pstd_dqvapor_dsst_day)\n",
    "# np.savetxt(path_bindist + 'pstderr_dQVAPOR_dsst_day_Lcorr30km.txt', pstderr_dqvapor_dsst_day)\n",
    "# np.savetxt(path_bindist + 'pvalue_dQVAPOR_dsst_day_Lcorr30km.txt', pvalue_dqvapor_dsst_day)"
   ]
  },
  {
   "cell_type": "code",
   "execution_count": null,
   "metadata": {},
   "outputs": [],
   "source": [
    "# figure dQVAPOR vs dSST bin - DAILY\n",
    "fig = plt.figure(figsize=(10, 5))\n",
    "plt.pcolormesh(pdist_dsst_day, GP, pdist_dqvapor_dsst_day, vmin=-0.1, vmax=0.1, cmap='seismic')\n",
    "plt.gca().invert_yaxis()\n",
    "plt.xlabel('SST anomalies [˚C]'); plt.ylabel('P [hPa]')\n",
    "cbar = plt.colorbar();  cbar.set_label('QVAPOR anomalies [g kg-1]')"
   ]
  },
  {
   "cell_type": "code",
   "execution_count": null,
   "metadata": {},
   "outputs": [],
   "source": [
    "# # figure dQVAPOR vs dSST bin - DAILY\n",
    "# fig = plt.figure(figsize=(10, 5))\n",
    "# plt.pcolormesh(pdist_dsst_day, GP[:33], pdist_dqvapor_dsst_day/pstd_dqvapor_dsst_day*100, vmin=-30, vmax=30, cmap='seismic')\n",
    "# plt.gca().invert_yaxis()\n",
    "# plt.xlabel('SST  anomalies[˚C]'); plt.ylabel('P [hPa]')\n",
    "# cbar = plt.colorbar();  cbar.set_label('QVAPOR anomalies/ std QVAPOR anomalies [%]')\n",
    "# # aggiungi PBLH o per bin SST o come linea"
   ]
  },
  {
   "cell_type": "code",
   "execution_count": null,
   "metadata": {},
   "outputs": [],
   "source": [
    "# path_bindist = '/home/matteo/Eureca/COARE35/Results/acquistapace_bindist/perc_dist/daily/anomalies/'\n",
    "# np.savetxt(path_bindist + 'pdist_dQVAPOR_dsst_day.txt', pdist_dqvapor_dsst_day)\n",
    "# np.savetxt(path_bindist + 'pstd_dQVAPOR_dsst_day.txt', pstd_dqvapor_dsst_day)\n",
    "# np.savetxt(path_bindist + 'pstderr_dQVAPOR_dsst_day.txt', pstderr_dqvapor_dsst_day)\n",
    "# np.savetxt(path_bindist + 'pvalue_dQVAPOR_dsst_day.txt', pvalue_dqvapor_dsst_day)"
   ]
  },
  {
   "cell_type": "code",
   "execution_count": null,
   "metadata": {},
   "outputs": [],
   "source": [
    "del QVAPOR_day, dQVAPOR_day"
   ]
  },
  {
   "cell_type": "code",
   "execution_count": null,
   "metadata": {},
   "outputs": [],
   "source": []
  },
  {
   "cell_type": "code",
   "execution_count": null,
   "metadata": {},
   "outputs": [],
   "source": [
    "L = 30\n",
    "nskip = int(L/3)\n",
    "nt = int(1)\n",
    "# from top pbl upwards\n",
    "Ltop = 150\n",
    "nskiptop = int(Ltop/3)\n",
    "nttop = int(1)\n",
    "# ref mean\n",
    "popmean = 0."
   ]
  },
  {
   "cell_type": "code",
   "execution_count": null,
   "metadata": {},
   "outputs": [],
   "source": [
    "# FB DISTRIBUTION dQVAPOR vs dSST bin - DAILY + PVALUE subsampled\n",
    "perc_step = 5\n",
    "nbins = int(100/perc_step) # Number of bins.\n",
    "dist_dQVAPOR_day = np.zeros((dQVAPOR_day.shape[1],nbins))\n",
    "npoint_dQVAPOR_day = np.zeros((dQVAPOR_day.shape[1],nbins))\n",
    "stderr_dQVAPOR_day = np.zeros((dQVAPOR_day.shape[1],nbins))\n",
    "pvalue_dQVAPOR_day = np.zeros((dQVAPOR_day.shape[1],nbins))\n",
    "for h in range(0,dQVAPOR_day.shape[1]):\n",
    "    if h % 10 == 0:\n",
    "        print(h)   \n",
    "    x = dsst_day.copy(); control = x.reshape(-1)\n",
    "    y = dQVAPOR_day[:,h].copy(); variable = y.reshape(-1)\n",
    "    ##### Fixed bin distribution: \n",
    "    dist_dsst_day, dist_dQVAPOR_day[h], stderr_dQVAPOR_day[h], npoint_dQVAPOR_day[h], pv = fb_distribution_npoint_pvalue(control, variable, nbins, perc_step, popmean)\n",
    "    ##### Fixed bin distribution: pvalue on subsampled field\n",
    "    if h <= 27:\n",
    "        x = dsst_day[::nt,::nskip,::nskip].copy(); control = x.reshape(-1)\n",
    "        y = dQVAPOR_day[::nt,h,::nskip,::nskip].copy(); variable = y.reshape(-1)\n",
    "    else:\n",
    "        x = dsst_day[::nttop,::nskiptop,::nskiptop].copy(); control = x.reshape(-1)\n",
    "        y = dQVAPOR_day[::nttop,h,::nskiptop,::nskiptop].copy(); variable = y.reshape(-1)\n",
    "    dist_control, dist, stderr, npoint, pvalue_dQVAPOR_day[h] = fb_distribution_npoint_pvalue(control, variable, nbins, perc_step, popmean)"
   ]
  },
  {
   "cell_type": "code",
   "execution_count": null,
   "metadata": {},
   "outputs": [],
   "source": [
    "path_bindist = '/home/matteo/Eureca/COARE35/Results/acquistapace_bindist/fb_dist/daily/anomalies/'\n",
    "np.savetxt(path_bindist + 'dist_dsst_day.txt', dist_dsst_day)\n",
    "np.savetxt(path_bindist + 'dist_dQVAPOR_dsst_day.txt', dist_dQVAPOR_day)\n",
    "np.savetxt(path_bindist + 'npoint_dQVAPOR_dsst_day.txt', npoint_dQVAPOR_day)\n",
    "np.savetxt(path_bindist + 'stderr_dQVAPOR_dsst_day.txt', stderr_dQVAPOR_day)\n",
    "path_bindist = '/home/matteo/Eureca/COARE35/Results/acquistapace_bindist/fb_dist/daily/anomalies/subsampled_pvalue_Lcorr/'\n",
    "np.savetxt(path_bindist + 'pvalue_dQVAPOR_dsst_day_Lcorr30km-150km.txt', pvalue_dQVAPOR_day)"
   ]
  },
  {
   "cell_type": "code",
   "execution_count": null,
   "metadata": {},
   "outputs": [],
   "source": []
  },
  {
   "cell_type": "code",
   "execution_count": null,
   "metadata": {},
   "outputs": [],
   "source": [
    "# HOURLY tutto da rifare!!!!"
   ]
  },
  {
   "cell_type": "code",
   "execution_count": null,
   "metadata": {},
   "outputs": [],
   "source": [
    "# HOURLY "
   ]
  },
  {
   "cell_type": "code",
   "execution_count": null,
   "metadata": {},
   "outputs": [],
   "source": [
    "# read QVAPOR anomalies\n",
    "path_dir = '/media/fabien/DAGOBAH1/WRF_EUREC4A/CNT/FEB/01_var_33levels/anomalies/'\n",
    "qv_files = path_dir + 'QVAPOR_anomalies_150km_d02_2020-02-'\n",
    "qv_list = sorted(glob.glob(qv_files + '*'))\n",
    "ds_tmp = xr.open_mfdataset(qv_list, concat_dim='XTIME', combine='nested')"
   ]
  },
  {
   "cell_type": "code",
   "execution_count": null,
   "metadata": {},
   "outputs": [],
   "source": [
    "maskl_lon = (ds_tmp.XLONG >= minlon) & (ds_tmp.XLONG <= maxlon)\n",
    "maskl_lat = (ds_tmp.XLAT >= minlat) & (ds_tmp.XLAT <= maxlat)\n",
    "ds_q = ds_tmp.where(maskl_lon & maskl_lat, drop=True)"
   ]
  },
  {
   "cell_type": "code",
   "execution_count": null,
   "metadata": {},
   "outputs": [],
   "source": [
    "dQVAPOR = ds_q['QVAPOR'].values*seamask"
   ]
  },
  {
   "cell_type": "code",
   "execution_count": null,
   "metadata": {},
   "outputs": [],
   "source": [
    "# DISTRIBUTION dQVAPOR vs dSST bin - HOURLY\n",
    "str_control = 'SST'; str_variable = \"QVAPOR\"\n",
    "perc_step = 5\n",
    "nbins = int(100/perc_step) # Number of bins.\n",
    "theshold_n = 100\n",
    "dist_dqvapor_dsst = np.zeros((dQVAPOR.shape[1],nbins))\n",
    "npoint_dqvapor_dsst = np.zeros((dQVAPOR.shape[1],nbins))\n",
    "x = dsst.copy()\n",
    "control = dsst.reshape(-1)\n",
    "for h in range(0,dQVAPOR.shape[1]):\n",
    "    y = dQVAPOR[:,h,:,:].copy()\n",
    "    variable = y.reshape(-1)\n",
    "    ##### Fixed bin distribution: fb\n",
    "    dist_dsst, dist_dqvapor_dsst[h], std_err, npoint_dqvapor_dsst[h] = fb_distribution_mod(control, variable, nbins, theshold_n, perc_step)"
   ]
  },
  {
   "cell_type": "code",
   "execution_count": null,
   "metadata": {},
   "outputs": [],
   "source": [
    "# figure dQVAPOR vs dSST bin - HOURLY\n",
    "fig = plt.figure(figsize=(10, 5))\n",
    "plt.pcolormesh(dist_dsst, GP[:33], dist_dqvapor_dsst*1000., vmin=-0.6, vmax=0.6, cmap='seismic')\n",
    "plt.gca().invert_yaxis()\n",
    "plt.xlabel('SST anomalies [˚C]'); plt.ylabel('P [hPa]')\n",
    "cbar = plt.colorbar();  cbar.set_label('QVAPOR anomalies [g kg-1]')"
   ]
  },
  {
   "cell_type": "code",
   "execution_count": null,
   "metadata": {},
   "outputs": [],
   "source": [
    "path_bindist = '/home/matteo/Eureca/COARE35/Results/acquistapace_bindist/'\n",
    "np.savetxt(path_bindist + 'dist_dsst.txt', dist_dsst)\n",
    "np.savetxt(path_bindist + 'dist_dQVAPOR_dsst.txt', dist_dqvapor_dsst)\n",
    "np.savetxt(path_bindist + 'npoint_dQVAPOR_dsst.txt', npoint_dqvapor_dsst)"
   ]
  },
  {
   "cell_type": "code",
   "execution_count": null,
   "metadata": {},
   "outputs": [],
   "source": [
    "# DISTRIBUTION dQVAPOR vs SST bin - HOURLY\n",
    "str_control = 'SST'; str_variable = \"QVAPOR\"\n",
    "perc_step = 5\n",
    "nbins = int(100/perc_step) # Number of bins.\n",
    "theshold_n = 100\n",
    "dist_dqvapor_sst = np.zeros((dQVAPOR.shape[1],nbins))\n",
    "npoint_dqvapor_sst = np.zeros((dQVAPOR.shape[1],nbins))\n",
    "x = sst.copy()\n",
    "control = x.reshape(-1)\n",
    "for h in range(0,dQVAPOR.shape[1]):\n",
    "    y = dQVAPOR[:,h,:,:].copy()\n",
    "    variable = y.reshape(-1)\n",
    "    ##### Fixed bin distribution: fb\n",
    "    dist_sst, dist_dqvapor_sst[h], std_err, npoint_dqvapor_sst[h] = fb_distribution_mod(control, variable, nbins, theshold_n, perc_step)"
   ]
  },
  {
   "cell_type": "code",
   "execution_count": null,
   "metadata": {},
   "outputs": [],
   "source": [
    "# figure dQVAPOR vs SST bin - HOURLY\n",
    "fig = plt.figure(figsize=(10, 5))\n",
    "plt.pcolormesh(dist_sst-273.15, GP[:33], dist_dqvapor_sst*1000., vmin=-0.6, vmax=0.6, cmap='seismic')\n",
    "plt.gca().invert_yaxis()\n",
    "plt.xlabel('SST [˚C]'); plt.ylabel('P [hPa]')\n",
    "cbar = plt.colorbar();  cbar.set_label('QVAPOR anomalies [g kg-1]')"
   ]
  },
  {
   "cell_type": "code",
   "execution_count": null,
   "metadata": {},
   "outputs": [],
   "source": [
    "path_bindist = '/home/matteo/Eureca/COARE35/Results/acquistapace_bindist/'\n",
    "np.savetxt(path_bindist + 'dist_sst.txt', dist_sst)\n",
    "np.savetxt(path_bindist + 'dist_dQVAPOR_sst.txt', dist_dqvapor_sst)\n",
    "np.savetxt(path_bindist + 'npoint_dQVAPOR_sst.txt', npoint_dqvapor_sst)"
   ]
  },
  {
   "cell_type": "code",
   "execution_count": null,
   "metadata": {},
   "outputs": [],
   "source": []
  },
  {
   "cell_type": "code",
   "execution_count": null,
   "metadata": {},
   "outputs": [],
   "source": []
  }
 ],
 "metadata": {
  "interpreter": {
   "hash": "6c158dc727e3f7af5cb4f82910b7b5790878aa8c7ec1ebd135cc0211776867c6"
  },
  "kernelspec": {
   "display_name": "Python 3 (ipykernel)",
   "language": "python",
   "name": "python3"
  },
  "language_info": {
   "codemirror_mode": {
    "name": "ipython",
    "version": 3
   },
   "file_extension": ".py",
   "mimetype": "text/x-python",
   "name": "python",
   "nbconvert_exporter": "python",
   "pygments_lexer": "ipython3",
   "version": "3.7.11"
  }
 },
 "nbformat": 4,
 "nbformat_minor": 2
}
