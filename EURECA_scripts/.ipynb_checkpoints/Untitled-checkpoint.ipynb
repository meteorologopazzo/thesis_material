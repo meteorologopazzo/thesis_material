{
 "cells": [
  {
   "cell_type": "code",
   "execution_count": 1,
   "id": "66238cc0",
   "metadata": {},
   "outputs": [],
   "source": [
    "import numpy as np\n",
    "import pandas as pd\n",
    "import glob\n",
    "import xarray as xr\n",
    "import matplotlib.pyplot as plt\n",
    "from scipy import stats\n",
    "\n",
    "import sys; sys.path.insert(1, '/home/alessandro/thesis_material')\n",
    "import os\n",
    "\n",
    "import geometry as gm\n",
    "#import conversion as cnv\n",
    "from func_statistics import compute_pdf_nbin, slopes_r_p, slopes_r_p_onlysub, slopes_r_p_mix, slope_time, slope_maps\n",
    "import regression\n",
    "#from coare_functions import *\n",
    "import meteo\n",
    "import lcl\n",
    "import metpy.calc as mpcalc\n",
    "from metpy.units import units\n",
    "\n",
    "\n",
    "import cartopy.crs as ccrs\n",
    "crs = ccrs.PlateCarree()\n",
    "#from plotmap import plot_background\n",
    "from plotdistr import * #fb_distribution_npoint, perc_distribution, scatterplot_fit, hist2d\n",
    "from pdist_fb_distrib_save_fast import *\n",
    "\n",
    "import warnings; warnings.filterwarnings(\"ignore\")"
   ]
  },
  {
   "cell_type": "code",
   "execution_count": 2,
   "id": "4c388596",
   "metadata": {},
   "outputs": [],
   "source": [
    "%load_ext autoreload\n",
    "%autoreload 2"
   ]
  },
  {
   "cell_type": "code",
   "execution_count": 3,
   "id": "36fa9b20",
   "metadata": {},
   "outputs": [],
   "source": [
    "# find data\n",
    "path = '/saturn/simu_Caribbean/coupled_2km/output/'\n",
    "files_ls = ['QCLOUD', 'U', 'V', 'W', 'OLR', 'PH', 'PHB', 'QVAPOR', 'PB', 'P', 'T']\n",
    "files_ls = [name + '.nc' for name in files_ls]\n",
    "wrf_files = [path+name for name in files_ls]\n",
    "#fname_list = sorted(glob.glob(wrf_files + '*'))"
   ]
  },
  {
   "cell_type": "code",
   "execution_count": 4,
   "id": "3526af66",
   "metadata": {},
   "outputs": [],
   "source": [
    "# import sea_mask\n",
    "if os.path.exists('/home/alessandro/thesis_material/EURECA_scripts/masks/sea_mask_EU_new.npy'):\n",
    "    sea_mask = np.load('/home/alessandro/thesis_material/EURECA_scripts/masks/sea_mask_EU_new.npy')\n",
    "    \n",
    "if os.path.exists('/home/alessandro/thesis_material/EURECA_scripts/masks/sea_mask_EU_noWarmPatch_noWest.npy'):\n",
    "    sea_mask_modified = np.load('/home/alessandro/thesis_material/EURECA_scripts/masks/sea_mask_EU_noWarmPatch_noWest.npy')\n",
    "    sea_mask_modified_nan = np.ones_like(sea_mask_modified)\n",
    "    sea_mask_modified_nan[sea_mask_modified==0] = np.nan\n",
    "\n",
    "    \n",
    "    \n",
    "tourbillons_mask = np.load('/home/alessandro/thesis_material/EURECA_scripts/masks/tourbillons_mask.npy')\n",
    "open_ocean_mask = np.load('/home/alessandro/thesis_material/EURECA_scripts/masks/open_ocean_mask.npy')"
   ]
  },
  {
   "cell_type": "code",
   "execution_count": 5,
   "id": "79db0f11",
   "metadata": {},
   "outputs": [],
   "source": [
    "### saving all my profiles to disk"
   ]
  },
  {
   "cell_type": "markdown",
   "id": "447472cc",
   "metadata": {},
   "source": [
    "## Theta and temperature"
   ]
  },
  {
   "cell_type": "code",
   "execution_count": 7,
   "id": "3906bd1b",
   "metadata": {},
   "outputs": [],
   "source": [
    "theta = xr.open_dataset(wrf_files[files_ls.index('T.nc')])\n",
    "theta = theta['T']\n",
    "theta = theta.sel(time_counter=slice('2020-02-01T01:30:00.000000000', '2020-02-29T22:30:00.000000000'))\n",
    "theta = theta.where(sea_mask_modified, drop=False)\n",
    "theta = theta.transpose('lev_M', 'time_counter', 'y_grid_M', 'x_grid_M' )\n",
    "\n",
    "# theta_day = theta.groupby('time_counter.day').mean()\n",
    "\n",
    "T0 = 300. \n",
    "\n",
    "theta = theta+T0 #;  theta_day = theta_day+T0"
   ]
  },
  {
   "cell_type": "code",
   "execution_count": 8,
   "id": "a54ccf36",
   "metadata": {},
   "outputs": [],
   "source": [
    "theta_profile = np.nanmean(theta.values, axis=(1,2,3))\n",
    "theta_std = np.std(theta.values, axis=(1,2,3))\n"
   ]
  },
  {
   "cell_type": "code",
   "execution_count": 10,
   "id": "5e27fb21",
   "metadata": {},
   "outputs": [],
   "source": [
    "theta_profile = xr.DataArray(theta_profile, name='theta_profile', dims=['lev_M'])\n",
    "theta_profile.attrs['long name'] = 'vertical mean profile of potential temperature [K]'\n",
    "\n",
    "theta_std = xr.DataArray(theta_std, name='theta_std', dims=['lev_M'])\n",
    "theta_std.attrs['long name'] = 'vertical mean profile of stddev potential temperature [K]'\n",
    "\n",
    "\n",
    "ds_theta = xr.Dataset({'theta_profile':theta_profile, 'theta_std':theta_std})\n",
    "ds_theta.to_netcdf('/venus/tesi_ale/data_EU/profiles_sim/theta_prof.nc')"
   ]
  },
  {
   "cell_type": "code",
   "execution_count": null,
   "id": "ca4d00f1",
   "metadata": {},
   "outputs": [],
   "source": []
  },
  {
   "cell_type": "code",
   "execution_count": null,
   "id": "f658ca91",
   "metadata": {},
   "outputs": [],
   "source": []
  },
  {
   "cell_type": "code",
   "execution_count": null,
   "id": "903df450",
   "metadata": {},
   "outputs": [],
   "source": []
  },
  {
   "cell_type": "code",
   "execution_count": 11,
   "id": "6c545afb",
   "metadata": {},
   "outputs": [],
   "source": [
    "pres_base = xr.open_dataset(wrf_files[files_ls.index('PB.nc')])\n",
    "pres_base = pres_base['PB']\n",
    "\n",
    "pres = xr.open_dataset(wrf_files[files_ls.index('P.nc')])\n",
    "pres = pres['P'].sel(time_counter=slice('2020-02-01T01:30:00.000000000', '2020-02-29T22:30:00.000000000'))\n",
    "\n",
    "\n",
    "pres = (pres+pres_base)/100.                # hectoPascals\n",
    "pres = pres.where(sea_mask_modified, drop=False)\n",
    "\n",
    "pres = pres.transpose('lev_M', 'time_counter', 'y_grid_M', 'x_grid_M' )\n",
    "\n",
    "del pres_base\n",
    "#pres_base = pres_base.where(sea_mask, drop=False)\n"
   ]
  },
  {
   "cell_type": "code",
   "execution_count": 12,
   "id": "e7cc8023",
   "metadata": {},
   "outputs": [],
   "source": [
    "# compute actual temperature\n",
    "# I DID NOT APPLY DAILY MEAN TO PRES!\n",
    "temperature = theta * ( pres / 1000. )**0.286\n",
    "temperature = temperature.where(sea_mask_modified, drop=False)\n",
    "del theta, pres"
   ]
  },
  {
   "cell_type": "code",
   "execution_count": 13,
   "id": "19ff795b",
   "metadata": {},
   "outputs": [],
   "source": [
    "temperature_profile = np.nanmean(temperature.values, axis=(1,2,3))\n",
    "temperature_std = np.std(temperature.values, axis=(1,2,3))\n"
   ]
  },
  {
   "cell_type": "code",
   "execution_count": 14,
   "id": "b8e196a9",
   "metadata": {},
   "outputs": [
    {
     "data": {
      "text/plain": [
       "[<matplotlib.lines.Line2D at 0x772b6546be50>]"
      ]
     },
     "execution_count": 14,
     "metadata": {},
     "output_type": "execute_result"
    },
    {
     "data": {
      "image/png": "[encoded data removed]",
      "text/plain": [
       "<Figure size 640x480 with 1 Axes>"
      ]
     },
     "metadata": {},
     "output_type": "display_data"
    }
   ],
   "source": [
    "plt.plot(temperature_profile)"
   ]
  },
  {
   "cell_type": "code",
   "execution_count": 16,
   "id": "a3b46e9f",
   "metadata": {},
   "outputs": [],
   "source": [
    "temperature_profile = xr.DataArray(temperature_profile, name='temperature_profile', dims=['lev_M'])\n",
    "temperature_profile.attrs['long name'] = 'vertical mean profile of temperatureerature [K]'\n",
    "\n",
    "temperature_std = xr.DataArray(temperature_std, name='temperature_std', dims=['lev_M'])\n",
    "temperature_std.attrs['long name'] = 'vertical mean profile of stddev temperatureerature [K]'\n",
    "\n",
    "\n",
    "ds_temperature = xr.Dataset({'temperature_profile':temperature_profile, 'temperature_std':temperature_std})\n",
    "ds_temperature.to_netcdf('/venus/tesi_ale/data_EU/profiles_sim/temperature_prof.nc')"
   ]
  },
  {
   "cell_type": "code",
   "execution_count": null,
   "id": "b28cf308",
   "metadata": {},
   "outputs": [],
   "source": []
  },
  {
   "cell_type": "code",
   "execution_count": null,
   "id": "8fcc3e3c",
   "metadata": {},
   "outputs": [],
   "source": []
  },
  {
   "cell_type": "code",
   "execution_count": 17,
   "id": "1caccacc",
   "metadata": {},
   "outputs": [],
   "source": [
    "qvap = xr.open_dataset(wrf_files[files_ls.index('QVAPOR.nc')])\n",
    "qvap = qvap['QVAPOR'].sel(time_counter=slice('2020-02-01T01:30:00.000000000', '2020-02-29T22:30:00.000000000'))\n",
    "qvap = qvap.where(sea_mask_modified, drop=False)\n",
    "qvap = qvap.transpose('lev_M', 'time_counter', 'y_grid_M', 'x_grid_M' )\n"
   ]
  },
  {
   "cell_type": "code",
   "execution_count": 18,
   "id": "882344da",
   "metadata": {},
   "outputs": [],
   "source": [
    "qvap_std = np.nanstd(qvap.values, axis=(1,2,3))\n",
    "qvap_profile = np.nanmean(qvap.values, axis=(1,2,3))"
   ]
  },
  {
   "cell_type": "code",
   "execution_count": 20,
   "id": "6c1b9f6a",
   "metadata": {},
   "outputs": [],
   "source": [
    "qvap_profile = xr.DataArray(qvap_profile, name='qvap_profile', dims=['lev_M'])\n",
    "qvap_profile.attrs['long name'] = 'vertical mean profile of potential temperature [K]'\n",
    "\n",
    "qvap_std = xr.DataArray(qvap_std, name='qvap_std', dims=['lev_M'])\n",
    "qvap_std.attrs['long name'] = 'vertical mean profile of stddev potential temperature [K]'\n",
    "\n",
    "\n",
    "ds_qvap = xr.Dataset({'qvap_profile':qvap_profile, 'qvap_std':qvap_std})\n",
    "ds_qvap.to_netcdf('/venus/tesi_ale/data_EU/profiles_sim/qvap_prof.nc')"
   ]
  },
  {
   "cell_type": "code",
   "execution_count": null,
   "id": "15cd69e1",
   "metadata": {},
   "outputs": [],
   "source": []
  },
  {
   "cell_type": "code",
   "execution_count": null,
   "id": "7ee7d2cc",
   "metadata": {},
   "outputs": [],
   "source": []
  },
  {
   "cell_type": "code",
   "execution_count": null,
   "id": "5f072da8",
   "metadata": {},
   "outputs": [],
   "source": []
  },
  {
   "cell_type": "code",
   "execution_count": null,
   "id": "a23c3277",
   "metadata": {},
   "outputs": [],
   "source": []
  }
 ],
 "metadata": {
  "kernelspec": {
   "display_name": "Python 3 (ipykernel)",
   "language": "python",
   "name": "python3"
  },
  "language_info": {
   "codemirror_mode": {
    "name": "ipython",
    "version": 3
   },
   "file_extension": ".py",
   "mimetype": "text/x-python",
   "name": "python",
   "nbconvert_exporter": "python",
   "pygments_lexer": "ipython3",
   "version": "3.7.11"
  }
 },
 "nbformat": 4,
 "nbformat_minor": 5
}
