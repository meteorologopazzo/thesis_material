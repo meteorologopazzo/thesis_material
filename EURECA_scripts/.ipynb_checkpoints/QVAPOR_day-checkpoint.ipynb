{
 "cells": [
  {
   "cell_type": "code",
   "execution_count": null,
   "metadata": {},
   "outputs": [],
   "source": [
    "%load_ext autoreload\n",
    "%autoreload 2"
   ]
  },
  {
   "cell_type": "code",
   "execution_count": 33,
   "metadata": {},
   "outputs": [],
   "source": [
    "import numpy as np\n",
    "import pandas as pd\n",
    "import glob\n",
    "import xarray as xr\n",
    "import matplotlib.pyplot as plt\n",
    "from scipy import stats\n",
    "\n",
    "import sys; sys.path.insert(1, '/home/alessandro/thesis_material')\n",
    "import os\n",
    "\n",
    "import geometry as gm\n",
    "#import conversion as cnv\n",
    "#from func_statistics import compute_pdf_nbin, slopes_r_p, slope_time, slope_maps\n",
    "#from coare_functions import *\n",
    "import meteo\n",
    "import lcl\n",
    "import cartopy.crs as ccrs\n",
    "crs = ccrs.PlateCarree()\n",
    "#from plotmap import plot_background\n",
    "from plotdistr import * #fb_distribution_npoint, perc_distribution, scatterplot_fit, hist2d, perc_distribution_pvalue\n",
    "import warnings; warnings.filterwarnings(\"ignore\")"
   ]
  },
  {
   "cell_type": "code",
   "execution_count": 2,
   "metadata": {},
   "outputs": [],
   "source": [
    "# find data\n",
    "path = '/saturn/simu_Caribbean/coupled_2km/output/'\n",
    "files_ls = ['QCLOUD', 'U', 'V', 'W', 'OLR', 'PH', 'PHB', 'QVAPOR', 'PB', 'P', 'T']\n",
    "files_ls = [name + '.nc' for name in files_ls]\n",
    "wrf_files = [path+name for name in files_ls]\n",
    "#fname_list = sorted(glob.glob(wrf_files + '*'))"
   ]
  },
  {
   "cell_type": "code",
   "execution_count": 3,
   "metadata": {},
   "outputs": [],
   "source": [
    "# import sea_mask\n",
    "if os.path.exists('/home/alessandro/thesis_material/EURECA_scripts/sea_mask_nobnd_EU.npy'):\n",
    "    sea_mask = np.load('/home/alessandro/thesis_material/EURECA_scripts/sea_mask_nobnd_EU.npy')"
   ]
  },
  {
   "cell_type": "markdown",
   "metadata": {},
   "source": [
    "SAVE QVAPOR"
   ]
  },
  {
   "cell_type": "code",
   "execution_count": 4,
   "metadata": {},
   "outputs": [],
   "source": [
    "QVAPOR_day = xr.open_dataset(wrf_files[files_ls.index('QVAPOR.nc')])\n",
    "QVAPOR_day = QVAPOR_day['QVAPOR']\n",
    "QVAPOR_day = QVAPOR_day.sel(time_counter=slice('2020-02-01T01:30:00.000000000', '2020-03-01T01:30:00.000000000'))\n",
    "QVAPOR_day = QVAPOR_day.where(sea_mask, drop=False)"
   ]
  },
  {
   "cell_type": "code",
   "execution_count": 5,
   "metadata": {},
   "outputs": [],
   "source": [
    "# def lon lat time\n",
    "lon_M = QVAPOR_day['nav_lon_grid_M'][0].values\n",
    "lat_M = QVAPOR_day['nav_lat_grid_M'][0].values\n",
    "time = QVAPOR_day['time_counter'].values.astype('<M8[s]')"
   ]
  },
  {
   "cell_type": "code",
   "execution_count": 6,
   "metadata": {},
   "outputs": [],
   "source": [
    "# compute daily means\n",
    "QVAPOR_day = QVAPOR_day.groupby('time_counter.day').mean()\n",
    "time_day = QVAPOR_day['day'].astype('<M8[s]')"
   ]
  },
  {
   "cell_type": "markdown",
   "metadata": {},
   "source": [
    "GEOPOTENTIAL AND PRESSURE"
   ]
  },
  {
   "cell_type": "code",
   "execution_count": 7,
   "metadata": {},
   "outputs": [],
   "source": [
    "pres_base = xr.open_dataset(wrf_files[files_ls.index('PB.nc')])\n",
    "pres_base = pres_base['PB']\n",
    "\n",
    "'''pres = xr.open_dataset(wrf_files[files_ls.index('P.nc')])\n",
    "pres = pres.sel(time_counter=slice('2020-02-01T01:30:00.000000000', '2020-03-01T01:30:00.000000000'))\n",
    "pres = pres['P']\n",
    "\n",
    "pres = (pres+pres_base)/100.                # hectoPascals\n",
    "pres = pres.where(sea_mask, drop=False)'''\n",
    "\n",
    "pres_base = pres_base.where(sea_mask, drop=False)"
   ]
  },
  {
   "cell_type": "code",
   "execution_count": null,
   "metadata": {},
   "outputs": [],
   "source": [
    "'''pres = np.nanmean(pres, axis=(1,2))\n",
    "pres.shape'''"
   ]
  },
  {
   "cell_type": "code",
   "execution_count": 8,
   "metadata": {},
   "outputs": [],
   "source": [
    "GPH_base = xr.open_dataset(wrf_files[files_ls.index('PHB.nc')])\n",
    "GPH_base = GPH_base['PHB']/9.81\n",
    "\n",
    "'''GPH = xr.open_dataset(wrf_files[files_ls.index('PH.nc')])\n",
    "GPH = GPH.sel(time_counter=slice('2020-02-01T01:30:00.000000000', '2020-03-01T01:30:00.000000000'))\n",
    "GPH = GPH['PH']/9.81\n",
    "\n",
    "GPH = GPH_base + GPH\n",
    "GPH = GPH.transpose('time_counter', 'lev_W', 'y_grid_M', 'x_grid_M')\n",
    "GPH = GPH.where(sea_mask, drop=False)'''\n",
    "\n",
    "GPH_base = GPH_base.where(sea_mask, drop=False)"
   ]
  },
  {
   "cell_type": "code",
   "execution_count": null,
   "metadata": {},
   "outputs": [],
   "source": [
    "# compute daily means\n",
    "'''pres_day = pres.groupby('time_counter.day').mean()\n",
    "GPH_day = GPH.groupby('time_counter.day').mean()'''"
   ]
  },
  {
   "cell_type": "code",
   "execution_count": null,
   "metadata": {},
   "outputs": [],
   "source": []
  },
  {
   "cell_type": "markdown",
   "metadata": {},
   "source": [
    "OPENING HOURLY DATASETS"
   ]
  },
  {
   "cell_type": "code",
   "execution_count": 9,
   "metadata": {},
   "outputs": [],
   "source": [
    "wrf_hourly = path + 'Caraibes_WRF_3h_surf.nc'\n",
    "ds_hourly = xr.open_dataset(wrf_hourly)\n",
    "ds_hourly = ds_hourly.sel(time_counter=slice('2020-02-01T01:30:00.000000000', '2020-03-01T01:30:00.000000000'))\n"
   ]
  },
  {
   "cell_type": "code",
   "execution_count": 10,
   "metadata": {},
   "outputs": [],
   "source": [
    "# daily varaibles\n",
    "# select sst, q2, U, PBLH\n",
    "\n",
    "sst_day = ds_hourly['SST'].groupby('time_counter.day').mean()            \n",
    "sst_day = sst_day.where(sea_mask, drop=False).values;                #sst_day = sst_day[:, 25:-25, 25:-25]\n",
    "\n",
    "q2_day = ds_hourly['Q2'].groupby('time_counter.day').mean()\n",
    "q2_day = q2_day.where(sea_mask, drop=False).values;                  #q2_day = q2_day[:, 25:-25, 25:-25]\n",
    "\n",
    "PBLH_day = ds_hourly['PBLH'].groupby('time_counter.day').mean()\n",
    "PBLH_day = PBLH_day.where(sea_mask, drop=False).values;              #PBLH_day = PBLH_day[:, 25:-25, 25:-25]\n"
   ]
  },
  {
   "cell_type": "code",
   "execution_count": 11,
   "metadata": {
    "collapsed": true
   },
   "outputs": [
    {
     "data": {
      "text/plain": [
       "'pres_day   = pres_day.values\\nGPH_day    = GPH_day.values'"
      ]
     },
     "execution_count": 11,
     "metadata": {},
     "output_type": "execute_result"
    }
   ],
   "source": [
    "# consider only .values in previous data\n",
    "QVAPOR_day = QVAPOR_day.values\n",
    "'''pres_day   = pres_day.values\n",
    "GPH_day    = GPH_day.values'''"
   ]
  },
  {
   "cell_type": "code",
   "execution_count": 12,
   "metadata": {},
   "outputs": [
    {
     "name": "stdout",
     "output_type": "stream",
     "text": [
      "0\n",
      "10\n",
      "20\n"
     ]
    }
   ],
   "source": [
    "# compute anomalies daily data\n",
    "s = 100\n",
    "\n",
    "'''\n",
    "# save average fields\n",
    "# remember to add [t] to _ave fields in loops\n",
    "\n",
    "sst_ave = np.zeros(sst_day.shape)\n",
    "q2_ave = np.zeros(q2_day.shape)\n",
    "PBLH_ave = np.zeros(PBLH_day.shape)\n",
    "QVAPOR_ave = np.zeros(QVAPOR_day.shape)'''\n",
    "\n",
    "\n",
    "dsst_day = np.zeros(sst_day.shape)\n",
    "dq2_day = np.zeros(q2_day.shape)\n",
    "dPBLH_day = np.zeros(PBLH_day.shape)\n",
    "dQVAPOR_day = np.zeros(QVAPOR_day.shape)\n",
    "\n",
    "for t in range(0,sst_day.shape[0]):\n",
    "    if t % 10 == 0:\n",
    "        print(t)\n",
    "    # upscale using gaussian filter\n",
    "    sst_ave = gm.nan_gaussian_filter(sst_day[t],s)                             \n",
    "    dsst_day[t] = sst_day[t] - sst_ave\n",
    "    \n",
    "    q2_ave = gm.nan_gaussian_filter(q2_day[t],s)\n",
    "    dq2_day[t] = q2_day[t] - q2_ave\n",
    "    \n",
    "    PBLH_ave = gm.nan_gaussian_filter(PBLH_day[t],s)\n",
    "    dPBLH_day[t] = PBLH_day[t] - PBLH_ave\n",
    "    \n",
    "    for h in range(0,QVAPOR_day.shape[1]):\n",
    "        q_ave = gm.nan_gaussian_filter(QVAPOR_day[t,h],s)                               #*seamask\n",
    "        dQVAPOR_day[t,h] = QVAPOR_day[t,h] - q_ave"
   ]
  },
  {
   "cell_type": "code",
   "execution_count": null,
   "metadata": {},
   "outputs": [],
   "source": [
    "# read QVAPOR DAY from QVAPOR dataset\n",
    "'''path_dir = '/media/fabien/DAGOBAH/WRF_EUREC4A/CNT/FEB/01_var_33levels/'\n",
    "ds_tmp = xr.open_dataset(path_dir + 'QVAPOR_d02_2020-02')\n",
    "maskl_lon = (ds_tmp.XLONG >= minlon) & (ds_tmp.XLONG <= maxlon)\n",
    "maskl_lat = (ds_tmp.XLAT >= minlat) & (ds_tmp.XLAT <= maxlat)\n",
    "ds_tmp = ds_tmp.where(maskl_lon & maskl_lat, drop=True)\n",
    "QVAPOR_day = ds_tmp['QVAPOR'].groupby('XTIME.day').mean().values*seamask\n",
    "del ds_tmp'''"
   ]
  },
  {
   "cell_type": "code",
   "execution_count": null,
   "metadata": {},
   "outputs": [],
   "source": [
    "# read QVAPOR DAY from hourly wrfout\n",
    "# QVAPOR_day = ds['QVAPOR'][:,:50].groupby('XTIME.day').mean().values*seamask\n",
    "'''QVAPOR_day = ds['QVAPOR'].groupby('XTIME.day').mean().values*seamask'''"
   ]
  },
  {
   "cell_type": "code",
   "execution_count": 13,
   "metadata": {},
   "outputs": [
    {
     "name": "stdout",
     "output_type": "stream",
     "text": [
      "0\n",
      "10\n",
      "20\n",
      "30\n"
     ]
    }
   ],
   "source": [
    "# # DISTRIBUTION QVAPOR vs SST bin - DAILY\n",
    "perc_step = 5\n",
    "nbins = int(100/perc_step) # Number of bins.\n",
    "pdist_qvapor_sst_day = np.zeros((QVAPOR_day.shape[1],nbins))\n",
    "pstd_qvapor_sst_day = np.zeros((QVAPOR_day.shape[1],nbins))\n",
    "x = sst_day.copy()\n",
    "control = x.reshape(-1)\n",
    "\n",
    "for h in range(0,QVAPOR_day.shape[1]):\n",
    "    if h % 10 == 0:\n",
    "        print(h)    \n",
    "    y = QVAPOR_day[:,h,:,:].copy()\n",
    "    variable = y.reshape(-1)\n",
    "    \n",
    "    ##### Perc bin distribution\n",
    "    pdist_sst_day, pdist_qvapor_sst_day[h], pstd_qvapor_sst_day[h], pstderr = perc_distribution(control, variable, nbins, perc_step)"
   ]
  },
  {
   "cell_type": "code",
   "execution_count": 15,
   "metadata": {},
   "outputs": [],
   "source": [
    "# mean base pressure over domain\n",
    "mean_pres_base = np.nanmean(pres_base, axis=(1,2))\n",
    "mean_pres_base = mean_pres_base/100."
   ]
  },
  {
   "cell_type": "code",
   "execution_count": null,
   "metadata": {},
   "outputs": [],
   "source": [
    "'''GP = (ds_daily['P']+ds_daily['PB'])/100.         #*seamask/100.\n",
    "GP = np.nanmean(GP, axis=(1,2,3))'''"
   ]
  },
  {
   "cell_type": "code",
   "execution_count": 17,
   "metadata": {},
   "outputs": [
    {
     "data": {
      "text/plain": [
       "(39, 20)"
      ]
     },
     "execution_count": 17,
     "metadata": {},
     "output_type": "execute_result"
    }
   ],
   "source": [
    "pdist_qvapor_sst_day.shape"
   ]
  },
  {
   "cell_type": "code",
   "execution_count": 18,
   "metadata": {},
   "outputs": [
    {
     "data": {
      "image/png": "[encoded data removed]",
      "text/plain": [
       "<Figure size 1000x500 with 2 Axes>"
      ]
     },
     "metadata": {},
     "output_type": "display_data"
    }
   ],
   "source": [
    "# # figure QVAPOR vs SST bin - DAILY\n",
    "fig = plt.figure(figsize=(10, 5))\n",
    "plt.pcolormesh(pdist_sst_day-273.15, mean_pres_base, pdist_qvapor_sst_day*1000., cmap='jet')\n",
    "plt.gca().invert_yaxis()\n",
    "plt.xlabel('SST [˚C]'); plt.ylabel('P [hPa]')\n",
    "cbar = plt.colorbar();  cbar.set_label('QVAPOR [g kg-1]')"
   ]
  },
  {
   "cell_type": "code",
   "execution_count": null,
   "metadata": {},
   "outputs": [],
   "source": [
    "# path_bindist = '/home/matteo/Eureca/COARE35/Results/acquistapace_bindist/perc_dist/daily/'\n",
    "# np.savetxt(path_bindist + 'pdist_QVAPOR_sst_day.txt', pdist_qvapor_sst_day)\n",
    "# np.savetxt(path_bindist + 'pstd_QVAPOR_sst_day.txt', pstd_qvapor_sst_day)"
   ]
  },
  {
   "cell_type": "code",
   "execution_count": 22,
   "metadata": {},
   "outputs": [],
   "source": [
    "# MATTE AVEVA GIA' CALCOLATO TUTTE LE CORRELAZIONI \n",
    "# E HA STIMATO QUESTA LUNGHEZZA?\n",
    "L = 30\n",
    "nskip = int(L/3)\n",
    "nt = int(1)\n",
    "\n",
    "# from top pbl upwards\n",
    "# SOPRA PBL LA LUNGEHZZA DI CORRELAZIONE AUMENTA?\n",
    "# NEL SENSO CHE I SEGNALI HANNO PIù SPAZIO PER PROPAGARSI?\n",
    "Ltop = 150\n",
    "nskiptop = int(Ltop/3)\n",
    "nttop = int(1)\n",
    "\n",
    "# reference population mean\n",
    "popmean = 0."
   ]
  },
  {
   "cell_type": "code",
   "execution_count": null,
   "metadata": {},
   "outputs": [],
   "source": []
  },
  {
   "cell_type": "code",
   "execution_count": 46,
   "metadata": {},
   "outputs": [
    {
     "name": "stdout",
     "output_type": "stream",
     "text": [
      "0\n",
      "10\n",
      "20\n",
      "30\n"
     ]
    }
   ],
   "source": [
    "# PERC DISTRIBUTION dQVAPOR vs dSST bin - DAILY + PVALUE SUBSAMPLED height dependent\n",
    "perc_step = 5\n",
    "nbins = int(100/perc_step) # Number of bins.\n",
    "pdist_dQVAPOR_day = np.zeros((dQVAPOR_day.shape[1],nbins))\n",
    "pstd_dQVAPOR_day = np.zeros((dQVAPOR_day.shape[1],nbins))\n",
    "pstderr_dQVAPOR_day = np.zeros((dQVAPOR_day.shape[1],nbins))\n",
    "pvalue_dQVAPOR_day_sub = np.zeros((dQVAPOR_day.shape[1],nbins))\n",
    "pvalue_dQVAPOR_day = np.zeros_like(pvalue_dQVAPOR_day_sub)\n",
    "\n",
    "for h in range(0,dQVAPOR_day.shape[1]):\n",
    "    if h % 10 == 0:\n",
    "        print(h)    \n",
    "    x = dsst_day.copy(); control = x.reshape(-1)\n",
    "    y = dQVAPOR_day[:,h].copy(); variable = y.reshape(-1)\n",
    "    \n",
    "    ##### Perc bin distribution: pvalue\n",
    "    pdist_dsst_day, pdist_dQVAPOR_day[h], pstd_dQVAPOR_day[h], pstderr_dQVAPOR_day[h], pvalue_dQVAPOR_day[h] = perc_distribution_pvalue(control, variable, nbins, perc_step, popmean)\n",
    "    \n",
    "    ##### Perc bin distribution: pvalue subsampled on Lcorr\n",
    "    if h <= 27:\n",
    "        x = dsst_day[::nt,::nskip,::nskip].copy(); control = x.reshape(-1)\n",
    "        y = dQVAPOR_day[::nt,h,::nskip,::nskip].copy(); variable = y.reshape(-1)\n",
    "    else:\n",
    "        x = dsst_day[::nttop,::nskiptop,::nskiptop].copy(); control = x.reshape(-1)\n",
    "        y = dQVAPOR_day[::nttop,h,::nskiptop,::nskiptop].copy(); variable = y.reshape(-1)\n",
    "    pdist_control, pdist, pstd, pstderr, pvalue_dQVAPOR_day_sub[h] = perc_distribution_pvalue(control, variable, nbins, perc_step, popmean)"
   ]
  },
  {
   "cell_type": "code",
   "execution_count": 91,
   "metadata": {},
   "outputs": [
    {
     "data": {
      "text/plain": [
       "'if h <= 27:\\n        x = dsst_day[::nt,::nskip,::nskip].copy(); control = x.reshape(-1)\\n        y = dPBLH_day[::nt,h,::nskip,::nskip].copy(); variable = y.reshape(-1)\\n    else:\\n        x = dsst_day[::nttop,::nskiptop,::nskiptop].copy(); control = x.reshape(-1)\\n        y = dPBLH_day[::nttop,h,::nskiptop,::nskiptop].copy(); variable = y.reshape(-1)\\n    pdist_control, pdist, pstd, pstderr, pvalue_dPBLH_day_sub[h] = perc_distribution_pvalue(control, variable, nbins, perc_step, popmean)'"
      ]
     },
     "execution_count": 91,
     "metadata": {},
     "output_type": "execute_result"
    }
   ],
   "source": [
    "# PERC DISTRIBUTION dPBLH vs dSST bin - DAILY + PVALUE SUBSAMPLED height dependent\n",
    "perc_step = 5\n",
    "nbins = int(100/perc_step) # Number of bins.\n",
    "pdist_dPBLH_day = np.zeros((dPBLH_day.shape[1],nbins))\n",
    "pstd_dPBLH_day = np.zeros((dPBLH_day.shape[1],nbins))\n",
    "pstderr_dPBLH_day = np.zeros((dPBLH_day.shape[1],nbins))\n",
    "pvalue_dPBLH_day_sub = np.zeros((dPBLH_day.shape[1],nbins))\n",
    "pvalue_dPBLH_day = np.zeros_like(pvalue_dPBLH_day_sub)\n",
    "\n",
    "'''for h in range(0,dPBLH_day.shape[1]):\n",
    "    if h % 10 == 0:\n",
    "        print(h)   ''' \n",
    "x = dsst_day.copy(); control = x.reshape(-1)\n",
    "y = dPBLH_day.copy(); variable = y.reshape(-1)\n",
    "    \n",
    "##### Perc bin distribution: pvalue\n",
    "pdist_dsst_day, pdist_dPBLH_day, pstd_dPBLH_day, pstderr_dPBLH_day, pvalue_dPBLH_day = perc_distribution_pvalue(control, variable, nbins, perc_step, popmean)\n",
    "    \n",
    "##### Perc bin distribution: pvalue subsampled on Lcorr\n",
    "'''if h <= 27:\n",
    "        x = dsst_day[::nt,::nskip,::nskip].copy(); control = x.reshape(-1)\n",
    "        y = dPBLH_day[::nt,h,::nskip,::nskip].copy(); variable = y.reshape(-1)\n",
    "    else:\n",
    "        x = dsst_day[::nttop,::nskiptop,::nskiptop].copy(); control = x.reshape(-1)\n",
    "        y = dPBLH_day[::nttop,h,::nskiptop,::nskiptop].copy(); variable = y.reshape(-1)\n",
    "    pdist_control, pdist, pstd, pstderr, pvalue_dPBLH_day_sub[h] = perc_distribution_pvalue(control, variable, nbins, perc_step, popmean)'''"
   ]
  },
  {
   "cell_type": "code",
   "execution_count": 111,
   "metadata": {},
   "outputs": [
    {
     "data": {
      "image/png": "[encoded data removed]",
      "text/plain": [
       "<Figure size 1000x500 with 3 Axes>"
      ]
     },
     "metadata": {},
     "output_type": "display_data"
    }
   ],
   "source": [
    "pval_hatch = np.ma.masked_less(pvalue_dQVAPOR_day, 0.05)\n",
    "\n",
    "# figure dQVAPOR vs dSST bin - DAILY\n",
    "fig, ax1 = plt.subplots(figsize=(10, 5))   #figure(figsize=(10, 5))\n",
    "p1 = ax1.pcolormesh(pdist_dsst_day, mean_pres_base, pdist_dQVAPOR_day*1000, vmin=-0.1, vmax=0.1, cmap='seismic') #pdist_dqvapor_dsst_day\n",
    "#plt.pcolor(pdist_dsst_day, mean_pres_base, pval_hatch, hatch='.', alpha=1., zorder=10)\n",
    "\n",
    "\n",
    "ax1.invert_yaxis()\n",
    "ax1.set_xlabel('SST anomalies [˚C]'); ax1.set_ylabel('P [hPa]')\n",
    "plt.title('Percentiles - daily dSST vs dQVAPOR vs dPBLH')\n",
    "\n",
    "ax2 = ax1.twinx()\n",
    "\n",
    "ax2.plot(pdist_dsst_day, pdist_dPBLH_day, '-y')\n",
    "ax2.set_ylabel('dPBLH [m]')\n",
    "\n",
    "\n",
    "cbar = plt.colorbar(p1,ax=ax1, location='right', pad=0.1, shrink=0.8)  \n",
    "cbar.set_label('QVAPOR anomalies [g kg-1]')\n",
    "\n",
    "\n",
    "\n",
    "#plt.savefig('/venus/tesi_ale/img_EU/QVAPOR/daily/pdist/pdist_dsst-dqvap-dpblh_day_allevs.png')"
   ]
  },
  {
   "cell_type": "code",
   "execution_count": null,
   "metadata": {},
   "outputs": [],
   "source": []
  },
  {
   "cell_type": "code",
   "execution_count": null,
   "metadata": {},
   "outputs": [],
   "source": [
    "# ADD PBLH\n"
   ]
  },
  {
   "cell_type": "code",
   "execution_count": null,
   "metadata": {},
   "outputs": [],
   "source": []
  },
  {
   "cell_type": "code",
   "execution_count": null,
   "metadata": {},
   "outputs": [],
   "source": []
  },
  {
   "cell_type": "code",
   "execution_count": null,
   "metadata": {},
   "outputs": [],
   "source": []
  },
  {
   "cell_type": "code",
   "execution_count": null,
   "metadata": {},
   "outputs": [],
   "source": []
  },
  {
   "cell_type": "code",
   "execution_count": null,
   "metadata": {},
   "outputs": [],
   "source": [
    "# path_bindist = '/home/matteo/Eureca/COARE35/Results/acquistapace_bindist/perc_dist/daily/anomalies/'\n",
    "# np.savetxt(path_bindist + 'pdist_dQVAPOR_dsst_day.txt', pdist_dQVAPOR_day)\n",
    "# np.savetxt(path_bindist + 'pstd_dQVAPOR_dsst_day.txt', pstd_dQVAPOR_day)\n",
    "# np.savetxt(path_bindist + 'pstderr_dQVAPOR_dsst_day.txt', pstderr_dQVAPOR_day)\n",
    "'''path_bindist = '/home/matteo/Eureca/COARE35/Results/acquistapace_bindist/perc_dist/daily/anomalies/subsampled_pvalue_Lcorr/'\n",
    "np.savetxt(path_bindist + 'pvalue_dQVAPOR_dsst_day_Lcorr30km-150km.txt', pvalue_dQVAPOR_day)'''"
   ]
  },
  {
   "cell_type": "code",
   "execution_count": null,
   "metadata": {},
   "outputs": [],
   "source": [
    "# popmean = 0.\n",
    "# scra = dQVAPOR_day[::nt,0,::nskip,::nskip].copy()\n",
    "# dof = (scra.shape[0]*scra.shape[1]*scra.shape[2])-1"
   ]
  },
  {
   "cell_type": "code",
   "execution_count": null,
   "metadata": {},
   "outputs": [],
   "source": [
    "# # DISTRIBUTION dQVAPOR vs dSST bin - DAILY\n",
    "# popmean = 0.\n",
    "# perc_step = 5\n",
    "# nbins = int(100/perc_step) # Number of bins.\n",
    "# pdist_dqvapor_dsst_day = np.zeros((dQVAPOR_day.shape[1],nbins))\n",
    "# pstd_dqvapor_dsst_day = np.zeros((dQVAPOR_day.shape[1],nbins))\n",
    "# pstderr_dqvapor_dsst_day = np.zeros((dQVAPOR_day.shape[1],nbins))\n",
    "# pvalue_dqvapor_dsst_day = np.zeros((dQVAPOR_day.shape[1],nbins))\n",
    "# x = dsst_day.copy()\n",
    "# control = x.reshape(-1)\n",
    "# for h in range(0,dQVAPOR_day.shape[1]):\n",
    "#     if h % 10 == 0:\n",
    "#         print(h)    \n",
    "#     y = dQVAPOR_day[:,h].copy()*1000.\n",
    "#     variable = y.reshape(-1)\n",
    "#     ##### Perc bin distribution: \n",
    "# #     pdist_dsst_day, pdist_dqvapor_dsst_day[h], pstd_dqvapor_dsst_day[h], pstderr_dqvapor_dsst_day[h], pvalue_dqvapor_dsst_day[h] = perc_distribution_pvalue(control, variable, nbins, perc_step, popmean)\n",
    "#     ##### Perc bin distribution: pvalue on dof based on correlation time and length\n",
    "#     pdist_dsst_day, pdist_dqvapor_dsst_day[h], pstd_dqvapor_dsst_day[h], pstderr_dqvapor_dsst_day[h], pvalue_dqvapor_dsst_day[h] = perc_distribution_pvalue_dof(control, variable, nbins, perc_step, popmean, dof)"
   ]
  },
  {
   "cell_type": "code",
   "execution_count": 29,
   "metadata": {},
   "outputs": [
    {
     "data": {
      "text/plain": [
       "(20,)"
      ]
     },
     "execution_count": 29,
     "metadata": {},
     "output_type": "execute_result"
    }
   ],
   "source": []
  },
  {
   "cell_type": "code",
   "execution_count": null,
   "metadata": {},
   "outputs": [],
   "source": [
    "# path_bindist = '/home/matteo/Eureca/COARE35/Results/acquistapace_bindist/perc_dist/daily/anomalies/pvalue_Lcorr/'\n",
    "# np.savetxt(path_bindist + 'pdist_dQVAPOR_dsst_day_Lcorr30km.txt', pdist_dqvapor_dsst_day)\n",
    "# np.savetxt(path_bindist + 'pstd_dQVAPOR_dsst_day_Lcorr30km.txt', pstd_dqvapor_dsst_day)\n",
    "# np.savetxt(path_bindist + 'pstderr_dQVAPOR_dsst_day_Lcorr30km.txt', pstderr_dqvapor_dsst_day)\n",
    "# np.savetxt(path_bindist + 'pvalue_dQVAPOR_dsst_day_Lcorr30km.txt', pvalue_dqvapor_dsst_day)"
   ]
  },
  {
   "cell_type": "code",
   "execution_count": null,
   "metadata": {},
   "outputs": [],
   "source": [
    "'''# figure dQVAPOR vs dSST bin - DAILY\n",
    "fig = plt.figure(figsize=(10, 5))\n",
    "plt.pcolormesh(pdist_dsst_day, GP, pdist_dqvapor_dsst_day, vmin=-0.1, vmax=0.1, cmap='seismic')\n",
    "plt.gca().invert_yaxis()\n",
    "plt.xlabel('SST anomalies [˚C]'); plt.ylabel('P [hPa]')\n",
    "cbar = plt.colorbar();  cbar.set_label('QVAPOR anomalies [g kg-1]')'''"
   ]
  },
  {
   "cell_type": "code",
   "execution_count": null,
   "metadata": {},
   "outputs": [],
   "source": [
    "# # figure dQVAPOR vs dSST bin - DAILY\n",
    "# fig = plt.figure(figsize=(10, 5))\n",
    "# plt.pcolormesh(pdist_dsst_day, GP[:33], pdist_dqvapor_dsst_day/pstd_dqvapor_dsst_day*100, vmin=-30, vmax=30, cmap='seismic')\n",
    "# plt.gca().invert_yaxis()\n",
    "# plt.xlabel('SST  anomalies[˚C]'); plt.ylabel('P [hPa]')\n",
    "# cbar = plt.colorbar();  cbar.set_label('QVAPOR anomalies/ std QVAPOR anomalies [%]')\n",
    "# # aggiungi PBLH o per bin SST o come linea"
   ]
  },
  {
   "cell_type": "code",
   "execution_count": null,
   "metadata": {},
   "outputs": [],
   "source": [
    "# path_bindist = '/home/matteo/Eureca/COARE35/Results/acquistapace_bindist/perc_dist/daily/anomalies/'\n",
    "# np.savetxt(path_bindist + 'pdist_dQVAPOR_dsst_day.txt', pdist_dqvapor_dsst_day)\n",
    "# np.savetxt(path_bindist + 'pstd_dQVAPOR_dsst_day.txt', pstd_dqvapor_dsst_day)\n",
    "# np.savetxt(path_bindist + 'pstderr_dQVAPOR_dsst_day.txt', pstderr_dqvapor_dsst_day)\n",
    "# np.savetxt(path_bindist + 'pvalue_dQVAPOR_dsst_day.txt', pvalue_dqvapor_dsst_day)"
   ]
  },
  {
   "cell_type": "code",
   "execution_count": null,
   "metadata": {},
   "outputs": [],
   "source": [
    "'''del QVAPOR_day, dQVAPOR_day'''"
   ]
  },
  {
   "cell_type": "code",
   "execution_count": null,
   "metadata": {},
   "outputs": [],
   "source": []
  },
  {
   "cell_type": "code",
   "execution_count": null,
   "metadata": {},
   "outputs": [],
   "source": [
    "L = 30\n",
    "nskip = int(L/3)\n",
    "nt = int(1)\n",
    "\n",
    "# from top pbl upwards\n",
    "Ltop = 150\n",
    "nskiptop = int(Ltop/3)\n",
    "nttop = int(1)\n",
    "\n",
    "# ref mean\n",
    "popmean = 0."
   ]
  },
  {
   "cell_type": "code",
   "execution_count": 34,
   "metadata": {},
   "outputs": [
    {
     "name": "stdout",
     "output_type": "stream",
     "text": [
      "0\n",
      "10\n",
      "20\n",
      "30\n"
     ]
    }
   ],
   "source": [
    "# FB DISTRIBUTION dQVAPOR vs dSST bin - DAILY + PVALUE subsampled\n",
    "perc_step = 5\n",
    "nbins = int(100/perc_step) # Number of bins.\n",
    "dist_dQVAPOR_day = np.zeros((dQVAPOR_day.shape[1],nbins))\n",
    "npoint_dQVAPOR_day = np.zeros((dQVAPOR_day.shape[1],nbins))\n",
    "stderr_dQVAPOR_day = np.zeros((dQVAPOR_day.shape[1],nbins))\n",
    "pvalue_dQVAPOR_day = np.zeros((dQVAPOR_day.shape[1],nbins))\n",
    "\n",
    "for h in range(0,dQVAPOR_day.shape[1]):\n",
    "    if h % 10 == 0:\n",
    "        print(h)   \n",
    "    x = dsst_day.copy(); control = x.reshape(-1)\n",
    "    y = dQVAPOR_day[:,h].copy(); variable = y.reshape(-1)\n",
    "    \n",
    "    ##### Fixed bin distribution: \n",
    "    dist_dsst_day, dist_dQVAPOR_day[h], stderr_dQVAPOR_day[h], npoint_dQVAPOR_day[h], pv = fb_distribution_npoint_pvalue(control, variable, nbins, perc_step, popmean)\n",
    "    \n",
    "    ##### Fixed bin distribution: pvalue on subsampled field\n",
    "    if h <= 27:\n",
    "        x = dsst_day[::nt,::nskip,::nskip].copy(); control = x.reshape(-1)\n",
    "        y = dQVAPOR_day[::nt,h,::nskip,::nskip].copy(); variable = y.reshape(-1)\n",
    "    else:\n",
    "        x = dsst_day[::nttop,::nskiptop,::nskiptop].copy(); control = x.reshape(-1)\n",
    "        y = dQVAPOR_day[::nttop,h,::nskiptop,::nskiptop].copy(); variable = y.reshape(-1)\n",
    "    dist_control, dist, stderr, npoint, pvalue_dQVAPOR_day[h] = fb_distribution_npoint_pvalue(control, variable, nbins, perc_step, popmean)"
   ]
  },
  {
   "cell_type": "code",
   "execution_count": 41,
   "metadata": {},
   "outputs": [
    {
     "data": {
      "image/png": "[encoded data removed]",
      "text/plain": [
       "<Figure size 1000x500 with 2 Axes>"
      ]
     },
     "metadata": {},
     "output_type": "display_data"
    }
   ],
   "source": [
    "# figure dQVAPOR vs dSST fb - DAILY\n",
    "fig = plt.figure(figsize=(10, 5))\n",
    "plt.pcolormesh(dist_dsst_day, mean_pres_base, dist_dQVAPOR_day*1000, vmin=-0.6, vmax=0.6, cmap='seismic') #pdist_dqvapor_dsst_day\n",
    "plt.gca().invert_yaxis()\n",
    "plt.xlabel('SST anomalies [˚C]'); plt.ylabel('P [hPa]')\n",
    "plt.title('Fixed bin - daily dSST vs dQVAPOR')\n",
    "cbar = plt.colorbar();  cbar.set_label('QVAPOR anomalies [g kg-1]')\n",
    "plt.savefig('/venus/tesi_ale/img_EU/bin_dsst-dqvap_day_allevs.png')"
   ]
  },
  {
   "cell_type": "code",
   "execution_count": null,
   "metadata": {},
   "outputs": [],
   "source": [
    "'''path_bindist = '/home/matteo/Eureca/COARE35/Results/acquistapace_bindist/fb_dist/daily/anomalies/'\n",
    "np.savetxt(path_bindist + 'dist_dsst_day.txt', dist_dsst_day)\n",
    "np.savetxt(path_bindist + 'dist_dQVAPOR_dsst_day.txt', dist_dQVAPOR_day)\n",
    "np.savetxt(path_bindist + 'npoint_dQVAPOR_dsst_day.txt', npoint_dQVAPOR_day)\n",
    "np.savetxt(path_bindist + 'stderr_dQVAPOR_dsst_day.txt', stderr_dQVAPOR_day)\n",
    "path_bindist = '/home/matteo/Eureca/COARE35/Results/acquistapace_bindist/fb_dist/daily/anomalies/subsampled_pvalue_Lcorr/'\n",
    "np.savetxt(path_bindist + 'pvalue_dQVAPOR_dsst_day_Lcorr30km-150km.txt', pvalue_dQVAPOR_day)'''"
   ]
  },
  {
   "cell_type": "code",
   "execution_count": null,
   "metadata": {},
   "outputs": [],
   "source": []
  },
  {
   "cell_type": "code",
   "execution_count": null,
   "metadata": {},
   "outputs": [],
   "source": [
    "# HOURLY tutto da rifare!!!!"
   ]
  },
  {
   "cell_type": "code",
   "execution_count": null,
   "metadata": {},
   "outputs": [],
   "source": [
    "# HOURLY "
   ]
  },
  {
   "cell_type": "code",
   "execution_count": null,
   "metadata": {},
   "outputs": [],
   "source": [
    "# read QVAPOR anomalies\n",
    "path_dir = '/media/fabien/DAGOBAH1/WRF_EUREC4A/CNT/FEB/01_var_33levels/anomalies/'\n",
    "qv_files = path_dir + 'QVAPOR_anomalies_150km_d02_2020-02-'\n",
    "qv_list = sorted(glob.glob(qv_files + '*'))\n",
    "ds_tmp = xr.open_mfdataset(qv_list, concat_dim='XTIME', combine='nested')"
   ]
  },
  {
   "cell_type": "code",
   "execution_count": null,
   "metadata": {},
   "outputs": [],
   "source": [
    "maskl_lon = (ds_tmp.XLONG >= minlon) & (ds_tmp.XLONG <= maxlon)\n",
    "maskl_lat = (ds_tmp.XLAT >= minlat) & (ds_tmp.XLAT <= maxlat)\n",
    "ds_q = ds_tmp.where(maskl_lon & maskl_lat, drop=True)"
   ]
  },
  {
   "cell_type": "code",
   "execution_count": null,
   "metadata": {},
   "outputs": [],
   "source": [
    "dQVAPOR = ds_q['QVAPOR'].values*seamask"
   ]
  },
  {
   "cell_type": "code",
   "execution_count": null,
   "metadata": {},
   "outputs": [],
   "source": [
    "# DISTRIBUTION dQVAPOR vs dSST bin - HOURLY\n",
    "str_control = 'SST'; str_variable = \"QVAPOR\"\n",
    "perc_step = 5\n",
    "nbins = int(100/perc_step) # Number of bins.\n",
    "theshold_n = 100\n",
    "dist_dqvapor_dsst = np.zeros((dQVAPOR.shape[1],nbins))\n",
    "npoint_dqvapor_dsst = np.zeros((dQVAPOR.shape[1],nbins))\n",
    "x = dsst.copy()\n",
    "control = dsst.reshape(-1)\n",
    "for h in range(0,dQVAPOR.shape[1]):\n",
    "    y = dQVAPOR[:,h,:,:].copy()\n",
    "    variable = y.reshape(-1)\n",
    "    ##### Fixed bin distribution: fb\n",
    "    dist_dsst, dist_dqvapor_dsst[h], std_err, npoint_dqvapor_dsst[h] = fb_distribution_mod(control, variable, nbins, theshold_n, perc_step)"
   ]
  },
  {
   "cell_type": "code",
   "execution_count": null,
   "metadata": {},
   "outputs": [],
   "source": [
    "# figure dQVAPOR vs dSST bin - HOURLY\n",
    "fig = plt.figure(figsize=(10, 5))\n",
    "plt.pcolormesh(dist_dsst, GP[:33], dist_dqvapor_dsst*1000., vmin=-0.6, vmax=0.6, cmap='seismic')\n",
    "plt.gca().invert_yaxis()\n",
    "plt.xlabel('SST anomalies [˚C]'); plt.ylabel('P [hPa]')\n",
    "cbar = plt.colorbar();  cbar.set_label('QVAPOR anomalies [g kg-1]')"
   ]
  },
  {
   "cell_type": "code",
   "execution_count": null,
   "metadata": {},
   "outputs": [],
   "source": [
    "path_bindist = '/home/matteo/Eureca/COARE35/Results/acquistapace_bindist/'\n",
    "np.savetxt(path_bindist + 'dist_dsst.txt', dist_dsst)\n",
    "np.savetxt(path_bindist + 'dist_dQVAPOR_dsst.txt', dist_dqvapor_dsst)\n",
    "np.savetxt(path_bindist + 'npoint_dQVAPOR_dsst.txt', npoint_dqvapor_dsst)"
   ]
  },
  {
   "cell_type": "code",
   "execution_count": null,
   "metadata": {},
   "outputs": [],
   "source": [
    "# DISTRIBUTION dQVAPOR vs SST bin - HOURLY\n",
    "str_control = 'SST'; str_variable = \"QVAPOR\"\n",
    "perc_step = 5\n",
    "nbins = int(100/perc_step) # Number of bins.\n",
    "theshold_n = 100\n",
    "dist_dqvapor_sst = np.zeros((dQVAPOR.shape[1],nbins))\n",
    "npoint_dqvapor_sst = np.zeros((dQVAPOR.shape[1],nbins))\n",
    "x = sst.copy()\n",
    "control = x.reshape(-1)\n",
    "for h in range(0,dQVAPOR.shape[1]):\n",
    "    y = dQVAPOR[:,h,:,:].copy()\n",
    "    variable = y.reshape(-1)\n",
    "    ##### Fixed bin distribution: fb\n",
    "    dist_sst, dist_dqvapor_sst[h], std_err, npoint_dqvapor_sst[h] = fb_distribution_mod(control, variable, nbins, theshold_n, perc_step)"
   ]
  },
  {
   "cell_type": "code",
   "execution_count": null,
   "metadata": {},
   "outputs": [],
   "source": [
    "# figure dQVAPOR vs SST bin - HOURLY\n",
    "fig = plt.figure(figsize=(10, 5))\n",
    "plt.pcolormesh(dist_sst-273.15, GP[:33], dist_dqvapor_sst*1000., vmin=-0.6, vmax=0.6, cmap='seismic')\n",
    "plt.gca().invert_yaxis()\n",
    "plt.xlabel('SST [˚C]'); plt.ylabel('P [hPa]')\n",
    "cbar = plt.colorbar();  cbar.set_label('QVAPOR anomalies [g kg-1]')"
   ]
  },
  {
   "cell_type": "code",
   "execution_count": null,
   "metadata": {},
   "outputs": [],
   "source": [
    "path_bindist = '/home/matteo/Eureca/COARE35/Results/acquistapace_bindist/'\n",
    "np.savetxt(path_bindist + 'dist_sst.txt', dist_sst)\n",
    "np.savetxt(path_bindist + 'dist_dQVAPOR_sst.txt', dist_dqvapor_sst)\n",
    "np.savetxt(path_bindist + 'npoint_dQVAPOR_sst.txt', npoint_dqvapor_sst)"
   ]
  },
  {
   "cell_type": "code",
   "execution_count": null,
   "metadata": {},
   "outputs": [],
   "source": []
  },
  {
   "cell_type": "code",
   "execution_count": null,
   "metadata": {},
   "outputs": [],
   "source": []
  }
 ],
 "metadata": {
  "interpreter": {
   "hash": "6c158dc727e3f7af5cb4f82910b7b5790878aa8c7ec1ebd135cc0211776867c6"
  },
  "kernelspec": {
   "display_name": "Python 3 (ipykernel)",
   "language": "python",
   "name": "python3"
  },
  "language_info": {
   "codemirror_mode": {
    "name": "ipython",
    "version": 3
   },
   "file_extension": ".py",
   "mimetype": "text/x-python",
   "name": "python",
   "nbconvert_exporter": "python",
   "pygments_lexer": "ipython3",
   "version": "3.7.11"
  }
 },
 "nbformat": 4,
 "nbformat_minor": 2
}
