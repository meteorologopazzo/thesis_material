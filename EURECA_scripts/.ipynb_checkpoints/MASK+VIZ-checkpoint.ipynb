{
 "cells": [
  {
   "cell_type": "code",
   "execution_count": 1,
   "id": "7f6a9811",
   "metadata": {},
   "outputs": [],
   "source": [
    "import numpy as np\n",
    "import pandas as pd\n",
    "import glob\n",
    "import xarray as xr\n",
    "import matplotlib.colors as colors\n",
    "import matplotlib.pyplot as plt\n",
    "from matplotlib.animation import PillowWriter\n",
    "from matplotlib import animation\n",
    "from scipy import stats\n",
    "\n",
    "import sys; sys.path.insert(1, '/saturn/simu_Caribbean/coupled_2km')\n",
    "import os\n",
    "\n",
    "import geometry as gm\n",
    "#import conversion as cnv\n",
    "#from func_statistics import compute_pdf_nbin, slopes_r_p, slope_time, slope_maps\n",
    "#from coare_functions import *\n",
    "import meteo\n",
    "import lcl\n",
    "import cartopy.crs as ccrs\n",
    "crs = ccrs.PlateCarree()\n",
    "#from plotmap import plot_background\n",
    "from plotdistr import fb_distribution_npoint, perc_distribution, scatterplot_fit, hist2d\n",
    "import warnings; warnings.filterwarnings(\"ignore\")"
   ]
  },
  {
   "cell_type": "code",
   "execution_count": 2,
   "id": "7265c1bc",
   "metadata": {},
   "outputs": [],
   "source": [
    "# find data\n",
    "path = '/saturn/simu_Caribbean/coupled_2km/output/'\n",
    "\n",
    "wrf_files = path + 'Caraibes_WRF_3h_surf.nc'\n",
    "#fname_list = sorted(glob.glob(wrf_files + '*'))"
   ]
  },
  {
   "cell_type": "code",
   "execution_count": 3,
   "id": "5ae518f2",
   "metadata": {},
   "outputs": [
    {
     "ename": "ValueError",
     "evalue": "did not find a match in any of xarray's currently installed IO backends ['netcdf4', 'scipy']. Consider explicitly selecting one of the installed engines via the ``engine`` parameter, or installing additional IO dependencies, see:\nhttp://xarray.pydata.org/en/stable/getting-started-guide/installing.html\nhttp://xarray.pydata.org/en/stable/user-guide/io.html",
     "output_type": "error",
     "traceback": [
      "\u001b[0;31m---------------------------------------------------------------------------\u001b[0m",
      "\u001b[0;31mValueError\u001b[0m                                Traceback (most recent call last)",
      "\u001b[0;32m/tmp/ipykernel_1842964/2647220297.py\u001b[0m in \u001b[0;36m<module>\u001b[0;34m\u001b[0m\n\u001b[1;32m      1\u001b[0m \u001b[0;31m# open data - HOURLY\u001b[0m\u001b[0;34m\u001b[0m\u001b[0;34m\u001b[0m\u001b[0;34m\u001b[0m\u001b[0m\n\u001b[0;32m----> 2\u001b[0;31m \u001b[0mds_hourly\u001b[0m \u001b[0;34m=\u001b[0m \u001b[0mxr\u001b[0m\u001b[0;34m.\u001b[0m\u001b[0mopen_dataset\u001b[0m\u001b[0;34m(\u001b[0m\u001b[0mwrf_files\u001b[0m\u001b[0;34m)\u001b[0m    \u001b[0;31m#mfdataset(fname_list, concat_dim='Time', combine='nested')\u001b[0m\u001b[0;34m\u001b[0m\u001b[0;34m\u001b[0m\u001b[0m\n\u001b[0m\u001b[1;32m      3\u001b[0m '''ds_hourly = ds_tot.sel(time_counter=slice('2006-02-01T00:30:00.000000000', '2006-03-01T00:30:00.000000000'))\n\u001b[1;32m      4\u001b[0m del ds_tot'''\n",
      "\u001b[0;32m~/miniconda3/envs/spec_tesi/lib/python3.7/site-packages/xarray/backends/api.py\u001b[0m in \u001b[0;36mopen_dataset\u001b[0;34m(filename_or_obj, engine, chunks, cache, decode_cf, mask_and_scale, decode_times, decode_timedelta, use_cftime, concat_characters, decode_coords, drop_variables, backend_kwargs, *args, **kwargs)\u001b[0m\n\u001b[1;32m    479\u001b[0m \u001b[0;34m\u001b[0m\u001b[0m\n\u001b[1;32m    480\u001b[0m     \u001b[0;32mif\u001b[0m \u001b[0mengine\u001b[0m \u001b[0;32mis\u001b[0m \u001b[0;32mNone\u001b[0m\u001b[0;34m:\u001b[0m\u001b[0;34m\u001b[0m\u001b[0;34m\u001b[0m\u001b[0m\n\u001b[0;32m--> 481\u001b[0;31m         \u001b[0mengine\u001b[0m \u001b[0;34m=\u001b[0m \u001b[0mplugins\u001b[0m\u001b[0;34m.\u001b[0m\u001b[0mguess_engine\u001b[0m\u001b[0;34m(\u001b[0m\u001b[0mfilename_or_obj\u001b[0m\u001b[0;34m)\u001b[0m\u001b[0;34m\u001b[0m\u001b[0;34m\u001b[0m\u001b[0m\n\u001b[0m\u001b[1;32m    482\u001b[0m \u001b[0;34m\u001b[0m\u001b[0m\n\u001b[1;32m    483\u001b[0m     \u001b[0mbackend\u001b[0m \u001b[0;34m=\u001b[0m \u001b[0mplugins\u001b[0m\u001b[0;34m.\u001b[0m\u001b[0mget_backend\u001b[0m\u001b[0;34m(\u001b[0m\u001b[0mengine\u001b[0m\u001b[0;34m)\u001b[0m\u001b[0;34m\u001b[0m\u001b[0;34m\u001b[0m\u001b[0m\n",
      "\u001b[0;32m~/miniconda3/envs/spec_tesi/lib/python3.7/site-packages/xarray/backends/plugins.py\u001b[0m in \u001b[0;36mguess_engine\u001b[0;34m(store_spec)\u001b[0m\n\u001b[1;32m    146\u001b[0m         )\n\u001b[1;32m    147\u001b[0m \u001b[0;34m\u001b[0m\u001b[0m\n\u001b[0;32m--> 148\u001b[0;31m     \u001b[0;32mraise\u001b[0m \u001b[0mValueError\u001b[0m\u001b[0;34m(\u001b[0m\u001b[0merror_msg\u001b[0m\u001b[0;34m)\u001b[0m\u001b[0;34m\u001b[0m\u001b[0;34m\u001b[0m\u001b[0m\n\u001b[0m\u001b[1;32m    149\u001b[0m \u001b[0;34m\u001b[0m\u001b[0m\n\u001b[1;32m    150\u001b[0m \u001b[0;34m\u001b[0m\u001b[0m\n",
      "\u001b[0;31mValueError\u001b[0m: did not find a match in any of xarray's currently installed IO backends ['netcdf4', 'scipy']. Consider explicitly selecting one of the installed engines via the ``engine`` parameter, or installing additional IO dependencies, see:\nhttp://xarray.pydata.org/en/stable/getting-started-guide/installing.html\nhttp://xarray.pydata.org/en/stable/user-guide/io.html"
     ]
    }
   ],
   "source": [
    "# open data - HOURLY\n",
    "ds_hourly = xr.open_dataset(wrf_files)    #mfdataset(fname_list, concat_dim='Time', combine='nested')\n",
    "'''ds_hourly = ds_tot.sel(time_counter=slice('2006-02-01T00:30:00.000000000', '2006-03-01T00:30:00.000000000'))\n",
    "del ds_tot'''"
   ]
  },
  {
   "cell_type": "code",
   "execution_count": null,
   "id": "7f0f327d",
   "metadata": {},
   "outputs": [],
   "source": [
    "#########  MASKING\n",
    "\n",
    "'''#########  start with rect         y = 0:300   , x = 0:end\n",
    "######### then with small square   y = 400:end , x = 0:150'''"
   ]
  },
  {
   "cell_type": "code",
   "execution_count": 11,
   "id": "8fbbfde6",
   "metadata": {},
   "outputs": [],
   "source": [
    "sst = ds_hourly['SST']\n",
    "sst_mask = sst[10,:,:]/sst[10,:,:]\n",
    "sst_mask = sst_mask.where(sst_mask>0, other=0, drop=False)\n",
    "land_mask =  1-sst_mask\n",
    "\n",
    "#x = sst_mask.x.values\n",
    "\n",
    "#sst_coords = np.argwhere(sst_mask[:,0:500].values>0)\n",
    "#land_coords = np.argwhere(land_mask[:,0:500].values>0)\n",
    "\n",
    "# width of stripe\n",
    "width=3\n",
    "depth = int(573/width)\n",
    "\n",
    "sst_rshp_vert = np.zeros((546,width,int(depth)))\n",
    "land_rshp_vert = np.zeros((546,width,int(depth)))\n",
    "\n",
    "for i in range(depth):\n",
    "    sst_rshp_vert[:,:,i] = sst_mask[:,i*width:(i+1)*width]\n",
    "    land_rshp_vert[:,:,i] = land_mask[:,i*width:(i+1)*width]\n",
    "\n",
    "\n",
    "def stripe_funk(sst_rshp_vert_num, land_rshp_vert_num):\n",
    "    sst_coo = np.argwhere(sst_rshp_vert_num>0)\n",
    "    land_coo = np.argwhere(land_rshp_vert_num>0)\n",
    "    \n",
    "    dist = np.sum((sst_coo[:, None] - land_coo[None, :]) ** 2, axis=-1)\n",
    "    close_mask = np.any(dist <= 25**2, axis=-1)\n",
    "    del dist\n",
    "    \n",
    "    sst_rshp_vert_num[sst_coo[close_mask][:, 0], sst_coo[close_mask][:, 1]] = 0\n",
    "    \n",
    "    #return stripe\n",
    "\n",
    "\n",
    "        "
   ]
  },
  {
   "cell_type": "code",
   "execution_count": 6,
   "id": "7d0b1db1",
   "metadata": {},
   "outputs": [
    {
     "data": {
      "text/plain": [
       "<matplotlib.colorbar.Colorbar at 0x71855bbe99d0>"
      ]
     },
     "execution_count": 6,
     "metadata": {},
     "output_type": "execute_result"
    },
    {
     "data": {
      "image/png": "[encoded data removed]",
      "text/plain": [
       "<Figure size 640x480 with 2 Axes>"
      ]
     },
     "metadata": {},
     "output_type": "display_data"
    }
   ],
   "source": [
    "plt.contourf(sst_mask)\n",
    "plt.colorbar()"
   ]
  },
  {
   "cell_type": "code",
   "execution_count": 12,
   "id": "16693831",
   "metadata": {},
   "outputs": [],
   "source": [
    "for i in range(depth):\n",
    "    stripe_funk(sst_rshp_vert[:,:,i], land_rshp_vert[:,:,i])\n"
   ]
  },
  {
   "cell_type": "code",
   "execution_count": 14,
   "id": "5fa4cfa4",
   "metadata": {},
   "outputs": [],
   "source": [
    "sst_rshp_vert = np.reshape(sst_rshp_vert, (546, 573), order='F')"
   ]
  },
  {
   "cell_type": "code",
   "execution_count": null,
   "id": "4fe557ad",
   "metadata": {},
   "outputs": [],
   "source": [
    "'''for i in range(depth-1):\n",
    "    sst_rshp_vert = np.concatenate((sst_rshp_vert[:,:,i], sst_rshp_vert[:,:,i+1], axis=-1)'''"
   ]
  },
  {
   "cell_type": "code",
   "execution_count": 40,
   "id": "3611bae2",
   "metadata": {},
   "outputs": [
    {
     "data": {
      "text/plain": [
       "<matplotlib.contour.QuadContourSet at 0x718554fd4c50>"
      ]
     },
     "execution_count": 40,
     "metadata": {},
     "output_type": "execute_result"
    },
    {
     "data": {
      "image/png": "[encoded data removed]",
      "text/plain": [
       "<Figure size 640x480 with 1 Axes>"
      ]
     },
     "metadata": {},
     "output_type": "display_data"
    }
   ],
   "source": [
    "plt.contourf(sst_rshp_vert)"
   ]
  },
  {
   "cell_type": "code",
   "execution_count": null,
   "id": "73f1baee",
   "metadata": {},
   "outputs": [],
   "source": []
  },
  {
   "cell_type": "code",
   "execution_count": null,
   "id": "7bdb19d1",
   "metadata": {},
   "outputs": [],
   "source": []
  },
  {
   "cell_type": "code",
   "execution_count": null,
   "id": "65b3919b",
   "metadata": {},
   "outputs": [],
   "source": []
  },
  {
   "cell_type": "code",
   "execution_count": 86,
   "id": "625a04c4",
   "metadata": {},
   "outputs": [],
   "source": [
    "# do the same as before, but horizontal slicing\n",
    "\n",
    "width = 39\n",
    "depth = int(546/width)\n",
    "\n",
    "\n",
    "sst_rshp_hor = np.zeros((depth,width,573))    \n",
    "land_rshp_hor = np.zeros((depth,width,573))  \n",
    "\n",
    "\n",
    "for i in range(depth):\n",
    "    sst_rshp_hor[i,:,:] = sst_mask[i*width:(i+1)*width,:]\n",
    "    land_rshp_hor[i,:,:] = land_mask[i*width:(i+1)*width,:]"
   ]
  },
  {
   "cell_type": "code",
   "execution_count": 87,
   "id": "c0e23fe9",
   "metadata": {},
   "outputs": [],
   "source": [
    "for i in range(depth):   #np.shape(sst_rshp_hor)[-1]\n",
    "    stripe_funk(sst_rshp_hor[i,:,:], land_rshp_hor[i,:,:])"
   ]
  },
  {
   "cell_type": "code",
   "execution_count": 88,
   "id": "b751349c",
   "metadata": {},
   "outputs": [
    {
     "data": {
      "text/plain": [
       "(14, 39, 573)"
      ]
     },
     "execution_count": 88,
     "metadata": {},
     "output_type": "execute_result"
    }
   ],
   "source": [
    "sst_rshp_hor.shape"
   ]
  },
  {
   "cell_type": "code",
   "execution_count": 89,
   "id": "6c5d996f",
   "metadata": {},
   "outputs": [],
   "source": [
    "sst_rshp_hor = np.reshape(sst_rshp_hor, (546,573), order='C')"
   ]
  },
  {
   "cell_type": "code",
   "execution_count": 81,
   "id": "5b25dcf7",
   "metadata": {},
   "outputs": [],
   "source": [
    "sst_rshp_hor = np.concatenate((sst_rshp_hor[0,:,:], sst_rshp_hor[1,:,:], sst_rshp_hor[2,:,:], sst_rshp_hor[3,:,:], sst_rshp_hor[4,:,:], sst_rshp_hor[5,:,:]), axis=0)   #, sst_mask.values[:,500:]\n",
    "#sst_rshp_hor = np.concatenate( (sst_rshp_hor, sst_mask.values[:,500:]) , axis=1) "
   ]
  },
  {
   "cell_type": "code",
   "execution_count": 90,
   "id": "79099406",
   "metadata": {},
   "outputs": [
    {
     "data": {
      "text/plain": [
       "<matplotlib.contour.QuadContourSet at 0x71855405a4d0>"
      ]
     },
     "execution_count": 90,
     "metadata": {},
     "output_type": "execute_result"
    },
    {
     "data": {
      "image/png": "[encoded data removed]",
      "text/plain": [
       "<Figure size 640x480 with 1 Axes>"
      ]
     },
     "metadata": {},
     "output_type": "display_data"
    }
   ],
   "source": [
    "plt.contourf(sst_rshp_hor-sst_mask)"
   ]
  },
  {
   "cell_type": "code",
   "execution_count": 91,
   "id": "0390e1c2",
   "metadata": {},
   "outputs": [
    {
     "data": {
      "text/plain": [
       "<matplotlib.colorbar.Colorbar at 0x718553fa83d0>"
      ]
     },
     "execution_count": 91,
     "metadata": {},
     "output_type": "execute_result"
    },
    {
     "data": {
      "image/png": "[encoded data removed]",
      "text/plain": [
       "<Figure size 640x480 with 2 Axes>"
      ]
     },
     "metadata": {},
     "output_type": "display_data"
    }
   ],
   "source": [
    "# smooth the two selections\n",
    "sst_rshp = 0.5*(sst_rshp_hor+sst_rshp_vert)\n",
    "condition = (sst_rshp == 0.5)\n",
    "sst_rshp[condition] = 0\n",
    "plt.contourf(sst_rshp[:,:]-sst_mask[:,:])\n",
    "plt.colorbar()"
   ]
  },
  {
   "cell_type": "code",
   "execution_count": null,
   "id": "c1824e5b",
   "metadata": {},
   "outputs": [],
   "source": []
  },
  {
   "cell_type": "code",
   "execution_count": null,
   "id": "2d86ae63",
   "metadata": {},
   "outputs": [],
   "source": [
    "# NOW, SET THE NEW, FINAL MASK\n",
    "# REMOVE THE TEMPORARY VARS\n",
    "\n",
    "# sst_rshp is the new sea mask\n",
    "land_rshp = 1-sst_rshp\n",
    "\n",
    "del sst_rshp_hor, sst_rshp_vert, land_rshp_vert, land_rshp_vert"
   ]
  },
  {
   "cell_type": "code",
   "execution_count": 99,
   "id": "3f23e28e",
   "metadata": {},
   "outputs": [
    {
     "data": {
      "text/plain": [
       "\"if os.path.exist('/home/alessandro/tesi/thesis_material/sea_mask.npy'):   #   /home/alessandro/tesi_ale/prove\\n    np.save('/home/alessandro/thesis_material/EURECA_scripts/sea_mask.npy', sst_rshp)\""
      ]
     },
     "execution_count": 99,
     "metadata": {},
     "output_type": "execute_result"
    }
   ],
   "source": [
    "# DAMETTERE SU SATURN!\n",
    "\n",
    "if os.path.exists('/home/alessandro/thesis_material/EURECA_scripts/sea_mask_EU.npy'):\n",
    "    np.save('/home/alessandro/thesis_material/EURECA_scripts/sea_mask_EU.npy', sst_rshp)\n",
    "    \n",
    "'''if os.path.exist('/home/alessandro/tesi/thesis_material/sea_mask.npy'):   #   /home/alessandro/tesi_ale/prove\n",
    "    np.save('/home/alessandro/thesis_material/EURECA_scripts/sea_mask.npy', sst_rshp)'''"
   ]
  },
  {
   "cell_type": "code",
   "execution_count": null,
   "id": "d8b53fbf",
   "metadata": {},
   "outputs": [],
   "source": [
    "######### END OF MASKING"
   ]
  },
  {
   "cell_type": "code",
   "execution_count": null,
   "id": "8ad196b8",
   "metadata": {},
   "outputs": [],
   "source": []
  },
  {
   "cell_type": "code",
   "execution_count": null,
   "id": "d2fe57b5",
   "metadata": {},
   "outputs": [],
   "source": []
  },
  {
   "cell_type": "code",
   "execution_count": null,
   "id": "6f61e9c5",
   "metadata": {},
   "outputs": [],
   "source": []
  },
  {
   "cell_type": "code",
   "execution_count": null,
   "id": "b80e7880",
   "metadata": {},
   "outputs": [],
   "source": []
  },
  {
   "cell_type": "code",
   "execution_count": null,
   "id": "ef1b5f2c",
   "metadata": {},
   "outputs": [],
   "source": [
    "# ANIMATING THINGS"
   ]
  },
  {
   "cell_type": "code",
   "execution_count": 100,
   "id": "cb86bf3b",
   "metadata": {},
   "outputs": [],
   "source": [
    "# import sea_mask\n",
    "if os.path.exists('/home/alessandro/thesis_material/EURECA_scripts/sea_mask_EU.npy'):\n",
    "    sea_mask = np.load('/home/alessandro/thesis_material/EURECA_scripts/sea_mask_EU.npy', allow_pickle=True)\n",
    "\n",
    "lat = ds_hourly.nav_lat\n",
    "lon = ds_hourly.nav_lon"
   ]
  },
  {
   "cell_type": "code",
   "execution_count": 101,
   "id": "d29c6290",
   "metadata": {},
   "outputs": [
    {
     "data": {
      "image/png": "[encoded data removed]",
      "text/plain": [
       "<Figure size 640x480 with 2 Axes>"
      ]
     },
     "metadata": {},
     "output_type": "display_data"
    }
   ],
   "source": [
    "plt.contourf(lon, lat, sea_mask-land_mask, levels=[ -1.5, -0.5, 0.5, 1.5])\n",
    "plt.title('Sea mask visualization')\n",
    "plt.xlabel('lon [$^\\circ$]')\n",
    "plt.ylabel('lat [$^\\circ$]')\n",
    "cbar = plt.colorbar(label='terrain             new mask              old mask ' )\n",
    "\n",
    "#plt.savefig('/home/alessandro/prove/primi_plot/pbl_mask/viz_mask')"
   ]
  },
  {
   "cell_type": "code",
   "execution_count": null,
   "id": "860c1b78",
   "metadata": {},
   "outputs": [],
   "source": []
  },
  {
   "cell_type": "code",
   "execution_count": null,
   "id": "5982455a",
   "metadata": {},
   "outputs": [],
   "source": [
    "# saving data to visualize\n",
    "#pblh = ds_hourly['PBLH'];   pblh = pblh.where(sea_mask, drop=False)\n",
    "sst = ds_hourly['SST'];     sst = sst.where(sea_mask, drop=False)"
   ]
  },
  {
   "cell_type": "code",
   "execution_count": null,
   "id": "63d4d0c1",
   "metadata": {},
   "outputs": [],
   "source": []
  },
  {
   "cell_type": "code",
   "execution_count": null,
   "id": "b526d60f",
   "metadata": {},
   "outputs": [],
   "source": []
  },
  {
   "cell_type": "code",
   "execution_count": null,
   "id": "cfb1fef6",
   "metadata": {},
   "outputs": [],
   "source": []
  },
  {
   "cell_type": "code",
   "execution_count": null,
   "id": "50300c2c",
   "metadata": {},
   "outputs": [],
   "source": [
    "######   T2 AND Q2"
   ]
  },
  {
   "cell_type": "code",
   "execution_count": null,
   "id": "9de8aa96",
   "metadata": {},
   "outputs": [],
   "source": [
    "# saving other data\n",
    "T2 = ds_hourly['T2']; T2 = T2.where(sea_mask, drop=False)\n",
    "q2 = ds_hourly['Q2']; q2 = q2.where(sea_mask, drop=False)\n",
    "#Tskin = ds_hourly['TSK']; Tskin = Tskin.where(sea_mask, drop=False)"
   ]
  },
  {
   "cell_type": "code",
   "execution_count": null,
   "id": "50eef870",
   "metadata": {},
   "outputs": [],
   "source": []
  },
  {
   "cell_type": "code",
   "execution_count": null,
   "id": "59c93056",
   "metadata": {},
   "outputs": [],
   "source": [
    "# enable interactive plot\n",
    "%matplotlib notebook\n",
    "\n",
    "#trange = len(np.unique(ds_hourly['time_counter.day'].values[0:-1]))+1   # the last value is another 1 !\n",
    "trange = len(T2['time_counter'])\n",
    "trange = np.arange(trange)\n",
    "frames = np.arange(0,len(trange),3)\n",
    "\n",
    "date = ds_hourly['time_counter'].values.astype('<M8[s]')\n",
    "'''date = ['Feb_' + str(  day  ) for day in sfc_wind_day['day'].values]\n",
    "#date = 'Feb' + ' ' + sfc_wind_day['day'].values.astype(str)'''   \n",
    "\n",
    "\n",
    "# setting up the figures to be printed\n",
    "fig = plt.figure(figsize=(10,6))\n",
    "ax = plt.axes(xlim=(lon[0,0], lon[0,-1]), ylim=(lat[0,0], lat[-1,0]), xlabel='lon [$^\\circ$]', ylabel='lat [$^\\circ$]')\n",
    "\n",
    "\n",
    "# initial plot - T2\n",
    "Tcont = ax.contour(lon, lat, T2[0,:,:]-273.15, levels=12, cmap='YlOrRd')\n",
    "ax.clabel(Tcont, inline=True, fontsize=10)\n",
    "\n",
    "# initial plot - q2\n",
    "qlevs = np.linspace(np.nanmin(q2),np.nanmax(q2),13)*1000;\n",
    "qcontf = ax.contourf(lon, lat, 1000*q2[0,:,:], levels=qlevs)\n",
    "cbar = fig.colorbar(qcontf)\n",
    "cbar.set_label('qvap 2m [g/kg]')\n",
    "\n",
    "'''# initial  plot - SFC_WIND\n",
    "wind_levs = np.linspace(np.nanmin(sfc_wind_day),np.nanmax(sfc_wind_day),15)\n",
    "contf = ax.contourf(lon, lat, sfc_wind_day[0,:,:], levels=wind_levs) \n",
    "cbar = fig.colorbar(contf)\n",
    "cbar.set_label('wind [m/s]')'''\n",
    "\n",
    "'''# initial  plot - SELECTED WIND POLES\n",
    "wind_qui = ax.quiver(lon[lat_plot, lon_plot],lat[lat_plot, lon_plot],  u_plot[0,:,:], v_plot[0,:,:], scale=500)\n",
    "# colors = arctan2(u, v)\n",
    "# add this to quiver   color=colormap(norm(colors))'''\n",
    "\n",
    "'''# initial plot - PRESSURE FIELD\n",
    "isobars = ax.contour(lon, lat, sfc_pres_day[0,:,:]/100., levels=15, cmap='YlOrRd')\n",
    "ax.clabel(isobars, inline=True, fontsize=10)'''\n",
    "\n",
    "\n",
    "\n",
    "\n",
    "# Animation function\n",
    "def animate(i):\n",
    "    ax.clear()     # clear previous plot\n",
    "     \n",
    "    qcontf = ax.contourf(lon, lat, 1000*q2[i,:,:], levels=qlevs)\n",
    "    cbar.update_normal(qcontf)\n",
    "    \n",
    "    Tcont = ax.contour(lon, lat, T2[i,:,:]-273.15, levels=12, cmap='YlOrRd')\n",
    "    ax.clabel(Tcont, inline=True, fontsize=10)\n",
    "    \n",
    "    ax.set_xlabel('lon [$^\\circ$]', fontsize=15); ax.set_ylabel('lat [$^\\circ$]',fontsize=15)\n",
    "    ax.set_title(f'T contours [$^\\circ$C] and qvap [g/kg], date {date[i]}')   \n",
    "    \n",
    "\n",
    "anim = animation.FuncAnimation(fig, animate, interval=200, frames=frames, repeat=False)\n",
    "\n",
    "plt.show()\n"
   ]
  },
  {
   "cell_type": "code",
   "execution_count": null,
   "id": "c7e4f0c7",
   "metadata": {},
   "outputs": [],
   "source": [
    "writer = PillowWriter(fps=2,metadata=dict(artist='Me'),bitrate=1800)\n",
    "anim.save('/home/alessandro/prove/animazioni/q2_T2.gif', writer=writer)"
   ]
  },
  {
   "cell_type": "code",
   "execution_count": null,
   "id": "0a0680db",
   "metadata": {},
   "outputs": [],
   "source": []
  },
  {
   "cell_type": "code",
   "execution_count": null,
   "id": "1f3a255d",
   "metadata": {},
   "outputs": [],
   "source": [
    "######   END  T2 AND Q2"
   ]
  },
  {
   "cell_type": "code",
   "execution_count": null,
   "id": "39808397",
   "metadata": {},
   "outputs": [],
   "source": []
  },
  {
   "cell_type": "code",
   "execution_count": null,
   "id": "d6707dbf",
   "metadata": {},
   "outputs": [],
   "source": []
  },
  {
   "cell_type": "code",
   "execution_count": null,
   "id": "6eaca728",
   "metadata": {},
   "outputs": [],
   "source": [
    "####### ANIMATING SST-T2"
   ]
  },
  {
   "cell_type": "code",
   "execution_count": null,
   "id": "fa6f47c0",
   "metadata": {},
   "outputs": [],
   "source": [
    "buoyancy = sst-T2"
   ]
  },
  {
   "cell_type": "code",
   "execution_count": null,
   "id": "5e71d28c",
   "metadata": {},
   "outputs": [],
   "source": [
    "# enable interactive plot\n",
    "%matplotlib notebook\n",
    "\n",
    "#trange = len(np.unique(ds_hourly['time_counter.day'].values[0:-1]))+1   # the last value is another 1 !\n",
    "trange = len(T2['time_counter'])\n",
    "trange = np.arange(trange)\n",
    "frames = np.arange(0,len(trange),3)\n",
    "\n",
    "date = ds_hourly['time_counter'].values.astype('<M8[s]')\n",
    "'''date = ['Feb_' + str(  day  ) for day in sfc_wind_day['day'].values]\n",
    "#date = 'Feb' + ' ' + sfc_wind_day['day'].values.astype(str)'''   \n",
    "\n",
    "\n",
    "# setting up the figures to be printed\n",
    "fig = plt.figure(figsize=(10,6))\n",
    "ax = plt.axes(xlim=(lon[0,0], lon[0,-1]), ylim=(lat[0,0], lat[-1,0]), xlabel='lon [$^\\circ$]', ylabel='lat [$^\\circ$]')\n",
    "\n",
    "\n",
    "# initial plot - SST - T2\n",
    "# UNDERSTAND \n",
    "levs = np.linspace(-9, 9, 17)   #np.linspace(np.nanmin(buoyancy),np.nanmax(buoyancy),13) \n",
    "dT_contf = ax.contourf(lon, lat, buoyancy[0,:,:], levels=levs, cmap='bwr', extend=\"both\")\n",
    "cbar = fig.colorbar(dT_contf)\n",
    "cbar.set_label('SST-T2 [K]')\n",
    "\n",
    "\n",
    "\n",
    "# Animation function\n",
    "def animate(i):\n",
    "    ax.clear()     # clear previous plot\n",
    "     \n",
    "    dT_contf = ax.contourf(lon, lat, buoyancy[i,:,:], levels=levs, cmap='bwr', extend=\"both\")\n",
    "    cbar.update_normal(dT_contf)\n",
    "    \n",
    "    '''Tcont = ax.contour(lon, lat, T2[i,:,:]-273.15, levels=12, cmap='YlOrRd')\n",
    "    ax.clabel(Tcont, inline=True, fontsize=10)'''\n",
    "    \n",
    "    ax.set_xlabel('lon [$^\\circ$]', fontsize=15); ax.set_ylabel('lat [$^\\circ$]',fontsize=15)\n",
    "    ax.set_title(f'SST-T2 [K], date {date[i]}')   \n",
    "    \n",
    "\n",
    "anim = animation.FuncAnimation(fig, animate, interval=200, frames=frames, repeat=False)\n",
    "\n",
    "plt.show()"
   ]
  },
  {
   "cell_type": "code",
   "execution_count": null,
   "id": "ff41c4da",
   "metadata": {},
   "outputs": [],
   "source": []
  },
  {
   "cell_type": "code",
   "execution_count": null,
   "id": "56fa21e5",
   "metadata": {},
   "outputs": [],
   "source": []
  },
  {
   "cell_type": "code",
   "execution_count": null,
   "id": "fcd4da94",
   "metadata": {},
   "outputs": [],
   "source": [
    "##### END OF SST-T2"
   ]
  },
  {
   "cell_type": "code",
   "execution_count": null,
   "id": "9e160e35",
   "metadata": {},
   "outputs": [],
   "source": [
    "######## ANIMATING SST ANOMS AT 200KM"
   ]
  },
  {
   "cell_type": "code",
   "execution_count": null,
   "id": "5cb2afb8",
   "metadata": {},
   "outputs": [],
   "source": [
    "# compute dsst - HOURLY DATA TAKE TIME TO FILTER\n",
    "dsst = np.zeros(sst.values.shape)\n",
    "s = 100\n",
    "for t in range(0,sst.values.shape[0]):\n",
    "    if t % 100 == 0:\n",
    "        print(t)\n",
    "\n",
    "    # upscale using gaussian filter\n",
    "    sst_ave = gm.nan_gaussian_filter(sst[t],s)          \n",
    "    dsst[t] = sst[t] - sst_ave"
   ]
  },
  {
   "cell_type": "code",
   "execution_count": null,
   "id": "80bab9a0",
   "metadata": {},
   "outputs": [],
   "source": [
    "# enable interactive plot\n",
    "%matplotlib notebook\n",
    "\n",
    "trange = len(ds_hourly['time_counter'].values)\n",
    "trange = np.arange(trange)\n",
    "frames = np.arange(0,len(trange),6)\n",
    "\n",
    "date = ds_hourly['time_counter'].values.astype('<M8[s]')\n",
    "\n",
    "\n",
    "# setting the levels I need\n",
    "#levs = np.linspace(0,np.max(pblh),15) \n",
    "\n",
    "\n",
    "\n",
    "# setting up the figures to be printed\n",
    "fig = plt.figure(figsize=(10,6))\n",
    "ax = plt.axes(xlim=(lon[0,0], lon[0,-1]), ylim=(lat[0,0], lat[-1,0]), xlabel='lon [$^\\circ$]', ylabel='lat [$^\\circ$]')\n",
    "\n",
    "# initial  plot - SST\n",
    "#Tcont = ax.contour(lon,lat,sst[0,:,:]-273.15, levels=10, cmap='jet')\n",
    "#ax.clabel(Tcont, inline=True, fontsize=10)\n",
    "\n",
    "# initial  plot - dSST\n",
    "norm = colors.TwoSlopeNorm(vmin=np.nanmin(dsst), vcenter=0., vmax=np.nanmax(dsst))\n",
    "\n",
    "dsst_levs_min= np.linspace(np.nanmin(dsst),0,13);  dsst_levs_max=np.linspace(0,np.nanmax(dsst), 9)\n",
    "dsst_levs = np.concatenate( (dsst_levs_min, dsst_levs_max))\n",
    "dsst_levs = np.unique(dsst_levs)\n",
    "\n",
    "#adj_levs = dsst_levs - 0.5*(np.nanmin(dsst)+np.nanmax(dsst)) \n",
    "contf = ax.contourf(lon, lat, dsst[0,:,:],  cmap='bwr', levels=dsst_levs, norm=norm)   #levels=adj_levs)   #pcolormesh\n",
    "\n",
    "cbar = fig.colorbar(contf)\n",
    "cbar.set_label('SST anoms [degC]')\n",
    "cbar.set_ticks(dsst_levs)\n",
    "cbar.set_ticklabels(dsst_levs.round(decimals=1).astype(str))\n",
    "\n",
    "\n",
    "# Animation function\n",
    "def animate(i):\n",
    "    ax.clear()     # clear previous plot\n",
    "     \n",
    "    contf = ax.contourf(lon, lat, dsst[i,:,:], cmap='bwr', levels=dsst_levs, norm=norm)  #  #, levels=levs)\n",
    "    cbar.update_normal(contf)\n",
    "    cbar.set_ticks(dsst_levs)\n",
    "    cbar.set_ticklabels(dsst_levs.round(decimals=1).astype(str))\n",
    "    \n",
    "    ax.set_xlabel('lon [$^\\circ$]', fontsize=15); ax.set_ylabel('lat [$^\\circ$]',fontsize=15)\n",
    "    ax.set_title(f'High-passed SST 200km, date {date[i]}')   \n",
    "    \n",
    "\n",
    "anima_dsst = animation.FuncAnimation(fig, animate, interval=100, frames=frames, repeat=False)\n",
    "\n",
    "plt.show()\n"
   ]
  },
  {
   "cell_type": "code",
   "execution_count": null,
   "id": "4fc25784",
   "metadata": {},
   "outputs": [],
   "source": [
    "writer = PillowWriter(fps=2,metadata=dict(artist='Me'),bitrate=1800)\n",
    "anima_dsst.save('/home/alessandro/prove/animazioni/dsst_200km.gif', writer=writer)"
   ]
  },
  {
   "cell_type": "code",
   "execution_count": null,
   "id": "b6b71df6",
   "metadata": {},
   "outputs": [],
   "source": [
    "######   END OF DSST ANIMATION"
   ]
  },
  {
   "cell_type": "code",
   "execution_count": null,
   "id": "61f76b74",
   "metadata": {},
   "outputs": [],
   "source": []
  },
  {
   "cell_type": "code",
   "execution_count": null,
   "id": "379b25d3",
   "metadata": {},
   "outputs": [],
   "source": []
  },
  {
   "cell_type": "code",
   "execution_count": null,
   "id": "485e4e28",
   "metadata": {},
   "outputs": [],
   "source": []
  },
  {
   "cell_type": "code",
   "execution_count": null,
   "id": "aeba47cf",
   "metadata": {},
   "outputs": [],
   "source": [
    "####### ANIMATING WIND WITH DAILY PRESSURE"
   ]
  },
  {
   "cell_type": "code",
   "execution_count": null,
   "id": "e9e1ac29",
   "metadata": {},
   "outputs": [],
   "source": [
    "#LH = ds_hourly['LH']; LH = LH.where(sea_mask, drop=False)\n",
    "u, v = ds_hourly['U_PHYL1'], ds_hourly['V_PHYL1']; u, v = u.where(sea_mask, drop=False), v.where(sea_mask, drop=False)\n",
    "sfc_wind = (u**2+v**2)**(0.5)"
   ]
  },
  {
   "cell_type": "code",
   "execution_count": null,
   "id": "ed4949dd",
   "metadata": {},
   "outputs": [],
   "source": [
    "# saving data from daily \n",
    "\n",
    "# pressure\n",
    "pres_day = ds_daily['P']+ds_daily['PB']#; sfc_pres \n",
    "pres_day = pres_day.where(sea_mask, drop=False)\n",
    "sfc_pres_day = pres_day[:,0,:,:]\n",
    "\n",
    "# compute daily means of hourly wind\n",
    "u_day, v_day = u.groupby('time_counter.day').mean(), v.groupby('time_counter.day').mean()\n",
    "sfc_wind_day = sfc_wind.groupby('time_counter.day').mean()"
   ]
  },
  {
   "cell_type": "code",
   "execution_count": null,
   "id": "914195c6",
   "metadata": {},
   "outputs": [],
   "source": [
    "# plotting wind only every 25x23 (lon lat) gridpoints\n",
    "lat_plot = np.arange(23,u.shape[1],23)\n",
    "lon_plot = np.arange(0,u.shape[2]-25,25)\n",
    "u_plot, v_plot = u_day[:,lat_plot, lon_plot], v_day[:,lat_plot, lon_plot]"
   ]
  },
  {
   "cell_type": "code",
   "execution_count": null,
   "id": "3b55c888",
   "metadata": {},
   "outputs": [],
   "source": [
    "# enable interactive plot\n",
    "%matplotlib notebook\n",
    "\n",
    "#trange = len(np.unique(ds_hourly['time_counter.day'].values[0:-1]))+1   # the last value is another 1 !\n",
    "trange = len(sfc_wind_day['day'])\n",
    "trange = np.arange(trange)\n",
    "frames = np.arange(0,len(trange))\n",
    "\n",
    "date = ['Feb_' + str(  day  ) for day in sfc_wind_day['day'].values]\n",
    "#date = 'Feb' + ' ' + sfc_wind_day['day'].values.astype(str)   ##ds_hourly['time_counter.day'].values.astype('<M8[s]')\n",
    "\n",
    "\n",
    "# setting up the figures to be printed\n",
    "fig = plt.figure(figsize=(10,6))\n",
    "ax = plt.axes(xlim=(lon[0,0], lon[0,-1]), ylim=(lat[0,0], lat[-1,0]), xlabel='lon [$^\\circ$]', ylabel='lat [$^\\circ$]')\n",
    "\n",
    "# initial  plot - SFC_WIND\n",
    "wind_levs = np.linspace(np.nanmin(sfc_wind_day),np.nanmax(sfc_wind_day),15)\n",
    "contf = ax.contourf(lon, lat, sfc_wind_day[0,:,:], levels=wind_levs) \n",
    "cbar = fig.colorbar(contf)\n",
    "cbar.set_label('wind [m/s]')\n",
    "\n",
    "# initial  plot - SELECTED WIND POLES\n",
    "wind_qui = ax.quiver(lon[lat_plot, lon_plot],lat[lat_plot, lon_plot],  u_plot[0,:,:], v_plot[0,:,:], scale=500)\n",
    "# colors = arctan2(u, v)\n",
    "# add this to quiver   color=colormap(norm(colors))\n",
    "\n",
    "# initial plot - PRESSURE FIELD\n",
    "isobars = ax.contour(lon, lat, sfc_pres_day[0,:,:]/100., levels=15, cmap='YlOrRd')\n",
    "ax.clabel(isobars, inline=True, fontsize=10)\n",
    "\n",
    "\n",
    "\n",
    "\n",
    "# Animation function\n",
    "def animate(i):\n",
    "    ax.clear()     # clear previous plot\n",
    "     \n",
    "    contf = ax.contourf(lon, lat, sfc_wind_day[i,:,:], levels=wind_levs)\n",
    "    cbar.update_normal(contf)\n",
    "    \n",
    "    wind_qui = ax.quiver(lon[lat_plot, lon_plot],lat[lat_plot, lon_plot],  u_plot[i,:,:], v_plot[i,:,:], scale=500)\n",
    "    \n",
    "    isobars = ax.contour(lon, lat, sfc_pres_day[i,:,:]/100., levels=15, cmap='YlOrRd')\n",
    "    ax.clabel(isobars, inline=True, fontsize=10)\n",
    "    \n",
    "    ax.set_xlabel('lon [$^\\circ$]', fontsize=15); ax.set_ylabel('lat [$^\\circ$]',fontsize=15)\n",
    "    ax.set_title(f'Press [hPa], wind magn and dir, date {date[i]}')   \n",
    "    \n",
    "\n",
    "anim = animation.FuncAnimation(fig, animate, interval=200, frames=frames, repeat=False)\n",
    "\n",
    "plt.show()\n"
   ]
  },
  {
   "cell_type": "code",
   "execution_count": null,
   "id": "4dd5cb05",
   "metadata": {},
   "outputs": [],
   "source": [
    "writer = PillowWriter(fps=1,metadata=dict(artist='Me'),bitrate=1800)\n",
    "anim.save('/home/alessandro/prove/animazioni/press_wind_int_dir.gif', writer=writer)"
   ]
  },
  {
   "cell_type": "code",
   "execution_count": null,
   "id": "274e0c22",
   "metadata": {},
   "outputs": [],
   "source": [
    "####### END OF DAILY WIND WITH PRESSURE"
   ]
  },
  {
   "cell_type": "code",
   "execution_count": null,
   "id": "92b6552b",
   "metadata": {},
   "outputs": [],
   "source": []
  },
  {
   "cell_type": "code",
   "execution_count": null,
   "id": "07e87da8",
   "metadata": {},
   "outputs": [],
   "source": []
  },
  {
   "cell_type": "code",
   "execution_count": null,
   "id": "6606e077",
   "metadata": {},
   "outputs": [],
   "source": [
    "######## TRY TO ANIMATE q*div(U)"
   ]
  },
  {
   "cell_type": "code",
   "execution_count": null,
   "id": "7e68cecf",
   "metadata": {},
   "outputs": [],
   "source": [
    "qvap = ds_daily['QVAPOR'][:,0,:,:]\n",
    "qvap = qvap.where(sea_mask, drop=False)"
   ]
  },
  {
   "cell_type": "code",
   "execution_count": null,
   "id": "be3a0832",
   "metadata": {},
   "outputs": [],
   "source": [
    "U, V = ds_daily['U'], ds_daily['V']\n",
    "dx, dy = ds_daily.attrs['DX'], ds_daily.attrs['DY']\n",
    "\n",
    "# time, levs, y, x\n",
    "\n",
    "U, V = U[:,0,:,:], V[:,0,:,:] \n",
    "#U,V = U.where(sea_mask, drop=False), V.where(sea_mask, drop=False)\n",
    "\n",
    "#  divergence!\n",
    "\n",
    "div_U = np.zeros_like(qvap)\n",
    "\n",
    "for x in lon.x: \n",
    "    div_U[:,:,x] = (U[:,:,x+1]-U[:,:,x])/dx #+ (V[:,1:,:]-V[:,:-1,:])/dy\n",
    "    \n",
    "for y in lat.y:\n",
    "    div_U[:,y,:] = div_U[:,y,:] + (V[:,y+1,:]-V[:,y,:])/dy\n",
    "\n",
    "\n",
    "# without mask\n",
    "q_mask = (qvap-qvap) +1\n",
    "div_U = q_mask*div_U\n",
    "\n",
    "q_divU = qvap*div_U"
   ]
  },
  {
   "cell_type": "code",
   "execution_count": null,
   "id": "f69f9538",
   "metadata": {},
   "outputs": [],
   "source": [
    "# filter the divergence field\n",
    "\n",
    "qdivU_nobnd = q_divU[:,25:-25, 25:-25]\n",
    "\n",
    "dq_divU = np.zeros(np.shape(qdivU_nobnd))\n",
    "s = 100\n",
    "for t in range(0,np.shape(qdivU_nobnd)[0]):\n",
    "    if t % 10 == 0:\n",
    "        print(t)\n",
    "\n",
    "    # upscale using gaussian filter\n",
    "    div_ave = gm.nan_gaussian_filter(qdivU_nobnd[t],s)          \n",
    "    dq_divU[t] = qdivU_nobnd[t] - div_ave\n",
    "\n",
    "\n"
   ]
  },
  {
   "cell_type": "code",
   "execution_count": null,
   "id": "19e34c30",
   "metadata": {},
   "outputs": [],
   "source": [
    "# moisture advection!\n",
    "qvap_nobnd = qvap[:,23:-23,23:-23]\n",
    "U_nobnd, V_nobnd = U[:,23:-23,24:-24], V[:,24:-24,23:-23]\n",
    "\n"
   ]
  },
  {
   "cell_type": "code",
   "execution_count": null,
   "id": "aafad2e5",
   "metadata": {},
   "outputs": [],
   "source": [
    "# enable interactive plot\n",
    "%matplotlib notebook\n",
    "\n",
    "#trange = len(np.unique(ds_hourly['time_counter.day'].values[0:-1]))+1   # the last value is another 1 !\n",
    "trange = np.shape(div_U)[0]\n",
    "trange = np.arange(trange)\n",
    "frames = np.arange(0,len(trange))\n",
    "\n",
    "date = ds_daily['time_counter'].values.astype('<M8[s]')  \n",
    "\n",
    "# setting up the figures to be printed\n",
    "fig = plt.figure(figsize=(10,6))\n",
    "ax = plt.axes(xlim=(lon[25,25], lon[25,-25]), ylim=(lat[25,25], lat[-25,25]), xlabel='lon [$^\\circ$]', ylabel='lat [$^\\circ$]')\n",
    "\n",
    "\n",
    "# initial plot - divU\n",
    "levs = np.linspace(-0.001, 0.001, 14) #np.linspace(np.nanmin(div_U),np.nanmax(div_U),25)\n",
    "div_contf = ax.contourf(lon[25:-25, 25:-25], lat[25:-25, 25:-25], div_U[0,25:-25, 25:-25], levels=levs, cmap='bwr')\n",
    "cbar = fig.colorbar(div_contf)\n",
    "cbar.set_label('div(U) [1/s]')\n",
    "\n",
    "\n",
    "# Animation function\n",
    "def animate(i):\n",
    "    ax.clear()     # clear previous plot\n",
    "     \n",
    "    div_contf = ax.contourf(lon[25:-25, 25:-25], lat[25:-25, 25:-25], div_U[i,25:-25, 25:-25], levels=levs, cmap='bwr')\n",
    "    cbar.update_normal(div_contf)\n",
    "    \n",
    "    ax.set_xlabel('lon [$^\\circ$]', fontsize=15); ax.set_ylabel('lat [$^\\circ$]',fontsize=15)\n",
    "    ax.set_title(f' div(U) [1/s], date {date[i]}')   \n",
    "    \n",
    "\n",
    "anim_DivU = animation.FuncAnimation(fig, animate, interval=200, frames=frames, repeat=False)\n",
    "\n",
    "plt.show()\n"
   ]
  },
  {
   "cell_type": "code",
   "execution_count": null,
   "id": "ee8d7abd",
   "metadata": {},
   "outputs": [],
   "source": [
    "writer = PillowWriter(fps=1,metadata=dict(artist='Me'),bitrate=1800)\n",
    "anim_dqDivU.save('/home/alessandro/prove/animazioni/dq_DivU.gif', writer=writer)"
   ]
  }
 ],
 "metadata": {
  "kernelspec": {
   "display_name": "Python 3 (ipykernel)",
   "language": "python",
   "name": "python3"
  },
  "language_info": {
   "codemirror_mode": {
    "name": "ipython",
    "version": 3
   },
   "file_extension": ".py",
   "mimetype": "text/x-python",
   "name": "python",
   "nbconvert_exporter": "python",
   "pygments_lexer": "ipython3",
   "version": "3.7.11"
  }
 },
 "nbformat": 4,
 "nbformat_minor": 5
}
