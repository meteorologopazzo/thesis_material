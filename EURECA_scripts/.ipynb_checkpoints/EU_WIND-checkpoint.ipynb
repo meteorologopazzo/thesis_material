{
 "cells": [
  {
   "cell_type": "code",
   "execution_count": null,
   "id": "87d6a2ed",
   "metadata": {},
   "outputs": [],
   "source": [
    "# I would like to study the climatology of wind speed and directions\n",
    "# drawing histograms or hodographs\n",
    "\n",
    "# Further, this could be linked to convective precipitation"
   ]
  },
  {
   "cell_type": "code",
   "execution_count": 2,
   "id": "a236a772",
   "metadata": {},
   "outputs": [],
   "source": [
    "%load_ext autoreload\n",
    "%autoreload 2"
   ]
  },
  {
   "cell_type": "code",
   "execution_count": 3,
   "id": "f2cdc020",
   "metadata": {},
   "outputs": [],
   "source": [
    "import numpy as np\n",
    "import pandas as pd\n",
    "import glob\n",
    "import xarray as xr\n",
    "import matplotlib.pyplot as plt\n",
    "from scipy import stats\n",
    "\n",
    "import sys; sys.path.insert(1, '/home/alessandro/thesis_material')\n",
    "import os\n",
    "\n",
    "import geometry as gm\n",
    "#import conversion as cnv\n",
    "#from func_statistics import compute_pdf_nbin, slopes_r_p, slope_time, slope_maps\n",
    "#from coare_functions import *\n",
    "\n",
    "import meteo                    # wind_dir_speed\n",
    "import metpy.calc as mpcalc\n",
    "from metpy.units import units\n",
    "import lcl\n",
    "\n",
    "\n",
    "import cartopy.crs as ccrs\n",
    "crs = ccrs.PlateCarree()\n",
    "#from plotmap import plot_background\n",
    "\n",
    "from plotdistr import * #fb_distribution_npoint, perc_distribution, scatterplot_fit, hist2d, perc_distribution_pvalue\n",
    "from pdist_fb_distrib_save_fast import *\n",
    "\n",
    "import warnings; warnings.filterwarnings(\"ignore\")"
   ]
  },
  {
   "cell_type": "code",
   "execution_count": 4,
   "id": "e6197b4b",
   "metadata": {},
   "outputs": [],
   "source": [
    "# find data\n",
    "path = '/saturn/simu_Caribbean/coupled_2km/output/'\n",
    "files_ls = ['QCLOUD', 'U', 'V', 'W', 'OLR', 'PH', 'PHB', 'QVAPOR', 'PB', 'P', 'T']\n",
    "files_ls = [name + '.nc' for name in files_ls]\n",
    "wrf_files = [path+name for name in files_ls]\n",
    "#fname_list = sorted(glob.glob(wrf_files + '*'))"
   ]
  },
  {
   "cell_type": "code",
   "execution_count": 5,
   "id": "24ceb1ce",
   "metadata": {},
   "outputs": [],
   "source": [
    "# import sea_mask\n",
    "if os.path.exists('/home/alessandro/thesis_material/EURECA_scripts/sea_mask_nobnd_EU.npy'):\n",
    "    sea_mask = np.load('/home/alessandro/thesis_material/EURECA_scripts/sea_mask_nobnd_EU.npy')"
   ]
  },
  {
   "cell_type": "code",
   "execution_count": null,
   "id": "4609224a",
   "metadata": {},
   "outputs": [],
   "source": []
  },
  {
   "cell_type": "code",
   "execution_count": 15,
   "id": "eb7c80b7",
   "metadata": {},
   "outputs": [],
   "source": [
    "# load U component\n",
    "U_day = xr.open_dataset(wrf_files[files_ls.index('U.nc')])\n",
    "U_day = U_day['U'].sel(time_counter=slice('2020-02-01T01:30:00.000000000', '2020-03-01T01:30:00.000000000')).groupby('time_counter.day').mean()\n",
    "\n",
    "i = np.arange(0, sea_mask.shape[1])\n",
    "U_day = 0.5*(U_day[:,:,:,i] + U_day[:,:,:,i+1])"
   ]
  },
  {
   "cell_type": "code",
   "execution_count": 16,
   "id": "3036d913",
   "metadata": {},
   "outputs": [],
   "source": [
    "# select data oversea\n",
    "U_day = U_day.where(sea_mask, drop=False)"
   ]
  },
  {
   "cell_type": "code",
   "execution_count": 17,
   "id": "05231a36",
   "metadata": {},
   "outputs": [],
   "source": [
    "# load U component\n",
    "V_day = xr.open_dataset(wrf_files[files_ls.index('V.nc')])\n",
    "V_day = V_day['V'].sel(time_counter=slice('2020-02-01T01:30:00.000000000', '2020-03-01T01:30:00.000000000')).groupby('time_counter.day').mean()\n",
    "\n",
    "j = np.arange(0, sea_mask.shape[0])\n",
    "V_day = 0.5*(V_day[:,:,j,:] + V_day[:,:,j+1,:])"
   ]
  },
  {
   "cell_type": "code",
   "execution_count": 18,
   "id": "f25f1401",
   "metadata": {},
   "outputs": [],
   "source": [
    "# select data oversea\n",
    "V_day = V_day.where(sea_mask, drop=False)"
   ]
  },
  {
   "cell_type": "code",
   "execution_count": null,
   "id": "8c693700",
   "metadata": {},
   "outputs": [],
   "source": []
  },
  {
   "cell_type": "code",
   "execution_count": 24,
   "id": "d8511f9f",
   "metadata": {},
   "outputs": [],
   "source": [
    "# retrieve wind quantities\n",
    "wind_dir, wind_speed = np.zeros_like(V_day), np.zeros_like(V_day)"
   ]
  },
  {
   "cell_type": "code",
   "execution_count": 27,
   "id": "2126da60",
   "metadata": {},
   "outputs": [],
   "source": [
    "lev = V_day.lev_M.values.astype(int)-1\n",
    "wind_dir, wind_speed = meteo.wind_dir_speed(U_day[:,lev,:,:], V_day[:,lev,:,:], interp=False, mask=None)"
   ]
  },
  {
   "cell_type": "code",
   "execution_count": null,
   "id": "c9afc0bc",
   "metadata": {},
   "outputs": [],
   "source": []
  },
  {
   "cell_type": "code",
   "execution_count": null,
   "id": "ffba26d7",
   "metadata": {},
   "outputs": [],
   "source": [
    "#####  RETRIEVE PRESSURE"
   ]
  },
  {
   "cell_type": "code",
   "execution_count": 43,
   "id": "8b23741b",
   "metadata": {},
   "outputs": [],
   "source": [
    "pres_base = xr.open_dataset(wrf_files[files_ls.index('PB.nc')])\n",
    "pres_base = pres_base['PB']\n",
    "\n",
    "pres = xr.open_dataset(wrf_files[files_ls.index('P.nc')])\n",
    "pres = pres['P'].sel(time_counter=slice('2020-02-01T01:30:00.000000000', '2020-03-01T01:30:00.000000000'))\n"
   ]
  },
  {
   "cell_type": "code",
   "execution_count": 44,
   "id": "3239b0f4",
   "metadata": {},
   "outputs": [],
   "source": [
    "pres = (pres+pres_base)/100.                # hectoPascals\n",
    "pres = pres.where(sea_mask, drop=False)\n",
    "\n",
    "del pres_base"
   ]
  },
  {
   "cell_type": "code",
   "execution_count": 45,
   "id": "ea255617",
   "metadata": {},
   "outputs": [],
   "source": [
    "# mean base pressure over domain\n",
    "mean_vert_pres = np.nanmean(pres, axis=(0,2,3))"
   ]
  },
  {
   "cell_type": "code",
   "execution_count": null,
   "id": "ba310358",
   "metadata": {},
   "outputs": [],
   "source": []
  },
  {
   "cell_type": "code",
   "execution_count": null,
   "id": "104f0ae2",
   "metadata": {},
   "outputs": [],
   "source": [
    "###### RETRIEVE DAILY DATA"
   ]
  },
  {
   "cell_type": "code",
   "execution_count": 34,
   "id": "042e2061",
   "metadata": {},
   "outputs": [],
   "source": [
    "wrf_hourly = path + 'Caraibes_WRF_3h_surf.nc'\n",
    "ds_hourly = xr.open_dataset(wrf_hourly)\n",
    "ds_hourly = ds_hourly.sel(time_counter=slice('2020-02-01T01:30:00.000000000', '2020-03-01T01:30:00.000000000'))\n"
   ]
  },
  {
   "cell_type": "code",
   "execution_count": 35,
   "id": "ac83fdc1",
   "metadata": {},
   "outputs": [],
   "source": [
    "# daily varaibles\n",
    "# select sst, q2, U, PBLH\n",
    "\n",
    "sst_day = ds_hourly['SST'].groupby('time_counter.day').mean()            \n",
    "sst_day = sst_day.where(sea_mask, drop=False).values;                              \n",
    "\n",
    "PBLH_day = ds_hourly['PBLH'].groupby('time_counter.day').mean()\n",
    "PBLH_day = PBLH_day.where(sea_mask, drop=False).values;             \n"
   ]
  },
  {
   "cell_type": "code",
   "execution_count": null,
   "id": "36ea13b6",
   "metadata": {},
   "outputs": [],
   "source": []
  },
  {
   "cell_type": "code",
   "execution_count": null,
   "id": "83a1ebf0",
   "metadata": {},
   "outputs": [],
   "source": [
    "# compute anomalies daily data\n",
    "s = 100\n",
    "\n",
    "dsst_day = np.zeros(sst_day.shape)\n",
    "dPBLH_day = np.zeros(PBLH_day.shape)\n",
    "\n",
    "for t in range(0,sst_day.shape[0]):\n",
    "    if t % 10 == 0:\n",
    "        print(t)\n",
    "    # upscale using gaussian filter\n",
    "    sst_ave = gm.nan_gaussian_filter(sst_day[t],s)                             \n",
    "    dsst_day[t] = sst_day[t] - sst_ave\n",
    "    \n",
    "    PBLH_ave = gm.nan_gaussian_filter(PBLH_day[t],s)\n",
    "    dPBLH_day[t] = PBLH_day[t] - PBLH_ave"
   ]
  },
  {
   "cell_type": "code",
   "execution_count": 33,
   "id": "99812031",
   "metadata": {},
   "outputs": [],
   "source": [
    "##### OTHERWISE LOAD THEM FROM THE FILES  ######\n",
    "with open('/venus/tesi_ale/data_EU/SST/daily/FEB/dsst_day_feb.npy', 'rb') as f:\n",
    "    dsst_day = np.load(f)\n",
    "\n",
    "with open('/venus/tesi_ale/data_EU/PBLH/daily/FEB/dPBLH_day_feb.npy', 'rb') as f:\n",
    "    dPBLH_day = np.load(f)"
   ]
  },
  {
   "cell_type": "code",
   "execution_count": 30,
   "id": "803e9fff",
   "metadata": {},
   "outputs": [
    {
     "name": "stdout",
     "output_type": "stream",
     "text": [
      "0\n",
      "10\n",
      "20\n"
     ]
    }
   ],
   "source": [
    "# compute anomalies wind data\n",
    "s = 100\n",
    "\n",
    "dwind_speed = np.zeros(wind_speed.shape)\n",
    "\n",
    "for t in range(0,wind_speed.shape[0]):\n",
    "    if t % 10 == 0:\n",
    "        print(t)\n",
    "    \n",
    "    for h in range(0,wind_speed.shape[1]):\n",
    "        q_ave = gm.nan_gaussian_filter(wind_speed[t,h],s)                            \n",
    "        dwind_speed[t,h] = wind_speed[t,h] - q_ave"
   ]
  },
  {
   "cell_type": "code",
   "execution_count": null,
   "id": "7aacef7e",
   "metadata": {},
   "outputs": [],
   "source": []
  },
  {
   "cell_type": "code",
   "execution_count": 31,
   "id": "f0a03f79",
   "metadata": {},
   "outputs": [],
   "source": [
    "# save anomalies ni windspeed\n",
    "my_save_data('/venus/tesi_ale/data_EU/WIND/daily/FEB/dwind_speed_day_feb.npy', [dwind_speed])"
   ]
  },
  {
   "cell_type": "code",
   "execution_count": null,
   "id": "e2d842f3",
   "metadata": {},
   "outputs": [],
   "source": []
  },
  {
   "cell_type": "code",
   "execution_count": null,
   "id": "e4704667",
   "metadata": {},
   "outputs": [],
   "source": []
  },
  {
   "cell_type": "code",
   "execution_count": null,
   "id": "928b55da",
   "metadata": {},
   "outputs": [],
   "source": [
    "# PBLH IN PRESSURE VALUES! \n",
    "# output is in hPa\n",
    "PBLH_pres = mpcalc.height_to_pressure_std(PBLH_day*units.meters)\n",
    "PBLH_pres = PBLH_pres.magnitude #.m_as('hPa')"
   ]
  },
  {
   "cell_type": "code",
   "execution_count": null,
   "id": "7fae9e32",
   "metadata": {},
   "outputs": [],
   "source": [
    "# DISTRIBUTION PBLH vs SST bin - DAILY \n",
    "perc_step = 5\n",
    "nbins = int(100/perc_step) # Number of bins.\n",
    "\n",
    "#  PBLH distrib\n",
    "\n",
    "# perc\n",
    "pdist_sst, pdist_PBLH, pstd_PBLH, pstderr_PBLH, pnpoints_PBLH, ppvalue_PBLH = \\\n",
    "distrib_2d(sst_day, PBLH_pres, perc_step, nbins, popmean, perc_fixbin = 'perc')\n",
    "\n",
    "# bins\n",
    "dist_sst, dist_PBLH, std_PBLH, stderr_PBLH, npoints_PBLH, pvalue_PBLH = \\\n",
    "distrib_2d(dsst_day, PBLH_pres, perc_step, nbins, popmean, perc_fixbin = 'fb')\n"
   ]
  },
  {
   "cell_type": "code",
   "execution_count": null,
   "id": "0b8e61c1",
   "metadata": {},
   "outputs": [],
   "source": [
    "# DISTRIBUTION PBLH vs dSST bin - DAILY \n",
    "perc_step = 5\n",
    "nbins = int(100/perc_step) # Number of bins.\n",
    "\n",
    "#  PBLH distrib\n",
    "\n",
    "# perc\n",
    "pdist_dsst, pdist_PBLH_dsst, pstd_PBLH_dsst, pstderr_PBLH_dsst, pnpoints_PBLH_dsst, ppvalue_PBLH_dsst = \\\n",
    "distrib_2d(dsst_day, PBLH_pres, perc_step, nbins, popmean, perc_fixbin = 'perc')\n",
    "\n",
    "# bins\n",
    "dist_dsst, dist_PBLH_dsst, std_PBLH_dsst, stderr_PBLH_dsst, npoints_PBLH_dsst, pvalue_PBLH_dsst = \\\n",
    "distrib_2d(dsst_day, PBLH_pres, perc_step, nbins, popmean, perc_fixbin = 'fb')\n"
   ]
  },
  {
   "cell_type": "code",
   "execution_count": null,
   "id": "4e9455a0",
   "metadata": {},
   "outputs": [],
   "source": []
  },
  {
   "cell_type": "code",
   "execution_count": null,
   "id": "aee36b5e",
   "metadata": {},
   "outputs": [],
   "source": []
  },
  {
   "cell_type": "code",
   "execution_count": null,
   "id": "7157823a",
   "metadata": {},
   "outputs": [],
   "source": []
  },
  {
   "cell_type": "code",
   "execution_count": 37,
   "id": "d9e15129",
   "metadata": {},
   "outputs": [],
   "source": [
    "# MATTE AVEVA GIA' CALCOLATO TUTTE LE CORRELAZIONI \n",
    "# E HA STIMATO QUESTA LUNGHEZZA?\n",
    "L = 30\n",
    "nskip = int(L/2)\n",
    "nt = int(1)\n",
    "\n",
    "# from top pbl upwards\n",
    "# SOPRA PBL LA LUNGEHZZA DI CORRELAZIONE AUMENTA?\n",
    "# NEL SENSO CHE I SEGNALI HANNO PIù SPAZIO PER PROPAGARSI?\n",
    "Ltop = 150\n",
    "nskiptop = int(Ltop/2)\n",
    "nttop = int(1)\n",
    "\n",
    "# reference population mean\n",
    "popmean = 0."
   ]
  },
  {
   "cell_type": "code",
   "execution_count": 41,
   "id": "c82a3864",
   "metadata": {},
   "outputs": [
    {
     "name": "stdout",
     "output_type": "stream",
     "text": [
      "0\n",
      "10\n",
      "20\n",
      "30\n",
      "0\n",
      "10\n",
      "20\n",
      "30\n"
     ]
    }
   ],
   "source": [
    "# DISTRIBUTION WS vs SST - DAILY + PVALUE SUBSAMPLED height dependent\n",
    "perc_step = 5\n",
    "nbins = int(100/perc_step) # Number of bins.\n",
    "\n",
    "# percentiles\n",
    "# x,y,perc_step, nbins, popmean, nt, nttop, nskip, nskiptop, top, perc_fixbin\n",
    "# dist_x, dist_y, std_y, stderr_y, npoints_y, pvalue_y_sub\n",
    "\n",
    "pdist_sst, pdist_ws, pstd_ws, pstderr_ws, pnpoints_ws, ppvalue_ws_sub = \\\n",
    "dist_3d_subsample(sst_day, wind_speed, perc_step, nbins, popmean, nt, nttop, nskip, nskiptop, top=14, perc_fixbin='perc')\n",
    "\n",
    "\n",
    "# fixed bins dQVAPOR vs dSST\n",
    "dist_sst, dist_ws, std_ws, stderr_ws, npoints_ws, pvalue_ws_sub = \\\n",
    "dist_3d_subsample(sst_day, wind_speed, perc_step, nbins, popmean, nt, nttop, nskip, nskiptop, top=14, perc_fixbin='fb')\n"
   ]
  },
  {
   "cell_type": "code",
   "execution_count": null,
   "id": "c9d8075f",
   "metadata": {},
   "outputs": [],
   "source": [
    "# load PBLH distrib"
   ]
  },
  {
   "cell_type": "code",
   "execution_count": 52,
   "id": "f5012cce",
   "metadata": {},
   "outputs": [
    {
     "name": "stdout",
     "output_type": "stream",
     "text": [
      "/venus/tesi_ale/img_EU/QVAPOR/daily/perc/FEB/pdist_dsst_dqvapor_lowtropo_hatch.png\n"
     ]
    },
    {
     "data": {
      "image/png": "[encoded data removed]",
      "text/plain": [
       "<Figure size 1000x500 with 2 Axes>"
      ]
     },
     "metadata": {},
     "output_type": "display_data"
    }
   ],
   "source": [
    "# plot\n",
    "\n",
    "p_level_plot = int(18)\n",
    "\n",
    "perc = True\n",
    "title = 'Percentiles' if perc else 'Fixed bins'\n",
    "x = pdist_sst if perc else dist_sst\n",
    "var = dist_ws if perc else dist_ws\n",
    "minval = 0. ; maxval = -minval\n",
    "\n",
    "fig, ax1 = plt.subplots(figsize=(10, 5))  \n",
    "ax1.invert_yaxis()\n",
    "p1 = ax1.pcolormesh(x-273.15, mean_vert_pres[0:p_level_plot], var[0:p_level_plot], cmap='viridis')\n",
    "ax1.set_xlabel('SST [˚C]'); ax1.set_ylabel('pressure [hPa]')\n",
    "plt.title(f'{title} - daily SST vs WS')\n",
    "cbar = plt.colorbar(p1,ax=ax1, location='right', shrink=0.8, extend='both')  \n",
    "cbar.set_label('WS [m/s]')\n",
    "\n",
    "'''var_pbl = pdist_PBLH_dsst if perc else dist_PBLH_dsst\n",
    "ax1.plot(x, var_pbl, '-k', linewidth=2)\n",
    "ax1.text(0.4, 850, 'PBLH', fontsize=12, color='k')'''\n",
    "\n",
    "\n",
    "\n",
    "\n",
    "'''# DEF punti significativi (pvalue < 0.05)\n",
    "pval = ppvalue_dQVAPOR_day_sub[0:p_level_plot] if perc else pvalue_dQVAPOR_day_sub[0:p_level_plot]\n",
    "GPbin = mean_vert_pres[1:p_level_plot] - np.diff(mean_vert_pres[0:p_level_plot])*0.5\n",
    "signif_Lcorr_H = np.zeros((len(mean_vert_pres[0:p_level_plot])-1,len(x)-1))\n",
    "dsstbin = np.zeros((len(mean_vert_pres[0:p_level_plot])-1,len(x)-1))\n",
    "for h in range(0,len(mean_vert_pres[0:p_level_plot])-1):\n",
    "    cond1 = pval[h,:-1] > 0.05\n",
    "    cond2 = np.abs(var[h,:-1]) < 0.1*np.nanmean(np.abs(var))\n",
    "    cond = (cond1) | (cond2)\n",
    "#     cond = cond1\n",
    "    signif_Lcorr_H[h,:] = np.zeros(len(x)-1) + np.nan\n",
    "    signif_Lcorr_H[h, cond] = GPbin[h]\n",
    "    dsstbin[h,:] = x[1:] - np.diff(x)*0.5\n",
    "    \n",
    "plt.scatter(dsstbin,signif_Lcorr_H,  s=0.7, color='k')'''\n",
    "\n",
    "\n",
    "\n",
    "\n",
    "\n",
    "\n",
    "\n",
    "'''# statistical significance hatching\n",
    "pval_val = ppvalue_dQVAPOR_day_sub[0:p_level_plot] if perc else pvalue_dQVAPOR_day_sub[0:p_level_plot]\n",
    "pval_hatch = np.ma.masked_greater(pval_val, 0.05)\n",
    "hatch = ax1.pcolor(x, mean_vert_pres[0:p_level_plot], pval_hatch, hatch='/', alpha=0., zorder=10)\n",
    "\n",
    "# Add hatch to the significant areas\n",
    "hatch.set_visible(True)\n",
    "hatch.set_facecolor(\"black\")\n",
    "hatch.set_edgecolor(\"none\")'''\n",
    "\n",
    "\n",
    "\n",
    "# savefig\n",
    "path_img = '/venus/tesi_ale/img_EU/QVAPOR/daily/perc/FEB/' if perc else '/venus/tesi_ale/img_EU/QVAPOR/daily/bins/FEB/'\n",
    "filename = path_img + 'pdist_dsst_dqvapor_lowtropo_hatch.png' if perc else path_img + 'bins_dsst_dqvapor_lowtropo_hatch.png'\n",
    "#plt.savefig(filename)\n",
    "print(filename)\n",
    "del filename"
   ]
  },
  {
   "cell_type": "code",
   "execution_count": null,
   "id": "29407907",
   "metadata": {},
   "outputs": [],
   "source": []
  },
  {
   "cell_type": "code",
   "execution_count": null,
   "id": "7264916c",
   "metadata": {},
   "outputs": [],
   "source": [
    "# DISTRIBUTION WS vs dSST - DAILY + PVALUE SUBSAMPLED height dependent\n",
    "perc_step = 5\n",
    "nbins = int(100/perc_step) # Number of bins.\n",
    "\n",
    "# percentiles\n",
    "# x,y,perc_step, nbins, popmean, nt, nttop, nskip, nskiptop, top, perc_fixbin\n",
    "# dist_x, dist_y, std_y, stderr_y, npoints_y, pvalue_y_sub\n",
    "\n",
    "pdist_dsst, pdist_ws, pstd_ws, pstderr_ws, pnpoints_ws, ppvalue_ws_sub = \\\n",
    "dist_3d_subsample(dsst_day, wind_speed, perc_step, nbins, popmean, nt, nttop, nskip, nskiptop, top=14, perc_fixbin='perc')\n",
    "\n",
    "\n",
    "# fixed bins dQVAPOR vs dSST\n",
    "dist_dsst, dist_ws, std_ws, stderr_ws, npoints_ws, pvalue_ws_sub = \\\n",
    "dist_3d_subsample(dsst_day, wind_speed, perc_step, nbins, popmean, nt, nttop, nskip, nskiptop, top=14, perc_fixbin='fb')\n"
   ]
  },
  {
   "cell_type": "code",
   "execution_count": null,
   "id": "c0e4f1a7",
   "metadata": {},
   "outputs": [],
   "source": [
    "# plot"
   ]
  },
  {
   "cell_type": "code",
   "execution_count": null,
   "id": "0b216d3b",
   "metadata": {},
   "outputs": [],
   "source": []
  },
  {
   "cell_type": "code",
   "execution_count": null,
   "id": "c5945cd9",
   "metadata": {},
   "outputs": [],
   "source": [
    "# DISTRIBUTION dWS vs dSST - DAILY + PVALUE SUBSAMPLED height dependent\n",
    "perc_step = 5\n",
    "nbins = int(100/perc_step) # Number of bins.\n",
    "\n",
    "# percentiles\n",
    "# x,y,perc_step, nbins, popmean, nt, nttop, nskip, nskiptop, top, perc_fixbin\n",
    "# dist_x, dist_y, std_y, stderr_y, npoints_y, pvalue_y_sub\n",
    "\n",
    "pdist_dsst, pdist_dws, pstd_dws, pstderr_dws, pnpoints_dws, ppvalue_dws_sub = \\\n",
    "dist_3d_subsample(dsst_day, dwind_speed, perc_step, nbins, popmean, nt, nttop, nskip, nskiptop, top=14, perc_fixbin='perc')\n",
    "\n",
    "\n",
    "# fixed bins dQVAPOR vs dSST\n",
    "dist_dsst, dist_dws, std_dws, stderr_dws, npoints_dws, pvalue_dws_sub = \\\n",
    "dist_3d_subsample(dsst_day, dwind_speed, perc_step, nbins, popmean, nt, nttop, nskip, nskiptop, top=14, perc_fixbin='fb')\n"
   ]
  },
  {
   "cell_type": "code",
   "execution_count": null,
   "id": "3917189e",
   "metadata": {},
   "outputs": [],
   "source": []
  },
  {
   "cell_type": "code",
   "execution_count": null,
   "id": "b855664f",
   "metadata": {},
   "outputs": [],
   "source": []
  },
  {
   "cell_type": "code",
   "execution_count": null,
   "id": "ec29a846",
   "metadata": {},
   "outputs": [],
   "source": []
  },
  {
   "cell_type": "code",
   "execution_count": null,
   "id": "24c71015",
   "metadata": {},
   "outputs": [],
   "source": []
  },
  {
   "cell_type": "code",
   "execution_count": 13,
   "id": "840e6bc3",
   "metadata": {
    "scrolled": true
   },
   "outputs": [],
   "source": [
    "ax = WindroseAxes.from_ax()\n",
    "ax.bar(wind_dir_flat_nan, wind_speed_flat_nan, normed=True, opening=0.8, edgecolor='white', bins=10, nsector=15)  # bins=  , nsector=\n",
    "ax.set_legend(loc=0)\n",
    "ax.set_title('DJF frequency (%) climatology of wind direction and intensity [m/s]')\n",
    "\n",
    "#plt.savefig('/venus/tesi_ale/img_GS/DJF_windrose.png')\n",
    "plt.close()"
   ]
  },
  {
   "cell_type": "code",
   "execution_count": null,
   "id": "43cf069b",
   "metadata": {},
   "outputs": [],
   "source": []
  },
  {
   "cell_type": "code",
   "execution_count": null,
   "id": "563dbe4a",
   "metadata": {},
   "outputs": [],
   "source": []
  },
  {
   "cell_type": "code",
   "execution_count": null,
   "id": "c553bbd6",
   "metadata": {},
   "outputs": [],
   "source": []
  },
  {
   "cell_type": "code",
   "execution_count": null,
   "id": "67ac06b5",
   "metadata": {},
   "outputs": [],
   "source": [
    "# understand how vertical levels work\n",
    "geop = (ds_daily['PHB'] + ds_daily['PH'])/9.81\n",
    "pres = (ds_daily['P'] + ds_daily['PB'])/100."
   ]
  },
  {
   "cell_type": "code",
   "execution_count": null,
   "id": "f265521b",
   "metadata": {},
   "outputs": [],
   "source": [
    "geop = (geop[0:-1, :,:] + geop[1:,:,:])*0.5"
   ]
  },
  {
   "cell_type": "code",
   "execution_count": null,
   "id": "900f4238",
   "metadata": {},
   "outputs": [],
   "source": [
    "sigma = pres[10,:,350,500]/pres[10,0,350,500]\n",
    "plt.plot(sigma, ds_daily.PB.values[:,350, 500]/100, '*')"
   ]
  },
  {
   "cell_type": "code",
   "execution_count": null,
   "id": "f3b5b362",
   "metadata": {},
   "outputs": [],
   "source": [
    "sigma[sigma>0.8]"
   ]
  }
 ],
 "metadata": {
  "kernelspec": {
   "display_name": "Python 3 (ipykernel)",
   "language": "python",
   "name": "python3"
  },
  "language_info": {
   "codemirror_mode": {
    "name": "ipython",
    "version": 3
   },
   "file_extension": ".py",
   "mimetype": "text/x-python",
   "name": "python",
   "nbconvert_exporter": "python",
   "pygments_lexer": "ipython3",
   "version": "3.7.11"
  }
 },
 "nbformat": 4,
 "nbformat_minor": 5
}
