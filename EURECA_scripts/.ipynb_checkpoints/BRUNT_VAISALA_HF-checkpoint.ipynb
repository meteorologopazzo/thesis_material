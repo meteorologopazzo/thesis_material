{
 "cells": [
  {
   "cell_type": "code",
   "execution_count": 1,
   "id": "45338470",
   "metadata": {},
   "outputs": [],
   "source": [
    "import numpy as np\n",
    "import pandas as pd\n",
    "import glob\n",
    "import xarray as xr\n",
    "import matplotlib.pyplot as plt\n",
    "from scipy import stats\n",
    "\n",
    "import sys; sys.path.insert(1, '/home/alessandro/thesis_material')\n",
    "import os\n",
    "\n",
    "import geometry as gm\n",
    "#import conversion as cnv\n",
    "#from func_statistics import compute_pdf_nbin, slopes_r_p, slope_time, slope_maps\n",
    "#from coare_functions import *\n",
    "import meteo\n",
    "import lcl\n",
    "import metpy.calc as mpcalc\n",
    "from metpy.units import units\n",
    "\n",
    "\n",
    "import cartopy.crs as ccrs\n",
    "crs = ccrs.PlateCarree()\n",
    "#from plotmap import plot_background\n",
    "from plotdistr import * #fb_distribution_npoint, perc_distribution, scatterplot_fit, hist2d\n",
    "from pdist_fb_distrib_fast import *\n",
    "\n",
    "import warnings; warnings.filterwarnings(\"ignore\")"
   ]
  },
  {
   "cell_type": "code",
   "execution_count": 2,
   "id": "1524143c",
   "metadata": {},
   "outputs": [],
   "source": [
    "%load_ext autoreload\n",
    "%autoreload 2"
   ]
  },
  {
   "cell_type": "code",
   "execution_count": 3,
   "id": "da030167",
   "metadata": {},
   "outputs": [],
   "source": [
    "# find data\n",
    "path = '/saturn/simu_Caribbean/coupled_2km/output/'\n",
    "files_ls = ['QCLOUD', 'U', 'V', 'W', 'OLR', 'PH', 'PHB', 'QVAPOR', 'PB', 'P', 'T']\n",
    "files_ls = [name + '.nc' for name in files_ls]\n",
    "wrf_files = [path+name for name in files_ls]\n",
    "#fname_list = sorted(glob.glob(wrf_files + '*'))"
   ]
  },
  {
   "cell_type": "code",
   "execution_count": 4,
   "id": "fd95771a",
   "metadata": {},
   "outputs": [],
   "source": [
    "# import sea_mask\n",
    "if os.path.exists('/home/alessandro/thesis_material/EURECA_scripts/sea_mask_nobnd_EU.npy'):\n",
    "    sea_mask = np.load('/home/alessandro/thesis_material/EURECA_scripts/sea_mask_nobnd_EU.npy')"
   ]
  },
  {
   "cell_type": "code",
   "execution_count": null,
   "id": "1e217241",
   "metadata": {},
   "outputs": [],
   "source": []
  },
  {
   "cell_type": "code",
   "execution_count": 5,
   "id": "ffcbf0e4",
   "metadata": {},
   "outputs": [],
   "source": [
    "# reading temperature\n",
    "pot_temp = xr.open_dataset(wrf_files[files_ls.index('T.nc')])\n",
    "pot_temp = pot_temp['T']\n",
    "pot_temp = pot_temp.sel(time_counter=slice('2020-02-01T01:30:00.000000000', '2020-03-01T01:30:00.000000000'))\n",
    "pot_temp = pot_temp.where(sea_mask, drop=False)\n",
    "pot_temp = pot_temp.groupby('time_counter.day').mean()\n",
    "\n",
    "T0 = 300. \n",
    "\n",
    "pot_temp_full = pot_temp+T0"
   ]
  },
  {
   "cell_type": "code",
   "execution_count": 6,
   "id": "d8894937",
   "metadata": {},
   "outputs": [],
   "source": [
    "# reading geopotential height\n",
    "GPH_base = xr.open_dataset(wrf_files[files_ls.index('PHB.nc')])\n",
    "GPH_base = GPH_base['PHB']/9.81\n",
    "\n",
    "GPH = xr.open_dataset(wrf_files[files_ls.index('PH.nc')])\n",
    "GPH = GPH.sel(time_counter=slice('2020-02-01T01:30:00.000000000', '2020-03-01T01:30:00.000000000'))\n",
    "GPH = GPH['PH']/9.81\n",
    "\n",
    "GPH = GPH_base + GPH\n",
    "GPH = GPH.transpose('time_counter', 'lev_W', 'y_grid_M', 'x_grid_M')\n",
    "GPH = GPH.where(sea_mask, drop=False)\n",
    "\n",
    "GPH = GPH.groupby('time_counter.day').mean()\n",
    "\n",
    "#GPH_base = GPH_base.where(sea_mask, drop=False)\n",
    "del GPH_base"
   ]
  },
  {
   "cell_type": "code",
   "execution_count": 7,
   "id": "963761f5",
   "metadata": {},
   "outputs": [],
   "source": [
    "GPH_mean = GPH.mean(axis=(0,2,3))"
   ]
  },
  {
   "cell_type": "code",
   "execution_count": 8,
   "id": "56fd3121",
   "metadata": {},
   "outputs": [],
   "source": [
    "# vertical interpolation of geopotential\n",
    "GPH_inter = np.zeros_like(pot_temp)\n",
    "for i in range(39):\n",
    "    GPH_inter[:,i,:,:] = (GPH[:,i+1,:,:]+GPH[:,i,:,:])*0.5"
   ]
  },
  {
   "cell_type": "code",
   "execution_count": 9,
   "id": "d8341051",
   "metadata": {},
   "outputs": [],
   "source": [
    "# CALCULATE BRUNT VAISALA\n",
    "BV_freq = mpcalc.brunt_vaisala_frequency_squared(GPH_inter*units.meters, pot_temp_full.values*units.kelvin, vertical_dim = 1)"
   ]
  },
  {
   "cell_type": "code",
   "execution_count": null,
   "id": "a9f25f74",
   "metadata": {},
   "outputs": [],
   "source": []
  },
  {
   "cell_type": "code",
   "execution_count": null,
   "id": "0231930e",
   "metadata": {},
   "outputs": [],
   "source": []
  },
  {
   "cell_type": "code",
   "execution_count": null,
   "id": "2053dba3",
   "metadata": {},
   "outputs": [],
   "source": [
    "# retrieve SST, temperature, \"buoyancy\" and PBLH"
   ]
  },
  {
   "cell_type": "code",
   "execution_count": 10,
   "id": "18beab44",
   "metadata": {},
   "outputs": [],
   "source": [
    "wrf_hourly = path + 'Caraibes_WRF_3h_surf.nc'\n",
    "ds_hourly = xr.open_dataset(wrf_hourly)\n",
    "ds_hourly = ds_hourly.sel(time_counter=slice('2020-02-01T01:30:00.000000000', '2020-03-01T01:30:00.000000000'))"
   ]
  },
  {
   "cell_type": "code",
   "execution_count": 11,
   "id": "9d701e7a",
   "metadata": {},
   "outputs": [],
   "source": [
    "# lat and lon\n",
    "lon_M = ds_hourly['nav_lon'].values\n",
    "lat_M = ds_hourly['nav_lat'].values"
   ]
  },
  {
   "cell_type": "code",
   "execution_count": 11,
   "id": "212d4cae",
   "metadata": {},
   "outputs": [],
   "source": [
    "sst_day = ds_hourly['SST'].groupby('time_counter.day').mean()            \n",
    "sst_day = sst_day.where(sea_mask, drop=False).values; "
   ]
  },
  {
   "cell_type": "code",
   "execution_count": 12,
   "id": "e0555afb",
   "metadata": {},
   "outputs": [],
   "source": [
    "T2 = ds_hourly['T2'].groupby('time_counter.day').mean()\n",
    "T2 = T2.where(sea_mask, drop=False).values"
   ]
  },
  {
   "cell_type": "code",
   "execution_count": 13,
   "id": "8d2a14e7",
   "metadata": {},
   "outputs": [],
   "source": [
    "buoya = sst_day - T2"
   ]
  },
  {
   "cell_type": "code",
   "execution_count": 14,
   "id": "6319dc91",
   "metadata": {},
   "outputs": [],
   "source": [
    "PBLH_day = ds_hourly['PBLH'].groupby('time_counter.day').mean()            \n",
    "PBLH_day = PBLH_day.where(sea_mask, drop=False).values; "
   ]
  },
  {
   "cell_type": "code",
   "execution_count": null,
   "id": "6a78c1e2",
   "metadata": {},
   "outputs": [],
   "source": []
  },
  {
   "cell_type": "code",
   "execution_count": null,
   "id": "d65b2a9e",
   "metadata": {},
   "outputs": [],
   "source": []
  },
  {
   "cell_type": "code",
   "execution_count": null,
   "id": "93cbd040",
   "metadata": {},
   "outputs": [],
   "source": []
  },
  {
   "cell_type": "code",
   "execution_count": 48,
   "id": "e396fc05",
   "metadata": {},
   "outputs": [
    {
     "name": "stdout",
     "output_type": "stream",
     "text": [
      "perc 99 = 1.313720703125\n",
      "perc 95 = 1.12005615234375\n",
      "perc 75 = 0.870086669921875\n",
      "perc 3.5 = -0.00152587890625\n"
     ]
    }
   ],
   "source": [
    "buoya_flat = buoya[~np.isnan(buoya)].flatten()\n",
    "#buoya_flat = np.sort(buoya_flat)\n",
    "perc_99 = np.percentile(buoya_flat, 99); print(f'perc 99 = {perc_99}')\n",
    "perc_95 = np.percentile(buoya_flat, 95); print(f'perc 95 = {perc_95}')\n",
    "perc_75 = np.percentile(buoya_flat, 75); print(f'perc 75 = {perc_75}')\n",
    "perc_3_5 = np.percentile(buoya_flat, 3.5); print(f'perc 3.5 = {perc_3_5}')"
   ]
  },
  {
   "cell_type": "code",
   "execution_count": 46,
   "id": "ecd64665",
   "metadata": {},
   "outputs": [
    {
     "data": {
      "image/png": "[encoded data removed]",
      "text/plain": [
       "<Figure size 640x480 with 1 Axes>"
      ]
     },
     "metadata": {},
     "output_type": "display_data"
    }
   ],
   "source": [
    "res= plt.hist(buoya_flat[buoya_flat<3], bins=100)\n",
    "freq = res[0]/(len(buoya_flat[buoya_flat<3]))\n",
    "bin_ave = 0.5*(res[1][0:-1]+res[1][1:])"
   ]
  },
  {
   "cell_type": "code",
   "execution_count": 47,
   "id": "93faf375",
   "metadata": {},
   "outputs": [
    {
     "data": {
      "text/plain": [
       "[<matplotlib.lines.Line2D at 0x7687a3c9dd10>]"
      ]
     },
     "execution_count": 47,
     "metadata": {},
     "output_type": "execute_result"
    },
    {
     "data": {
      "image/png": "[encoded data removed]",
      "text/plain": [
       "<Figure size 640x480 with 1 Axes>"
      ]
     },
     "metadata": {},
     "output_type": "display_data"
    }
   ],
   "source": [
    "plt.plot(bin_ave, freq)"
   ]
  },
  {
   "cell_type": "code",
   "execution_count": null,
   "id": "0dfccdef",
   "metadata": {},
   "outputs": [],
   "source": []
  },
  {
   "cell_type": "code",
   "execution_count": null,
   "id": "50488e63",
   "metadata": {},
   "outputs": [],
   "source": []
  },
  {
   "cell_type": "code",
   "execution_count": null,
   "id": "e09c6fc5",
   "metadata": {},
   "outputs": [],
   "source": []
  },
  {
   "cell_type": "code",
   "execution_count": 16,
   "id": "c0d2e25a",
   "metadata": {},
   "outputs": [
    {
     "name": "stdout",
     "output_type": "stream",
     "text": [
      "0\n",
      "10\n",
      "20\n"
     ]
    }
   ],
   "source": [
    "# compute anomalies daily data\n",
    "s = 100\n",
    "\n",
    "# I want ot concentrate on heat fluxes now\n",
    "# whenever want to do statistics on BV\n",
    "# TURN THIS TRUE\n",
    "bv = False\n",
    "\n",
    "dsst_day = np.zeros(sst_day.shape)\n",
    "dbuoya_day = np.zeros(buoya.shape)\n",
    "dPBLH_day = np.zeros(PBLH_day.shape)\n",
    "\n",
    "if bv:\n",
    "    dBV_freq_day = np.zeros(BV_freq.shape)\n",
    "\n",
    "for t in range(0,sst_day.shape[0]):\n",
    "    if t % 10 == 0:\n",
    "        print(t)\n",
    "    \n",
    "    sst_ave = gm.nan_gaussian_filter(sst_day[t],s)                             \n",
    "    dsst_day[t] = sst_day[t] - sst_ave\n",
    "    \n",
    "    buoya_ave = gm.nan_gaussian_filter(buoya[t],s)                             \n",
    "    dbuoya_day[t] = buoya[t] - buoya_ave\n",
    "    \n",
    "    pbl_ave = gm.nan_gaussian_filter(PBLH_day[t],s)                             \n",
    "    dPBLH_day[t] = PBLH_day[t] - pbl_ave\n",
    "    \n",
    "    if bv:\n",
    "        for h in range(0,BV_freq.shape[1]):\n",
    "            bv_ave = gm.nan_gaussian_filter(BV_freq[t,h].magnitude,s)                               \n",
    "            dBV_freq_day[t,h] = BV_freq[t,h].magnitude - bv_ave"
   ]
  },
  {
   "cell_type": "code",
   "execution_count": 26,
   "id": "b60bf21f",
   "metadata": {
    "collapsed": true
   },
   "outputs": [
    {
     "data": {
      "text/plain": [
       "(29, 546, 573)"
      ]
     },
     "execution_count": 26,
     "metadata": {},
     "output_type": "execute_result"
    }
   ],
   "source": [
    "# compute distributions"
   ]
  },
  {
   "cell_type": "code",
   "execution_count": 17,
   "id": "e38f5c7d",
   "metadata": {},
   "outputs": [],
   "source": [
    "# MATTE AVEVA GIA' CALCOLATO TUTTE LE CORRELAZIONI \n",
    "# E HA STIMATO QUESTA LUNGHEZZA?\n",
    "L = 30\n",
    "nskip = int(L/2)\n",
    "nt = int(1)\n",
    "\n",
    "# from top pbl upwards\n",
    "# SOPRA PBL LA LUNGEHZZA DI CORRELAZIONE AUMENTA?\n",
    "# NEL SENSO CHE I SEGNALI HANNO PIù SPAZIO PER PROPAGARSI?\n",
    "Ltop = 150\n",
    "nskiptop = int(Ltop/2)\n",
    "nttop = int(1)\n",
    "\n",
    "# reference population mean\n",
    "popmean = 0."
   ]
  },
  {
   "cell_type": "code",
   "execution_count": 18,
   "id": "97c217e8",
   "metadata": {},
   "outputs": [
    {
     "name": "stdout",
     "output_type": "stream",
     "text": [
      "0\n",
      "10\n",
      "20\n",
      "30\n"
     ]
    }
   ],
   "source": [
    "# PERC DISTRIBUTION dBV_fre vs dSST bin - DAILY + PVALUE SUBSAMPLED height dependent\n",
    "perc_step = 5\n",
    "nbins = int(100/perc_step) # Number of bins.\n",
    "\n",
    "pdist_dsst_day, pdist_dBV_freq_day, pstd_dBV_freq_day, pstderr_dBV_freq_day, pnpoints_dBV_freq_day, ppvalue_dBV_freq_day_sub = \\\n",
    "dist_3d_subsample(dsst_day, dBV_freq_day, perc_step, nbins, popmean, nt, nttop, nskip, nskiptop, top=14, perc_fixbin='perc')"
   ]
  },
  {
   "cell_type": "code",
   "execution_count": 22,
   "id": "113e7a0e",
   "metadata": {
    "collapsed": true
   },
   "outputs": [
    {
     "name": "stdout",
     "output_type": "stream",
     "text": [
      "0\n"
     ]
    },
    {
     "ename": "KeyboardInterrupt",
     "evalue": "",
     "output_type": "error",
     "traceback": [
      "\u001b[0;31m---------------------------------------------------------------------------\u001b[0m",
      "\u001b[0;31mKeyboardInterrupt\u001b[0m                         Traceback (most recent call last)",
      "\u001b[0;32m/tmp/ipykernel_1883674/991468039.py\u001b[0m in \u001b[0;36m<module>\u001b[0;34m\u001b[0m\n\u001b[1;32m      4\u001b[0m \u001b[0;34m\u001b[0m\u001b[0m\n\u001b[1;32m      5\u001b[0m \u001b[0mpdist_dsst_day\u001b[0m\u001b[0;34m,\u001b[0m \u001b[0mpdist_BV_freq\u001b[0m\u001b[0;34m,\u001b[0m \u001b[0mpstd_BV_freq\u001b[0m\u001b[0;34m,\u001b[0m \u001b[0mpstderr_BV_freq\u001b[0m\u001b[0;34m,\u001b[0m \u001b[0mpnpoints_BV_freq\u001b[0m\u001b[0;34m,\u001b[0m \u001b[0mppvalue_BV_freq\u001b[0m\u001b[0;34m,\u001b[0m \u001b[0mppvalue_BV_freq_sub\u001b[0m \u001b[0;34m=\u001b[0m\u001b[0;31m \u001b[0m\u001b[0;31m\\\u001b[0m\u001b[0;34m\u001b[0m\u001b[0;34m\u001b[0m\u001b[0m\n\u001b[0;32m----> 6\u001b[0;31m \u001b[0mdist_3d_subsample\u001b[0m\u001b[0;34m(\u001b[0m\u001b[0mdsst_day\u001b[0m\u001b[0;34m,\u001b[0m \u001b[0mBV_freq\u001b[0m\u001b[0;34m.\u001b[0m\u001b[0mmagnitude\u001b[0m\u001b[0;34m,\u001b[0m \u001b[0mperc_step\u001b[0m\u001b[0;34m,\u001b[0m \u001b[0mnbins\u001b[0m\u001b[0;34m,\u001b[0m \u001b[0mpopmean\u001b[0m\u001b[0;34m,\u001b[0m \u001b[0mnt\u001b[0m\u001b[0;34m,\u001b[0m \u001b[0mnttop\u001b[0m\u001b[0;34m,\u001b[0m \u001b[0mnskip\u001b[0m\u001b[0;34m,\u001b[0m \u001b[0mnskiptop\u001b[0m\u001b[0;34m,\u001b[0m \u001b[0mtop\u001b[0m\u001b[0;34m=\u001b[0m\u001b[0;36m14\u001b[0m\u001b[0;34m,\u001b[0m \u001b[0mperc_fixbin\u001b[0m\u001b[0;34m=\u001b[0m\u001b[0;34m'perc'\u001b[0m\u001b[0;34m)\u001b[0m\u001b[0;34m\u001b[0m\u001b[0;34m\u001b[0m\u001b[0m\n\u001b[0m",
      "\u001b[0;32m~/thesis_material/EURECA_scripts/pdist_fb_distrib_fast.py\u001b[0m in \u001b[0;36mdist_3d_subsample\u001b[0;34m(x, y, perc_step, nbins, popmean, nt, nttop, nskip, nskiptop, top, perc_fixbin)\u001b[0m\n\u001b[1;32m     48\u001b[0m \u001b[0;34m\u001b[0m\u001b[0m\n\u001b[1;32m     49\u001b[0m             \u001b[0;31m##### Perc bin distribution: pvalue\u001b[0m\u001b[0;34m\u001b[0m\u001b[0;34m\u001b[0m\u001b[0;34m\u001b[0m\u001b[0m\n\u001b[0;32m---> 50\u001b[0;31m             \u001b[0mdist_x\u001b[0m\u001b[0;34m,\u001b[0m \u001b[0mdist_y\u001b[0m\u001b[0;34m[\u001b[0m\u001b[0mh\u001b[0m\u001b[0;34m]\u001b[0m\u001b[0;34m,\u001b[0m \u001b[0mstd_y\u001b[0m\u001b[0;34m[\u001b[0m\u001b[0mh\u001b[0m\u001b[0;34m]\u001b[0m\u001b[0;34m,\u001b[0m \u001b[0mstderr_y\u001b[0m\u001b[0;34m[\u001b[0m\u001b[0mh\u001b[0m\u001b[0;34m]\u001b[0m\u001b[0;34m,\u001b[0m \u001b[0mnpoints_y\u001b[0m\u001b[0;34m[\u001b[0m\u001b[0mh\u001b[0m\u001b[0;34m]\u001b[0m\u001b[0;34m,\u001b[0m \u001b[0mpvalue_y\u001b[0m\u001b[0;34m[\u001b[0m\u001b[0mh\u001b[0m\u001b[0;34m]\u001b[0m \u001b[0;34m=\u001b[0m \u001b[0mperc_distribution_pvalue\u001b[0m\u001b[0;34m(\u001b[0m\u001b[0mcontrol\u001b[0m\u001b[0;34m,\u001b[0m \u001b[0mvariable\u001b[0m\u001b[0;34m,\u001b[0m \u001b[0mnbins\u001b[0m\u001b[0;34m,\u001b[0m \u001b[0mperc_step\u001b[0m\u001b[0;34m,\u001b[0m \u001b[0mpopmean\u001b[0m\u001b[0;34m)\u001b[0m\u001b[0;34m\u001b[0m\u001b[0;34m\u001b[0m\u001b[0m\n\u001b[0m\u001b[1;32m     51\u001b[0m \u001b[0;34m\u001b[0m\u001b[0m\n\u001b[1;32m     52\u001b[0m             \u001b[0;31m##### Perc bin distribution: pvalue subsampled on Lcorr\u001b[0m\u001b[0;34m\u001b[0m\u001b[0;34m\u001b[0m\u001b[0;34m\u001b[0m\u001b[0m\n",
      "\u001b[0;32m~/thesis_material/EURECA_scripts/plotdistr.py\u001b[0m in \u001b[0;36mperc_distribution_pvalue\u001b[0;34m(control, variable, nbins, perc_step, popmean)\u001b[0m\n\u001b[1;32m    164\u001b[0m         \u001b[0mstd_distribution\u001b[0m\u001b[0;34m[\u001b[0m\u001b[0mqq\u001b[0m\u001b[0;34m]\u001b[0m \u001b[0;34m=\u001b[0m \u001b[0mcond_std\u001b[0m\u001b[0;34m\u001b[0m\u001b[0;34m\u001b[0m\u001b[0m\n\u001b[1;32m    165\u001b[0m         \u001b[0mdistribution_control\u001b[0m\u001b[0;34m[\u001b[0m\u001b[0mqq\u001b[0m\u001b[0;34m]\u001b[0m \u001b[0;34m=\u001b[0m \u001b[0mcond_mean_control\u001b[0m\u001b[0;31m#-mean_control\u001b[0m\u001b[0;34m\u001b[0m\u001b[0;34m\u001b[0m\u001b[0m\n\u001b[0;32m--> 166\u001b[0;31m         \u001b[0mnumber_of_points\u001b[0m\u001b[0;34m[\u001b[0m\u001b[0mqq\u001b[0m\u001b[0;34m]\u001b[0m \u001b[0;34m=\u001b[0m \u001b[0mnp\u001b[0m\u001b[0;34m.\u001b[0m\u001b[0msum\u001b[0m\u001b[0;34m(\u001b[0m\u001b[0;34m~\u001b[0m\u001b[0mnp\u001b[0m\u001b[0;34m.\u001b[0m\u001b[0misnan\u001b[0m\u001b[0;34m(\u001b[0m\u001b[0mvariable\u001b[0m\u001b[0;34m[\u001b[0m\u001b[0;34m(\u001b[0m\u001b[0mcontrol\u001b[0m\u001b[0;34m>=\u001b[0m\u001b[0mlower\u001b[0m\u001b[0;34m)\u001b[0m\u001b[0;34m&\u001b[0m\u001b[0;34m(\u001b[0m\u001b[0mcontrol\u001b[0m\u001b[0;34m<\u001b[0m\u001b[0mupper\u001b[0m\u001b[0;34m)\u001b[0m\u001b[0;34m]\u001b[0m\u001b[0;34m)\u001b[0m\u001b[0;34m)\u001b[0m\u001b[0;34m\u001b[0m\u001b[0;34m\u001b[0m\u001b[0m\n\u001b[0m\u001b[1;32m    167\u001b[0m         \u001b[0mstd_err_distribution\u001b[0m\u001b[0;34m[\u001b[0m\u001b[0mqq\u001b[0m\u001b[0;34m]\u001b[0m \u001b[0;34m=\u001b[0m \u001b[0mstd_distribution\u001b[0m\u001b[0;34m[\u001b[0m\u001b[0mqq\u001b[0m\u001b[0;34m]\u001b[0m\u001b[0;34m/\u001b[0m\u001b[0mnp\u001b[0m\u001b[0;34m.\u001b[0m\u001b[0msqrt\u001b[0m\u001b[0;34m(\u001b[0m\u001b[0mnumber_of_points\u001b[0m\u001b[0;34m[\u001b[0m\u001b[0mqq\u001b[0m\u001b[0;34m]\u001b[0m\u001b[0;34m)\u001b[0m\u001b[0;34m\u001b[0m\u001b[0;34m\u001b[0m\u001b[0m\n\u001b[1;32m    168\u001b[0m \u001b[0;34m\u001b[0m\u001b[0m\n",
      "\u001b[0;31mKeyboardInterrupt\u001b[0m: "
     ]
    }
   ],
   "source": [
    "# PERC DISTRIBUTION BV_fre vs dSST bin - DAILY + PVALUE SUBSAMPLED height dependent\n",
    "perc_step = 5\n",
    "nbins = int(100/perc_step) # Number of bins.\n",
    "\n",
    "pdist_dsst_day, pdist_BV_freq, pstd_BV_freq, pstderr_BV_freq, pnpoints_BV_freq, ppvalue_BV_freq_sub = \\\n",
    "dist_3d_subsample(dsst_day, BV_freq.magnitude, perc_step, nbins, popmean, nt, nttop, nskip, nskiptop, top=14, perc_fixbin='perc')"
   ]
  },
  {
   "cell_type": "code",
   "execution_count": 82,
   "id": "308a9858",
   "metadata": {},
   "outputs": [],
   "source": []
  },
  {
   "cell_type": "code",
   "execution_count": null,
   "id": "4332d8db",
   "metadata": {},
   "outputs": [],
   "source": [
    "# FIXED BIN DISTRIBUTIONS"
   ]
  },
  {
   "cell_type": "code",
   "execution_count": 19,
   "id": "a2d0c4e3",
   "metadata": {},
   "outputs": [
    {
     "name": "stdout",
     "output_type": "stream",
     "text": [
      "0\n",
      "10\n",
      "20\n",
      "30\n"
     ]
    }
   ],
   "source": [
    "# FB DISTRIBUTION dBV_freq vs dSST bin - DAILY + PVALUE subsampled\n",
    "\n",
    "perc_step = 5\n",
    "nbins = int(100/perc_step) # Number of bins.\n",
    "popmean = 0\n",
    "\n",
    "dist_dsst_day, dist_dBV_freq_day, std_dBV_freq_day, stderr_dBV_freq_day, npoints_dBV_freq_day, pvalue_dBV_freq_day_sub = \\\n",
    "dist_3d_subsample(dsst_day, dBV_freq_day, perc_step, nbins, popmean, nt, nttop, nskip, nskiptop, top=14, perc_fixbin='fb')"
   ]
  },
  {
   "cell_type": "code",
   "execution_count": 104,
   "id": "f7f7e71d",
   "metadata": {},
   "outputs": [
    {
     "name": "stdout",
     "output_type": "stream",
     "text": [
      "0\n",
      "10\n",
      "20\n",
      "30\n"
     ]
    }
   ],
   "source": [
    "# FB DISTRIBUTION BV vs dSST bin - DAILY + PVALUE subsampled\n",
    "perc_step = 5\n",
    "nbins = int(100/perc_step) # Number of bins.\n",
    "\n",
    "dist_dsst_day, dist_BV_freq, std_BV_freq, stderr_BV_freq, npoints_BV_freq, pvalue_BV_freq_sub = \\\n",
    "dist_3d_subsample(dsst_day, BV_freq.magnitude, perc_step, nbins, popmean, nt, nttop, nskip, nskiptop, top=14, 'fb')"
   ]
  },
  {
   "cell_type": "code",
   "execution_count": null,
   "id": "d058e5ca",
   "metadata": {},
   "outputs": [],
   "source": []
  },
  {
   "cell_type": "code",
   "execution_count": null,
   "id": "ca18dc25",
   "metadata": {},
   "outputs": [],
   "source": []
  },
  {
   "cell_type": "code",
   "execution_count": 47,
   "id": "d9460f01",
   "metadata": {},
   "outputs": [
    {
     "name": "stdout",
     "output_type": "stream",
     "text": [
      "file already exists - DELETING IT\n"
     ]
    }
   ],
   "source": [
    "# save distributions data\n",
    "perc = True\n",
    "\n",
    "\n",
    "path_to_data = '/venus/tesi_ale/results_EU/distributions/FEB/'\n",
    "filename = path_to_data + 'perc/BV/' if perc else path_to_data + 'fix_bin/BV/'\n",
    "\n",
    "x_perc = [pdist_dsst_day, pdist_dBV_freq_day, pstd_dBV_freq_day, pstderr_dBV_freq_day, pnpoints_dBV_freq_day, ppvalue_dBV_freq_day_sub]\n",
    "x_bins = [dist_dsst_day, dist_dBV_freq_day, std_dBV_freq_day, stderr_dBV_freq_day, npoints_dBV_freq_day, pvalue_dBV_freq_day_sub]\n",
    "\n",
    "filename += 'pdist_dBV_dsst_day_feb.npy' if perc else 'dist_dBV_dsst_day_feb.npy'\n",
    "\n",
    "\n",
    "# CHECK IF FILE ALREADY EXISTS - DELETE IF SO\n",
    "if os.path.exists(filename):\n",
    "    print('file already exists - DELETING IT')\n",
    "    os.remove(filename)\n",
    "\n",
    "if perc:\n",
    "    for x in x_perc:\n",
    "         np.save(filename, x)\n",
    "else:\n",
    "    for x in x_bins:\n",
    "         np.save(filename, x)\n",
    "\n",
    "del filename"
   ]
  },
  {
   "cell_type": "code",
   "execution_count": null,
   "id": "110d4b2b",
   "metadata": {},
   "outputs": [],
   "source": []
  },
  {
   "cell_type": "code",
   "execution_count": null,
   "id": "961b0bb7",
   "metadata": {},
   "outputs": [],
   "source": []
  },
  {
   "cell_type": "code",
   "execution_count": null,
   "id": "b6e74605",
   "metadata": {},
   "outputs": [],
   "source": []
  },
  {
   "cell_type": "code",
   "execution_count": null,
   "id": "22536f91",
   "metadata": {},
   "outputs": [],
   "source": []
  },
  {
   "cell_type": "code",
   "execution_count": null,
   "id": "00fada06",
   "metadata": {},
   "outputs": [],
   "source": [
    "# correlations with PBLH"
   ]
  },
  {
   "cell_type": "code",
   "execution_count": 26,
   "id": "87c01e57",
   "metadata": {},
   "outputs": [],
   "source": [
    "wrf_hourly = path + 'Caraibes_WRF_3h_surf.nc'\n",
    "ds_hourly = xr.open_dataset(wrf_hourly)\n",
    "ds_hourly = ds_hourly.sel(time_counter=slice('2020-02-01T01:30:00.000000000', '2020-03-01T01:30:00.000000000'))"
   ]
  },
  {
   "cell_type": "code",
   "execution_count": 27,
   "id": "3039f959",
   "metadata": {},
   "outputs": [],
   "source": [
    "PBLH_day = ds_hourly['PBLH'].groupby('time_counter.day').mean()\n",
    "PBLH_day = PBLH_day.where(sea_mask, drop=False).values;"
   ]
  },
  {
   "cell_type": "code",
   "execution_count": 28,
   "id": "c51dac9b",
   "metadata": {},
   "outputs": [
    {
     "name": "stdout",
     "output_type": "stream",
     "text": [
      "0\n",
      "10\n",
      "20\n"
     ]
    }
   ],
   "source": [
    "dPBLH_day = np.zeros(PBLH_day.shape)\n",
    "\n",
    "for t in range(0,sst_day.shape[0]):\n",
    "    if t % 10 == 0:\n",
    "        print(t)\n",
    "    PBLH_ave = gm.nan_gaussian_filter(PBLH_day[t],s)\n",
    "    dPBLH_day[t] = PBLH_day[t] - PBLH_ave"
   ]
  },
  {
   "cell_type": "code",
   "execution_count": null,
   "id": "a5f66581",
   "metadata": {},
   "outputs": [],
   "source": []
  },
  {
   "cell_type": "code",
   "execution_count": null,
   "id": "7fc77378",
   "metadata": {},
   "outputs": [],
   "source": []
  },
  {
   "cell_type": "code",
   "execution_count": null,
   "id": "af58701f",
   "metadata": {},
   "outputs": [],
   "source": []
  },
  {
   "cell_type": "code",
   "execution_count": 20,
   "id": "fafc0f85",
   "metadata": {},
   "outputs": [],
   "source": [
    "# PERC DISTRIBUTION    +   \n",
    "perc_step = 5\n",
    "nbins = int(100/perc_step) # Number of bins.\n",
    "\n",
    "# # dPBLH vs dSST - DAILY\n",
    "# pdist_dsst_day, pdist_dPBLH_day, pstd_dPBLH_day, pstderr_dPBLH_day, pnpoints_dPBLH_day, ppvalue_dPBLH_day = \\\n",
    "# distrib_2d(dsst_day, dPBLH_day, perc_step, nbins, popmean, 'perc')\n",
    "\n",
    "# dSST vs PBLH \n",
    "pdist_dsst, pdist_PBLH_dsst, pstd_PBLH_dsst, pstd_err_PBLH_dsst, pnpoints_PBLH_dsst, ppvalue_PBLH_dsst = \\\n",
    "distrib_2d(dsst_day, PBLH_day, perc_step, nbins, popmean, perc_fixbin='perc')\n"
   ]
  },
  {
   "cell_type": "code",
   "execution_count": 21,
   "id": "e4606194",
   "metadata": {},
   "outputs": [],
   "source": [
    "# FB DISTRIBUTION dPBLH vs dSST bin - DAILY \n",
    "perc_step = 5\n",
    "nbins = int(100/perc_step) # Number of bins.\n",
    "\n",
    "\n",
    "# # dPBLH vs dSST - DAILY\n",
    "# dist_dsst_day, dist_dPBLH_day, std_dPBLH_day, stderr_dPBLH_day, pvalue_dPBLH_day = \\\n",
    "# distrib_2d(dsst_day, dPBLH_day, perc_step, nbins, popmean, 'fb')\n",
    "\n",
    "# dSST vs PBLH \n",
    "dist_dsst, dist_PBLH_dsst, std_PBLH_dsst, std_err_PBLH_dsst, npoints_PBLH_dsst, pvalue_PBLH_dsst = \\\n",
    "distrib_2d(dsst_day, PBLH_day, perc_step, nbins, popmean, perc_fixbin='fb')\n"
   ]
  },
  {
   "cell_type": "code",
   "execution_count": null,
   "id": "65892366",
   "metadata": {},
   "outputs": [],
   "source": []
  },
  {
   "cell_type": "code",
   "execution_count": null,
   "id": "6cad77d8",
   "metadata": {},
   "outputs": [],
   "source": []
  },
  {
   "cell_type": "code",
   "execution_count": 50,
   "id": "c431b895",
   "metadata": {
    "scrolled": true
   },
   "outputs": [
    {
     "data": {
      "image/png": "[encoded data removed]",
      "text/plain": [
       "<Figure size 1000x500 with 2 Axes>"
      ]
     },
     "metadata": {},
     "output_type": "display_data"
    }
   ],
   "source": [
    "# figure dBV or BV vs dSST bin - DAILY\n",
    "p_level_plot = int(18)\n",
    "\n",
    "perc = False\n",
    "x = pdist_dsst_day if perc else dist_dsst_day\n",
    "var = pdist_dBV_freq_day[0:p_level_plot,:]*1000 if perc else dist_dBV_freq_day[0:p_level_plot,:]*1000\n",
    "minval = -0.025 if perc else -0.05\n",
    "maxval = -minval\n",
    "title = 'Percentiles' if perc else 'Fixed bins'\n",
    "\n",
    "fig, ax1 = plt.subplots(figsize=(10, 5))  \n",
    "p1 = ax1.pcolormesh(x, GPH_mean[0:p_level_plot], var, vmin=minval, vmax=maxval, cmap='seismic') #pdist_dqvapor_dsst_day\n",
    "ax1.set_xlabel('SST anomalies [˚C]'); ax1.set_ylabel('GPH [m]')\n",
    "plt.title(f'{title} - daily dSST vs dBV and PBLH')\n",
    "cbar = plt.colorbar(p1,ax=ax1, location='right', shrink=0.8, extend='both')  \n",
    "cbar.set_label('$N^2$ anoms [$10^3 \\cdot s^{-2}$]')\n",
    "\n",
    "\n",
    "x_pbl = pdist_dsst if perc else dist_dsst\n",
    "var_pbl = pdist_PBLH_dsst if perc else dist_PBLH_dsst\n",
    "ax1.plot(x_pbl, var_pbl, 'k')\n",
    "ax1.text(0.4, 755, 'PBLH', fontsize=12)\n",
    "\n",
    "\n",
    "\n",
    "# DEF punti significativi (pvalue < 0.05)\n",
    "pval = ppvalue_dBV_freq_day_sub[0:p_level_plot] if perc else pvalue_dBV_freq_day_sub[0:p_level_plot]\n",
    "GPbin = GPH_mean[1:p_level_plot] - np.diff(GPH_mean[0:p_level_plot])*0.5\n",
    "signif_Lcorr_H = np.zeros((len(GPH_mean[0:p_level_plot])-1,len(x)-1))\n",
    "dsstbin = np.zeros((len(GPH_mean[0:p_level_plot])-1,len(x)-1))\n",
    "for h in range(0,len(GPH_mean[0:p_level_plot])-1):\n",
    "    cond1 = pval[h,:-1] > 0.05\n",
    "    cond2 = np.abs(var[h,:-1]) < 0.1*np.nanmean(np.abs(var))\n",
    "    cond = (cond1) | (cond2)\n",
    "#     cond = cond1\n",
    "    signif_Lcorr_H[h,:] = np.zeros(len(x)-1) + np.nan\n",
    "    signif_Lcorr_H[h, cond] = GPbin[h]\n",
    "    dsstbin[h,:] = x[1:] - np.diff(x)*0.5\n",
    "    \n",
    "plt.scatter(dsstbin,signif_Lcorr_H,  s=0.7, color='k')\n",
    "\n",
    "\n",
    "path_img = '/venus/tesi_ale/img_EU/BV/daily/distrib/perc/FEB/' if perc else '/venus/tesi_ale/img_EU/BV/daily/distrib/fix_bin/FEB/'\n",
    "filename = path_img + 'pdist_dsst_dBV_lowtropo.png' if perc else path_img + 'bins_dsst_dBV_lowtropo.png'\n",
    "#plt.savefig(filename)\n",
    "#print(filename)\n",
    "del filename"
   ]
  },
  {
   "cell_type": "code",
   "execution_count": null,
   "id": "7b897b8e",
   "metadata": {},
   "outputs": [],
   "source": []
  },
  {
   "cell_type": "code",
   "execution_count": null,
   "id": "3ccd3375",
   "metadata": {},
   "outputs": [],
   "source": []
  },
  {
   "cell_type": "code",
   "execution_count": null,
   "id": "b28752bd",
   "metadata": {},
   "outputs": [],
   "source": [
    "#######   SEE BEHAVIOUR OF SURFACE HEAT FLUXES"
   ]
  },
  {
   "cell_type": "code",
   "execution_count": 60,
   "id": "a02392be",
   "metadata": {},
   "outputs": [],
   "source": [
    "LH = ds_hourly['LH'].groupby('time_counter.day').mean()            \n",
    "LH = LH.where(sea_mask, drop=False).values; \n",
    "\n",
    "HFX = ds_hourly['HFX'].groupby('time_counter.day').mean()            \n",
    "HFX = HFX.where(sea_mask, drop=False).values; "
   ]
  },
  {
   "cell_type": "code",
   "execution_count": 14,
   "id": "cb712e58",
   "metadata": {},
   "outputs": [],
   "source": [
    "# this should be the Bowen ratio at the surface\n",
    "heat_ratio = LH/HFX\n",
    "heat_ratio[HFX==0] = 999."
   ]
  },
  {
   "cell_type": "code",
   "execution_count": null,
   "id": "28560654",
   "metadata": {},
   "outputs": [],
   "source": [
    "# heat anomalies"
   ]
  },
  {
   "cell_type": "code",
   "execution_count": 61,
   "id": "c1c413fe",
   "metadata": {},
   "outputs": [
    {
     "name": "stdout",
     "output_type": "stream",
     "text": [
      "0\n",
      "10\n",
      "20\n"
     ]
    }
   ],
   "source": [
    "s = 100\n",
    "\n",
    "dLH = np.zeros(LH.shape)\n",
    "dHFX = np.zeros(HFX.shape)\n",
    "\n",
    "for t in range(0,LH.shape[0]):\n",
    "    if t % 10 == 0:\n",
    "        print(t)\n",
    "    # upscale using gaussian filter\n",
    "    LH_ave = gm.nan_gaussian_filter(LH[t],s)                             \n",
    "    dLH[t] = LH[t] - LH_ave\n",
    "    \n",
    "    HFX_ave = gm.nan_gaussian_filter(HFX[t],s)                             \n",
    "    dHFX[t] = HFX[t] - HFX_ave"
   ]
  },
  {
   "cell_type": "code",
   "execution_count": null,
   "id": "cbf91f0f",
   "metadata": {},
   "outputs": [],
   "source": []
  },
  {
   "cell_type": "code",
   "execution_count": null,
   "id": "1ea161ba",
   "metadata": {},
   "outputs": [],
   "source": [
    "# DISTRIBUTIONS"
   ]
  },
  {
   "cell_type": "code",
   "execution_count": 62,
   "id": "f44b24c9",
   "metadata": {},
   "outputs": [],
   "source": [
    "perc_step = 5\n",
    "nbins = int(100/perc_step) # Number of bins.\n",
    "popmean = 0"
   ]
  },
  {
   "cell_type": "code",
   "execution_count": null,
   "id": "91336761",
   "metadata": {},
   "outputs": [],
   "source": []
  },
  {
   "cell_type": "code",
   "execution_count": null,
   "id": "f8aabe24",
   "metadata": {},
   "outputs": [],
   "source": []
  },
  {
   "cell_type": "code",
   "execution_count": null,
   "id": "96acd0bd",
   "metadata": {},
   "outputs": [],
   "source": [
    "# visualizing "
   ]
  },
  {
   "cell_type": "code",
   "execution_count": null,
   "id": "1629bd07",
   "metadata": {},
   "outputs": [],
   "source": []
  },
  {
   "cell_type": "code",
   "execution_count": null,
   "id": "e4f1b772",
   "metadata": {},
   "outputs": [],
   "source": []
  },
  {
   "cell_type": "code",
   "execution_count": null,
   "id": "ee41ba6a",
   "metadata": {},
   "outputs": [],
   "source": []
  },
  {
   "cell_type": "code",
   "execution_count": null,
   "id": "c7dc3de8",
   "metadata": {},
   "outputs": [],
   "source": [
    "# dSST vs dLH / dHFX vs PBLH"
   ]
  },
  {
   "cell_type": "code",
   "execution_count": 63,
   "id": "745b93c1",
   "metadata": {},
   "outputs": [],
   "source": [
    "# I want to build distributions for \n",
    "# dsst and dbuoya\n",
    "# without taking up too much space\n",
    "\n",
    "\n",
    "dsst_bool = True\n",
    "x = dsst_day if dsst_bool else dbuoya_day"
   ]
  },
  {
   "cell_type": "code",
   "execution_count": null,
   "id": "bf9934e5",
   "metadata": {},
   "outputs": [],
   "source": []
  },
  {
   "cell_type": "code",
   "execution_count": null,
   "id": "983cc0a4",
   "metadata": {},
   "outputs": [],
   "source": [
    "#########    LH     #########"
   ]
  },
  {
   "cell_type": "code",
   "execution_count": 64,
   "id": "d764d099",
   "metadata": {},
   "outputs": [],
   "source": [
    "# dSST vs dLH\n",
    "pdist_x, pdist_dLH, pstd_dLH, pstderr_dLH, pnpoints_dLH, ppvalue_dLH =   distrib_2d(x, dLH, perc_step, nbins, popmean, perc_fixbin='perc')\n",
    "dist_x, dist_dLH, std_dLH, stderr_dLH, npoints_dLH, pvalue_dLH       =   distrib_2d(x, dLH, perc_step, nbins, popmean, perc_fixbin='fb')"
   ]
  },
  {
   "cell_type": "code",
   "execution_count": 65,
   "id": "0f3e72e4",
   "metadata": {},
   "outputs": [],
   "source": [
    "# SST vs LH\n",
    "pdist_sst, pdist_LH, pstd_LH, pstderr_LH, pnpoints_LH, ppvalue_LH =   distrib_2d(sst_day, LH, perc_step, nbins, popmean, perc_fixbin='perc')\n",
    "dist_sst, dist_LH, std_LH, stderr_LH, npoints_LH, pvalue_LH       =   distrib_2d(sst_day, LH, perc_step, nbins, popmean, perc_fixbin='fb')"
   ]
  },
  {
   "cell_type": "code",
   "execution_count": null,
   "id": "b5a36851",
   "metadata": {},
   "outputs": [],
   "source": []
  },
  {
   "cell_type": "code",
   "execution_count": null,
   "id": "fe9746e3",
   "metadata": {},
   "outputs": [],
   "source": [
    "#########    HFX     #########"
   ]
  },
  {
   "cell_type": "code",
   "execution_count": 66,
   "id": "f0aad64f",
   "metadata": {},
   "outputs": [],
   "source": [
    "# dSST vs dHFX\n",
    "pdist_x, pdist_dHFX, pstd_dHFX, pstderr_dHFX, pnpoints_dHFX, ppvalue_dHFX =   distrib_2d(x, dHFX, perc_step, nbins, popmean, perc_fixbin='perc')\n",
    "dist_x, dist_dHFX, std_dHFX, stderr_dHFX, npoints_dHFX, pvalue_dHFX       =   distrib_2d(x, dHFX, perc_step, nbins, popmean, perc_fixbin='fb')"
   ]
  },
  {
   "cell_type": "code",
   "execution_count": 67,
   "id": "2f558a89",
   "metadata": {},
   "outputs": [],
   "source": [
    "# SST vs HFX\n",
    "pdist_sst, pdist_HFX, pstd_HFX, pstderr_HFX, pnpoints_HFX, ppvalue_HFX =   distrib_2d(sst_day, HFX, perc_step, nbins, popmean, perc_fixbin='perc')\n",
    "dist_sst, dist_HFX, std_HFX, stderr_HFX, npoints_HFX, pvalue_HFX       =   distrib_2d(sst_day, HFX, perc_step, nbins, popmean, perc_fixbin='fb')"
   ]
  },
  {
   "cell_type": "code",
   "execution_count": null,
   "id": "bde42fc4",
   "metadata": {},
   "outputs": [],
   "source": []
  },
  {
   "cell_type": "code",
   "execution_count": null,
   "id": "99b6c77b",
   "metadata": {},
   "outputs": [],
   "source": [
    "#########    PBLH     #########"
   ]
  },
  {
   "cell_type": "code",
   "execution_count": 42,
   "id": "420c1906",
   "metadata": {},
   "outputs": [],
   "source": [
    "# dSST vs dPBLH\n",
    "pdist_x, pdist_dPBLH, pstd_dPBLH, pstderr_dPBLH, pnpoints_dPBLH, ppvalue_dPBLH =   distrib_2d(x, dPBLH_day, perc_step, nbins, popmean, perc_fixbin='perc')\n",
    "dist_x, dist_dPBLH, std_dPBLH, stderr_dPBLH, npoints_dPBLH, pvalue_dPBLH       =   distrib_2d(x, dPBLH_day, perc_step, nbins, popmean, perc_fixbin='fb')\n"
   ]
  },
  {
   "cell_type": "code",
   "execution_count": 47,
   "id": "b9fb6a28",
   "metadata": {},
   "outputs": [
    {
     "data": {
      "text/plain": [
       "array([1.700000e+01, 3.600000e+01, 6.100000e+01, 9.600000e+01,\n",
       "       1.420000e+02, 2.000000e+02, 5.370000e+02, 1.114000e+03,\n",
       "       1.996000e+03, 3.993000e+03, 3.068900e+04, 9.682400e+04,\n",
       "       1.726550e+05, 3.833020e+05, 2.467399e+06, 2.335781e+06,\n",
       "       2.541170e+05, 9.289500e+04, 4.131900e+04, 7.161000e+03])"
      ]
     },
     "execution_count": 47,
     "metadata": {},
     "output_type": "execute_result"
    }
   ],
   "source": [
    "# the last, highest dSST / dLH bin\n",
    "# is actually one of the most populated\n",
    "\n",
    "npoints_dPBLH"
   ]
  },
  {
   "cell_type": "code",
   "execution_count": 45,
   "id": "f76f3260",
   "metadata": {},
   "outputs": [],
   "source": [
    "# dSST vs PBLH\n",
    "pdist_x, pdist_PBLH, pstd_PBLH, pstderr_PBLH, pnpoints_PBLH, ppvalue_PBLH =   distrib_2d(x, PBLH_day, perc_step, nbins, popmean, perc_fixbin='perc')\n",
    "dist_x, dist_PBLH, std_PBLH, stderr_PBLH, npoints_PBLH, pvalue_PBLH       =   distrib_2d(x, PBLH_day, perc_step, nbins, popmean, perc_fixbin='fb')"
   ]
  },
  {
   "cell_type": "code",
   "execution_count": null,
   "id": "04a24cec",
   "metadata": {},
   "outputs": [],
   "source": []
  },
  {
   "cell_type": "code",
   "execution_count": null,
   "id": "c85f9fb5",
   "metadata": {},
   "outputs": [],
   "source": []
  },
  {
   "cell_type": "code",
   "execution_count": null,
   "id": "0f0d8a48",
   "metadata": {},
   "outputs": [],
   "source": [
    "#### PLOTTING"
   ]
  },
  {
   "cell_type": "code",
   "execution_count": 76,
   "id": "39a488da",
   "metadata": {},
   "outputs": [
    {
     "name": "stdout",
     "output_type": "stream",
     "text": [
      "/venus/tesi_ale/img_EU/LH/daily/FEB/sst_LH_distribs.png\n"
     ]
    },
    {
     "data": {
      "image/png": "[encoded data removed]",
      "text/plain": [
       "<Figure size 640x480 with 2 Axes>"
      ]
     },
     "metadata": {},
     "output_type": "display_data"
    }
   ],
   "source": [
    "# dist_x vs dLH\n",
    "\n",
    "fig, (ax1, ax2) = plt.subplots(1, 2)\n",
    "\n",
    "full = True\n",
    "title = 'SST vs LH daily' if full else 'dSST vs dLH daily'\n",
    "xlabel = 'SST [$^{\\circ}C$]' if full else 'dSST [$^{\\circ}C$]'\n",
    "ylabel = 'LH [$Wm^{-2}$]' if full else 'dLH [$Wm^{-2}$]'\n",
    "\n",
    "x_p = pdist_sst-273.15 if full else pdist_x \n",
    "var_p = pdist_LH if full else pdist_dLH\n",
    "\n",
    "p1 = ax1.plot(x_p, var_p, '*-r')       \n",
    "ax1.set_xlabel(xlabel)\n",
    "ax1.set_ylabel(ylabel)\n",
    "ax1.set_title(f'Percentiles - {title} '); ax1.grid()\n",
    "\n",
    "\n",
    "\n",
    "x_fb = dist_sst-273.15 if full else dist_x \n",
    "var_fb = dist_LH if full else dist_dLH\n",
    "\n",
    "p2 = ax2.plot(x_fb, var_fb, '*-b')              \n",
    "ax2.set_xlabel(xlabel)\n",
    "ax2.set_title(f'Bins - {title}'); ax2.grid()\n",
    "\n",
    "\n",
    "plt.subplots_adjust(wspace=0.4, \n",
    "                    hspace=0.3)\n",
    "\n",
    "\n",
    "\n",
    "path_img = '/venus/tesi_ale/img_EU/LH/daily/FEB/' #if perc else '/venus/tesi_ale/img_EU/LH/daily/fix_bin/FEB/'\n",
    "filename = path_img + 'sst_LH_distribs.png' if full else path_img + 'dsst_dLH_distribs.png'\n",
    "#plt.savefig(filename)\n",
    "print(filename)\n",
    "del filename"
   ]
  },
  {
   "cell_type": "code",
   "execution_count": 79,
   "id": "0e44bacc",
   "metadata": {},
   "outputs": [
    {
     "name": "stdout",
     "output_type": "stream",
     "text": [
      "/venus/tesi_ale/img_EU/HFX/daily/FEB/sst_HFX_distribs.png\n"
     ]
    },
    {
     "data": {
      "image/png": "[encoded data removed]",
      "text/plain": [
       "<Figure size 640x480 with 2 Axes>"
      ]
     },
     "metadata": {},
     "output_type": "display_data"
    }
   ],
   "source": [
    "# dist_x vs dHFX\n",
    "\n",
    "fig, (ax1, ax2) = plt.subplots(1, 2)\n",
    "\n",
    "full = True\n",
    "title = 'SST vs HFX daily' if full else 'dSST vs dHFX daily'\n",
    "xlabel = 'SST [$^{\\circ}C$]' if full else 'dSST [$^{\\circ}C$]'\n",
    "ylabel = 'HFX [$Wm^{-2}$]' if full else 'dHFX [$Wm^{-2}$]'\n",
    "\n",
    "x_p = pdist_sst-273.15 if full else pdist_x \n",
    "var_p = pdist_HFX if full else pdist_dHFX\n",
    "\n",
    "p1 = ax1.plot(x_p, var_p, '*-r')       \n",
    "ax1.set_xlabel(xlabel)\n",
    "ax1.set_ylabel(ylabel)\n",
    "ax1.set_title(f'Percentiles - {title} '); ax1.grid()\n",
    "\n",
    "\n",
    "\n",
    "x_fb = dist_sst-273.15 if full else dist_x \n",
    "var_fb = dist_HFX if full else dist_dHFX\n",
    "\n",
    "p2 = ax2.plot(x_fb, var_fb, '*-b')              \n",
    "ax2.set_xlabel(xlabel)\n",
    "ax2.set_title(f'Bins - {title}'); ax2.grid()\n",
    "\n",
    "\n",
    "plt.subplots_adjust(wspace=0.4, \n",
    "                    hspace=0.3)\n",
    "\n",
    "\n",
    "path_img = '/venus/tesi_ale/img_EU/HFX/daily/FEB/' #if perc else '/venus/tesi_ale/img_EU/LH/daily/fix_bin/FEB/'\n",
    "filename = path_img + 'sst_HFX_distribs.png' if full else path_img + 'dsst_dHFX_distribs.png'\n",
    "#plt.savefig(filename)\n",
    "print(filename)\n",
    "del filename"
   ]
  },
  {
   "cell_type": "code",
   "execution_count": 43,
   "id": "640b4c4a",
   "metadata": {},
   "outputs": [
    {
     "data": {
      "image/png": "[encoded data removed]",
      "text/plain": [
       "<Figure size 640x480 with 2 Axes>"
      ]
     },
     "metadata": {},
     "output_type": "display_data"
    }
   ],
   "source": [
    "# dLH vs dPBLH\n",
    "\n",
    "fig, (ax1, ax2) = plt.subplots(1, 2)\n",
    "\n",
    "p1 = ax1.plot(pdist_dLH, pdist_dPBLH, '*-r')\n",
    "ax1.set_xlabel('dLH [$Wm^{-2}$]')\n",
    "ax1.set_ylabel('dPBHL [m]')\n",
    "ax1.set_title('Percentiles - dLH vs dPBLH daily'); ax1.grid()\n",
    "\n",
    "p2 = ax2.plot(dist_dLH, dist_dPBLH, '*-b')\n",
    "ax2.set_xlabel('dLH [$Wm^{-2}$]')\n",
    "ax2.set_title('Bins - dLH vs dPBLH daily'); ax2.grid()\n",
    "\n",
    "\n",
    "plt.subplots_adjust(wspace=0.4, \n",
    "                    hspace=0.3)"
   ]
  },
  {
   "cell_type": "code",
   "execution_count": null,
   "id": "6f99df9b",
   "metadata": {},
   "outputs": [],
   "source": []
  },
  {
   "cell_type": "code",
   "execution_count": null,
   "id": "c5bc520b",
   "metadata": {},
   "outputs": [],
   "source": [
    "#### DISTRIBUTIONS  HF  vs   DIV_U?"
   ]
  },
  {
   "cell_type": "code",
   "execution_count": null,
   "id": "8c5d6f8a",
   "metadata": {},
   "outputs": [],
   "source": []
  },
  {
   "cell_type": "code",
   "execution_count": null,
   "id": "933da7c3",
   "metadata": {},
   "outputs": [],
   "source": []
  }
 ],
 "metadata": {
  "kernelspec": {
   "display_name": "Python 3 (ipykernel)",
   "language": "python",
   "name": "python3"
  },
  "language_info": {
   "codemirror_mode": {
    "name": "ipython",
    "version": 3
   },
   "file_extension": ".py",
   "mimetype": "text/x-python",
   "name": "python",
   "nbconvert_exporter": "python",
   "pygments_lexer": "ipython3",
   "version": "3.7.11"
  }
 },
 "nbformat": 4,
 "nbformat_minor": 5
}
