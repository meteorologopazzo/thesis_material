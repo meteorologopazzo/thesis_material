{
 "cells": [
  {
   "cell_type": "code",
   "execution_count": 1,
   "id": "45338470",
   "metadata": {},
   "outputs": [],
   "source": [
    "import numpy as np\n",
    "import pandas as pd\n",
    "import glob\n",
    "import xarray as xr\n",
    "import matplotlib.pyplot as plt\n",
    "from scipy import stats\n",
    "\n",
    "import sys; sys.path.insert(1, '/home/alessandro/thesis_material')\n",
    "import os\n",
    "\n",
    "import geometry as gm\n",
    "#import conversion as cnv\n",
    "#from func_statistics import compute_pdf_nbin, slopes_r_p, slope_time, slope_maps\n",
    "#from coare_functions import *\n",
    "import meteo\n",
    "import lcl\n",
    "import metpy.calc as mpcalc\n",
    "from metpy.units import units\n",
    "\n",
    "\n",
    "import cartopy.crs as ccrs\n",
    "crs = ccrs.PlateCarree()\n",
    "#from plotmap import plot_background\n",
    "from plotdistr import * #fb_distribution_npoint, perc_distribution, scatterplot_fit, hist2d\n",
    "from pdist_fb_distrib_fast import *\n",
    "\n",
    "import warnings; warnings.filterwarnings(\"ignore\")"
   ]
  },
  {
   "cell_type": "code",
   "execution_count": null,
   "id": "1524143c",
   "metadata": {},
   "outputs": [],
   "source": []
  },
  {
   "cell_type": "code",
   "execution_count": 2,
   "id": "da030167",
   "metadata": {},
   "outputs": [],
   "source": [
    "# find data\n",
    "path = '/saturn/simu_Caribbean/coupled_2km/output/'\n",
    "files_ls = ['QCLOUD', 'U', 'V', 'W', 'OLR', 'PH', 'PHB', 'QVAPOR', 'PB', 'P', 'T']\n",
    "files_ls = [name + '.nc' for name in files_ls]\n",
    "wrf_files = [path+name for name in files_ls]\n",
    "#fname_list = sorted(glob.glob(wrf_files + '*'))"
   ]
  },
  {
   "cell_type": "code",
   "execution_count": 3,
   "id": "fd95771a",
   "metadata": {},
   "outputs": [],
   "source": [
    "# import sea_mask\n",
    "if os.path.exists('/home/alessandro/thesis_material/EURECA_scripts/sea_mask_nobnd_EU.npy'):\n",
    "    sea_mask = np.load('/home/alessandro/thesis_material/EURECA_scripts/sea_mask_nobnd_EU.npy')"
   ]
  },
  {
   "cell_type": "code",
   "execution_count": null,
   "id": "1e217241",
   "metadata": {},
   "outputs": [],
   "source": []
  },
  {
   "cell_type": "code",
   "execution_count": 6,
   "id": "ffcbf0e4",
   "metadata": {},
   "outputs": [],
   "source": [
    "# reading temperature\n",
    "pot_temp = xr.open_dataset(wrf_files[files_ls.index('T.nc')])\n",
    "pot_temp = pot_temp['T']\n",
    "pot_temp = pot_temp.sel(time_counter=slice('2020-02-01T01:30:00.000000000', '2020-03-01T01:30:00.000000000'))\n",
    "pot_temp = pot_temp.where(sea_mask, drop=False)\n",
    "pot_temp = pot_temp.groupby('time_counter.day').mean()\n",
    "\n",
    "T0 = 300. \n",
    "\n",
    "pot_temp_full = pot_temp+T0"
   ]
  },
  {
   "cell_type": "code",
   "execution_count": 7,
   "id": "d8894937",
   "metadata": {},
   "outputs": [],
   "source": [
    "# reading geopotential height\n",
    "GPH_base = xr.open_dataset(wrf_files[files_ls.index('PHB.nc')])\n",
    "GPH_base = GPH_base['PHB']/9.81\n",
    "\n",
    "GPH = xr.open_dataset(wrf_files[files_ls.index('PH.nc')])\n",
    "GPH = GPH.sel(time_counter=slice('2020-02-01T01:30:00.000000000', '2020-03-01T01:30:00.000000000'))\n",
    "GPH = GPH['PH']/9.81\n",
    "\n",
    "GPH = GPH_base + GPH\n",
    "GPH = GPH.transpose('time_counter', 'lev_W', 'y_grid_M', 'x_grid_M')\n",
    "GPH = GPH.where(sea_mask, drop=False)\n",
    "\n",
    "GPH = GPH.groupby('time_counter.day').mean()\n",
    "\n",
    "#GPH_base = GPH_base.where(sea_mask, drop=False)\n",
    "del GPH_base"
   ]
  },
  {
   "cell_type": "code",
   "execution_count": 8,
   "id": "963761f5",
   "metadata": {},
   "outputs": [],
   "source": [
    "GPH_mean = GPH.mean(axis=(0,2,3))"
   ]
  },
  {
   "cell_type": "code",
   "execution_count": 9,
   "id": "56fd3121",
   "metadata": {},
   "outputs": [],
   "source": [
    "# vertical interpolation of geopotential\n",
    "GPH_inter = np.zeros_like(pot_temp)\n",
    "for i in range(39):\n",
    "    GPH_inter[:,i,:,:] = (GPH[:,i+1,:,:]+GPH[:,i,:,:])*0.5"
   ]
  },
  {
   "cell_type": "code",
   "execution_count": 10,
   "id": "d8341051",
   "metadata": {},
   "outputs": [],
   "source": [
    "# CALCULATE BRUNT VAISALA\n",
    "BV_freq = mpcalc.brunt_vaisala_frequency_squared(GPH_inter*units.meters, pot_temp_full.values*units.kelvin, vertical_dim = 1)"
   ]
  },
  {
   "cell_type": "code",
   "execution_count": null,
   "id": "a9f25f74",
   "metadata": {},
   "outputs": [],
   "source": []
  },
  {
   "cell_type": "code",
   "execution_count": null,
   "id": "0231930e",
   "metadata": {},
   "outputs": [],
   "source": []
  },
  {
   "cell_type": "code",
   "execution_count": null,
   "id": "2053dba3",
   "metadata": {},
   "outputs": [],
   "source": [
    "# retrieve SST"
   ]
  },
  {
   "cell_type": "code",
   "execution_count": 4,
   "id": "18beab44",
   "metadata": {},
   "outputs": [],
   "source": [
    "wrf_hourly = path + 'Caraibes_WRF_3h_surf.nc'\n",
    "ds_hourly = xr.open_dataset(wrf_hourly)\n",
    "ds_hourly = ds_hourly.sel(time_counter=slice('2020-02-01T01:30:00.000000000', '2020-03-01T01:30:00.000000000'))"
   ]
  },
  {
   "cell_type": "code",
   "execution_count": 5,
   "id": "9d701e7a",
   "metadata": {},
   "outputs": [],
   "source": [
    "# lat and lon\n",
    "lon_M = ds_hourly['nav_lon'].values\n",
    "lat_M = ds_hourly['nav_lat'].values"
   ]
  },
  {
   "cell_type": "code",
   "execution_count": 6,
   "id": "212d4cae",
   "metadata": {},
   "outputs": [],
   "source": [
    "sst_day = ds_hourly['SST'].groupby('time_counter.day').mean()            \n",
    "sst_day = sst_day.where(sea_mask, drop=False).values; "
   ]
  },
  {
   "cell_type": "code",
   "execution_count": 7,
   "id": "e0555afb",
   "metadata": {},
   "outputs": [],
   "source": [
    "T2 = ds_hourly['T2'].groupby('time_counter.day').mean()\n",
    "T2 = T2.where(sea_mask, drop=False).values"
   ]
  },
  {
   "cell_type": "code",
   "execution_count": 8,
   "id": "8d2a14e7",
   "metadata": {},
   "outputs": [],
   "source": [
    "buoya = sst_day - T2"
   ]
  },
  {
   "cell_type": "code",
   "execution_count": null,
   "id": "6319dc91",
   "metadata": {},
   "outputs": [],
   "source": []
  },
  {
   "cell_type": "code",
   "execution_count": null,
   "id": "6a78c1e2",
   "metadata": {},
   "outputs": [],
   "source": []
  },
  {
   "cell_type": "code",
   "execution_count": null,
   "id": "d65b2a9e",
   "metadata": {},
   "outputs": [],
   "source": []
  },
  {
   "cell_type": "code",
   "execution_count": null,
   "id": "93cbd040",
   "metadata": {},
   "outputs": [],
   "source": []
  },
  {
   "cell_type": "code",
   "execution_count": 48,
   "id": "e396fc05",
   "metadata": {},
   "outputs": [
    {
     "name": "stdout",
     "output_type": "stream",
     "text": [
      "perc 99 = 1.313720703125\n",
      "perc 95 = 1.12005615234375\n",
      "perc 75 = 0.870086669921875\n",
      "perc 3.5 = -0.00152587890625\n"
     ]
    }
   ],
   "source": [
    "buoya_flat = buoya[~np.isnan(buoya)].flatten()\n",
    "#buoya_flat = np.sort(buoya_flat)\n",
    "perc_99 = np.percentile(buoya_flat, 99); print(f'perc 99 = {perc_99}')\n",
    "perc_95 = np.percentile(buoya_flat, 95); print(f'perc 95 = {perc_95}')\n",
    "perc_75 = np.percentile(buoya_flat, 75); print(f'perc 75 = {perc_75}')\n",
    "perc_3_5 = np.percentile(buoya_flat, 3.5); print(f'perc 3.5 = {perc_3_5}')"
   ]
  },
  {
   "cell_type": "code",
   "execution_count": 46,
   "id": "ecd64665",
   "metadata": {},
   "outputs": [
    {
     "data": {
      "image/png": "[encoded data removed]",
      "text/plain": [
       "<Figure size 640x480 with 1 Axes>"
      ]
     },
     "metadata": {},
     "output_type": "display_data"
    }
   ],
   "source": [
    "res= plt.hist(buoya_flat[buoya_flat<3], bins=100)\n",
    "freq = res[0]/(len(buoya_flat[buoya_flat<3]))\n",
    "bin_ave = 0.5*(res[1][0:-1]+res[1][1:])"
   ]
  },
  {
   "cell_type": "code",
   "execution_count": 47,
   "id": "93faf375",
   "metadata": {},
   "outputs": [
    {
     "data": {
      "text/plain": [
       "[<matplotlib.lines.Line2D at 0x7687a3c9dd10>]"
      ]
     },
     "execution_count": 47,
     "metadata": {},
     "output_type": "execute_result"
    },
    {
     "data": {
      "image/png": "[encoded data removed]",
      "text/plain": [
       "<Figure size 640x480 with 1 Axes>"
      ]
     },
     "metadata": {},
     "output_type": "display_data"
    }
   ],
   "source": [
    "plt.plot(bin_ave, freq)"
   ]
  },
  {
   "cell_type": "code",
   "execution_count": null,
   "id": "0dfccdef",
   "metadata": {},
   "outputs": [],
   "source": []
  },
  {
   "cell_type": "code",
   "execution_count": null,
   "id": "50488e63",
   "metadata": {},
   "outputs": [],
   "source": []
  },
  {
   "cell_type": "code",
   "execution_count": null,
   "id": "e09c6fc5",
   "metadata": {},
   "outputs": [],
   "source": []
  },
  {
   "cell_type": "code",
   "execution_count": null,
   "id": "36624ff8",
   "metadata": {},
   "outputs": [],
   "source": []
  },
  {
   "cell_type": "code",
   "execution_count": 11,
   "id": "c0d2e25a",
   "metadata": {},
   "outputs": [
    {
     "name": "stdout",
     "output_type": "stream",
     "text": [
      "0\n",
      "10\n",
      "20\n"
     ]
    }
   ],
   "source": [
    "# compute anomalies daily data\n",
    "s = 100\n",
    "\n",
    "\n",
    "dsst_day = np.zeros(sst_day.shape)\n",
    "dBV_freq_day = np.zeros(BV_freq.shape)\n",
    "\n",
    "for t in range(0,sst_day.shape[0]):\n",
    "    if t % 10 == 0:\n",
    "        print(t)\n",
    "    # upscale using gaussian filter\n",
    "    sst_ave = gm.nan_gaussian_filter(sst_day[t],s)                             \n",
    "    dsst_day[t] = sst_day[t] - sst_ave\n",
    "    \n",
    "    for h in range(0,BV_freq.shape[1]):\n",
    "        bv_ave = gm.nan_gaussian_filter(BV_freq[t,h].magnitude,s)                               #*seamask\n",
    "        dBV_freq_day[t,h] = BV_freq[t,h].magnitude - bv_ave"
   ]
  },
  {
   "cell_type": "code",
   "execution_count": 26,
   "id": "b60bf21f",
   "metadata": {
    "collapsed": true
   },
   "outputs": [
    {
     "data": {
      "text/plain": [
       "(29, 546, 573)"
      ]
     },
     "execution_count": 26,
     "metadata": {},
     "output_type": "execute_result"
    }
   ],
   "source": [
    "# compute distributions"
   ]
  },
  {
   "cell_type": "code",
   "execution_count": 43,
   "id": "e38f5c7d",
   "metadata": {},
   "outputs": [],
   "source": [
    "# MATTE AVEVA GIA' CALCOLATO TUTTE LE CORRELAZIONI \n",
    "# E HA STIMATO QUESTA LUNGHEZZA?\n",
    "L = 30\n",
    "nskip = int(L/3)\n",
    "nt = int(1)\n",
    "\n",
    "# from top pbl upwards\n",
    "# SOPRA PBL LA LUNGEHZZA DI CORRELAZIONE AUMENTA?\n",
    "# NEL SENSO CHE I SEGNALI HANNO PIù SPAZIO PER PROPAGARSI?\n",
    "Ltop = 150\n",
    "nskiptop = int(Ltop/3)\n",
    "nttop = int(1)\n",
    "\n",
    "# reference population mean\n",
    "popmean = 0."
   ]
  },
  {
   "cell_type": "code",
   "execution_count": 44,
   "id": "97c217e8",
   "metadata": {},
   "outputs": [
    {
     "name": "stdout",
     "output_type": "stream",
     "text": [
      "0\n",
      "10\n",
      "20\n",
      "30\n"
     ]
    }
   ],
   "source": [
    "# PERC DISTRIBUTION dBV_fre vs dSST bin - DAILY + PVALUE SUBSAMPLED height dependent\n",
    "perc_step = 5\n",
    "nbins = int(100/perc_step) # Number of bins.\n",
    "\n",
    "pdist_dsst_day, pdist_dBV_freq_day, pstd_dBV_freq_day, pstderr_dBV_freq_day, pvalue_dBV_freq_day = (\n",
    "dist_3d_subsample(dsst_day, dBV_freq_day, perc_step, nbins, popmean, nt, nttop, nskip, nskiptop, top=27, 'perc') ) \n",
    "\n",
    "'''pdist_dBV_freq_day = np.zeros((dBV_freq_day.shape[1],nbins))\n",
    "pstd_dBV_freq_day = np.zeros((dBV_freq_day.shape[1],nbins))\n",
    "pstderr_dBV_freq_day = np.zeros((dBV_freq_day.shape[1],nbins))\n",
    "pvalue_dBV_freq_day_sub = np.zeros((dBV_freq_day.shape[1],nbins))\n",
    "pvalue_dBV_freq_day = np.zeros_like(pvalue_dBV_freq_day_sub)\n",
    "\n",
    "for h in range(0,dBV_freq_day.shape[1]):\n",
    "    if h % 10 == 0:\n",
    "        print(h)    \n",
    "    x = dsst_day.copy(); control = x.reshape(-1)\n",
    "    y = dBV_freq_day[:,h].copy(); variable = y.reshape(-1)\n",
    "    \n",
    "    ##### Perc bin distribution: pvalue\n",
    "    pdist_dsst_day, pdist_dBV_freq_day[h], pstd_dBV_freq_day[h], pstderr_dBV_freq_day[h], pvalue_dBV_freq_day[h] = perc_distribution_pvalue(control, variable, nbins, perc_step, popmean)\n",
    "    \n",
    "    ##### Perc bin distribution: pvalue subsampled on Lcorr\n",
    "    if h <= 27:\n",
    "        x = dsst_day[::nt,::nskip,::nskip].copy(); control = x.reshape(-1)\n",
    "        y = dBV_freq_day[::nt,h,::nskip,::nskip].copy(); variable = y.reshape(-1)\n",
    "    else:\n",
    "        x = dsst_day[::nttop,::nskiptop,::nskiptop].copy(); control = x.reshape(-1)\n",
    "        y = dBV_freq_day[::nttop,h,::nskiptop,::nskiptop].copy(); variable = y.reshape(-1)\n",
    "    pdist_control, pdist, pstd, pstderr, pvalue_dBV_freq_day_sub[h] = perc_distribution_pvalue(control, variable, nbins, perc_step, popmean)'''"
   ]
  },
  {
   "cell_type": "code",
   "execution_count": 61,
   "id": "113e7a0e",
   "metadata": {},
   "outputs": [
    {
     "name": "stdout",
     "output_type": "stream",
     "text": [
      "0\n",
      "10\n",
      "20\n",
      "30\n"
     ]
    }
   ],
   "source": [
    "# PERC DISTRIBUTION dBV_fre vs dSST bin - DAILY + PVALUE SUBSAMPLED height dependent\n",
    "perc_step = 5\n",
    "nbins = int(100/perc_step) # Number of bins.\n",
    "\n",
    "pdist_dsst_day, pdist_BV_freq, pstd_BV_freq, pstderr_BV_freq, pvalue_BV_freq = (\n",
    "dist_3d_subsample(dsst_day, BV_freq, perc_step, nbins, popmean, nt, nttop, nskip, nskiptop, top=27, 'perc') ) \n",
    "\n",
    "'''pdist_BV_freq = np.zeros((BV_freq.shape[1],nbins))\n",
    "pstd_BV_freq = np.zeros((BV_freq.shape[1],nbins))\n",
    "pstderr_BV_freq = np.zeros((BV_freq.shape[1],nbins))\n",
    "pvalue_BV_freq_sub = np.zeros((BV_freq.shape[1],nbins))\n",
    "pvalue_BV_freq = np.zeros_like(pvalue_BV_freq_sub)\n",
    "\n",
    "for h in range(0,BV_freq.shape[1]):\n",
    "    if h % 10 == 0:\n",
    "        print(h)    \n",
    "    x = dsst_day.copy(); control = x.reshape(-1)\n",
    "    y = BV_freq[:,h].magnitude.copy(); variable = y.reshape(-1)\n",
    "    \n",
    "    ##### Perc bin distribution: pvalue\n",
    "    pdist_dsst_day, pdist_BV_freq[h], pstd_BV_freq[h], pstderr_BV_freq[h], pvalue_BV_freq[h] = perc_distribution_pvalue(control, variable, nbins, perc_step, popmean)\n",
    "    \n",
    "    ##### Perc bin distribution: pvalue subsampled on Lcorr\n",
    "    if h <= 27:\n",
    "        x = dsst_day[::nt,::nskip,::nskip].copy(); control = x.reshape(-1)\n",
    "        y = BV_freq[::nt,h,::nskip,::nskip].magnitude.copy(); variable = y.reshape(-1)\n",
    "    else:\n",
    "        x = dsst_day[::nttop,::nskiptop,::nskiptop].copy(); control = x.reshape(-1)\n",
    "        y = BV_freq[::nttop,h,::nskiptop,::nskiptop].magnitude.copy(); variable = y.reshape(-1)\n",
    "    pdist_control, pdist, pstd, pstderr, pvalue_BV_freq_sub[h] = perc_distribution_pvalue(control, variable, nbins, perc_step, popmean)'''"
   ]
  },
  {
   "cell_type": "code",
   "execution_count": null,
   "id": "aa4db8a6",
   "metadata": {},
   "outputs": [],
   "source": []
  },
  {
   "cell_type": "code",
   "execution_count": null,
   "id": "c85d2e11",
   "metadata": {},
   "outputs": [],
   "source": []
  },
  {
   "cell_type": "code",
   "execution_count": null,
   "id": "540988e8",
   "metadata": {},
   "outputs": [],
   "source": []
  },
  {
   "cell_type": "code",
   "execution_count": null,
   "id": "e562d5f8",
   "metadata": {},
   "outputs": [],
   "source": [
    "# plotting ONLY dBV or BV"
   ]
  },
  {
   "cell_type": "code",
   "execution_count": 82,
   "id": "308a9858",
   "metadata": {},
   "outputs": [],
   "source": [
    "p_level_plot = int(15)"
   ]
  },
  {
   "cell_type": "code",
   "execution_count": 83,
   "id": "a2717711",
   "metadata": {},
   "outputs": [
    {
     "data": {
      "image/png": "[encoded data removed]",
      "text/plain": [
       "<Figure size 1000x500 with 2 Axes>"
      ]
     },
     "metadata": {},
     "output_type": "display_data"
    }
   ],
   "source": [
    "#pval_hatch = np.ma.masked_less(pvalue_dQVAPOR_day, 0.05)\n",
    "\n",
    "# figure dQVAPOR vs dSST bin - DAILY\n",
    "fig, ax1 = plt.subplots(figsize=(10, 5))  \n",
    "p1 = ax1.pcolormesh(pdist_dsst_day, GPH_mean[0:p_level_plot], pdist_dBV_freq_day[0:p_level_plot,:]*1000, vmin=-0.025, vmax=0.025, cmap='seismic') #pdist_dqvapor_dsst_day\n",
    "ax1.set_xlabel('SST anomalies [˚C]'); ax1.set_ylabel('GPH [m]')\n",
    "plt.title('Percentiles - daily dSST vs dBV')\n",
    "\n",
    "cbar = plt.colorbar(p1,ax=ax1, location='right', pad=0.1, shrink=0.8, extend='both')  \n",
    "cbar.set_label('$N^2$ anoms [$10^3 \\cdot s^{-2}$]')\n",
    "\n",
    "\n",
    "\n",
    "#plt.savefig('/venus/tesi_ale/img_EU/QVAPOR/daily/pdist/pdist_dsst-dqvap-dpblh_day_lowtropo.png')"
   ]
  },
  {
   "cell_type": "code",
   "execution_count": null,
   "id": "48ec3ed0",
   "metadata": {},
   "outputs": [],
   "source": []
  },
  {
   "cell_type": "code",
   "execution_count": null,
   "id": "899831e1",
   "metadata": {},
   "outputs": [],
   "source": []
  },
  {
   "cell_type": "code",
   "execution_count": null,
   "id": "4332d8db",
   "metadata": {},
   "outputs": [],
   "source": [
    "# FIXED BIN DISTRIBUTIONS"
   ]
  },
  {
   "cell_type": "code",
   "execution_count": 102,
   "id": "a2d0c4e3",
   "metadata": {},
   "outputs": [
    {
     "name": "stdout",
     "output_type": "stream",
     "text": [
      "0\n",
      "10\n",
      "20\n",
      "30\n"
     ]
    }
   ],
   "source": [
    "# FB DISTRIBUTION dBV_freq vs dSST bin - DAILY + PVALUE subsampled\n",
    "perc_step = 5\n",
    "nbins = int(100/perc_step) # Number of bins.\n",
    "dist_dBV_freq_day = np.zeros((dBV_freq_day.shape[1],nbins))\n",
    "npoint_dBV_freq_day = np.zeros((dBV_freq_day.shape[1],nbins))\n",
    "stderr_dBV_freq_day = np.zeros((dBV_freq_day.shape[1],nbins))\n",
    "pvalue_dBV_freq_day = np.zeros((dBV_freq_day.shape[1],nbins))\n",
    "\n",
    "for h in range(0,dBV_freq_day.shape[1]):\n",
    "    if h % 10 == 0:\n",
    "        print(h)   \n",
    "    x = dsst_day.copy(); control = x.reshape(-1)\n",
    "    y = dBV_freq_day[:,h].copy(); variable = y.reshape(-1)\n",
    "    \n",
    "    ##### Fixed bin distribution: \n",
    "    dist_dsst_day, dist_dBV_freq_day[h], stderr_dBV_freq_day[h], npoint_dBV_freq_day[h], pv = fb_distribution_npoint_pvalue(control, variable, nbins, perc_step, popmean)\n",
    "    \n",
    "    ##### Fixed bin distribution: pvalue on subsampled field\n",
    "    if h <= 27:\n",
    "        x = dsst_day[::nt,::nskip,::nskip].copy(); control = x.reshape(-1)\n",
    "        y = dBV_freq_day[::nt,h,::nskip,::nskip].copy(); variable = y.reshape(-1)\n",
    "    else:\n",
    "        x = dsst_day[::nttop,::nskiptop,::nskiptop].copy(); control = x.reshape(-1)\n",
    "        y = dBV_freq_day[::nttop,h,::nskiptop,::nskiptop].copy(); variable = y.reshape(-1)\n",
    "    dist_control, dist, stderr, npoint, pvalue_dBV_freq_day[h] = fb_distribution_npoint_pvalue(control, variable, nbins, perc_step, popmean)"
   ]
  },
  {
   "cell_type": "code",
   "execution_count": 104,
   "id": "f7f7e71d",
   "metadata": {},
   "outputs": [
    {
     "name": "stdout",
     "output_type": "stream",
     "text": [
      "0\n",
      "10\n",
      "20\n",
      "30\n"
     ]
    }
   ],
   "source": [
    "# FB DISTRIBUTION BV vs dSST bin - DAILY + PVALUE subsampled\n",
    "perc_step = 5\n",
    "nbins = int(100/perc_step) # Number of bins.\n",
    "dist_BV_freq = np.zeros((BV_freq.shape[1],nbins))\n",
    "npoint_BV_freq = np.zeros((BV_freq.shape[1],nbins))\n",
    "stderr_BV_freq = np.zeros((BV_freq.shape[1],nbins))\n",
    "pvalue_BV_freq = np.zeros((BV_freq.shape[1],nbins))\n",
    "\n",
    "for h in range(0,BV_freq.shape[1]):\n",
    "    if h % 10 == 0:\n",
    "        print(h)   \n",
    "    x = dsst_day.copy(); control = x.reshape(-1)\n",
    "    y = BV_freq[:,h].magnitude.copy(); variable = y.reshape(-1)\n",
    "    \n",
    "    ##### Fixed bin distribution: \n",
    "    dist_dsst_day, dist_BV_freq[h], stderr_BV_freq[h], npoint_BV_freq[h], pv = fb_distribution_npoint_pvalue(control, variable, nbins, perc_step, popmean)\n",
    "    \n",
    "    ##### Fixed bin distribution: pvalue on subsampled field\n",
    "    if h <= 27:\n",
    "        x = dsst_day[::nt,::nskip,::nskip].copy(); control = x.reshape(-1)\n",
    "        y = BV_freq[::nt,h,::nskip,::nskip].magnitude.copy(); variable = y.reshape(-1)\n",
    "    else:\n",
    "        x = dsst_day[::nttop,::nskiptop,::nskiptop].copy(); control = x.reshape(-1)\n",
    "        y = BV_freq[::nttop,h,::nskiptop,::nskiptop].magnitude.copy(); variable = y.reshape(-1)\n",
    "    dist_control, dist, stderr, npoint, pvalue_BV_freq[h] = fb_distribution_npoint_pvalue(control, variable, nbins, perc_step, popmean)"
   ]
  },
  {
   "cell_type": "code",
   "execution_count": null,
   "id": "d058e5ca",
   "metadata": {},
   "outputs": [],
   "source": []
  },
  {
   "cell_type": "code",
   "execution_count": null,
   "id": "22536f91",
   "metadata": {},
   "outputs": [],
   "source": []
  },
  {
   "cell_type": "code",
   "execution_count": null,
   "id": "7659e285",
   "metadata": {},
   "outputs": [],
   "source": []
  },
  {
   "cell_type": "code",
   "execution_count": null,
   "id": "00fada06",
   "metadata": {},
   "outputs": [],
   "source": [
    "# correlations with PBLH"
   ]
  },
  {
   "cell_type": "code",
   "execution_count": 84,
   "id": "87c01e57",
   "metadata": {},
   "outputs": [],
   "source": [
    "wrf_hourly = path + 'Caraibes_WRF_3h_surf.nc'\n",
    "ds_hourly = xr.open_dataset(wrf_hourly)\n",
    "ds_hourly = ds_hourly.sel(time_counter=slice('2020-02-01T01:30:00.000000000', '2020-03-01T01:30:00.000000000'))"
   ]
  },
  {
   "cell_type": "code",
   "execution_count": 85,
   "id": "3039f959",
   "metadata": {},
   "outputs": [],
   "source": [
    "PBLH_day = ds_hourly['PBLH'].groupby('time_counter.day').mean()\n",
    "PBLH_day = PBLH_day.where(sea_mask, drop=False).values;"
   ]
  },
  {
   "cell_type": "code",
   "execution_count": 86,
   "id": "c51dac9b",
   "metadata": {},
   "outputs": [
    {
     "name": "stdout",
     "output_type": "stream",
     "text": [
      "0\n",
      "10\n",
      "20\n"
     ]
    }
   ],
   "source": [
    "dPBLH_day = np.zeros(PBLH_day.shape)\n",
    "\n",
    "for t in range(0,sst_day.shape[0]):\n",
    "    if t % 10 == 0:\n",
    "        print(t)\n",
    "    PBLH_ave = gm.nan_gaussian_filter(PBLH_day[t],s)\n",
    "    dPBLH_day[t] = PBLH_day[t] - PBLH_ave"
   ]
  },
  {
   "cell_type": "code",
   "execution_count": 89,
   "id": "fafc0f85",
   "metadata": {},
   "outputs": [],
   "source": [
    "# PERC DISTRIBUTION dPBLH vs dSST - DAILY   +   dSST vs PBLH \n",
    "perc_step = 5\n",
    "nbins = int(100/perc_step) # Number of bins.\n",
    "pdist_dPBLH_day = np.zeros((dPBLH_day.shape[1],nbins))\n",
    "pstd_dPBLH_day = np.zeros((dPBLH_day.shape[1],nbins))\n",
    "pstderr_dPBLH_day = np.zeros((dPBLH_day.shape[1],nbins))\n",
    "pvalue_dPBLH_day_sub = np.zeros((dPBLH_day.shape[1],nbins))\n",
    "pvalue_dPBLH_day = np.zeros_like(pvalue_dPBLH_day_sub)\n",
    "\n",
    " \n",
    "x = dsst_day.copy(); control = x.reshape(-1)\n",
    "y = dPBLH_day.copy(); variable = y.reshape(-1)\n",
    "    \n",
    "##### Perc bin distribution: pvalue\n",
    "pdist_dsst_day, pdist_dPBLH_day, pstd_dPBLH_day, pstderr_dPBLH_day, pvalue_dPBLH_day = perc_distribution_pvalue(control, variable, nbins, perc_step, popmean)\n",
    "\n",
    "\n",
    "\n",
    "#### # PERC DISTRIBUTION PBLH vs dSST - DAILY \n",
    "x = dsst_day.copy()\n",
    "control = x.reshape(-1)\n",
    "\n",
    "##### Perc distribution: PBLH\n",
    "y = PBLH_day.copy()\n",
    "variable = y.reshape(-1)\n",
    "pdist_dsst, pdist_PBLH_dsst, pstd_PBLH_dsst, pstd_err_PBLH_dsst, pvalue_PBLH_dsst = perc_distribution_pvalue(control, variable, nbins, perc_step, popmean)\n",
    "\n"
   ]
  },
  {
   "cell_type": "code",
   "execution_count": 105,
   "id": "e4606194",
   "metadata": {},
   "outputs": [],
   "source": [
    "# FB DISTRIBUTION dPBLH vs dSST bin - DAILY \n",
    "perc_step = 5\n",
    "nbins = int(100/perc_step) # Number of bins.\n",
    "dist_dPBLH_day = np.zeros((dPBLH_day.shape[1],nbins))\n",
    "std_dPBLH_day = np.zeros((dPBLH_day.shape[1],nbins))\n",
    "stderr_dPBLH_day = np.zeros((dPBLH_day.shape[1],nbins))\n",
    "pvalue_dPBLH_day = np.zeros_like(pvalue_dPBLH_day_sub)\n",
    "\n",
    " \n",
    "x = dsst_day.copy(); control = x.reshape(-1)\n",
    "y = dPBLH_day.copy(); variable = y.reshape(-1)\n",
    "    \n",
    "##### Perc bin distribution: pvalue\n",
    "dist_dsst_day, dist_dPBLH_day, std_dPBLH_day, stderr_dPBLH_day, pvalue_dPBLH_day = fb_distribution_npoint_pvalue(control, variable, nbins, perc_step, popmean)\n",
    "\n",
    "\n",
    "\n",
    "#### # PERC DISTRIBUTION PBLH vs dSST bin - DAILY \n",
    "x = dsst_day.copy()\n",
    "control = x.reshape(-1)\n",
    "\n",
    "##### Perc distribution: PBLH\n",
    "y = PBLH_day.copy()\n",
    "variable = y.reshape(-1)\n",
    "dist_dsst, dist_PBLH_dsst, std_PBLH_dsst, std_err_PBLH_dsst, pvalue_PBLH_dsst = fb_distribution_npoint_pvalue(control, variable, nbins, perc_step, popmean)\n"
   ]
  },
  {
   "cell_type": "code",
   "execution_count": null,
   "id": "683d0f4d",
   "metadata": {},
   "outputs": [],
   "source": []
  },
  {
   "cell_type": "code",
   "execution_count": 101,
   "id": "c431b895",
   "metadata": {},
   "outputs": [
    {
     "data": {
      "text/plain": [
       "Text(0.4, 755, 'PBLH')"
      ]
     },
     "execution_count": 101,
     "metadata": {},
     "output_type": "execute_result"
    },
    {
     "data": {
      "image/png": "[encoded data removed]",
      "text/plain": [
       "<Figure size 1000x500 with 2 Axes>"
      ]
     },
     "metadata": {},
     "output_type": "display_data"
    }
   ],
   "source": [
    "# figure dBV or BV vs dSST bin - DAILY\n",
    "anoms = False\n",
    "var = pdist_dBV_freq_day[0:p_level_plot,:]*1000 if anoms else pdist_BV_freq[0:p_level_plot,:]*1000\n",
    "minval = -0.025 if anoms else -0.1\n",
    "maxval = -minval\n",
    "\n",
    "fig, ax1 = plt.subplots(figsize=(10, 5))  \n",
    "p1 = ax1.pcolormesh(pdist_dsst_day, GPH_mean[0:p_level_plot], var, vmin=minval, vmax=maxval, cmap='seismic') #pdist_dqvapor_dsst_day\n",
    "ax1.set_xlabel('SST anomalies [˚C]'); ax1.set_ylabel('GPH [m]')\n",
    "plt.title('Percentiles - daily dSST vs BV and PBLH')\n",
    "cbar = plt.colorbar(p1,ax=ax1, location='right', pad=0.1, shrink=0.8, extend='both')  \n",
    "cbar.set_label('$N^2$ [$10^3 \\cdot s^{-2}$]')\n",
    "\n",
    "ax1.plot(pdist_dsst, pdist_PBLH_dsst, 'k')\n",
    "ax1.text(0.4, 755, 'PBLH', fontsize=12)\n",
    "\n",
    "#plt.savefig('/venus/tesi_ale/img_EU/BV/daily/distrib/perc/pdist_dsst-fullBV-PBLH_lowtropo.png')\n"
   ]
  },
  {
   "cell_type": "code",
   "execution_count": null,
   "id": "c53634c0",
   "metadata": {},
   "outputs": [],
   "source": []
  },
  {
   "cell_type": "code",
   "execution_count": 109,
   "id": "b0d16c2e",
   "metadata": {},
   "outputs": [
    {
     "data": {
      "image/png": "[encoded data removed]",
      "text/plain": [
       "<Figure size 1000x500 with 2 Axes>"
      ]
     },
     "metadata": {},
     "output_type": "display_data"
    }
   ],
   "source": [
    "# figure dBV or BV vs dSST bin - DAILY\n",
    "anoms = True\n",
    "var = dist_dBV_freq_day[0:p_level_plot,:]*1000 if anoms else dist_BV_freq[0:p_level_plot,:]*1000\n",
    "minval = -0.025 if anoms else -0.1\n",
    "maxval = -minval\n",
    "\n",
    "fig, ax1 = plt.subplots(figsize=(10, 5))  \n",
    "p1 = ax1.pcolormesh(dist_dsst_day, GPH_mean[0:p_level_plot], var, vmin=minval, vmax=maxval, cmap='seismic') #pdist_dqvapor_dsst_day\n",
    "ax1.set_xlabel('SST anomalies [˚C]'); ax1.set_ylabel('GPH [m]')\n",
    "plt.title('Fixed bins - daily dSST vs BV and PBLH')\n",
    "cbar = plt.colorbar(p1,ax=ax1, location='right', pad=0.1, shrink=0.8, extend='both')  \n",
    "cbar.set_label('$N^2$ anoms [$10^3 \\cdot s^{-2}$]')\n",
    "\n",
    "ax1.plot(dist_dsst, dist_PBLH_dsst, 'k')\n",
    "ax1.text(0.4, 755, 'PBLH', fontsize=12)\n",
    "\n",
    "#plt.savefig('/venus/tesi_ale/img_EU/BV/daily/distrib/fix_bin/bin_dsst-dBV-PBLH_lowtropo.png')\n"
   ]
  },
  {
   "cell_type": "code",
   "execution_count": null,
   "id": "28548e47",
   "metadata": {},
   "outputs": [],
   "source": []
  },
  {
   "cell_type": "code",
   "execution_count": null,
   "id": "b28752bd",
   "metadata": {},
   "outputs": [],
   "source": [
    "#######   SEE BEHAVIOUR OF SURFACE HEAT FLUXES"
   ]
  },
  {
   "cell_type": "code",
   "execution_count": 13,
   "id": "a02392be",
   "metadata": {},
   "outputs": [],
   "source": [
    "LH = ds_hourly['LH'].groupby('time_counter.day').mean()            \n",
    "LH = LH.where(sea_mask, drop=False).values; \n",
    "\n",
    "HFX = ds_hourly['HFX'].groupby('time_counter.day').mean()            \n",
    "HFX = HFX.where(sea_mask, drop=False).values; "
   ]
  },
  {
   "cell_type": "code",
   "execution_count": 14,
   "id": "cb712e58",
   "metadata": {},
   "outputs": [],
   "source": [
    "# this should be the Bowen ratio at the surface\n",
    "heat_ratio = LH/HFX\n",
    "heat_ratio[HFX==0] = 999."
   ]
  },
  {
   "cell_type": "code",
   "execution_count": null,
   "id": "28560654",
   "metadata": {},
   "outputs": [],
   "source": [
    "# heat anomalies"
   ]
  },
  {
   "cell_type": "code",
   "execution_count": null,
   "id": "c1c413fe",
   "metadata": {},
   "outputs": [],
   "source": [
    "dLH = np.zeros(LH.shape)\n",
    "dHFX = np.zeros(HFX.shape)\n",
    "\n",
    "for t in range(0,LH.shape[0]):\n",
    "    if t % 10 == 0:\n",
    "        print(t)\n",
    "    # upscale using gaussian filter\n",
    "    LH_ave = gm.nan_gaussian_filter(LH[t],s)                             \n",
    "    dLH[t] = LH[t] - LH_ave\n",
    "    \n",
    "    HFX_ave = gm.nan_gaussian_filter(HFX[t],s)                             \n",
    "    dHFX[t] = HFX[t] - HFX_ave"
   ]
  },
  {
   "cell_type": "code",
   "execution_count": null,
   "id": "f154df86",
   "metadata": {},
   "outputs": [],
   "source": []
  },
  {
   "cell_type": "code",
   "execution_count": null,
   "id": "a8c6a77d",
   "metadata": {},
   "outputs": [],
   "source": []
  }
 ],
 "metadata": {
  "kernelspec": {
   "display_name": "Python 3 (ipykernel)",
   "language": "python",
   "name": "python3"
  },
  "language_info": {
   "codemirror_mode": {
    "name": "ipython",
    "version": 3
   },
   "file_extension": ".py",
   "mimetype": "text/x-python",
   "name": "python",
   "nbconvert_exporter": "python",
   "pygments_lexer": "ipython3",
   "version": "3.7.11"
  }
 },
 "nbformat": 4,
 "nbformat_minor": 5
}
