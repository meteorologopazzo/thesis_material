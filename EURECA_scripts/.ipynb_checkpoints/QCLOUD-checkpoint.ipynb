{
 "cells": [
  {
   "cell_type": "code",
   "execution_count": 1,
   "id": "45338470",
   "metadata": {},
   "outputs": [],
   "source": [
    "import numpy as np\n",
    "import pandas as pd\n",
    "import glob\n",
    "import xarray as xr\n",
    "import matplotlib.pyplot as plt\n",
    "from scipy import stats\n",
    "\n",
    "import sys; sys.path.insert(1, '/home/alessandro/thesis_material')\n",
    "import os\n",
    "\n",
    "import geometry as gm\n",
    "#import conversion as cnv\n",
    "#from func_statistics import compute_pdf_nbin, slopes_r_p, slope_time, slope_maps\n",
    "#from coare_functions import *\n",
    "import meteo\n",
    "import lcl\n",
    "import metpy.calc as mpcalc\n",
    "from metpy.units import units\n",
    "\n",
    "\n",
    "import cartopy.crs as ccrs\n",
    "crs = ccrs.PlateCarree()\n",
    "#from plotmap import plot_background\n",
    "from plotdistr import * \n",
    "from pdist_fb_distrib_fast import *\n",
    "\n",
    "import warnings; warnings.filterwarnings(\"ignore\")"
   ]
  },
  {
   "cell_type": "code",
   "execution_count": 2,
   "id": "1524143c",
   "metadata": {},
   "outputs": [],
   "source": [
    "%load_ext autoreload\n",
    "%autoreload 2"
   ]
  },
  {
   "cell_type": "code",
   "execution_count": 3,
   "id": "da030167",
   "metadata": {},
   "outputs": [],
   "source": [
    "# find data\n",
    "path = '/saturn/simu_Caribbean/coupled_2km/output/'\n",
    "files_ls = ['QCLOUD', 'U', 'V', 'W', 'OLR', 'PH', 'PHB', 'QVAPOR', 'PB', 'P', 'T']\n",
    "files_ls = [name + '.nc' for name in files_ls]\n",
    "wrf_files = [path+name for name in files_ls]\n",
    "#fname_list = sorted(glob.glob(wrf_files + '*'))"
   ]
  },
  {
   "cell_type": "code",
   "execution_count": 4,
   "id": "fd95771a",
   "metadata": {},
   "outputs": [],
   "source": [
    "# import sea_mask\n",
    "if os.path.exists('/home/alessandro/thesis_material/EURECA_scripts/sea_mask_nobnd_EU.npy'):\n",
    "    sea_mask = np.load('/home/alessandro/thesis_material/EURECA_scripts/sea_mask_nobnd_EU.npy')"
   ]
  },
  {
   "cell_type": "code",
   "execution_count": null,
   "id": "6bdeec7c",
   "metadata": {},
   "outputs": [],
   "source": []
  },
  {
   "cell_type": "code",
   "execution_count": 5,
   "id": "2df39203",
   "metadata": {},
   "outputs": [],
   "source": [
    "# reading qcloud\n",
    "QCLOUD = xr.open_dataset(wrf_files[files_ls.index('QCLOUD.nc')])\n",
    "QCLOUD_feb = QCLOUD['QCLOUD'].sel(time_counter=slice('2020-02-01T01:30:00.000000000', '2020-03-01T01:30:00.000000000')).groupby('time_counter.day').mean()\n",
    "QCLOUD_jan = QCLOUD['QCLOUD'].sel(time_counter=slice('2020-01-01T01:30:00.000000000', '2020-02-01T01:30:00.000000000')).groupby('time_counter.day').mean()\n",
    "QCLOUD_dec = QCLOUD['QCLOUD'].sel(time_counter=slice('2019-12-01T01:30:00.000000000', '2020-01-01T01:30:00.000000000')).groupby('time_counter.day').mean()"
   ]
  },
  {
   "cell_type": "code",
   "execution_count": 6,
   "id": "9b380e61",
   "metadata": {},
   "outputs": [],
   "source": [
    "QCLOUD = xr.concat([QCLOUD_dec,QCLOUD_jan,QCLOUD_feb], dim='day')\n",
    "QCLOUD = QCLOUD.where(sea_mask, drop=False)\n",
    "\n",
    "del QCLOUD_dec,QCLOUD_jan,QCLOUD_feb"
   ]
  },
  {
   "cell_type": "code",
   "execution_count": null,
   "id": "7d3a38d4",
   "metadata": {},
   "outputs": [],
   "source": []
  },
  {
   "cell_type": "code",
   "execution_count": 12,
   "id": "1e217241",
   "metadata": {},
   "outputs": [],
   "source": [
    "'''# reading qcloud\n",
    "QCLOUD_feb = xr.open_dataset(wrf_files[files_ls.index('QCLOUD.nc')])\n",
    "QCLOUD_feb = QCLOUD_feb['QCLOUD'].sel(time_counter=slice('2020-02-01T01:30:00.000000000', '2020-03-01T01:30:00.000000000'))'''"
   ]
  },
  {
   "cell_type": "code",
   "execution_count": 13,
   "id": "ffcbf0e4",
   "metadata": {},
   "outputs": [],
   "source": [
    "'''QCLOUD_feb = QCLOUD_feb.where(sea_mask, drop=False)\n",
    "QCLOUD_feb = QCLOUD_feb'''"
   ]
  },
  {
   "cell_type": "code",
   "execution_count": 14,
   "id": "5f92f491",
   "metadata": {},
   "outputs": [],
   "source": [
    "'''#  qcloud january\n",
    "QCLOUD_jan = xr.open_dataset(wrf_files[files_ls.index('QCLOUD.nc')])\n",
    "QCLOUD_jan = QCLOUD_jan['QCLOUD'].sel(time_counter=slice('2020-01-01T01:30:00.000000000', '2020-02-01T01:30:00.000000000'))'''"
   ]
  },
  {
   "cell_type": "code",
   "execution_count": 15,
   "id": "cc71bf5f",
   "metadata": {},
   "outputs": [],
   "source": [
    "'''QCLOUD_jan = QCLOUD_jan.where(sea_mask, drop=False)\n",
    "QCLOUD_jan = QCLOUD_jan.groupby('time_counter.day').mean()'''"
   ]
  },
  {
   "cell_type": "code",
   "execution_count": 16,
   "id": "31d41675",
   "metadata": {},
   "outputs": [],
   "source": [
    "'''#  qcloud december\n",
    "QCLOUD_dec = xr.open_dataset(wrf_files[files_ls.index('QCLOUD.nc')])\n",
    "QCLOUD_dec = QCLOUD_dec['QCLOUD'].sel(time_counter=slice('2019-12-01T01:30:00.000000000', '2020-01-01T01:30:00.000000000'))'''"
   ]
  },
  {
   "cell_type": "code",
   "execution_count": 17,
   "id": "29dcaf71",
   "metadata": {},
   "outputs": [],
   "source": [
    "'''QCLOUD_dec = QCLOUD_dec.where(sea_mask, drop=False)\n",
    "QCLOUD_dec = QCLOUD_dec.groupby('time_counter.day').mean()'''"
   ]
  },
  {
   "cell_type": "code",
   "execution_count": 18,
   "id": "aff2e308",
   "metadata": {},
   "outputs": [],
   "source": [
    "'''# mergetime\n",
    "QCLOUD = np.concatenate( (QCLOUD_dec, QCLOUD_jan, QCLOUD_feb), axis=0 )'''"
   ]
  },
  {
   "cell_type": "code",
   "execution_count": 22,
   "id": "9d026ada",
   "metadata": {},
   "outputs": [],
   "source": [
    "'''del QCLOUD_dec, QCLOUD_jan, QCLOUD_feb'''"
   ]
  },
  {
   "cell_type": "code",
   "execution_count": null,
   "id": "507bffe2",
   "metadata": {},
   "outputs": [],
   "source": []
  },
  {
   "cell_type": "code",
   "execution_count": 7,
   "id": "19c6457c",
   "metadata": {},
   "outputs": [],
   "source": [
    "# reading geopotential height\n",
    "GPH_base = xr.open_dataset(wrf_files[files_ls.index('PHB.nc')])\n",
    "GPH_base = GPH_base['PHB']"
   ]
  },
  {
   "cell_type": "code",
   "execution_count": 8,
   "id": "e0e13706",
   "metadata": {},
   "outputs": [],
   "source": [
    "GPH = xr.open_dataset(wrf_files[files_ls.index('PH.nc')])"
   ]
  },
  {
   "cell_type": "code",
   "execution_count": 9,
   "id": "d9c9cf30",
   "metadata": {},
   "outputs": [],
   "source": [
    "GPH_dec = GPH['PH'].sel(time_counter=slice('2019-12-01T01:30:00.000000000', '2020-01-01T01:30:00.000000000')).groupby('time_counter.day').mean()\n",
    "GPH_jan = GPH['PH'].sel(time_counter=slice('2020-01-01T01:30:00.000000000', '2020-02-01T01:30:00.000000000')).groupby('time_counter.day').mean()\n",
    "GPH_feb = GPH['PH'].sel(time_counter=slice('2020-02-01T01:30:00.000000000', '2020-03-01T01:30:00.000000000')).groupby('time_counter.day').mean()\n"
   ]
  },
  {
   "cell_type": "code",
   "execution_count": 10,
   "id": "dba3df7b",
   "metadata": {},
   "outputs": [],
   "source": [
    "GPH = xr.concat([GPH_dec,GPH_jan,GPH_feb], dim='day')\n",
    "\n",
    "del GPH_dec,GPH_jan,GPH_feb"
   ]
  },
  {
   "cell_type": "code",
   "execution_count": 11,
   "id": "98d44904",
   "metadata": {},
   "outputs": [],
   "source": [
    "GPH = (GPH + GPH_base)/9.81\n",
    "GPH = GPH.where(sea_mask, drop=False)"
   ]
  },
  {
   "cell_type": "code",
   "execution_count": 12,
   "id": "73cd51e4",
   "metadata": {},
   "outputs": [],
   "source": [
    "# vertical interpolation of geopotential\n",
    "i = np.arange(0,39)\n",
    "GPH = (GPH[:,i+1,:,:]+GPH[:,i,:,:])*0.5\n",
    "\n",
    "GPH_mean = GPH.mean(axis=(0,2,3))"
   ]
  },
  {
   "cell_type": "code",
   "execution_count": null,
   "id": "d1ab220f",
   "metadata": {},
   "outputs": [],
   "source": []
  },
  {
   "cell_type": "code",
   "execution_count": null,
   "id": "fe8423b6",
   "metadata": {},
   "outputs": [],
   "source": []
  },
  {
   "cell_type": "code",
   "execution_count": null,
   "id": "f252f367",
   "metadata": {},
   "outputs": [],
   "source": []
  },
  {
   "cell_type": "code",
   "execution_count": 25,
   "id": "d8894937",
   "metadata": {},
   "outputs": [],
   "source": [
    "'''# december\n",
    "GPH_dec = xr.open_dataset(wrf_files[files_ls.index('PH.nc')])\n",
    "GPH_dec = GPH_dec['PH'].sel(time_counter=slice('2019-12-01T01:30:00.000000000', '2020-01-01T01:30:00.000000000'))\n",
    "GPH_dec = GPH_dec/9.81\n",
    "\n",
    "GPH_dec = GPH_base + GPH_dec\n",
    "GPH_dec = GPH_dec.transpose('time_counter', 'lev_W', 'y_grid_M', 'x_grid_M')\n",
    "GPH_dec = GPH_dec.where(sea_mask, drop=False)\n",
    "\n",
    "GPH_dec = GPH_dec.groupby('time_counter.day').mean()'''"
   ]
  },
  {
   "cell_type": "code",
   "execution_count": 26,
   "id": "d6163266",
   "metadata": {},
   "outputs": [],
   "source": [
    "'''# january\n",
    "GPH_jan = xr.open_dataset(wrf_files[files_ls.index('PH.nc')])\n",
    "GPH_jan = GPH_jan['PH'].sel(time_counter=slice('2020-01-01T01:30:00.000000000', '2020-02-01T01:30:00.000000000'))\n",
    "GPH_jan = GPH_jan/9.81\n",
    "\n",
    "GPH_jan = GPH_base + GPH_jan\n",
    "GPH_jan = GPH_jan.transpose('time_counter', 'lev_W', 'y_grid_M', 'x_grid_M')\n",
    "GPH_jan = GPH_jan.where(sea_mask, drop=False)\n",
    "\n",
    "GPH_jan = GPH_jan.groupby('time_counter.day').mean()'''"
   ]
  },
  {
   "cell_type": "code",
   "execution_count": 28,
   "id": "8bace1c4",
   "metadata": {},
   "outputs": [],
   "source": [
    "'''# february\n",
    "GPH_feb = xr.open_dataset(wrf_files[files_ls.index('PH.nc')])\n",
    "GPH_feb = GPH_feb['PH'].sel(time_counter=slice('2020-02-01T01:30:00.000000000', '2020-03-01T01:30:00.000000000'))\n",
    "GPH_feb = GPH_feb/9.81\n",
    "\n",
    "GPH_feb = GPH_base + GPH_feb\n",
    "GPH_feb = GPH_feb.transpose('time_counter', 'lev_W', 'y_grid_M', 'x_grid_M')\n",
    "GPH_feb = GPH_feb.where(sea_mask, drop=False)\n",
    "\n",
    "GPH_feb = GPH_feb.groupby('time_counter.day').mean()\n",
    "\n",
    "del GPH_base'''"
   ]
  },
  {
   "cell_type": "code",
   "execution_count": 29,
   "id": "ed132ce5",
   "metadata": {},
   "outputs": [],
   "source": [
    "'''# mergetime\n",
    "GPH = np.concatenate( (GPH_dec, GPH_jan, GPH_feb), axis=0 )\n",
    "del GPH_dec, GPH_jan, GPH_feb'''"
   ]
  },
  {
   "cell_type": "code",
   "execution_count": 30,
   "id": "56fd3121",
   "metadata": {},
   "outputs": [],
   "source": []
  },
  {
   "cell_type": "code",
   "execution_count": 31,
   "id": "963761f5",
   "metadata": {},
   "outputs": [],
   "source": []
  },
  {
   "cell_type": "code",
   "execution_count": null,
   "id": "279b2eed",
   "metadata": {},
   "outputs": [],
   "source": []
  },
  {
   "cell_type": "code",
   "execution_count": null,
   "id": "2053dba3",
   "metadata": {},
   "outputs": [],
   "source": [
    "# retrieve SST and PBLH"
   ]
  },
  {
   "cell_type": "code",
   "execution_count": null,
   "id": "94f69842",
   "metadata": {},
   "outputs": [],
   "source": []
  },
  {
   "cell_type": "code",
   "execution_count": 13,
   "id": "18beab44",
   "metadata": {},
   "outputs": [],
   "source": [
    "wrf_hourly = path + 'Caraibes_WRF_3h_surf.nc'\n",
    "ds_hourly = xr.open_dataset(wrf_hourly)\n",
    "ds_hourly = ds_hourly.sel(time_counter=slice('2019-12-01T01:30:00.000000000', '2020-03-01T01:30:00.000000000'))"
   ]
  },
  {
   "cell_type": "code",
   "execution_count": 14,
   "id": "212d4cae",
   "metadata": {},
   "outputs": [],
   "source": [
    "sst_dec = ds_hourly['SST'].sel(time_counter=slice('2019-12-01T01:30:00.000000000', '2020-01-01T01:30:00.000000000')).groupby('time_counter.day').mean()            \n",
    "sst_jan = ds_hourly['SST'].sel(time_counter=slice('2020-01-01T01:30:00.000000000', '2020-02-01T01:30:00.000000000')).groupby('time_counter.day').mean()            \n",
    "sst_feb = ds_hourly['SST'].sel(time_counter=slice('2020-02-01T01:30:00.000000000', '2020-03-01T01:30:00.000000000')).groupby('time_counter.day').mean()            \n",
    "\n",
    "sst_day = xr.concat([sst_dec, sst_jan, sst_feb], dim='day')\n",
    "\n",
    "del sst_dec, sst_jan, sst_feb"
   ]
  },
  {
   "cell_type": "code",
   "execution_count": 15,
   "id": "b1b18252",
   "metadata": {},
   "outputs": [],
   "source": [
    "sst_day = sst_day.where(sea_mask, drop=False)"
   ]
  },
  {
   "cell_type": "code",
   "execution_count": 11,
   "id": "9d701e7a",
   "metadata": {},
   "outputs": [],
   "source": [
    "# lat and lon\n",
    "lon_M = ds_hourly['nav_lon'].values\n",
    "lat_M = ds_hourly['nav_lat'].values"
   ]
  },
  {
   "cell_type": "code",
   "execution_count": null,
   "id": "5a4254d5",
   "metadata": {},
   "outputs": [],
   "source": []
  },
  {
   "cell_type": "code",
   "execution_count": 17,
   "id": "6319dc91",
   "metadata": {},
   "outputs": [],
   "source": [
    "# PBLH\n",
    "PBLH_dec = ds_hourly['PBLH'].sel(time_counter=slice('2019-12-01T01:30:00.000000000', '2020-01-01T01:30:00.000000000')).groupby('time_counter.day').mean()            \n",
    "PBLH_jan = ds_hourly['PBLH'].sel(time_counter=slice('2020-01-01T01:30:00.000000000', '2020-02-01T01:30:00.000000000')).groupby('time_counter.day').mean()            \n",
    "PBLH_feb = ds_hourly['PBLH'].sel(time_counter=slice('2020-02-01T01:30:00.000000000', '2020-03-01T01:30:00.000000000')).groupby('time_counter.day').mean()            \n",
    "\n",
    "PBLH_day = xr.concat([PBLH_dec, PBLH_jan, PBLH_feb], dim='day')\n",
    "\n",
    "del PBLH_dec, PBLH_jan, PBLH_feb "
   ]
  },
  {
   "cell_type": "code",
   "execution_count": 18,
   "id": "d963b101",
   "metadata": {},
   "outputs": [],
   "source": [
    "PBLH_day = PBLH_day.where(sea_mask, drop=False)"
   ]
  },
  {
   "cell_type": "code",
   "execution_count": null,
   "id": "d536ac6e",
   "metadata": {},
   "outputs": [],
   "source": []
  },
  {
   "cell_type": "code",
   "execution_count": null,
   "id": "240ffe46",
   "metadata": {},
   "outputs": [],
   "source": []
  },
  {
   "cell_type": "code",
   "execution_count": null,
   "id": "e0555afb",
   "metadata": {},
   "outputs": [],
   "source": [
    "T2 = ds_hourly['T2'].groupby('time_counter.day').mean()\n",
    "T2 = T2.where(sea_mask, drop=False).values"
   ]
  },
  {
   "cell_type": "code",
   "execution_count": null,
   "id": "8d2a14e7",
   "metadata": {},
   "outputs": [],
   "source": [
    "buoya = sst_day - T2"
   ]
  },
  {
   "cell_type": "code",
   "execution_count": null,
   "id": "ec558a22",
   "metadata": {},
   "outputs": [],
   "source": []
  },
  {
   "cell_type": "code",
   "execution_count": null,
   "id": "8ffec101",
   "metadata": {},
   "outputs": [],
   "source": []
  },
  {
   "cell_type": "code",
   "execution_count": null,
   "id": "6a78c1e2",
   "metadata": {},
   "outputs": [],
   "source": []
  },
  {
   "cell_type": "code",
   "execution_count": null,
   "id": "c7e2a0ac",
   "metadata": {},
   "outputs": [],
   "source": [
    "# distributions QCLOUD data - full dataset"
   ]
  },
  {
   "cell_type": "code",
   "execution_count": 19,
   "id": "c4f587b9",
   "metadata": {},
   "outputs": [],
   "source": [
    "# MATTE AVEVA GIA' CALCOLATO TUTTE LE CORRELAZIONI \n",
    "# E HA STIMATO QUESTA LUNGHEZZA?\n",
    "L = 30\n",
    "nskip = int(L/2)\n",
    "nt = int(1)\n",
    "\n",
    "# from top pbl upwards\n",
    "# SOPRA PBL LA LUNGEHZZA DI CORRELAZIONE AUMENTA?\n",
    "# NEL SENSO CHE I SEGNALI HANNO PIù SPAZIO PER PROPAGARSI?\n",
    "Ltop = 150\n",
    "nskiptop = int(Ltop/2)\n",
    "nttop = int(1)\n",
    "\n",
    "# reference population mean\n",
    "popmean = 0.\n",
    "\n",
    "perc_step = 5\n",
    "nbins = int(100/perc_step) # Number of bins."
   ]
  },
  {
   "cell_type": "code",
   "execution_count": 20,
   "id": "2ecc3dff",
   "metadata": {},
   "outputs": [
    {
     "name": "stdout",
     "output_type": "stream",
     "text": [
      "0\n",
      "10\n",
      "20\n",
      "30\n"
     ]
    }
   ],
   "source": [
    "# percentiles\n",
    "# x,y,perc_step, nbins, popmean, nt, nttop, nskip, nskiptop, top, perc_fixbin\n",
    "# dist_x, dist_y, std_y, stderr_y, npoints_y, pvalue_y, pvalue_y_sub\n",
    "\n",
    "pdist_sst, pdist_QCLOUD, pstd_QCLOUD, pstderr_QCLOUD, pnpoints_QCLOUD, ppvalue_QCLOUD, ppvalue_QCLOUD_sub = \\\n",
    "dist_3d_subsample(sst_day.values, QCLOUD.values, perc_step, nbins, popmean, nt, nttop, nskip, nskiptop, top=27, perc_fixbin='perc')"
   ]
  },
  {
   "cell_type": "code",
   "execution_count": 22,
   "id": "d65b2a9e",
   "metadata": {},
   "outputs": [
    {
     "name": "stdout",
     "output_type": "stream",
     "text": [
      "0\n",
      "10\n",
      "20\n",
      "30\n"
     ]
    }
   ],
   "source": [
    "# bins\n",
    "dist_sst, dist_QCLOUD, std_QCLOUD, stderr_QCLOUD, npoints_QCLOUD, pvalue_QCLOUD, pvalue_QCLOUD_sub = \\\n",
    "dist_3d_subsample(sst_day.values, QCLOUD.values, perc_step, nbins, popmean, nt, nttop, nskip, nskiptop, top=27, perc_fixbin='fb')"
   ]
  },
  {
   "cell_type": "code",
   "execution_count": 23,
   "id": "b4e56668",
   "metadata": {},
   "outputs": [],
   "source": [
    "#  PBLH distrib\n",
    "\n",
    "# perc\n",
    "pdist_sst, pdist_PBLH_sst, pstd_PBLH, pstderr_PBLH, pnpoints_PBLH, ppvalue_PBLH = distrib_2d(sst_day.values, PBLH_day.values, perc_step, nbins, popmean, perc_fixbin = 'perc')\n",
    "\n",
    "# bins\n",
    "dist_sst, dist_PBLH_sst, std_PBLH, stderr_PBLH, npoints_PBLH, pvalue_PBLH = distrib_2d(sst_day.values, PBLH_day.values, perc_step, nbins, popmean, perc_fixbin = 'fb')"
   ]
  },
  {
   "cell_type": "code",
   "execution_count": 73,
   "id": "0994c713",
   "metadata": {},
   "outputs": [
    {
     "data": {
      "text/plain": [
       "(39, 20)"
      ]
     },
     "execution_count": 73,
     "metadata": {},
     "output_type": "execute_result"
    }
   ],
   "source": [
    "npoints_QCLOUD.shape"
   ]
  },
  {
   "cell_type": "code",
   "execution_count": 33,
   "id": "93cbd040",
   "metadata": {},
   "outputs": [
    {
     "data": {
      "image/png": "[encoded data removed]",
      "text/plain": [
       "<Figure size 1000x500 with 2 Axes>"
      ]
     },
     "metadata": {},
     "output_type": "display_data"
    }
   ],
   "source": [
    "p_level_plot = int(18)\n",
    "\n",
    "perc = True\n",
    "title = 'Percentiles' if perc else 'Fixed bins'\n",
    "x = pdist_sst if perc else dist_sst\n",
    "var = pdist_QCLOUD if perc else dist_QCLOUD\n",
    "minval = 0. ; maxval = 0.005\n",
    "\n",
    "fig, ax1 = plt.subplots(figsize=(10, 5))  \n",
    "p1 = ax1.pcolormesh(x-273.15, GPH_mean[0:p_level_plot], var[0:p_level_plot]*1000, vmin=minval, vmax=maxval, cmap='Purples') #pdist_dqvapor_dsst_day\n",
    "ax1.set_xlabel('SST [˚C]'); ax1.set_ylabel('GPH [m]')\n",
    "plt.title(f'{title} - daily SST vs QCLOUD - DJF mean')\n",
    "cbar = plt.colorbar(p1,ax=ax1, location='right', shrink=0.8, extend='max')  \n",
    "cbar.set_label('QCLOUD [g/kg]')\n",
    "\n",
    "var_pbl = pdist_PBLH_sst if perc else dist_PBLH_sst\n",
    "ax1.plot(x-273.15, var_pbl, '-r', linewidth=1.5)\n",
    "ax1.text(26.8, 850, 'PBLH', fontsize=12, color='r')\n",
    "\n",
    "\n",
    "# savefig\n",
    "path_img = '/venus/tesi_ale/img_EU/QCLOUD/daily/perc/DJF/' if perc else '/venus/tesi_ale/img_EU/QCLOUD/daily/bins/DJF/'\n",
    "filename = path_img + 'pdist_sst_qcloud_lowtropo_DJF.png' if perc else path_img + 'bins_sst_qcloud_lowtropo_DJF.png'\n",
    "#plt.savefig(filename)\n",
    "# print(filename)\n",
    "del filename"
   ]
  },
  {
   "cell_type": "code",
   "execution_count": 43,
   "id": "bbdaa789",
   "metadata": {},
   "outputs": [
    {
     "name": "stdout",
     "output_type": "stream",
     "text": [
      "/venus/tesi_ale/results_EU/distributions/DJF/fix_bin/QCLOUD/dist_QCLOUD_sst_day_DJF.npy\n"
     ]
    }
   ],
   "source": [
    "# save distributions data\n",
    "perc = False\n",
    "\n",
    "path_to_data = '/venus/tesi_ale/results_EU/distributions/DJF/'\n",
    "filename = path_to_data + 'perc/' if perc else path_to_data + 'fix_bin/'\n",
    "\n",
    "# pdist_sst, pdist_QCLOUD\n",
    "# save: choose each time a var to save\n",
    "x = pdist_QCLOUD if perc else dist_QCLOUD\n",
    "filename += 'QCLOUD/pdist_QCLOUD_sst_day_DJF.npy' if perc else 'QCLOUD/dist_QCLOUD_sst_day_DJF.npy'\n",
    "\n",
    "print(filename)\n",
    "#np.save(filename, x)\n",
    "del filename"
   ]
  },
  {
   "cell_type": "code",
   "execution_count": null,
   "id": "0775e7fc",
   "metadata": {},
   "outputs": [],
   "source": []
  },
  {
   "cell_type": "code",
   "execution_count": null,
   "id": "b7fd5339",
   "metadata": {},
   "outputs": [],
   "source": []
  },
  {
   "cell_type": "code",
   "execution_count": null,
   "id": "9785b7db",
   "metadata": {},
   "outputs": [],
   "source": []
  },
  {
   "cell_type": "code",
   "execution_count": null,
   "id": "53c33567",
   "metadata": {},
   "outputs": [],
   "source": []
  },
  {
   "cell_type": "code",
   "execution_count": null,
   "id": "f102c5ee",
   "metadata": {},
   "outputs": [],
   "source": []
  },
  {
   "cell_type": "code",
   "execution_count": null,
   "id": "c5c15462",
   "metadata": {},
   "outputs": [],
   "source": []
  },
  {
   "cell_type": "code",
   "execution_count": 44,
   "id": "c0d2e25a",
   "metadata": {},
   "outputs": [
    {
     "name": "stdout",
     "output_type": "stream",
     "text": [
      "0\n",
      "10\n",
      "20\n",
      "30\n",
      "40\n",
      "50\n",
      "60\n",
      "70\n",
      "80\n",
      "90\n"
     ]
    }
   ],
   "source": [
    "# compute anomalies daily data\n",
    "s = 100\n",
    "\n",
    "dsst_day = np.zeros(sst_day.shape)\n",
    "dQCLOUD_day = np.zeros(QCLOUD.values.shape)\n",
    "dPBLH_day = np.zeros(PBLH_day.shape)\n",
    "\n",
    "\n",
    "for t in range(0,sst_day.shape[0]):\n",
    "    if t % 10 == 0:\n",
    "        print(t)\n",
    "    \n",
    "    sst_ave = gm.nan_gaussian_filter(sst_day[t],s)                             \n",
    "    dsst_day[t] = sst_day[t] - sst_ave\n",
    "    \n",
    "    pbl_ave = gm.nan_gaussian_filter(PBLH_day[t],s)                             \n",
    "    dPBLH_day[t] = PBLH_day[t] - pbl_ave\n",
    "    \n",
    "    for h in range(0,QCLOUD.values.shape[1]):\n",
    "        QCLOUD_ave = gm.nan_gaussian_filter(QCLOUD[t,h],s)                             \n",
    "        dQCLOUD_day[t,h] = QCLOUD[t,h] - QCLOUD_ave"
   ]
  },
  {
   "cell_type": "code",
   "execution_count": null,
   "id": "b60bf21f",
   "metadata": {},
   "outputs": [],
   "source": [
    "# compute distributions of ANOMALIES"
   ]
  },
  {
   "cell_type": "code",
   "execution_count": 45,
   "id": "97c217e8",
   "metadata": {},
   "outputs": [
    {
     "name": "stdout",
     "output_type": "stream",
     "text": [
      "0\n",
      "10\n",
      "20\n",
      "30\n"
     ]
    }
   ],
   "source": [
    "# PERC DISTRIBUTION dQCLOUD vs dSST bin - DAILY + PVALUE SUBSAMPLED height dependent\n",
    "\n",
    "pdist_dsst_day, pdist_dQCLOUD_day, pstd_dQCLOUD_day, pstderr_dQCLOUD_day, pnpoints_dQCLOUD, ppvalue_dQCLOUD_day, ppvalue_dQCLOUD_day_sub = \\\n",
    "dist_3d_subsample(dsst_day, dQCLOUD_day, perc_step, nbins, popmean, nt, nttop, nskip, nskiptop, top=14, perc_fixbin='perc')"
   ]
  },
  {
   "cell_type": "code",
   "execution_count": 46,
   "id": "113e7a0e",
   "metadata": {},
   "outputs": [
    {
     "name": "stdout",
     "output_type": "stream",
     "text": [
      "0\n",
      "10\n",
      "20\n",
      "30\n"
     ]
    }
   ],
   "source": [
    "# BIN DISTRIBUTION dQCLOUD vs dSST bin - DAILY + PVALUE SUBSAMPLED height dependent\n",
    "\n",
    "dist_dsst_day, dist_dQCLOUD_day, std_dQCLOUD_day, stderr_dQCLOUD_day, npoints_QCLOUD, pvalue_dQCLOUD_day, pvalue_dQCLOUD_day_sub = \\\n",
    "dist_3d_subsample(dsst_day, dQCLOUD_day, perc_step, nbins, popmean, nt, nttop, nskip, nskiptop, top=14, perc_fixbin='fb')"
   ]
  },
  {
   "cell_type": "code",
   "execution_count": 64,
   "id": "a2868857",
   "metadata": {},
   "outputs": [
    {
     "name": "stdout",
     "output_type": "stream",
     "text": [
      "/venus/tesi_ale/results_EU/distributions/DJF/fix_bin/QCLOUD/dist_dQCLOUD_dsst_day_DJF.npy\n"
     ]
    }
   ],
   "source": [
    "# save distributions data\n",
    "perc = False\n",
    "\n",
    "path_to_data = '/venus/tesi_ale/results_EU/distributions/DJF/'\n",
    "filename = path_to_data + 'perc/' if perc else path_to_data + 'fix_bin/'\n",
    "\n",
    "\n",
    "# save: choose each time a var to save\n",
    "x = pdist_dQCLOUD_day if perc else dist_dQCLOUD_day\n",
    "filename += 'QCLOUD/pdist_dQCLOUD_dsst_day_DJF.npy' if perc else 'QCLOUD/dist_dQCLOUD_dsst_day_DJF.npy'\n",
    "\n",
    "print(filename)\n",
    "#np.save(filename, x)\n",
    "del filename"
   ]
  },
  {
   "cell_type": "code",
   "execution_count": null,
   "id": "aa4db8a6",
   "metadata": {},
   "outputs": [],
   "source": [
    "#####   PLOTTING ANOMALIES DISTRIBUTIONSSSS   ######"
   ]
  },
  {
   "cell_type": "code",
   "execution_count": 59,
   "id": "c85d2e11",
   "metadata": {},
   "outputs": [
    {
     "name": "stdout",
     "output_type": "stream",
     "text": [
      "/venus/tesi_ale/img_EU/QCLOUD/daily/perc/DJF/pdist_dsst_dqcloud_allevs_hatch_DJF.png\n"
     ]
    },
    {
     "data": {
      "image/png": "[encoded data removed]",
      "text/plain": [
       "<Figure size 1000x500 with 2 Axes>"
      ]
     },
     "metadata": {},
     "output_type": "display_data"
    }
   ],
   "source": [
    "p_level_plot = int(38)\n",
    "\n",
    "perc = True\n",
    "title = 'Percentiles' if perc else 'Fixed bins'\n",
    "x = pdist_dsst_day if perc else dist_dsst_day\n",
    "var = pdist_dQCLOUD_day if perc else dist_dQCLOUD_day\n",
    "minval = -0.001 ; maxval = -minval\n",
    "\n",
    "fig, ax1 = plt.subplots(figsize=(10, 5))  \n",
    "p1 = ax1.pcolormesh(x, GPH_mean[0:p_level_plot], var[0:p_level_plot]*1000, vmin=minval, vmax=maxval, cmap='seismic')\n",
    "ax1.set_xlabel('SST anomalies [˚C]'); ax1.set_ylabel('GPH [m]')\n",
    "plt.title(f'{title} - daily dSST vs dQCLOUD, DJF mean')\n",
    "cbar = plt.colorbar(p1,ax=ax1, location='right', shrink=0.8, extend='both')  \n",
    "cbar.set_label('QCLOUD anoms [g/kg]')\n",
    "\n",
    "var_pbl = pdist_PBLH_sst if perc else dist_PBLH_sst\n",
    "ax1.plot(x, var_pbl, '-k', linewidth=2)\n",
    "ax1.text(0.4, 850, 'PBLH', fontsize=12, color='k')\n",
    "\n",
    "\n",
    "\n",
    "# statistical significance hatching\n",
    "pval_val = ppvalue_dQCLOUD_day_sub[0:p_level_plot] if perc else pvalue_dQCLOUD_day_sub[0:p_level_plot]\n",
    "pval_hatch = np.ma.masked_greater(pval_val, 0.05)\n",
    "hatch = ax1.pcolor(x, GPH_mean[0:p_level_plot], pval_hatch, hatch='/', alpha=0., zorder=10)\n",
    "\n",
    "# Add hatch to the significant areas\n",
    "hatch.set_visible(True)\n",
    "hatch.set_facecolor(\"black\")\n",
    "hatch.set_edgecolor(\"none\")\n",
    "\n",
    "\n",
    "\n",
    "# savefig\n",
    "path_img = '/venus/tesi_ale/img_EU/QCLOUD/daily/perc/DJF/' if perc else '/venus/tesi_ale/img_EU/QCLOUD/daily/bins/DJF/'\n",
    "filename = path_img + 'pdist_dsst_dqcloud_allevs_hatch_DJF.png' if perc else path_img + 'bins_dsst_dqcloud_allevs_hatch_DJF.png'\n",
    "#plt.savefig(filename)\n",
    "print(filename)\n",
    "del filename"
   ]
  },
  {
   "cell_type": "code",
   "execution_count": null,
   "id": "540988e8",
   "metadata": {},
   "outputs": [],
   "source": []
  },
  {
   "cell_type": "code",
   "execution_count": null,
   "id": "bdb7d908",
   "metadata": {},
   "outputs": [],
   "source": []
  },
  {
   "cell_type": "code",
   "execution_count": null,
   "id": "4323da05",
   "metadata": {},
   "outputs": [],
   "source": []
  },
  {
   "cell_type": "code",
   "execution_count": null,
   "id": "efcb2ea7",
   "metadata": {},
   "outputs": [],
   "source": []
  },
  {
   "cell_type": "code",
   "execution_count": null,
   "id": "e562d5f8",
   "metadata": {},
   "outputs": [],
   "source": [
    "# plotting ONLY dBV or BV"
   ]
  },
  {
   "cell_type": "code",
   "execution_count": null,
   "id": "308a9858",
   "metadata": {},
   "outputs": [],
   "source": [
    "p_level_plot = int(15)"
   ]
  },
  {
   "cell_type": "code",
   "execution_count": null,
   "id": "a2717711",
   "metadata": {},
   "outputs": [],
   "source": [
    "#pval_hatch = np.ma.masked_less(pvalue_dQVAPOR_day, 0.05)\n",
    "\n",
    "# figure dQVAPOR vs dSST bin - DAILY\n",
    "fig, ax1 = plt.subplots(figsize=(10, 5))  \n",
    "p1 = ax1.pcolormesh(pdist_dsst_day, GPH_mean[0:p_level_plot], pdist_dBV_freq_day[0:p_level_plot,:]*1000, vmin=-0.025, vmax=0.025, cmap='seismic') #pdist_dqvapor_dsst_day\n",
    "ax1.set_xlabel('SST anomalies [˚C]'); ax1.set_ylabel('GPH [m]')\n",
    "plt.title('Percentiles - daily dSST vs dBV')\n",
    "\n",
    "cbar = plt.colorbar(p1,ax=ax1, location='right', pad=0.1, shrink=0.8, extend='both')  \n",
    "cbar.set_label('$N^2$ anoms [$10^3 \\cdot s^{-2}$]')\n",
    "\n",
    "\n",
    "\n",
    "# statistical (in)significance hatching\n",
    "pval = ppvalue_dBV_freq_day_sub if anoms else ppvalue_BV_freq_sub\n",
    "pval_hatch = np.ma.masked_greater(pval, 0.05)\n",
    "plt.pcolor(pdist_dsst_day, GPH_mean[0:p_level_plot], pval_hatch, hatch='/', alpha=1.)   #, zorder=10)\n",
    "\n",
    "\n",
    "\n",
    "#plt.savefig('/venus/tesi_ale/img_EU/QVAPOR/daily/pdist/pdist_dsst-dqvap-dpblh_day_lowtropo.png')"
   ]
  },
  {
   "cell_type": "code",
   "execution_count": null,
   "id": "48ec3ed0",
   "metadata": {},
   "outputs": [],
   "source": []
  },
  {
   "cell_type": "code",
   "execution_count": null,
   "id": "899831e1",
   "metadata": {},
   "outputs": [],
   "source": []
  },
  {
   "cell_type": "code",
   "execution_count": null,
   "id": "4332d8db",
   "metadata": {},
   "outputs": [],
   "source": [
    "# FIXED BIN DISTRIBUTIONS"
   ]
  },
  {
   "cell_type": "code",
   "execution_count": null,
   "id": "a2d0c4e3",
   "metadata": {},
   "outputs": [],
   "source": [
    "# FB DISTRIBUTION dBV_freq vs dSST bin - DAILY + PVALUE subsampled\n",
    "\n",
    "perc_step = 5\n",
    "nbins = int(100/perc_step) # Number of bins.\n",
    "popmean = 0\n",
    "\n",
    "dist_dsst_day, dist_dBV_freq_day, stderr_dBV_freq_day, npoint_dBV_freq_day, pvalue_dBV_freq_day, pvalue_dBV_freq_day_sub = \\\n",
    "dist_3d_subsample(dsst_day, dBV_freq_day, perc_step, nbins, popmean, nt, nttop, nskip, nskiptop, top=27, 'fb')\n",
    "\n",
    "\n",
    "'''dist_dBV_freq_day = np.zeros((dBV_freq_day.shape[1],nbins))\n",
    "npoint_dBV_freq_day = np.zeros((dBV_freq_day.shape[1],nbins))\n",
    "stderr_dBV_freq_day = np.zeros((dBV_freq_day.shape[1],nbins))\n",
    "pvalue_dBV_freq_day = np.zeros((dBV_freq_day.shape[1],nbins))\n",
    "\n",
    "for h in range(0,dBV_freq_day.shape[1]):\n",
    "    if h % 10 == 0:\n",
    "        print(h)   \n",
    "    x = dsst_day.copy(); control = x.reshape(-1)\n",
    "    y = dBV_freq_day[:,h].copy(); variable = y.reshape(-1)\n",
    "    \n",
    "    ##### Fixed bin distribution: \n",
    "    dist_dsst_day, dist_dBV_freq_day[h], stderr_dBV_freq_day[h], npoint_dBV_freq_day[h], pv = fb_distribution_npoint_pvalue(control, variable, nbins, perc_step, popmean)\n",
    "    \n",
    "    ##### Fixed bin distribution: pvalue on subsampled field\n",
    "    if h <= 27:\n",
    "        x = dsst_day[::nt,::nskip,::nskip].copy(); control = x.reshape(-1)\n",
    "        y = dBV_freq_day[::nt,h,::nskip,::nskip].copy(); variable = y.reshape(-1)\n",
    "    else:\n",
    "        x = dsst_day[::nttop,::nskiptop,::nskiptop].copy(); control = x.reshape(-1)\n",
    "        y = dBV_freq_day[::nttop,h,::nskiptop,::nskiptop].copy(); variable = y.reshape(-1)\n",
    "    dist_control, dist, stderr, npoint, pvalue_dBV_freq_day[h] = fb_distribution_npoint_pvalue(control, variable, nbins, perc_step, popmean)'''"
   ]
  },
  {
   "cell_type": "code",
   "execution_count": null,
   "id": "f7f7e71d",
   "metadata": {},
   "outputs": [],
   "source": [
    "# FB DISTRIBUTION BV vs dSST bin - DAILY + PVALUE subsampled\n",
    "perc_step = 5\n",
    "nbins = int(100/perc_step) # Number of bins.\n",
    "\n",
    "dist_dsst_day, dist_BV_freq, std_BV_freq, stderr_BV_freq, pvalue_BV_freq, pvalue_BV_freq_sub = \\\n",
    "dist_3d_subsample(dsst_day, BV_freq, perc_step, nbins, popmean, nt, nttop, nskip, nskiptop, top=27, 'fb')\n",
    "\n",
    "\n",
    "\n",
    "\n",
    "'''dist_BV_freq = np.zeros((BV_freq.shape[1],nbins))\n",
    "npoint_BV_freq = np.zeros((BV_freq.shape[1],nbins))\n",
    "stderr_BV_freq = np.zeros((BV_freq.shape[1],nbins))\n",
    "pvalue_BV_freq = np.zeros((BV_freq.shape[1],nbins))\n",
    "\n",
    "for h in range(0,BV_freq.shape[1]):\n",
    "    if h % 10 == 0:\n",
    "        print(h)   \n",
    "    x = dsst_day.copy(); control = x.reshape(-1)\n",
    "    y = BV_freq[:,h].magnitude.copy(); variable = y.reshape(-1)\n",
    "    \n",
    "    ##### Fixed bin distribution: \n",
    "    dist_dsst_day, dist_BV_freq[h], stderr_BV_freq[h], npoint_BV_freq[h], pv = fb_distribution_npoint_pvalue(control, variable, nbins, perc_step, popmean)\n",
    "    \n",
    "    ##### Fixed bin distribution: pvalue on subsampled field\n",
    "    if h <= 27:\n",
    "        x = dsst_day[::nt,::nskip,::nskip].copy(); control = x.reshape(-1)\n",
    "        y = BV_freq[::nt,h,::nskip,::nskip].magnitude.copy(); variable = y.reshape(-1)\n",
    "    else:\n",
    "        x = dsst_day[::nttop,::nskiptop,::nskiptop].copy(); control = x.reshape(-1)\n",
    "        y = BV_freq[::nttop,h,::nskiptop,::nskiptop].magnitude.copy(); variable = y.reshape(-1)\n",
    "    dist_control, dist, stderr, npoint, pvalue_BV_freq[h] = fb_distribution_npoint_pvalue(control, variable, nbins, perc_step, popmean)'''"
   ]
  },
  {
   "cell_type": "code",
   "execution_count": null,
   "id": "d058e5ca",
   "metadata": {},
   "outputs": [],
   "source": []
  },
  {
   "cell_type": "code",
   "execution_count": null,
   "id": "22536f91",
   "metadata": {},
   "outputs": [],
   "source": []
  },
  {
   "cell_type": "code",
   "execution_count": null,
   "id": "7659e285",
   "metadata": {},
   "outputs": [],
   "source": []
  },
  {
   "cell_type": "code",
   "execution_count": null,
   "id": "00fada06",
   "metadata": {},
   "outputs": [],
   "source": [
    "# correlations with PBLH"
   ]
  },
  {
   "cell_type": "code",
   "execution_count": null,
   "id": "87c01e57",
   "metadata": {},
   "outputs": [],
   "source": [
    "wrf_hourly = path + 'Caraibes_WRF_3h_surf.nc'\n",
    "ds_hourly = xr.open_dataset(wrf_hourly)\n",
    "ds_hourly = ds_hourly.sel(time_counter=slice('2020-02-01T01:30:00.000000000', '2020-03-01T01:30:00.000000000'))"
   ]
  },
  {
   "cell_type": "code",
   "execution_count": null,
   "id": "3039f959",
   "metadata": {},
   "outputs": [],
   "source": [
    "PBLH_day = ds_hourly['PBLH'].groupby('time_counter.day').mean()\n",
    "PBLH_day = PBLH_day.where(sea_mask, drop=False).values;"
   ]
  },
  {
   "cell_type": "code",
   "execution_count": null,
   "id": "c51dac9b",
   "metadata": {},
   "outputs": [],
   "source": [
    "dPBLH_day = np.zeros(PBLH_day.shape)\n",
    "\n",
    "for t in range(0,sst_day.shape[0]):\n",
    "    if t % 10 == 0:\n",
    "        print(t)\n",
    "    PBLH_ave = gm.nan_gaussian_filter(PBLH_day[t],s)\n",
    "    dPBLH_day[t] = PBLH_day[t] - PBLH_ave"
   ]
  },
  {
   "cell_type": "code",
   "execution_count": null,
   "id": "fafc0f85",
   "metadata": {},
   "outputs": [],
   "source": [
    "# PERC DISTRIBUTION    +   \n",
    "perc_step = 5\n",
    "nbins = int(100/perc_step) # Number of bins.\n",
    "\n",
    "# dPBLH vs dSST - DAILY\n",
    "pdist_dsst_day, pdist_dPBLH_day, pstd_dPBLH_day, pstderr_dPBLH_day, ppvalue_dPBLH_day = \\\n",
    "distrib_2d(dsst_day, dPBLH_day, perc_step, nbins, popmean, 'perc')\n",
    "\n",
    "# dSST vs PBLH \n",
    "pdist_dsst, pdist_PBLH_dsst, pstd_PBLH_dsst, pstd_err_PBLH_dsst, ppvalue_PBLH_dsst = \\\n",
    "distrib_2d(dsst_day, PBLH_day, nbins, perc_step, popmean, 'perc')\n",
    "\n",
    "'''pdist_dPBLH_day = np.zeros((dPBLH_day.shape[1],nbins))\n",
    "pstd_dPBLH_day = np.zeros((dPBLH_day.shape[1],nbins))\n",
    "pstderr_dPBLH_day = np.zeros((dPBLH_day.shape[1],nbins))\n",
    "pvalue_dPBLH_day_sub = np.zeros((dPBLH_day.shape[1],nbins))\n",
    "pvalue_dPBLH_day = np.zeros_like(pvalue_dPBLH_day_sub)\n",
    "\n",
    " \n",
    "x = dsst_day.copy(); control = x.reshape(-1)\n",
    "y = dPBLH_day.copy(); variable = y.reshape(-1)\n",
    "    \n",
    "##### Perc bin distribution: pvalue\n",
    "pdist_dsst_day, pdist_dPBLH_day, pstd_dPBLH_day, pstderr_dPBLH_day, pvalue_dPBLH_day = perc_distribution_pvalue(control, variable, nbins, perc_step, popmean)\n",
    "\n",
    "'''\n",
    "\n",
    "'''#### # PERC DISTRIBUTION PBLH vs dSST - DAILY \n",
    "x = dsst_day.copy()\n",
    "control = x.reshape(-1)\n",
    "\n",
    "##### Perc distribution: PBLH\n",
    "y = PBLH_day.copy()\n",
    "variable = y.reshape(-1)\n",
    "pdist_dsst, pdist_PBLH_dsst, pstd_PBLH_dsst, pstd_err_PBLH_dsst, pvalue_PBLH_dsst = perc_distribution_pvalue(control, variable, nbins, perc_step, popmean)\n",
    "\n",
    "'''"
   ]
  },
  {
   "cell_type": "code",
   "execution_count": null,
   "id": "e4606194",
   "metadata": {},
   "outputs": [],
   "source": [
    "# FB DISTRIBUTION dPBLH vs dSST bin - DAILY \n",
    "perc_step = 5\n",
    "nbins = int(100/perc_step) # Number of bins.\n",
    "\n",
    "\n",
    "# dPBLH vs dSST - DAILY\n",
    "dist_dsst_day, dist_dPBLH_day, std_dPBLH_day, stderr_dPBLH_day, pvalue_dPBLH_day = \\\n",
    "distrib_2d(dsst_day, dPBLH_day, perc_step, nbins, popmean, 'fb')\n",
    "\n",
    "# dSST vs PBLH \n",
    "dist_dsst, dist_PBLH_dsst, std_PBLH_dsst, std_err_PBLH_dsst, pvalue_PBLH_dsst = \\\n",
    "distrib_2d(dsst_day, PBLH_day, nbins, perc_step, popmean, 'fb')\n",
    "\n",
    "\n",
    "\n",
    "'''dist_dPBLH_day = np.zeros((dPBLH_day.shape[1],nbins))\n",
    "std_dPBLH_day = np.zeros((dPBLH_day.shape[1],nbins))\n",
    "stderr_dPBLH_day = np.zeros((dPBLH_day.shape[1],nbins))\n",
    "pvalue_dPBLH_day = np.zeros_like(pvalue_dPBLH_day_sub)\n",
    "\n",
    " \n",
    "x = dsst_day.copy(); control = x.reshape(-1)\n",
    "y = dPBLH_day.copy(); variable = y.reshape(-1)\n",
    "    \n",
    "##### Perc bin distribution: pvalue\n",
    "dist_dsst_day, dist_dPBLH_day, std_dPBLH_day, stderr_dPBLH_day, pvalue_dPBLH_day = fb_distribution_npoint_pvalue(control, variable, nbins, perc_step, popmean)\n",
    "\n",
    "\n",
    "\n",
    "#### # PERC DISTRIBUTION PBLH vs dSST bin - DAILY \n",
    "x = dsst_day.copy()\n",
    "control = x.reshape(-1)\n",
    "\n",
    "##### Perc distribution: PBLH\n",
    "y = PBLH_day.copy()\n",
    "variable = y.reshape(-1)\n",
    "dist_dsst, dist_PBLH_dsst, std_PBLH_dsst, std_err_PBLH_dsst, pvalue_PBLH_dsst = fb_distribution_npoint_pvalue(control, variable, nbins, perc_step, popmean)\n",
    "'''"
   ]
  },
  {
   "cell_type": "code",
   "execution_count": null,
   "id": "683d0f4d",
   "metadata": {},
   "outputs": [],
   "source": []
  },
  {
   "cell_type": "code",
   "execution_count": null,
   "id": "c431b895",
   "metadata": {},
   "outputs": [],
   "source": [
    "# figure dBV or BV vs dSST bin - DAILY\n",
    "anoms = False\n",
    "var = pdist_dBV_freq_day[0:p_level_plot,:]*1000 if anoms else pdist_BV_freq[0:p_level_plot,:]*1000\n",
    "minval = -0.025 if anoms else -0.1\n",
    "maxval = -minval\n",
    "\n",
    "fig, ax1 = plt.subplots(figsize=(10, 5))  \n",
    "p1 = ax1.pcolormesh(pdist_dsst_day, GPH_mean[0:p_level_plot], var, vmin=minval, vmax=maxval, cmap='seismic') #pdist_dqvapor_dsst_day\n",
    "ax1.set_xlabel('SST anomalies [˚C]'); ax1.set_ylabel('GPH [m]')\n",
    "plt.title('Percentiles - daily dSST vs BV and PBLH')\n",
    "cbar = plt.colorbar(p1,ax=ax1, location='right', pad=0.1, shrink=0.8, extend='both')  \n",
    "cbar.set_label('$N^2$ [$10^3 \\cdot s^{-2}$]')\n",
    "\n",
    "ax1.plot(pdist_dsst, pdist_PBLH_dsst, 'k')\n",
    "ax1.text(0.4, 755, 'PBLH', fontsize=12)\n",
    "\n",
    "\n",
    "\n",
    "# statistical significance hatching\n",
    "pval = ppvalue_dBV_freq_day_sub if anoms else ppvalue_BV_freq_sub\n",
    "pval_hatch = np.ma.masked_greater(pval, 0.05)\n",
    "plt.pcolor(pdist_dsst_day, GPH_mean[0:p_level_plot], pval_hatch, hatch='/', alpha=1.)   #, zorder=10)\n",
    "\n",
    "\n",
    "\n",
    "#plt.savefig('/venus/tesi_ale/img_EU/BV/daily/distrib/perc/pdist_dsst-fullBV-PBLH_lowtropo.png')\n"
   ]
  },
  {
   "cell_type": "code",
   "execution_count": null,
   "id": "c53634c0",
   "metadata": {},
   "outputs": [],
   "source": []
  },
  {
   "cell_type": "code",
   "execution_count": null,
   "id": "b0d16c2e",
   "metadata": {},
   "outputs": [],
   "source": [
    "# figure dBV or BV vs dSST bin - DAILY\n",
    "anoms = True\n",
    "var = dist_dBV_freq_day[0:p_level_plot,:]*1000 if anoms else dist_BV_freq[0:p_level_plot,:]*1000\n",
    "minval = -0.025 if anoms else -0.1\n",
    "maxval = -minval\n",
    "\n",
    "fig, ax1 = plt.subplots(figsize=(10, 5))  \n",
    "p1 = ax1.pcolormesh(dist_dsst_day, GPH_mean[0:p_level_plot], var, vmin=minval, vmax=maxval, cmap='seismic') #pdist_dqvapor_dsst_day\n",
    "ax1.set_xlabel('SST anomalies [˚C]'); ax1.set_ylabel('GPH [m]')\n",
    "plt.title('Fixed bins - daily dSST vs BV and PBLH')\n",
    "cbar = plt.colorbar(p1,ax=ax1, location='right', pad=0.1, shrink=0.8, extend='both')  \n",
    "cbar.set_label('$N^2$ anoms [$10^3 \\cdot s^{-2}$]')\n",
    "\n",
    "ax1.plot(dist_dsst, dist_PBLH_dsst, 'k')\n",
    "ax1.text(0.4, 755, 'PBLH', fontsize=12)\n",
    "\n",
    "\n",
    "# statistical significance hatching\n",
    "pval = pvalue_dBV_freq_day_sub if anoms else pvalue_BV_freq_sub\n",
    "pval_hatch = np.ma.masked_greater(pvalue_dQVAPOR_day, 0.05)\n",
    "plt.pcolor(pdist_dsst_day, GPH_mean[0:p_level_plot], pval_hatch, hatch='/', alpha=1.)   #, zorder=10)\n",
    "\n",
    "\n",
    "#plt.savefig('/venus/tesi_ale/img_EU/BV/daily/distrib/fix_bin/bin_dsst-dBV-PBLH_lowtropo.png')\n"
   ]
  },
  {
   "cell_type": "code",
   "execution_count": null,
   "id": "28548e47",
   "metadata": {},
   "outputs": [],
   "source": []
  },
  {
   "cell_type": "code",
   "execution_count": null,
   "id": "b28752bd",
   "metadata": {},
   "outputs": [],
   "source": [
    "#######   SEE BEHAVIOUR OF SURFACE HEAT FLUXES"
   ]
  },
  {
   "cell_type": "code",
   "execution_count": null,
   "id": "a02392be",
   "metadata": {},
   "outputs": [],
   "source": [
    "LH = ds_hourly['LH'].groupby('time_counter.day').mean()            \n",
    "LH = LH.where(sea_mask, drop=False).values; \n",
    "\n",
    "HFX = ds_hourly['HFX'].groupby('time_counter.day').mean()            \n",
    "HFX = HFX.where(sea_mask, drop=False).values; "
   ]
  },
  {
   "cell_type": "code",
   "execution_count": null,
   "id": "cb712e58",
   "metadata": {},
   "outputs": [],
   "source": [
    "# this should be the Bowen ratio at the surface\n",
    "heat_ratio = LH/HFX\n",
    "heat_ratio[HFX==0] = 999."
   ]
  },
  {
   "cell_type": "code",
   "execution_count": null,
   "id": "28560654",
   "metadata": {},
   "outputs": [],
   "source": [
    "# heat anomalies"
   ]
  },
  {
   "cell_type": "code",
   "execution_count": null,
   "id": "c1c413fe",
   "metadata": {},
   "outputs": [],
   "source": [
    "s = 100\n",
    "\n",
    "dLH = np.zeros(LH.shape)\n",
    "dHFX = np.zeros(HFX.shape)\n",
    "\n",
    "for t in range(0,LH.shape[0]):\n",
    "    if t % 10 == 0:\n",
    "        print(t)\n",
    "    # upscale using gaussian filter\n",
    "    LH_ave = gm.nan_gaussian_filter(LH[t],s)                             \n",
    "    dLH[t] = LH[t] - LH_ave\n",
    "    \n",
    "    HFX_ave = gm.nan_gaussian_filter(HFX[t],s)                             \n",
    "    dHFX[t] = HFX[t] - HFX_ave"
   ]
  },
  {
   "cell_type": "code",
   "execution_count": null,
   "id": "cbf91f0f",
   "metadata": {},
   "outputs": [],
   "source": []
  },
  {
   "cell_type": "code",
   "execution_count": null,
   "id": "1ea161ba",
   "metadata": {},
   "outputs": [],
   "source": [
    "# DISTRIBUTIONS"
   ]
  },
  {
   "cell_type": "code",
   "execution_count": null,
   "id": "f44b24c9",
   "metadata": {},
   "outputs": [],
   "source": [
    "perc_step = 5\n",
    "nbins = int(100/perc_step) # Number of bins.\n",
    "popmean = 0"
   ]
  },
  {
   "cell_type": "code",
   "execution_count": null,
   "id": "c7dc3de8",
   "metadata": {},
   "outputs": [],
   "source": [
    "# dSST vs dLH / dHFX vs PBLH"
   ]
  },
  {
   "cell_type": "code",
   "execution_count": null,
   "id": "745b93c1",
   "metadata": {},
   "outputs": [],
   "source": [
    "# I want to build distributions for \n",
    "# dsst and dbuoya\n",
    "# without taking up too much space\n",
    "\n",
    "dsst_bool = True\n",
    "x = dsst_day if dsst_bool else dbuoya_day"
   ]
  },
  {
   "cell_type": "code",
   "execution_count": null,
   "id": "d764d099",
   "metadata": {},
   "outputs": [],
   "source": [
    "# dSST vs dLH\n",
    "pdist_x, pdist_dLH, pstd_dLH, pstderr_dLH, pnpoints_dLH, ppvalue_dLH =   distrib_2d(x, dLH, perc_step, nbins, popmean, perc_fixbin='perc')\n",
    "dist_x, dist_dLH, std_dLH, stderr_dLH, npoints_dLH, pvalue_dLH       =   distrib_2d(x, dLH, perc_step, nbins, popmean, perc_fixbin='fb')"
   ]
  },
  {
   "cell_type": "code",
   "execution_count": null,
   "id": "f0aad64f",
   "metadata": {},
   "outputs": [],
   "source": [
    "# dSST vs dHFX\n",
    "pdist_x, pdist_dHFX, pstd_dHFX, pstderr_dHFX, pnpoints_dHFX, ppvalue_dHFX =   distrib_2d(x, dHFX, perc_step, nbins, popmean, perc_fixbin='perc')\n",
    "dist_x, dist_dHFX, std_dHFX, stderr_dHFX, npoints_dHFX, pvalue_dHFX       =   distrib_2d(x, dHFX, perc_step, nbins, popmean, perc_fixbin='fb')"
   ]
  },
  {
   "cell_type": "code",
   "execution_count": null,
   "id": "420c1906",
   "metadata": {},
   "outputs": [],
   "source": [
    "# dSST vs dPBLH\n",
    "pdist_x, pdist_dPBLH, pstd_dPBLH, pstderr_dPBLH, pnpoints_dPBLH, ppvalue_dPBLH =   distrib_2d(x, dPBLH_day, perc_step, nbins, popmean, perc_fixbin='perc')\n",
    "dist_x, dist_dPBLH, std_dPBLH, stderr_dPBLH, npoints_dPBLH, pvalue_dPBLH       =   distrib_2d(x, dPBLH_day, perc_step, nbins, popmean, perc_fixbin='fb')\n"
   ]
  },
  {
   "cell_type": "code",
   "execution_count": null,
   "id": "b9fb6a28",
   "metadata": {},
   "outputs": [],
   "source": [
    "# the last, highest dSST / dLH bin\n",
    "# is actually one of the most populated\n",
    "\n",
    "npoints_dPBLH"
   ]
  },
  {
   "cell_type": "code",
   "execution_count": null,
   "id": "f76f3260",
   "metadata": {},
   "outputs": [],
   "source": [
    "# dSST vs PBLH\n",
    "pdist_x, pdist_PBLH, pstd_PBLH, pstderr_PBLH, pnpoints_PBLH, ppvalue_PBLH =   distrib_2d(x, PBLH_day, perc_step, nbins, popmean, perc_fixbin='perc')\n",
    "dist_x, dist_PBLH, std_PBLH, stderr_PBLH, npoints_PBLH, pvalue_PBLH       =   distrib_2d(x, PBLH_day, perc_step, nbins, popmean, perc_fixbin='fb')"
   ]
  },
  {
   "cell_type": "code",
   "execution_count": null,
   "id": "04a24cec",
   "metadata": {},
   "outputs": [],
   "source": []
  },
  {
   "cell_type": "code",
   "execution_count": null,
   "id": "c85f9fb5",
   "metadata": {},
   "outputs": [],
   "source": []
  },
  {
   "cell_type": "code",
   "execution_count": null,
   "id": "0f0d8a48",
   "metadata": {},
   "outputs": [],
   "source": [
    "#### PLOTTING"
   ]
  },
  {
   "cell_type": "code",
   "execution_count": null,
   "id": "39a488da",
   "metadata": {},
   "outputs": [],
   "source": [
    "# dist_x vs dLH\n",
    "\n",
    "fig, (ax1, ax2) = plt.subplots(1, 2)\n",
    "\n",
    "p1 = ax1.plot(pdist_x, pdist_dLH, '*-r')\n",
    "ax1.set_xlabel('dSST [$^{\\circ}C$]')\n",
    "ax1.set_ylabel('dLH [$Wm^{-2}$]')\n",
    "ax1.set_title('Percentiles - dSST vs dLH daily'); ax1.grid()\n",
    "\n",
    "p2 = ax2.plot(dist_x, dist_dLH, '*-b')\n",
    "ax2.set_xlabel('dSST [$^{\\circ}C$]')\n",
    "ax2.set_title('Bins - dSST vs dLH daily'); ax2.grid()\n",
    "\n",
    "\n",
    "plt.subplots_adjust(wspace=0.4, \n",
    "                    hspace=0.3)"
   ]
  },
  {
   "cell_type": "code",
   "execution_count": null,
   "id": "0e44bacc",
   "metadata": {},
   "outputs": [],
   "source": [
    "# dist_x vs dHFX\n",
    "\n",
    "fig, (ax1, ax2) = plt.subplots(1, 2)\n",
    "\n",
    "p1 = ax1.plot(pdist_x, pdist_dHFX, '*-r')\n",
    "ax1.set_xlabel('dSST [$^{\\circ}C$]')\n",
    "ax1.set_ylabel('dHFX [$Wm^{-2}$]')\n",
    "ax1.set_title('Percentiles - dSST vs dHFX daily'); ax1.grid()\n",
    "\n",
    "p2 = ax2.plot(dist_x, dist_dLH, '*-b')\n",
    "ax2.set_xlabel('dSST [$^{\\circ}C$]')\n",
    "ax2.set_title('Bins - dSST vs dHFX daily'); ax2.grid()\n",
    "\n",
    "\n",
    "plt.subplots_adjust(wspace=0.4, \n",
    "                    hspace=0.3)"
   ]
  },
  {
   "cell_type": "code",
   "execution_count": null,
   "id": "640b4c4a",
   "metadata": {},
   "outputs": [],
   "source": [
    "# dLH vs dPBLH\n",
    "\n",
    "fig, (ax1, ax2) = plt.subplots(1, 2)\n",
    "\n",
    "p1 = ax1.plot(pdist_dLH, pdist_dPBLH, '*-r')\n",
    "ax1.set_xlabel('dLH [$Wm^{-2}$]')\n",
    "ax1.set_ylabel('dPBHL [m]')\n",
    "ax1.set_title('Percentiles - dLH vs dPBLH daily'); ax1.grid()\n",
    "\n",
    "p2 = ax2.plot(dist_dLH, dist_dPBLH, '*-b')\n",
    "ax2.set_xlabel('dLH [$Wm^{-2}$]')\n",
    "ax2.set_title('Bins - dLH vs dPBLH daily'); ax2.grid()\n",
    "\n",
    "\n",
    "plt.subplots_adjust(wspace=0.4, \n",
    "                    hspace=0.3)"
   ]
  },
  {
   "cell_type": "code",
   "execution_count": null,
   "id": "6f99df9b",
   "metadata": {},
   "outputs": [],
   "source": []
  },
  {
   "cell_type": "code",
   "execution_count": null,
   "id": "c5bc520b",
   "metadata": {},
   "outputs": [],
   "source": [
    "#### DISTRIBUTIONS  HF  vs   DIV_U?"
   ]
  },
  {
   "cell_type": "code",
   "execution_count": null,
   "id": "8c5d6f8a",
   "metadata": {},
   "outputs": [],
   "source": []
  },
  {
   "cell_type": "code",
   "execution_count": null,
   "id": "933da7c3",
   "metadata": {},
   "outputs": [],
   "source": []
  }
 ],
 "metadata": {
  "kernelspec": {
   "display_name": "Python 3 (ipykernel)",
   "language": "python",
   "name": "python3"
  },
  "language_info": {
   "codemirror_mode": {
    "name": "ipython",
    "version": 3
   },
   "file_extension": ".py",
   "mimetype": "text/x-python",
   "name": "python",
   "nbconvert_exporter": "python",
   "pygments_lexer": "ipython3",
   "version": "3.7.11"
  }
 },
 "nbformat": 4,
 "nbformat_minor": 5
}
