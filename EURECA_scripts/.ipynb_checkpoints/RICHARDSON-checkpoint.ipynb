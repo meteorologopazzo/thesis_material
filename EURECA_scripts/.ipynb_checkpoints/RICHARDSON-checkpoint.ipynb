{
 "cells": [
  {
   "cell_type": "code",
   "execution_count": 1,
   "id": "5e2e0e5d",
   "metadata": {},
   "outputs": [],
   "source": [
    "%load_ext autoreload\n",
    "%autoreload 2"
   ]
  },
  {
   "cell_type": "code",
   "execution_count": 2,
   "id": "4756a80f",
   "metadata": {},
   "outputs": [],
   "source": [
    "import numpy as np\n",
    "import pandas as pd\n",
    "import glob\n",
    "import xarray as xr\n",
    "import matplotlib.pyplot as plt\n",
    "from scipy import stats\n",
    "\n",
    "import sys; sys.path.insert(1, '/home/alessandro/thesis_material')\n",
    "import os\n",
    "\n",
    "import geometry as gm\n",
    "#import conversion as cnv\n",
    "from func_statistics import compute_pdf_nbin, slopes_r_p, slope_time, slope_maps\n",
    "#from coare_functions import *\n",
    "\n",
    "import meteo                    # wind_dir_speed\n",
    "import metpy.calc as mpcalc\n",
    "from metpy.units import units\n",
    "import lcl\n",
    "\n",
    "from windrose import WindroseAxes\n",
    "import cartopy.crs as ccrs\n",
    "crs = ccrs.PlateCarree()\n",
    "#from plotmap import plot_background\n",
    "\n",
    "from plotdistr import * #fb_distribution_npoint, perc_distribution, scatterplot_fit, hist2d, perc_distribution_pvalue\n",
    "from pdist_fb_distrib_save_fast import *\n",
    "\n",
    "import warnings; warnings.filterwarnings(\"ignore\")"
   ]
  },
  {
   "cell_type": "code",
   "execution_count": 3,
   "id": "eee0d870",
   "metadata": {},
   "outputs": [],
   "source": [
    "# find data\n",
    "path = '/saturn/simu_Caribbean/coupled_2km/output/'\n",
    "files_ls = ['QCLOUD', 'U', 'V', 'W', 'OLR', 'PH', 'PHB', 'QVAPOR', 'PB', 'P', 'T']\n",
    "files_ls = [name + '.nc' for name in files_ls]\n",
    "wrf_files = [path+name for name in files_ls]\n",
    "#fname_list = sorted(glob.glob(wrf_files + '*'))"
   ]
  },
  {
   "cell_type": "code",
   "execution_count": 4,
   "id": "6d4b680c",
   "metadata": {},
   "outputs": [],
   "source": [
    "# import sea_mask\n",
    "if os.path.exists('/home/alessandro/thesis_material/EURECA_scripts/sea_mask_EU_new.npy'):\n",
    "    sea_mask = np.load('/home/alessandro/thesis_material/EURECA_scripts/sea_mask_EU_new.npy')"
   ]
  },
  {
   "cell_type": "code",
   "execution_count": 8,
   "id": "646bd309",
   "metadata": {},
   "outputs": [],
   "source": [
    "# MATTE AVEVA GIA' CALCOLATO TUTTE LE CORRELAZIONI \n",
    "# E HA STIMATO QUESTA LUNGHEZZA?\n",
    "L = 30\n",
    "nskip = int(L/2)\n",
    "nt = int(1)\n",
    "\n",
    "# from top pbl upwards\n",
    "# SOPRA PBL LA LUNGEHZZA DI CORRELAZIONE AUMENTA?\n",
    "# NEL SENSO CHE I SEGNALI HANNO PIù SPAZIO PER PROPAGARSI?\n",
    "Ltop = 150\n",
    "nskiptop = int(Ltop/2)\n",
    "nttop = int(1)\n",
    "\n",
    "# reference population mean\n",
    "popmean = 0."
   ]
  },
  {
   "cell_type": "code",
   "execution_count": null,
   "id": "743555f9",
   "metadata": {},
   "outputs": [],
   "source": []
  },
  {
   "cell_type": "code",
   "execution_count": 5,
   "id": "d59bf587",
   "metadata": {},
   "outputs": [],
   "source": [
    "with open('/venus/tesi_ale/data_EU/SST/daily/FEB/dSST_day_feb.npy', 'rb') as f:\n",
    "    dsst_day = np.load(f)"
   ]
  },
  {
   "cell_type": "code",
   "execution_count": null,
   "id": "967d26a3",
   "metadata": {},
   "outputs": [],
   "source": []
  },
  {
   "cell_type": "code",
   "execution_count": 7,
   "id": "0a8d9d54",
   "metadata": {},
   "outputs": [],
   "source": [
    "# load U component\n",
    "U_day = xr.open_dataset(wrf_files[files_ls.index('U.nc')])\n",
    "U_day = U_day['U'].sel(time_counter=slice('2020-02-01T01:30:00.000000000', '2020-03-01T01:30:00.000000000')).groupby('time_counter.day').mean()\n",
    "\n",
    "i = np.arange(0, sea_mask.shape[1])\n",
    "U_day = 0.5*(U_day[:,:,:,i] + U_day[:,:,:,i+1])"
   ]
  },
  {
   "cell_type": "code",
   "execution_count": 8,
   "id": "7025d8d2",
   "metadata": {},
   "outputs": [],
   "source": [
    "# select data oversea\n",
    "U_day = U_day.where(sea_mask, drop=False)"
   ]
  },
  {
   "cell_type": "code",
   "execution_count": 12,
   "id": "0c7d7db6",
   "metadata": {},
   "outputs": [],
   "source": [
    "U_day = np.load('/venus/tesi_ale/data_EU/WIND/daily/FEB/U/U_day_feb.npy')"
   ]
  },
  {
   "cell_type": "code",
   "execution_count": 12,
   "id": "80bf93c8",
   "metadata": {},
   "outputs": [],
   "source": [
    "my_save_data('/venus/tesi_ale/data_EU/WIND/daily/FEB/U/U_day_feb.npy', [U_day])"
   ]
  },
  {
   "cell_type": "code",
   "execution_count": 13,
   "id": "1614777a",
   "metadata": {},
   "outputs": [
    {
     "name": "stdout",
     "output_type": "stream",
     "text": [
      "0\n",
      "10\n",
      "20\n",
      "30\n"
     ]
    }
   ],
   "source": [
    "## U DISTRIBUTION\n",
    "perc_step = 5\n",
    "nbins = int(100/perc_step) # Number of bins.\n",
    "\n",
    "pdist_dsst, pdist_U, pstd_U, pstderr_U, pnpoints_U, ppvalue_U_sub = \\\n",
    "dist_3d_subsample(dsst_day, U_day, perc_step, nbins, popmean, nt, nttop, nskip, nskiptop, top=14, perc_fixbin='perc')"
   ]
  },
  {
   "cell_type": "code",
   "execution_count": null,
   "id": "658aa4f1",
   "metadata": {},
   "outputs": [],
   "source": []
  },
  {
   "cell_type": "code",
   "execution_count": null,
   "id": "88c4586c",
   "metadata": {},
   "outputs": [],
   "source": []
  },
  {
   "cell_type": "code",
   "execution_count": 9,
   "id": "73e97584",
   "metadata": {},
   "outputs": [],
   "source": [
    "# load V component\n",
    "V_day = xr.open_dataset(wrf_files[files_ls.index('V.nc')])\n",
    "V_day = V_day['V'].sel(time_counter=slice('2020-02-01T01:30:00.000000000', '2020-03-01T01:30:00.000000000')).groupby('time_counter.day').mean()\n",
    "\n",
    "j = np.arange(0, sea_mask.shape[0])\n",
    "V_day = 0.5*(V_day[:,:,j,:] + V_day[:,:,j+1,:])"
   ]
  },
  {
   "cell_type": "code",
   "execution_count": 10,
   "id": "5a049072",
   "metadata": {},
   "outputs": [],
   "source": [
    "# select data oversea\n",
    "V_day = V_day.where(sea_mask, drop=False)"
   ]
  },
  {
   "cell_type": "code",
   "execution_count": 14,
   "id": "d1fd1d48",
   "metadata": {},
   "outputs": [],
   "source": [
    "V_day = np.load('/venus/tesi_ale/data_EU/WIND/daily/FEB/V/V_day_feb.npy')"
   ]
  },
  {
   "cell_type": "code",
   "execution_count": 13,
   "id": "dde20ef4",
   "metadata": {},
   "outputs": [],
   "source": [
    "my_save_data('/venus/tesi_ale/data_EU/WIND/daily/FEB/V/V_day_feb.npy', [V_day])"
   ]
  },
  {
   "cell_type": "code",
   "execution_count": 16,
   "id": "194a0e8b",
   "metadata": {},
   "outputs": [
    {
     "name": "stdout",
     "output_type": "stream",
     "text": [
      "0\n",
      "10\n",
      "20\n",
      "30\n"
     ]
    }
   ],
   "source": [
    "## V DISTRIBVTION\n",
    "perc_step = 5\n",
    "nbins = int(100/perc_step) # NVmber of bins.\n",
    "\n",
    "pdist_dsst, pdist_V, pstd_V, pstderr_V, pnpoints_V, ppvalVe_V_sub = \\\n",
    "dist_3d_subsample(dsst_day, V_day, perc_step, nbins, popmean, nt, nttop, nskip, nskiptop, top=14, perc_fixbin='perc')"
   ]
  },
  {
   "cell_type": "code",
   "execution_count": null,
   "id": "281dc165",
   "metadata": {},
   "outputs": [],
   "source": []
  },
  {
   "cell_type": "code",
   "execution_count": null,
   "id": "d6199f22",
   "metadata": {},
   "outputs": [],
   "source": []
  },
  {
   "cell_type": "code",
   "execution_count": 6,
   "id": "6b2b0b2d",
   "metadata": {},
   "outputs": [],
   "source": [
    "# reading temperature\n",
    "pot_temp = xr.open_dataset(wrf_files[files_ls.index('T.nc')])\n",
    "pot_temp = pot_temp['T']\n",
    "pot_temp = pot_temp.sel(time_counter=slice('2020-02-01T01:30:00.000000000', '2020-03-01T01:30:00.000000000'))\n",
    "pot_temp = pot_temp.where(sea_mask, drop=False)\n",
    "pot_temp = pot_temp.groupby('time_counter.day').mean()\n",
    "\n",
    "T0 = 300. \n",
    "\n",
    "pot_temp_full = pot_temp+T0"
   ]
  },
  {
   "cell_type": "code",
   "execution_count": 11,
   "id": "149acef5",
   "metadata": {},
   "outputs": [
    {
     "name": "stdout",
     "output_type": "stream",
     "text": [
      "0\n",
      "10\n",
      "20\n",
      "30\n"
     ]
    }
   ],
   "source": [
    "## TEMPERATURE DISTRIBUTION\n",
    "perc_step = 5\n",
    "nbins = int(100/perc_step) # Number of bins.\n",
    "\n",
    "pdist_dsst, pdist_theta, pstd_theta, pstderr_theta, pnpoints_theta, ppvalue_theta_sub = \\\n",
    "dist_3d_subsample(dsst_day, pot_temp_full.values, perc_step, nbins, popmean, nt, nttop, nskip, nskiptop, top=14, perc_fixbin='perc')"
   ]
  },
  {
   "cell_type": "code",
   "execution_count": null,
   "id": "83279e78",
   "metadata": {},
   "outputs": [],
   "source": []
  },
  {
   "cell_type": "code",
   "execution_count": null,
   "id": "6a5b7297",
   "metadata": {},
   "outputs": [],
   "source": []
  },
  {
   "cell_type": "code",
   "execution_count": null,
   "id": "9dbf8384",
   "metadata": {},
   "outputs": [],
   "source": []
  },
  {
   "cell_type": "code",
   "execution_count": 17,
   "id": "25e6d09c",
   "metadata": {},
   "outputs": [],
   "source": [
    "# reading geopotential height\n",
    "GPH_base = xr.open_dataset(wrf_files[files_ls.index('PHB.nc')])\n",
    "GPH_base = GPH_base['PHB']/9.81\n",
    "\n",
    "GPH = xr.open_dataset(wrf_files[files_ls.index('PH.nc')])\n",
    "GPH = GPH.sel(time_counter=slice('2020-02-01T01:30:00.000000000', '2020-03-01T01:30:00.000000000'))\n",
    "GPH = GPH['PH']/9.81\n",
    "\n",
    "GPH = GPH_base + GPH\n",
    "GPH = GPH.transpose('time_counter', 'lev_W', 'y_grid_M', 'x_grid_M')\n",
    "GPH = GPH.where(sea_mask, drop=False)\n",
    "\n",
    "GPH = GPH.groupby('time_counter.day').mean()\n",
    "\n",
    "#GPH_base = GPH_base.where(sea_mask, drop=False)\n",
    "del GPH_base"
   ]
  },
  {
   "cell_type": "code",
   "execution_count": 18,
   "id": "61552277",
   "metadata": {},
   "outputs": [],
   "source": [
    "# vertical interpolation of geopotential\n",
    "GPH_inter = np.zeros_like(pot_temp)\n",
    "for i in range(39):\n",
    "    GPH_inter[:,i,:,:] = (GPH[:,i+1,:,:]+GPH[:,i,:,:])*0.5"
   ]
  },
  {
   "cell_type": "code",
   "execution_count": 27,
   "id": "fe61cb51",
   "metadata": {},
   "outputs": [
    {
     "name": "stdout",
     "output_type": "stream",
     "text": [
      "0\n",
      "10\n",
      "20\n",
      "30\n"
     ]
    }
   ],
   "source": [
    "## GPH DISTRIBVTION\n",
    "perc_step = 5\n",
    "nbins = int(100/perc_step) # NVmber of bins.\n",
    "\n",
    "pdist_dsst, pdist_gph, pstd_gph, pstderr_gph, pnpoints_gph, ppvalue_gph_sub = \\\n",
    "dist_3d_subsample(dsst_day, GPH_inter, perc_step, nbins, popmean, nt, nttop, nskip, nskiptop, top=14, perc_fixbin='perc')"
   ]
  },
  {
   "cell_type": "code",
   "execution_count": null,
   "id": "be9a2d36",
   "metadata": {},
   "outputs": [],
   "source": []
  },
  {
   "cell_type": "code",
   "execution_count": null,
   "id": "533019f7",
   "metadata": {},
   "outputs": [],
   "source": []
  },
  {
   "cell_type": "code",
   "execution_count": 8,
   "id": "379488c8",
   "metadata": {},
   "outputs": [],
   "source": [
    "# mean GPH over domain\n",
    "GPH_mean = GPH.mean(axis=(0,2,3))"
   ]
  },
  {
   "cell_type": "code",
   "execution_count": 9,
   "id": "69410c05",
   "metadata": {},
   "outputs": [],
   "source": [
    "my_save_data('/venus/tesi_ale/data_EU/GPH/daily/FEB/GPH_mean_column.npy', [GPH_mean])"
   ]
  },
  {
   "cell_type": "code",
   "execution_count": 30,
   "id": "9a479cd3",
   "metadata": {},
   "outputs": [],
   "source": [
    "GPH_mean = np.load('/venus/tesi_ale/data_EU/GPH/daily/FEB/GPH_mean_column.npy')\n",
    "mean_vert_pres = np.load('/venus/tesi_ale/data_EU/PRES/daily/FEB/mean_vert_pres.npy')"
   ]
  },
  {
   "cell_type": "code",
   "execution_count": null,
   "id": "be70ec73",
   "metadata": {},
   "outputs": [],
   "source": []
  },
  {
   "cell_type": "code",
   "execution_count": 28,
   "id": "b0e2df8a",
   "metadata": {},
   "outputs": [],
   "source": [
    "Ri_feb_pdist = mpcalc.gradient_richardson_number(pdist_gph*units.meters, pdist_theta*units.K, pdist_U*units('m/s'), pdist_V*units('m/s'), vertical_dim=0)"
   ]
  },
  {
   "cell_type": "code",
   "execution_count": 35,
   "id": "94e6d128",
   "metadata": {},
   "outputs": [
    {
     "name": "stdout",
     "output_type": "stream",
     "text": [
      "/venus/tesi_ale/img_EU/BV/daily/FEB/pdist_dsst_dBV_lowtropo.png\n"
     ]
    },
    {
     "data": {
      "image/png": "[encoded data removed]",
      "text/plain": [
       "<Figure size 1000x500 with 2 Axes>"
      ]
     },
     "metadata": {},
     "output_type": "display_data"
    }
   ],
   "source": [
    "p_level_plot = int(6)\n",
    "\n",
    "perc = True\n",
    "x = pdist_dsst #if perc else dist_dsst_day\n",
    "var = Ri_feb_pdist[0:p_level_plot,:] #if perc else dist_dBV_freq_day[0:p_level_plot,:]*100000\n",
    "minval = -2. #if perc else -0.05\n",
    "maxval = -minval\n",
    "title = 'Percentiles' #if perc else 'Fixed bins'\n",
    "\n",
    "fig, ax1 = plt.subplots(figsize=(10, 5))  \n",
    "ax1.invert_yaxis()\n",
    "p1 = ax1.pcolormesh(x, mean_vert_pres[0:p_level_plot], var, vmin=minval, vmax=maxval, cmap='seismic')\n",
    "ax1.set_xlabel('SST anomalies [˚C]'); ax1.set_ylabel('pressure [hPa]')\n",
    "plt.title(f'{title} - daily dSST vs Richardson and PBLH')\n",
    "cbar = plt.colorbar(p1,ax=ax1, location='right', shrink=0.8, extend='both')  \n",
    "cbar.set_label('Ri')\n",
    "\n",
    "\n",
    "'''x_pbl = pdist_dsst #if perc else dist_dsst\n",
    "var_pbl = pdist_PBLH_dsst #if perc else dist_PBLH_dsst\n",
    "ax1.plot(x_pbl, var_pbl, 'k')\n",
    "ax1.text(0.4, 925, 'PBLH', fontsize=12)'''\n",
    "\n",
    "\n",
    "\n",
    "'''# DEF punti significativi (pvalue < 0.05)\n",
    "pval = ppvalue_dBV_freq_day_sub[0:p_level_plot] #if perc else pvalue_dBV_freq_day_sub[0:p_level_plot]\n",
    "GPbin = mean_vert_pres[1:p_level_plot] - np.diff(mean_vert_pres[0:p_level_plot])*0.5\n",
    "signif_Lcorr_H = np.zeros((len(mean_vert_pres[0:p_level_plot])-1,len(x)-1))\n",
    "dsstbin = np.zeros((len(mean_vert_pres[0:p_level_plot])-1,len(x)-1))\n",
    "for h in range(0,len(mean_vert_pres[0:p_level_plot])-1):\n",
    "    cond1 = pval[h,:-1] > 0.05\n",
    "    cond2 = np.abs(var[h,:-1]) < 0.1*np.nanmean(np.abs(var))\n",
    "    cond = (cond1) | (cond2)\n",
    "#     cond = cond1\n",
    "    signif_Lcorr_H[h,:] = np.zeros(len(x)-1) + np.nan\n",
    "    signif_Lcorr_H[h, cond] = GPbin[h]\n",
    "    dsstbin[h,:] = x[1:] - np.diff(x)*0.5\n",
    "    \n",
    "plt.scatter(dsstbin,signif_Lcorr_H,  s=0.7, color='k')'''\n",
    "\n",
    "\n",
    "path_img = '/venus/tesi_ale/img_EU/BV/daily/FEB/' if perc else '/venus/tesi_ale/img_EU/BV/daily/FEB/'\n",
    "filename = path_img + 'pdist_dsst_dBV_lowtropo.png' if perc else path_img + 'bins_dsst_dBV_lowtropo.png'\n",
    "#plt.savefig(filename)\n",
    "print(filename)\n",
    "del filename"
   ]
  },
  {
   "cell_type": "code",
   "execution_count": null,
   "id": "3a67aa1b",
   "metadata": {},
   "outputs": [],
   "source": []
  },
  {
   "cell_type": "code",
   "execution_count": null,
   "id": "8eb6a11b",
   "metadata": {},
   "outputs": [],
   "source": []
  },
  {
   "cell_type": "code",
   "execution_count": null,
   "id": "cd1f0e5d",
   "metadata": {},
   "outputs": [],
   "source": [
    "### RICHARDSON VS dSST distributions\n",
    "\n",
    "perc_step = 5\n",
    "nbins = int(100/perc_step) # Number of bins.\n",
    "\n",
    "pdist_dsst, pdist_Ri, pstd_Ri, pstderr_Ri, pnpoints_Ri, ppvalue_Ri_sub = \\\n",
    "dist_3d_subsample(dsst_day, Ri_feb, perc_step, nbins, popmean, nt, nttop, nskip, nskiptop, top=14, perc_fixbin='perc')"
   ]
  },
  {
   "cell_type": "code",
   "execution_count": null,
   "id": "f9abcc40",
   "metadata": {},
   "outputs": [],
   "source": []
  }
 ],
 "metadata": {
  "kernelspec": {
   "display_name": "Python 3 (ipykernel)",
   "language": "python",
   "name": "python3"
  },
  "language_info": {
   "codemirror_mode": {
    "name": "ipython",
    "version": 3
   },
   "file_extension": ".py",
   "mimetype": "text/x-python",
   "name": "python",
   "nbconvert_exporter": "python",
   "pygments_lexer": "ipython3",
   "version": "3.7.11"
  }
 },
 "nbformat": 4,
 "nbformat_minor": 5
}
