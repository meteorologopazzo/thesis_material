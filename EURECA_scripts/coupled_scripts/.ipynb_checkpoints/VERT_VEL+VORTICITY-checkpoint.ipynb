{
 "cells": [
  {
   "cell_type": "code",
   "execution_count": 1,
   "id": "612e1e90",
   "metadata": {},
   "outputs": [],
   "source": [
    "%load_ext autoreload\n",
    "%autoreload 2"
   ]
  },
  {
   "cell_type": "code",
   "execution_count": 5,
   "id": "6c2a6e10",
   "metadata": {},
   "outputs": [],
   "source": [
    "import numpy as np\n",
    "import pandas as pd\n",
    "import glob\n",
    "import xarray as xr\n",
    "import matplotlib.pyplot as plt\n",
    "from scipy import stats\n",
    "\n",
    "import sys; sys.path.insert(1, '/home/alessandro/thesis_material/EURECA_scripts')\n",
    "import os\n",
    "\n",
    "import geometry as gm\n",
    "#import conversion as cnv\n",
    "from func_statistics import compute_pdf_nbin, slopes_r_p, slope_time, slope_maps\n",
    "#from coare_functions import *\n",
    "\n",
    "import meteo                    # wind_dir_speed\n",
    "import metpy.calc as mpcalc\n",
    "from metpy.units import units\n",
    "import lcl\n",
    "\n",
    "from windrose import WindroseAxes\n",
    "import cartopy.crs as ccrs\n",
    "crs = ccrs.PlateCarree()\n",
    "#from plotmap import plot_background\n",
    "\n",
    "from plotdistr import * #fb_distribution_npoint, perc_distribution, scatterplot_fit, hist2d, perc_distribution_pvalue\n",
    "from pdist_fb_distrib_save_fast import *\n",
    "\n",
    "import warnings; warnings.filterwarnings(\"ignore\")"
   ]
  },
  {
   "cell_type": "code",
   "execution_count": 6,
   "id": "cb7f08f4",
   "metadata": {},
   "outputs": [],
   "source": [
    "# find data\n",
    "path = '/saturn/simu_Caribbean/coupled_2km/output/'\n",
    "files_ls = ['QCLOUD', 'U', 'V', 'W', 'OLR', 'PH', 'PHB', 'QVAPOR', 'PB', 'P', 'T']\n",
    "files_ls = [name + '.nc' for name in files_ls]\n",
    "wrf_files = [path+name for name in files_ls]\n",
    "#fname_list = sorted(glob.glob(wrf_files + '*'))"
   ]
  },
  {
   "cell_type": "code",
   "execution_count": 7,
   "id": "0fb836d0",
   "metadata": {},
   "outputs": [],
   "source": [
    "# import sea_mask\n",
    "# if os.path.exists('/home/alessandro/thesis_material/EURECA_scripts/masks/sea_mask_EU_new.npy'):\n",
    "#     sea_mask = np.load('/home/alessandro/thesis_material/EURECA_scripts/masks/sea_mask_EU_new.npy')\n",
    "if os.path.exists('/home/alessandro/thesis_material/EURECA_scripts/masks/sea_mask_EU_noWarmPatch_noWest.npy'):\n",
    "    sea_mask_modified = np.load('/home/alessandro/thesis_material/EURECA_scripts/masks/sea_mask_EU_noWarmPatch_noWest.npy')\n",
    "    sea_mask_modified_nan = np.ones_like(sea_mask_modified)\n",
    "    sea_mask_modified_nan[sea_mask_modified==0] = np.nan\n",
    "    \n",
    "if os.path.exists('/home/alessandro/thesis_material/EURECA_scripts/masks/sea_mask_EU_new.npy'):\n",
    "    sea_mask = np.load('/home/alessandro/thesis_material/EURECA_scripts/masks/sea_mask_EU_new.npy')    \n",
    "    \n",
    "tourbillons_mask = np.load('/home/alessandro/thesis_material/EURECA_scripts/masks/tourbillons_mask.npy')\n",
    "open_ocean_mask = np.load('/home/alessandro/thesis_material/EURECA_scripts/masks/open_ocean_mask.npy')"
   ]
  },
  {
   "cell_type": "code",
   "execution_count": 8,
   "id": "cb0b14d2",
   "metadata": {},
   "outputs": [],
   "source": [
    "# MATTE AVEVA GIA' CALCOLATO TUTTE LE CORRELAZIONI \n",
    "# E HA STIMATO QUESTA LUNGHEZZA?\n",
    "L = 30\n",
    "nskip = int(L/2)\n",
    "nt = int(1)\n",
    "\n",
    "# from top pbl upwards\n",
    "# SOPRA PBL LA LUNGEHZZA DI CORRELAZIONE AUMENTA?\n",
    "# NEL SENSO CHE I SEGNALI HANNO PIù SPAZIO PER PROPAGARSI?\n",
    "Ltop = 150\n",
    "nskiptop = int(Ltop/2)\n",
    "nttop = int(1)\n",
    "\n",
    "# reference population mean\n",
    "popmean = 0."
   ]
  },
  {
   "cell_type": "code",
   "execution_count": null,
   "id": "3fc9c5f7",
   "metadata": {},
   "outputs": [],
   "source": []
  },
  {
   "cell_type": "code",
   "execution_count": 6,
   "id": "5cfef7bd",
   "metadata": {},
   "outputs": [],
   "source": [
    "U = np.load('/venus/tesi_ale/data_EU/WIND/daily/FEB/U/U_day_feb.npy')\n",
    "V = np.load('/venus/tesi_ale/data_EU/WIND/daily/FEB/V/V_day_feb.npy')\n",
    "U, V = U*sea_mask_modified_nan, V*sea_mask_modified_nan"
   ]
  },
  {
   "cell_type": "code",
   "execution_count": 9,
   "id": "1cb8f3da",
   "metadata": {},
   "outputs": [],
   "source": [
    "ds_sst = xr.open_dataset('/venus/tesi_ale/data_EU/SST/hourly/FEB/dSST_feb.nc')\n",
    "dsst_day = ds_sst['dsst_day']*sea_mask_modified_nan\n",
    "# dsst_3h = ds_sst['dSST']*sea_mask_modified_nan"
   ]
  },
  {
   "cell_type": "code",
   "execution_count": null,
   "id": "189919bb",
   "metadata": {},
   "outputs": [],
   "source": []
  },
  {
   "cell_type": "code",
   "execution_count": 10,
   "id": "ec83f6b6",
   "metadata": {
    "collapsed": true
   },
   "outputs": [
    {
     "ename": "KeyboardInterrupt",
     "evalue": "",
     "output_type": "error",
     "traceback": [
      "\u001b[0;31m---------------------------------------------------------------------------\u001b[0m",
      "\u001b[0;31mKeyboardInterrupt\u001b[0m                         Traceback (most recent call last)",
      "\u001b[0;32m/tmp/ipykernel_2001522/1022152492.py\u001b[0m in \u001b[0;36m<module>\u001b[0;34m\u001b[0m\n\u001b[1;32m      1\u001b[0m \u001b[0mW\u001b[0m \u001b[0;34m=\u001b[0m \u001b[0mxr\u001b[0m\u001b[0;34m.\u001b[0m\u001b[0mopen_dataset\u001b[0m\u001b[0;34m(\u001b[0m\u001b[0mwrf_files\u001b[0m\u001b[0;34m[\u001b[0m\u001b[0mfiles_ls\u001b[0m\u001b[0;34m.\u001b[0m\u001b[0mindex\u001b[0m\u001b[0;34m(\u001b[0m\u001b[0;34m'W.nc'\u001b[0m\u001b[0;34m)\u001b[0m\u001b[0;34m]\u001b[0m\u001b[0;34m)\u001b[0m\u001b[0;34m\u001b[0m\u001b[0;34m\u001b[0m\u001b[0m\n\u001b[1;32m      2\u001b[0m \u001b[0mW\u001b[0m \u001b[0;34m=\u001b[0m \u001b[0mW\u001b[0m\u001b[0;34m[\u001b[0m\u001b[0;34m'W'\u001b[0m\u001b[0;34m]\u001b[0m\u001b[0;34m.\u001b[0m\u001b[0msel\u001b[0m\u001b[0;34m(\u001b[0m\u001b[0mtime_counter\u001b[0m\u001b[0;34m=\u001b[0m\u001b[0mslice\u001b[0m\u001b[0;34m(\u001b[0m\u001b[0;34m'2020-02-01T01:30:00.000000000'\u001b[0m\u001b[0;34m,\u001b[0m \u001b[0;34m'2020-02-29T22:30:00.000000000'\u001b[0m\u001b[0;34m)\u001b[0m\u001b[0;34m)\u001b[0m\u001b[0;31m#.groupby('time_counter.day').mean()\u001b[0m\u001b[0;34m\u001b[0m\u001b[0;34m\u001b[0m\u001b[0m\n\u001b[0;32m----> 3\u001b[0;31m \u001b[0mW\u001b[0m \u001b[0;34m=\u001b[0m \u001b[0mW\u001b[0m\u001b[0;34m.\u001b[0m\u001b[0mwhere\u001b[0m\u001b[0;34m(\u001b[0m\u001b[0msea_mask_modified\u001b[0m\u001b[0;34m,\u001b[0m \u001b[0mdrop\u001b[0m\u001b[0;34m=\u001b[0m\u001b[0;32mFalse\u001b[0m\u001b[0;34m)\u001b[0m\u001b[0;34m\u001b[0m\u001b[0;34m\u001b[0m\u001b[0m\n\u001b[0m\u001b[1;32m      4\u001b[0m \u001b[0;34m\u001b[0m\u001b[0m\n\u001b[1;32m      5\u001b[0m \u001b[0mlon\u001b[0m \u001b[0;34m=\u001b[0m \u001b[0mW\u001b[0m\u001b[0;34m[\u001b[0m\u001b[0;34m'nav_lon_grid_M'\u001b[0m\u001b[0;34m]\u001b[0m\u001b[0;34m.\u001b[0m\u001b[0mvalues\u001b[0m\u001b[0;34m\u001b[0m\u001b[0;34m\u001b[0m\u001b[0m\n",
      "\u001b[0;32m~/miniconda3/envs/spec_tesi_clone/lib/python3.7/site-packages/xarray/core/common.py\u001b[0m in \u001b[0;36mwhere\u001b[0;34m(self, cond, other, drop)\u001b[0m\n\u001b[1;32m   1284\u001b[0m             \u001b[0mcond\u001b[0m \u001b[0;34m=\u001b[0m \u001b[0mcond\u001b[0m\u001b[0;34m.\u001b[0m\u001b[0misel\u001b[0m\u001b[0;34m(\u001b[0m\u001b[0;34m**\u001b[0m\u001b[0mindexers\u001b[0m\u001b[0;34m)\u001b[0m\u001b[0;34m\u001b[0m\u001b[0;34m\u001b[0m\u001b[0m\n\u001b[1;32m   1285\u001b[0m \u001b[0;34m\u001b[0m\u001b[0m\n\u001b[0;32m-> 1286\u001b[0;31m         \u001b[0;32mreturn\u001b[0m \u001b[0mops\u001b[0m\u001b[0;34m.\u001b[0m\u001b[0mwhere_method\u001b[0m\u001b[0;34m(\u001b[0m\u001b[0mself\u001b[0m\u001b[0;34m,\u001b[0m \u001b[0mcond\u001b[0m\u001b[0;34m,\u001b[0m \u001b[0mother\u001b[0m\u001b[0;34m)\u001b[0m\u001b[0;34m\u001b[0m\u001b[0;34m\u001b[0m\u001b[0m\n\u001b[0m\u001b[1;32m   1287\u001b[0m \u001b[0;34m\u001b[0m\u001b[0m\n\u001b[1;32m   1288\u001b[0m     \u001b[0;32mdef\u001b[0m \u001b[0mset_close\u001b[0m\u001b[0;34m(\u001b[0m\u001b[0mself\u001b[0m\u001b[0;34m,\u001b[0m \u001b[0mclose\u001b[0m\u001b[0;34m:\u001b[0m \u001b[0mOptional\u001b[0m\u001b[0;34m[\u001b[0m\u001b[0mCallable\u001b[0m\u001b[0;34m[\u001b[0m\u001b[0;34m[\u001b[0m\u001b[0;34m]\u001b[0m\u001b[0;34m,\u001b[0m \u001b[0;32mNone\u001b[0m\u001b[0;34m]\u001b[0m\u001b[0;34m]\u001b[0m\u001b[0;34m)\u001b[0m \u001b[0;34m->\u001b[0m \u001b[0;32mNone\u001b[0m\u001b[0;34m:\u001b[0m\u001b[0;34m\u001b[0m\u001b[0;34m\u001b[0m\u001b[0m\n",
      "\u001b[0;32m~/miniconda3/envs/spec_tesi_clone/lib/python3.7/site-packages/xarray/core/ops.py\u001b[0m in \u001b[0;36mwhere_method\u001b[0;34m(self, cond, other)\u001b[0m\n\u001b[1;32m    182\u001b[0m         \u001b[0mdataset_join\u001b[0m\u001b[0;34m=\u001b[0m\u001b[0mjoin\u001b[0m\u001b[0;34m,\u001b[0m\u001b[0;34m\u001b[0m\u001b[0;34m\u001b[0m\u001b[0m\n\u001b[1;32m    183\u001b[0m         \u001b[0mdask\u001b[0m\u001b[0;34m=\u001b[0m\u001b[0;34m\"allowed\"\u001b[0m\u001b[0;34m,\u001b[0m\u001b[0;34m\u001b[0m\u001b[0;34m\u001b[0m\u001b[0m\n\u001b[0;32m--> 184\u001b[0;31m         \u001b[0mkeep_attrs\u001b[0m\u001b[0;34m=\u001b[0m\u001b[0;32mTrue\u001b[0m\u001b[0;34m,\u001b[0m\u001b[0;34m\u001b[0m\u001b[0;34m\u001b[0m\u001b[0m\n\u001b[0m\u001b[1;32m    185\u001b[0m     )\n\u001b[1;32m    186\u001b[0m \u001b[0;34m\u001b[0m\u001b[0m\n",
      "\u001b[0;32m~/miniconda3/envs/spec_tesi_clone/lib/python3.7/site-packages/xarray/core/computation.py\u001b[0m in \u001b[0;36mapply_ufunc\u001b[0;34m(func, input_core_dims, output_core_dims, exclude_dims, vectorize, join, dataset_join, dataset_fill_value, keep_attrs, kwargs, dask, output_dtypes, output_sizes, meta, dask_gufunc_kwargs, *args)\u001b[0m\n\u001b[1;32m   1178\u001b[0m             \u001b[0mjoin\u001b[0m\u001b[0;34m=\u001b[0m\u001b[0mjoin\u001b[0m\u001b[0;34m,\u001b[0m\u001b[0;34m\u001b[0m\u001b[0;34m\u001b[0m\u001b[0m\n\u001b[1;32m   1179\u001b[0m             \u001b[0mexclude_dims\u001b[0m\u001b[0;34m=\u001b[0m\u001b[0mexclude_dims\u001b[0m\u001b[0;34m,\u001b[0m\u001b[0;34m\u001b[0m\u001b[0;34m\u001b[0m\u001b[0m\n\u001b[0;32m-> 1180\u001b[0;31m             \u001b[0mkeep_attrs\u001b[0m\u001b[0;34m=\u001b[0m\u001b[0mkeep_attrs\u001b[0m\u001b[0;34m,\u001b[0m\u001b[0;34m\u001b[0m\u001b[0;34m\u001b[0m\u001b[0m\n\u001b[0m\u001b[1;32m   1181\u001b[0m         )\n\u001b[1;32m   1182\u001b[0m     \u001b[0;31m# feed Variables directly through apply_variable_ufunc\u001b[0m\u001b[0;34m\u001b[0m\u001b[0;34m\u001b[0m\u001b[0;34m\u001b[0m\u001b[0m\n",
      "\u001b[0;32m~/miniconda3/envs/spec_tesi_clone/lib/python3.7/site-packages/xarray/core/computation.py\u001b[0m in \u001b[0;36mapply_dataarray_vfunc\u001b[0;34m(func, signature, join, exclude_dims, keep_attrs, *args)\u001b[0m\n\u001b[1;32m    291\u001b[0m \u001b[0;34m\u001b[0m\u001b[0m\n\u001b[1;32m    292\u001b[0m     \u001b[0mdata_vars\u001b[0m \u001b[0;34m=\u001b[0m \u001b[0;34m[\u001b[0m\u001b[0mgetattr\u001b[0m\u001b[0;34m(\u001b[0m\u001b[0ma\u001b[0m\u001b[0;34m,\u001b[0m \u001b[0;34m\"variable\"\u001b[0m\u001b[0;34m,\u001b[0m \u001b[0ma\u001b[0m\u001b[0;34m)\u001b[0m \u001b[0;32mfor\u001b[0m \u001b[0ma\u001b[0m \u001b[0;32min\u001b[0m \u001b[0margs\u001b[0m\u001b[0;34m]\u001b[0m\u001b[0;34m\u001b[0m\u001b[0;34m\u001b[0m\u001b[0m\n\u001b[0;32m--> 293\u001b[0;31m     \u001b[0mresult_var\u001b[0m \u001b[0;34m=\u001b[0m \u001b[0mfunc\u001b[0m\u001b[0;34m(\u001b[0m\u001b[0;34m*\u001b[0m\u001b[0mdata_vars\u001b[0m\u001b[0;34m)\u001b[0m\u001b[0;34m\u001b[0m\u001b[0;34m\u001b[0m\u001b[0m\n\u001b[0m\u001b[1;32m    294\u001b[0m \u001b[0;34m\u001b[0m\u001b[0m\n\u001b[1;32m    295\u001b[0m     \u001b[0;32mif\u001b[0m \u001b[0msignature\u001b[0m\u001b[0;34m.\u001b[0m\u001b[0mnum_outputs\u001b[0m \u001b[0;34m>\u001b[0m \u001b[0;36m1\u001b[0m\u001b[0;34m:\u001b[0m\u001b[0;34m\u001b[0m\u001b[0;34m\u001b[0m\u001b[0m\n",
      "\u001b[0;32m~/miniconda3/envs/spec_tesi_clone/lib/python3.7/site-packages/xarray/core/computation.py\u001b[0m in \u001b[0;36mapply_variable_ufunc\u001b[0;34m(func, signature, exclude_dims, dask, output_dtypes, vectorize, keep_attrs, dask_gufunc_kwargs, *args)\u001b[0m\n\u001b[1;32m    650\u001b[0m         \u001b[0;32mif\u001b[0m \u001b[0misinstance\u001b[0m\u001b[0;34m(\u001b[0m\u001b[0marg\u001b[0m\u001b[0;34m,\u001b[0m \u001b[0mVariable\u001b[0m\u001b[0;34m)\u001b[0m\u001b[0;34m\u001b[0m\u001b[0;34m\u001b[0m\u001b[0m\n\u001b[1;32m    651\u001b[0m         \u001b[0;32melse\u001b[0m \u001b[0marg\u001b[0m\u001b[0;34m\u001b[0m\u001b[0;34m\u001b[0m\u001b[0m\n\u001b[0;32m--> 652\u001b[0;31m         \u001b[0;32mfor\u001b[0m \u001b[0marg\u001b[0m\u001b[0;34m,\u001b[0m \u001b[0mcore_dims\u001b[0m \u001b[0;32min\u001b[0m \u001b[0mzip\u001b[0m\u001b[0;34m(\u001b[0m\u001b[0margs\u001b[0m\u001b[0;34m,\u001b[0m \u001b[0msignature\u001b[0m\u001b[0;34m.\u001b[0m\u001b[0minput_core_dims\u001b[0m\u001b[0;34m)\u001b[0m\u001b[0;34m\u001b[0m\u001b[0;34m\u001b[0m\u001b[0m\n\u001b[0m\u001b[1;32m    653\u001b[0m     ]\n\u001b[1;32m    654\u001b[0m \u001b[0;34m\u001b[0m\u001b[0m\n",
      "\u001b[0;32m~/miniconda3/envs/spec_tesi_clone/lib/python3.7/site-packages/xarray/core/computation.py\u001b[0m in \u001b[0;36m<listcomp>\u001b[0;34m(.0)\u001b[0m\n\u001b[1;32m    650\u001b[0m         \u001b[0;32mif\u001b[0m \u001b[0misinstance\u001b[0m\u001b[0;34m(\u001b[0m\u001b[0marg\u001b[0m\u001b[0;34m,\u001b[0m \u001b[0mVariable\u001b[0m\u001b[0;34m)\u001b[0m\u001b[0;34m\u001b[0m\u001b[0;34m\u001b[0m\u001b[0m\n\u001b[1;32m    651\u001b[0m         \u001b[0;32melse\u001b[0m \u001b[0marg\u001b[0m\u001b[0;34m\u001b[0m\u001b[0;34m\u001b[0m\u001b[0m\n\u001b[0;32m--> 652\u001b[0;31m         \u001b[0;32mfor\u001b[0m \u001b[0marg\u001b[0m\u001b[0;34m,\u001b[0m \u001b[0mcore_dims\u001b[0m \u001b[0;32min\u001b[0m \u001b[0mzip\u001b[0m\u001b[0;34m(\u001b[0m\u001b[0margs\u001b[0m\u001b[0;34m,\u001b[0m \u001b[0msignature\u001b[0m\u001b[0;34m.\u001b[0m\u001b[0minput_core_dims\u001b[0m\u001b[0;34m)\u001b[0m\u001b[0;34m\u001b[0m\u001b[0;34m\u001b[0m\u001b[0m\n\u001b[0m\u001b[1;32m    653\u001b[0m     ]\n\u001b[1;32m    654\u001b[0m \u001b[0;34m\u001b[0m\u001b[0m\n",
      "\u001b[0;32m~/miniconda3/envs/spec_tesi_clone/lib/python3.7/site-packages/xarray/core/computation.py\u001b[0m in \u001b[0;36mbroadcast_compat_data\u001b[0;34m(variable, broadcast_dims, core_dims)\u001b[0m\n\u001b[1;32m    562\u001b[0m     \u001b[0mcore_dims\u001b[0m\u001b[0;34m:\u001b[0m \u001b[0mTuple\u001b[0m\u001b[0;34m[\u001b[0m\u001b[0mHashable\u001b[0m\u001b[0;34m,\u001b[0m \u001b[0;34m...\u001b[0m\u001b[0;34m]\u001b[0m\u001b[0;34m,\u001b[0m\u001b[0;34m\u001b[0m\u001b[0;34m\u001b[0m\u001b[0m\n\u001b[1;32m    563\u001b[0m ) -> Any:\n\u001b[0;32m--> 564\u001b[0;31m     \u001b[0mdata\u001b[0m \u001b[0;34m=\u001b[0m \u001b[0mvariable\u001b[0m\u001b[0;34m.\u001b[0m\u001b[0mdata\u001b[0m\u001b[0;34m\u001b[0m\u001b[0;34m\u001b[0m\u001b[0m\n\u001b[0m\u001b[1;32m    565\u001b[0m \u001b[0;34m\u001b[0m\u001b[0m\n\u001b[1;32m    566\u001b[0m     \u001b[0mold_dims\u001b[0m \u001b[0;34m=\u001b[0m \u001b[0mvariable\u001b[0m\u001b[0;34m.\u001b[0m\u001b[0mdims\u001b[0m\u001b[0;34m\u001b[0m\u001b[0;34m\u001b[0m\u001b[0m\n",
      "\u001b[0;32m~/miniconda3/envs/spec_tesi_clone/lib/python3.7/site-packages/xarray/core/variable.py\u001b[0m in \u001b[0;36mdata\u001b[0;34m(self)\u001b[0m\n\u001b[1;32m    342\u001b[0m             \u001b[0;32mreturn\u001b[0m \u001b[0mself\u001b[0m\u001b[0;34m.\u001b[0m\u001b[0m_data\u001b[0m\u001b[0;34m\u001b[0m\u001b[0;34m\u001b[0m\u001b[0m\n\u001b[1;32m    343\u001b[0m         \u001b[0;32melse\u001b[0m\u001b[0;34m:\u001b[0m\u001b[0;34m\u001b[0m\u001b[0;34m\u001b[0m\u001b[0m\n\u001b[0;32m--> 344\u001b[0;31m             \u001b[0;32mreturn\u001b[0m \u001b[0mself\u001b[0m\u001b[0;34m.\u001b[0m\u001b[0mvalues\u001b[0m\u001b[0;34m\u001b[0m\u001b[0;34m\u001b[0m\u001b[0m\n\u001b[0m\u001b[1;32m    345\u001b[0m \u001b[0;34m\u001b[0m\u001b[0m\n\u001b[1;32m    346\u001b[0m     \u001b[0;34m@\u001b[0m\u001b[0mdata\u001b[0m\u001b[0;34m.\u001b[0m\u001b[0msetter\u001b[0m\u001b[0;34m\u001b[0m\u001b[0;34m\u001b[0m\u001b[0m\n",
      "\u001b[0;32m~/miniconda3/envs/spec_tesi_clone/lib/python3.7/site-packages/xarray/core/variable.py\u001b[0m in \u001b[0;36mvalues\u001b[0;34m(self)\u001b[0m\n\u001b[1;32m    515\u001b[0m     \u001b[0;32mdef\u001b[0m \u001b[0mvalues\u001b[0m\u001b[0;34m(\u001b[0m\u001b[0mself\u001b[0m\u001b[0;34m)\u001b[0m\u001b[0;34m:\u001b[0m\u001b[0;34m\u001b[0m\u001b[0;34m\u001b[0m\u001b[0m\n\u001b[1;32m    516\u001b[0m         \u001b[0;34m\"\"\"The variable's data as a numpy.ndarray\"\"\"\u001b[0m\u001b[0;34m\u001b[0m\u001b[0;34m\u001b[0m\u001b[0m\n\u001b[0;32m--> 517\u001b[0;31m         \u001b[0;32mreturn\u001b[0m \u001b[0m_as_array_or_item\u001b[0m\u001b[0;34m(\u001b[0m\u001b[0mself\u001b[0m\u001b[0;34m.\u001b[0m\u001b[0m_data\u001b[0m\u001b[0;34m)\u001b[0m\u001b[0;34m\u001b[0m\u001b[0;34m\u001b[0m\u001b[0m\n\u001b[0m\u001b[1;32m    518\u001b[0m \u001b[0;34m\u001b[0m\u001b[0m\n\u001b[1;32m    519\u001b[0m     \u001b[0;34m@\u001b[0m\u001b[0mvalues\u001b[0m\u001b[0;34m.\u001b[0m\u001b[0msetter\u001b[0m\u001b[0;34m\u001b[0m\u001b[0;34m\u001b[0m\u001b[0m\n",
      "\u001b[0;32m~/miniconda3/envs/spec_tesi_clone/lib/python3.7/site-packages/xarray/core/variable.py\u001b[0m in \u001b[0;36m_as_array_or_item\u001b[0;34m(data)\u001b[0m\n\u001b[1;32m    257\u001b[0m     \u001b[0mTODO\u001b[0m\u001b[0;34m:\u001b[0m \u001b[0mremove\u001b[0m \u001b[0mthis\u001b[0m \u001b[0;34m(\u001b[0m\u001b[0mreplace\u001b[0m \u001b[0;32mwith\u001b[0m \u001b[0mnp\u001b[0m\u001b[0;34m.\u001b[0m\u001b[0masarray\u001b[0m\u001b[0;34m)\u001b[0m \u001b[0monce\u001b[0m \u001b[0mthese\u001b[0m \u001b[0missues\u001b[0m \u001b[0mare\u001b[0m \u001b[0mfixed\u001b[0m\u001b[0;34m\u001b[0m\u001b[0;34m\u001b[0m\u001b[0m\n\u001b[1;32m    258\u001b[0m     \"\"\"\n\u001b[0;32m--> 259\u001b[0;31m     \u001b[0mdata\u001b[0m \u001b[0;34m=\u001b[0m \u001b[0mnp\u001b[0m\u001b[0;34m.\u001b[0m\u001b[0masarray\u001b[0m\u001b[0;34m(\u001b[0m\u001b[0mdata\u001b[0m\u001b[0;34m)\u001b[0m\u001b[0;34m\u001b[0m\u001b[0;34m\u001b[0m\u001b[0m\n\u001b[0m\u001b[1;32m    260\u001b[0m     \u001b[0;32mif\u001b[0m \u001b[0mdata\u001b[0m\u001b[0;34m.\u001b[0m\u001b[0mndim\u001b[0m \u001b[0;34m==\u001b[0m \u001b[0;36m0\u001b[0m\u001b[0;34m:\u001b[0m\u001b[0;34m\u001b[0m\u001b[0;34m\u001b[0m\u001b[0m\n\u001b[1;32m    261\u001b[0m         \u001b[0;32mif\u001b[0m \u001b[0mdata\u001b[0m\u001b[0;34m.\u001b[0m\u001b[0mdtype\u001b[0m\u001b[0;34m.\u001b[0m\u001b[0mkind\u001b[0m \u001b[0;34m==\u001b[0m \u001b[0;34m\"M\"\u001b[0m\u001b[0;34m:\u001b[0m\u001b[0;34m\u001b[0m\u001b[0;34m\u001b[0m\u001b[0m\n",
      "\u001b[0;32m~/miniconda3/envs/spec_tesi_clone/lib/python3.7/site-packages/xarray/core/indexing.py\u001b[0m in \u001b[0;36m__array__\u001b[0;34m(self, dtype)\u001b[0m\n\u001b[1;32m    546\u001b[0m \u001b[0;34m\u001b[0m\u001b[0m\n\u001b[1;32m    547\u001b[0m     \u001b[0;32mdef\u001b[0m \u001b[0m__array__\u001b[0m\u001b[0;34m(\u001b[0m\u001b[0mself\u001b[0m\u001b[0;34m,\u001b[0m \u001b[0mdtype\u001b[0m\u001b[0;34m=\u001b[0m\u001b[0;32mNone\u001b[0m\u001b[0;34m)\u001b[0m\u001b[0;34m:\u001b[0m\u001b[0;34m\u001b[0m\u001b[0;34m\u001b[0m\u001b[0m\n\u001b[0;32m--> 548\u001b[0;31m         \u001b[0mself\u001b[0m\u001b[0;34m.\u001b[0m\u001b[0m_ensure_cached\u001b[0m\u001b[0;34m(\u001b[0m\u001b[0;34m)\u001b[0m\u001b[0;34m\u001b[0m\u001b[0;34m\u001b[0m\u001b[0m\n\u001b[0m\u001b[1;32m    549\u001b[0m         \u001b[0;32mreturn\u001b[0m \u001b[0mnp\u001b[0m\u001b[0;34m.\u001b[0m\u001b[0masarray\u001b[0m\u001b[0;34m(\u001b[0m\u001b[0mself\u001b[0m\u001b[0;34m.\u001b[0m\u001b[0marray\u001b[0m\u001b[0;34m,\u001b[0m \u001b[0mdtype\u001b[0m\u001b[0;34m=\u001b[0m\u001b[0mdtype\u001b[0m\u001b[0;34m)\u001b[0m\u001b[0;34m\u001b[0m\u001b[0;34m\u001b[0m\u001b[0m\n\u001b[1;32m    550\u001b[0m \u001b[0;34m\u001b[0m\u001b[0m\n",
      "\u001b[0;32m~/miniconda3/envs/spec_tesi_clone/lib/python3.7/site-packages/xarray/core/indexing.py\u001b[0m in \u001b[0;36m_ensure_cached\u001b[0;34m(self)\u001b[0m\n\u001b[1;32m    543\u001b[0m     \u001b[0;32mdef\u001b[0m \u001b[0m_ensure_cached\u001b[0m\u001b[0;34m(\u001b[0m\u001b[0mself\u001b[0m\u001b[0;34m)\u001b[0m\u001b[0;34m:\u001b[0m\u001b[0;34m\u001b[0m\u001b[0;34m\u001b[0m\u001b[0m\n\u001b[1;32m    544\u001b[0m         \u001b[0;32mif\u001b[0m \u001b[0;32mnot\u001b[0m \u001b[0misinstance\u001b[0m\u001b[0;34m(\u001b[0m\u001b[0mself\u001b[0m\u001b[0;34m.\u001b[0m\u001b[0marray\u001b[0m\u001b[0;34m,\u001b[0m \u001b[0mNumpyIndexingAdapter\u001b[0m\u001b[0;34m)\u001b[0m\u001b[0;34m:\u001b[0m\u001b[0;34m\u001b[0m\u001b[0;34m\u001b[0m\u001b[0m\n\u001b[0;32m--> 545\u001b[0;31m             \u001b[0mself\u001b[0m\u001b[0;34m.\u001b[0m\u001b[0marray\u001b[0m \u001b[0;34m=\u001b[0m \u001b[0mNumpyIndexingAdapter\u001b[0m\u001b[0;34m(\u001b[0m\u001b[0mnp\u001b[0m\u001b[0;34m.\u001b[0m\u001b[0masarray\u001b[0m\u001b[0;34m(\u001b[0m\u001b[0mself\u001b[0m\u001b[0;34m.\u001b[0m\u001b[0marray\u001b[0m\u001b[0;34m)\u001b[0m\u001b[0;34m)\u001b[0m\u001b[0;34m\u001b[0m\u001b[0;34m\u001b[0m\u001b[0m\n\u001b[0m\u001b[1;32m    546\u001b[0m \u001b[0;34m\u001b[0m\u001b[0m\n\u001b[1;32m    547\u001b[0m     \u001b[0;32mdef\u001b[0m \u001b[0m__array__\u001b[0m\u001b[0;34m(\u001b[0m\u001b[0mself\u001b[0m\u001b[0;34m,\u001b[0m \u001b[0mdtype\u001b[0m\u001b[0;34m=\u001b[0m\u001b[0;32mNone\u001b[0m\u001b[0;34m)\u001b[0m\u001b[0;34m:\u001b[0m\u001b[0;34m\u001b[0m\u001b[0;34m\u001b[0m\u001b[0m\n",
      "\u001b[0;32m~/miniconda3/envs/spec_tesi_clone/lib/python3.7/site-packages/xarray/core/indexing.py\u001b[0m in \u001b[0;36m__array__\u001b[0;34m(self, dtype)\u001b[0m\n\u001b[1;32m    516\u001b[0m \u001b[0;34m\u001b[0m\u001b[0m\n\u001b[1;32m    517\u001b[0m     \u001b[0;32mdef\u001b[0m \u001b[0m__array__\u001b[0m\u001b[0;34m(\u001b[0m\u001b[0mself\u001b[0m\u001b[0;34m,\u001b[0m \u001b[0mdtype\u001b[0m\u001b[0;34m=\u001b[0m\u001b[0;32mNone\u001b[0m\u001b[0;34m)\u001b[0m\u001b[0;34m:\u001b[0m\u001b[0;34m\u001b[0m\u001b[0;34m\u001b[0m\u001b[0m\n\u001b[0;32m--> 518\u001b[0;31m         \u001b[0;32mreturn\u001b[0m \u001b[0mnp\u001b[0m\u001b[0;34m.\u001b[0m\u001b[0masarray\u001b[0m\u001b[0;34m(\u001b[0m\u001b[0mself\u001b[0m\u001b[0;34m.\u001b[0m\u001b[0marray\u001b[0m\u001b[0;34m,\u001b[0m \u001b[0mdtype\u001b[0m\u001b[0;34m=\u001b[0m\u001b[0mdtype\u001b[0m\u001b[0;34m)\u001b[0m\u001b[0;34m\u001b[0m\u001b[0;34m\u001b[0m\u001b[0m\n\u001b[0m\u001b[1;32m    519\u001b[0m \u001b[0;34m\u001b[0m\u001b[0m\n\u001b[1;32m    520\u001b[0m     \u001b[0;32mdef\u001b[0m \u001b[0m__getitem__\u001b[0m\u001b[0;34m(\u001b[0m\u001b[0mself\u001b[0m\u001b[0;34m,\u001b[0m \u001b[0mkey\u001b[0m\u001b[0;34m)\u001b[0m\u001b[0;34m:\u001b[0m\u001b[0;34m\u001b[0m\u001b[0;34m\u001b[0m\u001b[0m\n",
      "\u001b[0;32m~/miniconda3/envs/spec_tesi_clone/lib/python3.7/site-packages/xarray/core/indexing.py\u001b[0m in \u001b[0;36m__array__\u001b[0;34m(self, dtype)\u001b[0m\n\u001b[1;32m    417\u001b[0m     \u001b[0;32mdef\u001b[0m \u001b[0m__array__\u001b[0m\u001b[0;34m(\u001b[0m\u001b[0mself\u001b[0m\u001b[0;34m,\u001b[0m \u001b[0mdtype\u001b[0m\u001b[0;34m=\u001b[0m\u001b[0;32mNone\u001b[0m\u001b[0;34m)\u001b[0m\u001b[0;34m:\u001b[0m\u001b[0;34m\u001b[0m\u001b[0;34m\u001b[0m\u001b[0m\n\u001b[1;32m    418\u001b[0m         \u001b[0marray\u001b[0m \u001b[0;34m=\u001b[0m \u001b[0mas_indexable\u001b[0m\u001b[0;34m(\u001b[0m\u001b[0mself\u001b[0m\u001b[0;34m.\u001b[0m\u001b[0marray\u001b[0m\u001b[0;34m)\u001b[0m\u001b[0;34m\u001b[0m\u001b[0;34m\u001b[0m\u001b[0m\n\u001b[0;32m--> 419\u001b[0;31m         \u001b[0;32mreturn\u001b[0m \u001b[0mnp\u001b[0m\u001b[0;34m.\u001b[0m\u001b[0masarray\u001b[0m\u001b[0;34m(\u001b[0m\u001b[0marray\u001b[0m\u001b[0;34m[\u001b[0m\u001b[0mself\u001b[0m\u001b[0;34m.\u001b[0m\u001b[0mkey\u001b[0m\u001b[0;34m]\u001b[0m\u001b[0;34m,\u001b[0m \u001b[0mdtype\u001b[0m\u001b[0;34m=\u001b[0m\u001b[0;32mNone\u001b[0m\u001b[0;34m)\u001b[0m\u001b[0;34m\u001b[0m\u001b[0;34m\u001b[0m\u001b[0m\n\u001b[0m\u001b[1;32m    420\u001b[0m \u001b[0;34m\u001b[0m\u001b[0m\n\u001b[1;32m    421\u001b[0m     \u001b[0;32mdef\u001b[0m \u001b[0mtranspose\u001b[0m\u001b[0;34m(\u001b[0m\u001b[0mself\u001b[0m\u001b[0;34m,\u001b[0m \u001b[0morder\u001b[0m\u001b[0;34m)\u001b[0m\u001b[0;34m:\u001b[0m\u001b[0;34m\u001b[0m\u001b[0;34m\u001b[0m\u001b[0m\n",
      "\u001b[0;32m~/miniconda3/envs/spec_tesi_clone/lib/python3.7/site-packages/xarray/backends/netCDF4_.py\u001b[0m in \u001b[0;36m__getitem__\u001b[0;34m(self, key)\u001b[0m\n\u001b[1;32m     90\u001b[0m     \u001b[0;32mdef\u001b[0m \u001b[0m__getitem__\u001b[0m\u001b[0;34m(\u001b[0m\u001b[0mself\u001b[0m\u001b[0;34m,\u001b[0m \u001b[0mkey\u001b[0m\u001b[0;34m)\u001b[0m\u001b[0;34m:\u001b[0m\u001b[0;34m\u001b[0m\u001b[0;34m\u001b[0m\u001b[0m\n\u001b[1;32m     91\u001b[0m         return indexing.explicit_indexing_adapter(\n\u001b[0;32m---> 92\u001b[0;31m             \u001b[0mkey\u001b[0m\u001b[0;34m,\u001b[0m \u001b[0mself\u001b[0m\u001b[0;34m.\u001b[0m\u001b[0mshape\u001b[0m\u001b[0;34m,\u001b[0m \u001b[0mindexing\u001b[0m\u001b[0;34m.\u001b[0m\u001b[0mIndexingSupport\u001b[0m\u001b[0;34m.\u001b[0m\u001b[0mOUTER\u001b[0m\u001b[0;34m,\u001b[0m \u001b[0mself\u001b[0m\u001b[0;34m.\u001b[0m\u001b[0m_getitem\u001b[0m\u001b[0;34m\u001b[0m\u001b[0;34m\u001b[0m\u001b[0m\n\u001b[0m\u001b[1;32m     93\u001b[0m         )\n\u001b[1;32m     94\u001b[0m \u001b[0;34m\u001b[0m\u001b[0m\n",
      "\u001b[0;32m~/miniconda3/envs/spec_tesi_clone/lib/python3.7/site-packages/xarray/core/indexing.py\u001b[0m in \u001b[0;36mexplicit_indexing_adapter\u001b[0;34m(key, shape, indexing_support, raw_indexing_method)\u001b[0m\n\u001b[1;32m    708\u001b[0m     \"\"\"\n\u001b[1;32m    709\u001b[0m     \u001b[0mraw_key\u001b[0m\u001b[0;34m,\u001b[0m \u001b[0mnumpy_indices\u001b[0m \u001b[0;34m=\u001b[0m \u001b[0mdecompose_indexer\u001b[0m\u001b[0;34m(\u001b[0m\u001b[0mkey\u001b[0m\u001b[0;34m,\u001b[0m \u001b[0mshape\u001b[0m\u001b[0;34m,\u001b[0m \u001b[0mindexing_support\u001b[0m\u001b[0;34m)\u001b[0m\u001b[0;34m\u001b[0m\u001b[0;34m\u001b[0m\u001b[0m\n\u001b[0;32m--> 710\u001b[0;31m     \u001b[0mresult\u001b[0m \u001b[0;34m=\u001b[0m \u001b[0mraw_indexing_method\u001b[0m\u001b[0;34m(\u001b[0m\u001b[0mraw_key\u001b[0m\u001b[0;34m.\u001b[0m\u001b[0mtuple\u001b[0m\u001b[0;34m)\u001b[0m\u001b[0;34m\u001b[0m\u001b[0;34m\u001b[0m\u001b[0m\n\u001b[0m\u001b[1;32m    711\u001b[0m     \u001b[0;32mif\u001b[0m \u001b[0mnumpy_indices\u001b[0m\u001b[0;34m.\u001b[0m\u001b[0mtuple\u001b[0m\u001b[0;34m:\u001b[0m\u001b[0;34m\u001b[0m\u001b[0;34m\u001b[0m\u001b[0m\n\u001b[1;32m    712\u001b[0m         \u001b[0;31m# index the loaded np.ndarray\u001b[0m\u001b[0;34m\u001b[0m\u001b[0;34m\u001b[0m\u001b[0;34m\u001b[0m\u001b[0m\n",
      "\u001b[0;32m~/miniconda3/envs/spec_tesi_clone/lib/python3.7/site-packages/xarray/backends/netCDF4_.py\u001b[0m in \u001b[0;36m_getitem\u001b[0;34m(self, key)\u001b[0m\n\u001b[1;32m    102\u001b[0m             \u001b[0;32mwith\u001b[0m \u001b[0mself\u001b[0m\u001b[0;34m.\u001b[0m\u001b[0mdatastore\u001b[0m\u001b[0;34m.\u001b[0m\u001b[0mlock\u001b[0m\u001b[0;34m:\u001b[0m\u001b[0;34m\u001b[0m\u001b[0;34m\u001b[0m\u001b[0m\n\u001b[1;32m    103\u001b[0m                 \u001b[0moriginal_array\u001b[0m \u001b[0;34m=\u001b[0m \u001b[0mself\u001b[0m\u001b[0;34m.\u001b[0m\u001b[0mget_array\u001b[0m\u001b[0;34m(\u001b[0m\u001b[0mneeds_lock\u001b[0m\u001b[0;34m=\u001b[0m\u001b[0;32mFalse\u001b[0m\u001b[0;34m)\u001b[0m\u001b[0;34m\u001b[0m\u001b[0;34m\u001b[0m\u001b[0m\n\u001b[0;32m--> 104\u001b[0;31m                 \u001b[0marray\u001b[0m \u001b[0;34m=\u001b[0m \u001b[0mgetitem\u001b[0m\u001b[0;34m(\u001b[0m\u001b[0moriginal_array\u001b[0m\u001b[0;34m,\u001b[0m \u001b[0mkey\u001b[0m\u001b[0;34m)\u001b[0m\u001b[0;34m\u001b[0m\u001b[0;34m\u001b[0m\u001b[0m\n\u001b[0m\u001b[1;32m    105\u001b[0m         \u001b[0;32mexcept\u001b[0m \u001b[0mIndexError\u001b[0m\u001b[0;34m:\u001b[0m\u001b[0;34m\u001b[0m\u001b[0;34m\u001b[0m\u001b[0m\n\u001b[1;32m    106\u001b[0m             \u001b[0;31m# Catch IndexError in netCDF4 and return a more informative\u001b[0m\u001b[0;34m\u001b[0m\u001b[0;34m\u001b[0m\u001b[0;34m\u001b[0m\u001b[0m\n",
      "\u001b[0;31mKeyboardInterrupt\u001b[0m: "
     ]
    }
   ],
   "source": [
    "W = xr.open_dataset(wrf_files[files_ls.index('W.nc')])\n",
    "W = W['W'].sel(time_counter=slice('2020-02-01T01:30:00.000000000', '2020-02-29T22:30:00.000000000'))#.groupby('time_counter.day').mean()\n",
    "W = W.where(sea_mask_modified, drop=False)\n",
    "\n",
    "lon = W['nav_lon_grid_M'].values\n",
    "lat = W['nav_lat_grid_M'].values"
   ]
  },
  {
   "cell_type": "code",
   "execution_count": null,
   "id": "89c6e973",
   "metadata": {},
   "outputs": [],
   "source": [
    "W = W[:,0:20]"
   ]
  },
  {
   "cell_type": "code",
   "execution_count": null,
   "id": "5aebf7bc",
   "metadata": {},
   "outputs": [],
   "source": []
  },
  {
   "cell_type": "code",
   "execution_count": null,
   "id": "bd20ce21",
   "metadata": {},
   "outputs": [],
   "source": []
  },
  {
   "cell_type": "code",
   "execution_count": 22,
   "id": "0eeceb91",
   "metadata": {},
   "outputs": [],
   "source": [
    "# load W component - in m/s\n",
    "W_day = xr.open_dataset(wrf_files[files_ls.index('W.nc')])\n",
    "# W_day = W_day['W'].sel(time_counter=slice('2020-02-01T01:30:00.000000000', '2020-02-29T22:30:00.000000000')).groupby('time_counter.day').mean()\n",
    "# W_day = W_day.where(sea_mask_modified, drop=False)\n",
    "\n",
    "# W_day = W_day[:,0:20]\n",
    "\n",
    "# W_inter = np.zeros_like(U)\n",
    "# for i in range(39):\n",
    "#     W_inter[:,i,:,:] = (W_day[:,i+1,:,:]+W_day[:,i,:,:])*0.5"
   ]
  },
  {
   "cell_type": "code",
   "execution_count": 12,
   "id": "efd7c7c4",
   "metadata": {},
   "outputs": [],
   "source": [
    "lon = W_day['nav_lon_grid_M'].values\n",
    "lat = W_day['nav_lat_grid_M'].values"
   ]
  },
  {
   "cell_type": "code",
   "execution_count": 13,
   "id": "99ed7ceb",
   "metadata": {},
   "outputs": [
    {
     "name": "stdout",
     "output_type": "stream",
     "text": [
      "0\n",
      "10\n"
     ]
    }
   ],
   "source": [
    "perc_step = 5\n",
    "nbins = int(100/perc_step) # Number of bins.\n",
    "\n",
    "pdist_dsst, pdist_w, pstd_w, pstderr_w, pnpoints_w, ppvalue_w_sub = \\\n",
    "dist_3d_subsample(dsst_day.values, W_day.values, perc_step, nbins, popmean, nt, nttop, nskip, nskiptop, top=14, perc_fixbin='perc')"
   ]
  },
  {
   "cell_type": "code",
   "execution_count": 15,
   "id": "bc9acb60",
   "metadata": {},
   "outputs": [],
   "source": [
    "mean_vert_pres = np.load('/venus/tesi_ale/data_EU/PRES/daily/FEB/mean_vert_pres.npy')"
   ]
  },
  {
   "cell_type": "code",
   "execution_count": 27,
   "id": "620a43c6",
   "metadata": {},
   "outputs": [
    {
     "name": "stdout",
     "output_type": "stream",
     "text": [
      "/venus/tesi_ale/img_EU/WIND/daily/FEB/pdist_dsst_W_day_lowtropo.png\n"
     ]
    },
    {
     "data": {
      "image/png": "[encoded data removed]",
      "text/plain": [
       "<Figure size 800x500 with 2 Axes>"
      ]
     },
     "metadata": {},
     "output_type": "display_data"
    }
   ],
   "source": [
    "# figure W and dW vs dSST bin - DAILY\n",
    "p_level_plot = int(15)\n",
    "\n",
    "anoms = False\n",
    "\n",
    "x = pdist_dsst \n",
    "var = pstd_w[0:p_level_plot,:]   #  pdist_dw[0:p_level_plot,:] if anoms else pdist_w[0:p_level_plot,:] \n",
    "minval = -0.005\n",
    "maxval = -minval\n",
    "# title = 'Percentiles - daily dSST vs vertical velocity anomalies' if anoms else \\\n",
    "#         \"Percentiles - daily SST' vs vertical velocity\"\n",
    "\n",
    "\n",
    "title_sigma = \"SST anoms vs W\"\n",
    "\n",
    "fig, ax1 = plt.subplots(figsize=(8, 5))  \n",
    "ax1.invert_yaxis()\n",
    "p1 = ax1.pcolormesh(x, mean_vert_pres[0:p_level_plot], var, cmap='seismic', vmin=minval, vmax=maxval)\n",
    "ax1.set_xlabel('SST anomalies [˚C]')\n",
    "ax1.set_ylabel('pressure [hPa]')\n",
    "plt.title(f'{title_sigma} ')\n",
    "cbar = plt.colorbar(p1,ax=ax1, location='right', shrink=0.8, extend='both')  \n",
    "cbar.set_label(r\"W [$\\rm ms^{-1}$]\")  #$\\sigma_{w}$\n",
    "\n",
    "\n",
    "# x_pbl = pdist_dsst \n",
    "# var_pbl = pdist_PBLH_dsst #if perc else dist_PBLH_dsst\n",
    "# ax1.plot(x_pbl, var_pbl, 'k')\n",
    "# ax1.text(0.4, 925, 'PBLH', fontsize=12)\n",
    "\n",
    "\n",
    "\n",
    "# DEF punti significativi (pvalue < 0.05)\n",
    "# pval = ppvalue_dw_sub[0:p_level_plot] if anoms else ppvalue_w_sub[0:p_level_plot] \n",
    "# GPbin = mean_vert_pres[1:p_level_plot] - np.diff(mean_vert_pres[0:p_level_plot])*0.5\n",
    "# signif_Lcorr_H = np.zeros((len(mean_vert_pres[0:p_level_plot])-1,len(x)-1))\n",
    "# dsstbin = np.zeros((len(mean_vert_pres[0:p_level_plot])-1,len(x)-1))\n",
    "# for h in range(0,len(mean_vert_pres[0:p_level_plot])-1):\n",
    "#     cond1 = pval[h,:-1] > 0.05\n",
    "#     cond2 = np.abs(var[h,:-1]) < 0.1*np.nanmean(np.abs(var))\n",
    "#     cond = (cond1) | (cond2)\n",
    "# #     cond = cond1\n",
    "#     signif_Lcorr_H[h,:] = np.zeros(len(x)-1) + np.nan\n",
    "#     signif_Lcorr_H[h, cond] = GPbin[h]\n",
    "#     dsstbin[h,:] = x[1:] - np.diff(x)*0.5\n",
    "    \n",
    "# plt.scatter(dsstbin,signif_Lcorr_H,  s=0.7, color='k')\n",
    "\n",
    "\n",
    "path_img = '/venus/tesi_ale/img_EU/WIND/daily/FEB/' \n",
    "filename = path_img + 'pdist_dsst_dW_day_lowtropo.png' if anoms else path_img + 'pdist_dsst_W_day_lowtropo.png' \n",
    "# plt.savefig(filename)\n",
    "print(filename)                #'pdist_dsst_SigmaW_day_lowtropo.png' #\n",
    "del filename"
   ]
  },
  {
   "cell_type": "code",
   "execution_count": null,
   "id": "cddd3468",
   "metadata": {},
   "outputs": [],
   "source": []
  },
  {
   "cell_type": "code",
   "execution_count": null,
   "id": "501be579",
   "metadata": {},
   "outputs": [],
   "source": []
  },
  {
   "cell_type": "code",
   "execution_count": null,
   "id": "4e560be3",
   "metadata": {},
   "outputs": [],
   "source": []
  },
  {
   "cell_type": "code",
   "execution_count": null,
   "id": "c7a40a0e",
   "metadata": {},
   "outputs": [],
   "source": []
  },
  {
   "cell_type": "code",
   "execution_count": 9,
   "id": "192464dc",
   "metadata": {
    "collapsed": true
   },
   "outputs": [
    {
     "name": "stdout",
     "output_type": "stream",
     "text": [
      "0\n",
      "10\n",
      "20\n",
      "30\n",
      "40\n",
      "50\n",
      "60\n",
      "70\n",
      "80\n",
      "90\n",
      "100\n",
      "110\n",
      "120\n",
      "130\n",
      "140\n",
      "150\n",
      "160\n",
      "170\n",
      "180\n",
      "190\n",
      "200\n",
      "210\n",
      "220\n",
      "230\n"
     ]
    }
   ],
   "source": [
    "# compute anomalies 3 HOURLY data\n",
    "s = 100\n",
    "\n",
    "dw = np.zeros_like(W.values)\n",
    "\n",
    "for t in range(0,W.values.shape[0]):\n",
    "    if t % 10 == 0:\n",
    "        print(t)\n",
    "    \n",
    "    for h in range(0,dw.shape[1]):\n",
    "        w_ave = gm.nan_gaussian_filter(W.values[t,h],s)  \n",
    "        dw[t,h] = W.values[t,h] - w_ave"
   ]
  },
  {
   "cell_type": "code",
   "execution_count": 10,
   "id": "4c8260a0",
   "metadata": {},
   "outputs": [
    {
     "name": "stdout",
     "output_type": "stream",
     "text": [
      "creating new file and saving variables\n"
     ]
    }
   ],
   "source": [
    "my_save_data('/venus/tesi_ale/data_EU/WIND/daily/FEB/W/dw_3h_lowTropo.npy', [dw])"
   ]
  },
  {
   "cell_type": "code",
   "execution_count": null,
   "id": "11ca0d1b",
   "metadata": {},
   "outputs": [],
   "source": []
  },
  {
   "cell_type": "code",
   "execution_count": null,
   "id": "7b17f386",
   "metadata": {},
   "outputs": [],
   "source": [
    "# compute anomalies daily data\n",
    "s = 100\n",
    "\n",
    "dw_day = np.zeros_like(W_day.values)\n",
    "\n",
    "for t in range(0,W_day.values.shape[0]):\n",
    "    if t % 10 == 0:\n",
    "        print(t)\n",
    "    \n",
    "    for h in range(0,dw_day.shape[1]):\n",
    "        w_ave = gm.nan_gaussian_filter(W_day.values[t,h],s)  \n",
    "        dw_day[t,h] = W_day.values[t,h] - w_ave"
   ]
  },
  {
   "cell_type": "code",
   "execution_count": 31,
   "id": "752c8c6c",
   "metadata": {},
   "outputs": [],
   "source": [
    "my_save_data('/venus/tesi_ale/data_EU/WIND/daily/FEB/W/dw_day.npy', [dw_day])"
   ]
  },
  {
   "cell_type": "code",
   "execution_count": null,
   "id": "68f999c1",
   "metadata": {},
   "outputs": [],
   "source": []
  },
  {
   "cell_type": "code",
   "execution_count": 11,
   "id": "37f06205",
   "metadata": {},
   "outputs": [],
   "source": [
    "dw_day = np.load('/venus/tesi_ale/data_EU/WIND/daily/FEB/W/dw_day.npy')*sea_mask_modified_nan"
   ]
  },
  {
   "cell_type": "code",
   "execution_count": null,
   "id": "6726358d",
   "metadata": {},
   "outputs": [],
   "source": []
  },
  {
   "cell_type": "code",
   "execution_count": 12,
   "id": "e9be9494",
   "metadata": {},
   "outputs": [],
   "source": [
    "wrf_hourly = path + 'Caraibes_WRF_3h_surf.nc'\n",
    "ds_hourly = xr.open_dataset(wrf_hourly)\n",
    "ds_hourly = ds_hourly.sel(time_counter=slice('2020-02-01T01:30:00.000000000', '2020-02-29T22:30:00.000000000'))\n",
    "\n",
    "sst_day = ds_hourly['SST'].groupby('time_counter.day').mean()            \n",
    "sst_day = sst_day.where(sea_mask_modified, drop=False).values; \n",
    "\n",
    "T2_day = ds_hourly['T2']  #.sel(time_counter=slice('2020-02-01T01:30:00.000000000', '2020-02-29T22:30:00.000000000'))\n",
    "T2_day = T2_day.groupby('time_counter.day').mean()\n",
    "T2_day = T2_day.where(sea_mask_modified, drop=False).values\n",
    "\n",
    "buoya = sst_day - T2_day"
   ]
  },
  {
   "cell_type": "code",
   "execution_count": 31,
   "id": "c28311b0",
   "metadata": {},
   "outputs": [],
   "source": [
    "sst = ds_hourly['SST']          \n",
    "sst = sst.where(sea_mask_modified, drop=False).values[::3]; \n",
    "\n",
    "T2 = ds_hourly['T2']  #.sel(time_counter=slice('2020-02-01T01:30:00.000000000', '2020-02-29T22:30:00.000000000'))\n",
    "T2 = T2.where(sea_mask_modified, drop=False).values[::3]\n",
    "\n",
    "Tdiff_3h = sst - T2"
   ]
  },
  {
   "cell_type": "code",
   "execution_count": null,
   "id": "ca02c928",
   "metadata": {},
   "outputs": [],
   "source": []
  },
  {
   "cell_type": "code",
   "execution_count": null,
   "id": "91f6a82d",
   "metadata": {},
   "outputs": [],
   "source": []
  },
  {
   "cell_type": "code",
   "execution_count": 13,
   "id": "d2dc20bd",
   "metadata": {},
   "outputs": [
    {
     "name": "stdout",
     "output_type": "stream",
     "text": [
      "0\n",
      "10\n",
      "20\n",
      "30\n"
     ]
    }
   ],
   "source": [
    "#### percentile distributionnssss\n",
    "\n",
    "## W DISTRIBUTION\n",
    "perc_step = 2\n",
    "nbins = int(100/perc_step) # Number of bins.\n",
    "\n",
    "pdist_dsst, pdist_w, pstd_w, pstderr_w, pnpoints_w, ppvalue_w_sub = \\\n",
    "dist_3d_subsample(dsst_day.values, W_day.values, perc_step, nbins, popmean, nt, nttop, nskip, nskiptop, top=14, perc_fixbin='perc')\n",
    "\n",
    "# pdist_dsst, pdist_w, pstd_w, pstderr_w, pnpoints_w, ppvalue_w_sub = \\\n",
    "# dist_3d_subsample(dsst_3h.values*tourbillons_mask, W.values*tourbillons_mask, perc_step, nbins, popmean, nt, nttop, nskip, nskiptop, top=14, perc_fixbin='perc')\n"
   ]
  },
  {
   "cell_type": "code",
   "execution_count": 41,
   "id": "de6d9997",
   "metadata": {},
   "outputs": [
    {
     "name": "stdout",
     "output_type": "stream",
     "text": [
      "0\n",
      "10\n",
      "20\n",
      "30\n"
     ]
    }
   ],
   "source": [
    "#### percentile distributionnssss\n",
    "\n",
    "## W  anoms  DISTRIBUTION\n",
    "perc_step = 2\n",
    "nbins = int(100/perc_step) # Number of bins.\n",
    "\n",
    "pdist_dsst, pdist_dw, pstd_dw, pstderr_dw, pnpoints_dw, ppvalue_dw_sub = \\\n",
    "dist_3d_subsample(dsst_day.values*tourbillons_mask, dw_day*tourbillons_mask, perc_step, nbins, popmean, nt, nttop, nskip, nskiptop, top=14, perc_fixbin='perc')"
   ]
  },
  {
   "cell_type": "code",
   "execution_count": null,
   "id": "388c9e62",
   "metadata": {},
   "outputs": [],
   "source": []
  },
  {
   "cell_type": "code",
   "execution_count": 14,
   "id": "94b7fea4",
   "metadata": {},
   "outputs": [],
   "source": [
    "PBLH_day = ds_hourly['PBLH'].groupby('time_counter.day').mean()\n",
    "PBLH_day = PBLH_day.where(sea_mask_modified, drop=False).values;\n",
    "\n",
    "# PBLH IN PRESSURE VALUES! \n",
    "# output is in hPa\n",
    "PBLH_pres = mpcalc.height_to_pressure_std(PBLH_day*units.meters)\n",
    "PBLH_pres = PBLH_pres.magnitude #.m_as('hPa')"
   ]
  },
  {
   "cell_type": "code",
   "execution_count": 15,
   "id": "c1f58d45",
   "metadata": {},
   "outputs": [],
   "source": [
    "# DISTRIBUTION PBLH vs dSST bin - DAILY \n",
    "perc_step = 2\n",
    "nbins = int(100/perc_step) # Number of bins.\n",
    "\n",
    "#  PBLH distrib\n",
    "\n",
    "# perc\n",
    "pdist_dsst, pdist_PBLH_dsst, pstd_PBLH_dsst, pstderr_PBLH_dsst, pnpoints_PBLH_dsst, ppvalue_PBLH_dsst = \\\n",
    "distrib_2d(dsst_day.values, PBLH_pres, perc_step, nbins, popmean, perc_fixbin = 'perc')\n",
    "\n",
    "\n",
    "pdist_sst, pdist_PBLH_sst, pstd_PBLH_sst, pstderr_PBLH_sst, pnpoints_PBLH_sst, ppvalue_PBLH_sst = \\\n",
    "distrib_2d(sst_day, PBLH_pres, perc_step, nbins, popmean, perc_fixbin = 'perc')\n"
   ]
  },
  {
   "cell_type": "code",
   "execution_count": null,
   "id": "ea4bf5f0",
   "metadata": {},
   "outputs": [],
   "source": []
  },
  {
   "cell_type": "code",
   "execution_count": null,
   "id": "da170f36",
   "metadata": {},
   "outputs": [],
   "source": []
  },
  {
   "cell_type": "code",
   "execution_count": null,
   "id": "46acd8c8",
   "metadata": {},
   "outputs": [],
   "source": []
  },
  {
   "cell_type": "code",
   "execution_count": 16,
   "id": "65ce7362",
   "metadata": {},
   "outputs": [],
   "source": [
    "mean_vert_pres = np.load('/venus/tesi_ale/data_EU/PRES/daily/FEB/mean_vert_pres.npy')"
   ]
  },
  {
   "cell_type": "code",
   "execution_count": 17,
   "id": "fc706703",
   "metadata": {},
   "outputs": [
    {
     "data": {
      "text/plain": [
       "Text(0.4, 925, 'PBLH')"
      ]
     },
     "execution_count": 17,
     "metadata": {},
     "output_type": "execute_result"
    },
    {
     "data": {
      "image/png": "[encoded data removed]",
      "text/plain": [
       "<Figure size 800x500 with 2 Axes>"
      ]
     },
     "metadata": {},
     "output_type": "display_data"
    }
   ],
   "source": [
    "# figure W and dW vs dSST bin - DAILY\n",
    "p_level_plot = int(15)\n",
    "\n",
    "anoms = False\n",
    "\n",
    "x = pdist_dsst \n",
    "var = pstd_w[0:p_level_plot,:]   #  pdist_dw[0:p_level_plot,:] if anoms else pdist_w[0:p_level_plot,:] \n",
    "# minval = -0.001\n",
    "# maxval = -minval\n",
    "# title = 'Percentiles - daily dSST vs vertical velocity anomalies' if anoms else \\\n",
    "#         \"Percentiles - daily SST' vs vertical velocity\"\n",
    "\n",
    "\n",
    "title_sigma = \"3h SST anoms vs $\\sigma_{w}$\"\n",
    "\n",
    "fig, ax1 = plt.subplots(figsize=(8, 5))  \n",
    "ax1.invert_yaxis()\n",
    "p1 = ax1.pcolormesh(x, mean_vert_pres[0:p_level_plot], var, cmap='jet')  # vmin=minval, vmax=maxval,\n",
    "ax1.set_xlabel('SST anomalies [˚C]'); ax1.set_ylabel('pressure [hPa]')\n",
    "plt.title(f'{title_sigma} ')\n",
    "cbar = plt.colorbar(p1,ax=ax1, location='right', shrink=0.8, extend='both')  \n",
    "cbar.set_label(r\"$\\sigma_{w}$ [$\\rm ms^{-1}$]\")  #$\\sigma_{w}$\n",
    "\n",
    "\n",
    "x_pbl = pdist_dsst \n",
    "var_pbl = pdist_PBLH_dsst #if perc else dist_PBLH_dsst\n",
    "ax1.plot(x_pbl, var_pbl, 'k')\n",
    "ax1.text(0.4, 925, 'PBLH', fontsize=12)\n",
    "\n",
    "\n",
    "\n",
    "# DEF punti significativi (pvalue < 0.05)\n",
    "# pval = ppvalue_dw_sub[0:p_level_plot] if anoms else ppvalue_w_sub[0:p_level_plot] \n",
    "# GPbin = mean_vert_pres[1:p_level_plot] - np.diff(mean_vert_pres[0:p_level_plot])*0.5\n",
    "# signif_Lcorr_H = np.zeros((len(mean_vert_pres[0:p_level_plot])-1,len(x)-1))\n",
    "# dsstbin = np.zeros((len(mean_vert_pres[0:p_level_plot])-1,len(x)-1))\n",
    "# for h in range(0,len(mean_vert_pres[0:p_level_plot])-1):\n",
    "#     cond1 = pval[h,:-1] > 0.05\n",
    "#     cond2 = np.abs(var[h,:-1]) < 0.1*np.nanmean(np.abs(var))\n",
    "#     cond = (cond1) | (cond2)\n",
    "# #     cond = cond1\n",
    "#     signif_Lcorr_H[h,:] = np.zeros(len(x)-1) + np.nan\n",
    "#     signif_Lcorr_H[h, cond] = GPbin[h]\n",
    "#     dsstbin[h,:] = x[1:] - np.diff(x)*0.5\n",
    "    \n",
    "# plt.scatter(dsstbin,signif_Lcorr_H,  s=0.7, color='k')\n",
    "\n",
    "\n",
    "# path_img = '/venus/tesi_ale/img_EU/WIND/daily/FEB/' \n",
    "# filename = path_img + 'pdist_dsst_dW_day_lowtropo.png' if anoms else path_img + 'pdist_dsst_W_day_lowtropo.png' \n",
    "# # plt.savefig(filename)\n",
    "# print(filename)                #'pdist_dsst_SigmaW_day_lowtropo.png' #\n",
    "# del filename"
   ]
  },
  {
   "cell_type": "code",
   "execution_count": null,
   "id": "a28490b9",
   "metadata": {},
   "outputs": [],
   "source": []
  },
  {
   "cell_type": "code",
   "execution_count": null,
   "id": "510d1d65",
   "metadata": {},
   "outputs": [],
   "source": []
  },
  {
   "cell_type": "markdown",
   "id": "37175db4",
   "metadata": {},
   "source": [
    "## sigma_w against SST-T2"
   ]
  },
  {
   "cell_type": "code",
   "execution_count": 30,
   "id": "62457221",
   "metadata": {},
   "outputs": [
    {
     "data": {
      "text/plain": [
       "(694, 546, 573)"
      ]
     },
     "execution_count": 30,
     "metadata": {},
     "output_type": "execute_result"
    }
   ],
   "source": []
  },
  {
   "cell_type": "code",
   "execution_count": 18,
   "id": "41940fcd",
   "metadata": {},
   "outputs": [
    {
     "name": "stdout",
     "output_type": "stream",
     "text": [
      "0\n",
      "10\n",
      "20\n",
      "30\n"
     ]
    }
   ],
   "source": [
    "## W DISTRIBUTION\n",
    "perc_step = 2\n",
    "nbins = int(100/perc_step) # Number of bins.\n",
    "\n",
    "pdist_buoya, pdist_w_bu, pstd_w_bu, pstderr_w_bu, pnpoints_w_bu, ppvalue_w_bu_sub = \\\n",
    "dist_3d_subsample(buoya, W_day.values, perc_step, nbins, popmean, nt, nttop, nskip, nskiptop, top=14, perc_fixbin='perc')"
   ]
  },
  {
   "cell_type": "code",
   "execution_count": 19,
   "id": "ebf856ea",
   "metadata": {},
   "outputs": [],
   "source": [
    "### PBLH - buoya\n",
    "pdist_buoya, pdist_PBLH_bu, pstd_PBLH_bu, pstderr_PBLH_bu, pnpoints_PBLH_bu, ppvalue_PBLH_bu = \\\n",
    "distrib_2d(buoya, PBLH_pres, perc_step, nbins, popmean, perc_fixbin = 'perc')"
   ]
  },
  {
   "cell_type": "code",
   "execution_count": null,
   "id": "0bc12cc7",
   "metadata": {},
   "outputs": [],
   "source": []
  },
  {
   "cell_type": "code",
   "execution_count": 22,
   "id": "b8122d5f",
   "metadata": {},
   "outputs": [
    {
     "data": {
      "text/plain": [
       "Text(-0.1, 925, 'PBLH')"
      ]
     },
     "execution_count": 22,
     "metadata": {},
     "output_type": "execute_result"
    },
    {
     "data": {
      "image/png": "[encoded data removed]",
      "text/plain": [
       "<Figure size 800x500 with 2 Axes>"
      ]
     },
     "metadata": {},
     "output_type": "display_data"
    }
   ],
   "source": [
    "\n",
    "p_level_plot = int(14)\n",
    "\n",
    "anoms = True\n",
    "\n",
    "x = pdist_buoya\n",
    "var = pstd_w_bu[0:p_level_plot,:] #if anoms else pdist_w[0:p_level_plot,:] \n",
    "# minval = 0 #-0.001\n",
    "# maxval = 0.01 #-minval\n",
    "title = \"Daily SST-$T_{2m}$ vs $\\sigma_{w}$\" #if anoms else \\ \"Percentiles - daily SST' vs vertical velocity\"\n",
    "\n",
    "fig, ax1 = plt.subplots(figsize=(8, 5))  \n",
    "ax1.invert_yaxis()\n",
    "p1 = ax1.pcolormesh(x, mean_vert_pres[0:p_level_plot], var, cmap='jet') #vmin=minval, vmax=maxval,\n",
    "ax1.set_xlabel('SST-$T_{2m}$ [˚C]', fontsize=14); ax1.set_ylabel('pressure [hPa]', fontsize=14)\n",
    "plt.title(f'{title} ', fontsize=14)\n",
    "cbar = plt.colorbar(p1,ax=ax1, location='right', shrink=0.8, extend='max')  \n",
    "cbar.set_label(r\"$\\sigma_{w}$ [$\\rm ms^{-1}$]\", fontsize=14) \n",
    "\n",
    "\n",
    "x_pbl = pdist_buoya \n",
    "var_pbl = pdist_PBLH_bu # pdist_PBLH_dsst\n",
    "ax1.plot(x_pbl, var_pbl, 'k')\n",
    "ax1.text(-0.1, 925, 'PBLH', fontsize=12)\n",
    "\n",
    "\n",
    "\n",
    "# DEF punti significativi (pvalue < 0.05)\n",
    "# pval = ppvalue_dw_sub[0:p_level_plot] if anoms else ppvalue_w_sub[0:p_level_plot] \n",
    "# GPbin = mean_vert_pres[1:p_level_plot] - np.diff(mean_vert_pres[0:p_level_plot])*0.5\n",
    "# signif_Lcorr_H = np.zeros((len(mean_vert_pres[0:p_level_plot])-1,len(x)-1))\n",
    "# dsstbin = np.zeros((len(mean_vert_pres[0:p_level_plot])-1,len(x)-1))\n",
    "# for h in range(0,len(mean_vert_pres[0:p_level_plot])-1):\n",
    "#     cond1 = pval[h,:-1] > 0.05\n",
    "#     cond2 = np.abs(var[h,:-1]) < 0.1*np.nanmean(np.abs(var))\n",
    "#     cond = (cond1) | (cond2)\n",
    "# #     cond = cond1\n",
    "#     signif_Lcorr_H[h,:] = np.zeros(len(x)-1) + np.nan\n",
    "#     signif_Lcorr_H[h, cond] = GPbin[h]\n",
    "#     dsstbin[h,:] = x[1:] - np.diff(x)*0.5\n",
    "    \n",
    "# plt.scatter(dsstbin,signif_Lcorr_H,  s=0.7, color='k')\n",
    "\n",
    "\n",
    "# path_img = '/venus/tesi_ale/img_EU/WIND/daily/FEB/' \n",
    "# filename = path_img + 'pdist_dsst_dW_day_lowtropo.png' if anoms else path_img + 'pdist_dsst_W_day_lowtropo.png' \n",
    "# # plt.savefig(filename)\n",
    "# print(filename)                #'pdist_dsst_SigmaW_day_lowtropo.png' #\n",
    "# del filename"
   ]
  },
  {
   "cell_type": "code",
   "execution_count": null,
   "id": "ffa510f3",
   "metadata": {},
   "outputs": [],
   "source": []
  },
  {
   "cell_type": "code",
   "execution_count": null,
   "id": "6df63a9d",
   "metadata": {},
   "outputs": [],
   "source": []
  },
  {
   "cell_type": "code",
   "execution_count": null,
   "id": "32746ef0",
   "metadata": {},
   "outputs": [],
   "source": []
  },
  {
   "cell_type": "markdown",
   "id": "0777409c",
   "metadata": {},
   "source": [
    "IN DAILY MEANS, ONLY THE GENERAL SUBSIDENCE IS VISIBLE"
   ]
  },
  {
   "cell_type": "code",
   "execution_count": null,
   "id": "e977b6cf",
   "metadata": {},
   "outputs": [],
   "source": []
  },
  {
   "cell_type": "code",
   "execution_count": null,
   "id": "34335808",
   "metadata": {},
   "outputs": [],
   "source": []
  },
  {
   "cell_type": "code",
   "execution_count": null,
   "id": "c25cc9b8",
   "metadata": {},
   "outputs": [],
   "source": []
  },
  {
   "cell_type": "code",
   "execution_count": null,
   "id": "87bc988e",
   "metadata": {},
   "outputs": [],
   "source": []
  },
  {
   "cell_type": "code",
   "execution_count": 13,
   "id": "5176d23a",
   "metadata": {},
   "outputs": [
    {
     "name": "stdout",
     "output_type": "stream",
     "text": [
      "[[253]]\n"
     ]
    }
   ],
   "source": [
    "lat_reduced = lat_M[:,0]\n",
    "exist_ = np.argwhere(lat_reduced==10.01075)\n",
    "print(exist_)"
   ]
  },
  {
   "cell_type": "code",
   "execution_count": null,
   "id": "67ac4406",
   "metadata": {},
   "outputs": [],
   "source": []
  },
  {
   "cell_type": "code",
   "execution_count": 45,
   "id": "07983fef",
   "metadata": {},
   "outputs": [],
   "source": [
    "# visualize what is going on along (-56, 7:14) and (-60:-53, 10)\n",
    "\n",
    "vert_line = np.argwhere((lon_M==-55.983223) & (lat_M >=7) & (lat_M <=14))\n",
    "hor_line = np.argwhere((lat_M==10.01075) & (lon_M >=-60) & (lon_M <=-53))"
   ]
  },
  {
   "cell_type": "code",
   "execution_count": 25,
   "id": "88ceaed5",
   "metadata": {},
   "outputs": [],
   "source": [
    "# visualize what is going on along (-56, 7:14) and (-60:-53, 10)\n",
    "\n",
    "vert_line = np.argwhere((lon_M==-55.983223) & (lat_M >=7) & (lat_M <=14))\n",
    "hor_line = np.argwhere((lat_M==10.01075) & (lon_M >=-60) & (lon_M <=-53))\n",
    "\n",
    "lon_verticalline = int(np.unique(vert_line[:,1]))\n",
    "w_vertline = W_inter[:,:,np.unique(vert_line[:,0]), lon_verticalline]\n",
    "\n",
    "lat_horizontalline = int(np.unique(hor_line[:,0]))\n",
    "w_horline = W_inter[:,:,lat_horizontalline, np.unique(hor_line[:,1])]\n",
    "\n",
    "\n",
    "\n",
    "v_vertline = V[:,:,vert_line[:,0], vert_line[:,1]]; GPH_vert = GPH_inter[:,:,vert_line[:,0], vert_line[:,1]]\n",
    "u_horline = U[:,:,hor_line[:,0], hor_line[:,1]];    GPH_hor  = GPH_inter[:,:,hor_line[:,0], hor_line[:,1]]"
   ]
  },
  {
   "cell_type": "code",
   "execution_count": 18,
   "id": "69846156",
   "metadata": {},
   "outputs": [],
   "source": [
    "v_vertline = V[:,:,vert_line[:,0], vert_line[:,1]]; GPH_vert = GPH_inter[:,:,vert_line[:,0], vert_line[:,1]]\n",
    "u_horline = U[:,:,hor_line[:,0], hor_line[:,1]];    GPH_hor  = GPH_inter[:,:,hor_line[:,0], hor_line[:,1]]"
   ]
  },
  {
   "cell_type": "code",
   "execution_count": 26,
   "id": "c9865354",
   "metadata": {},
   "outputs": [],
   "source": [
    "dwdy_vert = mpcalc.first_derivative(w_vertline*units('m/s'), axis=2,x=None, delta=2000.*units.meters) #, x=GPH_vert*units.meters)\n",
    "dwdx_hor = mpcalc.first_derivative(w_horline*units('m/s'), axis=2, x=None, delta=2000.*units.meters) #, x=GPH_hor*units.meters)\n"
   ]
  },
  {
   "cell_type": "code",
   "execution_count": 20,
   "id": "6b6d2093",
   "metadata": {},
   "outputs": [],
   "source": [
    "dvdz_vert = mpcalc.first_derivative(v_vertline*units('m/s'), axis=1, x=GPH_vert*units.meters)\n",
    "dudz_hor = mpcalc.first_derivative(u_horline*units('m/s'), axis=1, x=GPH_hor*units.meters)"
   ]
  },
  {
   "cell_type": "code",
   "execution_count": null,
   "id": "ccb037a8",
   "metadata": {},
   "outputs": [],
   "source": []
  },
  {
   "cell_type": "code",
   "execution_count": 27,
   "id": "ea45324e",
   "metadata": {},
   "outputs": [],
   "source": [
    "vort_horline = dudz_hor - dwdx_hor\n",
    "vort_vertline = dwdy_vert - dvdz_vert"
   ]
  },
  {
   "cell_type": "code",
   "execution_count": null,
   "id": "7217ff50",
   "metadata": {},
   "outputs": [],
   "source": []
  },
  {
   "cell_type": "code",
   "execution_count": null,
   "id": "f0c980fb",
   "metadata": {},
   "outputs": [],
   "source": []
  },
  {
   "cell_type": "code",
   "execution_count": 58,
   "id": "4255e351",
   "metadata": {},
   "outputs": [],
   "source": [
    "wrf_hourly = path + 'Caraibes_WRF_3h_surf.nc'\n",
    "ds_hourly = xr.open_dataset(wrf_hourly)\n",
    "ds_hourly = ds_hourly.sel(time_counter=slice('2020-02-01T01:30:00.000000000', '2020-02-29T22:30:00.000000000'))\n",
    "\n",
    "LH = ds_hourly['LH'].groupby('time_counter.day').mean()            \n",
    "LH = LH.where(sea_mask, drop=False).values;\n",
    "LH_vertline = LH[:, vert_line[:,0],lon_verticalline]\n",
    "LH_horline = LH[:, lat_horizontalline,hor_line[:,1]]\n"
   ]
  },
  {
   "cell_type": "code",
   "execution_count": 60,
   "id": "660adf01",
   "metadata": {},
   "outputs": [],
   "source": [
    "with open('/venus/tesi_ale/data_EU/LH/daily/FEB/dLH_day_feb.npy', 'rb') as f:\n",
    "    dLH = np.load(f)\n",
    "    f.close()\n",
    "\n",
    "dLH_vertline = dLH[:, vert_line[:,0],lon_verticalline]\n",
    "dLH_horline = dLH[:, lat_horizontalline,hor_line[:,1]]"
   ]
  },
  {
   "cell_type": "code",
   "execution_count": 76,
   "id": "1bfe07c0",
   "metadata": {},
   "outputs": [],
   "source": [
    "PBLH = ds_hourly['PBLH'].groupby('time_counter.day').mean()\n",
    "PBLH_vertline = PBLH[:, vert_line[:,0],lon_verticalline];  PBLH_vertline = mpcalc.height_to_pressure_std(PBLH_vertline*units.meters)\n",
    "PBLH_horline = PBLH[:, lat_horizontalline,hor_line[:,1]];  PBLH_horline = mpcalc.height_to_pressure_std(PBLH_horline*units.meters)"
   ]
  },
  {
   "cell_type": "code",
   "execution_count": 80,
   "id": "6ed8d97a",
   "metadata": {},
   "outputs": [
    {
     "data": {
      "text/plain": [
       "<matplotlib.collections.LineCollection at 0x7547392a1710>"
      ]
     },
     "execution_count": 80,
     "metadata": {},
     "output_type": "execute_result"
    },
    {
     "data": {
      "image/png": "[encoded data removed]",
      "text/plain": [
       "<Figure size 900x800 with 3 Axes>"
      ]
     },
     "metadata": {},
     "output_type": "display_data"
    }
   ],
   "source": [
    "lev = int(18); day = int(5)\n",
    "\n",
    "vertical = True\n",
    "x = lat_M[vert_line[:,0],lon_verticalline] if vertical else lon_M[lat_horizontalline,hor_line[:,1]]\n",
    "var = vort_vertline[day, 0:lev, :].magnitude if vertical else vort_horline[day, 0:lev, :].magnitude\n",
    "xlab = r'lat [$^\\circ$]' if vertical else r'lon [$^\\circ$]'\n",
    "title = f'Horizontal vorticity: lon = 56°W, day = {day}' if vertical else f'Horizontal vorticity at lat = 10°N, day = {day}'\n",
    "\n",
    "fig, (ax1, ax2) = plt.subplots(2, 1, figsize=(9, 8))  \n",
    "ax1.invert_yaxis()\n",
    "\n",
    "\n",
    "# plot for vorticity and PBLH\n",
    "\n",
    "p1 = ax1.pcolormesh(x, mean_vert_pres[0:lev], var, \\\n",
    "               vmin=-0.005, vmax=0.005, cmap='seismic')\n",
    "\n",
    "\n",
    "ax1.set_ylabel('pressure [hPa]')\n",
    "ax1.set_title(title)\n",
    "cbar = plt.colorbar(p1,ax=ax1, location='left', shrink=0.8, extend='both') \n",
    "cbar.set_label('horizontal vorticity [$s^{-1}$]')\n",
    "\n",
    "#twin = ax1.twinx()\n",
    "var_PBL = PBLH_vertline if vertical else PBLH_horline\n",
    "ax1.plot(x, var_PBL[day,:], 'k'); ax1.text(13, 925, 'PBLH', fontsize=12)\n",
    "\n",
    "\n",
    "### plot to have LH / dLH at hand\n",
    "\n",
    "var_LH = LH_vertline if vertical else LH_horline\n",
    "var_dLH = dLH_vertline if vertical else dLH_horline\n",
    "\n",
    "ax2.plot(x, var_dLH[day,:], 'orange')\n",
    "ax2.set_ylabel('LH anoms [$Wm^{-2}$]'); ax2.set_xlabel(xlab);\n",
    "ax2.grid(); ax2.hlines(0, xmin=x[0], xmax=x[-1])"
   ]
  },
  {
   "cell_type": "code",
   "execution_count": null,
   "id": "486fd1af",
   "metadata": {},
   "outputs": [],
   "source": []
  },
  {
   "cell_type": "code",
   "execution_count": null,
   "id": "6e9dcc4d",
   "metadata": {},
   "outputs": [],
   "source": []
  },
  {
   "cell_type": "code",
   "execution_count": null,
   "id": "bd11645c",
   "metadata": {},
   "outputs": [],
   "source": []
  },
  {
   "cell_type": "markdown",
   "id": "8daaea56",
   "metadata": {},
   "source": [
    "# on subdaily timescale?"
   ]
  },
  {
   "cell_type": "code",
   "execution_count": 11,
   "id": "962dbcb5",
   "metadata": {},
   "outputs": [],
   "source": [
    "# load W component - in m/s\n",
    "U = xr.open_dataset(wrf_files[files_ls.index('U.nc')])\n",
    "U = U['U'].sel(time_counter=slice('2020-02-01T01:30:00.000000000', '2020-02-07T22:30:00.000000000'))\n",
    "\n",
    "\n",
    "V = xr.open_dataset(wrf_files[files_ls.index('V.nc')])\n",
    "V = V['V'].sel(time_counter=slice('2020-02-01T01:30:00.000000000', '2020-02-07T22:30:00.000000000'))\n",
    "\n"
   ]
  },
  {
   "cell_type": "code",
   "execution_count": 13,
   "id": "805b41e7",
   "metadata": {},
   "outputs": [],
   "source": [
    "U = (U[:,:,:,:-1]+U[:,:,:,1:])*0.5\n",
    "V = (V[:,:,:-1,:]+V[:,:,1:,:])*0.5\n",
    "\n",
    "U = U.where(sea_mask, drop=False)\n",
    "V = V.where(sea_mask, drop=False)"
   ]
  },
  {
   "cell_type": "code",
   "execution_count": 14,
   "id": "f883d9e9",
   "metadata": {},
   "outputs": [],
   "source": []
  },
  {
   "cell_type": "code",
   "execution_count": 15,
   "id": "41b8a8ff",
   "metadata": {},
   "outputs": [],
   "source": [
    "# load W component - in m/s\n",
    "W = xr.open_dataset(wrf_files[files_ls.index('W.nc')])\n",
    "W = W['W'].sel(time_counter=slice('2020-02-01T01:30:00.000000000', '2020-02-07T22:30:00.000000000'))\n",
    "W = W.where(sea_mask, drop=False)\n",
    "\n",
    "\n",
    "lon_M = W['nav_lon_grid_M'].values\n",
    "lat_M = W['nav_lat_grid_M'].values\n",
    "\n",
    "W_inter = np.zeros_like(U)\n",
    "for i in range(39):\n",
    "    W_inter[:,i,:,:] = (W[:,i+1,:,:]+W[:,i,:,:])*0.5"
   ]
  },
  {
   "cell_type": "code",
   "execution_count": null,
   "id": "264d03e1",
   "metadata": {},
   "outputs": [],
   "source": []
  },
  {
   "cell_type": "code",
   "execution_count": 16,
   "id": "84c4e571",
   "metadata": {},
   "outputs": [],
   "source": [
    "# reading geopotential height\n",
    "GPH_base = xr.open_dataset(wrf_files[files_ls.index('PHB.nc')])\n",
    "GPH_base = GPH_base['PHB']/9.81\n",
    "\n",
    "GPH = xr.open_dataset(wrf_files[files_ls.index('PH.nc')])\n",
    "GPH = GPH.sel(time_counter=slice('2020-02-01T01:30:00.000000000', '2020-02-07T22:30:00.000000000'))\n",
    "GPH = GPH['PH']/9.81\n",
    "\n",
    "GPH = GPH_base + GPH\n",
    "GPH = GPH.transpose('time_counter', 'lev_W', 'y_grid_M', 'x_grid_M')\n",
    "GPH = GPH.where(sea_mask, drop=False)\n",
    "\n",
    "# GPH = GPH.groupby('time_counter.day').mean()\n",
    "\n",
    "#GPH_base = GPH_base.where(sea_mask, drop=False)\n",
    "del GPH_base"
   ]
  },
  {
   "cell_type": "code",
   "execution_count": 18,
   "id": "4397e512",
   "metadata": {},
   "outputs": [],
   "source": [
    "# vertical interpolation of geopotential\n",
    "GPH_inter = np.zeros_like(U)\n",
    "for i in range(39):\n",
    "    GPH_inter[:,i,:,:] = (GPH[:,i+1,:,:]+GPH[:,i,:,:])*0.5"
   ]
  },
  {
   "cell_type": "code",
   "execution_count": null,
   "id": "34b38b5e",
   "metadata": {},
   "outputs": [],
   "source": []
  },
  {
   "cell_type": "code",
   "execution_count": null,
   "id": "2774863b",
   "metadata": {},
   "outputs": [],
   "source": []
  },
  {
   "cell_type": "code",
   "execution_count": null,
   "id": "845b71c4",
   "metadata": {},
   "outputs": [],
   "source": [
    "'''vert_line = np.argwhere((lon_M==-55.983223) & (lat_M >=7) & (lat_M <=14))\n",
    "hor_line = np.argwhere((lat_M==10.01075) & (lon_M >=-60) & (lon_M <=-53))'''"
   ]
  },
  {
   "cell_type": "code",
   "execution_count": null,
   "id": "4f0e61d9",
   "metadata": {},
   "outputs": [],
   "source": [
    "'''# visualize what is going on along (-56, 7:14) and (-60:-53, 10)\n",
    "lon_verticalline = int(np.unique(vert_line[:,1]))\n",
    "w_vertline = W_inter[:,:,np.unique(vert_line[:,0]), lon_verticalline]\n",
    "\n",
    "lat_horizontalline = int(np.unique(hor_line[:,0]))\n",
    "w_horline = W_inter[:,:,lat_horizontalline, np.unique(hor_line[:,1])]\n",
    "'''"
   ]
  },
  {
   "cell_type": "code",
   "execution_count": null,
   "id": "346f5ba1",
   "metadata": {},
   "outputs": [],
   "source": [
    "'''v_vertline = V[:,:,vert_line[:,0], vert_line[:,1]]; GPH_vert = GPH_inter[:,:,vert_line[:,0], vert_line[:,1]]\n",
    "u_horline = U[:,:,hor_line[:,0], hor_line[:,1]];    GPH_hor  = GPH_inter[:,:,hor_line[:,0], hor_line[:,1]]'''"
   ]
  },
  {
   "cell_type": "code",
   "execution_count": null,
   "id": "2297c751",
   "metadata": {},
   "outputs": [],
   "source": []
  },
  {
   "cell_type": "code",
   "execution_count": null,
   "id": "3f6f7b2b",
   "metadata": {},
   "outputs": [],
   "source": [
    "dwdy = mpcalc.first_derivative(W*units('m/s'), axis=2,x=None, delta=2000.*units.meters) #, x=GPH_vert*units.meters)\n",
    "dwdx = mpcalc.first_derivative(W*units('m/s'), axis=2, x=None, delta=2000.*units.meters) #, x=GPH_hor*units.meters)\n",
    "\n",
    "dvdz = mpcalc.first_derivative(V*units('m/s'), axis=1, x=GPH_inter*units.meters)\n",
    "dudz = mpcalc.first_derivative(U*units('m/s'), axis=1, x=GPH_inter*units.meters)"
   ]
  },
  {
   "cell_type": "code",
   "execution_count": null,
   "id": "f07e370c",
   "metadata": {},
   "outputs": [],
   "source": [
    "eta = dwdy-dvdz\n",
    "csi = dudz-dwdx "
   ]
  },
  {
   "cell_type": "markdown",
   "id": "767526f0",
   "metadata": {},
   "source": [
    "LINK WITH LHF ANOMALIES?"
   ]
  },
  {
   "cell_type": "code",
   "execution_count": 20,
   "id": "4583d291",
   "metadata": {},
   "outputs": [],
   "source": [
    "wrf_hourly = path + 'Caraibes_WRF_3h_surf.nc'\n",
    "ds_hourly = xr.open_dataset(wrf_hourly)\n",
    "ds_hourly = ds_hourly.sel(time_counter=slice('2020-02-01T01:30:00.000000000', '2020-02-07T22:30:00.000000000'))\n",
    "\n",
    "LH = ds_hourly['LH']   #.groupby('time_counter.day').mean()            \n",
    "LH = LH.where(sea_mask, drop=False).values;\n",
    "# LH_vertline = LH[:, vert_line[:,0],lon_verticalline]\n",
    "# LH_horline = LH[:, lat_horizontalline,hor_line[:,1]]\n"
   ]
  },
  {
   "cell_type": "code",
   "execution_count": 22,
   "id": "31a74b61",
   "metadata": {},
   "outputs": [],
   "source": [
    "LH = LH[::3,:,:]"
   ]
  },
  {
   "cell_type": "code",
   "execution_count": 23,
   "id": "1e1df301",
   "metadata": {},
   "outputs": [
    {
     "name": "stdout",
     "output_type": "stream",
     "text": [
      "0\n",
      "10\n",
      "20\n",
      "30\n",
      "40\n",
      "50\n"
     ]
    }
   ],
   "source": [
    "s = 75   # CAREFUL!!\n",
    "\n",
    "dLH = np.zeros(LH.shape)\n",
    "\n",
    "for t in range(0,LH.shape[0]):\n",
    "    if t % 10 == 0:\n",
    "        print(t)\n",
    "    # upscale using gaussian filter\n",
    "    LH_ave = gm.nan_gaussian_filter(LH[t],s)                             \n",
    "    dLH[t] = LH[t] - LH_ave"
   ]
  },
  {
   "cell_type": "code",
   "execution_count": null,
   "id": "0930adb0",
   "metadata": {},
   "outputs": [],
   "source": []
  },
  {
   "cell_type": "code",
   "execution_count": null,
   "id": "0864e2b9",
   "metadata": {},
   "outputs": [],
   "source": [
    "#### PBLH\n",
    "PBLH = ds_hourly['PBLH']              \n",
    "PBLH = PBLH.where(sea_mask, drop=False)\n",
    "PBLH = PBLH[::3,:,:]\n"
   ]
  },
  {
   "cell_type": "code",
   "execution_count": null,
   "id": "62361a26",
   "metadata": {},
   "outputs": [],
   "source": [
    "pdist_dLH, pdist_PBLH_dLH, pstd_PBLH_dLH, pstd_err_PBLH_dLH, pnpoints_PBLH_dLH, ppvalue_PBLH_dLH = \\\n",
    "distrib_2d(dLH, PBLH, perc_step, nbins, popmean, perc_fixbin='perc')"
   ]
  },
  {
   "cell_type": "code",
   "execution_count": null,
   "id": "d582474b",
   "metadata": {},
   "outputs": [],
   "source": [
    "### PBLH conversion to hPa\n",
    "pdist_PBLH_dLH = mpcalc.height_to_pressure_std(pdist_PBLH_dLH*units.meters)"
   ]
  },
  {
   "cell_type": "code",
   "execution_count": null,
   "id": "7aac54ea",
   "metadata": {},
   "outputs": [],
   "source": []
  },
  {
   "cell_type": "code",
   "execution_count": null,
   "id": "e086ef45",
   "metadata": {},
   "outputs": [],
   "source": []
  },
  {
   "cell_type": "code",
   "execution_count": null,
   "id": "e57af96a",
   "metadata": {},
   "outputs": [],
   "source": [
    "pdist_dLH, pdist_eta, pstd_eta, pstderr_eta, pnpoints_eta, ppvalue_eta_sub = \\\n",
    "dist_3d_subsample(dLH, eta.magnitude, perc_step, nbins, popmean, nt, nttop, nskip, nskiptop, top=14, perc_fixbin='perc')"
   ]
  },
  {
   "cell_type": "code",
   "execution_count": null,
   "id": "fe587fd8",
   "metadata": {},
   "outputs": [],
   "source": []
  },
  {
   "cell_type": "code",
   "execution_count": null,
   "id": "23be3282",
   "metadata": {},
   "outputs": [],
   "source": [
    "mean_vert_pres = np.load('/venus/tesi_ale/data_EU/PRES/daily/FEB/mean_vert_pres.npy')"
   ]
  },
  {
   "cell_type": "code",
   "execution_count": null,
   "id": "d377ee62",
   "metadata": {},
   "outputs": [],
   "source": [
    "# figure dBV or BV vs dSST bin - DAILY\n",
    "p_level_plot = int(15)\n",
    "\n",
    "\n",
    "x = pdist_dLH #if perc else dist_dsst_day\n",
    "var = pdist_eta[0:p_level_plot,:]\n",
    "# minval = -10. #if perc else -0.05\n",
    "# maxval = -minval\n",
    "title = 'Eta (along x) distributions'\n",
    "\n",
    "fig, ax1 = plt.subplots(figsize=(10, 5))  \n",
    "ax1.invert_yaxis()\n",
    "p1 = ax1.pcolormesh(x, mean_vert_pres[0:p_level_plot], var, cmap='seismic')  # vmin=minval, vmax=maxval, )\n",
    "ax1.set_xlabel('LH anomalies [W/m2]'); ax1.set_ylabel('pressure [hPa]')\n",
    "plt.title(f'{title} - 3hr dLH vs eta and PBLH')\n",
    "cbar = plt.colorbar(p1,ax=ax1, location='right', shrink=0.8, extend='both')  \n",
    "cbar.set_label('Eta [$s^{-1}$]')\n",
    "\n",
    "\n",
    "x_pbl = pdist_dLH #if perc else dist_dsst\n",
    "var_pbl = pdist_PBLH_dLH #if perc else dist_PBLH_dsst\n",
    "ax1.plot(x_pbl, var_pbl, 'k')\n",
    "# ax1.text(0.4, 925, 'PBLH', fontsize=12)\n",
    "\n",
    "\n",
    "\n",
    "# DEF punti significativi (pvalue < 0.05)\n",
    "# pval = ppvalue_dBV_freq_day_sub[0:p_level_plot] #if perc else pvalue_dBV_freq_day_sub[0:p_level_plot]\n",
    "# GPbin = mean_vert_pres[1:p_level_plot] - np.diff(mean_vert_pres[0:p_level_plot])*0.5\n",
    "# signif_Lcorr_H = np.zeros((len(mean_vert_pres[0:p_level_plot])-1,len(x)-1))\n",
    "# dsstbin = np.zeros((len(mean_vert_pres[0:p_level_plot])-1,len(x)-1))\n",
    "# for h in range(0,len(mean_vert_pres[0:p_level_plot])-1):\n",
    "#     cond1 = pval[h,:-1] > 0.05\n",
    "#     cond2 = np.abs(var[h,:-1]) < 0.1*np.nanmean(np.abs(var))\n",
    "#     cond = (cond1) | (cond2)\n",
    "# #     cond = cond1\n",
    "#     signif_Lcorr_H[h,:] = np.zeros(len(x)-1) + np.nan\n",
    "#     signif_Lcorr_H[h, cond] = GPbin[h]\n",
    "#     dsstbin[h,:] = x[1:] - np.diff(x)*0.5\n",
    "    \n",
    "# plt.scatter(dsstbin,signif_Lcorr_H,  s=0.7, color='k')\n",
    "\n",
    "\n",
    "path_img = '/venus/tesi_ale/img_EU/BV/daily/FEB/' if perc else '/venus/tesi_ale/img_EU/BV/daily/FEB/'\n",
    "filename = path_img + 'pdist_dsst_dBV_lowtropo.png' if perc else path_img + 'bins_dsst_dBV_lowtropo.png'\n",
    "#plt.savefig(filename)\n",
    "print(filename)\n",
    "del filename"
   ]
  },
  {
   "cell_type": "code",
   "execution_count": null,
   "id": "db13c90c",
   "metadata": {},
   "outputs": [],
   "source": []
  },
  {
   "cell_type": "code",
   "execution_count": null,
   "id": "22ca9e77",
   "metadata": {},
   "outputs": [],
   "source": []
  },
  {
   "cell_type": "code",
   "execution_count": null,
   "id": "0af15b15",
   "metadata": {},
   "outputs": [],
   "source": []
  }
 ],
 "metadata": {
  "kernelspec": {
   "display_name": "Python 3 (ipykernel)",
   "language": "python",
   "name": "python3"
  },
  "language_info": {
   "codemirror_mode": {
    "name": "ipython",
    "version": 3
   },
   "file_extension": ".py",
   "mimetype": "text/x-python",
   "name": "python",
   "nbconvert_exporter": "python",
   "pygments_lexer": "ipython3",
   "version": "3.7.11"
  }
 },
 "nbformat": 4,
 "nbformat_minor": 5
}
