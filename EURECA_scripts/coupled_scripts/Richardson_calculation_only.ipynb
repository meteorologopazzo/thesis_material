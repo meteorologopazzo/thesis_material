{
 "cells": [
  {
   "cell_type": "code",
   "execution_count": 4,
   "id": "5e2e0e5d",
   "metadata": {},
   "outputs": [],
   "source": [
    "%load_ext autoreload\n",
    "%autoreload 2"
   ]
  },
  {
   "cell_type": "code",
   "execution_count": 5,
   "id": "4756a80f",
   "metadata": {},
   "outputs": [],
   "source": [
    "import numpy as np\n",
    "import pandas as pd\n",
    "import glob\n",
    "import xarray as xr\n",
    "import matplotlib.pyplot as plt\n",
    "from scipy import stats\n",
    "\n",
    "import sys; sys.path.insert(1, '/home/alessandro/thesis_material')\n",
    "import os\n",
    "\n",
    "import geometry as gm\n",
    "#import conversion as cnv\n",
    "from func_statistics import compute_pdf_nbin, slopes_r_p, slope_time, slope_maps\n",
    "#from coare_functions import *\n",
    "\n",
    "import meteo                    # wind_dir_speed\n",
    "import metpy.calc as mpcalc\n",
    "from metpy.units import units\n",
    "import lcl\n",
    "\n",
    "from windrose import WindroseAxes\n",
    "import cartopy.crs as ccrs\n",
    "crs = ccrs.PlateCarree()\n",
    "#from plotmap import plot_background\n",
    "\n",
    "from plotdistr import * #fb_distribution_npoint, perc_distribution, scatterplot_fit, hist2d, perc_distribution_pvalue\n",
    "from pdist_fb_distrib_save_fast import *\n",
    "\n",
    "import warnings; warnings.filterwarnings(\"ignore\")"
   ]
  },
  {
   "cell_type": "code",
   "execution_count": 6,
   "id": "eee0d870",
   "metadata": {},
   "outputs": [],
   "source": [
    "# find data\n",
    "path = '/saturn/simu_Caribbean/coupled_2km/output/'\n",
    "files_ls = ['QCLOUD', 'U', 'V', 'W', 'OLR', 'PH', 'PHB', 'QVAPOR', 'PB', 'P', 'T']\n",
    "files_ls = [name + '.nc' for name in files_ls]\n",
    "wrf_files = [path+name for name in files_ls]\n",
    "#fname_list = sorted(glob.glob(wrf_files + '*'))"
   ]
  },
  {
   "cell_type": "code",
   "execution_count": 7,
   "id": "6d4b680c",
   "metadata": {},
   "outputs": [],
   "source": [
    "# import sea_mask\n",
    "if os.path.exists('/home/alessandro/thesis_material/EURECA_scripts/sea_mask_EU_new.npy'):\n",
    "    sea_mask = np.load('/home/alessandro/thesis_material/EURECA_scripts/sea_mask_EU_new.npy')"
   ]
  },
  {
   "cell_type": "code",
   "execution_count": 8,
   "id": "646bd309",
   "metadata": {},
   "outputs": [],
   "source": [
    "# MATTE AVEVA GIA' CALCOLATO TUTTE LE CORRELAZIONI \n",
    "# E HA STIMATO QUESTA LUNGHEZZA?\n",
    "L = 30\n",
    "nskip = int(L/2)\n",
    "nt = int(1)\n",
    "\n",
    "# from top pbl upwards\n",
    "# SOPRA PBL LA LUNGEHZZA DI CORRELAZIONE AUMENTA?\n",
    "# NEL SENSO CHE I SEGNALI HANNO PIù SPAZIO PER PROPAGARSI?\n",
    "Ltop = 150\n",
    "nskiptop = int(Ltop/2)\n",
    "nttop = int(1)\n",
    "\n",
    "# reference population mean\n",
    "popmean = 0."
   ]
  },
  {
   "cell_type": "code",
   "execution_count": 11,
   "id": "743555f9",
   "metadata": {},
   "outputs": [],
   "source": [
    "#### list of dates for slicing \n",
    "dates_start =  ['2020-02-01T01:30:00.000000000', '2020-02-09T01:30:00.000000000',\\\n",
    "                '2020-02-17T01:30:00.000000000', '2020-02-26T01:30:00.000000000']\n",
    "\n",
    "dates_end = ['2020-02-08T22:30:00.000000000','2020-02-16T22:30:00.000000000',\\\n",
    "             '2020-02-25T22:30:00.000000000', '2020-02-29T22:30:00.000000000']"
   ]
  },
  {
   "cell_type": "code",
   "execution_count": 9,
   "id": "967d26a3",
   "metadata": {},
   "outputs": [],
   "source": [
    "wrf_hourly = path + 'Caraibes_WRF_3h_surf.nc'\n",
    "ds_hourly = xr.open_dataset(wrf_hourly)\n",
    "\n",
    "# lat and lon\n",
    "lon_M = ds_hourly['nav_lon'].values\n",
    "lat_M = ds_hourly['nav_lat'].values"
   ]
  },
  {
   "cell_type": "code",
   "execution_count": 7,
   "id": "0a8d9d54",
   "metadata": {},
   "outputs": [],
   "source": [
    "# load U component\n",
    "U_day = xr.open_dataset(wrf_files[files_ls.index('U.nc')])\n",
    "U_day = U_day['U'].sel(time_counter=slice('2020-02-01T01:30:00.000000000', '2020-02-29T22:30:00.000000000')) #.groupby('time_counter.day').mean()\n",
    "\n",
    "i = np.arange(0, sea_mask.shape[1])\n",
    "U_day = 0.5*(U_day[:,:,:,i] + U_day[:,:,:,i+1])"
   ]
  },
  {
   "cell_type": "code",
   "execution_count": 8,
   "id": "7025d8d2",
   "metadata": {},
   "outputs": [],
   "source": [
    "# select data oversea\n",
    "U_day = U_day.where(sea_mask, drop=False)"
   ]
  },
  {
   "cell_type": "code",
   "execution_count": 9,
   "id": "2ef3b720",
   "metadata": {},
   "outputs": [],
   "source": [
    "U_fst = U_day.sel(time_counter=slice('2020-02-01T01:30:00.000000000', '2020-02-08T22:30:00.000000000'))\n",
    "U_snd = U_day.sel(time_counter=slice('2020-02-09T01:30:00.000000000', '2020-02-16T22:30:00.000000000'))\n",
    "U_trd = U_day.sel(time_counter=slice('2020-02-17T01:30:00.000000000', '2020-02-25T22:30:00.000000000'))\n",
    "U_lst = U_day.sel(time_counter=slice('2020-02-26T01:30:00.000000000', '2020-02-29T22:30:00.000000000'))"
   ]
  },
  {
   "cell_type": "code",
   "execution_count": 10,
   "id": "80bf93c8",
   "metadata": {},
   "outputs": [
    {
     "name": "stdout",
     "output_type": "stream",
     "text": [
      "file already exists - DELETING IT and creating it anew\n"
     ]
    }
   ],
   "source": [
    "my_save_data('/venus/tesi_ale/data_EU/WIND/daily/FEB/U/U_4weeks.npy', [U_fst, U_snd, U_trd, U_lst])"
   ]
  },
  {
   "cell_type": "code",
   "execution_count": 14,
   "id": "658aa4f1",
   "metadata": {},
   "outputs": [],
   "source": []
  },
  {
   "cell_type": "code",
   "execution_count": 13,
   "id": "da354be2",
   "metadata": {},
   "outputs": [],
   "source": []
  },
  {
   "cell_type": "code",
   "execution_count": null,
   "id": "e4fffc19",
   "metadata": {},
   "outputs": [],
   "source": []
  },
  {
   "cell_type": "code",
   "execution_count": 23,
   "id": "73e97584",
   "metadata": {},
   "outputs": [],
   "source": [
    "# load V component\n",
    "V_day = xr.open_dataset(wrf_files[files_ls.index('V.nc')])\n",
    "V_day = V_day['V'].sel(time_counter=slice('2020-02-01T01:30:00.000000000', '2020-02-29T22:30:00.000000000'))#.groupby('time_counter.day').mean()\n",
    "\n",
    "j = np.arange(0, sea_mask.shape[0])\n",
    "V_day = 0.5*(V_day[:,:,j,:] + V_day[:,:,j+1,:])"
   ]
  },
  {
   "cell_type": "code",
   "execution_count": 24,
   "id": "5a049072",
   "metadata": {},
   "outputs": [],
   "source": [
    "# select data oversea\n",
    "V_day = V_day.where(sea_mask, drop=False)"
   ]
  },
  {
   "cell_type": "code",
   "execution_count": 25,
   "id": "bbc3d5d2",
   "metadata": {},
   "outputs": [],
   "source": [
    "V_fst = V_day.sel(time_counter=slice('2020-02-01T01:30:00.000000000', '2020-02-08T22:30:00.000000000'))\n",
    "V_snd = V_day.sel(time_counter=slice('2020-02-09T01:30:00.000000000', '2020-02-16T22:30:00.000000000'))\n",
    "V_trd = V_day.sel(time_counter=slice('2020-02-17T01:30:00.000000000', '2020-02-25T22:30:00.000000000'))\n",
    "V_lst = V_day.sel(time_counter=slice('2020-02-26T01:30:00.000000000', '2020-02-29T22:30:00.000000000'))\n",
    "\n",
    "del V_day"
   ]
  },
  {
   "cell_type": "code",
   "execution_count": 26,
   "id": "dde20ef4",
   "metadata": {},
   "outputs": [
    {
     "name": "stdout",
     "output_type": "stream",
     "text": [
      "file already exists - DELETING IT and creating it anew\n"
     ]
    }
   ],
   "source": [
    "my_save_data('/venus/tesi_ale/data_EU/WIND/daily/FEB/V/V_4weeks.npy', [V_fst, V_snd, V_trd, V_lst])"
   ]
  },
  {
   "cell_type": "code",
   "execution_count": null,
   "id": "281dc165",
   "metadata": {},
   "outputs": [],
   "source": []
  },
  {
   "cell_type": "code",
   "execution_count": null,
   "id": "d6199f22",
   "metadata": {},
   "outputs": [],
   "source": []
  },
  {
   "cell_type": "code",
   "execution_count": 27,
   "id": "6b2b0b2d",
   "metadata": {},
   "outputs": [],
   "source": [
    "# reading temperature\n",
    "pot_temp = xr.open_dataset(wrf_files[files_ls.index('T.nc')])\n",
    "pot_temp = pot_temp['T']\n",
    "pot_temp = pot_temp.sel(time_counter=slice('2020-02-01T01:30:00.000000000', '2020-02-29T22:30:00.000000000'))\n",
    "pot_temp = pot_temp.where(sea_mask, drop=False)\n",
    "# pot_temp = pot_temp.groupby('time_counter.day').mean()\n",
    "\n",
    "T0 = 300. \n",
    "\n",
    "pot_temp_full = pot_temp+T0"
   ]
  },
  {
   "cell_type": "code",
   "execution_count": null,
   "id": "51389b72",
   "metadata": {},
   "outputs": [],
   "source": [
    "dates_start =  ['2020-02-01T01:30:00.000000000', '2020-02-09T01:30:00.000000000',\\\n",
    "                '2020-02-17T01:30:00.000000000', '2020-02-26T01:30:00.000000000']\n",
    "\n",
    "dates_end = ['2020-02-08T22:30:00.000000000','2020-02-16T22:30:00.000000000',\\\n",
    "             '2020-02-25T22:30:00.000000000', '2020-02-29T22:30:00.000000000']"
   ]
  },
  {
   "cell_type": "code",
   "execution_count": 28,
   "id": "c50e77f2",
   "metadata": {},
   "outputs": [],
   "source": [
    "pot_fst = pot_temp_full.sel(time_counter=slice('2020-02-01T01:30:00.000000000', '2020-02-08T22:30:00.000000000'))\n",
    "pot_snd = pot_temp_full.sel(time_counter=slice('2020-02-09T01:30:00.000000000', '2020-02-16T22:30:00.000000000'))\n",
    "pot_trd = pot_temp_full.sel(time_counter=slice('2020-02-17T01:30:00.000000000', '2020-02-25T22:30:00.000000000'))\n",
    "pot_lst = pot_temp_full.sel(time_counter=slice('2020-02-26T01:30:00.000000000', '2020-02-29T22:30:00.000000000'))\n",
    "\n",
    "del pot_temp_full"
   ]
  },
  {
   "cell_type": "code",
   "execution_count": 29,
   "id": "c8a8a7a1",
   "metadata": {},
   "outputs": [
    {
     "name": "stdout",
     "output_type": "stream",
     "text": [
      "file already exists - DELETING IT and creating it anew\n"
     ]
    }
   ],
   "source": [
    "my_save_data('/venus/tesi_ale/data_EU/T/daily/FEB/PotTemp_4weeks_feb.npy', [pot_fst, pot_snd, pot_trd, pot_lst])"
   ]
  },
  {
   "cell_type": "code",
   "execution_count": null,
   "id": "de7ee622",
   "metadata": {},
   "outputs": [],
   "source": []
  },
  {
   "cell_type": "code",
   "execution_count": null,
   "id": "6a5b7297",
   "metadata": {},
   "outputs": [],
   "source": []
  },
  {
   "cell_type": "code",
   "execution_count": null,
   "id": "9dbf8384",
   "metadata": {},
   "outputs": [],
   "source": []
  },
  {
   "cell_type": "code",
   "execution_count": 6,
   "id": "25e6d09c",
   "metadata": {},
   "outputs": [],
   "source": [
    "# reading geopotential height\n",
    "GPH_base = xr.open_dataset(wrf_files[files_ls.index('PHB.nc')])\n",
    "GPH_base = GPH_base['PHB']\n",
    "\n",
    "GPH = xr.open_dataset(wrf_files[files_ls.index('PH.nc')])\n",
    "GPH = GPH.sel(time_counter=slice('2020-02-01T01:30:00.000000000', '2020-02-29T22:30:00.000000000'))\n",
    "GPH = GPH['PH']\n",
    "\n",
    "GPH = (GPH_base + GPH)/9.81\n",
    "GPH = GPH.transpose('time_counter', 'lev_W', 'y_grid_M', 'x_grid_M')\n",
    "GPH = GPH.where(sea_mask, drop=False)\n",
    "\n",
    "# GPH = GPH.groupby('time_counter.day').mean()\n",
    "\n",
    "#GPH_base = GPH_base.where(sea_mask, drop=False)\n",
    "del GPH_base"
   ]
  },
  {
   "cell_type": "code",
   "execution_count": 7,
   "id": "df2062d3",
   "metadata": {},
   "outputs": [],
   "source": [
    "GPH_fst = GPH.sel(time_counter=slice('2020-02-01T01:30:00.000000000', '2020-02-08T22:30:00.000000000'))\n",
    "GPH_snd = GPH.sel(time_counter=slice('2020-02-09T01:30:00.000000000', '2020-02-16T22:30:00.000000000'))\n",
    "GPH_trd = GPH.sel(time_counter=slice('2020-02-17T01:30:00.000000000', '2020-02-25T22:30:00.000000000'))\n",
    "GPH_lst = GPH.sel(time_counter=slice('2020-02-26T01:30:00.000000000', '2020-02-29T22:30:00.000000000'))\n",
    "\n",
    "del GPH"
   ]
  },
  {
   "cell_type": "code",
   "execution_count": 8,
   "id": "1efb2caf",
   "metadata": {},
   "outputs": [
    {
     "name": "stdout",
     "output_type": "stream",
     "text": [
      "file already exists - DELETING IT and creating it anew\n"
     ]
    }
   ],
   "source": [
    "my_save_data('/venus/tesi_ale/data_EU/GPH/daily/FEB/GPH_4weeks_feb.npy', [GPH_fst, GPH_snd, GPH_trd, GPH_lst])"
   ]
  },
  {
   "cell_type": "code",
   "execution_count": null,
   "id": "417bf36c",
   "metadata": {},
   "outputs": [],
   "source": []
  },
  {
   "cell_type": "code",
   "execution_count": null,
   "id": "d14b5f2e",
   "metadata": {},
   "outputs": [],
   "source": []
  },
  {
   "cell_type": "code",
   "execution_count": 6,
   "id": "094f7a24",
   "metadata": {},
   "outputs": [],
   "source": [
    "with open('/venus/tesi_ale/data_EU/WIND/daily/FEB/V/V_4weeks.npy', 'rb') as f:\n",
    "    v_fst = np.load(f)\n",
    "    #v_snd = np.load(f)\n",
    "    #v_trd = np.load(f)\n",
    "    #v_lst = np.load(f)\n",
    "    f.close()\n",
    "    \n",
    "with open('/venus/tesi_ale/data_EU/WIND/daily/FEB/U/U_4weeks.npy', 'rb') as f:\n",
    "    u_fst = np.load(f)\n",
    "    #u_snd = np.load(f)\n",
    "    #u_trd = np.load(f)\n",
    "    #u_lst = np.load(f)\n",
    "    f.close()\n",
    "    \n",
    "#del v_fst, u_fst, v_snd, u_snd, v_trd, u_trd"
   ]
  },
  {
   "cell_type": "code",
   "execution_count": 7,
   "id": "d4e088e1",
   "metadata": {},
   "outputs": [],
   "source": [
    "with open('/venus/tesi_ale/data_EU/T/daily/FEB/PotTemp_4weeks_feb.npy', 'rb') as f:\n",
    "    temp_fst = np.load(f)\n",
    "    #temp_snd = np.load(f)\n",
    "    #temp_trd = np.load(f)\n",
    "    #temp_lst = np.load(f)\n",
    "    f.close()\n",
    "    \n",
    "\n",
    "#del temp_fst, temp_snd, temp_trd"
   ]
  },
  {
   "cell_type": "code",
   "execution_count": 8,
   "id": "8177ab9f",
   "metadata": {},
   "outputs": [],
   "source": [
    "with open('/venus/tesi_ale/data_EU/GPH/daily/FEB/GPH_4weeks_feb.npy', 'rb') as f:\n",
    "    gph_fst = np.load(f)\n",
    "    #gph_snd = np.load(f)\n",
    "    #gph_trd = np.load(f)\n",
    "    #gph_lst = np.load(f)\n",
    "    f.close()\n",
    "    \n",
    "#del gph_fst, gph_snd, gph_trd"
   ]
  },
  {
   "cell_type": "code",
   "execution_count": null,
   "id": "5cf786aa",
   "metadata": {},
   "outputs": [],
   "source": []
  },
  {
   "cell_type": "code",
   "execution_count": null,
   "id": "d6b108b6",
   "metadata": {},
   "outputs": [],
   "source": []
  },
  {
   "cell_type": "code",
   "execution_count": 9,
   "id": "61552277",
   "metadata": {},
   "outputs": [],
   "source": [
    "# vertical interpolation of geopotential\n",
    "GPH_inter = np.zeros_like(temp_fst)\n",
    "for i in range(39):\n",
    "    GPH_inter[:,i,:,:] = (gph_fst[:,i+1,:,:]+gph_fst[:,i,:,:])*0.5"
   ]
  },
  {
   "cell_type": "code",
   "execution_count": null,
   "id": "5cbe540f",
   "metadata": {},
   "outputs": [],
   "source": []
  },
  {
   "cell_type": "code",
   "execution_count": null,
   "id": "ee6a7ee2",
   "metadata": {},
   "outputs": [],
   "source": [
    "#### smoothing out for large scale fields computation\n",
    "\n",
    "s = 100\n",
    "\n",
    "GPH_smooth = np.zeros(GPH_inter.shape)\n",
    "temp_smooth = np.zeros(temp_fst.shape)\n",
    "\n",
    "for t in range(0,GPH_inter.shape[0]):\n",
    "    if t % 10 == 0:\n",
    "        print(t)\n",
    "\n",
    "    for h in range(0,GPH_inter.shape[1]):\n",
    "        GPH_smooth[t,h] = gm.nan_gaussian_filter(GPH_inter[t,h],s) \n",
    "        temp_smooth[t,h] = gm.nan_gaussian_filter(temp_fst[t,h],s)"
   ]
  },
  {
   "cell_type": "code",
   "execution_count": null,
   "id": "0b89379b",
   "metadata": {
    "scrolled": true
   },
   "outputs": [
    {
     "name": "stdout",
     "output_type": "stream",
     "text": [
      "0\n",
      "10\n",
      "20\n",
      "30\n",
      "40\n"
     ]
    }
   ],
   "source": [
    "#### smoothing out for large scale fields computation\n",
    "\n",
    "s = 100\n",
    "\n",
    "u_smooth = np.zeros(u_fst.shape)\n",
    "v_smooth = np.zeros(v_fst.shape)\n",
    "\n",
    "for t in range(0,GPH_inter.shape[0]):\n",
    "    if t % 10 == 0:\n",
    "        print(t)\n",
    "\n",
    "    for h in range(0,GPH_inter.shape[1]):\n",
    "        u_smooth[t,h] = gm.nan_gaussian_filter(u_fst[t,h],s) \n",
    "        v_smooth[t,h] = gm.nan_gaussian_filter(v_fst[t,h],s)"
   ]
  },
  {
   "cell_type": "code",
   "execution_count": null,
   "id": "e7a9d279",
   "metadata": {},
   "outputs": [],
   "source": []
  },
  {
   "cell_type": "code",
   "execution_count": null,
   "id": "0b939907",
   "metadata": {},
   "outputs": [],
   "source": []
  },
  {
   "cell_type": "code",
   "execution_count": 24,
   "id": "b1b63fcf",
   "metadata": {},
   "outputs": [],
   "source": [
    "# STEP 3 --- divide\n",
    "Ri_full_lst = meteo.richardson_number(GPH_inter, temp_lst, u_lst, v_lst)"
   ]
  },
  {
   "cell_type": "code",
   "execution_count": 25,
   "id": "4bebc5ba",
   "metadata": {},
   "outputs": [],
   "source": [
    "my_save_data('/venus/tesi_ale/data_EU/RI/daily/FEB/RI_lst.npy', [Ri_full_lst.magnitude])"
   ]
  },
  {
   "cell_type": "code",
   "execution_count": null,
   "id": "746c4e9d",
   "metadata": {},
   "outputs": [],
   "source": []
  },
  {
   "cell_type": "code",
   "execution_count": 7,
   "id": "b7cbaca9",
   "metadata": {},
   "outputs": [],
   "source": [
    "fst = np.load('/venus/tesi_ale/data_EU/RI/daily/FEB/RI_fst.npy')\n",
    "snd = np.load('/venus/tesi_ale/data_EU/RI/daily/FEB/RI_snd.npy')\n",
    "trd = np.load('/venus/tesi_ale/data_EU/RI/daily/FEB/RI_trd.npy')\n",
    "lst = np.load('/venus/tesi_ale/data_EU/RI/daily/FEB/RI_lst.npy')"
   ]
  },
  {
   "cell_type": "code",
   "execution_count": 15,
   "id": "7cdc2daa",
   "metadata": {},
   "outputs": [
    {
     "name": "stdout",
     "output_type": "stream",
     "text": [
      "file already exists - DELETING IT and creating it anew\n"
     ]
    }
   ],
   "source": [
    "my_save_data('/venus/tesi_ale/data_EU/RI/daily/FEB/RI_lst.npy', [lst])"
   ]
  },
  {
   "cell_type": "code",
   "execution_count": 13,
   "id": "e6dffb1d",
   "metadata": {},
   "outputs": [],
   "source": [
    "RI = np.concatenate([fst,snd,trd,lst], axis=0)"
   ]
  },
  {
   "cell_type": "code",
   "execution_count": 17,
   "id": "4834b2c6",
   "metadata": {},
   "outputs": [],
   "source": [
    "num_days = int(RI.shape[0]/8)\n",
    "RI_day = np.empty((num_days, *RI.shape[1:]))\n",
    "\n",
    "for i in range(num_days):\n",
    "    RI_day[i] = np.nanmean( RI[ i*8:(i+1)*8 ,:,:] , axis=0)"
   ]
  },
  {
   "cell_type": "code",
   "execution_count": 25,
   "id": "8e9fc002",
   "metadata": {},
   "outputs": [],
   "source": [
    "my_save_data('/venus/tesi_ale/data_EU/RI/daily/FEB/RI_3h_feb.npy', [RI])"
   ]
  },
  {
   "cell_type": "code",
   "execution_count": null,
   "id": "a4798697",
   "metadata": {},
   "outputs": [],
   "source": []
  },
  {
   "cell_type": "code",
   "execution_count": null,
   "id": "181eff33",
   "metadata": {},
   "outputs": [],
   "source": []
  },
  {
   "cell_type": "code",
   "execution_count": null,
   "id": "7a735242",
   "metadata": {},
   "outputs": [],
   "source": []
  },
  {
   "cell_type": "code",
   "execution_count": null,
   "id": "13bfebe0",
   "metadata": {},
   "outputs": [],
   "source": []
  },
  {
   "cell_type": "code",
   "execution_count": null,
   "id": "c03fa003",
   "metadata": {},
   "outputs": [],
   "source": []
  },
  {
   "cell_type": "code",
   "execution_count": 32,
   "id": "6d7e0e60",
   "metadata": {},
   "outputs": [
    {
     "name": "stdout",
     "output_type": "stream",
     "text": [
      "0\n",
      "10\n",
      "20\n",
      "30\n"
     ]
    }
   ],
   "source": [
    "## compute distributions\n",
    "perc_step = 5\n",
    "nbins = int(100/perc_step) # Number of bins.\n",
    "\n",
    "pdist_dsst, pdist_Ri, pstd_Ri, pstderr_Ri, pnpoints_Ri, ppvalue_Ri_sub = \\\n",
    "dist_3d_subsample(dsst_day, Ri_full.magnitude, perc_step, nbins, popmean, nt, nttop, nskip, nskiptop, top=14, perc_fixbin='perc')"
   ]
  },
  {
   "cell_type": "code",
   "execution_count": null,
   "id": "e3d6111a",
   "metadata": {},
   "outputs": [],
   "source": []
  },
  {
   "cell_type": "code",
   "execution_count": null,
   "id": "94e0e6fa",
   "metadata": {},
   "outputs": [],
   "source": []
  },
  {
   "cell_type": "code",
   "execution_count": null,
   "id": "272da1e0",
   "metadata": {},
   "outputs": [],
   "source": []
  },
  {
   "cell_type": "code",
   "execution_count": null,
   "id": "4c04a16a",
   "metadata": {},
   "outputs": [],
   "source": []
  },
  {
   "cell_type": "code",
   "execution_count": null,
   "id": "6355c9ad",
   "metadata": {},
   "outputs": [],
   "source": []
  },
  {
   "cell_type": "code",
   "execution_count": 90,
   "id": "0365817f",
   "metadata": {},
   "outputs": [],
   "source": [
    "Ri_mean = meteo.richardson_number(GPH_smooth, pot_temp_mean, U_mean, V_mean) "
   ]
  },
  {
   "cell_type": "code",
   "execution_count": 108,
   "id": "08a8f357",
   "metadata": {},
   "outputs": [
    {
     "name": "stdout",
     "output_type": "stream",
     "text": [
      "file already exists - DELETING IT and creating it anew\n"
     ]
    }
   ],
   "source": [
    "my_save_data('/venus/tesi_ale/data_EU/RI/daily/FEB/RI_meanLS_day_feb.npy', [Ri_mean.magnitude])"
   ]
  },
  {
   "cell_type": "code",
   "execution_count": null,
   "id": "5cd36627",
   "metadata": {},
   "outputs": [],
   "source": []
  },
  {
   "cell_type": "code",
   "execution_count": 91,
   "id": "2b933373",
   "metadata": {},
   "outputs": [],
   "source": [
    "##### COMPUTING PERCENTAGE CHANGE IN LS RI AND SS RI\n",
    "Ri_change = 100*(Ri_full - Ri_mean)/(Ri_mean)"
   ]
  },
  {
   "cell_type": "code",
   "execution_count": 106,
   "id": "b520101b",
   "metadata": {},
   "outputs": [
    {
     "data": {
      "image/png": "[encoded data removed]",
      "text/plain": [
       "<Figure size 700x600 with 2 Axes>"
      ]
     },
     "metadata": {},
     "output_type": "display_data"
    }
   ],
   "source": [
    "minval = -50 #if perc else -0.05\n",
    "maxval = -minval \n",
    "level = int(2); day = int(10)\n",
    "\n",
    "######### THIS IS FOR RIFULL/RIMEAN\n",
    "# title = f'$Ri_{{full}}$ / $Ri_{{LS}}$ - Level {level} ({int(mean_vert_pres[level])} hPa), Feb. {day+1}-th'\n",
    "\n",
    "\n",
    "# fig, ax1 = plt.subplots(figsize=(7, 6))  \n",
    "# p1 = plt.pcolormesh(lon_M, lat_M, Ri_full[day,level,:,:]/Ri_mean[day,level,:,:], cmap='jet', vmin=minval, vmax=maxval)\n",
    "# ax1.set_xlabel('Lon [˚]'); ax1.set_ylabel('Lat [˚]')\n",
    "# ax1.set_title(f'{title}')\n",
    "# cbar = plt.colorbar(p1,ax=ax1, location='right', shrink=0.8, extend='both')  \n",
    "# cbar.set_label('$Ri_{full}$ / $Ri_{LS}$')\n",
    "\n",
    "\n",
    "\n",
    "#########  THIS IS FOR RELATIVE CHANGE\n",
    "title=f'Ri relative change - Level {level} ({int(mean_vert_pres[level])} hPa), Feb. {day+1}-th'\n",
    "\n",
    "fig, ax1 = plt.subplots(figsize=(7, 6))  \n",
    "p1 = plt.pcolormesh(lon_M, lat_M, Ri_change[day,level,:,:], cmap='seismic', vmin=minval, vmax=maxval)\n",
    "ax1.set_xlabel('Lon [˚]'); ax1.set_ylabel('Lat [˚]')\n",
    "ax1.set_title(f'{title}')\n",
    "cbar = plt.colorbar(p1,ax=ax1, location='right', shrink=0.8, extend='both')  \n",
    "cbar.set_label('Ri change [%]')\n",
    "\n",
    "\n",
    "######## THIS IS FOR THE FULL RI\n",
    "# title=f'Level {level} ({int(mean_vert_pres[level])} hPa) Richardson number, Feb. {day+1}-th'\n",
    "\n",
    "# fig, ax1 = plt.subplots(figsize=(6, 5))  \n",
    "# p1 = plt.pcolormesh(lon_M, lat_M, Ri_full[day,level,:,:], cmap='seismic', vmin=minval, vmax=maxval)\n",
    "# ax1.set_xlabel('Lon [˚]'); ax1.set_ylabel('Lat [˚]')\n",
    "# ax1.set_title(f'{title}')\n",
    "# cbar = plt.colorbar(p1,ax=ax1, location='right', shrink=0.8, extend='both')  \n",
    "# cbar.set_label('Ri')\n",
    "\n"
   ]
  },
  {
   "cell_type": "code",
   "execution_count": null,
   "id": "e37e854e",
   "metadata": {},
   "outputs": [],
   "source": []
  },
  {
   "cell_type": "code",
   "execution_count": null,
   "id": "8af33d91",
   "metadata": {},
   "outputs": [],
   "source": []
  },
  {
   "cell_type": "code",
   "execution_count": null,
   "id": "7fa5d93c",
   "metadata": {},
   "outputs": [],
   "source": []
  },
  {
   "cell_type": "code",
   "execution_count": null,
   "id": "2a5b1648",
   "metadata": {},
   "outputs": [],
   "source": []
  },
  {
   "cell_type": "code",
   "execution_count": 15,
   "id": "da8eb1fe",
   "metadata": {},
   "outputs": [
    {
     "name": "stdout",
     "output_type": "stream",
     "text": [
      "0\n",
      "10\n",
      "20\n"
     ]
    }
   ],
   "source": [
    "s = 100\n",
    "\n",
    "dRi = np.zeros(Ri.shape)\n",
    "\n",
    "for t in range(0,Ri.shape[0]):\n",
    "    if t % 10 == 0:\n",
    "        print(t)\n",
    "\n",
    "    for h in range(0,BV_freq.shape[1]):\n",
    "        ri_ave = gm.nan_gaussian_filter(Ri[t,h].magnitude,s)                               \n",
    "        dRi[t,h] = Ri[t,h].magnitude - ri_ave"
   ]
  },
  {
   "cell_type": "code",
   "execution_count": null,
   "id": "c1f008d3",
   "metadata": {},
   "outputs": [],
   "source": []
  },
  {
   "cell_type": "code",
   "execution_count": null,
   "id": "0068cbfa",
   "metadata": {},
   "outputs": [],
   "source": [
    "## compute distributions of dRi\n",
    "perc_step = 5\n",
    "nbins = int(100/perc_step) # Number of bins.\n",
    "\n",
    "pdist_dsst, pdist_dRi, pstd_dRi, pstderr_dRi, pnpoints_dRi, ppvalue_Ri_sub = \\\n",
    "dist_3d_subsample(dsst_day, Ri.magnitude, perc_step, nbins, popmean, nt, nttop, nskip, nskiptop, top=14, perc_fixbin='perc')"
   ]
  },
  {
   "cell_type": "code",
   "execution_count": 35,
   "id": "94e6d128",
   "metadata": {},
   "outputs": [
    {
     "name": "stdout",
     "output_type": "stream",
     "text": [
      "/venus/tesi_ale/img_EU/BV/daily/FEB/pdist_dsst_dBV_lowtropo.png\n"
     ]
    },
    {
     "data": {
      "image/png": "[encoded data removed]",
      "text/plain": [
       "<Figure size 1000x500 with 2 Axes>"
      ]
     },
     "metadata": {},
     "output_type": "display_data"
    }
   ],
   "source": [
    "p_level_plot = int(15)\n",
    "\n",
    "perc = True\n",
    "x = pdist_dsst #if perc else dist_dsst_day\n",
    "var = pdist_Ri[0:p_level_plot,:] #if perc else dist_dBV_freq_day[0:p_level_plot,:]*100000\n",
    "minval = -2. #if perc else -0.05\n",
    "maxval = -minval\n",
    "title = 'Percentiles' #if perc else 'Fixed bins'\n",
    "\n",
    "fig, ax1 = plt.subplots(figsize=(10, 5))  \n",
    "ax1.invert_yaxis()\n",
    "p1 = ax1.pcolormesh(x, mean_vert_pres[0:p_level_plot], var, vmin=minval, vmax=maxval, cmap='seismic')\n",
    "ax1.set_xlabel('SST anomalies [˚C]'); ax1.set_ylabel('pressure [hPa]')\n",
    "plt.title(f'{title} - daily dSST vs Richardson and PBLH')\n",
    "cbar = plt.colorbar(p1,ax=ax1, location='right', shrink=0.8, extend='both')  \n",
    "cbar.set_label('Ri')\n",
    "\n",
    "\n",
    "'''x_pbl = pdist_dsst #if perc else dist_dsst\n",
    "var_pbl = pdist_PBLH_dsst #if perc else dist_PBLH_dsst\n",
    "ax1.plot(x_pbl, var_pbl, 'k')\n",
    "ax1.text(0.4, 925, 'PBLH', fontsize=12)'''\n",
    "\n",
    "\n",
    "\n",
    "'''# DEF punti significativi (pvalue < 0.05)\n",
    "pval = ppvalue_dBV_freq_day_sub[0:p_level_plot] #if perc else pvalue_dBV_freq_day_sub[0:p_level_plot]\n",
    "GPbin = mean_vert_pres[1:p_level_plot] - np.diff(mean_vert_pres[0:p_level_plot])*0.5\n",
    "signif_Lcorr_H = np.zeros((len(mean_vert_pres[0:p_level_plot])-1,len(x)-1))\n",
    "dsstbin = np.zeros((len(mean_vert_pres[0:p_level_plot])-1,len(x)-1))\n",
    "for h in range(0,len(mean_vert_pres[0:p_level_plot])-1):\n",
    "    cond1 = pval[h,:-1] > 0.05\n",
    "    cond2 = np.abs(var[h,:-1]) < 0.1*np.nanmean(np.abs(var))\n",
    "    cond = (cond1) | (cond2)\n",
    "#     cond = cond1\n",
    "    signif_Lcorr_H[h,:] = np.zeros(len(x)-1) + np.nan\n",
    "    signif_Lcorr_H[h, cond] = GPbin[h]\n",
    "    dsstbin[h,:] = x[1:] - np.diff(x)*0.5\n",
    "    \n",
    "plt.scatter(dsstbin,signif_Lcorr_H,  s=0.7, color='k')'''\n",
    "\n",
    "\n",
    "path_img = '/venus/tesi_ale/img_EU/BV/daily/FEB/' if perc else '/venus/tesi_ale/img_EU/BV/daily/FEB/'\n",
    "filename = path_img + 'pdist_dsst_dBV_lowtropo.png' if perc else path_img + 'bins_dsst_dBV_lowtropo.png'\n",
    "#plt.savefig(filename)\n",
    "print(filename)\n",
    "del filename"
   ]
  },
  {
   "cell_type": "code",
   "execution_count": null,
   "id": "3a67aa1b",
   "metadata": {},
   "outputs": [],
   "source": []
  },
  {
   "cell_type": "code",
   "execution_count": null,
   "id": "8eb6a11b",
   "metadata": {},
   "outputs": [],
   "source": []
  },
  {
   "cell_type": "code",
   "execution_count": null,
   "id": "cd1f0e5d",
   "metadata": {},
   "outputs": [],
   "source": [
    "### RICHARDSON VS dSST distributions\n",
    "\n",
    "perc_step = 5\n",
    "nbins = int(100/perc_step) # Number of bins.\n",
    "\n",
    "pdist_dsst, pdist_Ri, pstd_Ri, pstderr_Ri, pnpoints_Ri, ppvalue_Ri_sub = \\\n",
    "dist_3d_subsample(dsst_day, Ri_feb, perc_step, nbins, popmean, nt, nttop, nskip, nskiptop, top=14, perc_fixbin='perc')"
   ]
  },
  {
   "cell_type": "code",
   "execution_count": null,
   "id": "f9abcc40",
   "metadata": {},
   "outputs": [],
   "source": []
  },
  {
   "cell_type": "code",
   "execution_count": null,
   "id": "4efaf61c",
   "metadata": {},
   "outputs": [],
   "source": []
  },
  {
   "cell_type": "code",
   "execution_count": null,
   "id": "a55c7ba5",
   "metadata": {},
   "outputs": [],
   "source": []
  },
  {
   "cell_type": "code",
   "execution_count": null,
   "id": "d68047c9",
   "metadata": {},
   "outputs": [],
   "source": []
  },
  {
   "cell_type": "code",
   "execution_count": null,
   "id": "6fba90f9",
   "metadata": {},
   "outputs": [],
   "source": []
  },
  {
   "cell_type": "code",
   "execution_count": 22,
   "id": "73ec6b1a",
   "metadata": {},
   "outputs": [],
   "source": [
    "with open('/venus/tesi_ale/data_EU/WIND/daily/FEB/V/V_4weeks.npy', 'rb') as f:\n",
    "    v_fst = np.load(f)\n",
    "    v_snd = np.load(f)\n",
    "    v_trd = np.load(f)\n",
    "    v_lst = np.load(f)\n",
    "    f.close()\n",
    "    \n",
    "with open('/venus/tesi_ale/data_EU/WIND/daily/FEB/U/U_4weeks.npy', 'rb') as f:\n",
    "    u_fst = np.load(f)\n",
    "    u_snd = np.load(f)\n",
    "    u_trd = np.load(f)\n",
    "    u_lst = np.load(f)\n",
    "    f.close()\n",
    "    \n",
    "del v_fst, u_fst, v_snd, u_snd, v_trd, u_trd"
   ]
  },
  {
   "cell_type": "code",
   "execution_count": 23,
   "id": "274a7bb1",
   "metadata": {},
   "outputs": [],
   "source": [
    "with open('/venus/tesi_ale/data_EU/GPH/daily/FEB/GPH_4weeks_feb.npy', 'rb') as f:\n",
    "    gph_fst = np.load(f)\n",
    "    gph_snd = np.load(f)\n",
    "    gph_trd = np.load(f)\n",
    "    gph_lst = np.load(f)\n",
    "    f.close()\n",
    "    \n",
    "del gph_fst, gph_snd, gph_trd\n"
   ]
  },
  {
   "cell_type": "code",
   "execution_count": 24,
   "id": "776e25f8",
   "metadata": {},
   "outputs": [],
   "source": [
    "# vertical interpolation of geopotential\n",
    "GPH_inter = np.zeros_like(v_lst)\n",
    "for i in range(39):\n",
    "    GPH_inter[:,i,:,:] = (gph_lst[:,i+1,:,:]+gph_lst[:,i,:,:])*0.5"
   ]
  },
  {
   "cell_type": "code",
   "execution_count": 25,
   "id": "336e3d29",
   "metadata": {},
   "outputs": [],
   "source": [
    "dudz = (mpcalc.first_derivative(u_lst*units('m/s'), axis=1, x=GPH_inter*units.meters))**2\n",
    "dvdz = (mpcalc.first_derivative(v_lst*units('m/s'), axis=1, x=GPH_inter*units.meters))**2"
   ]
  },
  {
   "cell_type": "code",
   "execution_count": 26,
   "id": "47eb1a17",
   "metadata": {},
   "outputs": [
    {
     "name": "stdout",
     "output_type": "stream",
     "text": [
      "creating new file and saving variables\n"
     ]
    }
   ],
   "source": [
    "shear_lst = dudz+dvdz\n",
    "\n",
    "my_save_data('/venus/tesi_ale/data_EU/WIND/daily/FEB/shear_lst.npy', [shear_lst.magnitude])"
   ]
  },
  {
   "cell_type": "code",
   "execution_count": 3,
   "id": "f83d97b5",
   "metadata": {},
   "outputs": [],
   "source": [
    "shear_fst = np.load('/venus/tesi_ale/data_EU/WIND/daily/FEB/shear_fst.npy')\n",
    "shear_snd = np.load('/venus/tesi_ale/data_EU/WIND/daily/FEB/shear_snd.npy')\n",
    "shear_trd = np.load('/venus/tesi_ale/data_EU/WIND/daily/FEB/shear_trd.npy')\n",
    "shear_lst = np.load('/venus/tesi_ale/data_EU/WIND/daily/FEB/shear_lst.npy')\n"
   ]
  },
  {
   "cell_type": "code",
   "execution_count": 4,
   "id": "dae095e9",
   "metadata": {},
   "outputs": [],
   "source": [
    "shear = np.concatenate([shear_fst,shear_snd,shear_trd,shear_lst], axis=0)\n",
    "\n",
    "# daily means\n",
    "num_days = int(shear.shape[0]/8)\n",
    "shear_day = np.empty((num_days, *shear.shape[1:]))\n",
    "\n",
    "for i in range(num_days):\n",
    "    shear_day[i] = np.nanmean( shear[ i*8:(i+1)*8 ,:,:] , axis=0)"
   ]
  },
  {
   "cell_type": "code",
   "execution_count": 6,
   "id": "3e4a1cdf",
   "metadata": {},
   "outputs": [
    {
     "name": "stdout",
     "output_type": "stream",
     "text": [
      "creating new file and saving variables\n"
     ]
    }
   ],
   "source": [
    "my_save_data('/venus/tesi_ale/data_EU/WIND/daily/FEB/shear_day.npy', [shear_day])"
   ]
  },
  {
   "cell_type": "code",
   "execution_count": null,
   "id": "f68182b4",
   "metadata": {},
   "outputs": [],
   "source": []
  },
  {
   "cell_type": "code",
   "execution_count": 23,
   "id": "6aca7b3d",
   "metadata": {},
   "outputs": [],
   "source": [
    "with open('/venus/tesi_ale/data_EU/T/daily/FEB/PotTemp_4weeks_feb.npy', 'rb') as f:\n",
    "    temp_fst = np.load(f)\n",
    "    temp_snd = np.load(f)\n",
    "    temp_trd = np.load(f)\n",
    "    temp_lst = np.load(f)\n",
    "    f.close()\n",
    "    \n",
    "\n",
    "del temp_fst, temp_snd, temp_trd"
   ]
  },
  {
   "cell_type": "code",
   "execution_count": 24,
   "id": "1679f936",
   "metadata": {},
   "outputs": [],
   "source": [
    "with open('/venus/tesi_ale/data_EU/GPH/daily/FEB/GPH_4weeks_feb.npy', 'rb') as f:\n",
    "    gph_fst = np.load(f)\n",
    "    gph_snd = np.load(f)\n",
    "    gph_trd = np.load(f)\n",
    "    gph_lst = np.load(f)\n",
    "    f.close()\n",
    "    \n",
    "del gph_fst, gph_snd, gph_trd\n",
    "\n",
    "# vertical interpolation of geopotential\n",
    "GPH_inter = np.zeros_like(temp_lst)\n",
    "for i in range(39):\n",
    "    GPH_inter[:,i,:,:] = (gph_lst[:,i+1,:,:]+gph_lst[:,i,:,:])*0.5"
   ]
  },
  {
   "cell_type": "code",
   "execution_count": 25,
   "id": "fe83efd4",
   "metadata": {},
   "outputs": [],
   "source": []
  },
  {
   "cell_type": "code",
   "execution_count": 26,
   "id": "fdcf6b2b",
   "metadata": {},
   "outputs": [],
   "source": [
    "# compute daily means of N2\n",
    "# CALCULATE BRUNT VAISALA\n",
    "N2_lst = mpcalc.brunt_vaisala_frequency_squared(GPH_inter*units.meters, temp_lst*units.kelvin, vertical_dim = 1)"
   ]
  },
  {
   "cell_type": "code",
   "execution_count": 27,
   "id": "51a92233",
   "metadata": {},
   "outputs": [],
   "source": [
    "my_save_data('/venus/tesi_ale/data_EU/BV/daily/FEB/N2_lst.npy', [N2_lst.magnitude])"
   ]
  },
  {
   "cell_type": "code",
   "execution_count": 28,
   "id": "03dfac23",
   "metadata": {},
   "outputs": [],
   "source": [
    "del temp_lst,gph_lst"
   ]
  },
  {
   "cell_type": "code",
   "execution_count": null,
   "id": "fe6ab834",
   "metadata": {},
   "outputs": [],
   "source": []
  },
  {
   "cell_type": "code",
   "execution_count": 30,
   "id": "3ec64c92",
   "metadata": {},
   "outputs": [],
   "source": [
    "N2_fst = np.load('/venus/tesi_ale/data_EU/BV/daily/FEB/N2_fst.npy')\n",
    "N2_snd = np.load('/venus/tesi_ale/data_EU/BV/daily/FEB/N2_snd.npy')\n",
    "N2_trd = np.load('/venus/tesi_ale/data_EU/BV/daily/FEB/N2_trd.npy')"
   ]
  },
  {
   "cell_type": "code",
   "execution_count": 35,
   "id": "52e2e066",
   "metadata": {},
   "outputs": [
    {
     "data": {
      "text/html": [
       "-0.00011372723383828998 1/second<sup>2</sup>"
      ],
      "text/latex": [
       "$-0.00011372723383828998\\ \\frac{1}{\\mathrm{second}^{2}}$"
      ],
      "text/plain": [
       "-0.000113727234 <Unit('1 / second ** 2')>"
      ]
     },
     "execution_count": 35,
     "metadata": {},
     "output_type": "execute_result"
    }
   ],
   "source": [
    "N2_lst[0,0,220,330]"
   ]
  },
  {
   "cell_type": "code",
   "execution_count": 36,
   "id": "c4972328",
   "metadata": {},
   "outputs": [],
   "source": [
    "N2 = np.concatenate([N2_fst,N2_snd,N2_trd,N2_lst.magnitude], axis=0)"
   ]
  },
  {
   "cell_type": "code",
   "execution_count": 37,
   "id": "f3da3c24",
   "metadata": {},
   "outputs": [],
   "source": [
    "\n",
    "# daily means\n",
    "num_days = int(N2.shape[0]/8)\n",
    "N2_day = np.empty((num_days, *N2.shape[1:]))\n",
    "\n",
    "for i in range(num_days):\n",
    "    N2_day[i] = np.nanmean( N2[ i*8:(i+1)*8 ,:,:] , axis=0)"
   ]
  },
  {
   "cell_type": "code",
   "execution_count": 39,
   "id": "6556af97",
   "metadata": {},
   "outputs": [],
   "source": [
    "my_save_data('/venus/tesi_ale/data_EU/BV/daily/FEB/N2_day.npy', [N2_day])"
   ]
  },
  {
   "cell_type": "code",
   "execution_count": null,
   "id": "658cbe42",
   "metadata": {},
   "outputs": [],
   "source": []
  },
  {
   "cell_type": "code",
   "execution_count": null,
   "id": "312c2f60",
   "metadata": {},
   "outputs": [],
   "source": []
  },
  {
   "cell_type": "code",
   "execution_count": null,
   "id": "39f51332",
   "metadata": {},
   "outputs": [],
   "source": []
  },
  {
   "cell_type": "code",
   "execution_count": null,
   "id": "2b782924",
   "metadata": {},
   "outputs": [],
   "source": []
  },
  {
   "cell_type": "code",
   "execution_count": 27,
   "id": "a7a4a7ec",
   "metadata": {},
   "outputs": [],
   "source": [
    "# i need weekly data of dsst for this\n",
    "sst = ds_hourly['SST'].sel(time_counter=slice('2020-02-01T01:30:00.000000000', '2020-02-29T22:30:00.000000000'))\n",
    "sst = sst.where(sea_mask, drop=False) \n"
   ]
  },
  {
   "cell_type": "code",
   "execution_count": 19,
   "id": "22bcffd5",
   "metadata": {},
   "outputs": [
    {
     "name": "stdout",
     "output_type": "stream",
     "text": [
      "file already exists - DELETING IT and creating it anew\n",
      "file already exists - DELETING IT and creating it anew\n",
      "file already exists - DELETING IT and creating it anew\n",
      "file already exists - DELETING IT and creating it anew\n"
     ]
    }
   ],
   "source": [
    "s = 100\n",
    "\n",
    "for i in range(len(filenames)):\n",
    "    sst_slice = sst.sel(time_counter=slice(dates_start[i], dates_end[i])).values\n",
    "    sst_slice = sst_slice[::3, :,:]\n",
    "    dsst = np.zeros_like(sst_slice)\n",
    "    \n",
    "    for t in range(0,dsst.shape[0]):\n",
    "        T2_smooth = gm.nan_gaussian_filter(sst_slice[t],s)                             \n",
    "        dsst[t] = sst_slice[t] - T2_smooth\n",
    "    \n",
    "    my_save_data(path+filenames[i], [dsst])"
   ]
  },
  {
   "cell_type": "code",
   "execution_count": null,
   "id": "c44714ee",
   "metadata": {},
   "outputs": [],
   "source": [
    "## compute daily means of derivative terms in Ri\n",
    "files_dsst = [ 'dsst_fst.npy', 'dsst_snd.npy', 'dsst_trd.npy', 'dsst_lst.npy']\n",
    "files_dsst = ['/venus/tesi_ale/data_EU/SST/daily/FEB/' + file for file in files_dsst]\n",
    "              \n",
    "files_N2 = [ 'N2_fst.npy', 'N2_snd.npy', 'N2_trd.npy', 'N2_lst.npy']\n",
    "files_N2 = ['/venus/tesi_ale/data_EU/BV/daily/FEB/' + file for file in files_N2]\n",
    "              \n",
    "files_shear = [ 'shear_fst.npy', 'shear_snd.npy', 'shear_trd.npy', 'shear_lst.npy']\n",
    "files_shear = ['/venus/tesi_ale/data_EU/WIND/daily/FEB/' + file for file in files_shear]\n"
   ]
  },
  {
   "cell_type": "code",
   "execution_count": 3,
   "id": "1efff603",
   "metadata": {},
   "outputs": [
    {
     "ename": "SyntaxError",
     "evalue": "invalid syntax (2044566413.py, line 3)",
     "output_type": "error",
     "traceback": [
      "\u001b[0;36m  File \u001b[0;32m\"/tmp/ipykernel_1567110/2044566413.py\"\u001b[0;36m, line \u001b[0;32m3\u001b[0m\n\u001b[0;31m    linreg  corr_coeff, p_value, p_val_cann, sigmas = np.zeros()\u001b[0m\n\u001b[0m                     ^\u001b[0m\n\u001b[0;31mSyntaxError\u001b[0m\u001b[0;31m:\u001b[0m invalid syntax\n"
     ]
    }
   ],
   "source": [
    "# first derivative term\n",
    "levels = [0,1,2]\n",
    "linreg = np.zeros((4,3))\n",
    "corr_coeff, p_value, p_val_cann, sigmas = np.zeros_like(linreg), np.zeros_like(linreg), np.zeros_like(linreg), np.zeros_like(linreg)\n",
    "\n",
    "for i in range(len(levels)):\n",
    "    linreg[0,i] , corr_coeff[0,i], p_value[0,i], p_val_cann[0,i], sigmas[0,i] = slopes_r_p_mix(dsst, N2_fst[:,levels[i],:,:] nt, nskip)"
   ]
  },
  {
   "cell_type": "code",
   "execution_count": null,
   "id": "3fc0f7f1",
   "metadata": {},
   "outputs": [],
   "source": []
  },
  {
   "cell_type": "code",
   "execution_count": 2,
   "id": "b9fda97e",
   "metadata": {},
   "outputs": [
    {
     "data": {
      "text/plain": [
       "int"
      ]
     },
     "execution_count": 2,
     "metadata": {},
     "output_type": "execute_result"
    }
   ],
   "source": [
    "levels = [0,1,2]\n"
   ]
  },
  {
   "cell_type": "code",
   "execution_count": null,
   "id": "584b4105",
   "metadata": {},
   "outputs": [],
   "source": []
  },
  {
   "cell_type": "code",
   "execution_count": null,
   "id": "7f0ece5a",
   "metadata": {},
   "outputs": [],
   "source": []
  },
  {
   "cell_type": "code",
   "execution_count": null,
   "id": "89cd357a",
   "metadata": {},
   "outputs": [],
   "source": []
  },
  {
   "cell_type": "code",
   "execution_count": null,
   "id": "a90a3d0c",
   "metadata": {},
   "outputs": [],
   "source": []
  }
 ],
 "metadata": {
  "kernelspec": {
   "display_name": "Python 3 (ipykernel)",
   "language": "python",
   "name": "python3"
  },
  "language_info": {
   "codemirror_mode": {
    "name": "ipython",
    "version": 3
   },
   "file_extension": ".py",
   "mimetype": "text/x-python",
   "name": "python",
   "nbconvert_exporter": "python",
   "pygments_lexer": "ipython3",
   "version": "3.7.11"
  }
 },
 "nbformat": 4,
 "nbformat_minor": 5
}
