{
 "cells": [
  {
   "cell_type": "code",
   "execution_count": 1,
   "id": "68dfc70c",
   "metadata": {},
   "outputs": [],
   "source": [
    "import numpy as np\n",
    "import pandas as pd\n",
    "import glob\n",
    "import xarray as xr\n",
    "import matplotlib.pyplot as plt\n",
    "from scipy import stats\n",
    "\n",
    "import sys; sys.path.insert(1, '/home/alessandro/thesis_material/EURECA_scripts')\n",
    "import os\n",
    "\n",
    "import geometry as gm\n",
    "#import conversion as cnv\n",
    "from func_statistics import compute_pdf_nbin, slopes_r_p, slopes_r_p_onlysub, slopes_r_p_mix, slope_time, slope_maps\n",
    "import regression\n",
    "from coare_functions import *\n",
    "import meteo\n",
    "import lcl\n",
    "import metpy.calc as mpcalc\n",
    "from metpy.units import units\n",
    "\n",
    "\n",
    "import cartopy.crs as ccrs\n",
    "crs = ccrs.PlateCarree()\n",
    "#from plotmap import plot_background\n",
    "from plotdistr import * #fb_distribution_npoint, perc_distribution, scatterplot_fit, hist2d\n",
    "from pdist_fb_distrib_save_fast import *\n",
    "\n",
    "import warnings; warnings.filterwarnings(\"ignore\")"
   ]
  },
  {
   "cell_type": "code",
   "execution_count": 2,
   "id": "b47b8253",
   "metadata": {},
   "outputs": [],
   "source": [
    "%load_ext autoreload\n",
    "%autoreload 2"
   ]
  },
  {
   "cell_type": "code",
   "execution_count": 3,
   "id": "04be21c0",
   "metadata": {},
   "outputs": [],
   "source": [
    "# find data\n",
    "path = '/saturn/simu_Caribbean/coupled_2km/output/'\n",
    "files_ls = ['QCLOUD', 'U', 'V', 'W', 'OLR', 'PH', 'PHB', 'QVAPOR', 'PB', 'P', 'T']\n",
    "files_ls = [name + '.nc' for name in files_ls]\n",
    "wrf_files = [path+name for name in files_ls]\n",
    "#fname_list = sorted(glob.glob(wrf_files + '*'))"
   ]
  },
  {
   "cell_type": "code",
   "execution_count": 4,
   "id": "77764190",
   "metadata": {},
   "outputs": [],
   "source": [
    "# import sea_mask\n",
    "if os.path.exists('/home/alessandro/thesis_material/EURECA_scripts/masks/sea_mask_EU_new.npy'):\n",
    "    sea_mask = np.load('/home/alessandro/thesis_material/EURECA_scripts/masks/sea_mask_EU_new.npy')\n",
    "    \n",
    "if os.path.exists('/home/alessandro/thesis_material/EURECA_scripts/masks/sea_mask_EU_noWarmPatch_noWest.npy'):\n",
    "    sea_mask_modified = np.load('/home/alessandro/thesis_material/EURECA_scripts/masks/sea_mask_EU_noWarmPatch_noWest.npy')\n",
    "    sea_mask_modified_nan = np.ones_like(sea_mask_modified)\n",
    "    sea_mask_modified_nan[sea_mask_modified==0] = np.nan\n",
    "\n",
    "fourier_mask = np.load('/home/alessandro/thesis_material/EURECA_scripts/masks/fourier_large.npy')\n",
    "    \n",
    "tourbillons_mask = np.load('/home/alessandro/thesis_material/EURECA_scripts/masks/tourbillons_mask.npy')\n",
    "open_ocean_mask = np.load('/home/alessandro/thesis_material/EURECA_scripts/masks/open_ocean_mask.npy')"
   ]
  },
  {
   "cell_type": "code",
   "execution_count": 5,
   "id": "796ab37d",
   "metadata": {},
   "outputs": [],
   "source": [
    "# MATTE AVEVA GIA' CALCOLATO TUTTE LE CORRELAZIONI \n",
    "# E HA STIMATO QUESTA LUNGHEZZA?\n",
    "L = 30\n",
    "nskip = int(L/2)\n",
    "nt = int(1)\n",
    "\n",
    "# from top pbl upwards\n",
    "# SOPRA PBL LA LUNGEHZZA DI CORRELAZIONE AUMENTA?\n",
    "# NEL SENSO CHE I SEGNALI HANNO PIù SPAZIO PER PROPAGARSI?\n",
    "Ltop = 150\n",
    "nskiptop = int(Ltop/2)\n",
    "nttop = int(1)\n",
    "\n",
    "# reference population mean\n",
    "popmean = 0."
   ]
  },
  {
   "cell_type": "code",
   "execution_count": null,
   "id": "dbd948b0",
   "metadata": {},
   "outputs": [],
   "source": []
  },
  {
   "cell_type": "code",
   "execution_count": 6,
   "id": "62c47e78",
   "metadata": {},
   "outputs": [],
   "source": [
    "wrf_hourly = path + 'Caraibes_WRF_3h_surf.nc'\n",
    "ds_hourly = xr.open_dataset(wrf_hourly)\n",
    "ds_hourly = ds_hourly.sel(time_counter=slice('2020-02-01T01:30:00.000000000', '2020-02-29T22:30:00.000000000'))\n",
    "\n",
    "# lat and lon\n",
    "lon = ds_hourly['nav_lon'].values\n",
    "lat = ds_hourly['nav_lat'].values"
   ]
  },
  {
   "cell_type": "code",
   "execution_count": null,
   "id": "0534835a",
   "metadata": {},
   "outputs": [],
   "source": []
  },
  {
   "cell_type": "code",
   "execution_count": 7,
   "id": "72c7bd69",
   "metadata": {},
   "outputs": [],
   "source": [
    "U, V = ds_hourly['U_PHYL1']*sea_mask_modified_nan, ds_hourly['V_PHYL1']*sea_mask_modified_nan\n",
    "U = np.sqrt(U.values**2 + V.values**2)"
   ]
  },
  {
   "cell_type": "code",
   "execution_count": 8,
   "id": "c6f54323",
   "metadata": {},
   "outputs": [],
   "source": [
    "T2 = ds_hourly['T2'].values*sea_mask_modified_nan-273.15"
   ]
  },
  {
   "cell_type": "code",
   "execution_count": null,
   "id": "d2e692fd",
   "metadata": {},
   "outputs": [],
   "source": []
  },
  {
   "cell_type": "code",
   "execution_count": 9,
   "id": "0971d226",
   "metadata": {},
   "outputs": [],
   "source": [
    "###   RETRIEVE PRESSURE   -  MOSTLY FOR PLOTTING\n",
    "\n",
    "pres_base = xr.open_dataset(wrf_files[files_ls.index('PB.nc')])\n",
    "pres_base = pres_base['PB']\n",
    "\n",
    "pres = xr.open_dataset(wrf_files[files_ls.index('P.nc')])\n",
    "pres = pres['P'].sel(time_counter=slice('2020-02-01T01:30:00.000000000', '2020-03-01T01:30:00.000000000'))\n"
   ]
  },
  {
   "cell_type": "code",
   "execution_count": 10,
   "id": "b5e83a6e",
   "metadata": {},
   "outputs": [],
   "source": [
    "pres = ((pres+pres_base)/100.).values*sea_mask_modified_nan\n",
    "pres_sfc = pres[:,0,:,:]\n",
    "del pres_base, pres"
   ]
  },
  {
   "cell_type": "code",
   "execution_count": 11,
   "id": "9d9dfeaa",
   "metadata": {},
   "outputs": [],
   "source": [
    "mean_pres_sfc = np.nanmean(pres_sfc, axis=0)\n",
    "sfc_pres = np.zeros_like(T2)\n",
    "sfc_pres[:] = mean_pres_sfc\n"
   ]
  },
  {
   "cell_type": "code",
   "execution_count": 12,
   "id": "6c884d3f",
   "metadata": {},
   "outputs": [],
   "source": [
    "q2 = ds_hourly['Q2'].values*sea_mask_modified_nan\n",
    "\n",
    "RH = q2/meteo.qsea(T2, sfc_pres)\n",
    "\n",
    "del q2"
   ]
  },
  {
   "cell_type": "code",
   "execution_count": 13,
   "id": "e5af1fb1",
   "metadata": {},
   "outputs": [],
   "source": [
    "sst = ds_hourly['SST'].values*sea_mask_modified_nan - 273.15; \n",
    "PBLH = ds_hourly['PBLH'].values*sea_mask_modified_nan; "
   ]
  },
  {
   "cell_type": "code",
   "execution_count": 15,
   "id": "88a68005",
   "metadata": {},
   "outputs": [],
   "source": [
    "SWDOWN, GLW = ds_hourly['GSW'].values*sea_mask_modified_nan, ds_hourly['GLW'].values*sea_mask_modified_nan"
   ]
  },
  {
   "cell_type": "code",
   "execution_count": null,
   "id": "adbc0310",
   "metadata": {},
   "outputs": [],
   "source": [
    "# u = ocean surface relative wind speed (m/s) at height zu(m)\n",
    "# t = bulk air temperature (degC) at height zt(m)\n",
    "# rh = relative humidity (%) at height zq(m)\n",
    "# ts = sea water temperature (degC) - see jcool below\n",
    "# P = surface air pressure (mb) (default = 1015)\n",
    "# Rs = downward shortwave radiation (W/m^2) (default = 150)\n",
    "# Rl = downward longwave radiation (W/m^2) (default = 370)\n",
    "# zu = wind sensor height (m) (default = 18m)\n",
    "# zt = bulk temperature sensor height (m) (default = 18m)\n",
    "# zq = RH sensor height (m) (default = 18m)\n",
    "# lat = latitude (default = 45 N)\n",
    "# zi = PBL height (m) (default = 600m)\n",
    "# rain = rain rate (mm/hr)\n",
    "# cp = phase speed of dominant waves (m/s)\n",
    "# sigH =  significant wave height (m)\n",
    "# jcool = cool skin option (default = 1 for bulk SST)\n",
    "\n",
    "jcool=1\n",
    "u_star, tau, HFX_coare, LHF_coare, C_u, C_h, C_lh, L = coare_var(U, T2, RH, sst, sfc_pres, SWDOWN, GLW, lat, PBLH, jcool)"
   ]
  },
  {
   "cell_type": "code",
   "execution_count": null,
   "id": "7f5bd7a0",
   "metadata": {},
   "outputs": [],
   "source": []
  },
  {
   "cell_type": "code",
   "execution_count": null,
   "id": "20c6b43f",
   "metadata": {},
   "outputs": [],
   "source": []
  },
  {
   "cell_type": "code",
   "execution_count": null,
   "id": "b733f535",
   "metadata": {},
   "outputs": [],
   "source": []
  },
  {
   "cell_type": "code",
   "execution_count": null,
   "id": "83039019",
   "metadata": {},
   "outputs": [],
   "source": []
  },
  {
   "cell_type": "code",
   "execution_count": null,
   "id": "6c3ff620",
   "metadata": {},
   "outputs": [],
   "source": []
  }
 ],
 "metadata": {
  "kernelspec": {
   "display_name": "Python 3 (ipykernel)",
   "language": "python",
   "name": "python3"
  },
  "language_info": {
   "codemirror_mode": {
    "name": "ipython",
    "version": 3
   },
   "file_extension": ".py",
   "mimetype": "text/x-python",
   "name": "python",
   "nbconvert_exporter": "python",
   "pygments_lexer": "ipython3",
   "version": "3.7.11"
  }
 },
 "nbformat": 4,
 "nbformat_minor": 5
}
