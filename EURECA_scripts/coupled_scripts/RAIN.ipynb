{
 "cells": [
  {
   "cell_type": "code",
   "execution_count": null,
   "id": "e813d943",
   "metadata": {},
   "outputs": [],
   "source": [
    "import numpy as np\n",
    "import pandas as pd\n",
    "import glob\n",
    "import xarray as xr\n",
    "import matplotlib.pyplot as plt\n",
    "from scipy import stats\n",
    "\n",
    "import sys; sys.path.insert(1, '/home/alessandro/thesis_material')\n",
    "import os\n",
    "\n",
    "import geometry as gm\n",
    "#import conversion as cnv\n",
    "from func_statistics import *\n",
    "\n",
    "import meteo\n",
    "import lcl\n",
    "import metpy.calc as mpcalc\n",
    "from metpy.units import units\n",
    "\n",
    "\n",
    "import cartopy.crs as ccrs\n",
    "crs = ccrs.PlateCarree()\n",
    "#from plotmap import plot_background\n",
    "from plotdistr import * #fb_distribution_npoint, perc_distribution, scatterplot_fit, hist2d\n",
    "from pdist_fb_distrib_save_fast import *\n",
    "\n",
    "import warnings; warnings.filterwarnings(\"ignore\")"
   ]
  },
  {
   "cell_type": "code",
   "execution_count": null,
   "id": "2db38396",
   "metadata": {},
   "outputs": [],
   "source": [
    "%load_ext autoreload\n",
    "%autoreload 2"
   ]
  },
  {
   "cell_type": "code",
   "execution_count": null,
   "id": "2c13c1b8",
   "metadata": {},
   "outputs": [],
   "source": [
    "# MATTE AVEVA GIA' CALCOLATO TUTTE LE CORRELAZIONI \n",
    "# E HA STIMATO QUESTA LUNGHEZZA?\n",
    "L = 30\n",
    "nskip = int(L/2)\n",
    "nt = int(1)\n",
    "\n",
    "# from top pbl upwards\n",
    "# SOPRA PBL LA LUNGEHZZA DI CORRELAZIONE AUMENTA?\n",
    "# NEL SENSO CHE I SEGNALI HANNO PIù SPAZIO PER PROPAGARSI?\n",
    "Ltop = 150\n",
    "nskiptop = int(Ltop/2)\n",
    "nttop = int(1)\n",
    "\n",
    "# reference population mean\n",
    "popmean = 0.\n",
    "perc_step = 5"
   ]
  },
  {
   "cell_type": "code",
   "execution_count": null,
   "id": "d2438f04",
   "metadata": {},
   "outputs": [],
   "source": [
    "# find data\n",
    "path = '/saturn/simu_Caribbean/coupled_2km/output/'\n",
    "files_ls = ['QCLOUD', 'U', 'V', 'W', 'OLR', 'PH', 'PHB', 'QVAPOR', 'PB', 'P', 'T']\n",
    "files_ls = [name + '.nc' for name in files_ls]\n",
    "wrf_files = [path+name for name in files_ls]\n",
    "#fname_list = sorted(glob.glob(wrf_files + '*'))"
   ]
  },
  {
   "cell_type": "code",
   "execution_count": null,
   "id": "e6b9d423",
   "metadata": {},
   "outputs": [],
   "source": [
    "# import sea_mask\n",
    "# if os.path.exists('/home/alessandro/thesis_material/EURECA_scripts/masks/sea_mask_EU_new.npy'):\n",
    "#     sea_mask = np.load('/home/alessandro/thesis_material/EURECA_scripts/masks/sea_mask_EU_new.npy')\n",
    "if os.path.exists('/home/alessandro/thesis_material/EURECA_scripts/masks/sea_mask_EU_noWarmPatch_noWest.npy'):\n",
    "    sea_mask_modified = np.load('/home/alessandro/thesis_material/EURECA_scripts/masks/sea_mask_EU_noWarmPatch_noWest.npy')\n",
    "    sea_mask_modified_nan = np.ones_like(sea_mask_modified)\n",
    "    sea_mask_modified_nan[sea_mask_modified==0] = np.nan\n",
    "    \n",
    "if os.path.exists('/home/alessandro/thesis_material/EURECA_scripts/masks/sea_mask_EU_new.npy'):\n",
    "    sea_mask = np.load('/home/alessandro/thesis_material/EURECA_scripts/masks/sea_mask_EU_new.npy')    \n",
    "    \n",
    "    "
   ]
  },
  {
   "cell_type": "code",
   "execution_count": null,
   "id": "411c88c4",
   "metadata": {},
   "outputs": [],
   "source": []
  },
  {
   "cell_type": "code",
   "execution_count": null,
   "id": "2772273c",
   "metadata": {},
   "outputs": [],
   "source": [
    "wrf_hourly = path + 'Caraibes_WRF_3h_surf.nc'\n",
    "ds_hourly = xr.open_dataset(wrf_hourly)\n",
    "ds_hourly = ds_hourly.sel(time_counter=slice('2020-02-01T01:30:00.000000000', '2020-02-29T22:30:00.000000000'))\n",
    "\n",
    "sst_day = ds_hourly['SST'].groupby('time_counter.day').mean()            \n",
    "sst_day = sst_day.where(sea_mask_modified, drop=False); "
   ]
  },
  {
   "cell_type": "code",
   "execution_count": null,
   "id": "133084d7",
   "metadata": {},
   "outputs": [],
   "source": [
    "ds_sst = xr.open_dataset('/venus/tesi_ale/data_EU/SST/hourly/FEB/dSST_feb.nc')\n",
    "dsst_day = ds_sst['dsst_day']"
   ]
  },
  {
   "cell_type": "code",
   "execution_count": null,
   "id": "be1f6674",
   "metadata": {},
   "outputs": [],
   "source": [
    "rain = ds_hourly['RAIN']\n",
    "rain = rain[::3]\n",
    "\n",
    "mean_rain_day = rain.groupby('time_counter.day').mean()\n",
    "sum_rain_day = rain.groupby('time_counter.day').sum()"
   ]
  },
  {
   "cell_type": "code",
   "execution_count": null,
   "id": "14173700",
   "metadata": {},
   "outputs": [],
   "source": []
  },
  {
   "cell_type": "code",
   "execution_count": null,
   "id": "d459bb63",
   "metadata": {},
   "outputs": [],
   "source": []
  },
  {
   "cell_type": "code",
   "execution_count": null,
   "id": "eb6cdfb9",
   "metadata": {},
   "outputs": [],
   "source": []
  },
  {
   "cell_type": "code",
   "execution_count": null,
   "id": "9846aa6b",
   "metadata": {},
   "outputs": [],
   "source": []
  },
  {
   "cell_type": "code",
   "execution_count": null,
   "id": "4598f576",
   "metadata": {},
   "outputs": [],
   "source": []
  },
  {
   "cell_type": "code",
   "execution_count": null,
   "id": "c47197e9",
   "metadata": {},
   "outputs": [],
   "source": []
  }
 ],
 "metadata": {
  "kernelspec": {
   "display_name": "Python 3 (ipykernel)",
   "language": "python",
   "name": "python3"
  },
  "language_info": {
   "codemirror_mode": {
    "name": "ipython",
    "version": 3
   },
   "file_extension": ".py",
   "mimetype": "text/x-python",
   "name": "python",
   "nbconvert_exporter": "python",
   "pygments_lexer": "ipython3",
   "version": "3.7.11"
  }
 },
 "nbformat": 4,
 "nbformat_minor": 5
}
