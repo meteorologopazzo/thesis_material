{
 "cells": [
  {
   "cell_type": "code",
   "execution_count": 1,
   "metadata": {},
   "outputs": [],
   "source": [
    "%load_ext autoreload\n",
    "%autoreload 2"
   ]
  },
  {
   "cell_type": "code",
   "execution_count": 2,
   "metadata": {},
   "outputs": [],
   "source": [
    "import numpy as np\n",
    "import pandas as pd\n",
    "import glob\n",
    "import xarray as xr\n",
    "import matplotlib.pyplot as plt\n",
    "from scipy import stats\n",
    "\n",
    "import sys; sys.path.insert(1, '/home/alessandro/thesis_material')\n",
    "import os\n",
    "\n",
    "import geometry as gm\n",
    "#import conversion as cnv\n",
    "#from func_statistics import compute_pdf_nbin, slopes_r_p, slope_time, slope_maps\n",
    "#from coare_functions import *\n",
    "\n",
    "import meteo\n",
    "import metpy.calc as mpcalc\n",
    "from metpy.units import units\n",
    "import lcl\n",
    "\n",
    "\n",
    "import cartopy.crs as ccrs\n",
    "crs = ccrs.PlateCarree()\n",
    "#from plotmap import plot_background\n",
    "\n",
    "from plotdistr import * #fb_distribution_npoint, perc_distribution, scatterplot_fit, hist2d, perc_distribution_pvalue\n",
    "from pdist_fb_distrib_save_fast import *\n",
    "\n",
    "import warnings; warnings.filterwarnings(\"ignore\")"
   ]
  },
  {
   "cell_type": "code",
   "execution_count": 3,
   "metadata": {},
   "outputs": [],
   "source": [
    "# find data\n",
    "path = '/saturn/simu_Caribbean/coupled_2km/output/'\n",
    "files_ls = ['QCLOUD', 'U', 'V', 'W', 'OLR', 'PH', 'PHB', 'QVAPOR', 'PB', 'P', 'T']\n",
    "files_ls = [name + '.nc' for name in files_ls]\n",
    "wrf_files = [path+name for name in files_ls]\n",
    "#fname_list = sorted(glob.glob(wrf_files + '*'))"
   ]
  },
  {
   "cell_type": "code",
   "execution_count": 4,
   "metadata": {},
   "outputs": [],
   "source": [
    "# import sea_mask\n",
    "if os.path.exists('/home/alessandro/thesis_material/EURECA_scripts/sea_mask_EU_new.npy'):\n",
    "    sea_mask = np.load('/home/alessandro/thesis_material/EURECA_scripts/sea_mask_EU_new.npy')"
   ]
  },
  {
   "cell_type": "markdown",
   "metadata": {},
   "source": [
    "SAVE QVAPOR"
   ]
  },
  {
   "cell_type": "code",
   "execution_count": null,
   "metadata": {},
   "outputs": [],
   "source": []
  },
  {
   "cell_type": "code",
   "execution_count": null,
   "metadata": {},
   "outputs": [],
   "source": []
  },
  {
   "cell_type": "code",
   "execution_count": 5,
   "metadata": {},
   "outputs": [],
   "source": [
    "# load data\n",
    "QVAPOR_day = xr.open_dataset(wrf_files[files_ls.index('QVAPOR.nc')])\n",
    "QVAPOR_day = QVAPOR_day['QVAPOR'].sel(time_counter=slice('2020-02-01T01:30:00.000000000', '2020-03-01T01:30:00.000000000')).groupby('time_counter.day').mean()"
   ]
  },
  {
   "cell_type": "code",
   "execution_count": 6,
   "metadata": {},
   "outputs": [],
   "source": [
    "# select data oversea\n",
    "QVAPOR_day = QVAPOR_day.where(sea_mask, drop=False)"
   ]
  },
  {
   "cell_type": "code",
   "execution_count": 7,
   "metadata": {
    "collapsed": true
   },
   "outputs": [
    {
     "ename": "KeyError",
     "evalue": "'time_counter'",
     "output_type": "error",
     "traceback": [
      "\u001b[0;31m---------------------------------------------------------------------------\u001b[0m",
      "\u001b[0;31mKeyError\u001b[0m                                  Traceback (most recent call last)",
      "\u001b[0;32m~/miniconda3/envs/spec_tesi_clone/lib/python3.7/site-packages/xarray/core/dataarray.py\u001b[0m in \u001b[0;36m_getitem_coord\u001b[0;34m(self, key)\u001b[0m\n\u001b[1;32m    735\u001b[0m         \u001b[0;32mtry\u001b[0m\u001b[0;34m:\u001b[0m\u001b[0;34m\u001b[0m\u001b[0;34m\u001b[0m\u001b[0m\n\u001b[0;32m--> 736\u001b[0;31m             \u001b[0mvar\u001b[0m \u001b[0;34m=\u001b[0m \u001b[0mself\u001b[0m\u001b[0;34m.\u001b[0m\u001b[0m_coords\u001b[0m\u001b[0;34m[\u001b[0m\u001b[0mkey\u001b[0m\u001b[0;34m]\u001b[0m\u001b[0;34m\u001b[0m\u001b[0;34m\u001b[0m\u001b[0m\n\u001b[0m\u001b[1;32m    737\u001b[0m         \u001b[0;32mexcept\u001b[0m \u001b[0mKeyError\u001b[0m\u001b[0;34m:\u001b[0m\u001b[0;34m\u001b[0m\u001b[0;34m\u001b[0m\u001b[0m\n",
      "\u001b[0;31mKeyError\u001b[0m: 'time_counter'",
      "\nDuring handling of the above exception, another exception occurred:\n",
      "\u001b[0;31mKeyError\u001b[0m                                  Traceback (most recent call last)",
      "\u001b[0;32m/tmp/ipykernel_830633/615428247.py\u001b[0m in \u001b[0;36m<module>\u001b[0;34m\u001b[0m\n\u001b[1;32m      4\u001b[0m \u001b[0;31m#lon, lat = np.meshgrid(lon_M, lat_M)\u001b[0m\u001b[0;34m\u001b[0m\u001b[0;34m\u001b[0m\u001b[0;34m\u001b[0m\u001b[0m\n\u001b[1;32m      5\u001b[0m \u001b[0;34m\u001b[0m\u001b[0m\n\u001b[0;32m----> 6\u001b[0;31m \u001b[0mtime\u001b[0m \u001b[0;34m=\u001b[0m \u001b[0mQVAPOR_day\u001b[0m\u001b[0;34m[\u001b[0m\u001b[0;34m'time_counter'\u001b[0m\u001b[0;34m]\u001b[0m\u001b[0;34m.\u001b[0m\u001b[0mvalues\u001b[0m\u001b[0;34m.\u001b[0m\u001b[0mastype\u001b[0m\u001b[0;34m(\u001b[0m\u001b[0;34m'<M8[s]'\u001b[0m\u001b[0;34m)\u001b[0m\u001b[0;34m\u001b[0m\u001b[0;34m\u001b[0m\u001b[0m\n\u001b[0m\u001b[1;32m      7\u001b[0m \u001b[0mtime_day\u001b[0m \u001b[0;34m=\u001b[0m \u001b[0mQVAPOR_day\u001b[0m\u001b[0;34m[\u001b[0m\u001b[0;34m'day'\u001b[0m\u001b[0;34m]\u001b[0m\u001b[0;34m.\u001b[0m\u001b[0mastype\u001b[0m\u001b[0;34m(\u001b[0m\u001b[0;34m'<M8[s]'\u001b[0m\u001b[0;34m)\u001b[0m\u001b[0;34m\u001b[0m\u001b[0;34m\u001b[0m\u001b[0m\n",
      "\u001b[0;32m~/miniconda3/envs/spec_tesi_clone/lib/python3.7/site-packages/xarray/core/dataarray.py\u001b[0m in \u001b[0;36m__getitem__\u001b[0;34m(self, key)\u001b[0m\n\u001b[1;32m    745\u001b[0m     \u001b[0;32mdef\u001b[0m \u001b[0m__getitem__\u001b[0m\u001b[0;34m(\u001b[0m\u001b[0mself\u001b[0m\u001b[0;34m,\u001b[0m \u001b[0mkey\u001b[0m\u001b[0;34m:\u001b[0m \u001b[0mAny\u001b[0m\u001b[0;34m)\u001b[0m \u001b[0;34m->\u001b[0m \u001b[0;34m\"DataArray\"\u001b[0m\u001b[0;34m:\u001b[0m\u001b[0;34m\u001b[0m\u001b[0;34m\u001b[0m\u001b[0m\n\u001b[1;32m    746\u001b[0m         \u001b[0;32mif\u001b[0m \u001b[0misinstance\u001b[0m\u001b[0;34m(\u001b[0m\u001b[0mkey\u001b[0m\u001b[0;34m,\u001b[0m \u001b[0mstr\u001b[0m\u001b[0;34m)\u001b[0m\u001b[0;34m:\u001b[0m\u001b[0;34m\u001b[0m\u001b[0;34m\u001b[0m\u001b[0m\n\u001b[0;32m--> 747\u001b[0;31m             \u001b[0;32mreturn\u001b[0m \u001b[0mself\u001b[0m\u001b[0;34m.\u001b[0m\u001b[0m_getitem_coord\u001b[0m\u001b[0;34m(\u001b[0m\u001b[0mkey\u001b[0m\u001b[0;34m)\u001b[0m\u001b[0;34m\u001b[0m\u001b[0;34m\u001b[0m\u001b[0m\n\u001b[0m\u001b[1;32m    748\u001b[0m         \u001b[0;32melse\u001b[0m\u001b[0;34m:\u001b[0m\u001b[0;34m\u001b[0m\u001b[0;34m\u001b[0m\u001b[0m\n\u001b[1;32m    749\u001b[0m             \u001b[0;31m# xarray-style array indexing\u001b[0m\u001b[0;34m\u001b[0m\u001b[0;34m\u001b[0m\u001b[0;34m\u001b[0m\u001b[0m\n",
      "\u001b[0;32m~/miniconda3/envs/spec_tesi_clone/lib/python3.7/site-packages/xarray/core/dataarray.py\u001b[0m in \u001b[0;36m_getitem_coord\u001b[0;34m(self, key)\u001b[0m\n\u001b[1;32m    738\u001b[0m             \u001b[0mdim_sizes\u001b[0m \u001b[0;34m=\u001b[0m \u001b[0mdict\u001b[0m\u001b[0;34m(\u001b[0m\u001b[0mzip\u001b[0m\u001b[0;34m(\u001b[0m\u001b[0mself\u001b[0m\u001b[0;34m.\u001b[0m\u001b[0mdims\u001b[0m\u001b[0;34m,\u001b[0m \u001b[0mself\u001b[0m\u001b[0;34m.\u001b[0m\u001b[0mshape\u001b[0m\u001b[0;34m)\u001b[0m\u001b[0;34m)\u001b[0m\u001b[0;34m\u001b[0m\u001b[0;34m\u001b[0m\u001b[0m\n\u001b[1;32m    739\u001b[0m             _, key, var = _get_virtual_variable(\n\u001b[0;32m--> 740\u001b[0;31m                 \u001b[0mself\u001b[0m\u001b[0;34m.\u001b[0m\u001b[0m_coords\u001b[0m\u001b[0;34m,\u001b[0m \u001b[0mkey\u001b[0m\u001b[0;34m,\u001b[0m \u001b[0mself\u001b[0m\u001b[0;34m.\u001b[0m\u001b[0m_level_coords\u001b[0m\u001b[0;34m,\u001b[0m \u001b[0mdim_sizes\u001b[0m\u001b[0;34m\u001b[0m\u001b[0;34m\u001b[0m\u001b[0m\n\u001b[0m\u001b[1;32m    741\u001b[0m             )\n\u001b[1;32m    742\u001b[0m \u001b[0;34m\u001b[0m\u001b[0m\n",
      "\u001b[0;32m~/miniconda3/envs/spec_tesi_clone/lib/python3.7/site-packages/xarray/core/dataset.py\u001b[0m in \u001b[0;36m_get_virtual_variable\u001b[0;34m(variables, key, level_vars, dim_sizes)\u001b[0m\n\u001b[1;32m    171\u001b[0m         \u001b[0mref_var\u001b[0m \u001b[0;34m=\u001b[0m \u001b[0mdim_var\u001b[0m\u001b[0;34m.\u001b[0m\u001b[0mto_index_variable\u001b[0m\u001b[0;34m(\u001b[0m\u001b[0;34m)\u001b[0m\u001b[0;34m.\u001b[0m\u001b[0mget_level_variable\u001b[0m\u001b[0;34m(\u001b[0m\u001b[0mref_name\u001b[0m\u001b[0;34m)\u001b[0m\u001b[0;34m\u001b[0m\u001b[0;34m\u001b[0m\u001b[0m\n\u001b[1;32m    172\u001b[0m     \u001b[0;32melse\u001b[0m\u001b[0;34m:\u001b[0m\u001b[0;34m\u001b[0m\u001b[0;34m\u001b[0m\u001b[0m\n\u001b[0;32m--> 173\u001b[0;31m         \u001b[0mref_var\u001b[0m \u001b[0;34m=\u001b[0m \u001b[0mvariables\u001b[0m\u001b[0;34m[\u001b[0m\u001b[0mref_name\u001b[0m\u001b[0;34m]\u001b[0m\u001b[0;34m\u001b[0m\u001b[0;34m\u001b[0m\u001b[0m\n\u001b[0m\u001b[1;32m    174\u001b[0m \u001b[0;34m\u001b[0m\u001b[0m\n\u001b[1;32m    175\u001b[0m     \u001b[0;32mif\u001b[0m \u001b[0mvar_name\u001b[0m \u001b[0;32mis\u001b[0m \u001b[0;32mNone\u001b[0m\u001b[0;34m:\u001b[0m\u001b[0;34m\u001b[0m\u001b[0;34m\u001b[0m\u001b[0m\n",
      "\u001b[0;31mKeyError\u001b[0m: 'time_counter'"
     ]
    }
   ],
   "source": [
    "# def lon lat time\n",
    "lon_M = QVAPOR_day['nav_lon_grid_M'].values\n",
    "lat_M = QVAPOR_day['nav_lat_grid_M'].values\n",
    "#lon, lat = np.meshgrid(lon_M, lat_M)\n",
    "\n",
    "# time = QVAPOR_day['time_counter'].values.astype('<M8[s]')\n",
    "# time_day = QVAPOR_day['day'].astype('<M8[s]')"
   ]
  },
  {
   "cell_type": "markdown",
   "metadata": {},
   "source": [
    "GEOPOTENTIAL AND PRESSURE"
   ]
  },
  {
   "cell_type": "code",
   "execution_count": 7,
   "metadata": {},
   "outputs": [],
   "source": [
    "pres_base = xr.open_dataset(wrf_files[files_ls.index('PB.nc')])\n",
    "pres_base = pres_base['PB']\n",
    "\n",
    "pres = xr.open_dataset(wrf_files[files_ls.index('P.nc')])\n",
    "pres = pres['P'].sel(time_counter=slice('2020-02-01T01:30:00.000000000', '2020-03-01T01:30:00.000000000'))\n",
    "\n",
    "#pres_base = pres_base.where(sea_mask, drop=False)\n"
   ]
  },
  {
   "cell_type": "code",
   "execution_count": 8,
   "metadata": {},
   "outputs": [],
   "source": [
    "pres = (pres+pres_base)/100.                # hectoPascals\n",
    "pres = pres.where(sea_mask, drop=False)\n",
    "\n",
    "del pres_base"
   ]
  },
  {
   "cell_type": "code",
   "execution_count": 9,
   "metadata": {},
   "outputs": [],
   "source": [
    "# mean base pressure over domain\n",
    "mean_vert_pres = np.nanmean(pres, axis=(0,2,3))"
   ]
  },
  {
   "cell_type": "code",
   "execution_count": 8,
   "metadata": {},
   "outputs": [],
   "source": [
    "### LOAD PRESSURE COLUMN\n",
    "mean_vert_pres = np.load('/venus/tesi_ale/data_EU/PRES/daily/FEB/mean_vert_pres.npy')"
   ]
  },
  {
   "cell_type": "code",
   "execution_count": null,
   "metadata": {},
   "outputs": [],
   "source": []
  },
  {
   "cell_type": "code",
   "execution_count": null,
   "metadata": {},
   "outputs": [],
   "source": []
  },
  {
   "cell_type": "code",
   "execution_count": 9,
   "metadata": {},
   "outputs": [],
   "source": [
    "GPH_base = xr.open_dataset(wrf_files[files_ls.index('PHB.nc')])\n",
    "GPH_base = GPH_base['PHB']/9.81\n",
    "\n",
    "GPH = xr.open_dataset(wrf_files[files_ls.index('PH.nc')])\n",
    "GPH = GPH['PH'].sel(time_counter=slice('2020-02-01T01:30:00.000000000', '2020-03-01T01:30:00.000000000'))/9.81\n"
   ]
  },
  {
   "cell_type": "code",
   "execution_count": null,
   "metadata": {},
   "outputs": [],
   "source": [
    "GPH = GPH_base + GPH\n",
    "GPH = GPH.transpose('time_counter', 'lev_W', 'y_grid_M', 'x_grid_M')\n",
    "GPH = GPH.where(sea_mask, drop=False)\n",
    "\n",
    "del GPH_base"
   ]
  },
  {
   "cell_type": "code",
   "execution_count": null,
   "metadata": {},
   "outputs": [],
   "source": [
    "i = np.arange(0,38)\n",
    "GPH = 0.5*(GPH[:,i,:,:]+GPH[:,i+1,:,:])\n",
    "\n",
    "# mean GPH over domain\n",
    "GPH_mean = GPH.mean(axis=(0,2,3))"
   ]
  },
  {
   "cell_type": "code",
   "execution_count": null,
   "metadata": {},
   "outputs": [],
   "source": []
  },
  {
   "cell_type": "code",
   "execution_count": null,
   "metadata": {},
   "outputs": [],
   "source": []
  },
  {
   "cell_type": "code",
   "execution_count": null,
   "metadata": {},
   "outputs": [],
   "source": []
  },
  {
   "cell_type": "code",
   "execution_count": null,
   "metadata": {},
   "outputs": [],
   "source": []
  },
  {
   "cell_type": "code",
   "execution_count": null,
   "metadata": {},
   "outputs": [],
   "source": [
    "# compute daily means\n",
    "'''pres_day = pres.groupby('time_counter.day').mean()\n",
    "GPH_day = GPH.groupby('time_counter.day').mean()'''"
   ]
  },
  {
   "cell_type": "markdown",
   "metadata": {},
   "source": [
    "OPENING HOURLY DATASETS"
   ]
  },
  {
   "cell_type": "code",
   "execution_count": 9,
   "metadata": {},
   "outputs": [],
   "source": [
    "wrf_hourly = path + 'Caraibes_WRF_3h_surf.nc'\n",
    "ds_hourly = xr.open_dataset(wrf_hourly)\n",
    "ds_hourly = ds_hourly.sel(time_counter=slice('2020-02-01T01:30:00.000000000', '2020-03-01T01:30:00.000000000'))\n"
   ]
  },
  {
   "cell_type": "code",
   "execution_count": 10,
   "metadata": {},
   "outputs": [],
   "source": [
    "# daily varaibles\n",
    "# select sst, q2, U, PBLH\n",
    "\n",
    "sst_day = ds_hourly['SST'].groupby('time_counter.day').mean()            \n",
    "sst_day = sst_day.where(sea_mask, drop=False).values;                              \n",
    "\n",
    "PBLH_day = ds_hourly['PBLH'].groupby('time_counter.day').mean()\n",
    "PBLH_day = PBLH_day.where(sea_mask, drop=False).values;             \n"
   ]
  },
  {
   "cell_type": "code",
   "execution_count": 29,
   "metadata": {},
   "outputs": [],
   "source": []
  },
  {
   "cell_type": "code",
   "execution_count": 11,
   "metadata": {},
   "outputs": [],
   "source": [
    "# consider only .values in previous data\n",
    "QVAPOR_day = QVAPOR_day.values\n",
    "# pres = pres.values\n",
    "# GPH = GPH.values"
   ]
  },
  {
   "cell_type": "code",
   "execution_count": 12,
   "metadata": {},
   "outputs": [
    {
     "name": "stdout",
     "output_type": "stream",
     "text": [
      "0\n",
      "10\n",
      "20\n"
     ]
    }
   ],
   "source": [
    "# compute anomalies daily data\n",
    "s = 100\n",
    "\n",
    "# dsst_day = np.zeros(sst_day.shape)\n",
    "dQVAPOR_day = np.zeros(QVAPOR_day.shape)\n",
    "# dPBLH_day = np.zeros(PBLH_day.shape)\n",
    "\n",
    "for t in range(0,sst_day.shape[0]):\n",
    "    if t % 10 == 0:\n",
    "        print(t)\n",
    "    # upscale using gaussian filter\n",
    "#     sst_ave = gm.nan_gaussian_filter(sst_day[t],s)                             \n",
    "#     dsst_day[t] = sst_day[t] - sst_ave\n",
    "    \n",
    "#     PBLH_ave = gm.nan_gaussian_filter(PBLH_day[t],s)\n",
    "#     dPBLH_day[t] = PBLH_day[t] - PBLH_ave\n",
    "    \n",
    "    for h in range(0,QVAPOR_day.shape[1]):\n",
    "        q_ave = gm.nan_gaussian_filter(QVAPOR_day[t,h],s)                            \n",
    "        dQVAPOR_day[t,h] = QVAPOR_day[t,h] - q_ave"
   ]
  },
  {
   "cell_type": "code",
   "execution_count": null,
   "metadata": {},
   "outputs": [],
   "source": []
  },
  {
   "cell_type": "code",
   "execution_count": 20,
   "metadata": {},
   "outputs": [
    {
     "name": "stdout",
     "output_type": "stream",
     "text": [
      "file already exists - DELETING IT and creating it anew\n"
     ]
    }
   ],
   "source": [
    "#  SAVE ANOMALIES DATA\n",
    "\n",
    "my_save_data('/venus/tesi_ale/data_EU/QVAPOR/daily/FEB/dQVAPOR_day_feb.npy', [dQVAPOR_day])\n",
    "# my_save_data('/venus/tesi_ale/data_EU/SST/daily/FEB/dsst_day_feb.npy', [dsst_day])\n",
    "# my_save_data('/venus/tesi_ale/data_EU/PBLH/daily/FEB/dPBLH_day_feb.npy', [dPBLH_day])"
   ]
  },
  {
   "cell_type": "code",
   "execution_count": 10,
   "metadata": {},
   "outputs": [],
   "source": [
    "dQVAPOR_day = np.load('/venus/tesi_ale/data_EU/QVAPOR/daily/FEB/dQVAPOR_day_feb.npy')"
   ]
  },
  {
   "cell_type": "code",
   "execution_count": null,
   "metadata": {},
   "outputs": [],
   "source": []
  },
  {
   "cell_type": "code",
   "execution_count": null,
   "metadata": {},
   "outputs": [],
   "source": []
  },
  {
   "cell_type": "code",
   "execution_count": null,
   "metadata": {},
   "outputs": [],
   "source": []
  },
  {
   "cell_type": "code",
   "execution_count": 12,
   "metadata": {},
   "outputs": [],
   "source": [
    "# MATTE AVEVA GIA' CALCOLATO TUTTE LE CORRELAZIONI \n",
    "# E HA STIMATO QUESTA LUNGHEZZA?\n",
    "L = 30\n",
    "nskip = int(L/2)\n",
    "nt = int(1)\n",
    "\n",
    "# from top pbl upwards\n",
    "# SOPRA PBL LA LUNGEHZZA DI CORRELAZIONE AUMENTA?\n",
    "# NEL SENSO CHE I SEGNALI HANNO PIù SPAZIO PER PROPAGARSI?\n",
    "Ltop = 150\n",
    "nskiptop = int(Ltop/2)\n",
    "nttop = int(1)\n",
    "\n",
    "# reference population mean\n",
    "popmean = 0."
   ]
  },
  {
   "cell_type": "code",
   "execution_count": 22,
   "metadata": {},
   "outputs": [],
   "source": [
    "with open('/venus/tesi_ale/data_EU/SST/daily/FEB/dSST_day_feb.npy', 'rb') as f:\n",
    "    dsst_day = np.load(f)\n",
    "    f.close()"
   ]
  },
  {
   "cell_type": "code",
   "execution_count": 30,
   "metadata": {},
   "outputs": [
    {
     "name": "stdout",
     "output_type": "stream",
     "text": [
      "0\n",
      "10\n",
      "20\n",
      "30\n"
     ]
    }
   ],
   "source": [
    "# PERC DISTRIBUTION dQVAPOR vs dSST - DAILY + PVALUE SUBSAMPLED height dependent\n",
    "perc_step = 2\n",
    "nbins = int(100/perc_step) # Number of bins.\n",
    "\n",
    "# percentiles\n",
    "# x,y,perc_step, nbins, popmean, nt, nttop, nskip, nskiptop, top, perc_fixbin\n",
    "# dist_x, dist_y, std_y, stderr_y, npoints_y, pvalue_y, pvalue_y_sub\n",
    "\n",
    "pdist_dsst_day, pdist_dQVAPOR_day, pstd_dQVAPOR_day, pstderr_dQVAPOR_day, pnpoints_dQVAPOR, ppvalue_dQVAPOR_day_sub = \\\n",
    "dist_3d_subsample(dsst_day, dQVAPOR_day, perc_step, nbins, popmean, nt, nttop, nskip, nskiptop, top=14, perc_fixbin='perc')\n"
   ]
  },
  {
   "cell_type": "code",
   "execution_count": 21,
   "metadata": {},
   "outputs": [],
   "source": [
    "p_dsst_dqva = [pdist_dsst_day, pdist_dQVAPOR_day, pstd_dQVAPOR_day, pstderr_dQVAPOR_day, pnpoints_dQVAPOR, ppvalue_dQVAPOR_day_sub]\n",
    "my_save_data('/venus/tesi_ale/data_EU/QVAPOR/daily/FEB/pdistrs_dSST_dQVAPOR_day_feb.npy', p_dsst_dqva)"
   ]
  },
  {
   "cell_type": "code",
   "execution_count": 22,
   "metadata": {},
   "outputs": [
    {
     "name": "stdout",
     "output_type": "stream",
     "text": [
      "0\n",
      "10\n",
      "20\n",
      "30\n"
     ]
    }
   ],
   "source": [
    "# fixed bins dQVAPOR vs dSST\n",
    "# dist_dsst_day, dist_dQVAPOR_day, std_dQVAPOR_day, stderr_dQVAPOR_day, npoints_dQVAPOR, pvalue_dQVAPOR_day_sub = \\\n",
    "# dist_3d_subsample(dsst_day, dQVAPOR_day, perc_step, nbins, popmean, nt, nttop, nskip, nskiptop, top=14, perc_fixbin='fb')\n"
   ]
  },
  {
   "cell_type": "code",
   "execution_count": null,
   "metadata": {},
   "outputs": [],
   "source": []
  },
  {
   "cell_type": "code",
   "execution_count": 22,
   "metadata": {},
   "outputs": [],
   "source": [
    "# PBLH IN PRESSURE VALUES! \n",
    "# output is in hPa\n",
    "PBLH_pres = mpcalc.height_to_pressure_std(PBLH_day*units.meters)\n",
    "PBLH_pres = PBLH_pres.magnitude #.m_as('hPa')"
   ]
  },
  {
   "cell_type": "code",
   "execution_count": 29,
   "metadata": {},
   "outputs": [
    {
     "data": {
      "text/plain": [
       "\"# bins\\ndist_dsst, dist_PBLH_dsst, std_PBLH_dsst, stderr_PBLH_dsst, npoints_PBLH_dsst, pvalue_PBLH_dsst = distrib_2d(dsst_day, PBLH_pres, perc_step, nbins, popmean, perc_fixbin = 'fb')\""
      ]
     },
     "execution_count": 29,
     "metadata": {},
     "output_type": "execute_result"
    }
   ],
   "source": [
    "# DISTRIBUTION PBLH vs dSST bin - DAILY \n",
    "perc_step = 2\n",
    "nbins = int(100/perc_step) # Number of bins.\n",
    "\n",
    "#  PBLH distrib\n",
    "\n",
    "# perc\n",
    "pdist_dsst, pdist_PBLH_dsst, pstd_PBLH_dsst, pstderr_PBLH_dsst, pnpoints_PBLH_dsst, ppvalue_PBLH_dsst = \\\n",
    "distrib_2d(dsst_day, PBLH_pres, perc_step, nbins, popmean, perc_fixbin = 'perc')\n",
    "\n"
   ]
  },
  {
   "cell_type": "code",
   "execution_count": 23,
   "metadata": {},
   "outputs": [],
   "source": [
    "## LOAD PBLH vs dSST data!\n",
    "with open('/venus/tesi_ale/data_EU/PBLH/daily/FEB/pdistrs_PBLH_dSST_day_feb.npy', 'rb') as f:\n",
    "    pdist_dsst = np.load(f)\n",
    "    pdist_PBLH_dsst = np.load(f)\n",
    "    f.close()"
   ]
  },
  {
   "cell_type": "code",
   "execution_count": 20,
   "metadata": {},
   "outputs": [],
   "source": []
  },
  {
   "cell_type": "code",
   "execution_count": 34,
   "metadata": {},
   "outputs": [
    {
     "name": "stdout",
     "output_type": "stream",
     "text": [
      "/venus/tesi_ale/img_EU/QVAPOR/daily/FEB/pdist_dsst_dqvapor_lowtropo_2%.png\n"
     ]
    },
    {
     "data": {
      "image/png": "[encoded data removed]",
      "text/plain": [
       "<Figure size 1000x500 with 2 Axes>"
      ]
     },
     "metadata": {},
     "output_type": "display_data"
    }
   ],
   "source": [
    "p_level_plot = int(15)\n",
    "\n",
    "perc = True\n",
    "title = 'Percentiles' if perc else 'Fixed bins'\n",
    "x = pdist_dsst_day if perc else dist_dsst_day\n",
    "var = pdist_dQVAPOR_day if perc else dist_dQVAPOR_day\n",
    "minval = -0.2 ; maxval = -minval\n",
    "\n",
    "fig, ax1 = plt.subplots(figsize=(10, 5))  \n",
    "ax1.invert_yaxis()\n",
    "p1 = ax1.pcolormesh(x, mean_vert_pres[0:p_level_plot], var[0:p_level_plot]*1000, vmin=minval, vmax=maxval, cmap='seismic')\n",
    "ax1.set_xlabel('SST anomalies [˚C]'); ax1.set_ylabel('pressure [hPa]')\n",
    "plt.title(f'{title} 2% - daily dSST vs dQVAPOR')\n",
    "cbar = plt.colorbar(p1,ax=ax1, location='right', shrink=0.8, extend='both')  \n",
    "cbar.set_label('QVAPOR anoms [g/kg]')\n",
    "\n",
    "var_pbl = pdist_PBLH_dsst if perc else dist_PBLH_dsst\n",
    "ax1.plot(x, var_pbl, '-k', linewidth=2)\n",
    "ax1.text(0.5, 920, 'PBLH', fontsize=12, color='k')\n",
    "\n",
    "\n",
    "\n",
    "\n",
    "# DEF punti significativi (pvalue < 0.05)\n",
    "pval = ppvalue_dQVAPOR_day_sub[0:p_level_plot] if perc else pvalue_dQVAPOR_day_sub[0:p_level_plot]\n",
    "GPbin = mean_vert_pres[1:p_level_plot] - np.diff(mean_vert_pres[0:p_level_plot])*0.5\n",
    "signif_Lcorr_H = np.zeros((len(mean_vert_pres[0:p_level_plot])-1,len(x)-1))\n",
    "dsstbin = np.zeros((len(mean_vert_pres[0:p_level_plot])-1,len(x)-1))\n",
    "for h in range(0,len(mean_vert_pres[0:p_level_plot])-1):\n",
    "    cond1 = pval[h,:-1] > 0.05\n",
    "    cond2 = np.abs(var[h,:-1]) < 0.1*np.nanmean(np.abs(var))\n",
    "    cond = (cond1) | (cond2)\n",
    "#     cond = cond1\n",
    "    signif_Lcorr_H[h,:] = np.zeros(len(x)-1) + np.nan\n",
    "    signif_Lcorr_H[h, cond] = GPbin[h]\n",
    "    dsstbin[h,:] = x[1:] - np.diff(x)*0.5\n",
    "    \n",
    "plt.scatter(dsstbin,signif_Lcorr_H,  s=0.7, color='k')\n",
    "\n",
    "\n",
    "\n",
    "\n",
    "# savefig\n",
    "path_img = '/venus/tesi_ale/img_EU/QVAPOR/daily/FEB/' if perc else '/venus/tesi_ale/img_EU/QVAPOR/daily/bins/FEB/'\n",
    "filename = path_img + 'pdist_dsst_dqvapor_lowtropo_2%.png' if perc else path_img + 'bins_dsst_dqvapor_lowtropo_hatch.png'\n",
    "# plt.savefig(filename)\n",
    "print(filename)\n",
    "del filename"
   ]
  },
  {
   "cell_type": "code",
   "execution_count": null,
   "metadata": {},
   "outputs": [],
   "source": []
  },
  {
   "cell_type": "code",
   "execution_count": null,
   "metadata": {},
   "outputs": [],
   "source": []
  },
  {
   "cell_type": "code",
   "execution_count": 104,
   "metadata": {},
   "outputs": [],
   "source": [
    "#######   THIS IS TO FIND THE VALUES OF dQVAPOR AT THE LEVEL CLOSEST TO PBLH    #######\n",
    "\n",
    "\n",
    "where = np.zeros_like(pdist_PBLH_dsst)\n",
    "\n",
    "for i in range(0, len(pdist_PBLH_dsst)):\n",
    "    dist = np.abs(mean_vert_pres - pdist_PBLH_dsst[i])\n",
    "    min_dist = np.min(dist)\n",
    "    where[i] = np.argwhere(dist==min_dist).astype(int)\n",
    "\n",
    "qvapor_at_pblh = np.zeros_like(pdist_dsst_day)\n",
    "for i in range(0, len(pdist_dsst_day)):\n",
    "    qvapor_at_pblh[i] = pdist_dQVAPOR_day[int(where[i]), i]\n",
    "\n"
   ]
  },
  {
   "cell_type": "code",
   "execution_count": 39,
   "metadata": {},
   "outputs": [
    {
     "data": {
      "image/png": "[encoded data removed]",
      "text/plain": [
       "<Figure size 640x480 with 1 Axes>"
      ]
     },
     "metadata": {},
     "output_type": "display_data"
    }
   ],
   "source": [
    "###  QVAPOR SCATTER AT DIFFERENT ALTITUDES  \n",
    "plt.errorbar(pdist_dsst_day, pdist_dQVAPOR_day[0,:]*1000, yerr=pstderr_dQVAPOR_day[0,:]*1000, xerr=None,\\\n",
    "             label='1015 hPa', ecolor='b', linestyle='-', color='b')\n",
    "\n",
    "plt.errorbar(pdist_dsst_day, pdist_dQVAPOR_day[7,:]*1000, yerr=pstderr_dQVAPOR_day[7,:]*1000, xerr=None,\\\n",
    "             label='970 hPa', ecolor='g', linestyle='-', color='g')\n",
    "\n",
    "plt.errorbar(pdist_dsst_day, pdist_dQVAPOR_day[11,:]*1000, yerr=pstderr_dQVAPOR_day[11,:]*1000, xerr=None,\\\n",
    "             label='890 hPa', ecolor='r', linestyle='-', color='r')\n",
    "\n",
    "# plt.errorbar(pdist_dsst_day, pdist_dQVAPOR_day[13,:]*1000, yerr=pstderr_dQVAPOR_day[13,:]*1000, xerr=None,\\\n",
    "#              label='825 hPa', ecolor='k', linestyle='-', color='k')\n",
    "\n",
    "# plt.plot(pdist_dsst_day, qvapor_at_pblh*1000, '.-k', label='PBLH nrst')\n",
    "\n",
    "plt.legend()\n",
    "\n",
    "plt.ylabel('QVAPOR anoms [g / kg]')\n",
    "plt.xlabel('SST anoms [˚C]')\n",
    "plt.title('dQVAPOR at different levels + stderr subspl ')\n",
    "\n",
    "# plt.savefig('/venus/tesi_ale/img_EU/QVAPOR/daily/FEB/dQVAPOR_levels_2%.png')\n",
    "\n",
    "plt.grid()"
   ]
  },
  {
   "cell_type": "code",
   "execution_count": null,
   "metadata": {},
   "outputs": [],
   "source": []
  },
  {
   "cell_type": "code",
   "execution_count": null,
   "metadata": {},
   "outputs": [],
   "source": []
  },
  {
   "cell_type": "code",
   "execution_count": null,
   "metadata": {},
   "outputs": [],
   "source": []
  },
  {
   "cell_type": "code",
   "execution_count": null,
   "metadata": {},
   "outputs": [],
   "source": []
  },
  {
   "cell_type": "code",
   "execution_count": null,
   "metadata": {},
   "outputs": [],
   "source": []
  },
  {
   "cell_type": "code",
   "execution_count": null,
   "metadata": {},
   "outputs": [],
   "source": []
  },
  {
   "cell_type": "code",
   "execution_count": null,
   "metadata": {},
   "outputs": [],
   "source": []
  },
  {
   "cell_type": "code",
   "execution_count": null,
   "metadata": {},
   "outputs": [],
   "source": []
  },
  {
   "cell_type": "code",
   "execution_count": null,
   "metadata": {},
   "outputs": [],
   "source": []
  },
  {
   "cell_type": "code",
   "execution_count": null,
   "metadata": {},
   "outputs": [],
   "source": []
  },
  {
   "cell_type": "code",
   "execution_count": null,
   "metadata": {},
   "outputs": [],
   "source": [
    "# HOURLY tutto da rifare!!!!"
   ]
  },
  {
   "cell_type": "code",
   "execution_count": null,
   "metadata": {},
   "outputs": [],
   "source": [
    "# HOURLY "
   ]
  },
  {
   "cell_type": "code",
   "execution_count": null,
   "metadata": {},
   "outputs": [],
   "source": [
    "# read QVAPOR anomalies\n",
    "path_dir = '/media/fabien/DAGOBAH1/WRF_EUREC4A/CNT/FEB/01_var_33levels/anomalies/'\n",
    "qv_files = path_dir + 'QVAPOR_anomalies_150km_d02_2020-02-'\n",
    "qv_list = sorted(glob.glob(qv_files + '*'))\n",
    "ds_tmp = xr.open_mfdataset(qv_list, concat_dim='XTIME', combine='nested')"
   ]
  },
  {
   "cell_type": "code",
   "execution_count": null,
   "metadata": {},
   "outputs": [],
   "source": [
    "maskl_lon = (ds_tmp.XLONG >= minlon) & (ds_tmp.XLONG <= maxlon)\n",
    "maskl_lat = (ds_tmp.XLAT >= minlat) & (ds_tmp.XLAT <= maxlat)\n",
    "ds_q = ds_tmp.where(maskl_lon & maskl_lat, drop=True)"
   ]
  },
  {
   "cell_type": "code",
   "execution_count": null,
   "metadata": {},
   "outputs": [],
   "source": [
    "dQVAPOR = ds_q['QVAPOR'].values*seamask"
   ]
  },
  {
   "cell_type": "code",
   "execution_count": null,
   "metadata": {},
   "outputs": [],
   "source": [
    "# DISTRIBUTION dQVAPOR vs dSST bin - HOURLY\n",
    "str_control = 'SST'; str_variable = \"QVAPOR\"\n",
    "perc_step = 5\n",
    "nbins = int(100/perc_step) # Number of bins.\n",
    "theshold_n = 100\n",
    "dist_dqvapor_dsst = np.zeros((dQVAPOR.shape[1],nbins))\n",
    "npoint_dqvapor_dsst = np.zeros((dQVAPOR.shape[1],nbins))\n",
    "x = dsst.copy()\n",
    "control = dsst.reshape(-1)\n",
    "for h in range(0,dQVAPOR.shape[1]):\n",
    "    y = dQVAPOR[:,h,:,:].copy()\n",
    "    variable = y.reshape(-1)\n",
    "    ##### Fixed bin distribution: fb\n",
    "    dist_dsst, dist_dqvapor_dsst[h], std_err, npoint_dqvapor_dsst[h] = fb_distribution_mod(control, variable, nbins, theshold_n, perc_step)"
   ]
  },
  {
   "cell_type": "code",
   "execution_count": null,
   "metadata": {},
   "outputs": [],
   "source": [
    "# figure dQVAPOR vs dSST bin - HOURLY\n",
    "fig = plt.figure(figsize=(10, 5))\n",
    "plt.pcolormesh(dist_dsst, GP[:33], dist_dqvapor_dsst*1000., vmin=-0.6, vmax=0.6, cmap='seismic')\n",
    "plt.gca().invert_yaxis()\n",
    "plt.xlabel('SST anomalies [˚C]'); plt.ylabel('P [hPa]')\n",
    "cbar = plt.colorbar();  cbar.set_label('QVAPOR anomalies [g kg-1]')"
   ]
  },
  {
   "cell_type": "code",
   "execution_count": null,
   "metadata": {},
   "outputs": [],
   "source": [
    "path_bindist = '/home/matteo/Eureca/COARE35/Results/acquistapace_bindist/'\n",
    "np.savetxt(path_bindist + 'dist_dsst.txt', dist_dsst)\n",
    "np.savetxt(path_bindist + 'dist_dQVAPOR_dsst.txt', dist_dqvapor_dsst)\n",
    "np.savetxt(path_bindist + 'npoint_dQVAPOR_dsst.txt', npoint_dqvapor_dsst)"
   ]
  },
  {
   "cell_type": "code",
   "execution_count": null,
   "metadata": {},
   "outputs": [],
   "source": [
    "# DISTRIBUTION dQVAPOR vs SST bin - HOURLY\n",
    "str_control = 'SST'; str_variable = \"QVAPOR\"\n",
    "perc_step = 5\n",
    "nbins = int(100/perc_step) # Number of bins.\n",
    "theshold_n = 100\n",
    "dist_dqvapor_sst = np.zeros((dQVAPOR.shape[1],nbins))\n",
    "npoint_dqvapor_sst = np.zeros((dQVAPOR.shape[1],nbins))\n",
    "x = sst.copy()\n",
    "control = x.reshape(-1)\n",
    "for h in range(0,dQVAPOR.shape[1]):\n",
    "    y = dQVAPOR[:,h,:,:].copy()\n",
    "    variable = y.reshape(-1)\n",
    "    ##### Fixed bin distribution: fb\n",
    "    dist_sst, dist_dqvapor_sst[h], std_err, npoint_dqvapor_sst[h] = fb_distribution_mod(control, variable, nbins, theshold_n, perc_step)"
   ]
  },
  {
   "cell_type": "code",
   "execution_count": null,
   "metadata": {},
   "outputs": [],
   "source": [
    "# figure dQVAPOR vs SST bin - HOURLY\n",
    "fig = plt.figure(figsize=(10, 5))\n",
    "plt.pcolormesh(dist_sst-273.15, GP[:33], dist_dqvapor_sst*1000., vmin=-0.6, vmax=0.6, cmap='seismic')\n",
    "plt.gca().invert_yaxis()\n",
    "plt.xlabel('SST [˚C]'); plt.ylabel('P [hPa]')\n",
    "cbar = plt.colorbar();  cbar.set_label('QVAPOR anomalies [g kg-1]')"
   ]
  },
  {
   "cell_type": "code",
   "execution_count": null,
   "metadata": {},
   "outputs": [],
   "source": [
    "path_bindist = '/home/matteo/Eureca/COARE35/Results/acquistapace_bindist/'\n",
    "np.savetxt(path_bindist + 'dist_sst.txt', dist_sst)\n",
    "np.savetxt(path_bindist + 'dist_dQVAPOR_sst.txt', dist_dqvapor_sst)\n",
    "np.savetxt(path_bindist + 'npoint_dQVAPOR_sst.txt', npoint_dqvapor_sst)"
   ]
  },
  {
   "cell_type": "code",
   "execution_count": null,
   "metadata": {},
   "outputs": [],
   "source": []
  },
  {
   "cell_type": "code",
   "execution_count": null,
   "metadata": {},
   "outputs": [],
   "source": []
  },
  {
   "cell_type": "code",
   "execution_count": null,
   "metadata": {},
   "outputs": [],
   "source": []
  },
  {
   "cell_type": "code",
   "execution_count": null,
   "metadata": {},
   "outputs": [],
   "source": []
  },
  {
   "cell_type": "code",
   "execution_count": null,
   "metadata": {},
   "outputs": [],
   "source": [
    "#   CHECKING THE RH DISTRIBUTIONS, INSTEAD OF ABSOLUTE MOISTURE MAGNITUDES"
   ]
  },
  {
   "cell_type": "code",
   "execution_count": 13,
   "metadata": {},
   "outputs": [],
   "source": [
    "# retrieve potential temperature\n",
    "pot_temp = xr.open_dataset(wrf_files[files_ls.index('T.nc')])\n",
    "pot_temp = pot_temp['T']\n",
    "pot_temp = pot_temp.sel(time_counter=slice('2020-02-01T01:30:00.000000000', '2020-03-01T01:30:00.000000000'))\n",
    "\n",
    "# full pot_temp field\n",
    "# = T+T0 , T0 = 300\n",
    "pot_temp = pot_temp + 300"
   ]
  },
  {
   "cell_type": "code",
   "execution_count": 14,
   "metadata": {},
   "outputs": [],
   "source": [
    "# compute actual temperature\n",
    "# I DID NOT APPLY DAILY MEAN TO PRES!\n",
    "temperature = pot_temp * ( pres / 1000. )**0.286"
   ]
  },
  {
   "cell_type": "code",
   "execution_count": 15,
   "metadata": {},
   "outputs": [],
   "source": [
    "temperature = temperature.groupby('time_counter.day').mean()\n",
    "temperature = temperature.where(sea_mask, drop=False)"
   ]
  },
  {
   "cell_type": "code",
   "execution_count": 16,
   "metadata": {},
   "outputs": [],
   "source": [
    "#####  NOW APPLY DAILY MEAN TO PRES\n",
    "pres_day = pres.groupby('time_counter.day').mean()"
   ]
  },
  {
   "cell_type": "code",
   "execution_count": 17,
   "metadata": {},
   "outputs": [],
   "source": [
    "# compute relative humidity\n",
    "# RESULT IN %\n",
    "rh_day = meteo.rhcalc(temperature.values-273.15, pres_day.values, QVAPOR_day)  "
   ]
  },
  {
   "cell_type": "code",
   "execution_count": 19,
   "metadata": {},
   "outputs": [],
   "source": [
    "my_save_data('/venus/tesi_ale/data_EU/RH/daily/FEB/rh_day.npy', [rh_day])"
   ]
  },
  {
   "cell_type": "code",
   "execution_count": null,
   "metadata": {},
   "outputs": [],
   "source": [
    "## load RH\n",
    "rh_day = np.load('/venus/tesi_ale/data_EU/RH/daily/FEB/rh_day.npy')"
   ]
  },
  {
   "cell_type": "code",
   "execution_count": null,
   "metadata": {},
   "outputs": [],
   "source": []
  },
  {
   "cell_type": "code",
   "execution_count": 18,
   "metadata": {},
   "outputs": [
    {
     "name": "stdout",
     "output_type": "stream",
     "text": [
      "0\n",
      "10\n",
      "20\n"
     ]
    }
   ],
   "source": [
    "# compute anomalies\n",
    "s = 100\n",
    "drh_day = np.zeros_like(rh_day)\n",
    "\n",
    "for t in range(0,rh_day.shape[0]):\n",
    "    if t % 10 == 0:\n",
    "        print(t)\n",
    "    \n",
    "    for h in range(0,rh_day.shape[1]):\n",
    "        rh_ave = gm.nan_gaussian_filter(rh_day[t,h],s)                             \n",
    "        drh_day[t,h] = rh_day[t,h] - rh_ave"
   ]
  },
  {
   "cell_type": "code",
   "execution_count": 20,
   "metadata": {},
   "outputs": [],
   "source": [
    "my_save_data('/venus/tesi_ale/data_EU/RH/daily/FEB/drh_day.npy', [drh_day])"
   ]
  },
  {
   "cell_type": "code",
   "execution_count": null,
   "metadata": {},
   "outputs": [],
   "source": [
    "## load dRH\n",
    "drh_day = np.load('/venus/tesi_ale/data_EU/RH/daily/FEB/drh_day.npy')"
   ]
  },
  {
   "cell_type": "code",
   "execution_count": null,
   "metadata": {},
   "outputs": [],
   "source": []
  },
  {
   "cell_type": "code",
   "execution_count": 23,
   "metadata": {},
   "outputs": [],
   "source": [
    "# correlation quantities\n",
    "\n",
    "L = 30\n",
    "nskip = int(L/2)\n",
    "nt = int(1)\n",
    "\n",
    "# from top pbl upwards\n",
    "Ltop = 150\n",
    "nskiptop = int(Ltop/2)\n",
    "nttop = int(1)\n",
    "\n",
    "# ref mean\n",
    "popmean = 0."
   ]
  },
  {
   "cell_type": "code",
   "execution_count": 24,
   "metadata": {},
   "outputs": [
    {
     "name": "stdout",
     "output_type": "stream",
     "text": [
      "0\n",
      "10\n",
      "20\n",
      "30\n"
     ]
    }
   ],
   "source": [
    "# COMPUTE PERCENTILE DISTRIBUTIONS\n",
    "perc_step = 5\n",
    "nbins = int(100/perc_step) # Number of bins.\n",
    "popmean = 0.\n",
    "\n",
    "pdist_dsst, pdist_drh, pstd_drh, pstderr_drh, pnpoints_drh, ppvalue_drh_sub = \\\n",
    "dist_3d_subsample(dsst_day, drh_day, perc_step, nbins, popmean, nt, nttop, nskip, nskiptop, top=14, perc_fixbin='perc')"
   ]
  },
  {
   "cell_type": "code",
   "execution_count": 25,
   "metadata": {},
   "outputs": [],
   "source": [
    "## load RH\n",
    "my_save_data('/venus/tesi_ale/data_EU/RH/daily/FEB/pdistrs_dSST_dRH_day_feb.npy', [pdist_dsst, pdist_drh, pstd_drh, pstderr_drh, pnpoints_drh, ppvalue_drh_sub])"
   ]
  },
  {
   "cell_type": "code",
   "execution_count": null,
   "metadata": {},
   "outputs": [],
   "source": []
  },
  {
   "cell_type": "code",
   "execution_count": 26,
   "metadata": {},
   "outputs": [],
   "source": [
    "## load PBLH distributions\n",
    "with open('/venus/tesi_ale/data_EU/PBLH/daily/FEB/pdistrs_PBLH_dSST_day_feb.npy', 'rb') as f:\n",
    "    pdist_dsst = np.load(f)\n",
    "    pdist_PBLH_dsst = np.load(f)"
   ]
  },
  {
   "cell_type": "code",
   "execution_count": 26,
   "metadata": {},
   "outputs": [],
   "source": [
    "# compute distributions for PBLH_pres\n",
    "# otherwise cannot be put in the plots\n",
    "'''pdist_dsst, pdist_PBLHpr_dsst, pstd_PBLHpr, pstderr_PBLHpr, ppoints_PBLHpr, pvalue_PBLHpr_perc = \\\n",
    "distrib_2d(dsst_day, PBLH_pres, perc_step, nbins, popmean, perc_fixbin='perc')\n",
    "\n",
    "dist_dsst, dist_PBLHpr_dsst, std_PBLHpr, stderr_PBLHpr, points_PBLHpr, pvalue_PBLHpr_fb = \\\n",
    "distrib_2d(dsst_day, PBLH_pres, perc_step, nbins, popmean, perc_fixbin='fb')'''\n",
    "\n",
    "# distribution_control_fb, distribution_fb, std_err_distribution_fb, number_of_points_fb, p_value"
   ]
  },
  {
   "cell_type": "code",
   "execution_count": 48,
   "metadata": {},
   "outputs": [
    {
     "name": "stdout",
     "output_type": "stream",
     "text": [
      "/venus/tesi_ale/img_EU/RH/daily/FEB/pdist_dsst_drh_lowtropo_hatch.png\n"
     ]
    },
    {
     "data": {
      "image/png": "[encoded data removed]",
      "text/plain": [
       "<Figure size 1000x500 with 2 Axes>"
      ]
     },
     "metadata": {},
     "output_type": "display_data"
    }
   ],
   "source": [
    "p_level_plot = int(15)\n",
    "\n",
    "perc = True\n",
    "title = 'Percentiles' if perc else 'Fixed bins'\n",
    "x = pdist_dsst if perc else dist_dsst\n",
    "var = pdist_drh if perc else dist_drh\n",
    "minval = -1.5 ; maxval = -minval\n",
    "#levs = np.arange(minval, maxval+0.1, 0.1)\n",
    "\n",
    "\n",
    "fig, ax1 = plt.subplots(figsize=(10, 5))  \n",
    "ax1.invert_yaxis()\n",
    "p1 = ax1.pcolormesh(x, mean_vert_pres[0:p_level_plot], var[0:p_level_plot],\\\n",
    "                  vmin=minval, vmax=maxval, cmap='seismic')  #\n",
    "# p1 = ax1.contourf(x, mean_vert_pres[0:p_level_plot], var[0:p_level_plot], \\\n",
    "#                   levels=levs, cmap='seismic')  #vmin=minval, vmax=maxval,\n",
    "ax1.set_xlabel('SST anomalies [˚C]'); ax1.set_ylabel('GPH [m]')\n",
    "plt.title(f'{title} - daily dSST vs dRH')\n",
    "cbar = plt.colorbar(p1,ax=ax1, location='right', shrink=0.8, extend='both')  \n",
    "cbar.set_label('RH anoms [%]')\n",
    "\n",
    "var_pbl = pdist_PBLH_dsst if perc else dist_PBLHpr_dsst\n",
    "ax1.plot(x, var_pbl, '-k', linewidth=2)\n",
    "ax1.text(0.4, 925, 'PBLH', fontsize=12, color='k')\n",
    "\n",
    "\n",
    "\n",
    "# DEF punti significativi (pvalue < 0.05)\n",
    "pval = ppvalue_drh_sub[0:p_level_plot] if perc else pvalue_drh_sub[0:p_level_plot]\n",
    "GPbin = mean_vert_pres[1:p_level_plot] - np.diff(mean_vert_pres[0:p_level_plot])*0.5\n",
    "signif_Lcorr_H = np.zeros((len(mean_vert_pres[0:p_level_plot])-1,len(x)-1))\n",
    "dsstbin = np.zeros((len(mean_vert_pres[0:p_level_plot])-1,len(x)-1))\n",
    "for h in range(0,len(mean_vert_pres[0:p_level_plot])-1):\n",
    "    cond1 = pval[h,:-1] > 0.05\n",
    "    cond2 = np.abs(var[h,:-1]) < 0.1*np.nanmean(np.abs(var))\n",
    "    cond = (cond1) | (cond2)\n",
    "#     cond = cond1\n",
    "    signif_Lcorr_H[h,:] = np.zeros(len(x)-1) + np.nan\n",
    "    signif_Lcorr_H[h, cond] = GPbin[h]\n",
    "    dsstbin[h,:] = x[1:] - np.diff(x)*0.5\n",
    "    \n",
    "plt.scatter(dsstbin,signif_Lcorr_H,  s=0.7, color='k')\n",
    "\n",
    "\n",
    "\n",
    "# savefig\n",
    "path_img = '/venus/tesi_ale/img_EU/RH/daily/FEB/' #if perc else '/venus/tesi_ale/img_EU/RH/daily/bins/FEB/'\n",
    "filename = path_img + 'pdist_dsst_drh_lowtropo_hatch.png' #if perc else path_img + 'bins_dsst_drh_lowtropo_hatch.png'\n",
    "#plt.savefig(filename)\n",
    "print(filename)\n",
    "del filename\n"
   ]
  },
  {
   "cell_type": "code",
   "execution_count": 52,
   "metadata": {},
   "outputs": [
    {
     "data": {
      "text/plain": [
       "954.05237"
      ]
     },
     "execution_count": 52,
     "metadata": {},
     "output_type": "execute_result"
    }
   ],
   "source": [
    "mean_vert_pres[8]"
   ]
  },
  {
   "cell_type": "code",
   "execution_count": 54,
   "metadata": {},
   "outputs": [
    {
     "data": {
      "image/png": "[encoded data removed]",
      "text/plain": [
       "<Figure size 640x480 with 1 Axes>"
      ]
     },
     "metadata": {},
     "output_type": "display_data"
    }
   ],
   "source": [
    "plt.errorbar(pdist_dsst, pdist_drh[0,:], yerr=pstderr_drh[0,:], xerr=None,\\\n",
    "             label='1015 hPa', ecolor='b', linestyle='-', color='b')\n",
    "\n",
    "plt.errorbar(pdist_dsst, pdist_drh[8,:], yerr=pstderr_drh[8,:], xerr=None,\\\n",
    "             label='950 hPa', ecolor='g', linestyle='-', color='g')\n",
    "\n",
    "plt.errorbar(pdist_dsst, pdist_drh[11,:], yerr=pstderr_drh[11,:], xerr=None,\\\n",
    "             label='890 hPa', ecolor='r', linestyle='-', color='r')\n",
    "\n",
    "\n",
    "plt.grid()\n",
    "plt.legend()\n",
    "\n",
    "plt.ylabel('RH anoms [%]')\n",
    "plt.xlabel('SST anoms [˚C]')\n",
    "plt.title('dRH at different levels + stderr subspl ')\n",
    "\n",
    "# plt.savefig('/venus/tesi_ale/img_EU/RH/daily/FEB/dRH_levels.png')"
   ]
  }
 ],
 "metadata": {
  "interpreter": {
   "hash": "6c158dc727e3f7af5cb4f82910b7b5790878aa8c7ec1ebd135cc0211776867c6"
  },
  "kernelspec": {
   "display_name": "Python 3 (ipykernel)",
   "language": "python",
   "name": "python3"
  },
  "language_info": {
   "codemirror_mode": {
    "name": "ipython",
    "version": 3
   },
   "file_extension": ".py",
   "mimetype": "text/x-python",
   "name": "python",
   "nbconvert_exporter": "python",
   "pygments_lexer": "ipython3",
   "version": "3.7.11"
  }
 },
 "nbformat": 4,
 "nbformat_minor": 2
}
