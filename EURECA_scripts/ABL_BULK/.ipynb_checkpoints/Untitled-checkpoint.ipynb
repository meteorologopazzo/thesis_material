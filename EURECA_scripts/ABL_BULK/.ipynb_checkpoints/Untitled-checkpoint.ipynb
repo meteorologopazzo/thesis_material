{
 "cells": [
  {
   "cell_type": "code",
   "execution_count": 1,
   "id": "b7a3156a",
   "metadata": {},
   "outputs": [],
   "source": [
    "import numpy as np\n",
    "import pandas as pd\n",
    "import glob\n",
    "import xarray as xr\n",
    "import matplotlib.pyplot as plt\n",
    "from scipy import stats\n",
    "\n",
    "import sys; sys.path.insert(1, '/home/alessandro/thesis_material/EURECA_scripts')\n",
    "import os\n",
    "\n",
    "import geometry as gm\n",
    "#import conversion as cnv\n",
    "from func_statistics import compute_pdf_nbin, slopes_r_p, slopes_r_p_onlysub, slopes_r_p_mix, slope_time, slope_maps\n",
    "import regression\n",
    "#from coare_functions import *\n",
    "import meteo\n",
    "import lcl\n",
    "import metpy.calc as mpcalc\n",
    "from metpy.units import units\n",
    "\n",
    "\n",
    "import cartopy.crs as ccrs\n",
    "crs = ccrs.PlateCarree()\n",
    "#from plotmap import plot_background\n",
    "from plotdistr import * #fb_distribution_npoint, perc_distribution, scatterplot_fit, hist2d\n",
    "from pdist_fb_distrib_save_fast import *\n",
    "\n",
    "import warnings; warnings.filterwarnings(\"ignore\")\n"
   ]
  },
  {
   "cell_type": "code",
   "execution_count": 2,
   "id": "9866e3dd",
   "metadata": {},
   "outputs": [],
   "source": [
    "%load_ext autoreload\n",
    "%autoreload 2"
   ]
  },
  {
   "cell_type": "code",
   "execution_count": 3,
   "id": "58aa4d3d",
   "metadata": {},
   "outputs": [],
   "source": [
    "# read  data\n",
    "path_data = '/saturn/simu_Caribbean/forced_3km/CNT/FEB/01/'\n",
    "wrf_files = path_data + 'wrfout_d02_2020-0'\n",
    "fname_list = sorted(glob.glob(wrf_files + '*'))\n",
    "ds = xr.open_mfdataset(fname_list, concat_dim='Time', combine='nested')"
   ]
  },
  {
   "cell_type": "code",
   "execution_count": 4,
   "id": "c3bbc557",
   "metadata": {},
   "outputs": [],
   "source": [
    "minlon = -60.; maxlon = -51.\n",
    "minlat = 0.; maxlat = 17.\n",
    "\n",
    "# select domain\n",
    "mask_lon = (ds.XLONG >= minlon) & (ds.XLONG <= maxlon)\n",
    "mask_lat = (ds.XLAT >= minlat) & (ds.XLAT <= maxlat)\n",
    "ds = ds.where(mask_lon & mask_lat, drop=True)"
   ]
  },
  {
   "cell_type": "code",
   "execution_count": 5,
   "id": "56c7b47e",
   "metadata": {},
   "outputs": [],
   "source": [
    "# def lon lat time\n",
    "lon = ds['XLONG'][0].values\n",
    "lat = ds['XLAT'][0].values\n",
    "time = ds['XTIME'].values.astype('<M8[s]')\n",
    "# land - sea mask\n",
    "lakemask = ds['LAKEMASK'][0].values\n",
    "landmask = ds['LANDMASK'][0].values\n",
    "seamask = 1 - lakemask - landmask\n",
    "seamask[seamask==0] = np.nan\n",
    "# def extended land-sea mask\n",
    "seamask_nocoast = seamask.copy(); seamask_island0 = seamask.copy()\n",
    "seamask_island0[:int(seamask_island0.shape[0]/2),:] = 1\n",
    "seamask_island = seamask_island0.copy()\n",
    "for i in range(0,5):\n",
    "    for j in range(0,5):\n",
    "        seamask_nocoast = np.roll(seamask, (i,j), axis=(1,0))*seamask_nocoast\n",
    "        seamask_island = np.roll(seamask_island0, (-i,-j), axis=(1,0))*seamask_island\n",
    "seamask_nocoast = seamask_nocoast*seamask_island\n",
    "seamask = seamask_nocoast.copy()\n",
    "del seamask_nocoast, lakemask, landmask"
   ]
  },
  {
   "cell_type": "code",
   "execution_count": null,
   "id": "4fd3dfa0",
   "metadata": {},
   "outputs": [],
   "source": []
  },
  {
   "cell_type": "code",
   "execution_count": null,
   "id": "7072f074",
   "metadata": {},
   "outputs": [],
   "source": [
    "U, V = ds['U'].groupby('XTIME.day').mean().values*seamask, ds['V'].groupby('XTIME.day').mean().values*seamask"
   ]
  },
  {
   "cell_type": "code",
   "execution_count": null,
   "id": "18bdd380",
   "metadata": {},
   "outputs": [],
   "source": [
    "U.shape\n",
    "print(V.shape)"
   ]
  },
  {
   "cell_type": "code",
   "execution_count": null,
   "id": "1a5b1b34",
   "metadata": {},
   "outputs": [],
   "source": [
    "U10, V10 = ds['U10'].groupby('XTIME.day').mean().values*seamask, ds['V10'].groupby('XTIME.day').mean().values*seamask"
   ]
  },
  {
   "cell_type": "code",
   "execution_count": null,
   "id": "308cfcb9",
   "metadata": {},
   "outputs": [],
   "source": []
  },
  {
   "cell_type": "code",
   "execution_count": null,
   "id": "78a93813",
   "metadata": {},
   "outputs": [],
   "source": []
  },
  {
   "cell_type": "code",
   "execution_count": null,
   "id": "ca75bae7",
   "metadata": {},
   "outputs": [],
   "source": []
  },
  {
   "cell_type": "code",
   "execution_count": null,
   "id": "b5d3fe18",
   "metadata": {},
   "outputs": [],
   "source": []
  },
  {
   "cell_type": "code",
   "execution_count": null,
   "id": "57881181",
   "metadata": {},
   "outputs": [],
   "source": []
  },
  {
   "cell_type": "code",
   "execution_count": null,
   "id": "b4c24717",
   "metadata": {},
   "outputs": [],
   "source": [
    "sys.path.append('/home/alessandro/thesis_material/EURECA_scripts/ABL_BULK/')\n",
    "\n",
    "import neggers_stevens"
   ]
  },
  {
   "cell_type": "code",
   "execution_count": null,
   "id": "3862d3b2",
   "metadata": {},
   "outputs": [],
   "source": []
  },
  {
   "cell_type": "code",
   "execution_count": null,
   "id": "961d7cca",
   "metadata": {},
   "outputs": [],
   "source": []
  },
  {
   "cell_type": "code",
   "execution_count": null,
   "id": "8281ea9d",
   "metadata": {},
   "outputs": [],
   "source": []
  }
 ],
 "metadata": {
  "kernelspec": {
   "display_name": "Python 3 (ipykernel)",
   "language": "python",
   "name": "python3"
  },
  "language_info": {
   "codemirror_mode": {
    "name": "ipython",
    "version": 3
   },
   "file_extension": ".py",
   "mimetype": "text/x-python",
   "name": "python",
   "nbconvert_exporter": "python",
   "pygments_lexer": "ipython3",
   "version": "3.7.11"
  }
 },
 "nbformat": 4,
 "nbformat_minor": 5
}
