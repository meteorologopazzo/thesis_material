{
 "cells": [
  {
   "cell_type": "code",
   "execution_count": 1,
   "metadata": {},
   "outputs": [],
   "source": [
    "%load_ext autoreload\n",
    "%autoreload 2"
   ]
  },
  {
   "cell_type": "code",
   "execution_count": 1,
   "metadata": {},
   "outputs": [],
   "source": [
    "import numpy as np\n",
    "import pandas as pd\n",
    "import glob\n",
    "import xarray as xr\n",
    "import matplotlib.pyplot as plt\n",
    "from scipy import stats\n",
    "\n",
    "import sys; sys.path.insert(1, '/home/alessandro/thesis_material')\n",
    "import os\n",
    "\n",
    "import geometry as gm\n",
    "#import conversion as cnv\n",
    "#from func_statistics import compute_pdf_nbin, slopes_r_p, slope_time, slope_maps\n",
    "#from coare_functions import *\n",
    "\n",
    "import meteo\n",
    "import metpy.calc as mpcalc\n",
    "from metpy.units import units\n",
    "import lcl\n",
    "\n",
    "\n",
    "import cartopy.crs as ccrs\n",
    "crs = ccrs.PlateCarree()\n",
    "#from plotmap import plot_background\n",
    "\n",
    "from plotdistr import * #fb_distribution_npoint, perc_distribution, scatterplot_fit, hist2d, perc_distribution_pvalue\n",
    "from pdist_fb_distrib_save_fast import *\n",
    "\n",
    "import warnings; warnings.filterwarnings(\"ignore\")"
   ]
  },
  {
   "cell_type": "code",
   "execution_count": 2,
   "metadata": {},
   "outputs": [],
   "source": [
    "# find data\n",
    "path = '/saturn/simu_Caribbean/coupled_2km/output/'\n",
    "files_ls = ['QCLOUD', 'U', 'V', 'W', 'OLR', 'PH', 'PHB', 'QVAPOR', 'PB', 'P', 'T']\n",
    "files_ls = [name + '.nc' for name in files_ls]\n",
    "wrf_files = [path+name for name in files_ls]\n",
    "#fname_list = sorted(glob.glob(wrf_files + '*'))"
   ]
  },
  {
   "cell_type": "code",
   "execution_count": 4,
   "metadata": {},
   "outputs": [],
   "source": [
    "# import sea_mask\n",
    "if os.path.exists('/home/alessandro/thesis_material/EURECA_scripts/sea_mask_EU_new.npy'):\n",
    "    sea_mask = np.load('/home/alessandro/thesis_material/EURECA_scripts/sea_mask_EU_new.npy')\n",
    "    \n",
    "if os.path.exists('/home/alessandro/thesis_material/EURECA_scripts/masks/sea_mask_EU_noWarmPatch_noWest.npy'):\n",
    "    sea_mask_modified = np.load('/home/alessandro/thesis_material/EURECA_scripts/masks/sea_mask_EU_noWarmPatch_noWest.npy')\n"
   ]
  },
  {
   "cell_type": "markdown",
   "metadata": {},
   "source": [
    "SAVE QVAPOR"
   ]
  },
  {
   "cell_type": "code",
   "execution_count": null,
   "metadata": {},
   "outputs": [],
   "source": []
  },
  {
   "cell_type": "code",
   "execution_count": 6,
   "metadata": {},
   "outputs": [],
   "source": [
    "#### list of dates for slicing \n",
    "dates_start =  ['2020-02-01T01:30:00.000000000', '2020-02-09T01:30:00.000000000',\\\n",
    "                '2020-02-17T01:30:00.000000000', '2020-02-26T01:30:00.000000000']\n",
    "\n",
    "dates_end = ['2020-02-08T22:30:00.000000000','2020-02-16T22:30:00.000000000',\\\n",
    "             '2020-02-25T22:30:00.000000000', '2020-02-29T22:30:00.000000000']"
   ]
  },
  {
   "cell_type": "code",
   "execution_count": 28,
   "metadata": {},
   "outputs": [],
   "source": [
    "# load data\n",
    "QVAPOR = xr.open_dataset(wrf_files[files_ls.index('QVAPOR.nc')])\n",
    "QVAPOR = QVAPOR['QVAPOR'].sel(time_counter=slice(dates_start[3], dates_end[3]))\n",
    "QVAPOR = QVAPOR.where(sea_mask, drop=False)\n"
   ]
  },
  {
   "cell_type": "code",
   "execution_count": 6,
   "metadata": {},
   "outputs": [],
   "source": [
    "# # select data oversea\n",
    "# # QVAPOR_day = QVAPOR.groupby('time_counter.day').mean()\n",
    "# QVAPOR_day = QVAPOR_day.where(sea_mask, drop=False)"
   ]
  },
  {
   "cell_type": "markdown",
   "metadata": {},
   "source": [
    "GEOPOTENTIAL AND PRESSURE"
   ]
  },
  {
   "cell_type": "code",
   "execution_count": 7,
   "metadata": {},
   "outputs": [],
   "source": [
    "pres_base = xr.open_dataset(wrf_files[files_ls.index('PB.nc')])\n",
    "pres_base = pres_base['PB']\n",
    "\n",
    "pres = xr.open_dataset(wrf_files[files_ls.index('P.nc')])\n",
    "pres = pres['P'].sel(time_counter=slice(dates_start[0], dates_end[-1]))\n",
    "\n",
    "pres = (pres+pres_base)/100.                # hectoPascals\n",
    "pres = pres.where(sea_mask_modified, drop=False)\n",
    "pres_sfc = pres[:,0,:,:]\n",
    "\n",
    "del pres_base, pres"
   ]
  },
  {
   "cell_type": "code",
   "execution_count": 7,
   "metadata": {},
   "outputs": [],
   "source": []
  },
  {
   "cell_type": "code",
   "execution_count": 8,
   "metadata": {},
   "outputs": [
    {
     "data": {
      "text/plain": [
       "(232, 546, 573)"
      ]
     },
     "execution_count": 8,
     "metadata": {},
     "output_type": "execute_result"
    }
   ],
   "source": [
    "pres_sfc.shape"
   ]
  },
  {
   "cell_type": "markdown",
   "metadata": {},
   "source": [
    "OPENING HOURLY DATASETS"
   ]
  },
  {
   "cell_type": "code",
   "execution_count": null,
   "metadata": {},
   "outputs": [],
   "source": []
  },
  {
   "cell_type": "code",
   "execution_count": 9,
   "metadata": {},
   "outputs": [],
   "source": [
    "wrf_hourly = path + 'Caraibes_WRF_3h_surf.nc'\n",
    "ds_hourly = xr.open_dataset(wrf_hourly)\n",
    "ds_hourly = ds_hourly.sel(time_counter=slice(dates_start[0], dates_end[-1]))\n"
   ]
  },
  {
   "cell_type": "code",
   "execution_count": null,
   "metadata": {},
   "outputs": [],
   "source": []
  },
  {
   "cell_type": "code",
   "execution_count": 11,
   "metadata": {},
   "outputs": [],
   "source": [
    "# daily varaibles\n",
    "# select sst, q2, U, PBLH\n",
    "\n",
    "T2 = ds_hourly['T2']    \n",
    "T2 = T2.where(sea_mask_modified, drop=False).values; \n",
    "\n",
    "\n",
    "sst = ds_hourly['SST']\n",
    "sst = sst.where(sea_mask_modified, drop=False).values; \n",
    "\n",
    "q2 = ds_hourly['Q2']\n",
    "q2 = q2.where(sea_mask_modified, drop=False).values;   \n"
   ]
  },
  {
   "cell_type": "code",
   "execution_count": 12,
   "metadata": {},
   "outputs": [],
   "source": [
    "#### MAKE SURFACE DATA 3HOURLY AS WELL\n",
    "#### \n",
    "T2_3hr = T2[::3,:,:]\n",
    "sst_3hr = sst[::3,:,:]\n",
    "q2_3hr = q2[::3,:,:]"
   ]
  },
  {
   "cell_type": "code",
   "execution_count": null,
   "metadata": {},
   "outputs": [],
   "source": [
    "#   CHECKING THE RH DISTRIBUTIONS, INSTEAD OF ABSOLUTE MOISTURE MAGNITUDES"
   ]
  },
  {
   "cell_type": "code",
   "execution_count": 30,
   "metadata": {},
   "outputs": [],
   "source": [
    "# retrieve potential temperature\n",
    "pot_temp = xr.open_dataset(wrf_files[files_ls.index('T.nc')])\n",
    "pot_temp = pot_temp['T']\n",
    "pot_temp = pot_temp.sel(time_counter=slice(dates_start[3], dates_end[3]))\n",
    "\n",
    "# full pot_temp field\n",
    "# = T+T0 , T0 = 300\n",
    "pot_temp = pot_temp + 300"
   ]
  },
  {
   "cell_type": "code",
   "execution_count": 31,
   "metadata": {},
   "outputs": [],
   "source": [
    "# compute actual temperature\n",
    "# I DID NOT APPLY DAILY MEAN TO PRES!\n",
    "temperature = pot_temp * ( pres / 1000. )**0.286\n",
    "temperature = temperature.where(sea_mask, drop=False)\n",
    "del pot_temp"
   ]
  },
  {
   "cell_type": "code",
   "execution_count": null,
   "metadata": {},
   "outputs": [],
   "source": []
  },
  {
   "cell_type": "code",
   "execution_count": 20,
   "metadata": {},
   "outputs": [],
   "source": [
    "# compute relative humidity\n",
    "# RESULT IN %\n",
    "rh2 = meteo.rhcalc(T2_3hr-273.15, pres_sfc.values, q2_3hr)"
   ]
  },
  {
   "cell_type": "code",
   "execution_count": 21,
   "metadata": {},
   "outputs": [],
   "source": [
    "rh2 = xr.DataArray(rh2, dims=['time_counter', 'lat', 'lon'],\\\n",
    "                   name='rh2_3h', \\\n",
    "                  coords={'time_counter':ds_hourly.time_counter[::3]}); \n",
    "\n",
    "rh2.attrs['long_name'] = '3h relative humidity at 2m'\n",
    "rh2.attrs['units'] = '%'"
   ]
  },
  {
   "cell_type": "code",
   "execution_count": 22,
   "metadata": {},
   "outputs": [],
   "source": [
    "RH = xr.open_dataset('/venus/tesi_ale/data_EU/RH/daily/FEB/RH.nc')\n",
    "RH['rh2_3h'] = rh2\n",
    "\n",
    "RH.to_netcdf('/venus/tesi_ale/data_EU/RH/daily/FEB/RH_new.nc')"
   ]
  },
  {
   "cell_type": "code",
   "execution_count": 17,
   "metadata": {},
   "outputs": [],
   "source": [
    "num_days = int(rh2.shape[0]/8)\n",
    "rh2_day = np.empty((num_days, *rh2.shape[1:]))\n",
    "\n",
    "for i in range(num_days):\n",
    "    rh2_day[i] = np.nanmean( rh2[ i*8:(i+1)*8 ,:,:] , axis=0)"
   ]
  },
  {
   "cell_type": "code",
   "execution_count": 18,
   "metadata": {},
   "outputs": [],
   "source": [
    "my_save_data('/venus/tesi_ale/data_EU/RH/daily/FEB/rh2_day.npy', [rh2_day])"
   ]
  },
  {
   "cell_type": "code",
   "execution_count": 20,
   "metadata": {},
   "outputs": [
    {
     "name": "stdout",
     "output_type": "stream",
     "text": [
      "0\n",
      "10\n",
      "20\n"
     ]
    }
   ],
   "source": [
    "# compute anomalies\n",
    "s = 100\n",
    "drh2_day = np.zeros_like(rh2_day)\n",
    "\n",
    "for t in range(0,rh2_day.shape[0]):\n",
    "    if t % 10 == 0:\n",
    "        print(t)\n",
    "    rh_ave = gm.nan_gaussian_filter(rh2_day[t],s)                             \n",
    "    drh2_day[t] = rh2_day[t] - rh_ave\n",
    "    "
   ]
  },
  {
   "cell_type": "code",
   "execution_count": 21,
   "metadata": {},
   "outputs": [],
   "source": [
    "my_save_data('/venus/tesi_ale/data_EU/RH/daily/FEB/drh2_day.npy', [drh2_day])"
   ]
  },
  {
   "cell_type": "code",
   "execution_count": null,
   "metadata": {},
   "outputs": [],
   "source": []
  },
  {
   "cell_type": "code",
   "execution_count": null,
   "metadata": {},
   "outputs": [],
   "source": []
  },
  {
   "cell_type": "code",
   "execution_count": null,
   "metadata": {},
   "outputs": [],
   "source": []
  },
  {
   "cell_type": "code",
   "execution_count": 4,
   "metadata": {},
   "outputs": [],
   "source": [
    "rh_fst = np.load('/venus/tesi_ale/data_EU/RH/daily/FEB/rh_fst.npy')\n",
    "rh_snd = np.load('/venus/tesi_ale/data_EU/RH/daily/FEB/rh_snd.npy')\n",
    "rh_trd = np.load('/venus/tesi_ale/data_EU/RH/daily/FEB/rh_trd.npy')\n",
    "rh_lst = np.load('/venus/tesi_ale/data_EU/RH/daily/FEB/rh_lst.npy')"
   ]
  },
  {
   "cell_type": "code",
   "execution_count": 5,
   "metadata": {},
   "outputs": [],
   "source": [
    "rh_day = np.concatenate([rh_fst,rh_snd,rh_trd,rh_lst], axis=0)"
   ]
  },
  {
   "cell_type": "code",
   "execution_count": 8,
   "metadata": {},
   "outputs": [],
   "source": [
    "del rh_fst, rh_snd, rh_trd, rh_lst"
   ]
  },
  {
   "cell_type": "code",
   "execution_count": null,
   "metadata": {},
   "outputs": [],
   "source": []
  },
  {
   "cell_type": "code",
   "execution_count": 6,
   "metadata": {},
   "outputs": [],
   "source": [
    "num_days = int(rh_day.shape[0]/8)\n",
    "daily_mean_rh = np.empty((num_days, *rh_day.shape[1:]))\n",
    "\n",
    "for i in range(num_days):\n",
    "    daily_mean_rh[i] = np.nanmean( rh_day[ i*8:(i+1)*8 ,:,:,:] , axis=0)"
   ]
  },
  {
   "cell_type": "code",
   "execution_count": 9,
   "metadata": {},
   "outputs": [],
   "source": [
    "my_save_data('/venus/tesi_ale/data_EU/RH/daily/FEB/rh_day.npy', [daily_mean_rh])"
   ]
  },
  {
   "cell_type": "code",
   "execution_count": null,
   "metadata": {},
   "outputs": [],
   "source": []
  },
  {
   "cell_type": "code",
   "execution_count": 12,
   "metadata": {},
   "outputs": [
    {
     "name": "stdout",
     "output_type": "stream",
     "text": [
      "0\n",
      "10\n",
      "20\n"
     ]
    }
   ],
   "source": [
    "# compute anomalies\n",
    "s = 100\n",
    "drh_day = np.zeros_like(daily_mean_rh)\n",
    "\n",
    "for t in range(0,daily_mean_rh.shape[0]):\n",
    "    if t % 10 == 0:\n",
    "        print(t)\n",
    "\n",
    "    for h in range(0,daily_mean_rh.shape[1]):\n",
    "        rh_ave = gm.nan_gaussian_filter(daily_mean_rh[t,h],s)                             \n",
    "        drh_day[t,h] = daily_mean_rh[t,h] - rh_ave\n",
    "    "
   ]
  },
  {
   "cell_type": "code",
   "execution_count": 14,
   "metadata": {},
   "outputs": [],
   "source": [
    "my_save_data('/venus/tesi_ale/data_EU/RH/daily/FEB/drh_day.npy', [drh_day])"
   ]
  },
  {
   "cell_type": "code",
   "execution_count": null,
   "metadata": {},
   "outputs": [],
   "source": []
  },
  {
   "cell_type": "code",
   "execution_count": null,
   "metadata": {},
   "outputs": [],
   "source": []
  },
  {
   "cell_type": "code",
   "execution_count": 7,
   "metadata": {},
   "outputs": [
    {
     "data": {
      "text/plain": [
       "<matplotlib.colorbar.Colorbar at 0x70ada0964410>"
      ]
     },
     "execution_count": 7,
     "metadata": {},
     "output_type": "execute_result"
    },
    {
     "data": {
      "image/png": "[encoded data removed]",
      "text/plain": [
       "<Figure size 640x480 with 2 Axes>"
      ]
     },
     "metadata": {},
     "output_type": "display_data"
    }
   ],
   "source": [
    "plt.contourf(dqsat2m_day[10,:,:])\n",
    "plt.colorbar()"
   ]
  },
  {
   "cell_type": "code",
   "execution_count": null,
   "metadata": {},
   "outputs": [],
   "source": []
  },
  {
   "cell_type": "code",
   "execution_count": null,
   "metadata": {},
   "outputs": [],
   "source": [
    "###########  QSAT2M"
   ]
  },
  {
   "cell_type": "code",
   "execution_count": 39,
   "metadata": {},
   "outputs": [],
   "source": [
    "##### calculate here qsat\n",
    "qsat_2m = mpcalc.saturation_mixing_ratio(pres_sfc.values*units.hPa,\\\n",
    "                                         T2_3hr*units.kelvin).to('kg/kg')\n",
    "\n",
    "qsat_2m = qsat_2m.magnitude"
   ]
  },
  {
   "cell_type": "code",
   "execution_count": 40,
   "metadata": {},
   "outputs": [],
   "source": [
    "qsat_2m = qsat_2m/(1+qsat_2m)"
   ]
  },
  {
   "cell_type": "code",
   "execution_count": 44,
   "metadata": {},
   "outputs": [
    {
     "data": {
      "text/plain": [
       "22.443577647209167"
      ]
     },
     "execution_count": 44,
     "metadata": {},
     "output_type": "execute_result"
    }
   ],
   "source": [
    "np.nanmax(1000*qsat2m_day)"
   ]
  },
  {
   "cell_type": "code",
   "execution_count": 43,
   "metadata": {},
   "outputs": [],
   "source": [
    "num_days = int(qsat_2m.shape[0]/8)\n",
    "qsat2m_day = np.empty((num_days, *qsat_2m.shape[1:]))\n",
    "\n",
    "for i in range(num_days):\n",
    "    qsat2m_day[i] = np.nanmean( qsat_2m[ i*8:(i+1)*8 ,:,:] , axis=0)"
   ]
  },
  {
   "cell_type": "code",
   "execution_count": 45,
   "metadata": {},
   "outputs": [
    {
     "name": "stdout",
     "output_type": "stream",
     "text": [
      "file already exists - DELETING IT and creating it anew\n"
     ]
    }
   ],
   "source": [
    "my_save_data('/venus/tesi_ale/data_EU/QVAPOR/daily/FEB/qsat_2m_day.npy', [1000*qsat2m_day])"
   ]
  },
  {
   "cell_type": "code",
   "execution_count": null,
   "metadata": {},
   "outputs": [],
   "source": []
  },
  {
   "cell_type": "code",
   "execution_count": null,
   "metadata": {},
   "outputs": [],
   "source": []
  },
  {
   "cell_type": "code",
   "execution_count": null,
   "metadata": {},
   "outputs": [],
   "source": [
    "####### QSAT SST"
   ]
  },
  {
   "cell_type": "code",
   "execution_count": 23,
   "metadata": {},
   "outputs": [],
   "source": [
    "##### calculate here qsat\n",
    "qsat_sst = mpcalc.saturation_mixing_ratio(pres_sfc.values*units.hPa,\\\n",
    "                                          sst_3hr*units.kelvin).to('kg/kg')\n",
    "\n",
    "qsat_sst = qsat_sst.magnitude\n",
    "\n",
    "qsat_sst = 1000*qsat_sst/(1+qsat_sst)"
   ]
  },
  {
   "cell_type": "code",
   "execution_count": 37,
   "metadata": {},
   "outputs": [
    {
     "data": {
      "text/plain": [
       "1.1616674890287726"
      ]
     },
     "execution_count": 37,
     "metadata": {},
     "output_type": "execute_result"
    }
   ],
   "source": [
    "np.nanmax(dqsat2m_day)"
   ]
  },
  {
   "cell_type": "code",
   "execution_count": 25,
   "metadata": {},
   "outputs": [],
   "source": [
    "num_days = int(qsat_sst.shape[0]/8)\n",
    "qsatsst_day = np.empty((num_days, *qsat_sst.shape[1:]))\n",
    "\n",
    "for i in range(num_days):\n",
    "    qsatsst_day[i] = np.nanmean( qsat_sst[ i*8:(i+1)*8 ,:,:] , axis=0)"
   ]
  },
  {
   "cell_type": "code",
   "execution_count": 27,
   "metadata": {},
   "outputs": [
    {
     "name": "stdout",
     "output_type": "stream",
     "text": [
      "file already exists - DELETING IT and creating it anew\n"
     ]
    }
   ],
   "source": [
    "my_save_data('/venus/tesi_ale/data_EU/QVAPOR/daily/FEB/qsat_sst_day.npy', [qsatsst_day])"
   ]
  },
  {
   "cell_type": "code",
   "execution_count": null,
   "metadata": {},
   "outputs": [],
   "source": []
  },
  {
   "cell_type": "code",
   "execution_count": null,
   "metadata": {},
   "outputs": [],
   "source": []
  },
  {
   "cell_type": "code",
   "execution_count": null,
   "metadata": {},
   "outputs": [],
   "source": []
  },
  {
   "cell_type": "code",
   "execution_count": 4,
   "metadata": {},
   "outputs": [],
   "source": [
    "qsat2m_day = np.load('/venus/tesi_ale/data_EU/QVAPOR/daily/FEB/qsat_2m_day.npy')"
   ]
  },
  {
   "cell_type": "code",
   "execution_count": 35,
   "metadata": {},
   "outputs": [
    {
     "name": "stdout",
     "output_type": "stream",
     "text": [
      "0\n",
      "10\n",
      "20\n"
     ]
    }
   ],
   "source": [
    "# compute anomalies\n",
    "s = 100\n",
    "dqsat2m_day = np.zeros_like(qsat2m_day)\n",
    "dqsat_sst_day = np.zeros_like(qsatsst_day)\n",
    "\n",
    "for t in range(0,qsat2m_day.shape[0]):\n",
    "    if t % 10 == 0:\n",
    "        print(t)\n",
    "    qs2_ave = gm.nan_gaussian_filter(qsat2m_day[t],s)                             \n",
    "    dqsat2m_day[t] = qsat2m_day[t] - qs2_ave\n",
    "    \n",
    "    qs_ave = gm.nan_gaussian_filter(qsatsst_day[t],s)                             \n",
    "    dqsat_sst_day[t] = qsatsst_day[t] - qs_ave\n",
    "    "
   ]
  },
  {
   "cell_type": "code",
   "execution_count": 38,
   "metadata": {},
   "outputs": [
    {
     "name": "stdout",
     "output_type": "stream",
     "text": [
      "file already exists - DELETING IT and creating it anew\n",
      "file already exists - DELETING IT and creating it anew\n"
     ]
    }
   ],
   "source": [
    "my_save_data('/venus/tesi_ale/data_EU/QVAPOR/daily/FEB/dqsat_2m_day.npy', [dqsat2m_day])\n",
    "my_save_data('/venus/tesi_ale/data_EU/QVAPOR/daily/FEB/dqsat_sst_day.npy', [dqsat_sst_day])"
   ]
  },
  {
   "cell_type": "code",
   "execution_count": null,
   "metadata": {},
   "outputs": [],
   "source": []
  },
  {
   "cell_type": "code",
   "execution_count": null,
   "metadata": {},
   "outputs": [],
   "source": []
  },
  {
   "cell_type": "code",
   "execution_count": null,
   "metadata": {},
   "outputs": [],
   "source": []
  },
  {
   "cell_type": "code",
   "execution_count": null,
   "metadata": {},
   "outputs": [],
   "source": []
  },
  {
   "cell_type": "code",
   "execution_count": null,
   "metadata": {},
   "outputs": [],
   "source": [
    "##### QSAT 3D"
   ]
  },
  {
   "cell_type": "code",
   "execution_count": 32,
   "metadata": {},
   "outputs": [],
   "source": [
    "##### calculate here qsat\n",
    "qsat_lst = mpcalc.saturation_mixing_ratio(pres.values*units.hPa,\\\n",
    "                                         temperature.values*units.kelvin).to('kg/kg')\n",
    "\n",
    "qsat_lst = qsat_lst.magnitude\n",
    "qsat_lst = qsat_lst/(1+qsat_lst)"
   ]
  },
  {
   "cell_type": "code",
   "execution_count": 17,
   "metadata": {},
   "outputs": [],
   "source": []
  },
  {
   "cell_type": "code",
   "execution_count": 33,
   "metadata": {},
   "outputs": [],
   "source": [
    "num_days = int(qsat_lst.shape[0]/8)\n",
    "qsat_day_lst = np.empty((num_days, *qsat_lst.shape[1:]))\n",
    "\n",
    "for i in range(num_days):\n",
    "    qsat_day_lst[i] = np.nanmean( qsat_lst[ i*8:(i+1)*8 ,:,:] , axis=0)"
   ]
  },
  {
   "cell_type": "code",
   "execution_count": 34,
   "metadata": {},
   "outputs": [
    {
     "name": "stdout",
     "output_type": "stream",
     "text": [
      "file already exists - DELETING IT and creating it anew\n"
     ]
    }
   ],
   "source": [
    "my_save_data('/venus/tesi_ale/data_EU/QVAPOR/daily/FEB/qsat_day_lst.npy', [qsat_day_lst*1000])\n"
   ]
  },
  {
   "cell_type": "code",
   "execution_count": null,
   "metadata": {},
   "outputs": [],
   "source": []
  },
  {
   "cell_type": "code",
   "execution_count": 36,
   "metadata": {},
   "outputs": [],
   "source": [
    "qsat_day_fst = np.load('/venus/tesi_ale/data_EU/QVAPOR/daily/FEB/qsat_day_fst.npy')\n",
    "qsat_day_snd = np.load('/venus/tesi_ale/data_EU/QVAPOR/daily/FEB/qsat_day_snd.npy')\n",
    "qsat_day_trd = np.load('/venus/tesi_ale/data_EU/QVAPOR/daily/FEB/qsat_day_trd.npy')\n",
    "qsat_day_lst = np.load('/venus/tesi_ale/data_EU/QVAPOR/daily/FEB/qsat_day_lst.npy')"
   ]
  },
  {
   "cell_type": "code",
   "execution_count": 37,
   "metadata": {},
   "outputs": [],
   "source": [
    "qsat_day = np.concatenate([qsat_day_fst,qsat_day_snd,qsat_day_trd,qsat_day_lst], axis=0)"
   ]
  },
  {
   "cell_type": "code",
   "execution_count": 38,
   "metadata": {},
   "outputs": [
    {
     "name": "stdout",
     "output_type": "stream",
     "text": [
      "file already exists - DELETING IT and creating it anew\n"
     ]
    }
   ],
   "source": [
    "my_save_data('/venus/tesi_ale/data_EU/QVAPOR/daily/FEB/qsat_day.npy', [qsat_day])\n"
   ]
  },
  {
   "cell_type": "code",
   "execution_count": 39,
   "metadata": {},
   "outputs": [
    {
     "name": "stdout",
     "output_type": "stream",
     "text": [
      "0\n",
      "10\n",
      "20\n"
     ]
    }
   ],
   "source": [
    "# compute anomalies\n",
    "s = 100\n",
    "dqsat_day = np.zeros_like(qsat_day)\n",
    "\n",
    "for t in range(0,qsat_day.shape[0]):\n",
    "    if t % 10 == 0:\n",
    "        print(t)\n",
    "\n",
    "    for h in range(0,qsat_day.shape[1]):\n",
    "        qsat_ave = gm.nan_gaussian_filter(qsat_day[t,h],s)                             \n",
    "        dqsat_day[t,h] = qsat_day[t,h] - qsat_ave"
   ]
  },
  {
   "cell_type": "code",
   "execution_count": 40,
   "metadata": {},
   "outputs": [
    {
     "name": "stdout",
     "output_type": "stream",
     "text": [
      "file already exists - DELETING IT and creating it anew\n"
     ]
    }
   ],
   "source": [
    "my_save_data('/venus/tesi_ale/data_EU/QVAPOR/daily/FEB/dqsat_day.npy', [dqsat_day])\n"
   ]
  },
  {
   "cell_type": "code",
   "execution_count": null,
   "metadata": {},
   "outputs": [],
   "source": []
  },
  {
   "cell_type": "code",
   "execution_count": null,
   "metadata": {},
   "outputs": [],
   "source": []
  },
  {
   "cell_type": "code",
   "execution_count": null,
   "metadata": {},
   "outputs": [],
   "source": []
  },
  {
   "cell_type": "code",
   "execution_count": null,
   "metadata": {},
   "outputs": [],
   "source": []
  },
  {
   "cell_type": "code",
   "execution_count": null,
   "metadata": {},
   "outputs": [],
   "source": []
  },
  {
   "cell_type": "code",
   "execution_count": null,
   "metadata": {},
   "outputs": [],
   "source": []
  },
  {
   "cell_type": "code",
   "execution_count": null,
   "metadata": {},
   "outputs": [],
   "source": []
  },
  {
   "cell_type": "code",
   "execution_count": null,
   "metadata": {},
   "outputs": [],
   "source": []
  },
  {
   "cell_type": "code",
   "execution_count": 12,
   "metadata": {},
   "outputs": [
    {
     "data": {
      "text/plain": [
       "array([-1.42108547e-14, -4.97379915e-14, -1.42108547e-14, -2.84217094e-14,\n",
       "       -5.68434189e-14, -3.55271368e-14,  0.00000000e+00, -5.68434189e-14,\n",
       "       -2.84217094e-14, -4.26325641e-14, -9.23705556e-14, -4.97379915e-14,\n",
       "       -2.84217094e-14, -7.10542736e-15, -7.10542736e-14, -2.84217094e-14,\n",
       "       -4.26325641e-14, -4.26325641e-14,  0.00000000e+00, -2.84217094e-14,\n",
       "       -2.84217094e-14, -2.13162821e-14, -7.10542736e-15, -2.84217094e-14,\n",
       "       -2.84217094e-14, -4.26325641e-14, -4.26325641e-14, -9.23705556e-14,\n",
       "       -5.68434189e-14])"
      ]
     },
     "execution_count": 12,
     "metadata": {},
     "output_type": "execute_result"
    }
   ],
   "source": [
    "drh_day[:,0,220,330]"
   ]
  },
  {
   "cell_type": "code",
   "execution_count": 9,
   "metadata": {},
   "outputs": [],
   "source": [
    "rh2_day = np.load('/venus/tesi_ale/data_EU/RH/daily/FEB/rh2_day.npy')"
   ]
  },
  {
   "cell_type": "code",
   "execution_count": 11,
   "metadata": {},
   "outputs": [],
   "source": [
    "my_save_data('/venus/tesi_ale/data_EU/RH/daily/FEB/drh2_day.npy', [drh2_day])"
   ]
  },
  {
   "cell_type": "code",
   "execution_count": 7,
   "metadata": {},
   "outputs": [],
   "source": [
    "## load dRH\n",
    "drh_day = np.load('/venus/tesi_ale/data_EU/RH/daily/FEB/drh_day.npy')"
   ]
  },
  {
   "cell_type": "code",
   "execution_count": 23,
   "metadata": {},
   "outputs": [],
   "source": [
    "# correlation quantities\n",
    "\n",
    "L = 30\n",
    "nskip = int(L/2)\n",
    "nt = int(1)\n",
    "\n",
    "# from top pbl upwards\n",
    "Ltop = 150\n",
    "nskiptop = int(Ltop/2)\n",
    "nttop = int(1)\n",
    "\n",
    "# ref mean\n",
    "popmean = 0."
   ]
  },
  {
   "cell_type": "code",
   "execution_count": 24,
   "metadata": {},
   "outputs": [
    {
     "name": "stdout",
     "output_type": "stream",
     "text": [
      "0\n",
      "10\n",
      "20\n",
      "30\n"
     ]
    }
   ],
   "source": [
    "# COMPUTE PERCENTILE DISTRIBUTIONS\n",
    "perc_step = 5\n",
    "nbins = int(100/perc_step) # Number of bins.\n",
    "popmean = 0.\n",
    "\n",
    "pdist_dsst, pdist_drh, pstd_drh, pstderr_drh, pnpoints_drh, ppvalue_drh_sub = \\\n",
    "dist_3d_subsample(dsst_day, drh_day, perc_step, nbins, popmean, nt, nttop, nskip, nskiptop, top=14, perc_fixbin='perc')"
   ]
  },
  {
   "cell_type": "code",
   "execution_count": 25,
   "metadata": {},
   "outputs": [],
   "source": [
    "## load RH\n",
    "my_save_data('/venus/tesi_ale/data_EU/RH/daily/FEB/pdistrs_dSST_dRH_day_feb.npy', [pdist_dsst, pdist_drh, pstd_drh, pstderr_drh, pnpoints_drh, ppvalue_drh_sub])"
   ]
  },
  {
   "cell_type": "code",
   "execution_count": null,
   "metadata": {},
   "outputs": [],
   "source": []
  },
  {
   "cell_type": "code",
   "execution_count": 23,
   "metadata": {},
   "outputs": [],
   "source": [
    "## load PBLH distributions\n",
    "with open('/venus/tesi_ale/data_EU/PBLH/daily/FEB/pdistrs_PBLH_dSST_day_feb.npy', 'rb') as f:\n",
    "    pdist_dsst = np.load(f)\n",
    "    pdist_PBLH_dsst = np.load(f)"
   ]
  },
  {
   "cell_type": "code",
   "execution_count": 26,
   "metadata": {},
   "outputs": [],
   "source": [
    "# compute distributions for PBLH_pres\n",
    "# otherwise cannot be put in the plots\n",
    "'''pdist_dsst, pdist_PBLHpr_dsst, pstd_PBLHpr, pstderr_PBLHpr, ppoints_PBLHpr, pvalue_PBLHpr_perc = \\\n",
    "distrib_2d(dsst_day, PBLH_pres, perc_step, nbins, popmean, perc_fixbin='perc')\n",
    "\n",
    "dist_dsst, dist_PBLHpr_dsst, std_PBLHpr, stderr_PBLHpr, points_PBLHpr, pvalue_PBLHpr_fb = \\\n",
    "distrib_2d(dsst_day, PBLH_pres, perc_step, nbins, popmean, perc_fixbin='fb')'''\n",
    "\n",
    "# distribution_control_fb, distribution_fb, std_err_distribution_fb, number_of_points_fb, p_value"
   ]
  },
  {
   "cell_type": "code",
   "execution_count": 48,
   "metadata": {},
   "outputs": [
    {
     "name": "stdout",
     "output_type": "stream",
     "text": [
      "/venus/tesi_ale/img_EU/RH/daily/FEB/pdist_dsst_drh_lowtropo_hatch.png\n"
     ]
    },
    {
     "data": {
      "image/png": "[encoded data removed]",
      "text/plain": [
       "<Figure size 1000x500 with 2 Axes>"
      ]
     },
     "metadata": {},
     "output_type": "display_data"
    }
   ],
   "source": [
    "p_level_plot = int(15)\n",
    "\n",
    "perc = True\n",
    "title = 'Percentiles' if perc else 'Fixed bins'\n",
    "x = pdist_dsst if perc else dist_dsst\n",
    "var = pdist_drh if perc else dist_drh\n",
    "minval = -1.5 ; maxval = -minval\n",
    "#levs = np.arange(minval, maxval+0.1, 0.1)\n",
    "\n",
    "\n",
    "fig, ax1 = plt.subplots(figsize=(10, 5))  \n",
    "ax1.invert_yaxis()\n",
    "p1 = ax1.pcolormesh(x, mean_vert_pres[0:p_level_plot], var[0:p_level_plot],\\\n",
    "                  vmin=minval, vmax=maxval, cmap='seismic')  #\n",
    "# p1 = ax1.contourf(x, mean_vert_pres[0:p_level_plot], var[0:p_level_plot], \\\n",
    "#                   levels=levs, cmap='seismic')  #vmin=minval, vmax=maxval,\n",
    "ax1.set_xlabel('SST anomalies [˚C]'); ax1.set_ylabel('GPH [m]')\n",
    "plt.title(f'{title} - daily dSST vs dRH')\n",
    "cbar = plt.colorbar(p1,ax=ax1, location='right', shrink=0.8, extend='both')  \n",
    "cbar.set_label('RH anoms [%]')\n",
    "\n",
    "var_pbl = pdist_PBLH_dsst if perc else dist_PBLHpr_dsst\n",
    "ax1.plot(x, var_pbl, '-k', linewidth=2)\n",
    "ax1.text(0.4, 925, 'PBLH', fontsize=12, color='k')\n",
    "\n",
    "\n",
    "\n",
    "# DEF punti significativi (pvalue < 0.05)\n",
    "pval = ppvalue_drh_sub[0:p_level_plot] if perc else pvalue_drh_sub[0:p_level_plot]\n",
    "GPbin = mean_vert_pres[1:p_level_plot] - np.diff(mean_vert_pres[0:p_level_plot])*0.5\n",
    "signif_Lcorr_H = np.zeros((len(mean_vert_pres[0:p_level_plot])-1,len(x)-1))\n",
    "dsstbin = np.zeros((len(mean_vert_pres[0:p_level_plot])-1,len(x)-1))\n",
    "for h in range(0,len(mean_vert_pres[0:p_level_plot])-1):\n",
    "    cond1 = pval[h,:-1] > 0.05\n",
    "    cond2 = np.abs(var[h,:-1]) < 0.1*np.nanmean(np.abs(var))\n",
    "    cond = (cond1) | (cond2)\n",
    "#     cond = cond1\n",
    "    signif_Lcorr_H[h,:] = np.zeros(len(x)-1) + np.nan\n",
    "    signif_Lcorr_H[h, cond] = GPbin[h]\n",
    "    dsstbin[h,:] = x[1:] - np.diff(x)*0.5\n",
    "    \n",
    "plt.scatter(dsstbin,signif_Lcorr_H,  s=0.7, color='k')\n",
    "\n",
    "\n",
    "\n",
    "# savefig\n",
    "path_img = '/venus/tesi_ale/img_EU/RH/daily/FEB/' #if perc else '/venus/tesi_ale/img_EU/RH/daily/bins/FEB/'\n",
    "filename = path_img + 'pdist_dsst_drh_lowtropo_hatch.png' #if perc else path_img + 'bins_dsst_drh_lowtropo_hatch.png'\n",
    "#plt.savefig(filename)\n",
    "print(filename)\n",
    "del filename\n"
   ]
  },
  {
   "cell_type": "code",
   "execution_count": 52,
   "metadata": {},
   "outputs": [
    {
     "data": {
      "text/plain": [
       "954.05237"
      ]
     },
     "execution_count": 52,
     "metadata": {},
     "output_type": "execute_result"
    }
   ],
   "source": [
    "mean_vert_pres[8]"
   ]
  },
  {
   "cell_type": "code",
   "execution_count": 54,
   "metadata": {
    "scrolled": false
   },
   "outputs": [
    {
     "data": {
      "image/png": "[encoded data removed]",
      "text/plain": [
       "<Figure size 640x480 with 1 Axes>"
      ]
     },
     "metadata": {},
     "output_type": "display_data"
    }
   ],
   "source": [
    "plt.errorbar(pdist_dsst, pdist_drh[0,:], yerr=pstderr_drh[0,:], xerr=None,\\\n",
    "             label='1015 hPa', ecolor='b', linestyle='-', color='b')\n",
    "\n",
    "plt.errorbar(pdist_dsst, pdist_drh[8,:], yerr=pstderr_drh[8,:], xerr=None,\\\n",
    "             label='950 hPa', ecolor='g', linestyle='-', color='g')\n",
    "\n",
    "plt.errorbar(pdist_dsst, pdist_drh[11,:], yerr=pstderr_drh[11,:], xerr=None,\\\n",
    "             label='890 hPa', ecolor='r', linestyle='-', color='r')\n",
    "\n",
    "\n",
    "plt.grid()\n",
    "plt.legend()\n",
    "\n",
    "plt.ylabel('RH anoms [%]')\n",
    "plt.xlabel('SST anoms [˚C]')\n",
    "plt.title('dRH at different levels + stderr subspl ')\n",
    "\n",
    "# plt.savefig('/venus/tesi_ale/img_EU/RH/daily/FEB/dRH_levels.png')"
   ]
  },
  {
   "cell_type": "code",
   "execution_count": null,
   "metadata": {},
   "outputs": [],
   "source": []
  },
  {
   "cell_type": "code",
   "execution_count": null,
   "metadata": {},
   "outputs": [],
   "source": []
  },
  {
   "cell_type": "code",
   "execution_count": null,
   "metadata": {},
   "outputs": [],
   "source": []
  },
  {
   "cell_type": "code",
   "execution_count": null,
   "metadata": {},
   "outputs": [],
   "source": [
    "# study distributions of saturation mixing ratio"
   ]
  },
  {
   "cell_type": "code",
   "execution_count": 16,
   "metadata": {},
   "outputs": [],
   "source": [
    "'''temperature = temperature.where(sea_mask, drop=False)'''"
   ]
  },
  {
   "cell_type": "code",
   "execution_count": null,
   "metadata": {},
   "outputs": [],
   "source": [
    "'''qsat_full_fields = mpcalc.saturation_mixing_ratio(pres*units.hPa,temperature*units.K).to('g/kg')'''"
   ]
  },
  {
   "cell_type": "code",
   "execution_count": 18,
   "metadata": {},
   "outputs": [],
   "source": [
    "#####  NOW APPLY DAILY MEAN TO PRES\n",
    "pres_day = pres.groupby('time_counter.day').mean()\n",
    "# T_day = temperature.groupby('time_counter.day').mean()"
   ]
  },
  {
   "cell_type": "code",
   "execution_count": 23,
   "metadata": {},
   "outputs": [],
   "source": [
    "qsat_avg_fields = mpcalc.saturation_mixing_ratio(pres_day.values*units.hPa,temperature.values*units.kelvin).to('g/kg')"
   ]
  },
  {
   "cell_type": "code",
   "execution_count": null,
   "metadata": {},
   "outputs": [],
   "source": []
  },
  {
   "cell_type": "code",
   "execution_count": null,
   "metadata": {},
   "outputs": [],
   "source": []
  },
  {
   "cell_type": "code",
   "execution_count": 25,
   "metadata": {},
   "outputs": [
    {
     "name": "stdout",
     "output_type": "stream",
     "text": [
      "0\n",
      "10\n",
      "20\n"
     ]
    }
   ],
   "source": [
    "s = 100\n",
    "\n",
    "dqsat_avg = np.zeros(qsat_avg_fields.shape)\n",
    "\n",
    "for t in range(0,sst_day.shape[0]):\n",
    "    if t % 10 == 0:\n",
    "        print(t)\n",
    "    # upscale using gaussian filter\n",
    "    for h in range(0,qsat_avg_fields.shape[1]):\n",
    "        q_ave = gm.nan_gaussian_filter(qsat_avg_fields[t,h].magnitude,s)                            \n",
    "        dqsat_avg[t,h] = qsat_avg_fields[t,h].magnitude - q_ave"
   ]
  },
  {
   "cell_type": "code",
   "execution_count": 27,
   "metadata": {},
   "outputs": [],
   "source": [
    "my_save_data('/venus/tesi_ale/data_EU/QVAPOR/daily/FEB/dQSAT_avgfields_day_feb.npy', [dqsat_avg])"
   ]
  },
  {
   "cell_type": "code",
   "execution_count": null,
   "metadata": {},
   "outputs": [],
   "source": []
  },
  {
   "cell_type": "code",
   "execution_count": null,
   "metadata": {},
   "outputs": [],
   "source": []
  },
  {
   "cell_type": "code",
   "execution_count": 28,
   "metadata": {},
   "outputs": [],
   "source": [
    "with open('/venus/tesi_ale/data_EU/SST/daily/FEB/dSST_day_feb.npy', 'rb') as f:\n",
    "    dsst_day = np.load(f)"
   ]
  },
  {
   "cell_type": "code",
   "execution_count": 35,
   "metadata": {},
   "outputs": [],
   "source": [
    "with open('/venus/tesi_ale/data_EU/PBLH/daily/FEB/pdistrs_PBLH_dSST_day_feb.npy', 'rb') as f:\n",
    "    miao = np.load(f)\n",
    "    pdist_PBLH_dsst = np.load(f)\n",
    "    del miao \n",
    "    f.close()"
   ]
  },
  {
   "cell_type": "code",
   "execution_count": 30,
   "metadata": {},
   "outputs": [
    {
     "name": "stdout",
     "output_type": "stream",
     "text": [
      "0\n",
      "10\n",
      "20\n",
      "30\n"
     ]
    }
   ],
   "source": [
    "# PERC DISTRIBUTION dQVAPOR vs dSST - DAILY + PVALUE SUBSAMPLED height dependent\n",
    "perc_step = 5\n",
    "nbins = int(100/perc_step) # Number of bins.\n",
    "\n",
    "# percentiles\n",
    "# x,y,perc_step, nbins, popmean, nt, nttop, nskip, nskiptop, top, perc_fixbin\n",
    "# dist_x, dist_y, std_y, stderr_y, npoints_y, pvalue_y, pvalue_y_sub\n",
    "\n",
    "pdist_dsst, pdist_qsat, pstd_qsat, pstderr_qsat, pnpoints_qsat, ppvalue_qsat_sub = \\\n",
    "dist_3d_subsample(dsst_day, dqsat_avg, perc_step, nbins, popmean, nt, nttop, nskip, nskiptop, top=14, perc_fixbin='perc')\n",
    "\n",
    "\n",
    "my_save_data('/venus/tesi_ale/data_EU/QVAPOR/daily/FEB/pdistrs_dsst_dQSAT_avgfields_day_feb.npy', [pdist_dsst, pdist_qsat, pstd_qsat, pstderr_qsat, pnpoints_qsat, ppvalue_qsat_sub])"
   ]
  },
  {
   "cell_type": "code",
   "execution_count": 39,
   "metadata": {},
   "outputs": [],
   "source": []
  },
  {
   "cell_type": "code",
   "execution_count": 31,
   "metadata": {},
   "outputs": [],
   "source": [
    "### LOAD PRESSURE COLUMN\n",
    "mean_vert_pres = np.load('/venus/tesi_ale/data_EU/PRES/daily/FEB/mean_vert_pres.npy')"
   ]
  },
  {
   "cell_type": "code",
   "execution_count": 38,
   "metadata": {},
   "outputs": [
    {
     "name": "stdout",
     "output_type": "stream",
     "text": [
      "/venus/tesi_ale/img_EU/QVAPOR/daily/FEB/pdist_dsst_dQSAT_avgfields_lowtropo_hatch.png\n"
     ]
    },
    {
     "data": {
      "image/png": "[encoded data removed]",
      "text/plain": [
       "<Figure size 1000x500 with 2 Axes>"
      ]
     },
     "metadata": {},
     "output_type": "display_data"
    }
   ],
   "source": [
    "p_level_plot = int(15)\n",
    "\n",
    "perc = True\n",
    "title = 'Percentiles' #if perc else 'Fixed bins'\n",
    "x = pdist_dsst #if perc else dist_dsst\n",
    "var = pdist_qsat #if perc else dist_drh\n",
    "minval = -.3 ; maxval = -minval\n",
    "#levs = np.arange(minval, maxval+0.1, 0.1)\n",
    "\n",
    "\n",
    "fig, ax1 = plt.subplots(figsize=(10, 5))  \n",
    "ax1.invert_yaxis()\n",
    "p1 = ax1.pcolormesh(x, mean_vert_pres[0:p_level_plot], var[0:p_level_plot],\\\n",
    "                  vmin=minval, vmax=maxval, cmap='seismic')  #\n",
    "ax1.set_xlabel('SST anomalies [˚C]'); ax1.set_ylabel('pressure [hPa]')\n",
    "plt.title(str(title)+' - daily dSST vs d$Q_{sat}$')\n",
    "cbar = plt.colorbar(p1,ax=ax1, location='right', shrink=0.8, extend='both')  \n",
    "cbar.set_label('$Q_{sat}$ anoms [g/kg]')\n",
    "\n",
    "var_pbl = pdist_PBLH_dsst if perc else dist_PBLHpr_dsst\n",
    "ax1.plot(x, var_pbl, '-k', linewidth=2)\n",
    "ax1.text(0.4, 925, 'PBLH', fontsize=12, color='k')\n",
    "\n",
    "\n",
    "\n",
    "# DEF punti significativi (pvalue < 0.05)\n",
    "pval = ppvalue_qsat_sub[0:p_level_plot] #if perc else pvalue_drh_sub[0:p_level_plot]\n",
    "GPbin = mean_vert_pres[1:p_level_plot] - np.diff(mean_vert_pres[0:p_level_plot])*0.5\n",
    "signif_Lcorr_H = np.zeros((len(mean_vert_pres[0:p_level_plot])-1,len(x)-1))\n",
    "dsstbin = np.zeros((len(mean_vert_pres[0:p_level_plot])-1,len(x)-1))\n",
    "for h in range(0,len(mean_vert_pres[0:p_level_plot])-1):\n",
    "    cond1 = pval[h,:-1] > 0.05\n",
    "    cond2 = np.abs(var[h,:-1]) < 0.1*np.nanmean(np.abs(var))\n",
    "    cond = (cond1) | (cond2)\n",
    "#     cond = cond1\n",
    "    signif_Lcorr_H[h,:] = np.zeros(len(x)-1) + np.nan\n",
    "    signif_Lcorr_H[h, cond] = GPbin[h]\n",
    "    dsstbin[h,:] = x[1:] - np.diff(x)*0.5\n",
    "    \n",
    "plt.scatter(dsstbin,signif_Lcorr_H,  s=0.7, color='k')\n",
    "\n",
    "\n",
    "\n",
    "# savefig\n",
    "path_img = '/venus/tesi_ale/img_EU/QVAPOR/daily/FEB/' #if perc else '/venus/tesi_ale/img_EU/RH/daily/bins/FEB/'\n",
    "filename = path_img + 'pdist_dsst_dQSAT_avgfields_lowtropo_hatch.png' #if perc else path_img + 'bins_dsst_drh_lowtropo_hatch.png'\n",
    "# plt.savefig(filename)\n",
    "print(filename)\n",
    "del filename"
   ]
  },
  {
   "cell_type": "code",
   "execution_count": null,
   "metadata": {},
   "outputs": [],
   "source": []
  },
  {
   "cell_type": "code",
   "execution_count": null,
   "metadata": {},
   "outputs": [],
   "source": []
  },
  {
   "cell_type": "code",
   "execution_count": null,
   "metadata": {},
   "outputs": [],
   "source": []
  }
 ],
 "metadata": {
  "interpreter": {
   "hash": "6c158dc727e3f7af5cb4f82910b7b5790878aa8c7ec1ebd135cc0211776867c6"
  },
  "kernelspec": {
   "display_name": "Python 3 (ipykernel)",
   "language": "python",
   "name": "python3"
  },
  "language_info": {
   "codemirror_mode": {
    "name": "ipython",
    "version": 3
   },
   "file_extension": ".py",
   "mimetype": "text/x-python",
   "name": "python",
   "nbconvert_exporter": "python",
   "pygments_lexer": "ipython3",
   "version": "3.7.11"
  }
 },
 "nbformat": 4,
 "nbformat_minor": 2
}
