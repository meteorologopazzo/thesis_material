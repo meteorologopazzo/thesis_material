{
 "cells": [
  {
   "cell_type": "code",
   "execution_count": null,
   "id": "4ca6a745",
   "metadata": {},
   "outputs": [],
   "source": [
    "import numpy as np\n",
    "import pandas as pd\n",
    "import glob\n",
    "import xarray as xr\n",
    "import matplotlib.pyplot as plt\n",
    "from scipy import stats\n",
    "\n",
    "import sys; sys.path.insert(1, '/home/alessandro/thesis_material/EURECA_scripts')\n",
    "import os\n",
    "\n",
    "import geometry as gm\n",
    "#import conversion as cnv\n",
    "from func_statistics import compute_pdf_nbin, slopes_r_p, slopes_r_p_onlysub, slopes_r_p_mix, slope_time, slope_maps\n",
    "import regression\n",
    "#from coare_functions import *\n",
    "import meteo\n",
    "import lcl\n",
    "import metpy.calc as mpcalc\n",
    "from metpy.units import units\n",
    "\n",
    "\n",
    "import cartopy.crs as ccrs\n",
    "crs = ccrs.PlateCarree()\n",
    "#from plotmap import plot_background\n",
    "from plotdistr import * #fb_distribution_npoint, perc_distribution, scatterplot_fit, hist2d\n",
    "from pdist_fb_distrib_save_fast import *\n",
    "\n",
    "import warnings; warnings.filterwarnings(\"ignore\")"
   ]
  },
  {
   "cell_type": "code",
   "execution_count": null,
   "id": "fc12531d",
   "metadata": {},
   "outputs": [],
   "source": [
    "%load_ext autoreload\n",
    "%autoreload 2"
   ]
  },
  {
   "cell_type": "code",
   "execution_count": null,
   "id": "4f9be9fe",
   "metadata": {},
   "outputs": [],
   "source": [
    "import os\n",
    "if os.path.exists('/home/alessandro/thesis_material/EURECA_scripts/masks/sea_mask_EU_noWarmPatch_noWest.npy'):\n",
    "    sea_mask_modified = np.load('/home/alessandro/thesis_material/EURECA_scripts/masks/sea_mask_EU_noWarmPatch_noWest.npy')\n",
    "\n",
    "if os.path.exists('/home/alessandro/thesis_material/EURECA_scripts/masks/sea_mask_EU_new.npy'):\n",
    "    sea_mask = np.load('/home/alessandro/thesis_material/EURECA_scripts/masks/sea_mask_EU_new.npy')"
   ]
  },
  {
   "cell_type": "code",
   "execution_count": null,
   "id": "b476fe55",
   "metadata": {},
   "outputs": [],
   "source": [
    "# read  data\n",
    "path = '/saturn/simu_Caribbean/coupled_2km/output/'\n",
    "files_ls = ['QCLOUD', 'U', 'V', 'W', 'OLR', 'PH', 'PHB', 'QVAPOR', 'PB', 'P', 'T']\n",
    "files_ls = [name + '.nc' for name in files_ls]\n",
    "wrf_files = [path+name for name in files_ls]\n",
    "\n",
    "# open dataset with this line of code e.g. \n",
    "# xr.open_dataset(wrf_files[files_ls.index('PB.nc')])"
   ]
  },
  {
   "cell_type": "code",
   "execution_count": null,
   "id": "def5a1f6",
   "metadata": {},
   "outputs": [],
   "source": [
    "wrf_hourly = path + 'Caraibes_WRF_3h_surf.nc'\n",
    "ds_hourly = xr.open_dataset(wrf_hourly)\n",
    "ds_hourly = ds_hourly.sel(time_counter=slice('2020-02-01T01:30:00.000000000', '2020-02-29T22:30:00.000000000'))\n",
    "\n",
    "sst_day = ds_hourly['SST'].groupby('time_counter.day').mean()            \n",
    "sst_day = sst_day.where(sea_mask_modified, drop=False); \n",
    "sst_day -= 273.15\n",
    "\n",
    "lon, lat = sst_day.nav_lon, sst_day.nav_lat\n",
    "\n",
    "# ta_day = ds_hourly['T2'].groupby('time_counter.day').mean()            \n",
    "# ta_day = ta_day.where(sea_mask_modified, drop=False); \n",
    "# ta_day -= 273.15\n",
    "\n",
    "#### \"buoyancy\"\n",
    "# Dt_day = sst_day - ta_day\n",
    "\n",
    "q2_day = ds_hourly['Q2'].groupby('time_counter.day').mean()            \n",
    "q2_day = q2_day.where(sea_mask_modified, drop=False);    # kg/kg\n",
    "\n",
    "\n",
    "\n",
    "# my_method = False\n",
    "\n",
    "# if not my_method:\n",
    "#     # daily variables\n",
    "#     p0 = 101300.\n",
    "#     RH_day = q2_day/q_sat(ta_day,p0)\n",
    "# elif my_method:\n",
    "#     RH_day = xr.open_dataset('/venus/tesi_ale/data_EU/RH/daily/FEB/RH.nc')\n",
    "#     RH_day = RH_day['rh2_day'].where(sea_mask_modified, drop=False).groupby('time_counter.day').mean()/100.   \n"
   ]
  },
  {
   "cell_type": "code",
   "execution_count": null,
   "id": "57eccf78",
   "metadata": {},
   "outputs": [],
   "source": []
  },
  {
   "cell_type": "code",
   "execution_count": null,
   "id": "6ca24583",
   "metadata": {},
   "outputs": [],
   "source": []
  },
  {
   "cell_type": "code",
   "execution_count": null,
   "id": "72be4a2b",
   "metadata": {},
   "outputs": [],
   "source": [
    "U, V = xr.open_dataset(wrf_files[files_ls.index('U.nc')]), xr.open_dataset(wrf_files[files_ls.index('V.nc')])\n",
    "    U = U['U'].sel(time_counter=slice('2020-02-01T01:30:00.000000000', '2020-02-29T22:30:00.000000000'))\n",
    "    V = V['V'].sel(time_counter=slice('2020-02-01T01:30:00.000000000', '2020-02-29T22:30:00.000000000'))\n",
    "\n",
    "    U10, V10 = U[:,0,:,:], V[:,0,:,:]    #0.5*(U[:,0,:,:]+U[:,1,:,:]), 0.5*(V[:,0,:,:]+V[:,1,:,:])\n",
    "    U10, V10 = 0.5*(U10[:,:,0:-1]+U10[:,:,1:]) , 0.5*(V10[:,0:-1,:]+V10[:,1:,:])\n",
    "\n",
    "    U10, V10 = U10.where(sea_mask_modified, drop=False).values, V10.where(sea_mask_modified, drop=False).values\n",
    "    ws_10 = (U10**2+V10**2)**0.5\n",
    "\n",
    "\n",
    "    ## daily mean of wind speed\n",
    "    ws10_day = np.zeros((29,)+ws_10.shape[1:])\n",
    "    i = np.arange(29).astype(int)\n",
    "    for j in i:\n",
    "        ws10_day[j] = np.nanmean(ws_10[j*8:(j+1)*8], axis=0)\n",
    "\n",
    "    del ws_10"
   ]
  }
 ],
 "metadata": {
  "kernelspec": {
   "display_name": "Python 3 (ipykernel)",
   "language": "python",
   "name": "python3"
  },
  "language_info": {
   "codemirror_mode": {
    "name": "ipython",
    "version": 3
   },
   "file_extension": ".py",
   "mimetype": "text/x-python",
   "name": "python",
   "nbconvert_exporter": "python",
   "pygments_lexer": "ipython3",
   "version": "3.7.11"
  }
 },
 "nbformat": 4,
 "nbformat_minor": 5
}
