{
 "cells": [
  {
   "cell_type": "code",
   "execution_count": 1,
   "id": "45338470",
   "metadata": {},
   "outputs": [],
   "source": [
    "import numpy as np\n",
    "import pandas as pd\n",
    "import glob\n",
    "import xarray as xr\n",
    "import matplotlib.pyplot as plt\n",
    "from scipy import stats\n",
    "\n",
    "import sys; sys.path.insert(1, '/home/alessandro/thesis_material')\n",
    "import os\n",
    "\n",
    "import geometry as gm\n",
    "#import conversion as cnv\n",
    "from func_statistics import compute_pdf_nbin, slopes_r_p, slope_time, slope_maps\n",
    "#from coare_functions import *\n",
    "import meteo\n",
    "import lcl\n",
    "import metpy.calc as mpcalc\n",
    "from metpy.units import units\n",
    "\n",
    "\n",
    "import cartopy.crs as ccrs\n",
    "crs = ccrs.PlateCarree()\n",
    "#from plotmap import plot_background\n",
    "from plotdistr import * #fb_distribution_npoint, perc_distribution, scatterplot_fit, hist2d\n",
    "from pdist_fb_distrib_save_fast import *\n",
    "\n",
    "import warnings; warnings.filterwarnings(\"ignore\")"
   ]
  },
  {
   "cell_type": "code",
   "execution_count": 2,
   "id": "1524143c",
   "metadata": {},
   "outputs": [],
   "source": [
    "%load_ext autoreload\n",
    "%autoreload 2"
   ]
  },
  {
   "cell_type": "code",
   "execution_count": 3,
   "id": "da030167",
   "metadata": {},
   "outputs": [],
   "source": [
    "# find data\n",
    "path = '/saturn/simu_Caribbean/coupled_2km/output/'\n",
    "files_ls = ['QCLOUD', 'U', 'V', 'W', 'OLR', 'PH', 'PHB', 'QVAPOR', 'PB', 'P', 'T']\n",
    "files_ls = [name + '.nc' for name in files_ls]\n",
    "wrf_files = [path+name for name in files_ls]\n",
    "#fname_list = sorted(glob.glob(wrf_files + '*'))"
   ]
  },
  {
   "cell_type": "code",
   "execution_count": 4,
   "id": "fd95771a",
   "metadata": {},
   "outputs": [],
   "source": [
    "# import sea_mask\n",
    "if os.path.exists('/home/alessandro/thesis_material/EURECA_scripts/sea_mask_EU_new.npy'):\n",
    "    sea_mask = np.load('/home/alessandro/thesis_material/EURECA_scripts/sea_mask_EU_new.npy')"
   ]
  },
  {
   "cell_type": "code",
   "execution_count": null,
   "id": "6bdeec7c",
   "metadata": {},
   "outputs": [],
   "source": []
  },
  {
   "cell_type": "code",
   "execution_count": 5,
   "id": "2df39203",
   "metadata": {},
   "outputs": [],
   "source": [
    "# reading qcloud\n",
    "QCLOUD = xr.open_dataset(wrf_files[files_ls.index('QCLOUD.nc')])\n",
    "QCLOUD_feb = QCLOUD['QCLOUD'].sel(time_counter=slice('2020-02-01T01:30:00.000000000', '2020-03-01T01:30:00.000000000')).groupby('time_counter.day').mean()\n",
    "# QCLOUD_jan = QCLOUD['QCLOUD'].sel(time_counter=slice('2020-01-01T01:30:00.000000000', '2020-02-01T01:30:00.000000000')).groupby('time_counter.day').mean()\n",
    "# QCLOUD_dec = QCLOUD['QCLOUD'].sel(time_counter=slice('2019-12-01T01:30:00.000000000', '2020-01-01T01:30:00.000000000')).groupby('time_counter.day').mean()"
   ]
  },
  {
   "cell_type": "code",
   "execution_count": 6,
   "id": "9b380e61",
   "metadata": {},
   "outputs": [],
   "source": [
    "# QCLOUD = xr.concat([QCLOUD_dec,QCLOUD_jan,QCLOUD_feb], dim='day')\n",
    "QCLOUD = QCLOUD_feb\n",
    "QCLOUD = QCLOUD.where(sea_mask, drop=False)\n",
    "\n",
    "del QCLOUD_feb   #QCLOUD_dec,QCLOUD_jan,QCLOUD_feb"
   ]
  },
  {
   "cell_type": "code",
   "execution_count": null,
   "id": "4fcaf869",
   "metadata": {},
   "outputs": [],
   "source": []
  },
  {
   "cell_type": "code",
   "execution_count": null,
   "id": "e40703cd",
   "metadata": {},
   "outputs": [],
   "source": []
  },
  {
   "cell_type": "code",
   "execution_count": 7,
   "id": "cdaaaa39",
   "metadata": {},
   "outputs": [],
   "source": [
    "###   RETRIEVE PRESSURE   -  MOSTLY FOR PLOTTING\n",
    "\n",
    "pres_base = xr.open_dataset(wrf_files[files_ls.index('PB.nc')])\n",
    "pres_base = pres_base['PB']\n",
    "\n",
    "pres = xr.open_dataset(wrf_files[files_ls.index('P.nc')])\n",
    "pres = pres['P'].sel(time_counter=slice('2020-02-01T01:30:00.000000000', '2020-03-01T01:30:00.000000000'))\n"
   ]
  },
  {
   "cell_type": "code",
   "execution_count": 8,
   "id": "f8439a90",
   "metadata": {},
   "outputs": [],
   "source": [
    "pres = (pres+pres_base)/100.                # hectoPascals\n",
    "pres = pres.where(sea_mask, drop=False)\n",
    "\n",
    "del pres_base"
   ]
  },
  {
   "cell_type": "code",
   "execution_count": 9,
   "id": "27a82b1b",
   "metadata": {},
   "outputs": [],
   "source": [
    "# mean base pressure over domain\n",
    "mean_vert_pres = np.nanmean(pres, axis=(0,2,3))"
   ]
  },
  {
   "cell_type": "code",
   "execution_count": null,
   "id": "c88cfb50",
   "metadata": {},
   "outputs": [],
   "source": [
    "### LOAD PRESSURE COLUMN\n",
    "mean_vert_pres = np.load('/venus/tesi_ale/data_EU/PRES/daily/FEB/mean_vert_pres.npy')"
   ]
  },
  {
   "cell_type": "code",
   "execution_count": null,
   "id": "3d48b194",
   "metadata": {},
   "outputs": [],
   "source": []
  },
  {
   "cell_type": "code",
   "execution_count": 9,
   "id": "19c6457c",
   "metadata": {},
   "outputs": [],
   "source": [
    "# reading geopotential height\n",
    "GPH_base = xr.open_dataset(wrf_files[files_ls.index('PHB.nc')])\n",
    "GPH_base = GPH_base['PHB']"
   ]
  },
  {
   "cell_type": "code",
   "execution_count": 10,
   "id": "e0e13706",
   "metadata": {},
   "outputs": [],
   "source": [
    "GPH = xr.open_dataset(wrf_files[files_ls.index('PH.nc')])"
   ]
  },
  {
   "cell_type": "code",
   "execution_count": 11,
   "id": "d9c9cf30",
   "metadata": {},
   "outputs": [],
   "source": [
    "'''GPH_dec = GPH['PH'].sel(time_counter=slice('2019-12-01T01:30:00.000000000', '2020-01-01T01:30:00.000000000')).groupby('time_counter.day').mean()\n",
    "GPH_jan = GPH['PH'].sel(time_counter=slice('2020-01-01T01:30:00.000000000', '2020-02-01T01:30:00.000000000')).groupby('time_counter.day').mean()'''\n",
    "GPH_feb = GPH['PH'].sel(time_counter=slice('2020-02-01T01:30:00.000000000', '2020-03-01T01:30:00.000000000')).groupby('time_counter.day').mean()\n",
    "\n",
    "GPH = GPH_feb"
   ]
  },
  {
   "cell_type": "code",
   "execution_count": 12,
   "id": "dba3df7b",
   "metadata": {},
   "outputs": [],
   "source": [
    "'''GPH = xr.concat([GPH_dec,GPH_jan,GPH_feb], dim='day')'''\n",
    "\n",
    "del GPH_feb #GPH_dec,GPH_jan,GPH_feb"
   ]
  },
  {
   "cell_type": "code",
   "execution_count": 13,
   "id": "98d44904",
   "metadata": {},
   "outputs": [],
   "source": [
    "GPH = (GPH + GPH_base)/9.81\n",
    "GPH = GPH.where(sea_mask, drop=False)"
   ]
  },
  {
   "cell_type": "code",
   "execution_count": 14,
   "id": "73cd51e4",
   "metadata": {},
   "outputs": [],
   "source": [
    "# vertical interpolation of geopotential\n",
    "i = np.arange(0,39)\n",
    "GPH = (GPH[:,i+1,:,:]+GPH[:,i,:,:])*0.5\n",
    "\n",
    "GPH_mean = GPH.mean(axis=(0,2,3))"
   ]
  },
  {
   "cell_type": "code",
   "execution_count": null,
   "id": "d1ab220f",
   "metadata": {},
   "outputs": [],
   "source": []
  },
  {
   "cell_type": "code",
   "execution_count": null,
   "id": "f252f367",
   "metadata": {},
   "outputs": [],
   "source": []
  },
  {
   "cell_type": "code",
   "execution_count": null,
   "id": "2053dba3",
   "metadata": {},
   "outputs": [],
   "source": [
    "# retrieve SST and PBLH"
   ]
  },
  {
   "cell_type": "code",
   "execution_count": null,
   "id": "94f69842",
   "metadata": {},
   "outputs": [],
   "source": []
  },
  {
   "cell_type": "code",
   "execution_count": 30,
   "id": "18beab44",
   "metadata": {},
   "outputs": [],
   "source": [
    "wrf_hourly = path + 'Caraibes_WRF_3h_surf.nc'\n",
    "ds_hourly = xr.open_dataset(wrf_hourly)\n",
    "ds_hourly = ds_hourly.sel(time_counter=slice('2019-12-01T01:30:00.000000000', '2020-03-01T01:30:00.000000000'))"
   ]
  },
  {
   "cell_type": "code",
   "execution_count": 31,
   "id": "212d4cae",
   "metadata": {},
   "outputs": [],
   "source": [
    "'''sst_dec = ds_hourly['SST'].sel(time_counter=slice('2019-12-01T01:30:00.000000000', '2020-01-01T01:30:00.000000000')).groupby('time_counter.day').mean()            \n",
    "sst_jan = ds_hourly['SST'].sel(time_counter=slice('2020-01-01T01:30:00.000000000', '2020-02-01T01:30:00.000000000')).groupby('time_counter.day').mean()'''            \n",
    "sst_feb = ds_hourly['SST'].sel(time_counter=slice('2020-02-01T01:30:00.000000000', '2020-03-01T01:30:00.000000000')).groupby('time_counter.day').mean()            \n",
    "\n",
    "sst_day = sst_feb   #xr.concat([sst_dec, sst_jan, sst_feb], dim='day')\n",
    "\n",
    "del sst_feb  #sst_dec, sst_jan, sst_feb"
   ]
  },
  {
   "cell_type": "code",
   "execution_count": 32,
   "id": "b1b18252",
   "metadata": {},
   "outputs": [],
   "source": [
    "sst_day = sst_day.where(sea_mask, drop=False)"
   ]
  },
  {
   "cell_type": "code",
   "execution_count": 6,
   "id": "9d701e7a",
   "metadata": {},
   "outputs": [],
   "source": [
    "# lat and lon\n",
    "lon_M = ds_hourly['nav_lon'].values\n",
    "lat_M = ds_hourly['nav_lat'].values"
   ]
  },
  {
   "cell_type": "code",
   "execution_count": null,
   "id": "5a4254d5",
   "metadata": {},
   "outputs": [],
   "source": []
  },
  {
   "cell_type": "code",
   "execution_count": 19,
   "id": "6319dc91",
   "metadata": {},
   "outputs": [],
   "source": [
    "# PBLH\n",
    "'''PBLH_dec = ds_hourly['PBLH'].sel(time_counter=slice('2019-12-01T01:30:00.000000000', '2020-01-01T01:30:00.000000000')).groupby('time_counter.day').mean()            \n",
    "PBLH_jan = ds_hourly['PBLH'].sel(time_counter=slice('2020-01-01T01:30:00.000000000', '2020-02-01T01:30:00.000000000')).groupby('time_counter.day').mean()'''            \n",
    "PBLH_feb = ds_hourly['PBLH'].sel(time_counter=slice('2020-02-01T01:30:00.000000000', '2020-03-01T01:30:00.000000000')).groupby('time_counter.day').mean()            \n",
    "\n",
    "PBLH_day = PBLH_feb   #xr.concat([PBLH_dec, PBLH_jan, PBLH_feb], dim='day')\n",
    "\n",
    "del PBLH_feb  #  PBLH_dec, PBLH_jan, PBLH_feb "
   ]
  },
  {
   "cell_type": "code",
   "execution_count": 20,
   "id": "d963b101",
   "metadata": {},
   "outputs": [],
   "source": [
    "PBLH_day = PBLH_day.where(sea_mask, drop=False)"
   ]
  },
  {
   "cell_type": "code",
   "execution_count": null,
   "id": "d536ac6e",
   "metadata": {},
   "outputs": [],
   "source": []
  },
  {
   "cell_type": "code",
   "execution_count": null,
   "id": "240ffe46",
   "metadata": {},
   "outputs": [],
   "source": []
  },
  {
   "cell_type": "code",
   "execution_count": null,
   "id": "e0555afb",
   "metadata": {},
   "outputs": [],
   "source": [
    "T2 = ds_hourly['T2'].groupby('time_counter.day').mean()\n",
    "T2 = T2.where(sea_mask, drop=False).values"
   ]
  },
  {
   "cell_type": "code",
   "execution_count": null,
   "id": "8d2a14e7",
   "metadata": {},
   "outputs": [],
   "source": [
    "buoya = sst_day - T2"
   ]
  },
  {
   "cell_type": "code",
   "execution_count": null,
   "id": "ec558a22",
   "metadata": {},
   "outputs": [],
   "source": []
  },
  {
   "cell_type": "code",
   "execution_count": null,
   "id": "8ffec101",
   "metadata": {},
   "outputs": [],
   "source": []
  },
  {
   "cell_type": "code",
   "execution_count": null,
   "id": "6a78c1e2",
   "metadata": {},
   "outputs": [],
   "source": []
  },
  {
   "cell_type": "code",
   "execution_count": null,
   "id": "c7e2a0ac",
   "metadata": {},
   "outputs": [],
   "source": [
    "# distributions QCLOUD data - full dataset"
   ]
  },
  {
   "cell_type": "code",
   "execution_count": 15,
   "id": "c4f587b9",
   "metadata": {},
   "outputs": [],
   "source": [
    "# MATTE AVEVA GIA' CALCOLATO TUTTE LE CORRELAZIONI \n",
    "# E HA STIMATO QUESTA LUNGHEZZA?\n",
    "L = 30\n",
    "nskip = int(L/2)\n",
    "nt = int(1)\n",
    "\n",
    "# from top pbl upwards\n",
    "# SOPRA PBL LA LUNGEHZZA DI CORRELAZIONE AUMENTA?\n",
    "# NEL SENSO CHE I SEGNALI HANNO PIù SPAZIO PER PROPAGARSI?\n",
    "Ltop = 150\n",
    "nskiptop = int(Ltop/2)\n",
    "nttop = int(1)\n",
    "\n",
    "# reference population mean\n",
    "popmean = 0.\n",
    "\n",
    "perc_step = 5\n",
    "nbins = int(100/perc_step) # Number of bins."
   ]
  },
  {
   "cell_type": "code",
   "execution_count": 35,
   "id": "2ecc3dff",
   "metadata": {},
   "outputs": [
    {
     "name": "stdout",
     "output_type": "stream",
     "text": [
      "0\n",
      "10\n",
      "20\n",
      "30\n"
     ]
    }
   ],
   "source": [
    "# percentiles\n",
    "# x,y,perc_step, nbins, popmean, nt, nttop, nskip, nskiptop, top, perc_fixbin\n",
    "# dist_x, dist_y, std_y, stderr_y, npoints_y, pvalue_y, pvalue_y_sub\n",
    "\n",
    "\n",
    "pdist_sst, pdist_QCLOUD, pstd_QCLOUD, pstderr_QCLOUD, pnpoints_QCLOUD, ppvalue_QCLOUD_sub = \\\n",
    "dist_3d_subsample(sst_day.values, QCLOUD.values, perc_step, nbins, popmean, nt, nttop, nskip, nskiptop, top=14, perc_fixbin='perc')"
   ]
  },
  {
   "cell_type": "code",
   "execution_count": 36,
   "id": "f9e51fc0",
   "metadata": {},
   "outputs": [],
   "source": [
    "## save data\n",
    "p_cl_sst = [pdist_sst, pdist_QCLOUD, pstd_QCLOUD, pstderr_QCLOUD, pnpoints_QCLOUD, ppvalue_QCLOUD_sub]\n",
    "my_save_data('/venus/tesi_ale/data_EU/QCLOUD/daily/FEB/pdistrs_QCLOUD_SST_day_feb.npy', p_cl_sst)"
   ]
  },
  {
   "cell_type": "code",
   "execution_count": 23,
   "id": "d65b2a9e",
   "metadata": {},
   "outputs": [
    {
     "name": "stdout",
     "output_type": "stream",
     "text": [
      "0\n",
      "10\n",
      "20\n",
      "30\n"
     ]
    }
   ],
   "source": [
    "'''# bins\n",
    "dist_sst, dist_QCLOUD, std_QCLOUD, stderr_QCLOUD, npoints_QCLOUD, pvalue_QCLOUD_sub = \\\n",
    "dist_3d_subsample(sst_day.values, QCLOUD.values, perc_step, nbins, popmean, nt, nttop, nskip, nskiptop, top=14, perc_fixbin='fb')'''"
   ]
  },
  {
   "cell_type": "code",
   "execution_count": 37,
   "id": "b4e56668",
   "metadata": {},
   "outputs": [
    {
     "data": {
      "text/plain": [
       "\"# bins\\ndist_sst, dist_PBLH_sst, std_PBLH, stderr_PBLH, npoints_PBLH, pvalue_PBLH = distrib_2d(sst_day.values, PBLH_day.values, perc_step, nbins, popmean, perc_fixbin = 'fb')\""
      ]
     },
     "execution_count": 37,
     "metadata": {},
     "output_type": "execute_result"
    }
   ],
   "source": [
    "#  PBLH distrib\n",
    "with open('/venus/tesi_ale/data_EU/PBLH/daily/FEB/pdistrs_PBLH_SST_day_feb.npy', 'rb') as f:\n",
    "    pdist_sst = np.load(f)\n",
    "    pdist_PBLH_sst = np.load(f)\n",
    "    f.close()\n",
    "\n",
    "\n",
    "# # perc\n",
    "# pdist_sst, pdist_PBLH_sst, pstd_PBLH, pstderr_PBLH, pnpoints_PBLH, ppvalue_PBLH = distrib_2d(sst_day.values, PBLH_day.values, perc_step, nbins, popmean, perc_fixbin = 'perc')\n",
    "\n",
    "'''# bins\n",
    "dist_sst, dist_PBLH_sst, std_PBLH, stderr_PBLH, npoints_PBLH, pvalue_PBLH = distrib_2d(sst_day.values, PBLH_day.values, perc_step, nbins, popmean, perc_fixbin = 'fb')'''"
   ]
  },
  {
   "cell_type": "code",
   "execution_count": 41,
   "id": "93cbd040",
   "metadata": {},
   "outputs": [
    {
     "name": "stdout",
     "output_type": "stream",
     "text": [
      "/venus/tesi_ale/img_EU/QCLOUD/daily/FEB/pdist_SST_QCLOUD_lowtropo_day_feb.png\n"
     ]
    },
    {
     "data": {
      "image/png": "[encoded data removed]",
      "text/plain": [
       "<Figure size 1000x500 with 2 Axes>"
      ]
     },
     "metadata": {},
     "output_type": "display_data"
    }
   ],
   "source": [
    "p_level_plot = int(18)\n",
    "\n",
    "perc = True\n",
    "title = 'Percentiles' if perc else 'Fixed bins'\n",
    "x = pdist_sst if perc else dist_sst\n",
    "var = pdist_QCLOUD[0:p_level_plot] if perc else dist_QCLOUD[0:p_level_plot]\n",
    "minval = 0. ; maxval = 0.005\n",
    "\n",
    "fig, ax1 = plt.subplots(figsize=(10, 5))  ; ax1.invert_yaxis()\n",
    "p1 = ax1.pcolormesh(x-273.15, mean_vert_pres[0:p_level_plot], var*1000, vmin=minval, vmax=maxval, cmap='Purples') #pdist_dqvapor_dsst_day\n",
    "ax1.set_xlabel('SST [˚C]'); ax1.set_ylabel('pressure [hPa]')\n",
    "plt.title(f'{title} - daily SST vs QCLOUD , FEB')\n",
    "cbar = plt.colorbar(p1,ax=ax1, location='right', shrink=0.8, extend='max')  \n",
    "cbar.set_label('QCLOUD [g/kg]')\n",
    "\n",
    "var_pbl = pdist_PBLH_sst if perc else dist_PBLH_sst\n",
    "ax1.plot(x-273.15, var_pbl, '-r', linewidth=1.5)\n",
    "ax1.text(26.8, 920, 'PBLH', fontsize=12, color='r')\n",
    "\n",
    "\n",
    "\n",
    "# savefig\n",
    "path_img = '/venus/tesi_ale/img_EU/QCLOUD/daily/FEB/' #if perc else '/venus/tesi_ale/img_EU/QCLOUD/daily/bins/DJF/'\n",
    "filename = path_img + 'pdist_SST_QCLOUD_lowtropo_day_feb.png' #if perc else path_img + 'bins_sst_qcloud_lowtropo_DJF.png'\n",
    "# plt.savefig(filename)\n",
    "print(filename)\n",
    "del filename"
   ]
  },
  {
   "cell_type": "code",
   "execution_count": 43,
   "id": "bbdaa789",
   "metadata": {},
   "outputs": [
    {
     "name": "stdout",
     "output_type": "stream",
     "text": [
      "/venus/tesi_ale/results_EU/distributions/DJF/fix_bin/QCLOUD/dist_QCLOUD_sst_day_DJF.npy\n"
     ]
    }
   ],
   "source": [
    "# save distributions data\n",
    "perc = False\n",
    "\n",
    "path_to_data = '/venus/tesi_ale/results_EU/distributions/DJF/'\n",
    "filename = path_to_data + 'perc/' if perc else path_to_data + 'fix_bin/'\n",
    "\n",
    "# pdist_sst, pdist_QCLOUD\n",
    "# save: choose each time a var to save\n",
    "x = pdist_QCLOUD if perc else dist_QCLOUD\n",
    "filename += 'QCLOUD/pdist_QCLOUD_sst_day_DJF.npy' if perc else 'QCLOUD/dist_QCLOUD_sst_day_DJF.npy'\n",
    "\n",
    "print(filename)\n",
    "#np.save(filename, x)\n",
    "del filename"
   ]
  },
  {
   "cell_type": "code",
   "execution_count": null,
   "id": "0775e7fc",
   "metadata": {},
   "outputs": [],
   "source": []
  },
  {
   "cell_type": "code",
   "execution_count": null,
   "id": "b7fd5339",
   "metadata": {},
   "outputs": [],
   "source": []
  },
  {
   "cell_type": "code",
   "execution_count": null,
   "id": "9785b7db",
   "metadata": {},
   "outputs": [],
   "source": []
  },
  {
   "cell_type": "code",
   "execution_count": null,
   "id": "53c33567",
   "metadata": {},
   "outputs": [],
   "source": []
  },
  {
   "cell_type": "code",
   "execution_count": null,
   "id": "f102c5ee",
   "metadata": {},
   "outputs": [],
   "source": []
  },
  {
   "cell_type": "code",
   "execution_count": 13,
   "id": "c5c15462",
   "metadata": {},
   "outputs": [
    {
     "data": {
      "text/plain": [
       "\"with open('/venus/tesi_ale/data_EU/QCLOUD/daily/FEB/dQCLOUD_day_feb.npy', 'rb') as f:\\n    dQCLOUD_day = np.load(f)\""
      ]
     },
     "execution_count": 13,
     "metadata": {},
     "output_type": "execute_result"
    }
   ],
   "source": [
    "with open('/venus/tesi_ale/data_EU/SST/daily/FEB/dSST_day_feb.npy', 'rb') as f:\n",
    "    dsst_day = np.load(f)\n",
    "\n",
    "with open('/venus/tesi_ale/data_EU/QCLOUD/daily/FEB/dQCLOUD_day_feb.npy', 'rb') as f:\n",
    "    dQCLOUD_day = np.load(f)"
   ]
  },
  {
   "cell_type": "code",
   "execution_count": 11,
   "id": "c0d2e25a",
   "metadata": {},
   "outputs": [
    {
     "name": "stdout",
     "output_type": "stream",
     "text": [
      "0\n",
      "10\n",
      "20\n"
     ]
    }
   ],
   "source": [
    "# compute anomalies daily data\n",
    "s = 100\n",
    "\n",
    "'''dsst_day = np.zeros(sst_day.shape)'''\n",
    "dQCLOUD_day = np.zeros(QCLOUD.values.shape)\n",
    "'''dPBLH_day = np.zeros(PBLH_day.shape)'''\n",
    "\n",
    "\n",
    "for t in range(0,QCLOUD.values.shape[0]):\n",
    "    if t % 10 == 0:\n",
    "        print(t)\n",
    "    \n",
    "    '''sst_ave = gm.nan_gaussian_filter(sst_day[t],s)                             \n",
    "    dsst_day[t] = sst_day[t] - sst_ave\n",
    "    \n",
    "    pbl_ave = gm.nan_gaussian_filter(PBLH_day[t],s)                             \n",
    "    dPBLH_day[t] = PBLH_day[t] - pbl_ave'''\n",
    "    \n",
    "    for h in range(0,QCLOUD.values.shape[1]):\n",
    "        QCLOUD_ave = gm.nan_gaussian_filter(QCLOUD[t,h],s)                             \n",
    "        dQCLOUD_day[t,h] = QCLOUD[t,h] - QCLOUD_ave"
   ]
  },
  {
   "cell_type": "code",
   "execution_count": 12,
   "id": "a2a1dd6a",
   "metadata": {},
   "outputs": [],
   "source": [
    "## save anomalies\n",
    "my_save_data('/venus/tesi_ale/data_EU/QCLOUD/daily/FEB/dQCLOUD_day_feb.npy', [dQCLOUD_day])"
   ]
  },
  {
   "cell_type": "code",
   "execution_count": null,
   "id": "db3f27bc",
   "metadata": {},
   "outputs": [],
   "source": []
  },
  {
   "cell_type": "code",
   "execution_count": null,
   "id": "b60bf21f",
   "metadata": {},
   "outputs": [],
   "source": [
    "# compute distributions of ANOMALIES"
   ]
  },
  {
   "cell_type": "code",
   "execution_count": 16,
   "id": "97c217e8",
   "metadata": {},
   "outputs": [
    {
     "name": "stdout",
     "output_type": "stream",
     "text": [
      "0\n",
      "10\n",
      "20\n",
      "30\n"
     ]
    }
   ],
   "source": [
    "# PERC DISTRIBUTION dQCLOUD vs dSST bin - DAILY + PVALUE SUBSAMPLED height dependent\n",
    "\n",
    "pdist_dsst_day, pdist_dQCLOUD_day, pstd_dQCLOUD_day, pstderr_dQCLOUD_day, pnpoints_dQCLOUD, ppvalue_dQCLOUD_day_sub = \\\n",
    "dist_3d_subsample(dsst_day, dQCLOUD_day, perc_step, nbins, popmean, nt, nttop, nskip, nskiptop, top=14, perc_fixbin='perc')"
   ]
  },
  {
   "cell_type": "code",
   "execution_count": 17,
   "id": "68dbb247",
   "metadata": {},
   "outputs": [],
   "source": [
    "## SAVE DQCLOUD\n",
    "p_dqcl_dsst = [pdist_dsst_day, pdist_dQCLOUD_day, pstd_dQCLOUD_day, pstderr_dQCLOUD_day, pnpoints_dQCLOUD, ppvalue_dQCLOUD_day_sub]\n",
    "my_save_data('/venus/tesi_ale/data_EU/QCLOUD/daily/FEB/pdistrs_dQCLOUD_dSST_day_feb.npy', p_dqcl_dsst)"
   ]
  },
  {
   "cell_type": "code",
   "execution_count": null,
   "id": "bba64c2b",
   "metadata": {},
   "outputs": [],
   "source": []
  },
  {
   "cell_type": "code",
   "execution_count": 27,
   "id": "113e7a0e",
   "metadata": {},
   "outputs": [
    {
     "name": "stdout",
     "output_type": "stream",
     "text": [
      "0\n",
      "10\n",
      "20\n",
      "30\n"
     ]
    }
   ],
   "source": [
    "# BIN DISTRIBUTION dQCLOUD vs dSST bin - DAILY + PVALUE SUBSAMPLED height dependent\n",
    "\n",
    "'''dist_dsst_day, dist_dQCLOUD_day, std_dQCLOUD_day, stderr_dQCLOUD_day, npoints_QCLOUD, pvalue_dQCLOUD_day_sub = \\\n",
    "dist_3d_subsample(dsst_day, dQCLOUD_day, perc_step, nbins, popmean, nt, nttop, nskip, nskiptop, top=14, perc_fixbin='fb')'''"
   ]
  },
  {
   "cell_type": "code",
   "execution_count": 20,
   "id": "5592f040",
   "metadata": {},
   "outputs": [
    {
     "data": {
      "text/plain": [
       "\"# BINS\\ndist_dsst, dist_PBLH_dsst, std_PBLH_dsst, std_err_PBLH_dsst, npoints_PBLH_dsst, pvalue_PBLH_dsst = distrib_2d(dsst_day, PBLH_day.values, perc_step, nbins, popmean, perc_fixbin='fb')\""
      ]
     },
     "execution_count": 20,
     "metadata": {},
     "output_type": "execute_result"
    }
   ],
   "source": [
    "# DISTRIBUTION PBLH  \n",
    "\n",
    "with open('/venus/tesi_ale/data_EU/PBLH/daily/FEB/pdistrs_PBLH_dSST_day_feb.npy', 'rb') as f:\n",
    "    pdist_dsst = np.load(f)\n",
    "    pdist_PBLH_dsst = np.load(f)\n",
    "    # other data missing\n",
    "    f.close()\n",
    "\n",
    "\n",
    "'''perc_step = 5\n",
    "nbins = int(100/perc_step) # Number of bins.\n",
    "\n",
    "# # dPBLH vs dSST - DAILY\n",
    "# pdist_dsst_day, pdist_dPBLH_day, pstd_dPBLH_day, pstderr_dPBLH_day, pnpoints_dPBLH_day, ppvalue_dPBLH_day = \\\n",
    "# distrib_2d(dsst_day, dPBLH_day, perc_step, nbins, popmean, 'perc')\n",
    "\n",
    "# dSST vs PBLH \n",
    "pdist_dsst, pdist_PBLH_dsst, pstd_PBLH_dsst, pstd_err_PBLH_dsst, pnpoints_PBLH_dsst, ppvalue_PBLH_dsst = \\\n",
    "distrib_2d(dsst_day, PBLH_day.values, perc_step, nbins, popmean, perc_fixbin='perc')'''\n",
    "\n",
    "'''# BINS\n",
    "dist_dsst, dist_PBLH_dsst, std_PBLH_dsst, std_err_PBLH_dsst, npoints_PBLH_dsst, pvalue_PBLH_dsst = \\\n",
    "distrib_2d(dsst_day, PBLH_day.values, perc_step, nbins, popmean, perc_fixbin='fb')'''"
   ]
  },
  {
   "cell_type": "code",
   "execution_count": null,
   "id": "d1a6411b",
   "metadata": {},
   "outputs": [],
   "source": []
  },
  {
   "cell_type": "code",
   "execution_count": null,
   "id": "aa4db8a6",
   "metadata": {},
   "outputs": [],
   "source": [
    "#####   PLOTTING ANOMALIES DISTRIBUTIONSSSS   ######"
   ]
  },
  {
   "cell_type": "code",
   "execution_count": 34,
   "id": "c85d2e11",
   "metadata": {
    "scrolled": true
   },
   "outputs": [
    {
     "name": "stdout",
     "output_type": "stream",
     "text": [
      "/venus/tesi_ale/img_EU/QCLOUD/daily/FEB/pdist_dsst_dqcloud_lowtropo_hatch.png\n"
     ]
    },
    {
     "data": {
      "image/png": "[encoded data removed]",
      "text/plain": [
       "<Figure size 1000x500 with 2 Axes>"
      ]
     },
     "metadata": {},
     "output_type": "display_data"
    }
   ],
   "source": [
    "p_level_plot = int(15)\n",
    "\n",
    "perc = True\n",
    "title = 'Percentiles' if perc else 'Fixed bins'\n",
    "x = pdist_dsst_day if perc else dist_dsst_day\n",
    "var = pdist_dQCLOUD_day[0:p_level_plot] if perc else dist_dQCLOUD_day[0:p_level_plot]\n",
    "minval = -0.001 ; maxval = -minval\n",
    "\n",
    "fig, ax1 = plt.subplots(figsize=(10, 5))  ;  ax1.invert_yaxis()\n",
    "p1 = ax1.pcolormesh(x, mean_vert_pres[0:p_level_plot], var*1000, vmin=minval, vmax=maxval, cmap='seismic')\n",
    "ax1.set_xlabel('SST anomalies [˚C]'); ax1.set_ylabel('pressure [hPa]')\n",
    "plt.title(f'{title} - daily dSST vs dQCLOUD , FEB')\n",
    "cbar = plt.colorbar(p1,ax=ax1, location='right', shrink=0.8, extend='both')  \n",
    "cbar.set_label('QCLOUD anoms [g/kg]')\n",
    "\n",
    "var_pbl = pdist_PBLH_dsst if perc else dist_PBLH_dsst\n",
    "ax1.plot(x, var_pbl, '-k', linewidth=2)\n",
    "ax1.text(0.4, 920, 'PBLH', fontsize=12, color='k')\n",
    "\n",
    "\n",
    "\n",
    "\n",
    "# DEF punti significativi (pvalue < 0.05)\n",
    "pval = ppvalue_dQCLOUD_day_sub[0:p_level_plot] if perc else pvalue_dQCLOUD_day_sub[0:p_level_plot]\n",
    "GPbin = mean_vert_pres[1:p_level_plot] - np.diff(mean_vert_pres[0:p_level_plot])*0.5\n",
    "signif_Lcorr_H = np.zeros((len(mean_vert_pres[0:p_level_plot])-1,len(x)-1))\n",
    "dsstbin = np.zeros((len(mean_vert_pres[0:p_level_plot])-1,len(x)-1))\n",
    "for h in range(0,len(mean_vert_pres[0:p_level_plot])-1):\n",
    "    cond1 = pval[h,:-1] > 0.05\n",
    "    cond2 = np.abs(var[h,:-1]) < 0.1*np.nanmean(np.abs(var))\n",
    "    cond = (cond1) | (cond2)\n",
    "#     cond = cond1\n",
    "    signif_Lcorr_H[h,:] = np.zeros(len(x)-1) + np.nan\n",
    "    signif_Lcorr_H[h, cond] = GPbin[h]\n",
    "    dsstbin[h,:] = x[1:] - np.diff(x)*0.5\n",
    "    \n",
    "plt.scatter(dsstbin,signif_Lcorr_H,  s=0.7, color='k')\n",
    "\n",
    "\n",
    "\n",
    "# savefig\n",
    "path_img = '/venus/tesi_ale/img_EU/QCLOUD/daily/FEB/' if perc else '/venus/tesi_ale/img_EU/QCLOUD/daily/bins/FEB/'\n",
    "filename = path_img + 'pdist_dsst_dqcloud_lowtropo_hatch.png' if perc else path_img + 'bins_dsst_dqcloud_lowtropo_hatch.png'\n",
    "# plt.savefig(filename)\n",
    "print(filename)\n",
    "del filename"
   ]
  },
  {
   "cell_type": "code",
   "execution_count": null,
   "id": "540988e8",
   "metadata": {},
   "outputs": [],
   "source": []
  },
  {
   "cell_type": "code",
   "execution_count": 42,
   "id": "6664e1a1",
   "metadata": {},
   "outputs": [],
   "source": [
    "# my_save_data('/venus/tesi_ale/data_EU/PRES/daily/FEB/mean_vert_pres.npy', [mean_vert_pres])"
   ]
  },
  {
   "cell_type": "code",
   "execution_count": null,
   "id": "bdb7d908",
   "metadata": {},
   "outputs": [],
   "source": []
  },
  {
   "cell_type": "code",
   "execution_count": null,
   "id": "583449df",
   "metadata": {},
   "outputs": [],
   "source": []
  },
  {
   "cell_type": "code",
   "execution_count": 10,
   "id": "efcb2ea7",
   "metadata": {
    "collapsed": true
   },
   "outputs": [
    {
     "data": {
      "text/html": [
       "<div><svg style=\"position: absolute; width: 0; height: 0; overflow: hidden\">\n",
       "<defs>\n",
       "<symbol id=\"icon-database\" viewBox=\"0 0 32 32\">\n",
       "<path d=\"M16 0c-8.837 0-16 2.239-16 5v4c0 2.761 7.163 5 16 5s16-2.239 16-5v-4c0-2.761-7.163-5-16-5z\"></path>\n",
       "<path d=\"M16 17c-8.837 0-16-2.239-16-5v6c0 2.761 7.163 5 16 5s16-2.239 16-5v-6c0 2.761-7.163 5-16 5z\"></path>\n",
       "<path d=\"M16 26c-8.837 0-16-2.239-16-5v6c0 2.761 7.163 5 16 5s16-2.239 16-5v-6c0 2.761-7.163 5-16 5z\"></path>\n",
       "</symbol>\n",
       "<symbol id=\"icon-file-text2\" viewBox=\"0 0 32 32\">\n",
       "<path d=\"M28.681 7.159c-0.694-0.947-1.662-2.053-2.724-3.116s-2.169-2.030-3.116-2.724c-1.612-1.182-2.393-1.319-2.841-1.319h-15.5c-1.378 0-2.5 1.121-2.5 2.5v27c0 1.378 1.122 2.5 2.5 2.5h23c1.378 0 2.5-1.122 2.5-2.5v-19.5c0-0.448-0.137-1.23-1.319-2.841zM24.543 5.457c0.959 0.959 1.712 1.825 2.268 2.543h-4.811v-4.811c0.718 0.556 1.584 1.309 2.543 2.268zM28 29.5c0 0.271-0.229 0.5-0.5 0.5h-23c-0.271 0-0.5-0.229-0.5-0.5v-27c0-0.271 0.229-0.5 0.5-0.5 0 0 15.499-0 15.5 0v7c0 0.552 0.448 1 1 1h7v19.5z\"></path>\n",
       "<path d=\"M23 26h-14c-0.552 0-1-0.448-1-1s0.448-1 1-1h14c0.552 0 1 0.448 1 1s-0.448 1-1 1z\"></path>\n",
       "<path d=\"M23 22h-14c-0.552 0-1-0.448-1-1s0.448-1 1-1h14c0.552 0 1 0.448 1 1s-0.448 1-1 1z\"></path>\n",
       "<path d=\"M23 18h-14c-0.552 0-1-0.448-1-1s0.448-1 1-1h14c0.552 0 1 0.448 1 1s-0.448 1-1 1z\"></path>\n",
       "</symbol>\n",
       "</defs>\n",
       "</svg>\n",
       "<style>/* CSS stylesheet for displaying xarray objects in jupyterlab.\n",
       " *\n",
       " */\n",
       "\n",
       ":root {\n",
       "  --xr-font-color0: var(--jp-content-font-color0, rgba(0, 0, 0, 1));\n",
       "  --xr-font-color2: var(--jp-content-font-color2, rgba(0, 0, 0, 0.54));\n",
       "  --xr-font-color3: var(--jp-content-font-color3, rgba(0, 0, 0, 0.38));\n",
       "  --xr-border-color: var(--jp-border-color2, #e0e0e0);\n",
       "  --xr-disabled-color: var(--jp-layout-color3, #bdbdbd);\n",
       "  --xr-background-color: var(--jp-layout-color0, white);\n",
       "  --xr-background-color-row-even: var(--jp-layout-color1, white);\n",
       "  --xr-background-color-row-odd: var(--jp-layout-color2, #eeeeee);\n",
       "}\n",
       "\n",
       "html[theme=dark],\n",
       "body.vscode-dark {\n",
       "  --xr-font-color0: rgba(255, 255, 255, 1);\n",
       "  --xr-font-color2: rgba(255, 255, 255, 0.54);\n",
       "  --xr-font-color3: rgba(255, 255, 255, 0.38);\n",
       "  --xr-border-color: #1F1F1F;\n",
       "  --xr-disabled-color: #515151;\n",
       "  --xr-background-color: #111111;\n",
       "  --xr-background-color-row-even: #111111;\n",
       "  --xr-background-color-row-odd: #313131;\n",
       "}\n",
       "\n",
       ".xr-wrap {\n",
       "  display: block;\n",
       "  min-width: 300px;\n",
       "  max-width: 700px;\n",
       "}\n",
       "\n",
       ".xr-text-repr-fallback {\n",
       "  /* fallback to plain text repr when CSS is not injected (untrusted notebook) */\n",
       "  display: none;\n",
       "}\n",
       "\n",
       ".xr-header {\n",
       "  padding-top: 6px;\n",
       "  padding-bottom: 6px;\n",
       "  margin-bottom: 4px;\n",
       "  border-bottom: solid 1px var(--xr-border-color);\n",
       "}\n",
       "\n",
       ".xr-header > div,\n",
       ".xr-header > ul {\n",
       "  display: inline;\n",
       "  margin-top: 0;\n",
       "  margin-bottom: 0;\n",
       "}\n",
       "\n",
       ".xr-obj-type,\n",
       ".xr-array-name {\n",
       "  margin-left: 2px;\n",
       "  margin-right: 10px;\n",
       "}\n",
       "\n",
       ".xr-obj-type {\n",
       "  color: var(--xr-font-color2);\n",
       "}\n",
       "\n",
       ".xr-sections {\n",
       "  padding-left: 0 !important;\n",
       "  display: grid;\n",
       "  grid-template-columns: 150px auto auto 1fr 20px 20px;\n",
       "}\n",
       "\n",
       ".xr-section-item {\n",
       "  display: contents;\n",
       "}\n",
       "\n",
       ".xr-section-item input {\n",
       "  display: none;\n",
       "}\n",
       "\n",
       ".xr-section-item input + label {\n",
       "  color: var(--xr-disabled-color);\n",
       "}\n",
       "\n",
       ".xr-section-item input:enabled + label {\n",
       "  cursor: pointer;\n",
       "  color: var(--xr-font-color2);\n",
       "}\n",
       "\n",
       ".xr-section-item input:enabled + label:hover {\n",
       "  color: var(--xr-font-color0);\n",
       "}\n",
       "\n",
       ".xr-section-summary {\n",
       "  grid-column: 1;\n",
       "  color: var(--xr-font-color2);\n",
       "  font-weight: 500;\n",
       "}\n",
       "\n",
       ".xr-section-summary > span {\n",
       "  display: inline-block;\n",
       "  padding-left: 0.5em;\n",
       "}\n",
       "\n",
       ".xr-section-summary-in:disabled + label {\n",
       "  color: var(--xr-font-color2);\n",
       "}\n",
       "\n",
       ".xr-section-summary-in + label:before {\n",
       "  display: inline-block;\n",
       "  content: '►';\n",
       "  font-size: 11px;\n",
       "  width: 15px;\n",
       "  text-align: center;\n",
       "}\n",
       "\n",
       ".xr-section-summary-in:disabled + label:before {\n",
       "  color: var(--xr-disabled-color);\n",
       "}\n",
       "\n",
       ".xr-section-summary-in:checked + label:before {\n",
       "  content: '▼';\n",
       "}\n",
       "\n",
       ".xr-section-summary-in:checked + label > span {\n",
       "  display: none;\n",
       "}\n",
       "\n",
       ".xr-section-summary,\n",
       ".xr-section-inline-details {\n",
       "  padding-top: 4px;\n",
       "  padding-bottom: 4px;\n",
       "}\n",
       "\n",
       ".xr-section-inline-details {\n",
       "  grid-column: 2 / -1;\n",
       "}\n",
       "\n",
       ".xr-section-details {\n",
       "  display: none;\n",
       "  grid-column: 1 / -1;\n",
       "  margin-bottom: 5px;\n",
       "}\n",
       "\n",
       ".xr-section-summary-in:checked ~ .xr-section-details {\n",
       "  display: contents;\n",
       "}\n",
       "\n",
       ".xr-array-wrap {\n",
       "  grid-column: 1 / -1;\n",
       "  display: grid;\n",
       "  grid-template-columns: 20px auto;\n",
       "}\n",
       "\n",
       ".xr-array-wrap > label {\n",
       "  grid-column: 1;\n",
       "  vertical-align: top;\n",
       "}\n",
       "\n",
       ".xr-preview {\n",
       "  color: var(--xr-font-color3);\n",
       "}\n",
       "\n",
       ".xr-array-preview,\n",
       ".xr-array-data {\n",
       "  padding: 0 5px !important;\n",
       "  grid-column: 2;\n",
       "}\n",
       "\n",
       ".xr-array-data,\n",
       ".xr-array-in:checked ~ .xr-array-preview {\n",
       "  display: none;\n",
       "}\n",
       "\n",
       ".xr-array-in:checked ~ .xr-array-data,\n",
       ".xr-array-preview {\n",
       "  display: inline-block;\n",
       "}\n",
       "\n",
       ".xr-dim-list {\n",
       "  display: inline-block !important;\n",
       "  list-style: none;\n",
       "  padding: 0 !important;\n",
       "  margin: 0;\n",
       "}\n",
       "\n",
       ".xr-dim-list li {\n",
       "  display: inline-block;\n",
       "  padding: 0;\n",
       "  margin: 0;\n",
       "}\n",
       "\n",
       ".xr-dim-list:before {\n",
       "  content: '(';\n",
       "}\n",
       "\n",
       ".xr-dim-list:after {\n",
       "  content: ')';\n",
       "}\n",
       "\n",
       ".xr-dim-list li:not(:last-child):after {\n",
       "  content: ',';\n",
       "  padding-right: 5px;\n",
       "}\n",
       "\n",
       ".xr-has-index {\n",
       "  font-weight: bold;\n",
       "}\n",
       "\n",
       ".xr-var-list,\n",
       ".xr-var-item {\n",
       "  display: contents;\n",
       "}\n",
       "\n",
       ".xr-var-item > div,\n",
       ".xr-var-item label,\n",
       ".xr-var-item > .xr-var-name span {\n",
       "  background-color: var(--xr-background-color-row-even);\n",
       "  margin-bottom: 0;\n",
       "}\n",
       "\n",
       ".xr-var-item > .xr-var-name:hover span {\n",
       "  padding-right: 5px;\n",
       "}\n",
       "\n",
       ".xr-var-list > li:nth-child(odd) > div,\n",
       ".xr-var-list > li:nth-child(odd) > label,\n",
       ".xr-var-list > li:nth-child(odd) > .xr-var-name span {\n",
       "  background-color: var(--xr-background-color-row-odd);\n",
       "}\n",
       "\n",
       ".xr-var-name {\n",
       "  grid-column: 1;\n",
       "}\n",
       "\n",
       ".xr-var-dims {\n",
       "  grid-column: 2;\n",
       "}\n",
       "\n",
       ".xr-var-dtype {\n",
       "  grid-column: 3;\n",
       "  text-align: right;\n",
       "  color: var(--xr-font-color2);\n",
       "}\n",
       "\n",
       ".xr-var-preview {\n",
       "  grid-column: 4;\n",
       "}\n",
       "\n",
       ".xr-var-name,\n",
       ".xr-var-dims,\n",
       ".xr-var-dtype,\n",
       ".xr-preview,\n",
       ".xr-attrs dt {\n",
       "  white-space: nowrap;\n",
       "  overflow: hidden;\n",
       "  text-overflow: ellipsis;\n",
       "  padding-right: 10px;\n",
       "}\n",
       "\n",
       ".xr-var-name:hover,\n",
       ".xr-var-dims:hover,\n",
       ".xr-var-dtype:hover,\n",
       ".xr-attrs dt:hover {\n",
       "  overflow: visible;\n",
       "  width: auto;\n",
       "  z-index: 1;\n",
       "}\n",
       "\n",
       ".xr-var-attrs,\n",
       ".xr-var-data {\n",
       "  display: none;\n",
       "  background-color: var(--xr-background-color) !important;\n",
       "  padding-bottom: 5px !important;\n",
       "}\n",
       "\n",
       ".xr-var-attrs-in:checked ~ .xr-var-attrs,\n",
       ".xr-var-data-in:checked ~ .xr-var-data {\n",
       "  display: block;\n",
       "}\n",
       "\n",
       ".xr-var-data > table {\n",
       "  float: right;\n",
       "}\n",
       "\n",
       ".xr-var-name span,\n",
       ".xr-var-data,\n",
       ".xr-attrs {\n",
       "  padding-left: 25px !important;\n",
       "}\n",
       "\n",
       ".xr-attrs,\n",
       ".xr-var-attrs,\n",
       ".xr-var-data {\n",
       "  grid-column: 1 / -1;\n",
       "}\n",
       "\n",
       "dl.xr-attrs {\n",
       "  padding: 0;\n",
       "  margin: 0;\n",
       "  display: grid;\n",
       "  grid-template-columns: 125px auto;\n",
       "}\n",
       "\n",
       ".xr-attrs dt,\n",
       ".xr-attrs dd {\n",
       "  padding: 0;\n",
       "  margin: 0;\n",
       "  float: left;\n",
       "  padding-right: 10px;\n",
       "  width: auto;\n",
       "}\n",
       "\n",
       ".xr-attrs dt {\n",
       "  font-weight: normal;\n",
       "  grid-column: 1;\n",
       "}\n",
       "\n",
       ".xr-attrs dt:hover span {\n",
       "  display: inline-block;\n",
       "  background: var(--xr-background-color);\n",
       "  padding-right: 10px;\n",
       "}\n",
       "\n",
       ".xr-attrs dd {\n",
       "  grid-column: 2;\n",
       "  white-space: pre-wrap;\n",
       "  word-break: break-all;\n",
       "}\n",
       "\n",
       ".xr-icon-database,\n",
       ".xr-icon-file-text2 {\n",
       "  display: inline-block;\n",
       "  vertical-align: middle;\n",
       "  width: 1em;\n",
       "  height: 1.5em !important;\n",
       "  stroke-width: 0;\n",
       "  stroke: currentColor;\n",
       "  fill: currentColor;\n",
       "}\n",
       "</style><pre class='xr-text-repr-fallback'>&lt;xarray.DataArray &#x27;QCLOUD&#x27; (day: 29, lev_M: 39, y_grid_M: 546, x_grid_M: 573)&gt;\n",
       "array([[[[nan, nan, nan, ..., nan, nan, nan],\n",
       "         [nan, nan, nan, ..., nan, nan, nan],\n",
       "         [nan, nan, nan, ..., nan, nan, nan],\n",
       "         ...,\n",
       "         [nan, nan, nan, ..., nan, nan, nan],\n",
       "         [nan, nan, nan, ..., nan, nan, nan],\n",
       "         [nan, nan, nan, ..., nan, nan, nan]],\n",
       "\n",
       "        [[nan, nan, nan, ..., nan, nan, nan],\n",
       "         [nan, nan, nan, ..., nan, nan, nan],\n",
       "         [nan, nan, nan, ..., nan, nan, nan],\n",
       "         ...,\n",
       "         [nan, nan, nan, ..., nan, nan, nan],\n",
       "         [nan, nan, nan, ..., nan, nan, nan],\n",
       "         [nan, nan, nan, ..., nan, nan, nan]],\n",
       "\n",
       "        [[nan, nan, nan, ..., nan, nan, nan],\n",
       "         [nan, nan, nan, ..., nan, nan, nan],\n",
       "         [nan, nan, nan, ..., nan, nan, nan],\n",
       "         ...,\n",
       "...\n",
       "         ...,\n",
       "         [nan, nan, nan, ..., nan, nan, nan],\n",
       "         [nan, nan, nan, ..., nan, nan, nan],\n",
       "         [nan, nan, nan, ..., nan, nan, nan]],\n",
       "\n",
       "        [[nan, nan, nan, ..., nan, nan, nan],\n",
       "         [nan, nan, nan, ..., nan, nan, nan],\n",
       "         [nan, nan, nan, ..., nan, nan, nan],\n",
       "         ...,\n",
       "         [nan, nan, nan, ..., nan, nan, nan],\n",
       "         [nan, nan, nan, ..., nan, nan, nan],\n",
       "         [nan, nan, nan, ..., nan, nan, nan]],\n",
       "\n",
       "        [[nan, nan, nan, ..., nan, nan, nan],\n",
       "         [nan, nan, nan, ..., nan, nan, nan],\n",
       "         [nan, nan, nan, ..., nan, nan, nan],\n",
       "         ...,\n",
       "         [nan, nan, nan, ..., nan, nan, nan],\n",
       "         [nan, nan, nan, ..., nan, nan, nan],\n",
       "         [nan, nan, nan, ..., nan, nan, nan]]]], dtype=float32)\n",
       "Coordinates:\n",
       "    nav_lon_grid_M  (y_grid_M, x_grid_M) float32 ...\n",
       "    nav_lat_grid_M  (y_grid_M, x_grid_M) float32 ...\n",
       "  * lev_M           (lev_M) float32 1.0 2.0 3.0 4.0 5.0 ... 36.0 37.0 38.0 39.0\n",
       "  * day             (day) int64 1 2 3 4 5 6 7 8 9 ... 21 22 23 24 25 26 27 28 29\n",
       "Dimensions without coordinates: y_grid_M, x_grid_M</pre><div class='xr-wrap' hidden><div class='xr-header'><div class='xr-obj-type'>xarray.DataArray</div><div class='xr-array-name'>'QCLOUD'</div><ul class='xr-dim-list'><li><span class='xr-has-index'>day</span>: 29</li><li><span class='xr-has-index'>lev_M</span>: 39</li><li><span>y_grid_M</span>: 546</li><li><span>x_grid_M</span>: 573</li></ul></div><ul class='xr-sections'><li class='xr-section-item'><div class='xr-array-wrap'><input id='section-08779174-917f-4176-903f-023067ecf570' class='xr-array-in' type='checkbox' checked><label for='section-08779174-917f-4176-903f-023067ecf570' title='Show/hide data repr'><svg class='icon xr-icon-database'><use xlink:href='#icon-database'></use></svg></label><div class='xr-array-preview xr-preview'><span>nan nan nan nan nan nan nan nan ... nan nan nan nan nan nan nan nan</span></div><div class='xr-array-data'><pre>array([[[[nan, nan, nan, ..., nan, nan, nan],\n",
       "         [nan, nan, nan, ..., nan, nan, nan],\n",
       "         [nan, nan, nan, ..., nan, nan, nan],\n",
       "         ...,\n",
       "         [nan, nan, nan, ..., nan, nan, nan],\n",
       "         [nan, nan, nan, ..., nan, nan, nan],\n",
       "         [nan, nan, nan, ..., nan, nan, nan]],\n",
       "\n",
       "        [[nan, nan, nan, ..., nan, nan, nan],\n",
       "         [nan, nan, nan, ..., nan, nan, nan],\n",
       "         [nan, nan, nan, ..., nan, nan, nan],\n",
       "         ...,\n",
       "         [nan, nan, nan, ..., nan, nan, nan],\n",
       "         [nan, nan, nan, ..., nan, nan, nan],\n",
       "         [nan, nan, nan, ..., nan, nan, nan]],\n",
       "\n",
       "        [[nan, nan, nan, ..., nan, nan, nan],\n",
       "         [nan, nan, nan, ..., nan, nan, nan],\n",
       "         [nan, nan, nan, ..., nan, nan, nan],\n",
       "         ...,\n",
       "...\n",
       "         ...,\n",
       "         [nan, nan, nan, ..., nan, nan, nan],\n",
       "         [nan, nan, nan, ..., nan, nan, nan],\n",
       "         [nan, nan, nan, ..., nan, nan, nan]],\n",
       "\n",
       "        [[nan, nan, nan, ..., nan, nan, nan],\n",
       "         [nan, nan, nan, ..., nan, nan, nan],\n",
       "         [nan, nan, nan, ..., nan, nan, nan],\n",
       "         ...,\n",
       "         [nan, nan, nan, ..., nan, nan, nan],\n",
       "         [nan, nan, nan, ..., nan, nan, nan],\n",
       "         [nan, nan, nan, ..., nan, nan, nan]],\n",
       "\n",
       "        [[nan, nan, nan, ..., nan, nan, nan],\n",
       "         [nan, nan, nan, ..., nan, nan, nan],\n",
       "         [nan, nan, nan, ..., nan, nan, nan],\n",
       "         ...,\n",
       "         [nan, nan, nan, ..., nan, nan, nan],\n",
       "         [nan, nan, nan, ..., nan, nan, nan],\n",
       "         [nan, nan, nan, ..., nan, nan, nan]]]], dtype=float32)</pre></div></div></li><li class='xr-section-item'><input id='section-f22601d6-b8f7-4187-8233-4d394b99b5fc' class='xr-section-summary-in' type='checkbox'  checked><label for='section-f22601d6-b8f7-4187-8233-4d394b99b5fc' class='xr-section-summary' >Coordinates: <span>(4)</span></label><div class='xr-section-inline-details'></div><div class='xr-section-details'><ul class='xr-var-list'><li class='xr-var-item'><div class='xr-var-name'><span>nav_lon_grid_M</span></div><div class='xr-var-dims'>(y_grid_M, x_grid_M)</div><div class='xr-var-dtype'>float32</div><div class='xr-var-preview xr-preview'>...</div><input id='attrs-d870f299-7f6b-4114-ba40-72ffe23c7a49' class='xr-var-attrs-in' type='checkbox' ><label for='attrs-d870f299-7f6b-4114-ba40-72ffe23c7a49' title='Show/Hide attributes'><svg class='icon xr-icon-file-text2'><use xlink:href='#icon-file-text2'></use></svg></label><input id='data-9c80485b-eefa-47dc-9eb6-d37c8a465ba6' class='xr-var-data-in' type='checkbox'><label for='data-9c80485b-eefa-47dc-9eb6-d37c8a465ba6' title='Show/Hide data repr'><svg class='icon xr-icon-database'><use xlink:href='#icon-database'></use></svg></label><div class='xr-var-attrs'><dl class='xr-attrs'><dt><span>standard_name :</span></dt><dd>longitude</dd><dt><span>long_name :</span></dt><dd>Longitude</dd><dt><span>units :</span></dt><dd>degrees_east</dd><dt><span>_CoordinateAxisType :</span></dt><dd>Lon</dd></dl></div><div class='xr-var-data'><pre>[312858 values with dtype=float32]</pre></div></li><li class='xr-var-item'><div class='xr-var-name'><span>nav_lat_grid_M</span></div><div class='xr-var-dims'>(y_grid_M, x_grid_M)</div><div class='xr-var-dtype'>float32</div><div class='xr-var-preview xr-preview'>...</div><input id='attrs-d24bbd6b-582f-4d87-bed2-42a4e4e9df7f' class='xr-var-attrs-in' type='checkbox' ><label for='attrs-d24bbd6b-582f-4d87-bed2-42a4e4e9df7f' title='Show/Hide attributes'><svg class='icon xr-icon-file-text2'><use xlink:href='#icon-file-text2'></use></svg></label><input id='data-f7145312-3cc2-4a29-bb1a-7b94dd3b649f' class='xr-var-data-in' type='checkbox'><label for='data-f7145312-3cc2-4a29-bb1a-7b94dd3b649f' title='Show/Hide data repr'><svg class='icon xr-icon-database'><use xlink:href='#icon-database'></use></svg></label><div class='xr-var-attrs'><dl class='xr-attrs'><dt><span>standard_name :</span></dt><dd>latitude</dd><dt><span>long_name :</span></dt><dd>Latitude</dd><dt><span>units :</span></dt><dd>degrees_north</dd><dt><span>_CoordinateAxisType :</span></dt><dd>Lat</dd></dl></div><div class='xr-var-data'><pre>[312858 values with dtype=float32]</pre></div></li><li class='xr-var-item'><div class='xr-var-name'><span class='xr-has-index'>lev_M</span></div><div class='xr-var-dims'>(lev_M)</div><div class='xr-var-dtype'>float32</div><div class='xr-var-preview xr-preview'>1.0 2.0 3.0 4.0 ... 37.0 38.0 39.0</div><input id='attrs-79d9b15c-dd9a-41ea-b1bd-2c35a17b110b' class='xr-var-attrs-in' type='checkbox' ><label for='attrs-79d9b15c-dd9a-41ea-b1bd-2c35a17b110b' title='Show/Hide attributes'><svg class='icon xr-icon-file-text2'><use xlink:href='#icon-file-text2'></use></svg></label><input id='data-8057d1d6-16d4-4057-a923-11a8b26eead7' class='xr-var-data-in' type='checkbox'><label for='data-8057d1d6-16d4-4057-a923-11a8b26eead7' title='Show/Hide data repr'><svg class='icon xr-icon-database'><use xlink:href='#icon-database'></use></svg></label><div class='xr-var-attrs'><dl class='xr-attrs'><dt><span>long_name :</span></dt><dd>eta values on half (mass) levels</dd><dt><span>units :</span></dt><dd>-</dd><dt><span>positive :</span></dt><dd>down</dd><dt><span>axis :</span></dt><dd>Z</dd><dt><span>name :</span></dt><dd>lev_M</dd></dl></div><div class='xr-var-data'><pre>array([ 1.,  2.,  3.,  4.,  5.,  6.,  7.,  8.,  9., 10., 11., 12., 13., 14.,\n",
       "       15., 16., 17., 18., 19., 20., 21., 22., 23., 24., 25., 26., 27., 28.,\n",
       "       29., 30., 31., 32., 33., 34., 35., 36., 37., 38., 39.], dtype=float32)</pre></div></li><li class='xr-var-item'><div class='xr-var-name'><span class='xr-has-index'>day</span></div><div class='xr-var-dims'>(day)</div><div class='xr-var-dtype'>int64</div><div class='xr-var-preview xr-preview'>1 2 3 4 5 6 7 ... 24 25 26 27 28 29</div><input id='attrs-f1c871dc-afe9-4810-8d05-303b47c2afe3' class='xr-var-attrs-in' type='checkbox' disabled><label for='attrs-f1c871dc-afe9-4810-8d05-303b47c2afe3' title='Show/Hide attributes'><svg class='icon xr-icon-file-text2'><use xlink:href='#icon-file-text2'></use></svg></label><input id='data-9b6ba71a-fb49-404d-8ca9-ee0e94f22349' class='xr-var-data-in' type='checkbox'><label for='data-9b6ba71a-fb49-404d-8ca9-ee0e94f22349' title='Show/Hide data repr'><svg class='icon xr-icon-database'><use xlink:href='#icon-database'></use></svg></label><div class='xr-var-attrs'><dl class='xr-attrs'></dl></div><div class='xr-var-data'><pre>array([ 1,  2,  3,  4,  5,  6,  7,  8,  9, 10, 11, 12, 13, 14, 15, 16, 17, 18,\n",
       "       19, 20, 21, 22, 23, 24, 25, 26, 27, 28, 29])</pre></div></li></ul></div></li><li class='xr-section-item'><input id='section-9da1508b-eaf3-4be1-b1e4-45af48fe8657' class='xr-section-summary-in' type='checkbox' disabled ><label for='section-9da1508b-eaf3-4be1-b1e4-45af48fe8657' class='xr-section-summary'  title='Expand/collapse section'>Attributes: <span>(0)</span></label><div class='xr-section-inline-details'></div><div class='xr-section-details'><dl class='xr-attrs'></dl></div></li></ul></div></div>"
      ],
      "text/plain": [
       "<xarray.DataArray 'QCLOUD' (day: 29, lev_M: 39, y_grid_M: 546, x_grid_M: 573)>\n",
       "array([[[[nan, nan, nan, ..., nan, nan, nan],\n",
       "         [nan, nan, nan, ..., nan, nan, nan],\n",
       "         [nan, nan, nan, ..., nan, nan, nan],\n",
       "         ...,\n",
       "         [nan, nan, nan, ..., nan, nan, nan],\n",
       "         [nan, nan, nan, ..., nan, nan, nan],\n",
       "         [nan, nan, nan, ..., nan, nan, nan]],\n",
       "\n",
       "        [[nan, nan, nan, ..., nan, nan, nan],\n",
       "         [nan, nan, nan, ..., nan, nan, nan],\n",
       "         [nan, nan, nan, ..., nan, nan, nan],\n",
       "         ...,\n",
       "         [nan, nan, nan, ..., nan, nan, nan],\n",
       "         [nan, nan, nan, ..., nan, nan, nan],\n",
       "         [nan, nan, nan, ..., nan, nan, nan]],\n",
       "\n",
       "        [[nan, nan, nan, ..., nan, nan, nan],\n",
       "         [nan, nan, nan, ..., nan, nan, nan],\n",
       "         [nan, nan, nan, ..., nan, nan, nan],\n",
       "         ...,\n",
       "...\n",
       "         ...,\n",
       "         [nan, nan, nan, ..., nan, nan, nan],\n",
       "         [nan, nan, nan, ..., nan, nan, nan],\n",
       "         [nan, nan, nan, ..., nan, nan, nan]],\n",
       "\n",
       "        [[nan, nan, nan, ..., nan, nan, nan],\n",
       "         [nan, nan, nan, ..., nan, nan, nan],\n",
       "         [nan, nan, nan, ..., nan, nan, nan],\n",
       "         ...,\n",
       "         [nan, nan, nan, ..., nan, nan, nan],\n",
       "         [nan, nan, nan, ..., nan, nan, nan],\n",
       "         [nan, nan, nan, ..., nan, nan, nan]],\n",
       "\n",
       "        [[nan, nan, nan, ..., nan, nan, nan],\n",
       "         [nan, nan, nan, ..., nan, nan, nan],\n",
       "         [nan, nan, nan, ..., nan, nan, nan],\n",
       "         ...,\n",
       "         [nan, nan, nan, ..., nan, nan, nan],\n",
       "         [nan, nan, nan, ..., nan, nan, nan],\n",
       "         [nan, nan, nan, ..., nan, nan, nan]]]], dtype=float32)\n",
       "Coordinates:\n",
       "    nav_lon_grid_M  (y_grid_M, x_grid_M) float32 ...\n",
       "    nav_lat_grid_M  (y_grid_M, x_grid_M) float32 ...\n",
       "  * lev_M           (lev_M) float32 1.0 2.0 3.0 4.0 5.0 ... 36.0 37.0 38.0 39.0\n",
       "  * day             (day) int64 1 2 3 4 5 6 7 8 9 ... 21 22 23 24 25 26 27 28 29\n",
       "Dimensions without coordinates: y_grid_M, x_grid_M"
      ]
     },
     "execution_count": 10,
     "metadata": {},
     "output_type": "execute_result"
    }
   ],
   "source": [
    "#######  LINK BETWEEN    preci_water (dqcloud_sum) vs dsst"
   ]
  },
  {
   "cell_type": "code",
   "execution_count": 16,
   "id": "a841733d",
   "metadata": {},
   "outputs": [],
   "source": [
    "preci_water = QCLOUD.sum(axis=1)      # SBAGLIATO!!!!! OCCHIO AI g/kg_air"
   ]
  },
  {
   "cell_type": "code",
   "execution_count": 27,
   "id": "4332d8db",
   "metadata": {},
   "outputs": [
    {
     "name": "stdout",
     "output_type": "stream",
     "text": [
      "0\n",
      "10\n",
      "20\n"
     ]
    }
   ],
   "source": [
    "# compute anomalies daily data\n",
    "s = 100\n",
    "\n",
    "dpreci_water = np.zeros(preci_water.values.shape)\n",
    "\n",
    "devo_fare_dsst = True\n",
    "if devo_fare_dsst:\n",
    "    dsst_day = np.zeros(sst_day.shape)\n",
    "\n",
    "\n",
    "for t in range(0,sst_day.shape[0]):\n",
    "    if t % 10 == 0:\n",
    "        print(t)\n",
    "    pw_ave = gm.nan_gaussian_filter(preci_water[t],s)                             \n",
    "    dpreci_water[t] = preci_water[t] - pw_ave\n",
    "    \n",
    "    if devo_fare_dsst:\n",
    "        sst_ave = gm.nan_gaussian_filter(sst_day[t],s)                             \n",
    "        dsst_day[t] = sst_day[t] - sst_ave\n",
    "\n",
    "    "
   ]
  },
  {
   "cell_type": "code",
   "execution_count": 53,
   "id": "8c5d6f8a",
   "metadata": {},
   "outputs": [],
   "source": [
    "# SST vs PRECI_WATER    #   x_index = int(0); y_index = int(0)\n",
    "perc_step = 2\n",
    "nbins = int(100/perc_step)\n",
    "popmean = 0.\n",
    "\n",
    "pdist_sst, pdist_pw_sst, pstd_pw_sst, pstd_err_pw_sst, pnpoints_pw_sst, ppvalue_pw_sst = \\\n",
    "distrib_2d(sst_day.values, preci_water.values, perc_step, nbins, popmean, perc_fixbin='perc')\n",
    "\n",
    "dist_sst, dist_pw_sst, std_pw_sst, std_err_pw_sst, npoints_pw_sst, pvalue_pw_sst = \\\n",
    "distrib_2d(sst_day.values, preci_water.values, perc_step, nbins, popmean, perc_fixbin='fb')"
   ]
  },
  {
   "cell_type": "code",
   "execution_count": 54,
   "id": "933da7c3",
   "metadata": {},
   "outputs": [],
   "source": [
    "# dSST vs PRECI_WATER    # x_index = int(1); y_index = int(1)\n",
    "perc_step = 2\n",
    "nbins = int(100/perc_step)\n",
    "popmean = 0.\n",
    "\n",
    "pdist_dsst, pdist_pw_dsst, pstd_pw_dsst, pstd_err_pw_dsst, pnpoints_pw_dsst, ppvalue_pw_dsst = \\\n",
    "distrib_2d(dsst_day, preci_water.values, perc_step, nbins, popmean, perc_fixbin='perc')\n",
    "\n",
    "dist_dsst, dist_pw_dsst, std_pw_dsst, std_err_pw_dsst, npoints_pw_dsst, pvalue_pw_dsst = \\\n",
    "distrib_2d(dsst_day, preci_water.values, perc_step, nbins, popmean, perc_fixbin='fb')"
   ]
  },
  {
   "cell_type": "code",
   "execution_count": 55,
   "id": "5ca46924",
   "metadata": {},
   "outputs": [],
   "source": [
    "# dSST vs dPRECI_WATER  # x_index = int(1); y_index = int(2)\n",
    "perc_step = 2\n",
    "nbins = int(100/perc_step)\n",
    "popmean = 0.\n",
    "\n",
    "pdist_dsst, pdist_dpw_dsst, pstd_dpw_dsst, pstd_err_dpw_dsst, pnpoints_dpw_dsst, ppvalue_dpw_dsst = \\\n",
    "distrib_2d(dsst_day, dpreci_water, perc_step, nbins, popmean, perc_fixbin='perc')\n",
    "\n",
    "dist_dsst, dist_dpw_dsst, std_dpw_dsst, std_err_dpw_dsst, npoints_dpw_dsst, pvalue_dpw_dsst = \\\n",
    "distrib_2d(dsst_day, dpreci_water, perc_step, nbins, popmean, perc_fixbin='fb')"
   ]
  },
  {
   "cell_type": "code",
   "execution_count": 32,
   "id": "a0dac811",
   "metadata": {},
   "outputs": [
    {
     "data": {
      "text/plain": [
       "(20,)"
      ]
     },
     "execution_count": 32,
     "metadata": {},
     "output_type": "execute_result"
    }
   ],
   "source": [
    "pdist_dpw_dsst.shape"
   ]
  },
  {
   "cell_type": "code",
   "execution_count": 61,
   "id": "e4ee38cf",
   "metadata": {},
   "outputs": [
    {
     "data": {
      "image/png": "[encoded data removed]",
      "text/plain": [
       "<Figure size 1000x500 with 3 Axes>"
      ]
     },
     "metadata": {},
     "output_type": "display_data"
    }
   ],
   "source": [
    "fig, ax = plt.subplots(1,2, figsize=(10,5))\n",
    "\n",
    "x_index = int(1); y_index = int(2)\n",
    "\n",
    "\n",
    "if x_index == 0 and y_index == 0:\n",
    "    xlab = 'SST [˚C]'\n",
    "    ylab = 'Total cloud [g/kg]'\n",
    "elif x_index == 1 and y_index == 1:\n",
    "    xlab = 'SST anoms [˚C]'\n",
    "    ylab = 'Total cloud [g/kg]'\n",
    "elif x_index == 1 and y_index == 2:\n",
    "    xlab = 'SST anoms [˚C]'\n",
    "    ylab = 'Total cloud anoms [g/kg]'\n",
    "else:\n",
    "    print('wrong combination')\n",
    "\n",
    "\n",
    "# PERCENTILES\n",
    "px_pw = [pdist_sst-273.15, pdist_dsst]\n",
    "py_pw = [pdist_pw_sst, pdist_pw_dsst, pdist_dpw_dsst]\n",
    "ax[0].plot(px_pw[x_index], py_pw[y_index]*1000, '.-', color='b', linewidth=3)\n",
    "\n",
    "ax[0].set_ylabel(ylab, fontsize=12); ax[0].set_xlabel(xlab, fontsize=12); \n",
    "ax[0].grid(); ax[0].set_title('PDist')\n",
    "\n",
    "\n",
    "\n",
    "\n",
    "# FIXED BINS\n",
    "fbx_pw = [dist_sst-273.15, dist_dsst]\n",
    "fby_pw = [dist_pw_sst, dist_pw_dsst, dist_dpw_dsst]\n",
    "fb_points = [npoints_pw_sst, npoints_pw_dsst, npoints_dpw_dsst]\n",
    "ax[1].plot(fbx_pw[x_index], fby_pw[y_index]*1000, '.-',color='firebrick', linewidth=3, label='Cloud' )\n",
    "ax[1].set_xlabel(xlab, fontsize=12); \n",
    "ax[1].grid(); ax[1].set_title('Bins')\n",
    "\n",
    "axxx = ax[1].twinx()\n",
    "ax[1].plot(fbx_pw[x_index], fb_points[y_index]/np.sum(fb_points), '-', color='g', label='NPoints') \n",
    "axxx.set_ylabel('Bin points distr.', fontsize=12, labelpad=10)\n",
    "ax[1].legend()\n",
    "\n",
    "\n",
    "if x_index == 0 and y_index == 0:\n",
    "    title = 'Full fields - SST vs TotCloud'\n",
    "    filename = 'sst_totCloud_daily_FEB_2pc.png'\n",
    "elif x_index == 1 and y_index == 1:\n",
    "    title = 'dSST vs TotCloud'\n",
    "    filename = 'dsst_totCloud_daily_FEB_2pc.png'\n",
    "elif x_index == 1 and y_index == 2:\n",
    "    title = 'dSST vs dTotCloud'\n",
    "    filename = 'dsst_dTotCloud_daily_FEB_2pc.png'\n",
    "else:\n",
    "    print('wrong combination')\n",
    "    \n",
    "fig.suptitle(title)\n",
    "\n",
    "plt.subplots_adjust(wspace=0.3, \n",
    "                    hspace=0.3)\n",
    "\n",
    "\n",
    "#plt.savefig('/venus/tesi_ale/img_EU/QCLOUD/daily/2_perc/'+filename)"
   ]
  },
  {
   "cell_type": "code",
   "execution_count": null,
   "id": "286d1e9b",
   "metadata": {},
   "outputs": [],
   "source": []
  },
  {
   "cell_type": "code",
   "execution_count": null,
   "id": "c25e45c7",
   "metadata": {},
   "outputs": [],
   "source": []
  },
  {
   "cell_type": "code",
   "execution_count": null,
   "id": "2d8eee79",
   "metadata": {},
   "outputs": [],
   "source": []
  },
  {
   "cell_type": "code",
   "execution_count": null,
   "id": "0f6a393f",
   "metadata": {},
   "outputs": [],
   "source": []
  },
  {
   "cell_type": "code",
   "execution_count": null,
   "id": "0aaabbb5",
   "metadata": {},
   "outputs": [],
   "source": [
    "### convective rain on?   -> NOPE!"
   ]
  },
  {
   "cell_type": "code",
   "execution_count": 30,
   "id": "8687839f",
   "metadata": {},
   "outputs": [],
   "source": [
    "rain = ds_hourly['RAINCV'].sel(time_counter=slice('2020-02-01T01:30:00.000000000', '2020-03-01T01:30:00.000000000'))\n",
    "rain = rain.where(sea_mask, drop=False)"
   ]
  },
  {
   "cell_type": "code",
   "execution_count": 31,
   "id": "3ad981e8",
   "metadata": {},
   "outputs": [],
   "source": [
    "tot_rain = rain.sum(dim='time_counter')"
   ]
  },
  {
   "cell_type": "code",
   "execution_count": 32,
   "id": "5c7f4563",
   "metadata": {},
   "outputs": [
    {
     "data": {
      "text/plain": [
       "<matplotlib.colorbar.Colorbar at 0x7fe15f9b9890>"
      ]
     },
     "execution_count": 32,
     "metadata": {},
     "output_type": "execute_result"
    },
    {
     "data": {
      "image/png": "[encoded data removed]",
      "text/plain": [
       "<Figure size 640x480 with 2 Axes>"
      ]
     },
     "metadata": {},
     "output_type": "display_data"
    }
   ],
   "source": [
    "plt.pcolormesh(lon_M, lat_M, tot_rain[:,:], vmin=0., vmax=0.2)\n",
    "plt.colorbar()"
   ]
  },
  {
   "cell_type": "code",
   "execution_count": null,
   "id": "c0d32dad",
   "metadata": {},
   "outputs": [],
   "source": []
  }
 ],
 "metadata": {
  "kernelspec": {
   "display_name": "Python 3 (ipykernel)",
   "language": "python",
   "name": "python3"
  },
  "language_info": {
   "codemirror_mode": {
    "name": "ipython",
    "version": 3
   },
   "file_extension": ".py",
   "mimetype": "text/x-python",
   "name": "python",
   "nbconvert_exporter": "python",
   "pygments_lexer": "ipython3",
   "version": "3.7.11"
  }
 },
 "nbformat": 4,
 "nbformat_minor": 5
}
