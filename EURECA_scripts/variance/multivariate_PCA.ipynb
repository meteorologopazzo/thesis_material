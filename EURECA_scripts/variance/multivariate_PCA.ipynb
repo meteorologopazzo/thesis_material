{
 "cells": [
  {
   "cell_type": "markdown",
   "id": "3cca0618",
   "metadata": {},
   "source": [
    "# Can a multivariate regression fit help for LHF'?"
   ]
  },
  {
   "cell_type": "code",
   "execution_count": 9,
   "id": "6245c682",
   "metadata": {},
   "outputs": [],
   "source": [
    "from sklearn import linear_model\n",
    "# Some calculation for the LHF coupling and separation across spatial scales.\n",
    "import numpy as np\n",
    "import matplotlib.pyplot as plt\n",
    "from matplotlib import cm\n",
    "import xarray as xr\n",
    "import glob\n",
    "import sys; sys.path.insert(1, '/home/alessandro/thesis_material/EURECA_scripts/')\n",
    "import geometry as gm\n",
    "import warnings; warnings.filterwarnings(\"ignore\")\n",
    "import re"
   ]
  },
  {
   "cell_type": "code",
   "execution_count": 10,
   "id": "08073f8e",
   "metadata": {},
   "outputs": [],
   "source": [
    "\n",
    "avg_primes_ls = glob.glob('/venus/tesi_ale/data_EU/VARIANCE_LHF/daily/FEB/ForCouComparison/primes/*barsprimes*')\n",
    "avg_primes_ls = sorted(avg_primes_ls)\n",
    "\n",
    "\n",
    "primes_highpas, primes_inf, primes_bandpas = [], [], []\n",
    "\n",
    "for i, item in enumerate(avg_primes_ls):\n",
    "    if re.search(r'passalto', item):\n",
    "        primes_highpas.append(item)\n",
    "    elif re.search(r'sigma-inf', item):\n",
    "        primes_inf.append(item)\n",
    "    elif re.search(r'band-pass', item):\n",
    "        primes_bandpas.append(item)"
   ]
  },
  {
   "cell_type": "code",
   "execution_count": null,
   "id": "dfc40c85",
   "metadata": {},
   "outputs": [],
   "source": [
    "name_vars = ['sst_bar', 'sst_prime', 'ta_bar', 'ta_prime', 'qa_bar', \n",
    "             'qa_prime', 'U_bar', 'U_prime', 'RH_bar', 'RH_prime', 'lhf_prime']"
   ]
  },
  {
   "cell_type": "markdown",
   "id": "66e23104",
   "metadata": {},
   "source": [
    "# Coupled model"
   ]
  },
  {
   "cell_type": "markdown",
   "id": "8e1794ac",
   "metadata": {},
   "source": [
    "## High-pass"
   ]
  },
  {
   "cell_type": "code",
   "execution_count": 11,
   "id": "92101a31",
   "metadata": {},
   "outputs": [],
   "source": [
    "ds_hp_primes_cou, ds_hp_primes_for = xr.open_dataset(primes_highpas[0]), xr.open_dataset(primes_highpas[1])   \n",
    "  \n"
   ]
  },
  {
   "cell_type": "code",
   "execution_count": 26,
   "id": "41a62cac",
   "metadata": {},
   "outputs": [],
   "source": [
    "ds_in_use = ds_hp_primes_cou\n",
    "\n",
    "\n",
    "lhf_prime = ds_in_use['lhf_prime'].values.flatten()\n",
    "lhf_prime = lhf_prime[~np.isnan(lhf_prime)]\n",
    "\n",
    "\n",
    "sst_prime, U_prime, qa_prime = ds_in_use['sst_prime'].values, ds_in_use['U_prime'].values, ds_in_use['qa_prime'].values\n",
    "\n",
    "sst_prime = sst_prime[~np.isnan(sst_prime)].flatten()\n",
    "U_prime = U_prime[~np.isnan(U_prime)].flatten()\n",
    "qa_prime = qa_prime[~np.isnan(qa_prime)].flatten()\n",
    "\n",
    "primes = np.array([sst_prime, U_prime, qa_prime]).transpose()\n"
   ]
  },
  {
   "cell_type": "code",
   "execution_count": 27,
   "id": "7fddbea5",
   "metadata": {},
   "outputs": [],
   "source": [
    "regr = linear_model.LinearRegression()\n",
    "fitting = regr.fit(primes, lhf_prime)"
   ]
  },
  {
   "cell_type": "code",
   "execution_count": 29,
   "id": "0ec4e9d8",
   "metadata": {},
   "outputs": [
    {
     "data": {
      "text/plain": [
       "0.984033626522989"
      ]
     },
     "execution_count": 29,
     "metadata": {},
     "output_type": "execute_result"
    }
   ],
   "source": [
    "regr.score(primes, lhf_prime)"
   ]
  },
  {
   "cell_type": "code",
   "execution_count": 36,
   "id": "d701cb4f",
   "metadata": {},
   "outputs": [
    {
     "name": "stdout",
     "output_type": "stream",
     "text": [
      "coeff for sst' = 42.28\n",
      "coeff for U' = 21.1\n",
      "coeff for q' = -33213.23\n",
      "intercept = 0.03 W/m2\n"
     ]
    }
   ],
   "source": [
    "print(f\"coeff sst' [K] = {round(fitting.coef_[0], 2)}\")\n",
    "print(f\"coeff U' [m/s] = {round(fitting.coef_[1], 2)}\")\n",
    "print(f\"coeff q' [kg/kg] = {round(fitting.coef_[2], 2)}\")\n",
    "print(f\"intercept = {round(fitting.intercept_, 2)} W/m2\")"
   ]
  },
  {
   "cell_type": "code",
   "execution_count": null,
   "id": "2165036e",
   "metadata": {},
   "outputs": [],
   "source": []
  },
  {
   "cell_type": "markdown",
   "id": "bc43df18",
   "metadata": {},
   "source": [
    "# let's try to fit the variance with all the terms"
   ]
  },
  {
   "cell_type": "code",
   "execution_count": 43,
   "id": "3bb14a6f",
   "metadata": {},
   "outputs": [
    {
     "name": "stdout",
     "output_type": "stream",
     "text": [
      "index 1\n",
      "index 3\n",
      "index 5\n",
      "index 7\n",
      "index 9\n",
      "index 11\n"
     ]
    }
   ],
   "source": [
    "lambda_vars_ls = glob.glob('/venus/tesi_ale/data_EU/VARIANCE_LHF/daily/FEB/ForCouComparison/lambda_vars/*')\n",
    "lambda_vars_ls = sorted(lambda_vars_ls)\n",
    "\n",
    "import re\n",
    "indices = []\n",
    "for i, item in enumerate(lambda_vars_ls):\n",
    "    if re.search(r'lhfRH', item):\n",
    "        print(f'index {i}')\n",
    "        indices.append(i)\n",
    "\n",
    "    # cleaning up which data to use\n",
    "indices = np.array(indices).astype('int')\n",
    "for index in sorted(indices, reverse=True):\n",
    "    del lambda_vars_ls[index]\n",
    "    \n",
    "    \n",
    "vars_highpas, vars_inf, vars_bandpas = [], [], []\n",
    "\n",
    "for i, item in enumerate(lambda_vars_ls):\n",
    "    if re.search(r'passalto', item):\n",
    "        vars_highpas.append(item)\n",
    "    elif re.search(r'sigma-inf', item):\n",
    "        vars_inf.append(item)\n",
    "    elif re.search(r'bandpass', item):\n",
    "        vars_bandpas.append(item)"
   ]
  },
  {
   "cell_type": "code",
   "execution_count": null,
   "id": "911c076e",
   "metadata": {},
   "outputs": [],
   "source": [
    "['lambda_sst', 'lambda_U', 'lambda_ta', 'lambda_RH', 'lambda_q',\n",
    " 'var_lhf', 'var_sst', 'var_U', 'var_ta', 'var_RH', \n",
    " 'covar_U_sst', 'covar_ta_sst', 'covar_RH_sst', 'covar_U_ta',\n",
    " 'covar_U_RH', 'covar_ta_RH', 'covar_lhf_sst', 'covar_U_q', 'covar_q_sst', 'var_qa']"
   ]
  },
  {
   "cell_type": "code",
   "execution_count": 45,
   "id": "5821d558",
   "metadata": {},
   "outputs": [],
   "source": [
    "ds_in_use = xr.open_dataset(vars_highpas[0])\n",
    "\n",
    "\n",
    "lambda_U = ds_in_use['lambda_U'].values\n",
    "lambda_sst = ds_in_use['lambda_sst'].values\n",
    "lambda_q = ds_in_use['lambda_q'].values\n",
    "\n",
    "var_lhf = ds_in_use['var_lhf'].values\n",
    "var_qa = ds_in_use['var_qa'].values\n",
    "var_U = ds_in_use['var_U'].values\n",
    "covar_U_q = ds_in_use['covar_U_q'].values\n",
    "\n",
    "# sst terms\n",
    "var_sst = ds_in_use['var_sst'].values\n",
    "covar_U_sst = ds_in_use['covar_U_sst'].values\n",
    "covar_q_sst = ds_in_use['covar_q_sst'].values\n",
    "\n",
    "\n",
    "\n",
    "lambda_U = lambda_U[~np.isnan(lambda_U)].flatten()\n",
    "lambda_sst = lambda_sst[~np.isnan(lambda_sst)].flatten()\n",
    "lambda_q = lambda_q[~np.isnan(lambda_q)].flatten()\n",
    "\n",
    "var_lhf = var_lhf[~np.isnan(var_lhf)].flatten()\n",
    "var_qa = var_qa[~np.isnan(var_qa)].flatten()\n",
    "var_U = var_U[~np.isnan(var_U)].flatten()\n",
    "covar_U_q = covar_U_q[~np.isnan(covar_U_q)].flatten()\n",
    "\n",
    "var_sst = var_sst[~np.isnan(var_sst)].flatten()\n",
    "covar_U_sst = covar_U_sst[~np.isnan(covar_U_sst)].flatten()\n",
    "covar_q_sst = covar_q_sst[~np.isnan(covar_q_sst)].flatten()\n",
    "\n",
    "\n",
    "\n",
    "# sst_terms = (lambda_sst**2*var_sst + 2*lambda_sst*(lambda_U*covar_U_sst +\\\n",
    "#                                                                    lambda_q*covar_q_sst ))\n",
    "# non_sst_terms = (lambda_U**2*var_U + lambda_q**2*var_qa + 2*lambda_q*lambda_U*covar_U_q)\n",
    "# var_lhf_sum = sst_terms + non_sst_terms"
   ]
  },
  {
   "cell_type": "code",
   "execution_count": 46,
   "id": "9c0f112e",
   "metadata": {},
   "outputs": [],
   "source": [
    "X = np.array([var_sst, var_U, var_qa, covar_U_sst, covar_q_sst, covar_U_q]).transpose()"
   ]
  },
  {
   "cell_type": "code",
   "execution_count": 49,
   "id": "1cd33244",
   "metadata": {},
   "outputs": [
    {
     "name": "stdout",
     "output_type": "stream",
     "text": [
      "R2 score for fit = 0.92\n"
     ]
    }
   ],
   "source": [
    "regr = linear_model.LinearRegression()\n",
    "fitting = regr.fit(X, var_lhf)\n",
    "print(f'R2 score for fit = {round(regr.score(X, var_lhf),2)}')"
   ]
  },
  {
   "cell_type": "code",
   "execution_count": 50,
   "id": "984db093",
   "metadata": {},
   "outputs": [
    {
     "name": "stdout",
     "output_type": "stream",
     "text": [
      "coeff var_sst [K2] = 1638.89\n",
      "coeff var_U [m2/s2] = 380.88\n",
      "coeff var_q [kg2/kg2] = 1327493064.06\n",
      "coeff covar_U_sst = 1960.33\n",
      "coeff covar_q_sst  = -2414059.11\n",
      "coeff covar_U_q = -1968801.47\n",
      "intercept = -2.47 W2/m4\n"
     ]
    }
   ],
   "source": [
    "print(f\"coeff var_sst [K2] = {round(fitting.coef_[0], 2)}\")\n",
    "print(f\"coeff var_U [m2/s2] = {round(fitting.coef_[1], 2)}\")\n",
    "print(f\"coeff var_q [kg2/kg2] = {round(fitting.coef_[2], 2)}\")\n",
    "print(f\"coeff covar_U_sst = {round(fitting.coef_[3], 2)}\")\n",
    "print(f\"coeff covar_q_sst  = {round(fitting.coef_[4], 2)}\")\n",
    "print(f\"coeff covar_U_q = {round(fitting.coef_[5], 2)}\")\n",
    "\n",
    "print(f\"intercept = {round(fitting.intercept_, 2)} W2/m4\")"
   ]
  },
  {
   "cell_type": "markdown",
   "id": "c3e5e35e",
   "metadata": {},
   "source": [
    "### estimate Standard Error over coefficients\n",
    "from here: https://stackoverflow.com/questions/22381497/python-scikit-learn-linear-model-parameter-standard-error\n",
    "https://stats.stackexchange.com/questions/405429/uncertainty-in-linear-regression-coefficients"
   ]
  },
  {
   "cell_type": "code",
   "execution_count": 61,
   "id": "a6694694",
   "metadata": {},
   "outputs": [
    {
     "name": "stdout",
     "output_type": "stream",
     "text": [
      "SE(beta_hat[0]): 0.03669934734935445\n",
      "SE(beta_hat[1]): 0.6109827783105465\n",
      "SE(beta_hat[2]): 0.3293733921311048\n",
      "SE(beta_hat[3]): 555816.1535398214\n",
      "SE(beta_hat[4]): 1.4860325175403253\n",
      "SE(beta_hat[5]): 2197.4162076830794\n",
      "SE(beta_hat[6]): 716.8051876739343\n"
     ]
    }
   ],
   "source": [
    "N = len(var_lhf)\n",
    "p = X.shape[1]+1\n",
    "\n",
    "var_lhf_pred = fitting.predict(X)\n",
    "res = var_lhf - var_lhf_pred\n",
    "res_sum_of_squares = res.T @ res\n",
    "sigma_sqrd = res_sum_of_squares / (N - p)   #[0, 0]\n",
    "\n",
    "\n",
    "X_with_intercept = np.empty(shape=(N, p), dtype=np.float)\n",
    "X_with_intercept[:, 0] = 1\n",
    "X_with_intercept[:, 1:p] = X  #.values\n",
    "\n",
    "\n",
    "var_beta_hat = np.linalg.inv(X_with_intercept.T @ X_with_intercept) * sigma_sqrd\n",
    "for p_ in range(p):\n",
    "    standard_error = var_beta_hat[p_, p_] ** 0.5\n",
    "    print(f\"SE(beta_hat[{p_}]): {standard_error}\")"
   ]
  },
  {
   "cell_type": "code",
   "execution_count": 60,
   "id": "84f26894",
   "metadata": {},
   "outputs": [
    {
     "data": {
      "text/plain": [
       "7763412867.758364"
      ]
     },
     "execution_count": 60,
     "metadata": {},
     "output_type": "execute_result"
    }
   ],
   "source": [
    "res_sum_of_squares"
   ]
  },
  {
   "cell_type": "code",
   "execution_count": null,
   "id": "bd16b7ab",
   "metadata": {},
   "outputs": [],
   "source": []
  },
  {
   "cell_type": "code",
   "execution_count": null,
   "id": "45a7183a",
   "metadata": {},
   "outputs": [],
   "source": []
  },
  {
   "cell_type": "code",
   "execution_count": null,
   "id": "7bbf36bc",
   "metadata": {},
   "outputs": [],
   "source": []
  },
  {
   "cell_type": "markdown",
   "id": "7c5dec29",
   "metadata": {},
   "source": [
    "## Bandpass"
   ]
  },
  {
   "cell_type": "code",
   "execution_count": null,
   "id": "c8ee5d71",
   "metadata": {},
   "outputs": [],
   "source": [
    "ds_bp_primes_cou, ds_bp_primes_for = xr.open_dataset(primes_bandpas[0]), xr.open_dataset(primes_bandpas[1]) "
   ]
  },
  {
   "cell_type": "code",
   "execution_count": 37,
   "id": "a437e7eb",
   "metadata": {},
   "outputs": [],
   "source": [
    "ds_in_use = ds_bp_primes_cou\n",
    "\n",
    "lhf_prime = ds_in_use['lhf_prime'].values.flatten()\n",
    "lhf_prime = lhf_prime[~np.isnan(lhf_prime)]\n",
    "\n",
    "\n",
    "sst_prime, U_prime, qa_prime = ds_in_use['sst_prime'].values, ds_in_use['U_prime'].values, ds_in_use['qa_prime'].values\n",
    "\n",
    "sst_prime = sst_prime[~np.isnan(sst_prime)].flatten()\n",
    "U_prime = U_prime[~np.isnan(U_prime)].flatten()\n",
    "qa_prime = qa_prime[~np.isnan(qa_prime)].flatten()\n",
    "\n",
    "primes = np.array([sst_prime, U_prime, qa_prime]).transpose()\n"
   ]
  },
  {
   "cell_type": "code",
   "execution_count": 38,
   "id": "bd3a2909",
   "metadata": {},
   "outputs": [
    {
     "name": "stdout",
     "output_type": "stream",
     "text": [
      "R2 score for fit = 0.985025913492125\n"
     ]
    }
   ],
   "source": [
    "regr = linear_model.LinearRegression()\n",
    "fitting = regr.fit(primes, lhf_prime)\n",
    "print(f'R2 score for fit = {regr.score(primes, lhf_prime)}')"
   ]
  },
  {
   "cell_type": "code",
   "execution_count": 39,
   "id": "ee3f6dd4",
   "metadata": {},
   "outputs": [
    {
     "name": "stdout",
     "output_type": "stream",
     "text": [
      "coeff sst' [K] = 42.36\n",
      "coeff U' [m/s] = 21.48\n",
      "coeff q' [kg/kg] = -33325.79\n",
      "intercept = 0.02 W/m2\n"
     ]
    }
   ],
   "source": [
    "print(f\"coeff sst' [K] = {round(fitting.coef_[0], 2)}\")\n",
    "print(f\"coeff U' [m/s] = {round(fitting.coef_[1], 2)}\")\n",
    "print(f\"coeff q' [kg/kg] = {round(fitting.coef_[2], 2)}\")\n",
    "print(f\"intercept = {round(fitting.intercept_, 2)} W/m2\")"
   ]
  },
  {
   "cell_type": "code",
   "execution_count": null,
   "id": "79beb6a6",
   "metadata": {},
   "outputs": [],
   "source": []
  },
  {
   "cell_type": "code",
   "execution_count": null,
   "id": "89de4a33",
   "metadata": {},
   "outputs": [],
   "source": []
  },
  {
   "cell_type": "code",
   "execution_count": null,
   "id": "b27d3b0d",
   "metadata": {},
   "outputs": [],
   "source": []
  },
  {
   "cell_type": "code",
   "execution_count": null,
   "id": "09fff6fe",
   "metadata": {},
   "outputs": [],
   "source": []
  }
 ],
 "metadata": {
  "kernelspec": {
   "display_name": "Python 3 (ipykernel)",
   "language": "python",
   "name": "python3"
  },
  "language_info": {
   "codemirror_mode": {
    "name": "ipython",
    "version": 3
   },
   "file_extension": ".py",
   "mimetype": "text/x-python",
   "name": "python",
   "nbconvert_exporter": "python",
   "pygments_lexer": "ipython3",
   "version": "3.7.11"
  }
 },
 "nbformat": 4,
 "nbformat_minor": 5
}
