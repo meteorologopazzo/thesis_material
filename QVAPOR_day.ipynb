{
 "cells": [
  {
   "cell_type": "code",
   "execution_count": 5,
   "metadata": {},
   "outputs": [
    {
     "name": "stdout",
     "output_type": "stream",
     "text": [
      "The autoreload extension is already loaded. To reload it, use:\n",
      "  %reload_ext autoreload\n"
     ]
    }
   ],
   "source": [
    "%load_ext autoreload\n",
    "%autoreload 2"
   ]
  },
  {
   "cell_type": "code",
   "execution_count": 6,
   "metadata": {},
   "outputs": [],
   "source": [
    "import numpy as np\n",
    "import pandas as pd\n",
    "import glob\n",
    "import xarray as xr\n",
    "import matplotlib.pyplot as plt\n",
    "from scipy import stats\n",
    "import sys; sys.path.insert(1, '/home/matteo/Eureca/COARE35/functions')\n",
    "import geometry as gm\n",
    "import conversion as cnv\n",
    "from func_statistics import compute_pdf_nbin, slopes_r_p, slope_time, slope_maps\n",
    "from coare_functions import *\n",
    "import meteo\n",
    "import lcl\n",
    "import cartopy.crs as ccrs\n",
    "crs = ccrs.PlateCarree()\n",
    "from plotmap import plot_background\n",
    "from plotdistr import perc_distribution,perc_distribution_pvalue,perc_distribution_pvalue_dof\n",
    "import warnings; warnings.filterwarnings(\"ignore\")"
   ]
  },
  {
   "cell_type": "code",
   "execution_count": 7,
   "metadata": {},
   "outputs": [],
   "source": [
    "# find data\n",
    "path = '/media/matteo/DAGOBAH/WRF_EUREC4A/CNT/FEB/01/'\n",
    "wrf_files = path + 'wrfout_d02_2020-0'\n",
    "fname_list = sorted(glob.glob(wrf_files + '*'))"
   ]
  },
  {
   "cell_type": "code",
   "execution_count": 8,
   "metadata": {},
   "outputs": [],
   "source": [
    "minlon = -60.; maxlon = -51.\n",
    "minlat = 0.; maxlat = 17."
   ]
  },
  {
   "cell_type": "code",
   "execution_count": 9,
   "metadata": {},
   "outputs": [],
   "source": [
    "# open data\n",
    "ds_tot = xr.open_mfdataset(fname_list, concat_dim='Time', combine='nested')"
   ]
  },
  {
   "cell_type": "code",
   "execution_count": 10,
   "metadata": {},
   "outputs": [],
   "source": [
    "# select domain\n",
    "mask_lon = (ds_tot.XLONG >= minlon) & (ds_tot.XLONG <= maxlon)\n",
    "mask_lat = (ds_tot.XLAT >= minlat) & (ds_tot.XLAT <= maxlat)\n",
    "ds = ds_tot.where(mask_lon & mask_lat, drop=True)"
   ]
  },
  {
   "cell_type": "code",
   "execution_count": 11,
   "metadata": {},
   "outputs": [],
   "source": [
    "# def lon lat time\n",
    "lon = ds['XLONG'][0].values\n",
    "lat = ds['XLAT'][0].values\n",
    "time = ds['XTIME'].values.astype('<M8[s]')\n",
    "# land - sea mask\n",
    "lakemask = ds['LAKEMASK'][0].values\n",
    "landmask = ds['LANDMASK'][0].values\n",
    "seamask = 1 - lakemask - landmask\n",
    "seamask[seamask==0] = np.nan\n",
    "# def extended land-sea mask\n",
    "seamask_nocoast = seamask.copy(); seamask_island0 = seamask.copy()\n",
    "seamask_island0[:int(seamask_island0.shape[0]/2),:] = 1\n",
    "seamask_island = seamask_island0.copy()\n",
    "for i in range(0,5):\n",
    "    for j in range(0,5):\n",
    "        seamask_nocoast = np.roll(seamask, (i,j), axis=(1,0))*seamask_nocoast\n",
    "        seamask_island = np.roll(seamask_island0, (-i,-j), axis=(1,0))*seamask_island\n",
    "seamask_nocoast = seamask_nocoast*seamask_island\n",
    "seamask = seamask_nocoast.copy()"
   ]
  },
  {
   "cell_type": "code",
   "execution_count": 8,
   "metadata": {},
   "outputs": [],
   "source": [
    "GP = (ds['P'][10]+ds['PB'][10])*seamask/100.\n",
    "GP = np.nanmean(GP, axis=(1,2))"
   ]
  },
  {
   "cell_type": "code",
   "execution_count": 9,
   "metadata": {},
   "outputs": [],
   "source": [
    "GPH = (ds['PH'][10]+ds['PHB'][10])*seamask/9.81\n",
    "GPH = np.nanmean(GPH, axis=(1,2))"
   ]
  },
  {
   "cell_type": "code",
   "execution_count": 12,
   "metadata": {},
   "outputs": [],
   "source": [
    "# daily varaibles\n",
    "# select sst, q2, U, PBLH\n",
    "sst_day = ds['SST'].groupby('XTIME.day').mean().values*seamask"
   ]
  },
  {
   "cell_type": "code",
   "execution_count": 13,
   "metadata": {},
   "outputs": [
    {
     "name": "stdout",
     "output_type": "stream",
     "text": [
      "0\n",
      "10\n",
      "20\n"
     ]
    }
   ],
   "source": [
    "# compute anomalies daily data\n",
    "s = 50\n",
    "dsst_day = np.zeros(sst_day.shape)\n",
    "for t in range(0,sst_day.shape[0]):\n",
    "    if t % 10 == 0:\n",
    "        print(t)\n",
    "    # upscale using gaussian filter\n",
    "    sst_ave = gm.nan_gaussian_filter(sst_day[t],s)*seamask\n",
    "    dsst_day[t] = sst_day[t] - sst_ave"
   ]
  },
  {
   "cell_type": "code",
   "execution_count": null,
   "metadata": {},
   "outputs": [],
   "source": [
    "# # hourly varaibles\n",
    "# # select sst, q2, U, PBLH\n",
    "# sst = ds['SST'].values*seamask"
   ]
  },
  {
   "cell_type": "code",
   "execution_count": null,
   "metadata": {},
   "outputs": [],
   "source": [
    "# # compute anomalies hourly data\n",
    "# s = 50\n",
    "# dsst = np.zeros(sst.shape)\n",
    "# for t in range(0,sst.shape[0]):\n",
    "#     if t % 50 == 0:\n",
    "#         print(t)\n",
    "#     # upscale using gaussian filter\n",
    "#     sst_ave = gm.nan_gaussian_filter(sst[t],s)*seamask\n",
    "#     dsst[t] = sst[t] - sst_ave"
   ]
  },
  {
   "cell_type": "code",
   "execution_count": null,
   "metadata": {},
   "outputs": [],
   "source": [
    "# read QVAPOR DAY from QVAPOR dataset\n",
    "path_dir = '/media/fabien/DAGOBAH/WRF_EUREC4A/CNT/FEB/01_var_33levels/'\n",
    "ds_tmp = xr.open_dataset(path_dir + 'QVAPOR_d02_2020-02')\n",
    "maskl_lon = (ds_tmp.XLONG >= minlon) & (ds_tmp.XLONG <= maxlon)\n",
    "maskl_lat = (ds_tmp.XLAT >= minlat) & (ds_tmp.XLAT <= maxlat)\n",
    "ds_tmp = ds_tmp.where(maskl_lon & maskl_lat, drop=True)\n",
    "QVAPOR_day = ds_tmp['QVAPOR'].groupby('XTIME.day').mean().values*seamask\n",
    "del ds_tmp"
   ]
  },
  {
   "cell_type": "code",
   "execution_count": 14,
   "metadata": {},
   "outputs": [
    {
     "ename": "KeyboardInterrupt",
     "evalue": "",
     "output_type": "error",
     "traceback": [
      "\u001b[0;31m---------------------------------------------------------------------------\u001b[0m",
      "\u001b[0;31mKeyboardInterrupt\u001b[0m                         Traceback (most recent call last)",
      "\u001b[0;32m/tmp/ipykernel_23817/142851132.py\u001b[0m in \u001b[0;36m<module>\u001b[0;34m\u001b[0m\n\u001b[1;32m      1\u001b[0m \u001b[0;31m# read QVAPOR DAY from hourly wrfout\u001b[0m\u001b[0;34m\u001b[0m\u001b[0;34m\u001b[0m\u001b[0;34m\u001b[0m\u001b[0m\n\u001b[1;32m      2\u001b[0m \u001b[0;31m# QVAPOR_day = ds['QVAPOR'][:,:50].groupby('XTIME.day').mean().values*seamask\u001b[0m\u001b[0;34m\u001b[0m\u001b[0;34m\u001b[0m\u001b[0;34m\u001b[0m\u001b[0m\n\u001b[0;32m----> 3\u001b[0;31m \u001b[0mQVAPOR_day\u001b[0m \u001b[0;34m=\u001b[0m \u001b[0mds\u001b[0m\u001b[0;34m[\u001b[0m\u001b[0;34m'QVAPOR'\u001b[0m\u001b[0;34m]\u001b[0m\u001b[0;34m.\u001b[0m\u001b[0mgroupby\u001b[0m\u001b[0;34m(\u001b[0m\u001b[0;34m'XTIME.day'\u001b[0m\u001b[0;34m)\u001b[0m\u001b[0;34m.\u001b[0m\u001b[0mmean\u001b[0m\u001b[0;34m(\u001b[0m\u001b[0;34m)\u001b[0m\u001b[0;34m.\u001b[0m\u001b[0mvalues\u001b[0m\u001b[0;34m*\u001b[0m\u001b[0mseamask\u001b[0m\u001b[0;34m\u001b[0m\u001b[0;34m\u001b[0m\u001b[0m\n\u001b[0m",
      "\u001b[0;32m~/miniconda3/envs/eureca/lib/python3.7/site-packages/xarray/core/dataarray.py\u001b[0m in \u001b[0;36mvalues\u001b[0;34m(self)\u001b[0m\n\u001b[1;32m    649\u001b[0m         \u001b[0mtype\u001b[0m \u001b[0mdoes\u001b[0m \u001b[0;32mnot\u001b[0m \u001b[0msupport\u001b[0m \u001b[0mcoercion\u001b[0m \u001b[0mlike\u001b[0m \u001b[0mthis\u001b[0m \u001b[0;34m(\u001b[0m\u001b[0me\u001b[0m\u001b[0;34m.\u001b[0m\u001b[0mg\u001b[0m\u001b[0;34m.\u001b[0m \u001b[0mcupy\u001b[0m\u001b[0;34m)\u001b[0m\u001b[0;34m.\u001b[0m\u001b[0;34m\u001b[0m\u001b[0;34m\u001b[0m\u001b[0m\n\u001b[1;32m    650\u001b[0m         \"\"\"\n\u001b[0;32m--> 651\u001b[0;31m         \u001b[0;32mreturn\u001b[0m \u001b[0mself\u001b[0m\u001b[0;34m.\u001b[0m\u001b[0mvariable\u001b[0m\u001b[0;34m.\u001b[0m\u001b[0mvalues\u001b[0m\u001b[0;34m\u001b[0m\u001b[0;34m\u001b[0m\u001b[0m\n\u001b[0m\u001b[1;32m    652\u001b[0m \u001b[0;34m\u001b[0m\u001b[0m\n\u001b[1;32m    653\u001b[0m     \u001b[0;34m@\u001b[0m\u001b[0mvalues\u001b[0m\u001b[0;34m.\u001b[0m\u001b[0msetter\u001b[0m\u001b[0;34m\u001b[0m\u001b[0;34m\u001b[0m\u001b[0m\n",
      "\u001b[0;32m~/miniconda3/envs/eureca/lib/python3.7/site-packages/xarray/core/variable.py\u001b[0m in \u001b[0;36mvalues\u001b[0;34m(self)\u001b[0m\n\u001b[1;32m    515\u001b[0m     \u001b[0;32mdef\u001b[0m \u001b[0mvalues\u001b[0m\u001b[0;34m(\u001b[0m\u001b[0mself\u001b[0m\u001b[0;34m)\u001b[0m\u001b[0;34m:\u001b[0m\u001b[0;34m\u001b[0m\u001b[0;34m\u001b[0m\u001b[0m\n\u001b[1;32m    516\u001b[0m         \u001b[0;34m\"\"\"The variable's data as a numpy.ndarray\"\"\"\u001b[0m\u001b[0;34m\u001b[0m\u001b[0;34m\u001b[0m\u001b[0m\n\u001b[0;32m--> 517\u001b[0;31m         \u001b[0;32mreturn\u001b[0m \u001b[0m_as_array_or_item\u001b[0m\u001b[0;34m(\u001b[0m\u001b[0mself\u001b[0m\u001b[0;34m.\u001b[0m\u001b[0m_data\u001b[0m\u001b[0;34m)\u001b[0m\u001b[0;34m\u001b[0m\u001b[0;34m\u001b[0m\u001b[0m\n\u001b[0m\u001b[1;32m    518\u001b[0m \u001b[0;34m\u001b[0m\u001b[0m\n\u001b[1;32m    519\u001b[0m     \u001b[0;34m@\u001b[0m\u001b[0mvalues\u001b[0m\u001b[0;34m.\u001b[0m\u001b[0msetter\u001b[0m\u001b[0;34m\u001b[0m\u001b[0;34m\u001b[0m\u001b[0m\n",
      "\u001b[0;32m~/miniconda3/envs/eureca/lib/python3.7/site-packages/xarray/core/variable.py\u001b[0m in \u001b[0;36m_as_array_or_item\u001b[0;34m(data)\u001b[0m\n\u001b[1;32m    257\u001b[0m     \u001b[0mTODO\u001b[0m\u001b[0;34m:\u001b[0m \u001b[0mremove\u001b[0m \u001b[0mthis\u001b[0m \u001b[0;34m(\u001b[0m\u001b[0mreplace\u001b[0m \u001b[0;32mwith\u001b[0m \u001b[0mnp\u001b[0m\u001b[0;34m.\u001b[0m\u001b[0masarray\u001b[0m\u001b[0;34m)\u001b[0m \u001b[0monce\u001b[0m \u001b[0mthese\u001b[0m \u001b[0missues\u001b[0m \u001b[0mare\u001b[0m \u001b[0mfixed\u001b[0m\u001b[0;34m\u001b[0m\u001b[0;34m\u001b[0m\u001b[0m\n\u001b[1;32m    258\u001b[0m     \"\"\"\n\u001b[0;32m--> 259\u001b[0;31m     \u001b[0mdata\u001b[0m \u001b[0;34m=\u001b[0m \u001b[0mnp\u001b[0m\u001b[0;34m.\u001b[0m\u001b[0masarray\u001b[0m\u001b[0;34m(\u001b[0m\u001b[0mdata\u001b[0m\u001b[0;34m)\u001b[0m\u001b[0;34m\u001b[0m\u001b[0;34m\u001b[0m\u001b[0m\n\u001b[0m\u001b[1;32m    260\u001b[0m     \u001b[0;32mif\u001b[0m \u001b[0mdata\u001b[0m\u001b[0;34m.\u001b[0m\u001b[0mndim\u001b[0m \u001b[0;34m==\u001b[0m \u001b[0;36m0\u001b[0m\u001b[0;34m:\u001b[0m\u001b[0;34m\u001b[0m\u001b[0;34m\u001b[0m\u001b[0m\n\u001b[1;32m    261\u001b[0m         \u001b[0;32mif\u001b[0m \u001b[0mdata\u001b[0m\u001b[0;34m.\u001b[0m\u001b[0mdtype\u001b[0m\u001b[0;34m.\u001b[0m\u001b[0mkind\u001b[0m \u001b[0;34m==\u001b[0m \u001b[0;34m\"M\"\u001b[0m\u001b[0;34m:\u001b[0m\u001b[0;34m\u001b[0m\u001b[0;34m\u001b[0m\u001b[0m\n",
      "\u001b[0;32m~/miniconda3/envs/eureca/lib/python3.7/site-packages/dask/array/core.py\u001b[0m in \u001b[0;36m__array__\u001b[0;34m(self, dtype, **kwargs)\u001b[0m\n\u001b[1;32m   1623\u001b[0m \u001b[0;34m\u001b[0m\u001b[0m\n\u001b[1;32m   1624\u001b[0m     \u001b[0;32mdef\u001b[0m \u001b[0m__array__\u001b[0m\u001b[0;34m(\u001b[0m\u001b[0mself\u001b[0m\u001b[0;34m,\u001b[0m \u001b[0mdtype\u001b[0m\u001b[0;34m=\u001b[0m\u001b[0;32mNone\u001b[0m\u001b[0;34m,\u001b[0m \u001b[0;34m**\u001b[0m\u001b[0mkwargs\u001b[0m\u001b[0;34m)\u001b[0m\u001b[0;34m:\u001b[0m\u001b[0;34m\u001b[0m\u001b[0;34m\u001b[0m\u001b[0m\n\u001b[0;32m-> 1625\u001b[0;31m         \u001b[0mx\u001b[0m \u001b[0;34m=\u001b[0m \u001b[0mself\u001b[0m\u001b[0;34m.\u001b[0m\u001b[0mcompute\u001b[0m\u001b[0;34m(\u001b[0m\u001b[0;34m)\u001b[0m\u001b[0;34m\u001b[0m\u001b[0;34m\u001b[0m\u001b[0m\n\u001b[0m\u001b[1;32m   1626\u001b[0m         \u001b[0;32mif\u001b[0m \u001b[0mdtype\u001b[0m \u001b[0;32mand\u001b[0m \u001b[0mx\u001b[0m\u001b[0;34m.\u001b[0m\u001b[0mdtype\u001b[0m \u001b[0;34m!=\u001b[0m \u001b[0mdtype\u001b[0m\u001b[0;34m:\u001b[0m\u001b[0;34m\u001b[0m\u001b[0;34m\u001b[0m\u001b[0m\n\u001b[1;32m   1627\u001b[0m             \u001b[0mx\u001b[0m \u001b[0;34m=\u001b[0m \u001b[0mx\u001b[0m\u001b[0;34m.\u001b[0m\u001b[0mastype\u001b[0m\u001b[0;34m(\u001b[0m\u001b[0mdtype\u001b[0m\u001b[0;34m)\u001b[0m\u001b[0;34m\u001b[0m\u001b[0;34m\u001b[0m\u001b[0m\n",
      "\u001b[0;32m~/miniconda3/envs/eureca/lib/python3.7/site-packages/dask/base.py\u001b[0m in \u001b[0;36mcompute\u001b[0;34m(self, **kwargs)\u001b[0m\n\u001b[1;32m    286\u001b[0m         \u001b[0mdask\u001b[0m\u001b[0;34m.\u001b[0m\u001b[0mbase\u001b[0m\u001b[0;34m.\u001b[0m\u001b[0mcompute\u001b[0m\u001b[0;34m\u001b[0m\u001b[0;34m\u001b[0m\u001b[0m\n\u001b[1;32m    287\u001b[0m         \"\"\"\n\u001b[0;32m--> 288\u001b[0;31m         \u001b[0;34m(\u001b[0m\u001b[0mresult\u001b[0m\u001b[0;34m,\u001b[0m\u001b[0;34m)\u001b[0m \u001b[0;34m=\u001b[0m \u001b[0mcompute\u001b[0m\u001b[0;34m(\u001b[0m\u001b[0mself\u001b[0m\u001b[0;34m,\u001b[0m \u001b[0mtraverse\u001b[0m\u001b[0;34m=\u001b[0m\u001b[0;32mFalse\u001b[0m\u001b[0;34m,\u001b[0m \u001b[0;34m**\u001b[0m\u001b[0mkwargs\u001b[0m\u001b[0;34m)\u001b[0m\u001b[0;34m\u001b[0m\u001b[0;34m\u001b[0m\u001b[0m\n\u001b[0m\u001b[1;32m    289\u001b[0m         \u001b[0;32mreturn\u001b[0m \u001b[0mresult\u001b[0m\u001b[0;34m\u001b[0m\u001b[0;34m\u001b[0m\u001b[0m\n\u001b[1;32m    290\u001b[0m \u001b[0;34m\u001b[0m\u001b[0m\n",
      "\u001b[0;32m~/miniconda3/envs/eureca/lib/python3.7/site-packages/dask/base.py\u001b[0m in \u001b[0;36mcompute\u001b[0;34m(traverse, optimize_graph, scheduler, get, *args, **kwargs)\u001b[0m\n\u001b[1;32m    569\u001b[0m         \u001b[0mpostcomputes\u001b[0m\u001b[0;34m.\u001b[0m\u001b[0mappend\u001b[0m\u001b[0;34m(\u001b[0m\u001b[0mx\u001b[0m\u001b[0;34m.\u001b[0m\u001b[0m__dask_postcompute__\u001b[0m\u001b[0;34m(\u001b[0m\u001b[0;34m)\u001b[0m\u001b[0;34m)\u001b[0m\u001b[0;34m\u001b[0m\u001b[0;34m\u001b[0m\u001b[0m\n\u001b[1;32m    570\u001b[0m \u001b[0;34m\u001b[0m\u001b[0m\n\u001b[0;32m--> 571\u001b[0;31m     \u001b[0mresults\u001b[0m \u001b[0;34m=\u001b[0m \u001b[0mschedule\u001b[0m\u001b[0;34m(\u001b[0m\u001b[0mdsk\u001b[0m\u001b[0;34m,\u001b[0m \u001b[0mkeys\u001b[0m\u001b[0;34m,\u001b[0m \u001b[0;34m**\u001b[0m\u001b[0mkwargs\u001b[0m\u001b[0;34m)\u001b[0m\u001b[0;34m\u001b[0m\u001b[0;34m\u001b[0m\u001b[0m\n\u001b[0m\u001b[1;32m    572\u001b[0m     \u001b[0;32mreturn\u001b[0m \u001b[0mrepack\u001b[0m\u001b[0;34m(\u001b[0m\u001b[0;34m[\u001b[0m\u001b[0mf\u001b[0m\u001b[0;34m(\u001b[0m\u001b[0mr\u001b[0m\u001b[0;34m,\u001b[0m \u001b[0;34m*\u001b[0m\u001b[0ma\u001b[0m\u001b[0;34m)\u001b[0m \u001b[0;32mfor\u001b[0m \u001b[0mr\u001b[0m\u001b[0;34m,\u001b[0m \u001b[0;34m(\u001b[0m\u001b[0mf\u001b[0m\u001b[0;34m,\u001b[0m \u001b[0ma\u001b[0m\u001b[0;34m)\u001b[0m \u001b[0;32min\u001b[0m \u001b[0mzip\u001b[0m\u001b[0;34m(\u001b[0m\u001b[0mresults\u001b[0m\u001b[0;34m,\u001b[0m \u001b[0mpostcomputes\u001b[0m\u001b[0;34m)\u001b[0m\u001b[0;34m]\u001b[0m\u001b[0;34m)\u001b[0m\u001b[0;34m\u001b[0m\u001b[0;34m\u001b[0m\u001b[0m\n\u001b[1;32m    573\u001b[0m \u001b[0;34m\u001b[0m\u001b[0m\n",
      "\u001b[0;32m~/miniconda3/envs/eureca/lib/python3.7/site-packages/dask/threaded.py\u001b[0m in \u001b[0;36mget\u001b[0;34m(dsk, result, cache, num_workers, pool, **kwargs)\u001b[0m\n\u001b[1;32m     85\u001b[0m         \u001b[0mget_id\u001b[0m\u001b[0;34m=\u001b[0m\u001b[0m_thread_get_id\u001b[0m\u001b[0;34m,\u001b[0m\u001b[0;34m\u001b[0m\u001b[0;34m\u001b[0m\u001b[0m\n\u001b[1;32m     86\u001b[0m         \u001b[0mpack_exception\u001b[0m\u001b[0;34m=\u001b[0m\u001b[0mpack_exception\u001b[0m\u001b[0;34m,\u001b[0m\u001b[0;34m\u001b[0m\u001b[0;34m\u001b[0m\u001b[0m\n\u001b[0;32m---> 87\u001b[0;31m         \u001b[0;34m**\u001b[0m\u001b[0mkwargs\u001b[0m\u001b[0;34m,\u001b[0m\u001b[0;34m\u001b[0m\u001b[0;34m\u001b[0m\u001b[0m\n\u001b[0m\u001b[1;32m     88\u001b[0m     )\n\u001b[1;32m     89\u001b[0m \u001b[0;34m\u001b[0m\u001b[0m\n",
      "\u001b[0;32m~/miniconda3/envs/eureca/lib/python3.7/site-packages/dask/local.py\u001b[0m in \u001b[0;36mget_async\u001b[0;34m(submit, num_workers, dsk, result, cache, get_id, rerun_exceptions_locally, pack_exception, raise_exception, callbacks, dumps, loads, chunksize, **kwargs)\u001b[0m\n\u001b[1;32m    494\u001b[0m             \u001b[0;32mwhile\u001b[0m \u001b[0mstate\u001b[0m\u001b[0;34m[\u001b[0m\u001b[0;34m\"waiting\"\u001b[0m\u001b[0;34m]\u001b[0m \u001b[0;32mor\u001b[0m \u001b[0mstate\u001b[0m\u001b[0;34m[\u001b[0m\u001b[0;34m\"ready\"\u001b[0m\u001b[0;34m]\u001b[0m \u001b[0;32mor\u001b[0m \u001b[0mstate\u001b[0m\u001b[0;34m[\u001b[0m\u001b[0;34m\"running\"\u001b[0m\u001b[0;34m]\u001b[0m\u001b[0;34m:\u001b[0m\u001b[0;34m\u001b[0m\u001b[0;34m\u001b[0m\u001b[0m\n\u001b[1;32m    495\u001b[0m                 \u001b[0mfire_tasks\u001b[0m\u001b[0;34m(\u001b[0m\u001b[0mchunksize\u001b[0m\u001b[0;34m)\u001b[0m\u001b[0;34m\u001b[0m\u001b[0;34m\u001b[0m\u001b[0m\n\u001b[0;32m--> 496\u001b[0;31m                 \u001b[0;32mfor\u001b[0m \u001b[0mkey\u001b[0m\u001b[0;34m,\u001b[0m \u001b[0mres_info\u001b[0m\u001b[0;34m,\u001b[0m \u001b[0mfailed\u001b[0m \u001b[0;32min\u001b[0m \u001b[0mqueue_get\u001b[0m\u001b[0;34m(\u001b[0m\u001b[0mqueue\u001b[0m\u001b[0;34m)\u001b[0m\u001b[0;34m.\u001b[0m\u001b[0mresult\u001b[0m\u001b[0;34m(\u001b[0m\u001b[0;34m)\u001b[0m\u001b[0;34m:\u001b[0m\u001b[0;34m\u001b[0m\u001b[0;34m\u001b[0m\u001b[0m\n\u001b[0m\u001b[1;32m    497\u001b[0m                     \u001b[0;32mif\u001b[0m \u001b[0mfailed\u001b[0m\u001b[0;34m:\u001b[0m\u001b[0;34m\u001b[0m\u001b[0;34m\u001b[0m\u001b[0m\n\u001b[1;32m    498\u001b[0m                         \u001b[0mexc\u001b[0m\u001b[0;34m,\u001b[0m \u001b[0mtb\u001b[0m \u001b[0;34m=\u001b[0m \u001b[0mloads\u001b[0m\u001b[0;34m(\u001b[0m\u001b[0mres_info\u001b[0m\u001b[0;34m)\u001b[0m\u001b[0;34m\u001b[0m\u001b[0;34m\u001b[0m\u001b[0m\n",
      "\u001b[0;32m~/miniconda3/envs/eureca/lib/python3.7/site-packages/dask/local.py\u001b[0m in \u001b[0;36mqueue_get\u001b[0;34m(q)\u001b[0m\n\u001b[1;32m    132\u001b[0m \u001b[0;34m\u001b[0m\u001b[0m\n\u001b[1;32m    133\u001b[0m     \u001b[0;32mdef\u001b[0m \u001b[0mqueue_get\u001b[0m\u001b[0;34m(\u001b[0m\u001b[0mq\u001b[0m\u001b[0;34m)\u001b[0m\u001b[0;34m:\u001b[0m\u001b[0;34m\u001b[0m\u001b[0;34m\u001b[0m\u001b[0m\n\u001b[0;32m--> 134\u001b[0;31m         \u001b[0;32mreturn\u001b[0m \u001b[0mq\u001b[0m\u001b[0;34m.\u001b[0m\u001b[0mget\u001b[0m\u001b[0;34m(\u001b[0m\u001b[0;34m)\u001b[0m\u001b[0;34m\u001b[0m\u001b[0;34m\u001b[0m\u001b[0m\n\u001b[0m\u001b[1;32m    135\u001b[0m \u001b[0;34m\u001b[0m\u001b[0m\n\u001b[1;32m    136\u001b[0m \u001b[0;34m\u001b[0m\u001b[0m\n",
      "\u001b[0;32m~/miniconda3/envs/eureca/lib/python3.7/queue.py\u001b[0m in \u001b[0;36mget\u001b[0;34m(self, block, timeout)\u001b[0m\n\u001b[1;32m    168\u001b[0m             \u001b[0;32melif\u001b[0m \u001b[0mtimeout\u001b[0m \u001b[0;32mis\u001b[0m \u001b[0;32mNone\u001b[0m\u001b[0;34m:\u001b[0m\u001b[0;34m\u001b[0m\u001b[0;34m\u001b[0m\u001b[0m\n\u001b[1;32m    169\u001b[0m                 \u001b[0;32mwhile\u001b[0m \u001b[0;32mnot\u001b[0m \u001b[0mself\u001b[0m\u001b[0;34m.\u001b[0m\u001b[0m_qsize\u001b[0m\u001b[0;34m(\u001b[0m\u001b[0;34m)\u001b[0m\u001b[0;34m:\u001b[0m\u001b[0;34m\u001b[0m\u001b[0;34m\u001b[0m\u001b[0m\n\u001b[0;32m--> 170\u001b[0;31m                     \u001b[0mself\u001b[0m\u001b[0;34m.\u001b[0m\u001b[0mnot_empty\u001b[0m\u001b[0;34m.\u001b[0m\u001b[0mwait\u001b[0m\u001b[0;34m(\u001b[0m\u001b[0;34m)\u001b[0m\u001b[0;34m\u001b[0m\u001b[0;34m\u001b[0m\u001b[0m\n\u001b[0m\u001b[1;32m    171\u001b[0m             \u001b[0;32melif\u001b[0m \u001b[0mtimeout\u001b[0m \u001b[0;34m<\u001b[0m \u001b[0;36m0\u001b[0m\u001b[0;34m:\u001b[0m\u001b[0;34m\u001b[0m\u001b[0;34m\u001b[0m\u001b[0m\n\u001b[1;32m    172\u001b[0m                 \u001b[0;32mraise\u001b[0m \u001b[0mValueError\u001b[0m\u001b[0;34m(\u001b[0m\u001b[0;34m\"'timeout' must be a non-negative number\"\u001b[0m\u001b[0;34m)\u001b[0m\u001b[0;34m\u001b[0m\u001b[0;34m\u001b[0m\u001b[0m\n",
      "\u001b[0;32m~/miniconda3/envs/eureca/lib/python3.7/threading.py\u001b[0m in \u001b[0;36mwait\u001b[0;34m(self, timeout)\u001b[0m\n\u001b[1;32m    294\u001b[0m         \u001b[0;32mtry\u001b[0m\u001b[0;34m:\u001b[0m    \u001b[0;31m# restore state no matter what (e.g., KeyboardInterrupt)\u001b[0m\u001b[0;34m\u001b[0m\u001b[0;34m\u001b[0m\u001b[0m\n\u001b[1;32m    295\u001b[0m             \u001b[0;32mif\u001b[0m \u001b[0mtimeout\u001b[0m \u001b[0;32mis\u001b[0m \u001b[0;32mNone\u001b[0m\u001b[0;34m:\u001b[0m\u001b[0;34m\u001b[0m\u001b[0;34m\u001b[0m\u001b[0m\n\u001b[0;32m--> 296\u001b[0;31m                 \u001b[0mwaiter\u001b[0m\u001b[0;34m.\u001b[0m\u001b[0macquire\u001b[0m\u001b[0;34m(\u001b[0m\u001b[0;34m)\u001b[0m\u001b[0;34m\u001b[0m\u001b[0;34m\u001b[0m\u001b[0m\n\u001b[0m\u001b[1;32m    297\u001b[0m                 \u001b[0mgotit\u001b[0m \u001b[0;34m=\u001b[0m \u001b[0;32mTrue\u001b[0m\u001b[0;34m\u001b[0m\u001b[0;34m\u001b[0m\u001b[0m\n\u001b[1;32m    298\u001b[0m             \u001b[0;32melse\u001b[0m\u001b[0;34m:\u001b[0m\u001b[0;34m\u001b[0m\u001b[0;34m\u001b[0m\u001b[0m\n",
      "\u001b[0;31mKeyboardInterrupt\u001b[0m: "
     ]
    }
   ],
   "source": [
    "# read QVAPOR DAY from hourly wrfout\n",
    "# QVAPOR_day = ds['QVAPOR'][:,:50].groupby('XTIME.day').mean().values*seamask\n",
    "QVAPOR_day = ds['QVAPOR'].groupby('XTIME.day').mean().values*seamask"
   ]
  },
  {
   "cell_type": "code",
   "execution_count": null,
   "metadata": {},
   "outputs": [],
   "source": [
    "# compute anomalies daily data\n",
    "s = 50\n",
    "dQVAPOR_day = np.zeros(QVAPOR_day.shape)\n",
    "for t in range(0,QVAPOR_day.shape[0]):\n",
    "    if t % 10 == 0:\n",
    "        print(t)\n",
    "    # upscale using gaussian filter\n",
    "    for h in range(0,QVAPOR_day.shape[1]):\n",
    "        q_ave = gm.nan_gaussian_filter(QVAPOR_day[t,h],s)*seamask\n",
    "        dQVAPOR_day[t,h] = QVAPOR_day[t,h] - q_ave"
   ]
  },
  {
   "cell_type": "code",
   "execution_count": 21,
   "metadata": {},
   "outputs": [],
   "source": [
    "# # DISTRIBUTION QVAPOR vs SST bin - DAILY\n",
    "# perc_step = 5\n",
    "# nbins = int(100/perc_step) # Number of bins.\n",
    "# pdist_qvapor_sst_day = np.zeros((QVAPOR_day.shape[1],nbins))\n",
    "# pstd_qvapor_sst_day = np.zeros((QVAPOR_day.shape[1],nbins))\n",
    "# x = sst_day.copy()\n",
    "# control = x.reshape(-1)\n",
    "# for h in range(0,QVAPOR_day.shape[1]):\n",
    "#     if h % 10 == 0:\n",
    "#         print(h)    \n",
    "#     y = QVAPOR_day[:,h,:,:].copy()\n",
    "#     variable = y.reshape(-1)\n",
    "#     ##### Perc bin distribution\n",
    "#     pdist_sst_day, pdist_qvapor_sst_day[h], pstd_qvapor_sst_day[h], pstderr = perc_distribution(control, variable, nbins, perc_step)"
   ]
  },
  {
   "cell_type": "code",
   "execution_count": 22,
   "metadata": {},
   "outputs": [],
   "source": [
    "# # figure QVAPOR vs SST bin - DAILY\n",
    "# fig = plt.figure(figsize=(10, 5))\n",
    "# plt.pcolormesh(pdist_sst_day-273.15, GP[:33], pdist_qvapor_sst_day*1000., cmap='jet')\n",
    "# plt.gca().invert_yaxis()\n",
    "# plt.xlabel('SST [˚C]'); plt.ylabel('P [hPa]')\n",
    "# cbar = plt.colorbar();  cbar.set_label('QVAPOR [g kg-1]')"
   ]
  },
  {
   "cell_type": "code",
   "execution_count": 19,
   "metadata": {},
   "outputs": [],
   "source": [
    "# path_bindist = '/home/matteo/Eureca/COARE35/Results/acquistapace_bindist/perc_dist/daily/'\n",
    "# np.savetxt(path_bindist + 'pdist_QVAPOR_sst_day.txt', pdist_qvapor_sst_day)\n",
    "# np.savetxt(path_bindist + 'pstd_QVAPOR_sst_day.txt', pstd_qvapor_sst_day)"
   ]
  },
  {
   "cell_type": "code",
   "execution_count": 12,
   "metadata": {},
   "outputs": [],
   "source": [
    "L = 30\n",
    "nskip = int(L/3)\n",
    "nt = int(1)\n",
    "# from top pbl upwards\n",
    "Ltop = 150\n",
    "nskiptop = int(Ltop/3)\n",
    "nttop = int(1)\n",
    "# ref mean\n",
    "popmean = 0."
   ]
  },
  {
   "cell_type": "code",
   "execution_count": null,
   "metadata": {},
   "outputs": [],
   "source": [
    "# PERC DISTRIBUTION dQVAPOR vs dSST bin - DAILY + PVALUE SUBSAMPLED height dependent\n",
    "perc_step = 5\n",
    "nbins = int(100/perc_step) # Number of bins.\n",
    "pdist_dQVAPOR_day = np.zeros((dQVAPOR_day.shape[1],nbins))\n",
    "pstd_dQVAPOR_day = np.zeros((dQVAPOR_day.shape[1],nbins))\n",
    "pstderr_dQVAPOR_day = np.zeros((dQVAPOR_day.shape[1],nbins))\n",
    "pvalue_dQVAPOR_day = np.zeros((dQVAPOR_day.shape[1],nbins))\n",
    "for h in range(0,dQVAPOR_day.shape[1]):\n",
    "    if h % 10 == 0:\n",
    "        print(h)    \n",
    "    x = dsst_day.copy(); control = x.reshape(-1)\n",
    "    y = dQVAPOR_day[:,h].copy(); variable = y.reshape(-1)\n",
    "    ##### Perc bin distribution: pvalue\n",
    "    pdist_dsst_day, pdist_dQVAPOR_day[h], pstd_dQVAPOR_day[h], pstderr_dQVAPOR_day[h], pv = perc_distribution_pvalue(control, variable, nbins, perc_step, popmean)\n",
    "    ##### Perc bin distribution: pvalue subsampled on Lcorr\n",
    "    if h <= 27:\n",
    "        x = dsst_day[::nt,::nskip,::nskip].copy(); control = x.reshape(-1)\n",
    "        y = dQVAPOR_day[::nt,h,::nskip,::nskip].copy(); variable = y.reshape(-1)\n",
    "    else:\n",
    "        x = dsst_day[::nttop,::nskiptop,::nskiptop].copy(); control = x.reshape(-1)\n",
    "        y = dQVAPOR_day[::nttop,h,::nskiptop,::nskiptop].copy(); variable = y.reshape(-1)\n",
    "    pdist_control, pdist, pstd, pstderr, pvalue_dQVAPOR_day[h] = perc_distribution_pvalue(control, variable, nbins, perc_step, popmean)"
   ]
  },
  {
   "cell_type": "code",
   "execution_count": null,
   "metadata": {},
   "outputs": [],
   "source": [
    "# path_bindist = '/home/matteo/Eureca/COARE35/Results/acquistapace_bindist/perc_dist/daily/anomalies/'\n",
    "# np.savetxt(path_bindist + 'pdist_dQVAPOR_dsst_day.txt', pdist_dQVAPOR_day)\n",
    "# np.savetxt(path_bindist + 'pstd_dQVAPOR_dsst_day.txt', pstd_dQVAPOR_day)\n",
    "# np.savetxt(path_bindist + 'pstderr_dQVAPOR_dsst_day.txt', pstderr_dQVAPOR_day)\n",
    "path_bindist = '/home/matteo/Eureca/COARE35/Results/acquistapace_bindist/perc_dist/daily/anomalies/subsampled_pvalue_Lcorr/'\n",
    "np.savetxt(path_bindist + 'pvalue_dQVAPOR_dsst_day_Lcorr30km-150km.txt', pvalue_dQVAPOR_day)"
   ]
  },
  {
   "cell_type": "code",
   "execution_count": 13,
   "metadata": {},
   "outputs": [],
   "source": [
    "# popmean = 0.\n",
    "# scra = dQVAPOR_day[::nt,0,::nskip,::nskip].copy()\n",
    "# dof = (scra.shape[0]*scra.shape[1]*scra.shape[2])-1"
   ]
  },
  {
   "cell_type": "code",
   "execution_count": 14,
   "metadata": {},
   "outputs": [
    {
     "name": "stdout",
     "output_type": "stream",
     "text": [
      "0\n",
      "10\n",
      "20\n",
      "30\n",
      "40\n",
      "50\n",
      "60\n",
      "70\n"
     ]
    }
   ],
   "source": [
    "# # DISTRIBUTION dQVAPOR vs dSST bin - DAILY\n",
    "# popmean = 0.\n",
    "# perc_step = 5\n",
    "# nbins = int(100/perc_step) # Number of bins.\n",
    "# pdist_dqvapor_dsst_day = np.zeros((dQVAPOR_day.shape[1],nbins))\n",
    "# pstd_dqvapor_dsst_day = np.zeros((dQVAPOR_day.shape[1],nbins))\n",
    "# pstderr_dqvapor_dsst_day = np.zeros((dQVAPOR_day.shape[1],nbins))\n",
    "# pvalue_dqvapor_dsst_day = np.zeros((dQVAPOR_day.shape[1],nbins))\n",
    "# x = dsst_day.copy()\n",
    "# control = x.reshape(-1)\n",
    "# for h in range(0,dQVAPOR_day.shape[1]):\n",
    "#     if h % 10 == 0:\n",
    "#         print(h)    \n",
    "#     y = dQVAPOR_day[:,h].copy()*1000.\n",
    "#     variable = y.reshape(-1)\n",
    "#     ##### Perc bin distribution: \n",
    "# #     pdist_dsst_day, pdist_dqvapor_dsst_day[h], pstd_dqvapor_dsst_day[h], pstderr_dqvapor_dsst_day[h], pvalue_dqvapor_dsst_day[h] = perc_distribution_pvalue(control, variable, nbins, perc_step, popmean)\n",
    "#     ##### Perc bin distribution: pvalue on dof based on correlation time and length\n",
    "#     pdist_dsst_day, pdist_dqvapor_dsst_day[h], pstd_dqvapor_dsst_day[h], pstderr_dqvapor_dsst_day[h], pvalue_dqvapor_dsst_day[h] = perc_distribution_pvalue_dof(control, variable, nbins, perc_step, popmean, dof)"
   ]
  },
  {
   "cell_type": "code",
   "execution_count": 16,
   "metadata": {},
   "outputs": [
    {
     "data": {
      "image/png": "[encoded data removed]",
      "text/plain": [
       "<Figure size 1000x500 with 2 Axes>"
      ]
     },
     "metadata": {},
     "output_type": "display_data"
    }
   ],
   "source": [
    "# figure dQVAPOR vs dSST bin - DAILY\n",
    "fig = plt.figure(figsize=(10, 5))\n",
    "plt.pcolormesh(pdist_dsst_day, GP, pdist_dqvapor_dsst_day, vmin=-0.1, vmax=0.1, cmap='seismic')\n",
    "plt.gca().invert_yaxis()\n",
    "plt.xlabel('SST anomalies [˚C]'); plt.ylabel('P [hPa]')\n",
    "cbar = plt.colorbar();  cbar.set_label('QVAPOR anomalies [g kg-1]')"
   ]
  },
  {
   "cell_type": "code",
   "execution_count": 15,
   "metadata": {},
   "outputs": [],
   "source": [
    "# path_bindist = '/home/matteo/Eureca/COARE35/Results/acquistapace_bindist/perc_dist/daily/anomalies/pvalue_Lcorr/'\n",
    "# np.savetxt(path_bindist + 'pdist_dQVAPOR_dsst_day_Lcorr30km.txt', pdist_dqvapor_dsst_day)\n",
    "# np.savetxt(path_bindist + 'pstd_dQVAPOR_dsst_day_Lcorr30km.txt', pstd_dqvapor_dsst_day)\n",
    "# np.savetxt(path_bindist + 'pstderr_dQVAPOR_dsst_day_Lcorr30km.txt', pstderr_dqvapor_dsst_day)\n",
    "# np.savetxt(path_bindist + 'pvalue_dQVAPOR_dsst_day_Lcorr30km.txt', pvalue_dqvapor_dsst_day)"
   ]
  },
  {
   "cell_type": "code",
   "execution_count": 18,
   "metadata": {},
   "outputs": [
    {
     "data": {
      "image/png": "[encoded data removed]",
      "text/plain": [
       "<Figure size 1000x500 with 2 Axes>"
      ]
     },
     "metadata": {},
     "output_type": "display_data"
    }
   ],
   "source": [
    "# figure dQVAPOR vs dSST bin - DAILY\n",
    "fig = plt.figure(figsize=(10, 5))\n",
    "plt.pcolormesh(pdist_dsst_day, GP, pdist_dqvapor_dsst_day, vmin=-0.1, vmax=0.1, cmap='seismic')\n",
    "plt.gca().invert_yaxis()\n",
    "plt.xlabel('SST anomalies [˚C]'); plt.ylabel('P [hPa]')\n",
    "cbar = plt.colorbar();  cbar.set_label('QVAPOR anomalies [g kg-1]')"
   ]
  },
  {
   "cell_type": "code",
   "execution_count": 33,
   "metadata": {},
   "outputs": [],
   "source": [
    "# # figure dQVAPOR vs dSST bin - DAILY\n",
    "# fig = plt.figure(figsize=(10, 5))\n",
    "# plt.pcolormesh(pdist_dsst_day, GP[:33], pdist_dqvapor_dsst_day/pstd_dqvapor_dsst_day*100, vmin=-30, vmax=30, cmap='seismic')\n",
    "# plt.gca().invert_yaxis()\n",
    "# plt.xlabel('SST  anomalies[˚C]'); plt.ylabel('P [hPa]')\n",
    "# cbar = plt.colorbar();  cbar.set_label('QVAPOR anomalies/ std QVAPOR anomalies [%]')\n",
    "# # aggiungi PBLH o per bin SST o come linea"
   ]
  },
  {
   "cell_type": "code",
   "execution_count": 17,
   "metadata": {},
   "outputs": [],
   "source": [
    "# path_bindist = '/home/matteo/Eureca/COARE35/Results/acquistapace_bindist/perc_dist/daily/anomalies/'\n",
    "# np.savetxt(path_bindist + 'pdist_dQVAPOR_dsst_day.txt', pdist_dqvapor_dsst_day)\n",
    "# np.savetxt(path_bindist + 'pstd_dQVAPOR_dsst_day.txt', pstd_dqvapor_dsst_day)\n",
    "# np.savetxt(path_bindist + 'pstderr_dQVAPOR_dsst_day.txt', pstderr_dqvapor_dsst_day)\n",
    "# np.savetxt(path_bindist + 'pvalue_dQVAPOR_dsst_day.txt', pvalue_dqvapor_dsst_day)"
   ]
  },
  {
   "cell_type": "code",
   "execution_count": 20,
   "metadata": {},
   "outputs": [],
   "source": [
    "del QVAPOR_day, dQVAPOR_day"
   ]
  },
  {
   "cell_type": "code",
   "execution_count": null,
   "metadata": {},
   "outputs": [],
   "source": []
  },
  {
   "cell_type": "code",
   "execution_count": null,
   "metadata": {},
   "outputs": [],
   "source": [
    "L = 30\n",
    "nskip = int(L/3)\n",
    "nt = int(1)\n",
    "# from top pbl upwards\n",
    "Ltop = 150\n",
    "nskiptop = int(Ltop/3)\n",
    "nttop = int(1)\n",
    "# ref mean\n",
    "popmean = 0."
   ]
  },
  {
   "cell_type": "code",
   "execution_count": null,
   "metadata": {},
   "outputs": [],
   "source": [
    "# FB DISTRIBUTION dQVAPOR vs dSST bin - DAILY + PVALUE subsampled\n",
    "perc_step = 5\n",
    "nbins = int(100/perc_step) # Number of bins.\n",
    "dist_dQVAPOR_day = np.zeros((dQVAPOR_day.shape[1],nbins))\n",
    "npoint_dQVAPOR_day = np.zeros((dQVAPOR_day.shape[1],nbins))\n",
    "stderr_dQVAPOR_day = np.zeros((dQVAPOR_day.shape[1],nbins))\n",
    "pvalue_dQVAPOR_day = np.zeros((dQVAPOR_day.shape[1],nbins))\n",
    "for h in range(0,dQVAPOR_day.shape[1]):\n",
    "    if h % 10 == 0:\n",
    "        print(h)   \n",
    "    x = dsst_day.copy(); control = x.reshape(-1)\n",
    "    y = dQVAPOR_day[:,h].copy(); variable = y.reshape(-1)\n",
    "    ##### Fixed bin distribution: \n",
    "    dist_dsst_day, dist_dQVAPOR_day[h], stderr_dQVAPOR_day[h], npoint_dQVAPOR_day[h], pv = fb_distribution_npoint_pvalue(control, variable, nbins, perc_step, popmean)\n",
    "    ##### Fixed bin distribution: pvalue on subsampled field\n",
    "    if h <= 27:\n",
    "        x = dsst_day[::nt,::nskip,::nskip].copy(); control = x.reshape(-1)\n",
    "        y = dQVAPOR_day[::nt,h,::nskip,::nskip].copy(); variable = y.reshape(-1)\n",
    "    else:\n",
    "        x = dsst_day[::nttop,::nskiptop,::nskiptop].copy(); control = x.reshape(-1)\n",
    "        y = dQVAPOR_day[::nttop,h,::nskiptop,::nskiptop].copy(); variable = y.reshape(-1)\n",
    "    dist_control, dist, stderr, npoint, pvalue_dQVAPOR_day[h] = fb_distribution_npoint_pvalue(control, variable, nbins, perc_step, popmean)"
   ]
  },
  {
   "cell_type": "code",
   "execution_count": null,
   "metadata": {},
   "outputs": [],
   "source": [
    "path_bindist = '/home/matteo/Eureca/COARE35/Results/acquistapace_bindist/fb_dist/daily/anomalies/'\n",
    "np.savetxt(path_bindist + 'dist_dsst_day.txt', dist_dsst_day)\n",
    "np.savetxt(path_bindist + 'dist_dQVAPOR_dsst_day.txt', dist_dQVAPOR_day)\n",
    "np.savetxt(path_bindist + 'npoint_dQVAPOR_dsst_day.txt', npoint_dQVAPOR_day)\n",
    "np.savetxt(path_bindist + 'stderr_dQVAPOR_dsst_day.txt', stderr_dQVAPOR_day)\n",
    "path_bindist = '/home/matteo/Eureca/COARE35/Results/acquistapace_bindist/fb_dist/daily/anomalies/subsampled_pvalue_Lcorr/'\n",
    "np.savetxt(path_bindist + 'pvalue_dQVAPOR_dsst_day_Lcorr30km-150km.txt', pvalue_dQVAPOR_day)"
   ]
  },
  {
   "cell_type": "code",
   "execution_count": null,
   "metadata": {},
   "outputs": [],
   "source": []
  },
  {
   "cell_type": "code",
   "execution_count": null,
   "metadata": {},
   "outputs": [],
   "source": [
    "# HOURLY tutto da rifare!!!!"
   ]
  },
  {
   "cell_type": "code",
   "execution_count": null,
   "metadata": {},
   "outputs": [],
   "source": [
    "# HOURLY "
   ]
  },
  {
   "cell_type": "code",
   "execution_count": 13,
   "metadata": {},
   "outputs": [],
   "source": [
    "# read QVAPOR anomalies\n",
    "path_dir = '/media/fabien/DAGOBAH1/WRF_EUREC4A/CNT/FEB/01_var_33levels/anomalies/'\n",
    "qv_files = path_dir + 'QVAPOR_anomalies_150km_d02_2020-02-'\n",
    "qv_list = sorted(glob.glob(qv_files + '*'))\n",
    "ds_tmp = xr.open_mfdataset(qv_list, concat_dim='XTIME', combine='nested')"
   ]
  },
  {
   "cell_type": "code",
   "execution_count": 14,
   "metadata": {},
   "outputs": [],
   "source": [
    "maskl_lon = (ds_tmp.XLONG >= minlon) & (ds_tmp.XLONG <= maxlon)\n",
    "maskl_lat = (ds_tmp.XLAT >= minlat) & (ds_tmp.XLAT <= maxlat)\n",
    "ds_q = ds_tmp.where(maskl_lon & maskl_lat, drop=True)"
   ]
  },
  {
   "cell_type": "code",
   "execution_count": 15,
   "metadata": {},
   "outputs": [],
   "source": [
    "dQVAPOR = ds_q['QVAPOR'].values*seamask"
   ]
  },
  {
   "cell_type": "code",
   "execution_count": null,
   "metadata": {},
   "outputs": [],
   "source": [
    "# DISTRIBUTION dQVAPOR vs dSST bin - HOURLY\n",
    "str_control = 'SST'; str_variable = \"QVAPOR\"\n",
    "perc_step = 5\n",
    "nbins = int(100/perc_step) # Number of bins.\n",
    "theshold_n = 100\n",
    "dist_dqvapor_dsst = np.zeros((dQVAPOR.shape[1],nbins))\n",
    "npoint_dqvapor_dsst = np.zeros((dQVAPOR.shape[1],nbins))\n",
    "x = dsst.copy()\n",
    "control = dsst.reshape(-1)\n",
    "for h in range(0,dQVAPOR.shape[1]):\n",
    "    y = dQVAPOR[:,h,:,:].copy()\n",
    "    variable = y.reshape(-1)\n",
    "    ##### Fixed bin distribution: fb\n",
    "    dist_dsst, dist_dqvapor_dsst[h], std_err, npoint_dqvapor_dsst[h] = fb_distribution_mod(control, variable, nbins, theshold_n, perc_step)"
   ]
  },
  {
   "cell_type": "code",
   "execution_count": null,
   "metadata": {},
   "outputs": [],
   "source": [
    "# figure dQVAPOR vs dSST bin - HOURLY\n",
    "fig = plt.figure(figsize=(10, 5))\n",
    "plt.pcolormesh(dist_dsst, GP[:33], dist_dqvapor_dsst*1000., vmin=-0.6, vmax=0.6, cmap='seismic')\n",
    "plt.gca().invert_yaxis()\n",
    "plt.xlabel('SST anomalies [˚C]'); plt.ylabel('P [hPa]')\n",
    "cbar = plt.colorbar();  cbar.set_label('QVAPOR anomalies [g kg-1]')"
   ]
  },
  {
   "cell_type": "code",
   "execution_count": null,
   "metadata": {},
   "outputs": [],
   "source": [
    "path_bindist = '/home/matteo/Eureca/COARE35/Results/acquistapace_bindist/'\n",
    "np.savetxt(path_bindist + 'dist_dsst.txt', dist_dsst)\n",
    "np.savetxt(path_bindist + 'dist_dQVAPOR_dsst.txt', dist_dqvapor_dsst)\n",
    "np.savetxt(path_bindist + 'npoint_dQVAPOR_dsst.txt', npoint_dqvapor_dsst)"
   ]
  },
  {
   "cell_type": "code",
   "execution_count": 16,
   "metadata": {},
   "outputs": [],
   "source": [
    "# DISTRIBUTION dQVAPOR vs SST bin - HOURLY\n",
    "str_control = 'SST'; str_variable = \"QVAPOR\"\n",
    "perc_step = 5\n",
    "nbins = int(100/perc_step) # Number of bins.\n",
    "theshold_n = 100\n",
    "dist_dqvapor_sst = np.zeros((dQVAPOR.shape[1],nbins))\n",
    "npoint_dqvapor_sst = np.zeros((dQVAPOR.shape[1],nbins))\n",
    "x = sst.copy()\n",
    "control = x.reshape(-1)\n",
    "for h in range(0,dQVAPOR.shape[1]):\n",
    "    y = dQVAPOR[:,h,:,:].copy()\n",
    "    variable = y.reshape(-1)\n",
    "    ##### Fixed bin distribution: fb\n",
    "    dist_sst, dist_dqvapor_sst[h], std_err, npoint_dqvapor_sst[h] = fb_distribution_mod(control, variable, nbins, theshold_n, perc_step)"
   ]
  },
  {
   "cell_type": "code",
   "execution_count": 19,
   "metadata": {},
   "outputs": [
    {
     "data": {
      "image/png": "[encoded data removed]",
      "text/plain": [
       "<Figure size 1000x500 with 2 Axes>"
      ]
     },
     "metadata": {},
     "output_type": "display_data"
    }
   ],
   "source": [
    "# figure dQVAPOR vs SST bin - HOURLY\n",
    "fig = plt.figure(figsize=(10, 5))\n",
    "plt.pcolormesh(dist_sst-273.15, GP[:33], dist_dqvapor_sst*1000., vmin=-0.6, vmax=0.6, cmap='seismic')\n",
    "plt.gca().invert_yaxis()\n",
    "plt.xlabel('SST [˚C]'); plt.ylabel('P [hPa]')\n",
    "cbar = plt.colorbar();  cbar.set_label('QVAPOR anomalies [g kg-1]')"
   ]
  },
  {
   "cell_type": "code",
   "execution_count": 23,
   "metadata": {},
   "outputs": [],
   "source": [
    "path_bindist = '/home/matteo/Eureca/COARE35/Results/acquistapace_bindist/'\n",
    "np.savetxt(path_bindist + 'dist_sst.txt', dist_sst)\n",
    "np.savetxt(path_bindist + 'dist_dQVAPOR_sst.txt', dist_dqvapor_sst)\n",
    "np.savetxt(path_bindist + 'npoint_dQVAPOR_sst.txt', npoint_dqvapor_sst)"
   ]
  },
  {
   "cell_type": "code",
   "execution_count": null,
   "metadata": {},
   "outputs": [],
   "source": []
  },
  {
   "cell_type": "code",
   "execution_count": null,
   "metadata": {},
   "outputs": [],
   "source": []
  }
 ],
 "metadata": {
  "interpreter": {
   "hash": "6c158dc727e3f7af5cb4f82910b7b5790878aa8c7ec1ebd135cc0211776867c6"
  },
  "kernelspec": {
   "display_name": "Python 3 (ipykernel)",
   "language": "python",
   "name": "python3"
  },
  "language_info": {
   "codemirror_mode": {
    "name": "ipython",
    "version": 3
   },
   "file_extension": ".py",
   "mimetype": "text/x-python",
   "name": "python",
   "nbconvert_exporter": "python",
   "pygments_lexer": "ipython3",
   "version": "3.7.11"
  }
 },
 "nbformat": 4,
 "nbformat_minor": 2
}
